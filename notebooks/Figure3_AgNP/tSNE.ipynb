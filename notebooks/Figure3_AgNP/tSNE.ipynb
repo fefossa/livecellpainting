{
 "cells": [
  {
   "cell_type": "markdown",
   "metadata": {},
   "source": [
    "# AgNP - tSNE for data visualization"
   ]
  },
  {
   "cell_type": "code",
   "execution_count": 1,
   "metadata": {},
   "outputs": [
    {
     "name": "stderr",
     "output_type": "stream",
     "text": [
      "c:\\Users\\fefos\\miniconda3\\envs\\analysis\\lib\\site-packages\\umap\\distances.py:1063: NumbaDeprecationWarning: \u001b[1mThe 'nopython' keyword argument was not supplied to the 'numba.jit' decorator. The implicit default value for this argument is currently False, but it will be changed to True in Numba 0.59.0. See https://numba.readthedocs.io/en/stable/reference/deprecation.html#deprecation-of-object-mode-fall-back-behaviour-when-using-jit for details.\u001b[0m\n",
      "  @numba.jit()\n",
      "c:\\Users\\fefos\\miniconda3\\envs\\analysis\\lib\\site-packages\\umap\\distances.py:1071: NumbaDeprecationWarning: \u001b[1mThe 'nopython' keyword argument was not supplied to the 'numba.jit' decorator. The implicit default value for this argument is currently False, but it will be changed to True in Numba 0.59.0. See https://numba.readthedocs.io/en/stable/reference/deprecation.html#deprecation-of-object-mode-fall-back-behaviour-when-using-jit for details.\u001b[0m\n",
      "  @numba.jit()\n",
      "c:\\Users\\fefos\\miniconda3\\envs\\analysis\\lib\\site-packages\\umap\\distances.py:1086: NumbaDeprecationWarning: \u001b[1mThe 'nopython' keyword argument was not supplied to the 'numba.jit' decorator. The implicit default value for this argument is currently False, but it will be changed to True in Numba 0.59.0. See https://numba.readthedocs.io/en/stable/reference/deprecation.html#deprecation-of-object-mode-fall-back-behaviour-when-using-jit for details.\u001b[0m\n",
      "  @numba.jit()\n",
      "c:\\Users\\fefos\\miniconda3\\envs\\analysis\\lib\\site-packages\\umap\\umap_.py:660: NumbaDeprecationWarning: \u001b[1mThe 'nopython' keyword argument was not supplied to the 'numba.jit' decorator. The implicit default value for this argument is currently False, but it will be changed to True in Numba 0.59.0. See https://numba.readthedocs.io/en/stable/reference/deprecation.html#deprecation-of-object-mode-fall-back-behaviour-when-using-jit for details.\u001b[0m\n",
      "  @numba.jit()\n"
     ]
    }
   ],
   "source": [
    "import pandas as pd\n",
    "import numpy as np\n",
    "import matplotlib.pyplot as plt\n",
    "import plotly.express as px\n",
    "import pycytominer\n",
    "import easygui as eg\n",
    "import os \n",
    "import sys\n",
    "\n",
    "sys.path.append(r\"C:\\Users\\fefos\\Documents\\GitHub\")\n",
    "\n",
    "from umap import UMAP\n",
    "from scripts_notebooks_fossa.pycombat_umap import combat_util\n",
    "from combat.pycombat import pycombat\n",
    "\n",
    "%load_ext autoreload\n",
    "%autoreload 2\n",
    "\n",
    "import warnings\n",
    "warnings.filterwarnings('ignore')"
   ]
  },
  {
   "cell_type": "code",
   "execution_count": 2,
   "metadata": {},
   "outputs": [
    {
     "name": "stdout",
     "output_type": "stream",
     "text": [
      "Filename C:\\Users\\fefos\\OneDrive\\FernandaDoc_HD\\2022_09_09_LiveCellPainting_fossa_Cimini\\workspace\\profiles\\2021_10_08_AgNPViability\\2_FeatSelect_negconNonTrAndAgNP_pycombat.csv\n"
     ]
    },
    {
     "data": {
      "text/html": [
       "<div>\n",
       "<style scoped>\n",
       "    .dataframe tbody tr th:only-of-type {\n",
       "        vertical-align: middle;\n",
       "    }\n",
       "\n",
       "    .dataframe tbody tr th {\n",
       "        vertical-align: top;\n",
       "    }\n",
       "\n",
       "    .dataframe thead th {\n",
       "        text-align: right;\n",
       "    }\n",
       "</style>\n",
       "<table border=\"1\" class=\"dataframe\">\n",
       "  <thead>\n",
       "    <tr style=\"text-align: right;\">\n",
       "      <th></th>\n",
       "      <th>Unnamed: 0</th>\n",
       "      <th>Metadata_plate_map_name</th>\n",
       "      <th>Metadata_Compound</th>\n",
       "      <th>Metadata_NPSize_nm</th>\n",
       "      <th>Metadata_Concentration_mgml</th>\n",
       "      <th>Metadata_Concentration_uM</th>\n",
       "      <th>Metadata_Cell</th>\n",
       "      <th>Metadata_control_type</th>\n",
       "      <th>Metadata_Plate</th>\n",
       "      <th>Metadata_Well</th>\n",
       "      <th>...</th>\n",
       "      <th>Nuclei_Texture_Correlation_CorrPI_20_01_256</th>\n",
       "      <th>Nuclei_Texture_Correlation_CorrPI_20_02_256</th>\n",
       "      <th>Nuclei_Texture_Correlation_CorrPI_20_03_256</th>\n",
       "      <th>Nuclei_Texture_Correlation_CorrPI_5_00_256</th>\n",
       "      <th>Nuclei_Texture_Correlation_CorrPI_5_01_256</th>\n",
       "      <th>Nuclei_Texture_DifferenceVariance_CorrGFP_20_03_256</th>\n",
       "      <th>Nuclei_Texture_Entropy_CorrGFP_10_01_256</th>\n",
       "      <th>Nuclei_Texture_Entropy_CorrGFP_20_02_256</th>\n",
       "      <th>Nuclei_Texture_Entropy_CorrPI_20_01_256</th>\n",
       "      <th>Nuclei_Texture_SumVariance_CorrGFP_20_03_256</th>\n",
       "    </tr>\n",
       "  </thead>\n",
       "  <tbody>\n",
       "    <tr>\n",
       "      <th>0</th>\n",
       "      <td>0</td>\n",
       "      <td>platemap_agnp</td>\n",
       "      <td>DMSO</td>\n",
       "      <td>0.0</td>\n",
       "      <td>10.000000</td>\n",
       "      <td>10.0000</td>\n",
       "      <td>Huh7</td>\n",
       "      <td>NaN</td>\n",
       "      <td>211020_085918_Plate_1</td>\n",
       "      <td>B2</td>\n",
       "      <td>...</td>\n",
       "      <td>-3.040094</td>\n",
       "      <td>0.426281</td>\n",
       "      <td>-6.224937</td>\n",
       "      <td>0.289446</td>\n",
       "      <td>2.101180</td>\n",
       "      <td>0.200456</td>\n",
       "      <td>0.627755</td>\n",
       "      <td>0.430426</td>\n",
       "      <td>0.744437</td>\n",
       "      <td>2.539840</td>\n",
       "    </tr>\n",
       "    <tr>\n",
       "      <th>1</th>\n",
       "      <td>1</td>\n",
       "      <td>platemap_agnp</td>\n",
       "      <td>AgNP</td>\n",
       "      <td>40.0</td>\n",
       "      <td>0.000010</td>\n",
       "      <td>0.0011</td>\n",
       "      <td>Huh7</td>\n",
       "      <td>negcon</td>\n",
       "      <td>211020_085918_Plate_1</td>\n",
       "      <td>B3</td>\n",
       "      <td>...</td>\n",
       "      <td>0.869272</td>\n",
       "      <td>3.066179</td>\n",
       "      <td>-0.445715</td>\n",
       "      <td>0.446767</td>\n",
       "      <td>1.642236</td>\n",
       "      <td>-1.243979</td>\n",
       "      <td>1.826077</td>\n",
       "      <td>2.996182</td>\n",
       "      <td>2.609221</td>\n",
       "      <td>2.788302</td>\n",
       "    </tr>\n",
       "    <tr>\n",
       "      <th>2</th>\n",
       "      <td>2</td>\n",
       "      <td>platemap_agnp</td>\n",
       "      <td>AgNP</td>\n",
       "      <td>40.0</td>\n",
       "      <td>0.000020</td>\n",
       "      <td>0.0022</td>\n",
       "      <td>Huh7</td>\n",
       "      <td>NaN</td>\n",
       "      <td>211020_085918_Plate_1</td>\n",
       "      <td>B4</td>\n",
       "      <td>...</td>\n",
       "      <td>1.019367</td>\n",
       "      <td>1.997497</td>\n",
       "      <td>0.746693</td>\n",
       "      <td>0.264054</td>\n",
       "      <td>1.349547</td>\n",
       "      <td>-1.579239</td>\n",
       "      <td>2.273157</td>\n",
       "      <td>3.797980</td>\n",
       "      <td>3.264180</td>\n",
       "      <td>3.052398</td>\n",
       "    </tr>\n",
       "    <tr>\n",
       "      <th>3</th>\n",
       "      <td>3</td>\n",
       "      <td>platemap_agnp</td>\n",
       "      <td>AgNP</td>\n",
       "      <td>40.0</td>\n",
       "      <td>0.000039</td>\n",
       "      <td>0.0043</td>\n",
       "      <td>Huh7</td>\n",
       "      <td>NaN</td>\n",
       "      <td>211020_085918_Plate_1</td>\n",
       "      <td>B5</td>\n",
       "      <td>...</td>\n",
       "      <td>0.647957</td>\n",
       "      <td>3.605481</td>\n",
       "      <td>1.426029</td>\n",
       "      <td>1.156000</td>\n",
       "      <td>2.393404</td>\n",
       "      <td>-1.759080</td>\n",
       "      <td>2.593756</td>\n",
       "      <td>3.956161</td>\n",
       "      <td>3.335599</td>\n",
       "      <td>3.738272</td>\n",
       "    </tr>\n",
       "    <tr>\n",
       "      <th>4</th>\n",
       "      <td>4</td>\n",
       "      <td>platemap_agnp</td>\n",
       "      <td>AgNP</td>\n",
       "      <td>40.0</td>\n",
       "      <td>0.000078</td>\n",
       "      <td>0.0087</td>\n",
       "      <td>Huh7</td>\n",
       "      <td>NaN</td>\n",
       "      <td>211020_085918_Plate_1</td>\n",
       "      <td>B6</td>\n",
       "      <td>...</td>\n",
       "      <td>-0.405335</td>\n",
       "      <td>4.082781</td>\n",
       "      <td>0.301357</td>\n",
       "      <td>1.272607</td>\n",
       "      <td>2.796243</td>\n",
       "      <td>-1.876359</td>\n",
       "      <td>2.507920</td>\n",
       "      <td>3.833977</td>\n",
       "      <td>3.489078</td>\n",
       "      <td>2.735638</td>\n",
       "    </tr>\n",
       "  </tbody>\n",
       "</table>\n",
       "<p>5 rows × 354 columns</p>\n",
       "</div>"
      ],
      "text/plain": [
       "   Unnamed: 0 Metadata_plate_map_name Metadata_Compound  Metadata_NPSize_nm  \\\n",
       "0           0           platemap_agnp              DMSO                 0.0   \n",
       "1           1           platemap_agnp              AgNP                40.0   \n",
       "2           2           platemap_agnp              AgNP                40.0   \n",
       "3           3           platemap_agnp              AgNP                40.0   \n",
       "4           4           platemap_agnp              AgNP                40.0   \n",
       "\n",
       "   Metadata_Concentration_mgml  Metadata_Concentration_uM Metadata_Cell  \\\n",
       "0                    10.000000                    10.0000          Huh7   \n",
       "1                     0.000010                     0.0011          Huh7   \n",
       "2                     0.000020                     0.0022          Huh7   \n",
       "3                     0.000039                     0.0043          Huh7   \n",
       "4                     0.000078                     0.0087          Huh7   \n",
       "\n",
       "  Metadata_control_type         Metadata_Plate Metadata_Well  ...  \\\n",
       "0                   NaN  211020_085918_Plate_1            B2  ...   \n",
       "1                negcon  211020_085918_Plate_1            B3  ...   \n",
       "2                   NaN  211020_085918_Plate_1            B4  ...   \n",
       "3                   NaN  211020_085918_Plate_1            B5  ...   \n",
       "4                   NaN  211020_085918_Plate_1            B6  ...   \n",
       "\n",
       "   Nuclei_Texture_Correlation_CorrPI_20_01_256  \\\n",
       "0                                    -3.040094   \n",
       "1                                     0.869272   \n",
       "2                                     1.019367   \n",
       "3                                     0.647957   \n",
       "4                                    -0.405335   \n",
       "\n",
       "   Nuclei_Texture_Correlation_CorrPI_20_02_256  \\\n",
       "0                                     0.426281   \n",
       "1                                     3.066179   \n",
       "2                                     1.997497   \n",
       "3                                     3.605481   \n",
       "4                                     4.082781   \n",
       "\n",
       "  Nuclei_Texture_Correlation_CorrPI_20_03_256  \\\n",
       "0                                   -6.224937   \n",
       "1                                   -0.445715   \n",
       "2                                    0.746693   \n",
       "3                                    1.426029   \n",
       "4                                    0.301357   \n",
       "\n",
       "  Nuclei_Texture_Correlation_CorrPI_5_00_256  \\\n",
       "0                                   0.289446   \n",
       "1                                   0.446767   \n",
       "2                                   0.264054   \n",
       "3                                   1.156000   \n",
       "4                                   1.272607   \n",
       "\n",
       "  Nuclei_Texture_Correlation_CorrPI_5_01_256  \\\n",
       "0                                   2.101180   \n",
       "1                                   1.642236   \n",
       "2                                   1.349547   \n",
       "3                                   2.393404   \n",
       "4                                   2.796243   \n",
       "\n",
       "   Nuclei_Texture_DifferenceVariance_CorrGFP_20_03_256  \\\n",
       "0                                           0.200456     \n",
       "1                                          -1.243979     \n",
       "2                                          -1.579239     \n",
       "3                                          -1.759080     \n",
       "4                                          -1.876359     \n",
       "\n",
       "   Nuclei_Texture_Entropy_CorrGFP_10_01_256  \\\n",
       "0                                  0.627755   \n",
       "1                                  1.826077   \n",
       "2                                  2.273157   \n",
       "3                                  2.593756   \n",
       "4                                  2.507920   \n",
       "\n",
       "   Nuclei_Texture_Entropy_CorrGFP_20_02_256  \\\n",
       "0                                  0.430426   \n",
       "1                                  2.996182   \n",
       "2                                  3.797980   \n",
       "3                                  3.956161   \n",
       "4                                  3.833977   \n",
       "\n",
       "   Nuclei_Texture_Entropy_CorrPI_20_01_256  \\\n",
       "0                                 0.744437   \n",
       "1                                 2.609221   \n",
       "2                                 3.264180   \n",
       "3                                 3.335599   \n",
       "4                                 3.489078   \n",
       "\n",
       "   Nuclei_Texture_SumVariance_CorrGFP_20_03_256  \n",
       "0                                      2.539840  \n",
       "1                                      2.788302  \n",
       "2                                      3.052398  \n",
       "3                                      3.738272  \n",
       "4                                      2.735638  \n",
       "\n",
       "[5 rows x 354 columns]"
      ]
     },
     "execution_count": 2,
     "metadata": {},
     "output_type": "execute_result"
    }
   ],
   "source": [
    "# myfile = eg.fileopenbox(msg=\"Choose a file\", default=r\"F:\")\n",
    "myfile = r\"C:\\Users\\fefos\\OneDrive\\FernandaDoc_HD\\2022_09_09_LiveCellPainting_fossa_Cimini\\workspace\\profiles\\2021_10_08_AgNPViability\\2_FeatSelect_negconNonTrAndAgNP_pycombat.csv\"\n",
    "print('Filename', myfile)\n",
    "df = pd.read_csv(myfile)\n",
    "df.head()"
   ]
  },
  {
   "cell_type": "code",
   "execution_count": 3,
   "metadata": {},
   "outputs": [],
   "source": [
    "n_neighbors_input = 15\n",
    "min_dist_input = 0.5\n",
    "metric = 'cosine'\n",
    "hover_list = ['Metadata_Plate','Metadata_Well', 'Metadata_Compound', 'Metadata_NPSize_nm', 'Metadata_Concentration_uM']\n",
    "number_of_iterations=100"
   ]
  },
  {
   "cell_type": "code",
   "execution_count": 4,
   "metadata": {},
   "outputs": [
    {
     "name": "stdout",
     "output_type": "stream",
     "text": [
      "NPSize_nm\n",
      "Names of the compounds + concentration:  ['DMSO 0.0' 'AgNP 40.0' 'Non-treated 0.0' 'AgNP 100.0']\n"
     ]
    }
   ],
   "source": [
    "cols_to_join = [\"Metadata_Compound\", \"Metadata_NPSize_nm\"]\n",
    "df, new_col = combat_util.col_generator(df, cols_to_join = cols_to_join)\n",
    "\n",
    "# #just remove the 0 for the non-treated wells\n",
    "# df[new_col] = df[new_col].str.replace(r' 0', ' 20', regex=True)\n",
    "# df[new_col].unique()"
   ]
  },
  {
   "cell_type": "code",
   "execution_count": 5,
   "metadata": {},
   "outputs": [],
   "source": [
    "df_40 = df[df['Metadata_NPSize_nm']==40.0].reset_index(drop=True)"
   ]
  },
  {
   "cell_type": "code",
   "execution_count": 6,
   "metadata": {},
   "outputs": [],
   "source": [
    "df_100 = df[df['Metadata_NPSize_nm']==100.0].reset_index(drop=True)"
   ]
  },
  {
   "cell_type": "markdown",
   "metadata": {},
   "source": [
    "# Ag100"
   ]
  },
  {
   "cell_type": "markdown",
   "metadata": {},
   "source": [
    "## tSNE"
   ]
  },
  {
   "cell_type": "code",
   "execution_count": 7,
   "metadata": {},
   "outputs": [],
   "source": [
    "X, plot_tsne = combat_util.tsne_generator(df_100, perplexity=30, n_components = 2, metric=metric, iterate=True, number_runs=number_of_iterations)"
   ]
  },
  {
   "cell_type": "code",
   "execution_count": 9,
   "metadata": {},
   "outputs": [
    {
     "data": {
      "application/vnd.plotly.v1+json": {
       "config": {
        "plotlyServerURL": "https://plot.ly",
        "toImageButtonOptions": {
         "filename": "custom_image",
         "format": "svg",
         "height": 500,
         "scale": 6,
         "width": 700
        }
       },
       "data": [
        {
         "customdata": [
          [
           "211020_085918_Plate_1",
           "E3",
           "AgNP",
           100,
           0.009
          ],
          [
           "211020_085918_Plate_1",
           "F3",
           "AgNP",
           100,
           0.009
          ],
          [
           "211020_085918_Plate_1",
           "G3",
           "AgNP",
           100,
           0.009
          ],
          [
           "211008_092824_Plate_1",
           "E3",
           "AgNP",
           100,
           0.009
          ],
          [
           "211008_092824_Plate_1",
           "F3",
           "AgNP",
           100,
           0.009
          ],
          [
           "211008_092824_Plate_1",
           "G3",
           "AgNP",
           100,
           0.009
          ],
          [
           "211015_065907_Plate_1",
           "E3",
           "AgNP",
           100,
           0.009
          ],
          [
           "211015_065907_Plate_1",
           "F3",
           "AgNP",
           100,
           0.009
          ],
          [
           "211015_065907_Plate_1",
           "G3",
           "AgNP",
           100,
           0.009
          ]
         ],
         "error_x": {
          "color": "black",
          "thickness": 2
         },
         "error_y": {
          "color": "black",
          "thickness": 2
         },
         "hovertemplate": "colors_plot_col=0.009<br>0=%{x}<br>1=%{y}<br>Metadata_Plate=%{customdata[0]}<br>Metadata_Well=%{customdata[1]}<br>Metadata_Compound=%{customdata[2]}<br>Metadata_NPSize_nm=%{customdata[3]}<br>Metadata_Concentration_uM=%{customdata[4]}<extra></extra>",
         "legendgroup": "0.009",
         "marker": {
          "color": "#0d0887",
          "line": {
           "color": "White",
           "width": 1
          },
          "size": 15,
          "symbol": "circle"
         },
         "mode": "markers",
         "name": "0.009",
         "orientation": "v",
         "showlegend": true,
         "type": "scatter",
         "x": [
          -5.159058094024658,
          -5.203458309173584,
          -4.561181545257568,
          -5.330070972442627,
          -5.144041061401367,
          -5.060060501098633,
          -6.123473644256592,
          -4.6742472648620605,
          -4.7657389640808105
         ],
         "xaxis": "x",
         "y": [
          -0.07325173169374466,
          1.4483436346054077,
          2.4346046447753906,
          0.9687402844429016,
          1.6788984537124634,
          2.5188300609588623,
          -0.6534700989723206,
          1.3870081901550293,
          1.8607735633850098
         ],
         "yaxis": "y"
        },
        {
         "customdata": [
          [
           "211020_085918_Plate_1",
           "E4",
           "AgNP",
           100,
           0.017
          ],
          [
           "211020_085918_Plate_1",
           "F4",
           "AgNP",
           100,
           0.017
          ],
          [
           "211020_085918_Plate_1",
           "G4",
           "AgNP",
           100,
           0.017
          ],
          [
           "211008_092824_Plate_1",
           "E4",
           "AgNP",
           100,
           0.017
          ],
          [
           "211008_092824_Plate_1",
           "F4",
           "AgNP",
           100,
           0.017
          ],
          [
           "211008_092824_Plate_1",
           "G4",
           "AgNP",
           100,
           0.017
          ],
          [
           "211015_065907_Plate_1",
           "E4",
           "AgNP",
           100,
           0.017
          ],
          [
           "211015_065907_Plate_1",
           "F4",
           "AgNP",
           100,
           0.017
          ],
          [
           "211015_065907_Plate_1",
           "G4",
           "AgNP",
           100,
           0.017
          ]
         ],
         "error_x": {
          "color": "black",
          "thickness": 2
         },
         "error_y": {
          "color": "black",
          "thickness": 2
         },
         "hovertemplate": "colors_plot_col=0.017<br>0=%{x}<br>1=%{y}<br>Metadata_Plate=%{customdata[0]}<br>Metadata_Well=%{customdata[1]}<br>Metadata_Compound=%{customdata[2]}<br>Metadata_NPSize_nm=%{customdata[3]}<br>Metadata_Concentration_uM=%{customdata[4]}<extra></extra>",
         "legendgroup": "0.017",
         "marker": {
          "color": "#46039f",
          "line": {
           "color": "White",
           "width": 1
          },
          "size": 15,
          "symbol": "circle"
         },
         "mode": "markers",
         "name": "0.017",
         "orientation": "v",
         "showlegend": true,
         "type": "scatter",
         "x": [
          -5.33504581451416,
          -3.7627573013305664,
          -3.817349910736084,
          -6.171209812164307,
          -4.166137218475342,
          -5.4444580078125,
          -5.1043701171875,
          -4.051724910736084,
          -3.3711249828338623
         ],
         "xaxis": "x",
         "y": [
          0.7504070401191711,
          2.8485097885131836,
          2.7903554439544678,
          0.7174037098884583,
          0.771567702293396,
          -1.1003471612930298,
          0.4504317343235016,
          1.7066901922225952,
          1.762681484222412
         ],
         "yaxis": "y"
        },
        {
         "customdata": [
          [
           "211020_085918_Plate_1",
           "E5",
           "AgNP",
           100,
           0.035
          ],
          [
           "211020_085918_Plate_1",
           "F5",
           "AgNP",
           100,
           0.035
          ],
          [
           "211020_085918_Plate_1",
           "G5",
           "AgNP",
           100,
           0.035
          ],
          [
           "211008_092824_Plate_1",
           "E5",
           "AgNP",
           100,
           0.035
          ],
          [
           "211008_092824_Plate_1",
           "F5",
           "AgNP",
           100,
           0.035
          ],
          [
           "211008_092824_Plate_1",
           "G5",
           "AgNP",
           100,
           0.035
          ],
          [
           "211015_065907_Plate_1",
           "E5",
           "AgNP",
           100,
           0.035
          ],
          [
           "211015_065907_Plate_1",
           "F5",
           "AgNP",
           100,
           0.035
          ],
          [
           "211015_065907_Plate_1",
           "G5",
           "AgNP",
           100,
           0.035
          ]
         ],
         "error_x": {
          "color": "black",
          "thickness": 2
         },
         "error_y": {
          "color": "black",
          "thickness": 2
         },
         "hovertemplate": "colors_plot_col=0.035<br>0=%{x}<br>1=%{y}<br>Metadata_Plate=%{customdata[0]}<br>Metadata_Well=%{customdata[1]}<br>Metadata_Compound=%{customdata[2]}<br>Metadata_NPSize_nm=%{customdata[3]}<br>Metadata_Concentration_uM=%{customdata[4]}<extra></extra>",
         "legendgroup": "0.035",
         "marker": {
          "color": "#7201a8",
          "line": {
           "color": "White",
           "width": 1
          },
          "size": 15,
          "symbol": "circle"
         },
         "mode": "markers",
         "name": "0.035",
         "orientation": "v",
         "showlegend": true,
         "type": "scatter",
         "x": [
          -3.060659170150757,
          -5.534457206726074,
          -3.641080617904663,
          -8.351849555969238,
          -5.035126209259033,
          -5.793857574462891,
          -5.027550220489502,
          -4.727453708648682,
          -4.535520553588867
         ],
         "xaxis": "x",
         "y": [
          0.3460679352283478,
          1.3200628757476807,
          2.779798984527588,
          -0.039137598127126694,
          0.809184193611145,
          0.06724918633699417,
          0.9325402975082397,
          1.4393832683563232,
          1.2748661041259766
         ],
         "yaxis": "y"
        },
        {
         "customdata": [
          [
           "211020_085918_Plate_1",
           "E6",
           "AgNP",
           100,
           0.069
          ],
          [
           "211020_085918_Plate_1",
           "F6",
           "AgNP",
           100,
           0.069
          ],
          [
           "211020_085918_Plate_1",
           "G6",
           "AgNP",
           100,
           0.069
          ],
          [
           "211008_092824_Plate_1",
           "E6",
           "AgNP",
           100,
           0.069
          ],
          [
           "211008_092824_Plate_1",
           "F6",
           "AgNP",
           100,
           0.069
          ],
          [
           "211008_092824_Plate_1",
           "G6",
           "AgNP",
           100,
           0.069
          ],
          [
           "211015_065907_Plate_1",
           "E6",
           "AgNP",
           100,
           0.069
          ],
          [
           "211015_065907_Plate_1",
           "F6",
           "AgNP",
           100,
           0.069
          ],
          [
           "211015_065907_Plate_1",
           "G6",
           "AgNP",
           100,
           0.069
          ]
         ],
         "error_x": {
          "color": "black",
          "thickness": 2
         },
         "error_y": {
          "color": "black",
          "thickness": 2
         },
         "hovertemplate": "colors_plot_col=0.069<br>0=%{x}<br>1=%{y}<br>Metadata_Plate=%{customdata[0]}<br>Metadata_Well=%{customdata[1]}<br>Metadata_Compound=%{customdata[2]}<br>Metadata_NPSize_nm=%{customdata[3]}<br>Metadata_Concentration_uM=%{customdata[4]}<extra></extra>",
         "legendgroup": "0.069",
         "marker": {
          "color": "#9c179e",
          "line": {
           "color": "White",
           "width": 1
          },
          "size": 15,
          "symbol": "circle"
         },
         "mode": "markers",
         "name": "0.069",
         "orientation": "v",
         "showlegend": true,
         "type": "scatter",
         "x": [
          -4.208709239959717,
          -5.035799026489258,
          -4.045266628265381,
          -5.8696088790893555,
          -5.581882953643799,
          -8.668028831481934,
          -6.972125053405762,
          -6.165104866027832,
          -7.700078010559082
         ],
         "xaxis": "x",
         "y": [
          -0.5262486934661865,
          2.8280367851257324,
          2.599438428878784,
          1.2793124914169312,
          1.8494311571121216,
          -0.26636067032814026,
          0.5433436036109924,
          1.8924572467803955,
          0.691490113735199
         ],
         "yaxis": "y"
        },
        {
         "customdata": [
          [
           "211020_085918_Plate_1",
           "E7",
           "AgNP",
           100,
           0.139
          ],
          [
           "211020_085918_Plate_1",
           "F7",
           "AgNP",
           100,
           0.139
          ],
          [
           "211020_085918_Plate_1",
           "G7",
           "AgNP",
           100,
           0.139
          ],
          [
           "211008_092824_Plate_1",
           "E7",
           "AgNP",
           100,
           0.139
          ],
          [
           "211008_092824_Plate_1",
           "F7",
           "AgNP",
           100,
           0.139
          ],
          [
           "211008_092824_Plate_1",
           "G7",
           "AgNP",
           100,
           0.139
          ],
          [
           "211015_065907_Plate_1",
           "E7",
           "AgNP",
           100,
           0.139
          ],
          [
           "211015_065907_Plate_1",
           "F7",
           "AgNP",
           100,
           0.139
          ],
          [
           "211015_065907_Plate_1",
           "G7",
           "AgNP",
           100,
           0.139
          ]
         ],
         "error_x": {
          "color": "black",
          "thickness": 2
         },
         "error_y": {
          "color": "black",
          "thickness": 2
         },
         "hovertemplate": "colors_plot_col=0.139<br>0=%{x}<br>1=%{y}<br>Metadata_Plate=%{customdata[0]}<br>Metadata_Well=%{customdata[1]}<br>Metadata_Compound=%{customdata[2]}<br>Metadata_NPSize_nm=%{customdata[3]}<br>Metadata_Concentration_uM=%{customdata[4]}<extra></extra>",
         "legendgroup": "0.139",
         "marker": {
          "color": "#bd3786",
          "line": {
           "color": "White",
           "width": 1
          },
          "size": 15,
          "symbol": "circle"
         },
         "mode": "markers",
         "name": "0.139",
         "orientation": "v",
         "showlegend": true,
         "type": "scatter",
         "x": [
          -8.839417457580566,
          -5.277580738067627,
          -5.134040355682373,
          -6.172234535217285,
          -6.43819522857666,
          -5.727254867553711,
          -6.48404598236084,
          -5.160894870758057,
          -8.175918579101562
         ],
         "xaxis": "x",
         "y": [
          -0.4368210732936859,
          2.2097482681274414,
          3.3007822036743164,
          0.852012038230896,
          2.7049551010131836,
          2.5548219680786133,
          1.614302396774292,
          3.881286859512329,
          2.089787244796753
         ],
         "yaxis": "y"
        },
        {
         "customdata": [
          [
           "211020_085918_Plate_1",
           "E8",
           "AgNP",
           100,
           0.278
          ],
          [
           "211020_085918_Plate_1",
           "F8",
           "AgNP",
           100,
           0.278
          ],
          [
           "211020_085918_Plate_1",
           "G8",
           "AgNP",
           100,
           0.278
          ],
          [
           "211008_092824_Plate_1",
           "E8",
           "AgNP",
           100,
           0.278
          ],
          [
           "211008_092824_Plate_1",
           "F8",
           "AgNP",
           100,
           0.278
          ],
          [
           "211008_092824_Plate_1",
           "G8",
           "AgNP",
           100,
           0.278
          ],
          [
           "211015_065907_Plate_1",
           "E8",
           "AgNP",
           100,
           0.278
          ],
          [
           "211015_065907_Plate_1",
           "F8",
           "AgNP",
           100,
           0.278
          ],
          [
           "211015_065907_Plate_1",
           "G8",
           "AgNP",
           100,
           0.278
          ]
         ],
         "error_x": {
          "color": "black",
          "thickness": 2
         },
         "error_y": {
          "color": "black",
          "thickness": 2
         },
         "hovertemplate": "colors_plot_col=0.278<br>0=%{x}<br>1=%{y}<br>Metadata_Plate=%{customdata[0]}<br>Metadata_Well=%{customdata[1]}<br>Metadata_Compound=%{customdata[2]}<br>Metadata_NPSize_nm=%{customdata[3]}<br>Metadata_Concentration_uM=%{customdata[4]}<extra></extra>",
         "legendgroup": "0.278",
         "marker": {
          "color": "#d8576b",
          "line": {
           "color": "White",
           "width": 1
          },
          "size": 15,
          "symbol": "circle"
         },
         "mode": "markers",
         "name": "0.278",
         "orientation": "v",
         "showlegend": true,
         "type": "scatter",
         "x": [
          -6.691900253295898,
          -7.409282207489014,
          -8.029658317565918,
          -7.057389736175537,
          -6.348634719848633,
          -6.4334492683410645,
          -8.366134643554688,
          -7.250853061676025,
          -7.582111835479736
         ],
         "xaxis": "x",
         "y": [
          1.7200160026550293,
          2.5712010860443115,
          2.9436984062194824,
          1.855225682258606,
          2.8711071014404297,
          3.206052303314209,
          -0.017108766362071037,
          3.032550096511841,
          3.7918694019317627
         ],
         "yaxis": "y"
        },
        {
         "customdata": [
          [
           "211020_085918_Plate_1",
           "E9",
           "AgNP",
           100,
           0.556
          ],
          [
           "211020_085918_Plate_1",
           "F9",
           "AgNP",
           100,
           0.556
          ],
          [
           "211020_085918_Plate_1",
           "G9",
           "AgNP",
           100,
           0.556
          ],
          [
           "211008_092824_Plate_1",
           "E9",
           "AgNP",
           100,
           0.556
          ],
          [
           "211008_092824_Plate_1",
           "F9",
           "AgNP",
           100,
           0.556
          ],
          [
           "211008_092824_Plate_1",
           "G9",
           "AgNP",
           100,
           0.556
          ],
          [
           "211015_065907_Plate_1",
           "E9",
           "AgNP",
           100,
           0.556
          ],
          [
           "211015_065907_Plate_1",
           "F9",
           "AgNP",
           100,
           0.556
          ],
          [
           "211015_065907_Plate_1",
           "G9",
           "AgNP",
           100,
           0.556
          ]
         ],
         "error_x": {
          "color": "black",
          "thickness": 2
         },
         "error_y": {
          "color": "black",
          "thickness": 2
         },
         "hovertemplate": "colors_plot_col=0.556<br>0=%{x}<br>1=%{y}<br>Metadata_Plate=%{customdata[0]}<br>Metadata_Well=%{customdata[1]}<br>Metadata_Compound=%{customdata[2]}<br>Metadata_NPSize_nm=%{customdata[3]}<br>Metadata_Concentration_uM=%{customdata[4]}<extra></extra>",
         "legendgroup": "0.556",
         "marker": {
          "color": "#ed7953",
          "line": {
           "color": "White",
           "width": 1
          },
          "size": 15,
          "symbol": "circle"
         },
         "mode": "markers",
         "name": "0.556",
         "orientation": "v",
         "showlegend": true,
         "type": "scatter",
         "x": [
          -3.963930130004883,
          -6.989563465118408,
          -7.3743486404418945,
          -6.421630382537842,
          -6.650124549865723,
          -6.35341739654541,
          -8.223995208740234,
          -7.406676769256592,
          -7.0514960289001465
         ],
         "xaxis": "x",
         "y": [
          -0.9097290635108948,
          3.339996576309204,
          4.156311511993408,
          4.266785144805908,
          3.527865409851074,
          3.7259016036987305,
          3.8201301097869873,
          4.689972400665283,
          4.361410617828369
         ],
         "yaxis": "y"
        },
        {
         "customdata": [
          [
           "211020_085918_Plate_1",
           "E10",
           "AgNP",
           100,
           1.111
          ],
          [
           "211020_085918_Plate_1",
           "F10",
           "AgNP",
           100,
           1.111
          ],
          [
           "211020_085918_Plate_1",
           "G10",
           "AgNP",
           100,
           1.111
          ],
          [
           "211008_092824_Plate_1",
           "E10",
           "AgNP",
           100,
           1.111
          ],
          [
           "211008_092824_Plate_1",
           "F10",
           "AgNP",
           100,
           1.111
          ],
          [
           "211008_092824_Plate_1",
           "G10",
           "AgNP",
           100,
           1.111
          ],
          [
           "211015_065907_Plate_1",
           "E10",
           "AgNP",
           100,
           1.111
          ],
          [
           "211015_065907_Plate_1",
           "F10",
           "AgNP",
           100,
           1.111
          ],
          [
           "211015_065907_Plate_1",
           "G10",
           "AgNP",
           100,
           1.111
          ]
         ],
         "error_x": {
          "color": "black",
          "thickness": 2
         },
         "error_y": {
          "color": "black",
          "thickness": 2
         },
         "hovertemplate": "colors_plot_col=1.111<br>0=%{x}<br>1=%{y}<br>Metadata_Plate=%{customdata[0]}<br>Metadata_Well=%{customdata[1]}<br>Metadata_Compound=%{customdata[2]}<br>Metadata_NPSize_nm=%{customdata[3]}<br>Metadata_Concentration_uM=%{customdata[4]}<extra></extra>",
         "legendgroup": "1.111",
         "marker": {
          "color": "#fb9f3a",
          "line": {
           "color": "White",
           "width": 1
          },
          "size": 15,
          "symbol": "circle"
         },
         "mode": "markers",
         "name": "1.111",
         "orientation": "v",
         "showlegend": true,
         "type": "scatter",
         "x": [
          -7.570012092590332,
          -6.496763706207275,
          -7.936809062957764,
          -6.231390476226807,
          -8.905208587646484,
          -8.817867279052734,
          -9.022722244262695,
          -8.259095191955566,
          -8.895185470581055
         ],
         "xaxis": "x",
         "y": [
          5.281699180603027,
          5.480283737182617,
          4.918035984039307,
          5.724020957946777,
          5.664877891540527,
          5.565497398376465,
          2.801513433456421,
          4.986045837402344,
          4.4445271492004395
         ],
         "yaxis": "y"
        }
       ],
       "layout": {
        "autosize": false,
        "font": {
         "size": 18
        },
        "height": 700,
        "legend": {
         "title": {
          "text": ""
         },
         "tracegroupgap": 0
        },
        "margin": {
         "b": 20,
         "l": 50,
         "pad": 4,
         "r": 50,
         "t": 50
        },
        "plot_bgcolor": "white",
        "template": {
         "data": {
          "bar": [
           {
            "error_x": {
             "color": "#2a3f5f"
            },
            "error_y": {
             "color": "#2a3f5f"
            },
            "marker": {
             "line": {
              "color": "#E5ECF6",
              "width": 0.5
             },
             "pattern": {
              "fillmode": "overlay",
              "size": 10,
              "solidity": 0.2
             }
            },
            "type": "bar"
           }
          ],
          "barpolar": [
           {
            "marker": {
             "line": {
              "color": "#E5ECF6",
              "width": 0.5
             },
             "pattern": {
              "fillmode": "overlay",
              "size": 10,
              "solidity": 0.2
             }
            },
            "type": "barpolar"
           }
          ],
          "carpet": [
           {
            "aaxis": {
             "endlinecolor": "#2a3f5f",
             "gridcolor": "white",
             "linecolor": "white",
             "minorgridcolor": "white",
             "startlinecolor": "#2a3f5f"
            },
            "baxis": {
             "endlinecolor": "#2a3f5f",
             "gridcolor": "white",
             "linecolor": "white",
             "minorgridcolor": "white",
             "startlinecolor": "#2a3f5f"
            },
            "type": "carpet"
           }
          ],
          "choropleth": [
           {
            "colorbar": {
             "outlinewidth": 0,
             "ticks": ""
            },
            "type": "choropleth"
           }
          ],
          "contour": [
           {
            "colorbar": {
             "outlinewidth": 0,
             "ticks": ""
            },
            "colorscale": [
             [
              0,
              "#0d0887"
             ],
             [
              0.1111111111111111,
              "#46039f"
             ],
             [
              0.2222222222222222,
              "#7201a8"
             ],
             [
              0.3333333333333333,
              "#9c179e"
             ],
             [
              0.4444444444444444,
              "#bd3786"
             ],
             [
              0.5555555555555556,
              "#d8576b"
             ],
             [
              0.6666666666666666,
              "#ed7953"
             ],
             [
              0.7777777777777778,
              "#fb9f3a"
             ],
             [
              0.8888888888888888,
              "#fdca26"
             ],
             [
              1,
              "#f0f921"
             ]
            ],
            "type": "contour"
           }
          ],
          "contourcarpet": [
           {
            "colorbar": {
             "outlinewidth": 0,
             "ticks": ""
            },
            "type": "contourcarpet"
           }
          ],
          "heatmap": [
           {
            "colorbar": {
             "outlinewidth": 0,
             "ticks": ""
            },
            "colorscale": [
             [
              0,
              "#0d0887"
             ],
             [
              0.1111111111111111,
              "#46039f"
             ],
             [
              0.2222222222222222,
              "#7201a8"
             ],
             [
              0.3333333333333333,
              "#9c179e"
             ],
             [
              0.4444444444444444,
              "#bd3786"
             ],
             [
              0.5555555555555556,
              "#d8576b"
             ],
             [
              0.6666666666666666,
              "#ed7953"
             ],
             [
              0.7777777777777778,
              "#fb9f3a"
             ],
             [
              0.8888888888888888,
              "#fdca26"
             ],
             [
              1,
              "#f0f921"
             ]
            ],
            "type": "heatmap"
           }
          ],
          "heatmapgl": [
           {
            "colorbar": {
             "outlinewidth": 0,
             "ticks": ""
            },
            "colorscale": [
             [
              0,
              "#0d0887"
             ],
             [
              0.1111111111111111,
              "#46039f"
             ],
             [
              0.2222222222222222,
              "#7201a8"
             ],
             [
              0.3333333333333333,
              "#9c179e"
             ],
             [
              0.4444444444444444,
              "#bd3786"
             ],
             [
              0.5555555555555556,
              "#d8576b"
             ],
             [
              0.6666666666666666,
              "#ed7953"
             ],
             [
              0.7777777777777778,
              "#fb9f3a"
             ],
             [
              0.8888888888888888,
              "#fdca26"
             ],
             [
              1,
              "#f0f921"
             ]
            ],
            "type": "heatmapgl"
           }
          ],
          "histogram": [
           {
            "marker": {
             "pattern": {
              "fillmode": "overlay",
              "size": 10,
              "solidity": 0.2
             }
            },
            "type": "histogram"
           }
          ],
          "histogram2d": [
           {
            "colorbar": {
             "outlinewidth": 0,
             "ticks": ""
            },
            "colorscale": [
             [
              0,
              "#0d0887"
             ],
             [
              0.1111111111111111,
              "#46039f"
             ],
             [
              0.2222222222222222,
              "#7201a8"
             ],
             [
              0.3333333333333333,
              "#9c179e"
             ],
             [
              0.4444444444444444,
              "#bd3786"
             ],
             [
              0.5555555555555556,
              "#d8576b"
             ],
             [
              0.6666666666666666,
              "#ed7953"
             ],
             [
              0.7777777777777778,
              "#fb9f3a"
             ],
             [
              0.8888888888888888,
              "#fdca26"
             ],
             [
              1,
              "#f0f921"
             ]
            ],
            "type": "histogram2d"
           }
          ],
          "histogram2dcontour": [
           {
            "colorbar": {
             "outlinewidth": 0,
             "ticks": ""
            },
            "colorscale": [
             [
              0,
              "#0d0887"
             ],
             [
              0.1111111111111111,
              "#46039f"
             ],
             [
              0.2222222222222222,
              "#7201a8"
             ],
             [
              0.3333333333333333,
              "#9c179e"
             ],
             [
              0.4444444444444444,
              "#bd3786"
             ],
             [
              0.5555555555555556,
              "#d8576b"
             ],
             [
              0.6666666666666666,
              "#ed7953"
             ],
             [
              0.7777777777777778,
              "#fb9f3a"
             ],
             [
              0.8888888888888888,
              "#fdca26"
             ],
             [
              1,
              "#f0f921"
             ]
            ],
            "type": "histogram2dcontour"
           }
          ],
          "mesh3d": [
           {
            "colorbar": {
             "outlinewidth": 0,
             "ticks": ""
            },
            "type": "mesh3d"
           }
          ],
          "parcoords": [
           {
            "line": {
             "colorbar": {
              "outlinewidth": 0,
              "ticks": ""
             }
            },
            "type": "parcoords"
           }
          ],
          "pie": [
           {
            "automargin": true,
            "type": "pie"
           }
          ],
          "scatter": [
           {
            "fillpattern": {
             "fillmode": "overlay",
             "size": 10,
             "solidity": 0.2
            },
            "type": "scatter"
           }
          ],
          "scatter3d": [
           {
            "line": {
             "colorbar": {
              "outlinewidth": 0,
              "ticks": ""
             }
            },
            "marker": {
             "colorbar": {
              "outlinewidth": 0,
              "ticks": ""
             }
            },
            "type": "scatter3d"
           }
          ],
          "scattercarpet": [
           {
            "marker": {
             "colorbar": {
              "outlinewidth": 0,
              "ticks": ""
             }
            },
            "type": "scattercarpet"
           }
          ],
          "scattergeo": [
           {
            "marker": {
             "colorbar": {
              "outlinewidth": 0,
              "ticks": ""
             }
            },
            "type": "scattergeo"
           }
          ],
          "scattergl": [
           {
            "marker": {
             "colorbar": {
              "outlinewidth": 0,
              "ticks": ""
             }
            },
            "type": "scattergl"
           }
          ],
          "scattermapbox": [
           {
            "marker": {
             "colorbar": {
              "outlinewidth": 0,
              "ticks": ""
             }
            },
            "type": "scattermapbox"
           }
          ],
          "scatterpolar": [
           {
            "marker": {
             "colorbar": {
              "outlinewidth": 0,
              "ticks": ""
             }
            },
            "type": "scatterpolar"
           }
          ],
          "scatterpolargl": [
           {
            "marker": {
             "colorbar": {
              "outlinewidth": 0,
              "ticks": ""
             }
            },
            "type": "scatterpolargl"
           }
          ],
          "scatterternary": [
           {
            "marker": {
             "colorbar": {
              "outlinewidth": 0,
              "ticks": ""
             }
            },
            "type": "scatterternary"
           }
          ],
          "surface": [
           {
            "colorbar": {
             "outlinewidth": 0,
             "ticks": ""
            },
            "colorscale": [
             [
              0,
              "#0d0887"
             ],
             [
              0.1111111111111111,
              "#46039f"
             ],
             [
              0.2222222222222222,
              "#7201a8"
             ],
             [
              0.3333333333333333,
              "#9c179e"
             ],
             [
              0.4444444444444444,
              "#bd3786"
             ],
             [
              0.5555555555555556,
              "#d8576b"
             ],
             [
              0.6666666666666666,
              "#ed7953"
             ],
             [
              0.7777777777777778,
              "#fb9f3a"
             ],
             [
              0.8888888888888888,
              "#fdca26"
             ],
             [
              1,
              "#f0f921"
             ]
            ],
            "type": "surface"
           }
          ],
          "table": [
           {
            "cells": {
             "fill": {
              "color": "#EBF0F8"
             },
             "line": {
              "color": "white"
             }
            },
            "header": {
             "fill": {
              "color": "#C8D4E3"
             },
             "line": {
              "color": "white"
             }
            },
            "type": "table"
           }
          ]
         },
         "layout": {
          "annotationdefaults": {
           "arrowcolor": "#2a3f5f",
           "arrowhead": 0,
           "arrowwidth": 1
          },
          "autotypenumbers": "strict",
          "coloraxis": {
           "colorbar": {
            "outlinewidth": 0,
            "ticks": ""
           }
          },
          "colorscale": {
           "diverging": [
            [
             0,
             "#8e0152"
            ],
            [
             0.1,
             "#c51b7d"
            ],
            [
             0.2,
             "#de77ae"
            ],
            [
             0.3,
             "#f1b6da"
            ],
            [
             0.4,
             "#fde0ef"
            ],
            [
             0.5,
             "#f7f7f7"
            ],
            [
             0.6,
             "#e6f5d0"
            ],
            [
             0.7,
             "#b8e186"
            ],
            [
             0.8,
             "#7fbc41"
            ],
            [
             0.9,
             "#4d9221"
            ],
            [
             1,
             "#276419"
            ]
           ],
           "sequential": [
            [
             0,
             "#0d0887"
            ],
            [
             0.1111111111111111,
             "#46039f"
            ],
            [
             0.2222222222222222,
             "#7201a8"
            ],
            [
             0.3333333333333333,
             "#9c179e"
            ],
            [
             0.4444444444444444,
             "#bd3786"
            ],
            [
             0.5555555555555556,
             "#d8576b"
            ],
            [
             0.6666666666666666,
             "#ed7953"
            ],
            [
             0.7777777777777778,
             "#fb9f3a"
            ],
            [
             0.8888888888888888,
             "#fdca26"
            ],
            [
             1,
             "#f0f921"
            ]
           ],
           "sequentialminus": [
            [
             0,
             "#0d0887"
            ],
            [
             0.1111111111111111,
             "#46039f"
            ],
            [
             0.2222222222222222,
             "#7201a8"
            ],
            [
             0.3333333333333333,
             "#9c179e"
            ],
            [
             0.4444444444444444,
             "#bd3786"
            ],
            [
             0.5555555555555556,
             "#d8576b"
            ],
            [
             0.6666666666666666,
             "#ed7953"
            ],
            [
             0.7777777777777778,
             "#fb9f3a"
            ],
            [
             0.8888888888888888,
             "#fdca26"
            ],
            [
             1,
             "#f0f921"
            ]
           ]
          },
          "colorway": [
           "#636efa",
           "#EF553B",
           "#00cc96",
           "#ab63fa",
           "#FFA15A",
           "#19d3f3",
           "#FF6692",
           "#B6E880",
           "#FF97FF",
           "#FECB52"
          ],
          "font": {
           "color": "#2a3f5f"
          },
          "geo": {
           "bgcolor": "white",
           "lakecolor": "white",
           "landcolor": "#E5ECF6",
           "showlakes": true,
           "showland": true,
           "subunitcolor": "white"
          },
          "hoverlabel": {
           "align": "left"
          },
          "hovermode": "closest",
          "mapbox": {
           "style": "light"
          },
          "paper_bgcolor": "white",
          "plot_bgcolor": "#E5ECF6",
          "polar": {
           "angularaxis": {
            "gridcolor": "white",
            "linecolor": "white",
            "ticks": ""
           },
           "bgcolor": "#E5ECF6",
           "radialaxis": {
            "gridcolor": "white",
            "linecolor": "white",
            "ticks": ""
           }
          },
          "scene": {
           "xaxis": {
            "backgroundcolor": "#E5ECF6",
            "gridcolor": "white",
            "gridwidth": 2,
            "linecolor": "white",
            "showbackground": true,
            "ticks": "",
            "zerolinecolor": "white"
           },
           "yaxis": {
            "backgroundcolor": "#E5ECF6",
            "gridcolor": "white",
            "gridwidth": 2,
            "linecolor": "white",
            "showbackground": true,
            "ticks": "",
            "zerolinecolor": "white"
           },
           "zaxis": {
            "backgroundcolor": "#E5ECF6",
            "gridcolor": "white",
            "gridwidth": 2,
            "linecolor": "white",
            "showbackground": true,
            "ticks": "",
            "zerolinecolor": "white"
           }
          },
          "shapedefaults": {
           "line": {
            "color": "#2a3f5f"
           }
          },
          "ternary": {
           "aaxis": {
            "gridcolor": "white",
            "linecolor": "white",
            "ticks": ""
           },
           "baxis": {
            "gridcolor": "white",
            "linecolor": "white",
            "ticks": ""
           },
           "bgcolor": "#E5ECF6",
           "caxis": {
            "gridcolor": "white",
            "linecolor": "white",
            "ticks": ""
           }
          },
          "title": {
           "x": 0.05
          },
          "xaxis": {
           "automargin": true,
           "gridcolor": "white",
           "linecolor": "white",
           "ticks": "",
           "title": {
            "standoff": 15
           },
           "zerolinecolor": "white",
           "zerolinewidth": 2
          },
          "yaxis": {
           "automargin": true,
           "gridcolor": "white",
           "linecolor": "white",
           "ticks": "",
           "title": {
            "standoff": 15
           },
           "zerolinecolor": "white",
           "zerolinewidth": 2
          }
         }
        },
        "title": {
         "text": ""
        },
        "width": 900,
        "xaxis": {
         "anchor": "y",
         "domain": [
          0,
          1
         ],
         "linecolor": "black",
         "mirror": true,
         "showline": true,
         "ticks": "outside",
         "title": {
          "text": "TSNE 1"
         }
        },
        "yaxis": {
         "anchor": "x",
         "domain": [
          0,
          1
         ],
         "linecolor": "black",
         "mirror": true,
         "showline": true,
         "ticks": "outside",
         "title": {
          "text": "TSNE 2"
         }
        }
       }
      }
     },
     "metadata": {},
     "output_type": "display_data"
    }
   ],
   "source": [
    "combat_util.plot_tsne(plot_tsne, color_col='Metadata_Concentration_uM', \n",
    "                    #   split_df = False, split_column = None, np = None,\n",
    "                      hover_cols=hover_list,\n",
    "                    #   size=True, size_col = \"Metadata_concentration_uM\",\n",
    "                      x=\"0\", y=\"1\",\n",
    "                    #   error_x=\"x_err\", error_y=\"y_err\",\n",
    "                      discrete=True\n",
    "                      )"
   ]
  },
  {
   "cell_type": "code",
   "execution_count": 30,
   "metadata": {},
   "outputs": [
    {
     "data": {
      "application/vnd.plotly.v1+json": {
       "config": {
        "plotlyServerURL": "https://plot.ly",
        "toImageButtonOptions": {
         "filename": "custom_image",
         "format": "svg",
         "height": 500,
         "scale": 6,
         "width": 700
        }
       },
       "data": [
        {
         "customdata": [
          [
           "211020_085918_Plate_1",
           "E3",
           "AgNP",
           100,
           0.009
          ],
          [
           "211020_085918_Plate_1",
           "F3",
           "AgNP",
           100,
           0.009
          ],
          [
           "211020_085918_Plate_1",
           "G3",
           "AgNP",
           100,
           0.009
          ],
          [
           "211008_092824_Plate_1",
           "E3",
           "AgNP",
           100,
           0.009
          ],
          [
           "211008_092824_Plate_1",
           "F3",
           "AgNP",
           100,
           0.009
          ],
          [
           "211008_092824_Plate_1",
           "G3",
           "AgNP",
           100,
           0.009
          ],
          [
           "211015_065907_Plate_1",
           "E3",
           "AgNP",
           100,
           0.009
          ],
          [
           "211015_065907_Plate_1",
           "F3",
           "AgNP",
           100,
           0.009
          ],
          [
           "211015_065907_Plate_1",
           "G3",
           "AgNP",
           100,
           0.009
          ]
         ],
         "error_x": {
          "array": [
           0.000001430511474609375,
           0.000004291534423828125,
           0.000002384185791015625,
           0.000005245208740234375,
           0.000002384185791015625,
           0.000005245208740234375,
           0.000003337860107421875,
           0.000004291534423828125,
           0.0000057220458984375
          ],
          "color": "black",
          "thickness": 5
         },
         "error_y": {
          "array": [
           7.450580596923828e-9,
           4.76837158203125e-7,
           0.0000026226043701171875,
           5.364418029785156e-7,
           2.384185791015625e-7,
           0.0000016689300537109375,
           5.960464477539062e-7,
           9.5367431640625e-7,
           0.0000019073486328125
          ],
          "color": "black",
          "thickness": 5
         },
         "hovertemplate": "colors_plot_col=0.009<br>0=%{x}<br>1=%{y}<br>Metadata_Plate=%{customdata[0]}<br>Metadata_Well=%{customdata[1]}<br>Metadata_Compound=%{customdata[2]}<br>Metadata_NPSize_nm=%{customdata[3]}<br>Metadata_Concentration_uM=%{customdata[4]}<extra></extra>",
         "legendgroup": "0.009",
         "marker": {
          "color": "#0d0887",
          "line": {
           "color": "White",
           "width": 1
          },
          "size": 7,
          "symbol": "circle"
         },
         "mode": "markers",
         "name": "0.009",
         "orientation": "v",
         "showlegend": true,
         "type": "scatter",
         "x": [
          -5.159058094024658,
          -5.203458309173584,
          -4.561181545257568,
          -5.330070972442627,
          -5.144041061401367,
          -5.060060501098633,
          -6.123473644256592,
          -4.6742472648620605,
          -4.7657389640808105
         ],
         "xaxis": "x",
         "y": [
          -0.07325173169374466,
          1.4483436346054077,
          2.4346046447753906,
          0.9687402844429016,
          1.6788984537124634,
          2.5188300609588623,
          -0.6534700989723206,
          1.3870081901550293,
          1.8607735633850098
         ],
         "yaxis": "y"
        },
        {
         "customdata": [
          [
           "211020_085918_Plate_1",
           "E4",
           "AgNP",
           100,
           0.017
          ],
          [
           "211020_085918_Plate_1",
           "F4",
           "AgNP",
           100,
           0.017
          ],
          [
           "211020_085918_Plate_1",
           "G4",
           "AgNP",
           100,
           0.017
          ],
          [
           "211008_092824_Plate_1",
           "E4",
           "AgNP",
           100,
           0.017
          ],
          [
           "211008_092824_Plate_1",
           "F4",
           "AgNP",
           100,
           0.017
          ],
          [
           "211008_092824_Plate_1",
           "G4",
           "AgNP",
           100,
           0.017
          ],
          [
           "211015_065907_Plate_1",
           "E4",
           "AgNP",
           100,
           0.017
          ],
          [
           "211015_065907_Plate_1",
           "F4",
           "AgNP",
           100,
           0.017
          ],
          [
           "211015_065907_Plate_1",
           "G4",
           "AgNP",
           100,
           0.017
          ]
         ],
         "error_x": {
          "array": [
           0.00000286102294921875,
           0.00000286102294921875,
           0.000003814697265625,
           0.00000858306884765625,
           9.5367431640625e-7,
           0,
           0,
           0.00000476837158203125,
           0.000001430511474609375
          ],
          "color": "black",
          "thickness": 5
         },
         "error_y": {
          "array": [
           5.960464477539063e-8,
           0.0000021457672119140625,
           2.384185791015625e-7,
           2.980232238769531e-7,
           5.364418029785156e-7,
           0.0000011920928955078125,
           2.086162567138672e-7,
           7.152557373046875e-7,
           0.0000019073486328125
          ],
          "color": "black",
          "thickness": 5
         },
         "hovertemplate": "colors_plot_col=0.017<br>0=%{x}<br>1=%{y}<br>Metadata_Plate=%{customdata[0]}<br>Metadata_Well=%{customdata[1]}<br>Metadata_Compound=%{customdata[2]}<br>Metadata_NPSize_nm=%{customdata[3]}<br>Metadata_Concentration_uM=%{customdata[4]}<extra></extra>",
         "legendgroup": "0.017",
         "marker": {
          "color": "#46039f",
          "line": {
           "color": "White",
           "width": 1
          },
          "size": 7,
          "symbol": "circle"
         },
         "mode": "markers",
         "name": "0.017",
         "orientation": "v",
         "showlegend": true,
         "type": "scatter",
         "x": [
          -5.33504581451416,
          -3.7627573013305664,
          -3.817349910736084,
          -6.171209812164307,
          -4.166137218475342,
          -5.4444580078125,
          -5.1043701171875,
          -4.051724910736084,
          -3.3711249828338623
         ],
         "xaxis": "x",
         "y": [
          0.7504070401191711,
          2.8485097885131836,
          2.7903554439544678,
          0.7174037098884583,
          0.771567702293396,
          -1.1003471612930298,
          0.4504317343235016,
          1.7066901922225952,
          1.762681484222412
         ],
         "yaxis": "y"
        },
        {
         "customdata": [
          [
           "211020_085918_Plate_1",
           "E5",
           "AgNP",
           100,
           0.035
          ],
          [
           "211020_085918_Plate_1",
           "F5",
           "AgNP",
           100,
           0.035
          ],
          [
           "211020_085918_Plate_1",
           "G5",
           "AgNP",
           100,
           0.035
          ],
          [
           "211008_092824_Plate_1",
           "E5",
           "AgNP",
           100,
           0.035
          ],
          [
           "211008_092824_Plate_1",
           "F5",
           "AgNP",
           100,
           0.035
          ],
          [
           "211008_092824_Plate_1",
           "G5",
           "AgNP",
           100,
           0.035
          ],
          [
           "211015_065907_Plate_1",
           "E5",
           "AgNP",
           100,
           0.035
          ],
          [
           "211015_065907_Plate_1",
           "F5",
           "AgNP",
           100,
           0.035
          ],
          [
           "211015_065907_Plate_1",
           "G5",
           "AgNP",
           100,
           0.035
          ]
         ],
         "error_x": {
          "array": [
           0.0000019073486328125,
           4.76837158203125e-7,
           0.0000021457672119140625,
           0.00000667572021484375,
           9.5367431640625e-7,
           0.0000019073486328125,
           0.000005245208740234375,
           0.000003337860107421875,
           0.000003337860107421875
          ],
          "color": "black",
          "thickness": 5
         },
         "error_y": {
          "array": [
           2.9802322387695312e-8,
           0.0000013113021850585938,
           4.76837158203125e-7,
           2.60770320892334e-8,
           4.172325134277344e-7,
           3.725290298461914e-8,
           8.940696716308594e-7,
           1.1920928955078125e-7,
           0.0000015497207641601562
          ],
          "color": "black",
          "thickness": 5
         },
         "hovertemplate": "colors_plot_col=0.035<br>0=%{x}<br>1=%{y}<br>Metadata_Plate=%{customdata[0]}<br>Metadata_Well=%{customdata[1]}<br>Metadata_Compound=%{customdata[2]}<br>Metadata_NPSize_nm=%{customdata[3]}<br>Metadata_Concentration_uM=%{customdata[4]}<extra></extra>",
         "legendgroup": "0.035",
         "marker": {
          "color": "#7201a8",
          "line": {
           "color": "White",
           "width": 1
          },
          "size": 7,
          "symbol": "circle"
         },
         "mode": "markers",
         "name": "0.035",
         "orientation": "v",
         "showlegend": true,
         "type": "scatter",
         "x": [
          -3.060659170150757,
          -5.534457206726074,
          -3.641080617904663,
          -8.351849555969238,
          -5.035126209259033,
          -5.793857574462891,
          -5.027550220489502,
          -4.727453708648682,
          -4.535520553588867
         ],
         "xaxis": "x",
         "y": [
          0.3460679352283478,
          1.3200628757476807,
          2.779798984527588,
          -0.039137598127126694,
          0.809184193611145,
          0.06724918633699417,
          0.9325402975082397,
          1.4393832683563232,
          1.2748661041259766
         ],
         "yaxis": "y"
        },
        {
         "customdata": [
          [
           "211020_085918_Plate_1",
           "E6",
           "AgNP",
           100,
           0.069
          ],
          [
           "211020_085918_Plate_1",
           "F6",
           "AgNP",
           100,
           0.069
          ],
          [
           "211020_085918_Plate_1",
           "G6",
           "AgNP",
           100,
           0.069
          ],
          [
           "211008_092824_Plate_1",
           "E6",
           "AgNP",
           100,
           0.069
          ],
          [
           "211008_092824_Plate_1",
           "F6",
           "AgNP",
           100,
           0.069
          ],
          [
           "211008_092824_Plate_1",
           "G6",
           "AgNP",
           100,
           0.069
          ],
          [
           "211015_065907_Plate_1",
           "E6",
           "AgNP",
           100,
           0.069
          ],
          [
           "211015_065907_Plate_1",
           "F6",
           "AgNP",
           100,
           0.069
          ],
          [
           "211015_065907_Plate_1",
           "G6",
           "AgNP",
           100,
           0.069
          ]
         ],
         "error_x": {
          "array": [
           0.000002384185791015625,
           0.000005245208740234375,
           0.00000286102294921875,
           0.000003337860107421875,
           0,
           0.00000667572021484375,
           0.000003337860107421875,
           0.000003814697265625,
           0.0000095367431640625
          ],
          "color": "black",
          "thickness": 5
         },
         "error_y": {
          "array": [
           4.76837158203125e-7,
           0.000003337860107421875,
           0.000001430511474609375,
           7.152557373046875e-7,
           8.344650268554688e-7,
           3.5762786865234375e-7,
           4.172325134277344e-7,
           0.0000017881393432617188,
           5.960464477539063e-8
          ],
          "color": "black",
          "thickness": 5
         },
         "hovertemplate": "colors_plot_col=0.069<br>0=%{x}<br>1=%{y}<br>Metadata_Plate=%{customdata[0]}<br>Metadata_Well=%{customdata[1]}<br>Metadata_Compound=%{customdata[2]}<br>Metadata_NPSize_nm=%{customdata[3]}<br>Metadata_Concentration_uM=%{customdata[4]}<extra></extra>",
         "legendgroup": "0.069",
         "marker": {
          "color": "#9c179e",
          "line": {
           "color": "White",
           "width": 1
          },
          "size": 7,
          "symbol": "circle"
         },
         "mode": "markers",
         "name": "0.069",
         "orientation": "v",
         "showlegend": true,
         "type": "scatter",
         "x": [
          -4.208709239959717,
          -5.035799026489258,
          -4.045266628265381,
          -5.8696088790893555,
          -5.581882953643799,
          -8.668028831481934,
          -6.972125053405762,
          -6.165104866027832,
          -7.700078010559082
         ],
         "xaxis": "x",
         "y": [
          -0.5262486934661865,
          2.8280367851257324,
          2.599438428878784,
          1.2793124914169312,
          1.8494311571121216,
          -0.26636067032814026,
          0.5433436036109924,
          1.8924572467803955,
          0.691490113735199
         ],
         "yaxis": "y"
        },
        {
         "customdata": [
          [
           "211020_085918_Plate_1",
           "E7",
           "AgNP",
           100,
           0.139
          ],
          [
           "211020_085918_Plate_1",
           "F7",
           "AgNP",
           100,
           0.139
          ],
          [
           "211020_085918_Plate_1",
           "G7",
           "AgNP",
           100,
           0.139
          ],
          [
           "211008_092824_Plate_1",
           "E7",
           "AgNP",
           100,
           0.139
          ],
          [
           "211008_092824_Plate_1",
           "F7",
           "AgNP",
           100,
           0.139
          ],
          [
           "211008_092824_Plate_1",
           "G7",
           "AgNP",
           100,
           0.139
          ],
          [
           "211015_065907_Plate_1",
           "E7",
           "AgNP",
           100,
           0.139
          ],
          [
           "211015_065907_Plate_1",
           "F7",
           "AgNP",
           100,
           0.139
          ],
          [
           "211015_065907_Plate_1",
           "G7",
           "AgNP",
           100,
           0.139
          ]
         ],
         "error_x": {
          "array": [
           0.00000286102294921875,
           0.000006198883056640625,
           0.00000667572021484375,
           0.00000858306884765625,
           0.000004291534423828125,
           0.0000019073486328125,
           0.000005245208740234375,
           0.000002384185791015625,
           0.00000667572021484375
          ],
          "color": "black",
          "thickness": 5
         },
         "error_y": {
          "array": [
           1.7881393432617188e-7,
           0.0000019073486328125,
           0.0000021457672119140625,
           6.556510925292969e-7,
           0.000002384185791015625,
           0.0000019073486328125,
           0.0000015497207641601562,
           7.152557373046875e-7,
           0.0000019073486328125
          ],
          "color": "black",
          "thickness": 5
         },
         "hovertemplate": "colors_plot_col=0.139<br>0=%{x}<br>1=%{y}<br>Metadata_Plate=%{customdata[0]}<br>Metadata_Well=%{customdata[1]}<br>Metadata_Compound=%{customdata[2]}<br>Metadata_NPSize_nm=%{customdata[3]}<br>Metadata_Concentration_uM=%{customdata[4]}<extra></extra>",
         "legendgroup": "0.139",
         "marker": {
          "color": "#bd3786",
          "line": {
           "color": "White",
           "width": 1
          },
          "size": 7,
          "symbol": "circle"
         },
         "mode": "markers",
         "name": "0.139",
         "orientation": "v",
         "showlegend": true,
         "type": "scatter",
         "x": [
          -8.839417457580566,
          -5.277580738067627,
          -5.134040355682373,
          -6.172234535217285,
          -6.43819522857666,
          -5.727254867553711,
          -6.48404598236084,
          -5.160894870758057,
          -8.175918579101562
         ],
         "xaxis": "x",
         "y": [
          -0.4368210732936859,
          2.2097482681274414,
          3.3007822036743164,
          0.852012038230896,
          2.7049551010131836,
          2.5548219680786133,
          1.614302396774292,
          3.881286859512329,
          2.089787244796753
         ],
         "yaxis": "y"
        },
        {
         "customdata": [
          [
           "211020_085918_Plate_1",
           "E8",
           "AgNP",
           100,
           0.278
          ],
          [
           "211020_085918_Plate_1",
           "F8",
           "AgNP",
           100,
           0.278
          ],
          [
           "211020_085918_Plate_1",
           "G8",
           "AgNP",
           100,
           0.278
          ],
          [
           "211008_092824_Plate_1",
           "E8",
           "AgNP",
           100,
           0.278
          ],
          [
           "211008_092824_Plate_1",
           "F8",
           "AgNP",
           100,
           0.278
          ],
          [
           "211008_092824_Plate_1",
           "G8",
           "AgNP",
           100,
           0.278
          ],
          [
           "211015_065907_Plate_1",
           "E8",
           "AgNP",
           100,
           0.278
          ],
          [
           "211015_065907_Plate_1",
           "F8",
           "AgNP",
           100,
           0.278
          ],
          [
           "211015_065907_Plate_1",
           "G8",
           "AgNP",
           100,
           0.278
          ]
         ],
         "error_x": {
          "array": [
           0.0000057220458984375,
           0.000003337860107421875,
           0.00000858306884765625,
           9.5367431640625e-7,
           0.0000057220458984375,
           0.000001430511474609375,
           0.0000057220458984375,
           0.00000286102294921875,
           0.0000057220458984375
          ],
          "color": "black",
          "thickness": 5
         },
         "error_y": {
          "array": [
           0.0000010728836059570312,
           0.000003814697265625,
           0.000003337860107421875,
           0.0000011920928955078125,
           0.0000016689300537109375,
           0.0000021457672119140625,
           1.30385160446167e-8,
           0,
           0.0000021457672119140625
          ],
          "color": "black",
          "thickness": 5
         },
         "hovertemplate": "colors_plot_col=0.278<br>0=%{x}<br>1=%{y}<br>Metadata_Plate=%{customdata[0]}<br>Metadata_Well=%{customdata[1]}<br>Metadata_Compound=%{customdata[2]}<br>Metadata_NPSize_nm=%{customdata[3]}<br>Metadata_Concentration_uM=%{customdata[4]}<extra></extra>",
         "legendgroup": "0.278",
         "marker": {
          "color": "#d8576b",
          "line": {
           "color": "White",
           "width": 1
          },
          "size": 7,
          "symbol": "circle"
         },
         "mode": "markers",
         "name": "0.278",
         "orientation": "v",
         "showlegend": true,
         "type": "scatter",
         "x": [
          -6.691900253295898,
          -7.409282207489014,
          -8.029658317565918,
          -7.057389736175537,
          -6.348634719848633,
          -6.4334492683410645,
          -8.366134643554688,
          -7.250853061676025,
          -7.582111835479736
         ],
         "xaxis": "x",
         "y": [
          1.7200160026550293,
          2.5712010860443115,
          2.9436984062194824,
          1.855225682258606,
          2.8711071014404297,
          3.206052303314209,
          -0.017108766362071037,
          3.032550096511841,
          3.7918694019317627
         ],
         "yaxis": "y"
        },
        {
         "customdata": [
          [
           "211020_085918_Plate_1",
           "E9",
           "AgNP",
           100,
           0.556
          ],
          [
           "211020_085918_Plate_1",
           "F9",
           "AgNP",
           100,
           0.556
          ],
          [
           "211020_085918_Plate_1",
           "G9",
           "AgNP",
           100,
           0.556
          ],
          [
           "211008_092824_Plate_1",
           "E9",
           "AgNP",
           100,
           0.556
          ],
          [
           "211008_092824_Plate_1",
           "F9",
           "AgNP",
           100,
           0.556
          ],
          [
           "211008_092824_Plate_1",
           "G9",
           "AgNP",
           100,
           0.556
          ],
          [
           "211015_065907_Plate_1",
           "E9",
           "AgNP",
           100,
           0.556
          ],
          [
           "211015_065907_Plate_1",
           "F9",
           "AgNP",
           100,
           0.556
          ],
          [
           "211015_065907_Plate_1",
           "G9",
           "AgNP",
           100,
           0.556
          ]
         ],
         "error_x": {
          "array": [
           0.000002384185791015625,
           0.0000019073486328125,
           0.00000476837158203125,
           0.000001430511474609375,
           0.0000019073486328125,
           0.000003814697265625,
           0.00000476837158203125,
           0,
           0.000004291534423828125
          ],
          "color": "black",
          "thickness": 5
         },
         "error_y": {
          "array": [
           0,
           7.152557373046875e-7,
           0.000001430511474609375,
           9.5367431640625e-7,
           0.00000476837158203125,
           0.0000035762786865234375,
           0.0000016689300537109375,
           0.000003337860107421875,
           0.000004291534423828125
          ],
          "color": "black",
          "thickness": 5
         },
         "hovertemplate": "colors_plot_col=0.556<br>0=%{x}<br>1=%{y}<br>Metadata_Plate=%{customdata[0]}<br>Metadata_Well=%{customdata[1]}<br>Metadata_Compound=%{customdata[2]}<br>Metadata_NPSize_nm=%{customdata[3]}<br>Metadata_Concentration_uM=%{customdata[4]}<extra></extra>",
         "legendgroup": "0.556",
         "marker": {
          "color": "#ed7953",
          "line": {
           "color": "White",
           "width": 1
          },
          "size": 7,
          "symbol": "circle"
         },
         "mode": "markers",
         "name": "0.556",
         "orientation": "v",
         "showlegend": true,
         "type": "scatter",
         "x": [
          -3.963930130004883,
          -6.989563465118408,
          -7.3743486404418945,
          -6.421630382537842,
          -6.650124549865723,
          -6.35341739654541,
          -8.223995208740234,
          -7.406676769256592,
          -7.0514960289001465
         ],
         "xaxis": "x",
         "y": [
          -0.9097290635108948,
          3.339996576309204,
          4.156311511993408,
          4.266785144805908,
          3.527865409851074,
          3.7259016036987305,
          3.8201301097869873,
          4.689972400665283,
          4.361410617828369
         ],
         "yaxis": "y"
        },
        {
         "customdata": [
          [
           "211020_085918_Plate_1",
           "E10",
           "AgNP",
           100,
           1.111
          ],
          [
           "211020_085918_Plate_1",
           "F10",
           "AgNP",
           100,
           1.111
          ],
          [
           "211020_085918_Plate_1",
           "G10",
           "AgNP",
           100,
           1.111
          ],
          [
           "211008_092824_Plate_1",
           "E10",
           "AgNP",
           100,
           1.111
          ],
          [
           "211008_092824_Plate_1",
           "F10",
           "AgNP",
           100,
           1.111
          ],
          [
           "211008_092824_Plate_1",
           "G10",
           "AgNP",
           100,
           1.111
          ],
          [
           "211015_065907_Plate_1",
           "E10",
           "AgNP",
           100,
           1.111
          ],
          [
           "211015_065907_Plate_1",
           "F10",
           "AgNP",
           100,
           1.111
          ],
          [
           "211015_065907_Plate_1",
           "G10",
           "AgNP",
           100,
           1.111
          ]
         ],
         "error_x": {
          "array": [
           0.000008106231689453125,
           0.00000286102294921875,
           0.000008106231689453125,
           0.000005245208740234375,
           0.00000762939453125,
           0.00000476837158203125,
           0.0000133514404296875,
           0.000003814697265625,
           0.00001239776611328125
          ],
          "color": "black",
          "thickness": 5
         },
         "error_y": {
          "array": [
           0.0000057220458984375,
           0.000002384185791015625,
           0.00000286102294921875,
           9.5367431640625e-7,
           0.000002384185791015625,
           0.000008106231689453125,
           9.5367431640625e-7,
           0.00000667572021484375,
           0.000004291534423828125
          ],
          "color": "black",
          "thickness": 5
         },
         "hovertemplate": "colors_plot_col=1.111<br>0=%{x}<br>1=%{y}<br>Metadata_Plate=%{customdata[0]}<br>Metadata_Well=%{customdata[1]}<br>Metadata_Compound=%{customdata[2]}<br>Metadata_NPSize_nm=%{customdata[3]}<br>Metadata_Concentration_uM=%{customdata[4]}<extra></extra>",
         "legendgroup": "1.111",
         "marker": {
          "color": "#fb9f3a",
          "line": {
           "color": "White",
           "width": 1
          },
          "size": 7,
          "symbol": "circle"
         },
         "mode": "markers",
         "name": "1.111",
         "orientation": "v",
         "showlegend": true,
         "type": "scatter",
         "x": [
          -7.570012092590332,
          -6.496763706207275,
          -7.936809062957764,
          -6.231390476226807,
          -8.905208587646484,
          -8.817867279052734,
          -9.022722244262695,
          -8.259095191955566,
          -8.895185470581055
         ],
         "xaxis": "x",
         "y": [
          5.281699180603027,
          5.480283737182617,
          4.918035984039307,
          5.724020957946777,
          5.664877891540527,
          5.565497398376465,
          2.801513433456421,
          4.986045837402344,
          4.4445271492004395
         ],
         "yaxis": "y"
        }
       ],
       "layout": {
        "autosize": false,
        "font": {
         "size": 18
        },
        "height": 700,
        "legend": {
         "title": {
          "text": ""
         },
         "tracegroupgap": 0
        },
        "margin": {
         "b": 20,
         "l": 50,
         "pad": 4,
         "r": 50,
         "t": 50
        },
        "plot_bgcolor": "white",
        "template": {
         "data": {
          "bar": [
           {
            "error_x": {
             "color": "#2a3f5f"
            },
            "error_y": {
             "color": "#2a3f5f"
            },
            "marker": {
             "line": {
              "color": "#E5ECF6",
              "width": 0.5
             },
             "pattern": {
              "fillmode": "overlay",
              "size": 10,
              "solidity": 0.2
             }
            },
            "type": "bar"
           }
          ],
          "barpolar": [
           {
            "marker": {
             "line": {
              "color": "#E5ECF6",
              "width": 0.5
             },
             "pattern": {
              "fillmode": "overlay",
              "size": 10,
              "solidity": 0.2
             }
            },
            "type": "barpolar"
           }
          ],
          "carpet": [
           {
            "aaxis": {
             "endlinecolor": "#2a3f5f",
             "gridcolor": "white",
             "linecolor": "white",
             "minorgridcolor": "white",
             "startlinecolor": "#2a3f5f"
            },
            "baxis": {
             "endlinecolor": "#2a3f5f",
             "gridcolor": "white",
             "linecolor": "white",
             "minorgridcolor": "white",
             "startlinecolor": "#2a3f5f"
            },
            "type": "carpet"
           }
          ],
          "choropleth": [
           {
            "colorbar": {
             "outlinewidth": 0,
             "ticks": ""
            },
            "type": "choropleth"
           }
          ],
          "contour": [
           {
            "colorbar": {
             "outlinewidth": 0,
             "ticks": ""
            },
            "colorscale": [
             [
              0,
              "#0d0887"
             ],
             [
              0.1111111111111111,
              "#46039f"
             ],
             [
              0.2222222222222222,
              "#7201a8"
             ],
             [
              0.3333333333333333,
              "#9c179e"
             ],
             [
              0.4444444444444444,
              "#bd3786"
             ],
             [
              0.5555555555555556,
              "#d8576b"
             ],
             [
              0.6666666666666666,
              "#ed7953"
             ],
             [
              0.7777777777777778,
              "#fb9f3a"
             ],
             [
              0.8888888888888888,
              "#fdca26"
             ],
             [
              1,
              "#f0f921"
             ]
            ],
            "type": "contour"
           }
          ],
          "contourcarpet": [
           {
            "colorbar": {
             "outlinewidth": 0,
             "ticks": ""
            },
            "type": "contourcarpet"
           }
          ],
          "heatmap": [
           {
            "colorbar": {
             "outlinewidth": 0,
             "ticks": ""
            },
            "colorscale": [
             [
              0,
              "#0d0887"
             ],
             [
              0.1111111111111111,
              "#46039f"
             ],
             [
              0.2222222222222222,
              "#7201a8"
             ],
             [
              0.3333333333333333,
              "#9c179e"
             ],
             [
              0.4444444444444444,
              "#bd3786"
             ],
             [
              0.5555555555555556,
              "#d8576b"
             ],
             [
              0.6666666666666666,
              "#ed7953"
             ],
             [
              0.7777777777777778,
              "#fb9f3a"
             ],
             [
              0.8888888888888888,
              "#fdca26"
             ],
             [
              1,
              "#f0f921"
             ]
            ],
            "type": "heatmap"
           }
          ],
          "heatmapgl": [
           {
            "colorbar": {
             "outlinewidth": 0,
             "ticks": ""
            },
            "colorscale": [
             [
              0,
              "#0d0887"
             ],
             [
              0.1111111111111111,
              "#46039f"
             ],
             [
              0.2222222222222222,
              "#7201a8"
             ],
             [
              0.3333333333333333,
              "#9c179e"
             ],
             [
              0.4444444444444444,
              "#bd3786"
             ],
             [
              0.5555555555555556,
              "#d8576b"
             ],
             [
              0.6666666666666666,
              "#ed7953"
             ],
             [
              0.7777777777777778,
              "#fb9f3a"
             ],
             [
              0.8888888888888888,
              "#fdca26"
             ],
             [
              1,
              "#f0f921"
             ]
            ],
            "type": "heatmapgl"
           }
          ],
          "histogram": [
           {
            "marker": {
             "pattern": {
              "fillmode": "overlay",
              "size": 10,
              "solidity": 0.2
             }
            },
            "type": "histogram"
           }
          ],
          "histogram2d": [
           {
            "colorbar": {
             "outlinewidth": 0,
             "ticks": ""
            },
            "colorscale": [
             [
              0,
              "#0d0887"
             ],
             [
              0.1111111111111111,
              "#46039f"
             ],
             [
              0.2222222222222222,
              "#7201a8"
             ],
             [
              0.3333333333333333,
              "#9c179e"
             ],
             [
              0.4444444444444444,
              "#bd3786"
             ],
             [
              0.5555555555555556,
              "#d8576b"
             ],
             [
              0.6666666666666666,
              "#ed7953"
             ],
             [
              0.7777777777777778,
              "#fb9f3a"
             ],
             [
              0.8888888888888888,
              "#fdca26"
             ],
             [
              1,
              "#f0f921"
             ]
            ],
            "type": "histogram2d"
           }
          ],
          "histogram2dcontour": [
           {
            "colorbar": {
             "outlinewidth": 0,
             "ticks": ""
            },
            "colorscale": [
             [
              0,
              "#0d0887"
             ],
             [
              0.1111111111111111,
              "#46039f"
             ],
             [
              0.2222222222222222,
              "#7201a8"
             ],
             [
              0.3333333333333333,
              "#9c179e"
             ],
             [
              0.4444444444444444,
              "#bd3786"
             ],
             [
              0.5555555555555556,
              "#d8576b"
             ],
             [
              0.6666666666666666,
              "#ed7953"
             ],
             [
              0.7777777777777778,
              "#fb9f3a"
             ],
             [
              0.8888888888888888,
              "#fdca26"
             ],
             [
              1,
              "#f0f921"
             ]
            ],
            "type": "histogram2dcontour"
           }
          ],
          "mesh3d": [
           {
            "colorbar": {
             "outlinewidth": 0,
             "ticks": ""
            },
            "type": "mesh3d"
           }
          ],
          "parcoords": [
           {
            "line": {
             "colorbar": {
              "outlinewidth": 0,
              "ticks": ""
             }
            },
            "type": "parcoords"
           }
          ],
          "pie": [
           {
            "automargin": true,
            "type": "pie"
           }
          ],
          "scatter": [
           {
            "fillpattern": {
             "fillmode": "overlay",
             "size": 10,
             "solidity": 0.2
            },
            "type": "scatter"
           }
          ],
          "scatter3d": [
           {
            "line": {
             "colorbar": {
              "outlinewidth": 0,
              "ticks": ""
             }
            },
            "marker": {
             "colorbar": {
              "outlinewidth": 0,
              "ticks": ""
             }
            },
            "type": "scatter3d"
           }
          ],
          "scattercarpet": [
           {
            "marker": {
             "colorbar": {
              "outlinewidth": 0,
              "ticks": ""
             }
            },
            "type": "scattercarpet"
           }
          ],
          "scattergeo": [
           {
            "marker": {
             "colorbar": {
              "outlinewidth": 0,
              "ticks": ""
             }
            },
            "type": "scattergeo"
           }
          ],
          "scattergl": [
           {
            "marker": {
             "colorbar": {
              "outlinewidth": 0,
              "ticks": ""
             }
            },
            "type": "scattergl"
           }
          ],
          "scattermapbox": [
           {
            "marker": {
             "colorbar": {
              "outlinewidth": 0,
              "ticks": ""
             }
            },
            "type": "scattermapbox"
           }
          ],
          "scatterpolar": [
           {
            "marker": {
             "colorbar": {
              "outlinewidth": 0,
              "ticks": ""
             }
            },
            "type": "scatterpolar"
           }
          ],
          "scatterpolargl": [
           {
            "marker": {
             "colorbar": {
              "outlinewidth": 0,
              "ticks": ""
             }
            },
            "type": "scatterpolargl"
           }
          ],
          "scatterternary": [
           {
            "marker": {
             "colorbar": {
              "outlinewidth": 0,
              "ticks": ""
             }
            },
            "type": "scatterternary"
           }
          ],
          "surface": [
           {
            "colorbar": {
             "outlinewidth": 0,
             "ticks": ""
            },
            "colorscale": [
             [
              0,
              "#0d0887"
             ],
             [
              0.1111111111111111,
              "#46039f"
             ],
             [
              0.2222222222222222,
              "#7201a8"
             ],
             [
              0.3333333333333333,
              "#9c179e"
             ],
             [
              0.4444444444444444,
              "#bd3786"
             ],
             [
              0.5555555555555556,
              "#d8576b"
             ],
             [
              0.6666666666666666,
              "#ed7953"
             ],
             [
              0.7777777777777778,
              "#fb9f3a"
             ],
             [
              0.8888888888888888,
              "#fdca26"
             ],
             [
              1,
              "#f0f921"
             ]
            ],
            "type": "surface"
           }
          ],
          "table": [
           {
            "cells": {
             "fill": {
              "color": "#EBF0F8"
             },
             "line": {
              "color": "white"
             }
            },
            "header": {
             "fill": {
              "color": "#C8D4E3"
             },
             "line": {
              "color": "white"
             }
            },
            "type": "table"
           }
          ]
         },
         "layout": {
          "annotationdefaults": {
           "arrowcolor": "#2a3f5f",
           "arrowhead": 0,
           "arrowwidth": 1
          },
          "autotypenumbers": "strict",
          "coloraxis": {
           "colorbar": {
            "outlinewidth": 0,
            "ticks": ""
           }
          },
          "colorscale": {
           "diverging": [
            [
             0,
             "#8e0152"
            ],
            [
             0.1,
             "#c51b7d"
            ],
            [
             0.2,
             "#de77ae"
            ],
            [
             0.3,
             "#f1b6da"
            ],
            [
             0.4,
             "#fde0ef"
            ],
            [
             0.5,
             "#f7f7f7"
            ],
            [
             0.6,
             "#e6f5d0"
            ],
            [
             0.7,
             "#b8e186"
            ],
            [
             0.8,
             "#7fbc41"
            ],
            [
             0.9,
             "#4d9221"
            ],
            [
             1,
             "#276419"
            ]
           ],
           "sequential": [
            [
             0,
             "#0d0887"
            ],
            [
             0.1111111111111111,
             "#46039f"
            ],
            [
             0.2222222222222222,
             "#7201a8"
            ],
            [
             0.3333333333333333,
             "#9c179e"
            ],
            [
             0.4444444444444444,
             "#bd3786"
            ],
            [
             0.5555555555555556,
             "#d8576b"
            ],
            [
             0.6666666666666666,
             "#ed7953"
            ],
            [
             0.7777777777777778,
             "#fb9f3a"
            ],
            [
             0.8888888888888888,
             "#fdca26"
            ],
            [
             1,
             "#f0f921"
            ]
           ],
           "sequentialminus": [
            [
             0,
             "#0d0887"
            ],
            [
             0.1111111111111111,
             "#46039f"
            ],
            [
             0.2222222222222222,
             "#7201a8"
            ],
            [
             0.3333333333333333,
             "#9c179e"
            ],
            [
             0.4444444444444444,
             "#bd3786"
            ],
            [
             0.5555555555555556,
             "#d8576b"
            ],
            [
             0.6666666666666666,
             "#ed7953"
            ],
            [
             0.7777777777777778,
             "#fb9f3a"
            ],
            [
             0.8888888888888888,
             "#fdca26"
            ],
            [
             1,
             "#f0f921"
            ]
           ]
          },
          "colorway": [
           "#636efa",
           "#EF553B",
           "#00cc96",
           "#ab63fa",
           "#FFA15A",
           "#19d3f3",
           "#FF6692",
           "#B6E880",
           "#FF97FF",
           "#FECB52"
          ],
          "font": {
           "color": "#2a3f5f"
          },
          "geo": {
           "bgcolor": "white",
           "lakecolor": "white",
           "landcolor": "#E5ECF6",
           "showlakes": true,
           "showland": true,
           "subunitcolor": "white"
          },
          "hoverlabel": {
           "align": "left"
          },
          "hovermode": "closest",
          "mapbox": {
           "style": "light"
          },
          "paper_bgcolor": "white",
          "plot_bgcolor": "#E5ECF6",
          "polar": {
           "angularaxis": {
            "gridcolor": "white",
            "linecolor": "white",
            "ticks": ""
           },
           "bgcolor": "#E5ECF6",
           "radialaxis": {
            "gridcolor": "white",
            "linecolor": "white",
            "ticks": ""
           }
          },
          "scene": {
           "xaxis": {
            "backgroundcolor": "#E5ECF6",
            "gridcolor": "white",
            "gridwidth": 2,
            "linecolor": "white",
            "showbackground": true,
            "ticks": "",
            "zerolinecolor": "white"
           },
           "yaxis": {
            "backgroundcolor": "#E5ECF6",
            "gridcolor": "white",
            "gridwidth": 2,
            "linecolor": "white",
            "showbackground": true,
            "ticks": "",
            "zerolinecolor": "white"
           },
           "zaxis": {
            "backgroundcolor": "#E5ECF6",
            "gridcolor": "white",
            "gridwidth": 2,
            "linecolor": "white",
            "showbackground": true,
            "ticks": "",
            "zerolinecolor": "white"
           }
          },
          "shapedefaults": {
           "line": {
            "color": "#2a3f5f"
           }
          },
          "ternary": {
           "aaxis": {
            "gridcolor": "white",
            "linecolor": "white",
            "ticks": ""
           },
           "baxis": {
            "gridcolor": "white",
            "linecolor": "white",
            "ticks": ""
           },
           "bgcolor": "#E5ECF6",
           "caxis": {
            "gridcolor": "white",
            "linecolor": "white",
            "ticks": ""
           }
          },
          "title": {
           "x": 0.05
          },
          "xaxis": {
           "automargin": true,
           "gridcolor": "white",
           "linecolor": "white",
           "ticks": "",
           "title": {
            "standoff": 15
           },
           "zerolinecolor": "white",
           "zerolinewidth": 2
          },
          "yaxis": {
           "automargin": true,
           "gridcolor": "white",
           "linecolor": "white",
           "ticks": "",
           "title": {
            "standoff": 15
           },
           "zerolinecolor": "white",
           "zerolinewidth": 2
          }
         }
        },
        "title": {
         "text": ""
        },
        "width": 900,
        "xaxis": {
         "anchor": "y",
         "domain": [
          0,
          1
         ],
         "linecolor": "black",
         "mirror": true,
         "showline": true,
         "ticks": "outside",
         "title": {
          "text": "TSNE X"
         }
        },
        "yaxis": {
         "anchor": "x",
         "domain": [
          0,
          1
         ],
         "linecolor": "black",
         "mirror": true,
         "showline": true,
         "ticks": "outside",
         "title": {
          "text": "TSNE Y"
         }
        }
       }
      }
     },
     "metadata": {},
     "output_type": "display_data"
    }
   ],
   "source": [
    "combat_util.plot_tsne(plot_tsne, color_col='Metadata_Concentration_uM', \n",
    "                    #   split_df = False, split_column = None, np = None,\n",
    "                      hover_cols=hover_list,\n",
    "                    #   size=True, size_col = \"Metadata_concentration_uM\",\n",
    "                      x=\"0\", y=\"1\",\n",
    "                      error_x=\"x_err\", error_y=\"y_err\",\n",
    "                      discrete=True\n",
    "                      )"
   ]
  },
  {
   "cell_type": "code",
   "execution_count": 10,
   "metadata": {},
   "outputs": [
    {
     "data": {
      "application/vnd.plotly.v1+json": {
       "config": {
        "plotlyServerURL": "https://plot.ly"
       },
       "data": [
        {
         "hovertemplate": "x=%{x}<br>y=%{y}<extra></extra>",
         "legendgroup": "",
         "line": {
          "color": "red",
          "dash": "solid",
          "width": 1
         },
         "marker": {
          "symbol": "circle"
         },
         "mode": "lines+markers",
         "name": "",
         "orientation": "v",
         "showlegend": false,
         "type": "scatter",
         "x": [
          5,
          10,
          15,
          20,
          25,
          30,
          35,
          40,
          45,
          50,
          55,
          60
         ],
         "xaxis": "x",
         "y": [
          0.8629351258277893,
          0.8948718309402466,
          0.6824173331260681,
          0.49814292788505554,
          0.4389820694923401,
          0.17904271185398102,
          0.410398930311203,
          0.4362536668777466,
          0.47896531224250793,
          0.042126625776290894,
          0.5655456781387329,
          0.6043601036071777
         ],
         "yaxis": "y"
        }
       ],
       "layout": {
        "legend": {
         "tracegroupgap": 0
        },
        "margin": {
         "t": 60
        },
        "template": {
         "data": {
          "bar": [
           {
            "error_x": {
             "color": "#2a3f5f"
            },
            "error_y": {
             "color": "#2a3f5f"
            },
            "marker": {
             "line": {
              "color": "#E5ECF6",
              "width": 0.5
             },
             "pattern": {
              "fillmode": "overlay",
              "size": 10,
              "solidity": 0.2
             }
            },
            "type": "bar"
           }
          ],
          "barpolar": [
           {
            "marker": {
             "line": {
              "color": "#E5ECF6",
              "width": 0.5
             },
             "pattern": {
              "fillmode": "overlay",
              "size": 10,
              "solidity": 0.2
             }
            },
            "type": "barpolar"
           }
          ],
          "carpet": [
           {
            "aaxis": {
             "endlinecolor": "#2a3f5f",
             "gridcolor": "white",
             "linecolor": "white",
             "minorgridcolor": "white",
             "startlinecolor": "#2a3f5f"
            },
            "baxis": {
             "endlinecolor": "#2a3f5f",
             "gridcolor": "white",
             "linecolor": "white",
             "minorgridcolor": "white",
             "startlinecolor": "#2a3f5f"
            },
            "type": "carpet"
           }
          ],
          "choropleth": [
           {
            "colorbar": {
             "outlinewidth": 0,
             "ticks": ""
            },
            "type": "choropleth"
           }
          ],
          "contour": [
           {
            "colorbar": {
             "outlinewidth": 0,
             "ticks": ""
            },
            "colorscale": [
             [
              0,
              "#0d0887"
             ],
             [
              0.1111111111111111,
              "#46039f"
             ],
             [
              0.2222222222222222,
              "#7201a8"
             ],
             [
              0.3333333333333333,
              "#9c179e"
             ],
             [
              0.4444444444444444,
              "#bd3786"
             ],
             [
              0.5555555555555556,
              "#d8576b"
             ],
             [
              0.6666666666666666,
              "#ed7953"
             ],
             [
              0.7777777777777778,
              "#fb9f3a"
             ],
             [
              0.8888888888888888,
              "#fdca26"
             ],
             [
              1,
              "#f0f921"
             ]
            ],
            "type": "contour"
           }
          ],
          "contourcarpet": [
           {
            "colorbar": {
             "outlinewidth": 0,
             "ticks": ""
            },
            "type": "contourcarpet"
           }
          ],
          "heatmap": [
           {
            "colorbar": {
             "outlinewidth": 0,
             "ticks": ""
            },
            "colorscale": [
             [
              0,
              "#0d0887"
             ],
             [
              0.1111111111111111,
              "#46039f"
             ],
             [
              0.2222222222222222,
              "#7201a8"
             ],
             [
              0.3333333333333333,
              "#9c179e"
             ],
             [
              0.4444444444444444,
              "#bd3786"
             ],
             [
              0.5555555555555556,
              "#d8576b"
             ],
             [
              0.6666666666666666,
              "#ed7953"
             ],
             [
              0.7777777777777778,
              "#fb9f3a"
             ],
             [
              0.8888888888888888,
              "#fdca26"
             ],
             [
              1,
              "#f0f921"
             ]
            ],
            "type": "heatmap"
           }
          ],
          "heatmapgl": [
           {
            "colorbar": {
             "outlinewidth": 0,
             "ticks": ""
            },
            "colorscale": [
             [
              0,
              "#0d0887"
             ],
             [
              0.1111111111111111,
              "#46039f"
             ],
             [
              0.2222222222222222,
              "#7201a8"
             ],
             [
              0.3333333333333333,
              "#9c179e"
             ],
             [
              0.4444444444444444,
              "#bd3786"
             ],
             [
              0.5555555555555556,
              "#d8576b"
             ],
             [
              0.6666666666666666,
              "#ed7953"
             ],
             [
              0.7777777777777778,
              "#fb9f3a"
             ],
             [
              0.8888888888888888,
              "#fdca26"
             ],
             [
              1,
              "#f0f921"
             ]
            ],
            "type": "heatmapgl"
           }
          ],
          "histogram": [
           {
            "marker": {
             "pattern": {
              "fillmode": "overlay",
              "size": 10,
              "solidity": 0.2
             }
            },
            "type": "histogram"
           }
          ],
          "histogram2d": [
           {
            "colorbar": {
             "outlinewidth": 0,
             "ticks": ""
            },
            "colorscale": [
             [
              0,
              "#0d0887"
             ],
             [
              0.1111111111111111,
              "#46039f"
             ],
             [
              0.2222222222222222,
              "#7201a8"
             ],
             [
              0.3333333333333333,
              "#9c179e"
             ],
             [
              0.4444444444444444,
              "#bd3786"
             ],
             [
              0.5555555555555556,
              "#d8576b"
             ],
             [
              0.6666666666666666,
              "#ed7953"
             ],
             [
              0.7777777777777778,
              "#fb9f3a"
             ],
             [
              0.8888888888888888,
              "#fdca26"
             ],
             [
              1,
              "#f0f921"
             ]
            ],
            "type": "histogram2d"
           }
          ],
          "histogram2dcontour": [
           {
            "colorbar": {
             "outlinewidth": 0,
             "ticks": ""
            },
            "colorscale": [
             [
              0,
              "#0d0887"
             ],
             [
              0.1111111111111111,
              "#46039f"
             ],
             [
              0.2222222222222222,
              "#7201a8"
             ],
             [
              0.3333333333333333,
              "#9c179e"
             ],
             [
              0.4444444444444444,
              "#bd3786"
             ],
             [
              0.5555555555555556,
              "#d8576b"
             ],
             [
              0.6666666666666666,
              "#ed7953"
             ],
             [
              0.7777777777777778,
              "#fb9f3a"
             ],
             [
              0.8888888888888888,
              "#fdca26"
             ],
             [
              1,
              "#f0f921"
             ]
            ],
            "type": "histogram2dcontour"
           }
          ],
          "mesh3d": [
           {
            "colorbar": {
             "outlinewidth": 0,
             "ticks": ""
            },
            "type": "mesh3d"
           }
          ],
          "parcoords": [
           {
            "line": {
             "colorbar": {
              "outlinewidth": 0,
              "ticks": ""
             }
            },
            "type": "parcoords"
           }
          ],
          "pie": [
           {
            "automargin": true,
            "type": "pie"
           }
          ],
          "scatter": [
           {
            "fillpattern": {
             "fillmode": "overlay",
             "size": 10,
             "solidity": 0.2
            },
            "type": "scatter"
           }
          ],
          "scatter3d": [
           {
            "line": {
             "colorbar": {
              "outlinewidth": 0,
              "ticks": ""
             }
            },
            "marker": {
             "colorbar": {
              "outlinewidth": 0,
              "ticks": ""
             }
            },
            "type": "scatter3d"
           }
          ],
          "scattercarpet": [
           {
            "marker": {
             "colorbar": {
              "outlinewidth": 0,
              "ticks": ""
             }
            },
            "type": "scattercarpet"
           }
          ],
          "scattergeo": [
           {
            "marker": {
             "colorbar": {
              "outlinewidth": 0,
              "ticks": ""
             }
            },
            "type": "scattergeo"
           }
          ],
          "scattergl": [
           {
            "marker": {
             "colorbar": {
              "outlinewidth": 0,
              "ticks": ""
             }
            },
            "type": "scattergl"
           }
          ],
          "scattermapbox": [
           {
            "marker": {
             "colorbar": {
              "outlinewidth": 0,
              "ticks": ""
             }
            },
            "type": "scattermapbox"
           }
          ],
          "scatterpolar": [
           {
            "marker": {
             "colorbar": {
              "outlinewidth": 0,
              "ticks": ""
             }
            },
            "type": "scatterpolar"
           }
          ],
          "scatterpolargl": [
           {
            "marker": {
             "colorbar": {
              "outlinewidth": 0,
              "ticks": ""
             }
            },
            "type": "scatterpolargl"
           }
          ],
          "scatterternary": [
           {
            "marker": {
             "colorbar": {
              "outlinewidth": 0,
              "ticks": ""
             }
            },
            "type": "scatterternary"
           }
          ],
          "surface": [
           {
            "colorbar": {
             "outlinewidth": 0,
             "ticks": ""
            },
            "colorscale": [
             [
              0,
              "#0d0887"
             ],
             [
              0.1111111111111111,
              "#46039f"
             ],
             [
              0.2222222222222222,
              "#7201a8"
             ],
             [
              0.3333333333333333,
              "#9c179e"
             ],
             [
              0.4444444444444444,
              "#bd3786"
             ],
             [
              0.5555555555555556,
              "#d8576b"
             ],
             [
              0.6666666666666666,
              "#ed7953"
             ],
             [
              0.7777777777777778,
              "#fb9f3a"
             ],
             [
              0.8888888888888888,
              "#fdca26"
             ],
             [
              1,
              "#f0f921"
             ]
            ],
            "type": "surface"
           }
          ],
          "table": [
           {
            "cells": {
             "fill": {
              "color": "#EBF0F8"
             },
             "line": {
              "color": "white"
             }
            },
            "header": {
             "fill": {
              "color": "#C8D4E3"
             },
             "line": {
              "color": "white"
             }
            },
            "type": "table"
           }
          ]
         },
         "layout": {
          "annotationdefaults": {
           "arrowcolor": "#2a3f5f",
           "arrowhead": 0,
           "arrowwidth": 1
          },
          "autotypenumbers": "strict",
          "coloraxis": {
           "colorbar": {
            "outlinewidth": 0,
            "ticks": ""
           }
          },
          "colorscale": {
           "diverging": [
            [
             0,
             "#8e0152"
            ],
            [
             0.1,
             "#c51b7d"
            ],
            [
             0.2,
             "#de77ae"
            ],
            [
             0.3,
             "#f1b6da"
            ],
            [
             0.4,
             "#fde0ef"
            ],
            [
             0.5,
             "#f7f7f7"
            ],
            [
             0.6,
             "#e6f5d0"
            ],
            [
             0.7,
             "#b8e186"
            ],
            [
             0.8,
             "#7fbc41"
            ],
            [
             0.9,
             "#4d9221"
            ],
            [
             1,
             "#276419"
            ]
           ],
           "sequential": [
            [
             0,
             "#0d0887"
            ],
            [
             0.1111111111111111,
             "#46039f"
            ],
            [
             0.2222222222222222,
             "#7201a8"
            ],
            [
             0.3333333333333333,
             "#9c179e"
            ],
            [
             0.4444444444444444,
             "#bd3786"
            ],
            [
             0.5555555555555556,
             "#d8576b"
            ],
            [
             0.6666666666666666,
             "#ed7953"
            ],
            [
             0.7777777777777778,
             "#fb9f3a"
            ],
            [
             0.8888888888888888,
             "#fdca26"
            ],
            [
             1,
             "#f0f921"
            ]
           ],
           "sequentialminus": [
            [
             0,
             "#0d0887"
            ],
            [
             0.1111111111111111,
             "#46039f"
            ],
            [
             0.2222222222222222,
             "#7201a8"
            ],
            [
             0.3333333333333333,
             "#9c179e"
            ],
            [
             0.4444444444444444,
             "#bd3786"
            ],
            [
             0.5555555555555556,
             "#d8576b"
            ],
            [
             0.6666666666666666,
             "#ed7953"
            ],
            [
             0.7777777777777778,
             "#fb9f3a"
            ],
            [
             0.8888888888888888,
             "#fdca26"
            ],
            [
             1,
             "#f0f921"
            ]
           ]
          },
          "colorway": [
           "#636efa",
           "#EF553B",
           "#00cc96",
           "#ab63fa",
           "#FFA15A",
           "#19d3f3",
           "#FF6692",
           "#B6E880",
           "#FF97FF",
           "#FECB52"
          ],
          "font": {
           "color": "#2a3f5f"
          },
          "geo": {
           "bgcolor": "white",
           "lakecolor": "white",
           "landcolor": "#E5ECF6",
           "showlakes": true,
           "showland": true,
           "subunitcolor": "white"
          },
          "hoverlabel": {
           "align": "left"
          },
          "hovermode": "closest",
          "mapbox": {
           "style": "light"
          },
          "paper_bgcolor": "white",
          "plot_bgcolor": "#E5ECF6",
          "polar": {
           "angularaxis": {
            "gridcolor": "white",
            "linecolor": "white",
            "ticks": ""
           },
           "bgcolor": "#E5ECF6",
           "radialaxis": {
            "gridcolor": "white",
            "linecolor": "white",
            "ticks": ""
           }
          },
          "scene": {
           "xaxis": {
            "backgroundcolor": "#E5ECF6",
            "gridcolor": "white",
            "gridwidth": 2,
            "linecolor": "white",
            "showbackground": true,
            "ticks": "",
            "zerolinecolor": "white"
           },
           "yaxis": {
            "backgroundcolor": "#E5ECF6",
            "gridcolor": "white",
            "gridwidth": 2,
            "linecolor": "white",
            "showbackground": true,
            "ticks": "",
            "zerolinecolor": "white"
           },
           "zaxis": {
            "backgroundcolor": "#E5ECF6",
            "gridcolor": "white",
            "gridwidth": 2,
            "linecolor": "white",
            "showbackground": true,
            "ticks": "",
            "zerolinecolor": "white"
           }
          },
          "shapedefaults": {
           "line": {
            "color": "#2a3f5f"
           }
          },
          "ternary": {
           "aaxis": {
            "gridcolor": "white",
            "linecolor": "white",
            "ticks": ""
           },
           "baxis": {
            "gridcolor": "white",
            "linecolor": "white",
            "ticks": ""
           },
           "bgcolor": "#E5ECF6",
           "caxis": {
            "gridcolor": "white",
            "linecolor": "white",
            "ticks": ""
           }
          },
          "title": {
           "x": 0.05
          },
          "xaxis": {
           "automargin": true,
           "gridcolor": "white",
           "linecolor": "white",
           "ticks": "",
           "title": {
            "standoff": 15
           },
           "zerolinecolor": "white",
           "zerolinewidth": 2
          },
          "yaxis": {
           "automargin": true,
           "gridcolor": "white",
           "linecolor": "white",
           "ticks": "",
           "title": {
            "standoff": 15
           },
           "zerolinecolor": "white",
           "zerolinewidth": 2
          }
         }
        },
        "xaxis": {
         "anchor": "y",
         "domain": [
          0,
          1
         ],
         "title": {
          "text": "Perplexity Values"
         }
        },
        "yaxis": {
         "anchor": "x",
         "domain": [
          0,
          1
         ],
         "title": {
          "text": "Divergence"
         }
        }
       }
      }
     },
     "metadata": {},
     "output_type": "display_data"
    }
   ],
   "source": [
    "combat_util.tsne_divergence(X, range=65)"
   ]
  },
  {
   "cell_type": "markdown",
   "metadata": {},
   "source": [
    "# Ag40"
   ]
  },
  {
   "cell_type": "markdown",
   "metadata": {},
   "source": [
    "## tSNE"
   ]
  },
  {
   "cell_type": "code",
   "execution_count": null,
   "metadata": {},
   "outputs": [],
   "source": [
    "X, plot_tsne = combat_util.tsne_generator(df_40, perplexity=25, n_components = 2, metric=metric, iterate=True, number_runs=number_of_iterations)"
   ]
  },
  {
   "cell_type": "code",
   "execution_count": 50,
   "metadata": {},
   "outputs": [
    {
     "data": {
      "application/vnd.plotly.v1+json": {
       "config": {
        "plotlyServerURL": "https://plot.ly"
       },
       "data": [
        {
         "hovertemplate": "x=%{x}<br>y=%{y}<extra></extra>",
         "legendgroup": "",
         "line": {
          "color": "red",
          "dash": "solid",
          "width": 1
         },
         "marker": {
          "symbol": "circle"
         },
         "mode": "lines+markers",
         "name": "",
         "orientation": "v",
         "showlegend": false,
         "type": "scatter",
         "x": [
          5,
          10,
          15,
          20,
          25,
          30,
          35,
          40,
          45,
          50,
          55,
          60
         ],
         "xaxis": "x",
         "y": [
          0.7147959470748901,
          0.4884834587574005,
          0.4567210376262665,
          0.3777562975883484,
          0.2283700704574585,
          0.3278133273124695,
          0.3769785761833191,
          0.3567221164703369,
          0.3315452039241791,
          0.41513264179229736,
          0.6812833547592163,
          0.010372445918619633
         ],
         "yaxis": "y"
        }
       ],
       "layout": {
        "legend": {
         "tracegroupgap": 0
        },
        "margin": {
         "t": 60
        },
        "template": {
         "data": {
          "bar": [
           {
            "error_x": {
             "color": "#2a3f5f"
            },
            "error_y": {
             "color": "#2a3f5f"
            },
            "marker": {
             "line": {
              "color": "#E5ECF6",
              "width": 0.5
             },
             "pattern": {
              "fillmode": "overlay",
              "size": 10,
              "solidity": 0.2
             }
            },
            "type": "bar"
           }
          ],
          "barpolar": [
           {
            "marker": {
             "line": {
              "color": "#E5ECF6",
              "width": 0.5
             },
             "pattern": {
              "fillmode": "overlay",
              "size": 10,
              "solidity": 0.2
             }
            },
            "type": "barpolar"
           }
          ],
          "carpet": [
           {
            "aaxis": {
             "endlinecolor": "#2a3f5f",
             "gridcolor": "white",
             "linecolor": "white",
             "minorgridcolor": "white",
             "startlinecolor": "#2a3f5f"
            },
            "baxis": {
             "endlinecolor": "#2a3f5f",
             "gridcolor": "white",
             "linecolor": "white",
             "minorgridcolor": "white",
             "startlinecolor": "#2a3f5f"
            },
            "type": "carpet"
           }
          ],
          "choropleth": [
           {
            "colorbar": {
             "outlinewidth": 0,
             "ticks": ""
            },
            "type": "choropleth"
           }
          ],
          "contour": [
           {
            "colorbar": {
             "outlinewidth": 0,
             "ticks": ""
            },
            "colorscale": [
             [
              0,
              "#0d0887"
             ],
             [
              0.1111111111111111,
              "#46039f"
             ],
             [
              0.2222222222222222,
              "#7201a8"
             ],
             [
              0.3333333333333333,
              "#9c179e"
             ],
             [
              0.4444444444444444,
              "#bd3786"
             ],
             [
              0.5555555555555556,
              "#d8576b"
             ],
             [
              0.6666666666666666,
              "#ed7953"
             ],
             [
              0.7777777777777778,
              "#fb9f3a"
             ],
             [
              0.8888888888888888,
              "#fdca26"
             ],
             [
              1,
              "#f0f921"
             ]
            ],
            "type": "contour"
           }
          ],
          "contourcarpet": [
           {
            "colorbar": {
             "outlinewidth": 0,
             "ticks": ""
            },
            "type": "contourcarpet"
           }
          ],
          "heatmap": [
           {
            "colorbar": {
             "outlinewidth": 0,
             "ticks": ""
            },
            "colorscale": [
             [
              0,
              "#0d0887"
             ],
             [
              0.1111111111111111,
              "#46039f"
             ],
             [
              0.2222222222222222,
              "#7201a8"
             ],
             [
              0.3333333333333333,
              "#9c179e"
             ],
             [
              0.4444444444444444,
              "#bd3786"
             ],
             [
              0.5555555555555556,
              "#d8576b"
             ],
             [
              0.6666666666666666,
              "#ed7953"
             ],
             [
              0.7777777777777778,
              "#fb9f3a"
             ],
             [
              0.8888888888888888,
              "#fdca26"
             ],
             [
              1,
              "#f0f921"
             ]
            ],
            "type": "heatmap"
           }
          ],
          "heatmapgl": [
           {
            "colorbar": {
             "outlinewidth": 0,
             "ticks": ""
            },
            "colorscale": [
             [
              0,
              "#0d0887"
             ],
             [
              0.1111111111111111,
              "#46039f"
             ],
             [
              0.2222222222222222,
              "#7201a8"
             ],
             [
              0.3333333333333333,
              "#9c179e"
             ],
             [
              0.4444444444444444,
              "#bd3786"
             ],
             [
              0.5555555555555556,
              "#d8576b"
             ],
             [
              0.6666666666666666,
              "#ed7953"
             ],
             [
              0.7777777777777778,
              "#fb9f3a"
             ],
             [
              0.8888888888888888,
              "#fdca26"
             ],
             [
              1,
              "#f0f921"
             ]
            ],
            "type": "heatmapgl"
           }
          ],
          "histogram": [
           {
            "marker": {
             "pattern": {
              "fillmode": "overlay",
              "size": 10,
              "solidity": 0.2
             }
            },
            "type": "histogram"
           }
          ],
          "histogram2d": [
           {
            "colorbar": {
             "outlinewidth": 0,
             "ticks": ""
            },
            "colorscale": [
             [
              0,
              "#0d0887"
             ],
             [
              0.1111111111111111,
              "#46039f"
             ],
             [
              0.2222222222222222,
              "#7201a8"
             ],
             [
              0.3333333333333333,
              "#9c179e"
             ],
             [
              0.4444444444444444,
              "#bd3786"
             ],
             [
              0.5555555555555556,
              "#d8576b"
             ],
             [
              0.6666666666666666,
              "#ed7953"
             ],
             [
              0.7777777777777778,
              "#fb9f3a"
             ],
             [
              0.8888888888888888,
              "#fdca26"
             ],
             [
              1,
              "#f0f921"
             ]
            ],
            "type": "histogram2d"
           }
          ],
          "histogram2dcontour": [
           {
            "colorbar": {
             "outlinewidth": 0,
             "ticks": ""
            },
            "colorscale": [
             [
              0,
              "#0d0887"
             ],
             [
              0.1111111111111111,
              "#46039f"
             ],
             [
              0.2222222222222222,
              "#7201a8"
             ],
             [
              0.3333333333333333,
              "#9c179e"
             ],
             [
              0.4444444444444444,
              "#bd3786"
             ],
             [
              0.5555555555555556,
              "#d8576b"
             ],
             [
              0.6666666666666666,
              "#ed7953"
             ],
             [
              0.7777777777777778,
              "#fb9f3a"
             ],
             [
              0.8888888888888888,
              "#fdca26"
             ],
             [
              1,
              "#f0f921"
             ]
            ],
            "type": "histogram2dcontour"
           }
          ],
          "mesh3d": [
           {
            "colorbar": {
             "outlinewidth": 0,
             "ticks": ""
            },
            "type": "mesh3d"
           }
          ],
          "parcoords": [
           {
            "line": {
             "colorbar": {
              "outlinewidth": 0,
              "ticks": ""
             }
            },
            "type": "parcoords"
           }
          ],
          "pie": [
           {
            "automargin": true,
            "type": "pie"
           }
          ],
          "scatter": [
           {
            "fillpattern": {
             "fillmode": "overlay",
             "size": 10,
             "solidity": 0.2
            },
            "type": "scatter"
           }
          ],
          "scatter3d": [
           {
            "line": {
             "colorbar": {
              "outlinewidth": 0,
              "ticks": ""
             }
            },
            "marker": {
             "colorbar": {
              "outlinewidth": 0,
              "ticks": ""
             }
            },
            "type": "scatter3d"
           }
          ],
          "scattercarpet": [
           {
            "marker": {
             "colorbar": {
              "outlinewidth": 0,
              "ticks": ""
             }
            },
            "type": "scattercarpet"
           }
          ],
          "scattergeo": [
           {
            "marker": {
             "colorbar": {
              "outlinewidth": 0,
              "ticks": ""
             }
            },
            "type": "scattergeo"
           }
          ],
          "scattergl": [
           {
            "marker": {
             "colorbar": {
              "outlinewidth": 0,
              "ticks": ""
             }
            },
            "type": "scattergl"
           }
          ],
          "scattermapbox": [
           {
            "marker": {
             "colorbar": {
              "outlinewidth": 0,
              "ticks": ""
             }
            },
            "type": "scattermapbox"
           }
          ],
          "scatterpolar": [
           {
            "marker": {
             "colorbar": {
              "outlinewidth": 0,
              "ticks": ""
             }
            },
            "type": "scatterpolar"
           }
          ],
          "scatterpolargl": [
           {
            "marker": {
             "colorbar": {
              "outlinewidth": 0,
              "ticks": ""
             }
            },
            "type": "scatterpolargl"
           }
          ],
          "scatterternary": [
           {
            "marker": {
             "colorbar": {
              "outlinewidth": 0,
              "ticks": ""
             }
            },
            "type": "scatterternary"
           }
          ],
          "surface": [
           {
            "colorbar": {
             "outlinewidth": 0,
             "ticks": ""
            },
            "colorscale": [
             [
              0,
              "#0d0887"
             ],
             [
              0.1111111111111111,
              "#46039f"
             ],
             [
              0.2222222222222222,
              "#7201a8"
             ],
             [
              0.3333333333333333,
              "#9c179e"
             ],
             [
              0.4444444444444444,
              "#bd3786"
             ],
             [
              0.5555555555555556,
              "#d8576b"
             ],
             [
              0.6666666666666666,
              "#ed7953"
             ],
             [
              0.7777777777777778,
              "#fb9f3a"
             ],
             [
              0.8888888888888888,
              "#fdca26"
             ],
             [
              1,
              "#f0f921"
             ]
            ],
            "type": "surface"
           }
          ],
          "table": [
           {
            "cells": {
             "fill": {
              "color": "#EBF0F8"
             },
             "line": {
              "color": "white"
             }
            },
            "header": {
             "fill": {
              "color": "#C8D4E3"
             },
             "line": {
              "color": "white"
             }
            },
            "type": "table"
           }
          ]
         },
         "layout": {
          "annotationdefaults": {
           "arrowcolor": "#2a3f5f",
           "arrowhead": 0,
           "arrowwidth": 1
          },
          "autotypenumbers": "strict",
          "coloraxis": {
           "colorbar": {
            "outlinewidth": 0,
            "ticks": ""
           }
          },
          "colorscale": {
           "diverging": [
            [
             0,
             "#8e0152"
            ],
            [
             0.1,
             "#c51b7d"
            ],
            [
             0.2,
             "#de77ae"
            ],
            [
             0.3,
             "#f1b6da"
            ],
            [
             0.4,
             "#fde0ef"
            ],
            [
             0.5,
             "#f7f7f7"
            ],
            [
             0.6,
             "#e6f5d0"
            ],
            [
             0.7,
             "#b8e186"
            ],
            [
             0.8,
             "#7fbc41"
            ],
            [
             0.9,
             "#4d9221"
            ],
            [
             1,
             "#276419"
            ]
           ],
           "sequential": [
            [
             0,
             "#0d0887"
            ],
            [
             0.1111111111111111,
             "#46039f"
            ],
            [
             0.2222222222222222,
             "#7201a8"
            ],
            [
             0.3333333333333333,
             "#9c179e"
            ],
            [
             0.4444444444444444,
             "#bd3786"
            ],
            [
             0.5555555555555556,
             "#d8576b"
            ],
            [
             0.6666666666666666,
             "#ed7953"
            ],
            [
             0.7777777777777778,
             "#fb9f3a"
            ],
            [
             0.8888888888888888,
             "#fdca26"
            ],
            [
             1,
             "#f0f921"
            ]
           ],
           "sequentialminus": [
            [
             0,
             "#0d0887"
            ],
            [
             0.1111111111111111,
             "#46039f"
            ],
            [
             0.2222222222222222,
             "#7201a8"
            ],
            [
             0.3333333333333333,
             "#9c179e"
            ],
            [
             0.4444444444444444,
             "#bd3786"
            ],
            [
             0.5555555555555556,
             "#d8576b"
            ],
            [
             0.6666666666666666,
             "#ed7953"
            ],
            [
             0.7777777777777778,
             "#fb9f3a"
            ],
            [
             0.8888888888888888,
             "#fdca26"
            ],
            [
             1,
             "#f0f921"
            ]
           ]
          },
          "colorway": [
           "#636efa",
           "#EF553B",
           "#00cc96",
           "#ab63fa",
           "#FFA15A",
           "#19d3f3",
           "#FF6692",
           "#B6E880",
           "#FF97FF",
           "#FECB52"
          ],
          "font": {
           "color": "#2a3f5f"
          },
          "geo": {
           "bgcolor": "white",
           "lakecolor": "white",
           "landcolor": "#E5ECF6",
           "showlakes": true,
           "showland": true,
           "subunitcolor": "white"
          },
          "hoverlabel": {
           "align": "left"
          },
          "hovermode": "closest",
          "mapbox": {
           "style": "light"
          },
          "paper_bgcolor": "white",
          "plot_bgcolor": "#E5ECF6",
          "polar": {
           "angularaxis": {
            "gridcolor": "white",
            "linecolor": "white",
            "ticks": ""
           },
           "bgcolor": "#E5ECF6",
           "radialaxis": {
            "gridcolor": "white",
            "linecolor": "white",
            "ticks": ""
           }
          },
          "scene": {
           "xaxis": {
            "backgroundcolor": "#E5ECF6",
            "gridcolor": "white",
            "gridwidth": 2,
            "linecolor": "white",
            "showbackground": true,
            "ticks": "",
            "zerolinecolor": "white"
           },
           "yaxis": {
            "backgroundcolor": "#E5ECF6",
            "gridcolor": "white",
            "gridwidth": 2,
            "linecolor": "white",
            "showbackground": true,
            "ticks": "",
            "zerolinecolor": "white"
           },
           "zaxis": {
            "backgroundcolor": "#E5ECF6",
            "gridcolor": "white",
            "gridwidth": 2,
            "linecolor": "white",
            "showbackground": true,
            "ticks": "",
            "zerolinecolor": "white"
           }
          },
          "shapedefaults": {
           "line": {
            "color": "#2a3f5f"
           }
          },
          "ternary": {
           "aaxis": {
            "gridcolor": "white",
            "linecolor": "white",
            "ticks": ""
           },
           "baxis": {
            "gridcolor": "white",
            "linecolor": "white",
            "ticks": ""
           },
           "bgcolor": "#E5ECF6",
           "caxis": {
            "gridcolor": "white",
            "linecolor": "white",
            "ticks": ""
           }
          },
          "title": {
           "x": 0.05
          },
          "xaxis": {
           "automargin": true,
           "gridcolor": "white",
           "linecolor": "white",
           "ticks": "",
           "title": {
            "standoff": 15
           },
           "zerolinecolor": "white",
           "zerolinewidth": 2
          },
          "yaxis": {
           "automargin": true,
           "gridcolor": "white",
           "linecolor": "white",
           "ticks": "",
           "title": {
            "standoff": 15
           },
           "zerolinecolor": "white",
           "zerolinewidth": 2
          }
         }
        },
        "xaxis": {
         "anchor": "y",
         "domain": [
          0,
          1
         ],
         "title": {
          "text": "Perplexity Values"
         }
        },
        "yaxis": {
         "anchor": "x",
         "domain": [
          0,
          1
         ],
         "title": {
          "text": "Divergence"
         }
        }
       }
      }
     },
     "metadata": {},
     "output_type": "display_data"
    }
   ],
   "source": [
    "combat_util.tsne_divergence(X, range=65)"
   ]
  },
  {
   "cell_type": "code",
   "execution_count": 32,
   "metadata": {},
   "outputs": [
    {
     "data": {
      "application/vnd.plotly.v1+json": {
       "config": {
        "plotlyServerURL": "https://plot.ly",
        "toImageButtonOptions": {
         "filename": "custom_image",
         "format": "svg",
         "height": 500,
         "scale": 6,
         "width": 700
        }
       },
       "data": [
        {
         "customdata": [
          [
           "211020_085918_Plate_1",
           "B3",
           "AgNP",
           40,
           0.0011
          ],
          [
           "211020_085918_Plate_1",
           "C3",
           "AgNP",
           40,
           0.0011
          ],
          [
           "211020_085918_Plate_1",
           "D3",
           "AgNP",
           40,
           0.0011
          ],
          [
           "211008_092824_Plate_1",
           "B3",
           "AgNP",
           40,
           0.0011
          ],
          [
           "211008_092824_Plate_1",
           "C3",
           "AgNP",
           40,
           0.0011
          ],
          [
           "211008_092824_Plate_1",
           "D3",
           "AgNP",
           40,
           0.0011
          ],
          [
           "211015_065907_Plate_1",
           "B3",
           "AgNP",
           40,
           0.0011
          ],
          [
           "211015_065907_Plate_1",
           "C3",
           "AgNP",
           40,
           0.0011
          ],
          [
           "211015_065907_Plate_1",
           "D3",
           "AgNP",
           40,
           0.0011
          ]
         ],
         "error_x": {
          "array": [
           0.00002288818359375,
           0.000030517578125,
           0.00002288818359375,
           0.000011444091796875,
           0.000011444091796875,
           0.000019073486328125,
           0.000026702880859375,
           0,
           0.000034332275390625
          ],
          "color": "black",
          "thickness": 5
         },
         "error_y": {
          "array": [
           0.000003814697265625,
           0.0000019073486328125,
           0.000003814697265625,
           9.5367431640625e-7,
           0.000003814697265625,
           0.0000095367431640625,
           0.000005245208740234375,
           0.000003814697265625,
           0.0000011920928955078125
          ],
          "color": "black",
          "thickness": 5
         },
         "hovertemplate": "colors_plot_col=0.0011<br>0=%{x}<br>1=%{y}<br>Metadata_Plate=%{customdata[0]}<br>Metadata_Well=%{customdata[1]}<br>Metadata_Compound=%{customdata[2]}<br>Metadata_NPSize_nm=%{customdata[3]}<br>Metadata_Concentration_uM=%{customdata[4]}<extra></extra>",
         "legendgroup": "0.0011",
         "marker": {
          "color": "#0d0887",
          "line": {
           "color": "White",
           "width": 1
          },
          "size": 7,
          "symbol": "circle"
         },
         "mode": "markers",
         "name": "0.0011",
         "orientation": "v",
         "showlegend": true,
         "type": "scatter",
         "x": [
          -23.24655532836914,
          45.26042175292969,
          51.686336517333984,
          -17.646879196166992,
          20.97158432006836,
          37.524173736572266,
          -40.0397834777832,
          36.224124908447266,
          44.26954650878906
         ],
         "xaxis": "x",
         "y": [
          -19.709230422973633,
          -16.634401321411133,
          -9.146727561950684,
          -1.5680842399597168,
          -21.723146438598633,
          13.350332260131836,
          -7.144776821136475,
          -13.412108421325684,
          -2.173218011856079
         ],
         "yaxis": "y"
        },
        {
         "customdata": [
          [
           "211020_085918_Plate_1",
           "B4",
           "AgNP",
           40,
           0.0022
          ],
          [
           "211020_085918_Plate_1",
           "C4",
           "AgNP",
           40,
           0.0022
          ],
          [
           "211020_085918_Plate_1",
           "D4",
           "AgNP",
           40,
           0.0022
          ],
          [
           "211008_092824_Plate_1",
           "B4",
           "AgNP",
           40,
           0.0022
          ],
          [
           "211008_092824_Plate_1",
           "C4",
           "AgNP",
           40,
           0.0022
          ],
          [
           "211008_092824_Plate_1",
           "D4",
           "AgNP",
           40,
           0.0022
          ],
          [
           "211015_065907_Plate_1",
           "B4",
           "AgNP",
           40,
           0.0022
          ],
          [
           "211015_065907_Plate_1",
           "C4",
           "AgNP",
           40,
           0.0022
          ],
          [
           "211015_065907_Plate_1",
           "D4",
           "AgNP",
           40,
           0.0022
          ]
         ],
         "error_x": {
          "array": [
           0.000019073486328125,
           0.000019073486328125,
           0.0000152587890625,
           0.0000010728836059570312,
           0.000019073486328125,
           0.00000762939453125,
           0.000011444091796875,
           0.000026702880859375,
           0.0000152587890625
          ],
          "color": "black",
          "thickness": 5
         },
         "error_y": {
          "array": [
           0.000011444091796875,
           4.76837158203125e-7,
           0.00000762939453125,
           0.00002288818359375,
           0.000002384185791015625,
           0.0000019073486328125,
           0.000030517578125,
           0.000011444091796875,
           0.000019073486328125
          ],
          "color": "black",
          "thickness": 5
         },
         "hovertemplate": "colors_plot_col=0.0022<br>0=%{x}<br>1=%{y}<br>Metadata_Plate=%{customdata[0]}<br>Metadata_Well=%{customdata[1]}<br>Metadata_Compound=%{customdata[2]}<br>Metadata_NPSize_nm=%{customdata[3]}<br>Metadata_Concentration_uM=%{customdata[4]}<extra></extra>",
         "legendgroup": "0.0022",
         "marker": {
          "color": "#46039f",
          "line": {
           "color": "White",
           "width": 1
          },
          "size": 7,
          "symbol": "circle"
         },
         "mode": "markers",
         "name": "0.0022",
         "orientation": "v",
         "showlegend": true,
         "type": "scatter",
         "x": [
          -17.71487808227539,
          32.33073806762695,
          54.51774978637695,
          1.4897170066833496,
          26.069805145263672,
          28.443357467651367,
          -19.402124404907227,
          33.707820892333984,
          44.69021987915039
         ],
         "xaxis": "x",
         "y": [
          -14.49206829071045,
          -4.332274913787842,
          21.53036880493164,
          -34.945858001708984,
          2.2583658695220947,
          11.869791030883789,
          -35.619930267333984,
          23.934083938598633,
          33.51881408691406
         ],
         "yaxis": "y"
        },
        {
         "customdata": [
          [
           "211020_085918_Plate_1",
           "B5",
           "AgNP",
           40,
           0.0043
          ],
          [
           "211020_085918_Plate_1",
           "C5",
           "AgNP",
           40,
           0.0043
          ],
          [
           "211020_085918_Plate_1",
           "D5",
           "AgNP",
           40,
           0.0043
          ],
          [
           "211008_092824_Plate_1",
           "B5",
           "AgNP",
           40,
           0.0043
          ],
          [
           "211008_092824_Plate_1",
           "C5",
           "AgNP",
           40,
           0.0043
          ],
          [
           "211008_092824_Plate_1",
           "D5",
           "AgNP",
           40,
           0.0043
          ],
          [
           "211015_065907_Plate_1",
           "B5",
           "AgNP",
           40,
           0.0043
          ],
          [
           "211015_065907_Plate_1",
           "C5",
           "AgNP",
           40,
           0.0043
          ],
          [
           "211015_065907_Plate_1",
           "D5",
           "AgNP",
           40,
           0.0043
          ]
         ],
         "error_x": {
          "array": [
           0.0000133514404296875,
           0.0000152587890625,
           0.00006866455078125,
           0,
           0.000002384185791015625,
           0.000041961669921875,
           0.0000019073486328125,
           0.000003814697265625,
           0.00002288818359375
          ],
          "color": "black",
          "thickness": 5
         },
         "error_y": {
          "array": [
           0.0000095367431640625,
           0.000003814697265625,
           0.000003814697265625,
           0.000064849853515625,
           0.00000476837158203125,
           0,
           0.0000095367431640625,
           0.00000762939453125,
           0.000003814697265625
          ],
          "color": "black",
          "thickness": 5
         },
         "hovertemplate": "colors_plot_col=0.0043<br>0=%{x}<br>1=%{y}<br>Metadata_Plate=%{customdata[0]}<br>Metadata_Well=%{customdata[1]}<br>Metadata_Compound=%{customdata[2]}<br>Metadata_NPSize_nm=%{customdata[3]}<br>Metadata_Concentration_uM=%{customdata[4]}<extra></extra>",
         "legendgroup": "0.0043",
         "marker": {
          "color": "#7201a8",
          "line": {
           "color": "White",
           "width": 1
          },
          "size": 7,
          "symbol": "circle"
         },
         "mode": "markers",
         "name": "0.0043",
         "orientation": "v",
         "showlegend": true,
         "type": "scatter",
         "x": [
          -27.388599395751953,
          24.5844669342041,
          47.92827606201172,
          10.81689453125,
          5.742609024047852,
          36.77076721191406,
          -24.804197311401367,
          18.355836868286133,
          43.700469970703125
         ],
         "xaxis": "x",
         "y": [
          -8.047626495361328,
          -8.286438941955566,
          8.84254264831543,
          -45.57622528076172,
          12.767136573791504,
          5.5690083503723145,
          -28.806068420410156,
          26.971511840820312,
          19.931642532348633
         ],
         "yaxis": "y"
        },
        {
         "customdata": [
          [
           "211020_085918_Plate_1",
           "B6",
           "AgNP",
           40,
           0.0087
          ],
          [
           "211020_085918_Plate_1",
           "C6",
           "AgNP",
           40,
           0.0087
          ],
          [
           "211020_085918_Plate_1",
           "D6",
           "AgNP",
           40,
           0.0087
          ],
          [
           "211008_092824_Plate_1",
           "B6",
           "AgNP",
           40,
           0.0087
          ],
          [
           "211008_092824_Plate_1",
           "C6",
           "AgNP",
           40,
           0.0087
          ],
          [
           "211008_092824_Plate_1",
           "D6",
           "AgNP",
           40,
           0.0087
          ],
          [
           "211015_065907_Plate_1",
           "B6",
           "AgNP",
           40,
           0.0087
          ],
          [
           "211015_065907_Plate_1",
           "C6",
           "AgNP",
           40,
           0.0087
          ],
          [
           "211015_065907_Plate_1",
           "D6",
           "AgNP",
           40,
           0.0087
          ]
         ],
         "error_x": {
          "array": [
           0.00003814697265625,
           0.0000095367431640625,
           0.000057220458984375,
           0.0000324249267578125,
           0.00000858306884765625,
           0.0000133514404296875,
           0.0000095367431640625,
           0.000003814697265625,
           0.00000762939453125
          ],
          "color": "black",
          "thickness": 5
         },
         "error_y": {
          "array": [
           0.00001811981201171875,
           0.0000019073486328125,
           0.00000476837158203125,
           7.152557373046875e-7,
           0.000003814697265625,
           0.00001811981201171875,
           0.00002288818359375,
           0.0000095367431640625,
           0.0000133514404296875
          ],
          "color": "black",
          "thickness": 5
         },
         "hovertemplate": "colors_plot_col=0.0087<br>0=%{x}<br>1=%{y}<br>Metadata_Plate=%{customdata[0]}<br>Metadata_Well=%{customdata[1]}<br>Metadata_Compound=%{customdata[2]}<br>Metadata_NPSize_nm=%{customdata[3]}<br>Metadata_Concentration_uM=%{customdata[4]}<extra></extra>",
         "legendgroup": "0.0087",
         "marker": {
          "color": "#9c179e",
          "line": {
           "color": "White",
           "width": 1
          },
          "size": 7,
          "symbol": "circle"
         },
         "mode": "markers",
         "name": "0.0087",
         "orientation": "v",
         "showlegend": true,
         "type": "scatter",
         "x": [
          -31.844404220581055,
          13.06135368347168,
          56.06574249267578,
          -26.813989639282227,
          15.293251037597656,
          16.89413070678711,
          -16.489953994750977,
          9.500245094299316,
          23.697834014892578
         ],
         "xaxis": "x",
         "y": [
          -15.321737289428711,
          -6.439819812774658,
          8.513258934020996,
          3.5685813426971436,
          -33.632320404052734,
          14.271129608154297,
          -25.58959197998047,
          23.667560577392578,
          19.998048782348633
         ],
         "yaxis": "y"
        },
        {
         "customdata": [
          [
           "211020_085918_Plate_1",
           "B7",
           "AgNP",
           40,
           0.0174
          ],
          [
           "211020_085918_Plate_1",
           "C7",
           "AgNP",
           40,
           0.0174
          ],
          [
           "211020_085918_Plate_1",
           "D7",
           "AgNP",
           40,
           0.0174
          ],
          [
           "211008_092824_Plate_1",
           "B7",
           "AgNP",
           40,
           0.0174
          ],
          [
           "211008_092824_Plate_1",
           "C7",
           "AgNP",
           40,
           0.0174
          ],
          [
           "211008_092824_Plate_1",
           "D7",
           "AgNP",
           40,
           0.0174
          ],
          [
           "211015_065907_Plate_1",
           "B7",
           "AgNP",
           40,
           0.0174
          ],
          [
           "211015_065907_Plate_1",
           "C7",
           "AgNP",
           40,
           0.0174
          ],
          [
           "211015_065907_Plate_1",
           "D7",
           "AgNP",
           40,
           0.0174
          ]
         ],
         "error_x": {
          "array": [
           0.000026702880859375,
           9.5367431640625e-7,
           2.086162567138672e-7,
           0.000019073486328125,
           4.76837158203125e-7,
           0.0000016689300537109375,
           0.00002288818359375,
           3.5762786865234375e-7,
           1.1920928955078125e-7
          ],
          "color": "black",
          "thickness": 5
         },
         "error_y": {
          "array": [
           0.0000133514404296875,
           0.000003814697265625,
           0.000030517578125,
           0.0000152587890625,
           0.000001430511474609375,
           0.0000171661376953125,
           0.000041961669921875,
           0.000034332275390625,
           0.000011444091796875
          ],
          "color": "black",
          "thickness": 5
         },
         "hovertemplate": "colors_plot_col=0.0174<br>0=%{x}<br>1=%{y}<br>Metadata_Plate=%{customdata[0]}<br>Metadata_Well=%{customdata[1]}<br>Metadata_Compound=%{customdata[2]}<br>Metadata_NPSize_nm=%{customdata[3]}<br>Metadata_Concentration_uM=%{customdata[4]}<extra></extra>",
         "legendgroup": "0.0174",
         "marker": {
          "color": "#bd3786",
          "line": {
           "color": "White",
           "width": 1
          },
          "size": 7,
          "symbol": "circle"
         },
         "mode": "markers",
         "name": "0.0174",
         "orientation": "v",
         "showlegend": true,
         "type": "scatter",
         "x": [
          -34.65965270996094,
          4.847382068634033,
          -0.2778506577014923,
          -53.27033233642578,
          3.3399157524108887,
          -2.7682199478149414,
          -33.06281661987305,
          0.7968141436576843,
          -1.4554649591445923
         ],
         "xaxis": "x",
         "y": [
          -24.763328552246094,
          -8.879698753356934,
          42.90717697143555,
          -14.257977485656738,
          2.7496755123138428,
          14.253619194030762,
          -41.44069290161133,
          -53.74591827392578,
          -16.475950241088867
         ],
         "yaxis": "y"
        },
        {
         "customdata": [
          [
           "211020_085918_Plate_1",
           "B8",
           "AgNP",
           40,
           0.0347
          ],
          [
           "211020_085918_Plate_1",
           "C8",
           "AgNP",
           40,
           0.0347
          ],
          [
           "211020_085918_Plate_1",
           "D8",
           "AgNP",
           40,
           0.0347
          ],
          [
           "211008_092824_Plate_1",
           "B8",
           "AgNP",
           40,
           0.0347
          ],
          [
           "211008_092824_Plate_1",
           "C8",
           "AgNP",
           40,
           0.0347
          ],
          [
           "211008_092824_Plate_1",
           "D8",
           "AgNP",
           40,
           0.0347
          ],
          [
           "211015_065907_Plate_1",
           "B8",
           "AgNP",
           40,
           0.0347
          ],
          [
           "211015_065907_Plate_1",
           "C8",
           "AgNP",
           40,
           0.0347
          ],
          [
           "211015_065907_Plate_1",
           "D8",
           "AgNP",
           40,
           0.0347
          ]
         ],
         "error_x": {
          "array": [
           0.000049591064453125,
           0.00000476837158203125,
           0.000011444091796875,
           0.00000286102294921875,
           0.00000286102294921875,
           0.000003337860107421875,
           0.000034332275390625,
           0.00002288818359375,
           0.00000476837158203125
          ],
          "color": "black",
          "thickness": 5
         },
         "error_y": {
          "array": [
           0.0000010728836059570312,
           0.00001621246337890625,
           0,
           0.000003814697265625,
           0.0000152587890625,
           0.000008106231689453125,
           9.5367431640625e-7,
           0.000011444091796875,
           0.00002288818359375
          ],
          "color": "black",
          "thickness": 5
         },
         "hovertemplate": "colors_plot_col=0.0347<br>0=%{x}<br>1=%{y}<br>Metadata_Plate=%{customdata[0]}<br>Metadata_Well=%{customdata[1]}<br>Metadata_Compound=%{customdata[2]}<br>Metadata_NPSize_nm=%{customdata[3]}<br>Metadata_Concentration_uM=%{customdata[4]}<extra></extra>",
         "legendgroup": "0.0347",
         "marker": {
          "color": "#d8576b",
          "line": {
           "color": "White",
           "width": 1
          },
          "size": 7,
          "symbol": "circle"
         },
         "mode": "markers",
         "name": "0.0347",
         "orientation": "v",
         "showlegend": true,
         "type": "scatter",
         "x": [
          -51.86737823486328,
          -12.843103408813477,
          16.632814407348633,
          -7.495438098907471,
          -8.377806663513184,
          -4.012207508087158,
          -43.16993713378906,
          -24.997900009155273,
          -11.334035873413086
         ],
         "xaxis": "x",
         "y": [
          -1.8374285697937012,
          11.57533073425293,
          4.621520519256592,
          4.666566848754883,
          21.51953887939453,
          -5.680901050567627,
          3.977112054824829,
          17.249631881713867,
          35.513431549072266
         ],
         "yaxis": "y"
        },
        {
         "customdata": [
          [
           "211020_085918_Plate_1",
           "B9",
           "AgNP",
           40,
           0.0694
          ],
          [
           "211020_085918_Plate_1",
           "C9",
           "AgNP",
           40,
           0.0694
          ],
          [
           "211020_085918_Plate_1",
           "D9",
           "AgNP",
           40,
           0.0694
          ],
          [
           "211008_092824_Plate_1",
           "B9",
           "AgNP",
           40,
           0.0694
          ],
          [
           "211008_092824_Plate_1",
           "C9",
           "AgNP",
           40,
           0.0694
          ],
          [
           "211008_092824_Plate_1",
           "D9",
           "AgNP",
           40,
           0.0694
          ],
          [
           "211015_065907_Plate_1",
           "B9",
           "AgNP",
           40,
           0.0694
          ],
          [
           "211015_065907_Plate_1",
           "C9",
           "AgNP",
           40,
           0.0694
          ],
          [
           "211015_065907_Plate_1",
           "D9",
           "AgNP",
           40,
           0.0694
          ]
         ],
         "error_x": {
          "array": [
           0,
           0.000003337860107421875,
           7.152557373046875e-7,
           0.00000762939453125,
           0.0000095367431640625,
           0.00002288818359375,
           0.00002288818359375,
           0.000030517578125,
           0.0000209808349609375
          ],
          "color": "black",
          "thickness": 5
         },
         "error_y": {
          "array": [
           0.00000667572021484375,
           0.000041961669921875,
           0.0000362396240234375,
           0.000034332275390625,
           0.0000152587890625,
           0.000011444091796875,
           0.000003814697265625,
           0.0000457763671875,
           0.00003814697265625
          ],
          "color": "black",
          "thickness": 5
         },
         "hovertemplate": "colors_plot_col=0.0694<br>0=%{x}<br>1=%{y}<br>Metadata_Plate=%{customdata[0]}<br>Metadata_Well=%{customdata[1]}<br>Metadata_Compound=%{customdata[2]}<br>Metadata_NPSize_nm=%{customdata[3]}<br>Metadata_Concentration_uM=%{customdata[4]}<extra></extra>",
         "legendgroup": "0.0694",
         "marker": {
          "color": "#ed7953",
          "line": {
           "color": "White",
           "width": 1
          },
          "size": 7,
          "symbol": "circle"
         },
         "mode": "markers",
         "name": "0.0694",
         "orientation": "v",
         "showlegend": true,
         "type": "scatter",
         "x": [
          -50.559757232666016,
          -5.811651229858398,
          -1.5775251388549805,
          -51.103370666503906,
          -17.162813186645508,
          -23.37012481689453,
          -42.64775848388672,
          -44.70259094238281,
          30.9548282623291
         ],
         "xaxis": "x",
         "y": [
          10.680286407470703,
          -49.62065505981445,
          29.334800720214844,
          -30.634502410888672,
          24.053813934326172,
          32.764949798583984,
          14.120728492736816,
          35.67536163330078,
          -40.35060119628906
         ],
         "yaxis": "y"
        },
        {
         "customdata": [
          [
           "211020_085918_Plate_1",
           "B10",
           "AgNP",
           40,
           0.1389
          ],
          [
           "211020_085918_Plate_1",
           "C10",
           "AgNP",
           40,
           0.1389
          ],
          [
           "211020_085918_Plate_1",
           "D10",
           "AgNP",
           40,
           0.1389
          ],
          [
           "211008_092824_Plate_1",
           "B10",
           "AgNP",
           40,
           0.1389
          ],
          [
           "211008_092824_Plate_1",
           "C10",
           "AgNP",
           40,
           0.1389
          ],
          [
           "211008_092824_Plate_1",
           "D10",
           "AgNP",
           40,
           0.1389
          ],
          [
           "211015_065907_Plate_1",
           "B10",
           "AgNP",
           40,
           0.1389
          ],
          [
           "211015_065907_Plate_1",
           "C10",
           "AgNP",
           40,
           0.1389
          ],
          [
           "211015_065907_Plate_1",
           "D10",
           "AgNP",
           40,
           0.1389
          ]
         ],
         "error_x": {
          "array": [
           0.00003814697265625,
           0.000019073486328125,
           0.00006866455078125,
           0.00005340576171875,
           0.000030517578125,
           0.0000457763671875,
           0,
           0.00008392333984375,
           0.000034332275390625
          ],
          "color": "black",
          "thickness": 5
         },
         "error_y": {
          "array": [
           0.000011444091796875,
           0.00005340576171875,
           0.000041961669921875,
           0.00002288818359375,
           0.00002288818359375,
           0.000011444091796875,
           0.000019073486328125,
           0.000034332275390625,
           0.0000133514404296875
          ],
          "color": "black",
          "thickness": 5
         },
         "hovertemplate": "colors_plot_col=0.1389<br>0=%{x}<br>1=%{y}<br>Metadata_Plate=%{customdata[0]}<br>Metadata_Well=%{customdata[1]}<br>Metadata_Compound=%{customdata[2]}<br>Metadata_NPSize_nm=%{customdata[3]}<br>Metadata_Concentration_uM=%{customdata[4]}<extra></extra>",
         "legendgroup": "0.1389",
         "marker": {
          "color": "#fb9f3a",
          "line": {
           "color": "White",
           "width": 1
          },
          "size": 7,
          "symbol": "circle"
         },
         "mode": "markers",
         "name": "0.1389",
         "orientation": "v",
         "showlegend": true,
         "type": "scatter",
         "x": [
          -64.92418670654297,
          -56.9932975769043,
          -68.34242248535156,
          -38.974918365478516,
          -77.46485137939453,
          -56.97611999511719,
          -53.467769622802734,
          -64.03237915039062,
          -62.3406867980957
         ],
         "xaxis": "x",
         "y": [
          55.964839935302734,
          58.11323547363281,
          45.14057922363281,
          23.25147247314453,
          37.41889572143555,
          43.283504486083984,
          28.39232635498047,
          37.47759246826172,
          28.792640686035156
         ],
         "yaxis": "y"
        }
       ],
       "layout": {
        "autosize": false,
        "font": {
         "size": 18
        },
        "height": 700,
        "legend": {
         "title": {
          "text": ""
         },
         "tracegroupgap": 0
        },
        "margin": {
         "b": 20,
         "l": 50,
         "pad": 4,
         "r": 50,
         "t": 50
        },
        "plot_bgcolor": "white",
        "template": {
         "data": {
          "bar": [
           {
            "error_x": {
             "color": "#2a3f5f"
            },
            "error_y": {
             "color": "#2a3f5f"
            },
            "marker": {
             "line": {
              "color": "#E5ECF6",
              "width": 0.5
             },
             "pattern": {
              "fillmode": "overlay",
              "size": 10,
              "solidity": 0.2
             }
            },
            "type": "bar"
           }
          ],
          "barpolar": [
           {
            "marker": {
             "line": {
              "color": "#E5ECF6",
              "width": 0.5
             },
             "pattern": {
              "fillmode": "overlay",
              "size": 10,
              "solidity": 0.2
             }
            },
            "type": "barpolar"
           }
          ],
          "carpet": [
           {
            "aaxis": {
             "endlinecolor": "#2a3f5f",
             "gridcolor": "white",
             "linecolor": "white",
             "minorgridcolor": "white",
             "startlinecolor": "#2a3f5f"
            },
            "baxis": {
             "endlinecolor": "#2a3f5f",
             "gridcolor": "white",
             "linecolor": "white",
             "minorgridcolor": "white",
             "startlinecolor": "#2a3f5f"
            },
            "type": "carpet"
           }
          ],
          "choropleth": [
           {
            "colorbar": {
             "outlinewidth": 0,
             "ticks": ""
            },
            "type": "choropleth"
           }
          ],
          "contour": [
           {
            "colorbar": {
             "outlinewidth": 0,
             "ticks": ""
            },
            "colorscale": [
             [
              0,
              "#0d0887"
             ],
             [
              0.1111111111111111,
              "#46039f"
             ],
             [
              0.2222222222222222,
              "#7201a8"
             ],
             [
              0.3333333333333333,
              "#9c179e"
             ],
             [
              0.4444444444444444,
              "#bd3786"
             ],
             [
              0.5555555555555556,
              "#d8576b"
             ],
             [
              0.6666666666666666,
              "#ed7953"
             ],
             [
              0.7777777777777778,
              "#fb9f3a"
             ],
             [
              0.8888888888888888,
              "#fdca26"
             ],
             [
              1,
              "#f0f921"
             ]
            ],
            "type": "contour"
           }
          ],
          "contourcarpet": [
           {
            "colorbar": {
             "outlinewidth": 0,
             "ticks": ""
            },
            "type": "contourcarpet"
           }
          ],
          "heatmap": [
           {
            "colorbar": {
             "outlinewidth": 0,
             "ticks": ""
            },
            "colorscale": [
             [
              0,
              "#0d0887"
             ],
             [
              0.1111111111111111,
              "#46039f"
             ],
             [
              0.2222222222222222,
              "#7201a8"
             ],
             [
              0.3333333333333333,
              "#9c179e"
             ],
             [
              0.4444444444444444,
              "#bd3786"
             ],
             [
              0.5555555555555556,
              "#d8576b"
             ],
             [
              0.6666666666666666,
              "#ed7953"
             ],
             [
              0.7777777777777778,
              "#fb9f3a"
             ],
             [
              0.8888888888888888,
              "#fdca26"
             ],
             [
              1,
              "#f0f921"
             ]
            ],
            "type": "heatmap"
           }
          ],
          "heatmapgl": [
           {
            "colorbar": {
             "outlinewidth": 0,
             "ticks": ""
            },
            "colorscale": [
             [
              0,
              "#0d0887"
             ],
             [
              0.1111111111111111,
              "#46039f"
             ],
             [
              0.2222222222222222,
              "#7201a8"
             ],
             [
              0.3333333333333333,
              "#9c179e"
             ],
             [
              0.4444444444444444,
              "#bd3786"
             ],
             [
              0.5555555555555556,
              "#d8576b"
             ],
             [
              0.6666666666666666,
              "#ed7953"
             ],
             [
              0.7777777777777778,
              "#fb9f3a"
             ],
             [
              0.8888888888888888,
              "#fdca26"
             ],
             [
              1,
              "#f0f921"
             ]
            ],
            "type": "heatmapgl"
           }
          ],
          "histogram": [
           {
            "marker": {
             "pattern": {
              "fillmode": "overlay",
              "size": 10,
              "solidity": 0.2
             }
            },
            "type": "histogram"
           }
          ],
          "histogram2d": [
           {
            "colorbar": {
             "outlinewidth": 0,
             "ticks": ""
            },
            "colorscale": [
             [
              0,
              "#0d0887"
             ],
             [
              0.1111111111111111,
              "#46039f"
             ],
             [
              0.2222222222222222,
              "#7201a8"
             ],
             [
              0.3333333333333333,
              "#9c179e"
             ],
             [
              0.4444444444444444,
              "#bd3786"
             ],
             [
              0.5555555555555556,
              "#d8576b"
             ],
             [
              0.6666666666666666,
              "#ed7953"
             ],
             [
              0.7777777777777778,
              "#fb9f3a"
             ],
             [
              0.8888888888888888,
              "#fdca26"
             ],
             [
              1,
              "#f0f921"
             ]
            ],
            "type": "histogram2d"
           }
          ],
          "histogram2dcontour": [
           {
            "colorbar": {
             "outlinewidth": 0,
             "ticks": ""
            },
            "colorscale": [
             [
              0,
              "#0d0887"
             ],
             [
              0.1111111111111111,
              "#46039f"
             ],
             [
              0.2222222222222222,
              "#7201a8"
             ],
             [
              0.3333333333333333,
              "#9c179e"
             ],
             [
              0.4444444444444444,
              "#bd3786"
             ],
             [
              0.5555555555555556,
              "#d8576b"
             ],
             [
              0.6666666666666666,
              "#ed7953"
             ],
             [
              0.7777777777777778,
              "#fb9f3a"
             ],
             [
              0.8888888888888888,
              "#fdca26"
             ],
             [
              1,
              "#f0f921"
             ]
            ],
            "type": "histogram2dcontour"
           }
          ],
          "mesh3d": [
           {
            "colorbar": {
             "outlinewidth": 0,
             "ticks": ""
            },
            "type": "mesh3d"
           }
          ],
          "parcoords": [
           {
            "line": {
             "colorbar": {
              "outlinewidth": 0,
              "ticks": ""
             }
            },
            "type": "parcoords"
           }
          ],
          "pie": [
           {
            "automargin": true,
            "type": "pie"
           }
          ],
          "scatter": [
           {
            "fillpattern": {
             "fillmode": "overlay",
             "size": 10,
             "solidity": 0.2
            },
            "type": "scatter"
           }
          ],
          "scatter3d": [
           {
            "line": {
             "colorbar": {
              "outlinewidth": 0,
              "ticks": ""
             }
            },
            "marker": {
             "colorbar": {
              "outlinewidth": 0,
              "ticks": ""
             }
            },
            "type": "scatter3d"
           }
          ],
          "scattercarpet": [
           {
            "marker": {
             "colorbar": {
              "outlinewidth": 0,
              "ticks": ""
             }
            },
            "type": "scattercarpet"
           }
          ],
          "scattergeo": [
           {
            "marker": {
             "colorbar": {
              "outlinewidth": 0,
              "ticks": ""
             }
            },
            "type": "scattergeo"
           }
          ],
          "scattergl": [
           {
            "marker": {
             "colorbar": {
              "outlinewidth": 0,
              "ticks": ""
             }
            },
            "type": "scattergl"
           }
          ],
          "scattermapbox": [
           {
            "marker": {
             "colorbar": {
              "outlinewidth": 0,
              "ticks": ""
             }
            },
            "type": "scattermapbox"
           }
          ],
          "scatterpolar": [
           {
            "marker": {
             "colorbar": {
              "outlinewidth": 0,
              "ticks": ""
             }
            },
            "type": "scatterpolar"
           }
          ],
          "scatterpolargl": [
           {
            "marker": {
             "colorbar": {
              "outlinewidth": 0,
              "ticks": ""
             }
            },
            "type": "scatterpolargl"
           }
          ],
          "scatterternary": [
           {
            "marker": {
             "colorbar": {
              "outlinewidth": 0,
              "ticks": ""
             }
            },
            "type": "scatterternary"
           }
          ],
          "surface": [
           {
            "colorbar": {
             "outlinewidth": 0,
             "ticks": ""
            },
            "colorscale": [
             [
              0,
              "#0d0887"
             ],
             [
              0.1111111111111111,
              "#46039f"
             ],
             [
              0.2222222222222222,
              "#7201a8"
             ],
             [
              0.3333333333333333,
              "#9c179e"
             ],
             [
              0.4444444444444444,
              "#bd3786"
             ],
             [
              0.5555555555555556,
              "#d8576b"
             ],
             [
              0.6666666666666666,
              "#ed7953"
             ],
             [
              0.7777777777777778,
              "#fb9f3a"
             ],
             [
              0.8888888888888888,
              "#fdca26"
             ],
             [
              1,
              "#f0f921"
             ]
            ],
            "type": "surface"
           }
          ],
          "table": [
           {
            "cells": {
             "fill": {
              "color": "#EBF0F8"
             },
             "line": {
              "color": "white"
             }
            },
            "header": {
             "fill": {
              "color": "#C8D4E3"
             },
             "line": {
              "color": "white"
             }
            },
            "type": "table"
           }
          ]
         },
         "layout": {
          "annotationdefaults": {
           "arrowcolor": "#2a3f5f",
           "arrowhead": 0,
           "arrowwidth": 1
          },
          "autotypenumbers": "strict",
          "coloraxis": {
           "colorbar": {
            "outlinewidth": 0,
            "ticks": ""
           }
          },
          "colorscale": {
           "diverging": [
            [
             0,
             "#8e0152"
            ],
            [
             0.1,
             "#c51b7d"
            ],
            [
             0.2,
             "#de77ae"
            ],
            [
             0.3,
             "#f1b6da"
            ],
            [
             0.4,
             "#fde0ef"
            ],
            [
             0.5,
             "#f7f7f7"
            ],
            [
             0.6,
             "#e6f5d0"
            ],
            [
             0.7,
             "#b8e186"
            ],
            [
             0.8,
             "#7fbc41"
            ],
            [
             0.9,
             "#4d9221"
            ],
            [
             1,
             "#276419"
            ]
           ],
           "sequential": [
            [
             0,
             "#0d0887"
            ],
            [
             0.1111111111111111,
             "#46039f"
            ],
            [
             0.2222222222222222,
             "#7201a8"
            ],
            [
             0.3333333333333333,
             "#9c179e"
            ],
            [
             0.4444444444444444,
             "#bd3786"
            ],
            [
             0.5555555555555556,
             "#d8576b"
            ],
            [
             0.6666666666666666,
             "#ed7953"
            ],
            [
             0.7777777777777778,
             "#fb9f3a"
            ],
            [
             0.8888888888888888,
             "#fdca26"
            ],
            [
             1,
             "#f0f921"
            ]
           ],
           "sequentialminus": [
            [
             0,
             "#0d0887"
            ],
            [
             0.1111111111111111,
             "#46039f"
            ],
            [
             0.2222222222222222,
             "#7201a8"
            ],
            [
             0.3333333333333333,
             "#9c179e"
            ],
            [
             0.4444444444444444,
             "#bd3786"
            ],
            [
             0.5555555555555556,
             "#d8576b"
            ],
            [
             0.6666666666666666,
             "#ed7953"
            ],
            [
             0.7777777777777778,
             "#fb9f3a"
            ],
            [
             0.8888888888888888,
             "#fdca26"
            ],
            [
             1,
             "#f0f921"
            ]
           ]
          },
          "colorway": [
           "#636efa",
           "#EF553B",
           "#00cc96",
           "#ab63fa",
           "#FFA15A",
           "#19d3f3",
           "#FF6692",
           "#B6E880",
           "#FF97FF",
           "#FECB52"
          ],
          "font": {
           "color": "#2a3f5f"
          },
          "geo": {
           "bgcolor": "white",
           "lakecolor": "white",
           "landcolor": "#E5ECF6",
           "showlakes": true,
           "showland": true,
           "subunitcolor": "white"
          },
          "hoverlabel": {
           "align": "left"
          },
          "hovermode": "closest",
          "mapbox": {
           "style": "light"
          },
          "paper_bgcolor": "white",
          "plot_bgcolor": "#E5ECF6",
          "polar": {
           "angularaxis": {
            "gridcolor": "white",
            "linecolor": "white",
            "ticks": ""
           },
           "bgcolor": "#E5ECF6",
           "radialaxis": {
            "gridcolor": "white",
            "linecolor": "white",
            "ticks": ""
           }
          },
          "scene": {
           "xaxis": {
            "backgroundcolor": "#E5ECF6",
            "gridcolor": "white",
            "gridwidth": 2,
            "linecolor": "white",
            "showbackground": true,
            "ticks": "",
            "zerolinecolor": "white"
           },
           "yaxis": {
            "backgroundcolor": "#E5ECF6",
            "gridcolor": "white",
            "gridwidth": 2,
            "linecolor": "white",
            "showbackground": true,
            "ticks": "",
            "zerolinecolor": "white"
           },
           "zaxis": {
            "backgroundcolor": "#E5ECF6",
            "gridcolor": "white",
            "gridwidth": 2,
            "linecolor": "white",
            "showbackground": true,
            "ticks": "",
            "zerolinecolor": "white"
           }
          },
          "shapedefaults": {
           "line": {
            "color": "#2a3f5f"
           }
          },
          "ternary": {
           "aaxis": {
            "gridcolor": "white",
            "linecolor": "white",
            "ticks": ""
           },
           "baxis": {
            "gridcolor": "white",
            "linecolor": "white",
            "ticks": ""
           },
           "bgcolor": "#E5ECF6",
           "caxis": {
            "gridcolor": "white",
            "linecolor": "white",
            "ticks": ""
           }
          },
          "title": {
           "x": 0.05
          },
          "xaxis": {
           "automargin": true,
           "gridcolor": "white",
           "linecolor": "white",
           "ticks": "",
           "title": {
            "standoff": 15
           },
           "zerolinecolor": "white",
           "zerolinewidth": 2
          },
          "yaxis": {
           "automargin": true,
           "gridcolor": "white",
           "linecolor": "white",
           "ticks": "",
           "title": {
            "standoff": 15
           },
           "zerolinecolor": "white",
           "zerolinewidth": 2
          }
         }
        },
        "title": {
         "text": ""
        },
        "width": 900,
        "xaxis": {
         "anchor": "y",
         "domain": [
          0,
          1
         ],
         "linecolor": "black",
         "mirror": true,
         "showline": true,
         "ticks": "outside",
         "title": {
          "text": "TSNE X"
         }
        },
        "yaxis": {
         "anchor": "x",
         "domain": [
          0,
          1
         ],
         "linecolor": "black",
         "mirror": true,
         "showline": true,
         "ticks": "outside",
         "title": {
          "text": "TSNE Y"
         }
        }
       }
      }
     },
     "metadata": {},
     "output_type": "display_data"
    }
   ],
   "source": [
    "combat_util.plot_tsne(plot_tsne, color_col='Metadata_Concentration_uM', \n",
    "                    #   split_df = False, split_column = None, np = None,\n",
    "                      hover_cols=hover_list,\n",
    "                    #   size=True, size_col = \"Metadata_concentration_uM\",\n",
    "                      x=\"0\", y=\"1\",\n",
    "                      error_x=\"x_err\", error_y=\"y_err\",\n",
    "                      discrete=True\n",
    "                      )"
   ]
  },
  {
   "cell_type": "markdown",
   "metadata": {},
   "source": [
    "# Paper revision 16/02/2025\n",
    "\n",
    "- Add the non-treated to the tSNE plots"
   ]
  },
  {
   "cell_type": "code",
   "execution_count": 34,
   "metadata": {},
   "outputs": [],
   "source": [
    "df_40 = df.query(\"Metadata_NPSize_nm == 40.0 or Metadata_NPSize_nm == 0.0 and Metadata_Compound != 'DMSO'\").reset_index(drop=True)"
   ]
  },
  {
   "cell_type": "code",
   "execution_count": 35,
   "metadata": {},
   "outputs": [
    {
     "data": {
      "text/plain": [
       "array([40.,  0.])"
      ]
     },
     "execution_count": 35,
     "metadata": {},
     "output_type": "execute_result"
    }
   ],
   "source": [
    "df_40[\"Metadata_NPSize_nm\"].unique()"
   ]
  },
  {
   "cell_type": "code",
   "execution_count": 31,
   "metadata": {},
   "outputs": [],
   "source": [
    "df_100 = df.query(\"Metadata_NPSize_nm == 100.0 or Metadata_NPSize_nm == 0.0 and Metadata_Compound != 'DMSO'\").reset_index(drop=True)"
   ]
  },
  {
   "cell_type": "code",
   "execution_count": 32,
   "metadata": {},
   "outputs": [
    {
     "data": {
      "text/plain": [
       "array([  0., 100.])"
      ]
     },
     "execution_count": 32,
     "metadata": {},
     "output_type": "execute_result"
    }
   ],
   "source": [
    "df_100[\"Metadata_NPSize_nm\"].unique()"
   ]
  },
  {
   "cell_type": "markdown",
   "metadata": {},
   "source": [
    "# Ag100"
   ]
  },
  {
   "cell_type": "markdown",
   "metadata": {},
   "source": [
    "## tSNE"
   ]
  },
  {
   "cell_type": "code",
   "execution_count": 36,
   "metadata": {},
   "outputs": [],
   "source": [
    "X, plot_tsne = combat_util.tsne_generator(df_100, perplexity=60, n_components = 2, metric=metric, iterate=True, number_runs=number_of_iterations)"
   ]
  },
  {
   "cell_type": "code",
   "execution_count": 41,
   "metadata": {},
   "outputs": [
    {
     "data": {
      "application/vnd.plotly.v1+json": {
       "config": {
        "plotlyServerURL": "https://plot.ly",
        "toImageButtonOptions": {
         "filename": "custom_image",
         "format": "svg",
         "height": 500,
         "scale": 6,
         "width": 700
        }
       },
       "data": [
        {
         "customdata": [
          [
           "211020_085918_Plate_1",
           "B11",
           "Non-treated",
           0,
           0
          ],
          [
           "211020_085918_Plate_1",
           "C11",
           "Non-treated",
           0,
           0
          ],
          [
           "211020_085918_Plate_1",
           "D11",
           "Non-treated",
           0,
           0
          ],
          [
           "211020_085918_Plate_1",
           "E2",
           "Non-treated",
           0,
           0
          ],
          [
           "211020_085918_Plate_1",
           "F2",
           "Non-treated",
           0,
           0
          ],
          [
           "211020_085918_Plate_1",
           "G2",
           "Non-treated",
           0,
           0
          ],
          [
           "211008_092824_Plate_1",
           "B2",
           "Non-treated",
           0,
           0
          ],
          [
           "211008_092824_Plate_1",
           "C2",
           "Non-treated",
           0,
           0
          ],
          [
           "211008_092824_Plate_1",
           "D2",
           "Non-treated",
           0,
           0
          ],
          [
           "211008_092824_Plate_1",
           "E11",
           "Non-treated",
           0,
           0
          ],
          [
           "211008_092824_Plate_1",
           "F11",
           "Non-treated",
           0,
           0
          ],
          [
           "211008_092824_Plate_1",
           "G11",
           "Non-treated",
           0,
           0
          ],
          [
           "211015_065907_Plate_1",
           "B11",
           "Non-treated",
           0,
           0
          ],
          [
           "211015_065907_Plate_1",
           "C11",
           "Non-treated",
           0,
           0
          ],
          [
           "211015_065907_Plate_1",
           "D11",
           "Non-treated",
           0,
           0
          ],
          [
           "211015_065907_Plate_1",
           "E2",
           "Non-treated",
           0,
           0
          ],
          [
           "211015_065907_Plate_1",
           "F2",
           "Non-treated",
           0,
           0
          ],
          [
           "211015_065907_Plate_1",
           "G2",
           "Non-treated",
           0,
           0
          ]
         ],
         "error_x": {
          "color": "black",
          "thickness": 2
         },
         "error_y": {
          "color": "black",
          "thickness": 2
         },
         "hovertemplate": "colors_plot_col=0.0<br>0=%{x}<br>1=%{y}<br>Metadata_Plate=%{customdata[0]}<br>Metadata_Well=%{customdata[1]}<br>Metadata_Compound=%{customdata[2]}<br>Metadata_NPSize_nm=%{customdata[3]}<br>Metadata_Concentration_uM=%{customdata[4]}<extra></extra>",
         "legendgroup": "0.0",
         "marker": {
          "color": "#b2beB5",
          "line": {
           "color": "White",
           "width": 1
          },
          "size": 10,
          "symbol": "circle"
         },
         "mode": "markers",
         "name": "0.0",
         "orientation": "v",
         "showlegend": true,
         "type": "scatter",
         "x": [
          4.3633036613464355,
          2.872206449508667,
          1.4525091648101807,
          3.2668426036834717,
          2.070176124572754,
          2.015233039855957,
          3.3384673595428467,
          3.6719560623168945,
          2.68178129196167,
          3.512600898742676,
          2.7487964630126953,
          2.8898587226867676,
          2.9893195629119873,
          3.955953359603882,
          2.530620813369751,
          3.1463003158569336,
          1.5654908418655396,
          2.714069128036499
         ],
         "xaxis": "x",
         "y": [
          -0.10369309782981873,
          -0.2657183110713959,
          1.8511974811553955,
          -0.3597225546836853,
          0.05942407622933388,
          -0.22860020399093628,
          -0.31713059544563293,
          -0.37319180369377136,
          0.3446079194545746,
          -0.04481056332588196,
          0.05179644003510475,
          0.25805428624153137,
          -0.26812878251075745,
          -0.02715221792459488,
          0.06818056851625443,
          -0.4950283169746399,
          -1.0834710597991943,
          0.38414257764816284
         ],
         "yaxis": "y"
        },
        {
         "customdata": [
          [
           "211020_085918_Plate_1",
           "E3",
           "AgNP",
           100,
           0.009
          ],
          [
           "211020_085918_Plate_1",
           "F3",
           "AgNP",
           100,
           0.009
          ],
          [
           "211020_085918_Plate_1",
           "G3",
           "AgNP",
           100,
           0.009
          ],
          [
           "211008_092824_Plate_1",
           "E3",
           "AgNP",
           100,
           0.009
          ],
          [
           "211008_092824_Plate_1",
           "F3",
           "AgNP",
           100,
           0.009
          ],
          [
           "211008_092824_Plate_1",
           "G3",
           "AgNP",
           100,
           0.009
          ],
          [
           "211015_065907_Plate_1",
           "E3",
           "AgNP",
           100,
           0.009
          ],
          [
           "211015_065907_Plate_1",
           "F3",
           "AgNP",
           100,
           0.009
          ],
          [
           "211015_065907_Plate_1",
           "G3",
           "AgNP",
           100,
           0.009
          ]
         ],
         "error_x": {
          "color": "black",
          "thickness": 2
         },
         "error_y": {
          "color": "black",
          "thickness": 2
         },
         "hovertemplate": "colors_plot_col=0.009<br>0=%{x}<br>1=%{y}<br>Metadata_Plate=%{customdata[0]}<br>Metadata_Well=%{customdata[1]}<br>Metadata_Compound=%{customdata[2]}<br>Metadata_NPSize_nm=%{customdata[3]}<br>Metadata_Concentration_uM=%{customdata[4]}<extra></extra>",
         "legendgroup": "0.009",
         "marker": {
          "color": "#0d0887",
          "line": {
           "color": "White",
           "width": 1
          },
          "size": 10,
          "symbol": "circle"
         },
         "mode": "markers",
         "name": "0.009",
         "orientation": "v",
         "showlegend": true,
         "type": "scatter",
         "x": [
          2.676466464996338,
          2.8173959255218506,
          2.5161736011505127,
          2.790327548980713,
          2.731842279434204,
          2.614548444747925,
          2.442978858947754,
          2.493422746658325,
          2.5653412342071533
         ],
         "xaxis": "x",
         "y": [
          -0.6683499813079834,
          0.05751701444387436,
          0.49390000104904175,
          -0.10311855375766754,
          0.21956461668014526,
          0.5643168091773987,
          -1.3033522367477417,
          -0.04330713674426079,
          0.2456919103860855
         ],
         "yaxis": "y"
        },
        {
         "customdata": [
          [
           "211020_085918_Plate_1",
           "E4",
           "AgNP",
           100,
           0.017
          ],
          [
           "211020_085918_Plate_1",
           "F4",
           "AgNP",
           100,
           0.017
          ],
          [
           "211020_085918_Plate_1",
           "G4",
           "AgNP",
           100,
           0.017
          ],
          [
           "211008_092824_Plate_1",
           "E4",
           "AgNP",
           100,
           0.017
          ],
          [
           "211008_092824_Plate_1",
           "F4",
           "AgNP",
           100,
           0.017
          ],
          [
           "211008_092824_Plate_1",
           "G4",
           "AgNP",
           100,
           0.017
          ],
          [
           "211015_065907_Plate_1",
           "E4",
           "AgNP",
           100,
           0.017
          ],
          [
           "211015_065907_Plate_1",
           "F4",
           "AgNP",
           100,
           0.017
          ],
          [
           "211015_065907_Plate_1",
           "G4",
           "AgNP",
           100,
           0.017
          ]
         ],
         "error_x": {
          "color": "black",
          "thickness": 2
         },
         "error_y": {
          "color": "black",
          "thickness": 2
         },
         "hovertemplate": "colors_plot_col=0.017<br>0=%{x}<br>1=%{y}<br>Metadata_Plate=%{customdata[0]}<br>Metadata_Well=%{customdata[1]}<br>Metadata_Compound=%{customdata[2]}<br>Metadata_NPSize_nm=%{customdata[3]}<br>Metadata_Concentration_uM=%{customdata[4]}<extra></extra>",
         "legendgroup": "0.017",
         "marker": {
          "color": "#46039f",
          "line": {
           "color": "White",
           "width": 1
          },
          "size": 10,
          "symbol": "circle"
         },
         "mode": "markers",
         "name": "0.017",
         "orientation": "v",
         "showlegend": true,
         "type": "scatter",
         "x": [
          2.636657953262329,
          1.9835559129714966,
          2.0473034381866455,
          3.141857862472534,
          2.3698697090148926,
          1.7282710075378418,
          2.8826284408569336,
          2.1562490463256836,
          2.450031280517578
         ],
         "xaxis": "x",
         "y": [
          -0.19102221727371216,
          0.405353844165802,
          0.36711636185646057,
          -0.15607351064682007,
          -0.3014053702354431,
          -0.9606088399887085,
          -0.4325651526451111,
          -0.033271532505750656,
          0.8802464008331299
         ],
         "yaxis": "y"
        },
        {
         "customdata": [
          [
           "211020_085918_Plate_1",
           "E5",
           "AgNP",
           100,
           0.035
          ],
          [
           "211020_085918_Plate_1",
           "F5",
           "AgNP",
           100,
           0.035
          ],
          [
           "211020_085918_Plate_1",
           "G5",
           "AgNP",
           100,
           0.035
          ],
          [
           "211008_092824_Plate_1",
           "E5",
           "AgNP",
           100,
           0.035
          ],
          [
           "211008_092824_Plate_1",
           "F5",
           "AgNP",
           100,
           0.035
          ],
          [
           "211008_092824_Plate_1",
           "G5",
           "AgNP",
           100,
           0.035
          ],
          [
           "211015_065907_Plate_1",
           "E5",
           "AgNP",
           100,
           0.035
          ],
          [
           "211015_065907_Plate_1",
           "F5",
           "AgNP",
           100,
           0.035
          ],
          [
           "211015_065907_Plate_1",
           "G5",
           "AgNP",
           100,
           0.035
          ]
         ],
         "error_x": {
          "color": "black",
          "thickness": 2
         },
         "error_y": {
          "color": "black",
          "thickness": 2
         },
         "hovertemplate": "colors_plot_col=0.035<br>0=%{x}<br>1=%{y}<br>Metadata_Plate=%{customdata[0]}<br>Metadata_Well=%{customdata[1]}<br>Metadata_Compound=%{customdata[2]}<br>Metadata_NPSize_nm=%{customdata[3]}<br>Metadata_Concentration_uM=%{customdata[4]}<extra></extra>",
         "legendgroup": "0.035",
         "marker": {
          "color": "#7201a8",
          "line": {
           "color": "White",
           "width": 1
          },
          "size": 10,
          "symbol": "circle"
         },
         "mode": "markers",
         "name": "0.035",
         "orientation": "v",
         "showlegend": true,
         "type": "scatter",
         "x": [
          4.051577091217041,
          2.5955841541290283,
          1.9215542078018188,
          1.7980197668075562,
          2.5787079334259033,
          2.3341989517211914,
          2.8295321464538574,
          2.522688865661621,
          2.6720876693725586
         ],
         "xaxis": "x",
         "y": [
          -0.3859597444534302,
          0.23572491109371185,
          0.27968066930770874,
          1.597478985786438,
          -0.18504124879837036,
          -0.03208666667342186,
          -0.20611366629600525,
          -0.03296922147274017,
          0.03145343437790871
         ],
         "yaxis": "y"
        },
        {
         "customdata": [
          [
           "211020_085918_Plate_1",
           "E6",
           "AgNP",
           100,
           0.069
          ],
          [
           "211020_085918_Plate_1",
           "F6",
           "AgNP",
           100,
           0.069
          ],
          [
           "211020_085918_Plate_1",
           "G6",
           "AgNP",
           100,
           0.069
          ],
          [
           "211008_092824_Plate_1",
           "E6",
           "AgNP",
           100,
           0.069
          ],
          [
           "211008_092824_Plate_1",
           "F6",
           "AgNP",
           100,
           0.069
          ],
          [
           "211008_092824_Plate_1",
           "G6",
           "AgNP",
           100,
           0.069
          ],
          [
           "211015_065907_Plate_1",
           "E6",
           "AgNP",
           100,
           0.069
          ],
          [
           "211015_065907_Plate_1",
           "F6",
           "AgNP",
           100,
           0.069
          ],
          [
           "211015_065907_Plate_1",
           "G6",
           "AgNP",
           100,
           0.069
          ]
         ],
         "error_x": {
          "color": "black",
          "thickness": 2
         },
         "error_y": {
          "color": "black",
          "thickness": 2
         },
         "hovertemplate": "colors_plot_col=0.069<br>0=%{x}<br>1=%{y}<br>Metadata_Plate=%{customdata[0]}<br>Metadata_Well=%{customdata[1]}<br>Metadata_Compound=%{customdata[2]}<br>Metadata_NPSize_nm=%{customdata[3]}<br>Metadata_Concentration_uM=%{customdata[4]}<extra></extra>",
         "legendgroup": "0.069",
         "marker": {
          "color": "#9c179e",
          "line": {
           "color": "White",
           "width": 1
          },
          "size": 10,
          "symbol": "circle"
         },
         "mode": "markers",
         "name": "0.069",
         "orientation": "v",
         "showlegend": true,
         "type": "scatter",
         "x": [
          3.207028388977051,
          2.6361968517303467,
          2.256809711456299,
          3.0361931324005127,
          2.944549322128296,
          1.6695153713226318,
          3.643522024154663,
          3.3297109603881836,
          2.342028856277466
         ],
         "xaxis": "x",
         "y": [
          -0.8632993102073669,
          0.7141985893249512,
          0.3654974699020386,
          0.09877175092697144,
          0.2694530189037323,
          1.7051396369934082,
          -0.5133934617042542,
          0.23796018958091736,
          1.1927205324172974
         ],
         "yaxis": "y"
        },
        {
         "customdata": [
          [
           "211020_085918_Plate_1",
           "E7",
           "AgNP",
           100,
           0.139
          ],
          [
           "211020_085918_Plate_1",
           "F7",
           "AgNP",
           100,
           0.139
          ],
          [
           "211020_085918_Plate_1",
           "G7",
           "AgNP",
           100,
           0.139
          ],
          [
           "211008_092824_Plate_1",
           "E7",
           "AgNP",
           100,
           0.139
          ],
          [
           "211008_092824_Plate_1",
           "F7",
           "AgNP",
           100,
           0.139
          ],
          [
           "211008_092824_Plate_1",
           "G7",
           "AgNP",
           100,
           0.139
          ],
          [
           "211015_065907_Plate_1",
           "E7",
           "AgNP",
           100,
           0.139
          ],
          [
           "211015_065907_Plate_1",
           "F7",
           "AgNP",
           100,
           0.139
          ],
          [
           "211015_065907_Plate_1",
           "G7",
           "AgNP",
           100,
           0.139
          ]
         ],
         "error_x": {
          "color": "black",
          "thickness": 2
         },
         "error_y": {
          "color": "black",
          "thickness": 2
         },
         "hovertemplate": "colors_plot_col=0.139<br>0=%{x}<br>1=%{y}<br>Metadata_Plate=%{customdata[0]}<br>Metadata_Well=%{customdata[1]}<br>Metadata_Compound=%{customdata[2]}<br>Metadata_NPSize_nm=%{customdata[3]}<br>Metadata_Concentration_uM=%{customdata[4]}<extra></extra>",
         "legendgroup": "0.139",
         "marker": {
          "color": "#bd3786",
          "line": {
           "color": "White",
           "width": 1
          },
          "size": 10,
          "symbol": "circle"
         },
         "mode": "markers",
         "name": "0.139",
         "orientation": "v",
         "showlegend": true,
         "type": "scatter",
         "x": [
          1.5306869745254517,
          2.755429267883301,
          2.8833513259887695,
          3.1141538619995117,
          3.417904853820801,
          2.9839444160461426,
          3.3866488933563232,
          2.8695950508117676,
          3.0993621349334717
         ],
         "xaxis": "x",
         "y": [
          1.7895561456680298,
          0.44226840138435364,
          0.987963080406189,
          -0.037728067487478256,
          0.5284145474433899,
          0.5753748416900635,
          0.04131179675459862,
          1.027091383934021,
          1.924458622932434
         ],
         "yaxis": "y"
        },
        {
         "customdata": [
          [
           "211020_085918_Plate_1",
           "E8",
           "AgNP",
           100,
           0.278
          ],
          [
           "211020_085918_Plate_1",
           "F8",
           "AgNP",
           100,
           0.278
          ],
          [
           "211020_085918_Plate_1",
           "G8",
           "AgNP",
           100,
           0.278
          ],
          [
           "211008_092824_Plate_1",
           "E8",
           "AgNP",
           100,
           0.278
          ],
          [
           "211008_092824_Plate_1",
           "F8",
           "AgNP",
           100,
           0.278
          ],
          [
           "211008_092824_Plate_1",
           "G8",
           "AgNP",
           100,
           0.278
          ],
          [
           "211015_065907_Plate_1",
           "E8",
           "AgNP",
           100,
           0.278
          ],
          [
           "211015_065907_Plate_1",
           "F8",
           "AgNP",
           100,
           0.278
          ],
          [
           "211015_065907_Plate_1",
           "G8",
           "AgNP",
           100,
           0.278
          ]
         ],
         "error_x": {
          "color": "black",
          "thickness": 2
         },
         "error_y": {
          "color": "black",
          "thickness": 2
         },
         "hovertemplate": "colors_plot_col=0.278<br>0=%{x}<br>1=%{y}<br>Metadata_Plate=%{customdata[0]}<br>Metadata_Well=%{customdata[1]}<br>Metadata_Compound=%{customdata[2]}<br>Metadata_NPSize_nm=%{customdata[3]}<br>Metadata_Concentration_uM=%{customdata[4]}<extra></extra>",
         "legendgroup": "0.278",
         "marker": {
          "color": "#d8576b",
          "line": {
           "color": "White",
           "width": 1
          },
          "size": 10,
          "symbol": "circle"
         },
         "mode": "markers",
         "name": "0.278",
         "orientation": "v",
         "showlegend": true,
         "type": "scatter",
         "x": [
          3.435421943664551,
          3.5893661975860596,
          3.436367988586426,
          3.731200933456421,
          3.2188751697540283,
          3.3024792671203613,
          1.8832358121871948,
          3.5338239669799805,
          3.7993767261505127
         ],
         "xaxis": "x",
         "y": [
          0.19973544776439667,
          0.7345935702323914,
          1.3680518865585327,
          0.18117395043373108,
          0.6104013323783875,
          0.8084953427314758,
          1.632130742073059,
          0.8562392592430115,
          1.17138671875
         ],
         "yaxis": "y"
        },
        {
         "customdata": [
          [
           "211020_085918_Plate_1",
           "E9",
           "AgNP",
           100,
           0.556
          ],
          [
           "211020_085918_Plate_1",
           "F9",
           "AgNP",
           100,
           0.556
          ],
          [
           "211020_085918_Plate_1",
           "G9",
           "AgNP",
           100,
           0.556
          ],
          [
           "211008_092824_Plate_1",
           "E9",
           "AgNP",
           100,
           0.556
          ],
          [
           "211008_092824_Plate_1",
           "F9",
           "AgNP",
           100,
           0.556
          ],
          [
           "211008_092824_Plate_1",
           "G9",
           "AgNP",
           100,
           0.556
          ],
          [
           "211015_065907_Plate_1",
           "E9",
           "AgNP",
           100,
           0.556
          ],
          [
           "211015_065907_Plate_1",
           "F9",
           "AgNP",
           100,
           0.556
          ],
          [
           "211015_065907_Plate_1",
           "G9",
           "AgNP",
           100,
           0.556
          ]
         ],
         "error_x": {
          "color": "black",
          "thickness": 2
         },
         "error_y": {
          "color": "black",
          "thickness": 2
         },
         "hovertemplate": "colors_plot_col=0.556<br>0=%{x}<br>1=%{y}<br>Metadata_Plate=%{customdata[0]}<br>Metadata_Well=%{customdata[1]}<br>Metadata_Compound=%{customdata[2]}<br>Metadata_NPSize_nm=%{customdata[3]}<br>Metadata_Concentration_uM=%{customdata[4]}<extra></extra>",
         "legendgroup": "0.556",
         "marker": {
          "color": "#ed7953",
          "line": {
           "color": "White",
           "width": 1
          },
          "size": 10,
          "symbol": "circle"
         },
         "mode": "markers",
         "name": "0.556",
         "orientation": "v",
         "showlegend": true,
         "type": "scatter",
         "x": [
          4.037559986114502,
          3.580352783203125,
          3.869264841079712,
          4.071227550506592,
          3.432525396347046,
          3.5067663192749023,
          4.007101058959961,
          4.116950511932373,
          3.7015693187713623
         ],
         "xaxis": "x",
         "y": [
          -1.0075677633285522,
          0.9000242352485657,
          1.0852984189987183,
          0.5866155028343201,
          0.8508731722831726,
          1.0426260232925415,
          0.9816493988037109,
          1.256301999092102,
          1.2842806577682495
         ],
         "yaxis": "y"
        },
        {
         "customdata": [
          [
           "211020_085918_Plate_1",
           "E10",
           "AgNP",
           100,
           1.111
          ],
          [
           "211020_085918_Plate_1",
           "F10",
           "AgNP",
           100,
           1.111
          ],
          [
           "211020_085918_Plate_1",
           "G10",
           "AgNP",
           100,
           1.111
          ],
          [
           "211008_092824_Plate_1",
           "E10",
           "AgNP",
           100,
           1.111
          ],
          [
           "211008_092824_Plate_1",
           "F10",
           "AgNP",
           100,
           1.111
          ],
          [
           "211008_092824_Plate_1",
           "G10",
           "AgNP",
           100,
           1.111
          ],
          [
           "211015_065907_Plate_1",
           "E10",
           "AgNP",
           100,
           1.111
          ],
          [
           "211015_065907_Plate_1",
           "F10",
           "AgNP",
           100,
           1.111
          ],
          [
           "211015_065907_Plate_1",
           "G10",
           "AgNP",
           100,
           1.111
          ]
         ],
         "error_x": {
          "color": "black",
          "thickness": 2
         },
         "error_y": {
          "color": "black",
          "thickness": 2
         },
         "hovertemplate": "colors_plot_col=1.111<br>0=%{x}<br>1=%{y}<br>Metadata_Plate=%{customdata[0]}<br>Metadata_Well=%{customdata[1]}<br>Metadata_Compound=%{customdata[2]}<br>Metadata_NPSize_nm=%{customdata[3]}<br>Metadata_Concentration_uM=%{customdata[4]}<extra></extra>",
         "legendgroup": "1.111",
         "marker": {
          "color": "#fb9f3a",
          "line": {
           "color": "White",
           "width": 1
          },
          "size": 10,
          "symbol": "circle"
         },
         "mode": "markers",
         "name": "1.111",
         "orientation": "v",
         "showlegend": true,
         "type": "scatter",
         "x": [
          4.6439290046691895,
          4.867582321166992,
          4.407907009124756,
          5.0389933586120605,
          4.931830883026123,
          4.835875988006592,
          3.641726493835449,
          4.598624229431152,
          4.369293689727783
         ],
         "xaxis": "x",
         "y": [
          1.2782896757125854,
          0.7628276348114014,
          1.656367540359497,
          0.4188690185546875,
          1.5185236930847168,
          1.4809575080871582,
          2.1526639461517334,
          1.4431557655334473,
          1.8455309867858887
         ],
         "yaxis": "y"
        }
       ],
       "layout": {
        "autosize": false,
        "font": {
         "size": 18
        },
        "height": 700,
        "legend": {
         "title": {
          "text": ""
         },
         "tracegroupgap": 0
        },
        "margin": {
         "b": 20,
         "l": 50,
         "pad": 4,
         "r": 50,
         "t": 50
        },
        "plot_bgcolor": "white",
        "template": {
         "data": {
          "bar": [
           {
            "error_x": {
             "color": "#2a3f5f"
            },
            "error_y": {
             "color": "#2a3f5f"
            },
            "marker": {
             "line": {
              "color": "#E5ECF6",
              "width": 0.5
             },
             "pattern": {
              "fillmode": "overlay",
              "size": 10,
              "solidity": 0.2
             }
            },
            "type": "bar"
           }
          ],
          "barpolar": [
           {
            "marker": {
             "line": {
              "color": "#E5ECF6",
              "width": 0.5
             },
             "pattern": {
              "fillmode": "overlay",
              "size": 10,
              "solidity": 0.2
             }
            },
            "type": "barpolar"
           }
          ],
          "carpet": [
           {
            "aaxis": {
             "endlinecolor": "#2a3f5f",
             "gridcolor": "white",
             "linecolor": "white",
             "minorgridcolor": "white",
             "startlinecolor": "#2a3f5f"
            },
            "baxis": {
             "endlinecolor": "#2a3f5f",
             "gridcolor": "white",
             "linecolor": "white",
             "minorgridcolor": "white",
             "startlinecolor": "#2a3f5f"
            },
            "type": "carpet"
           }
          ],
          "choropleth": [
           {
            "colorbar": {
             "outlinewidth": 0,
             "ticks": ""
            },
            "type": "choropleth"
           }
          ],
          "contour": [
           {
            "colorbar": {
             "outlinewidth": 0,
             "ticks": ""
            },
            "colorscale": [
             [
              0,
              "#0d0887"
             ],
             [
              0.1111111111111111,
              "#46039f"
             ],
             [
              0.2222222222222222,
              "#7201a8"
             ],
             [
              0.3333333333333333,
              "#9c179e"
             ],
             [
              0.4444444444444444,
              "#bd3786"
             ],
             [
              0.5555555555555556,
              "#d8576b"
             ],
             [
              0.6666666666666666,
              "#ed7953"
             ],
             [
              0.7777777777777778,
              "#fb9f3a"
             ],
             [
              0.8888888888888888,
              "#fdca26"
             ],
             [
              1,
              "#f0f921"
             ]
            ],
            "type": "contour"
           }
          ],
          "contourcarpet": [
           {
            "colorbar": {
             "outlinewidth": 0,
             "ticks": ""
            },
            "type": "contourcarpet"
           }
          ],
          "heatmap": [
           {
            "colorbar": {
             "outlinewidth": 0,
             "ticks": ""
            },
            "colorscale": [
             [
              0,
              "#0d0887"
             ],
             [
              0.1111111111111111,
              "#46039f"
             ],
             [
              0.2222222222222222,
              "#7201a8"
             ],
             [
              0.3333333333333333,
              "#9c179e"
             ],
             [
              0.4444444444444444,
              "#bd3786"
             ],
             [
              0.5555555555555556,
              "#d8576b"
             ],
             [
              0.6666666666666666,
              "#ed7953"
             ],
             [
              0.7777777777777778,
              "#fb9f3a"
             ],
             [
              0.8888888888888888,
              "#fdca26"
             ],
             [
              1,
              "#f0f921"
             ]
            ],
            "type": "heatmap"
           }
          ],
          "heatmapgl": [
           {
            "colorbar": {
             "outlinewidth": 0,
             "ticks": ""
            },
            "colorscale": [
             [
              0,
              "#0d0887"
             ],
             [
              0.1111111111111111,
              "#46039f"
             ],
             [
              0.2222222222222222,
              "#7201a8"
             ],
             [
              0.3333333333333333,
              "#9c179e"
             ],
             [
              0.4444444444444444,
              "#bd3786"
             ],
             [
              0.5555555555555556,
              "#d8576b"
             ],
             [
              0.6666666666666666,
              "#ed7953"
             ],
             [
              0.7777777777777778,
              "#fb9f3a"
             ],
             [
              0.8888888888888888,
              "#fdca26"
             ],
             [
              1,
              "#f0f921"
             ]
            ],
            "type": "heatmapgl"
           }
          ],
          "histogram": [
           {
            "marker": {
             "pattern": {
              "fillmode": "overlay",
              "size": 10,
              "solidity": 0.2
             }
            },
            "type": "histogram"
           }
          ],
          "histogram2d": [
           {
            "colorbar": {
             "outlinewidth": 0,
             "ticks": ""
            },
            "colorscale": [
             [
              0,
              "#0d0887"
             ],
             [
              0.1111111111111111,
              "#46039f"
             ],
             [
              0.2222222222222222,
              "#7201a8"
             ],
             [
              0.3333333333333333,
              "#9c179e"
             ],
             [
              0.4444444444444444,
              "#bd3786"
             ],
             [
              0.5555555555555556,
              "#d8576b"
             ],
             [
              0.6666666666666666,
              "#ed7953"
             ],
             [
              0.7777777777777778,
              "#fb9f3a"
             ],
             [
              0.8888888888888888,
              "#fdca26"
             ],
             [
              1,
              "#f0f921"
             ]
            ],
            "type": "histogram2d"
           }
          ],
          "histogram2dcontour": [
           {
            "colorbar": {
             "outlinewidth": 0,
             "ticks": ""
            },
            "colorscale": [
             [
              0,
              "#0d0887"
             ],
             [
              0.1111111111111111,
              "#46039f"
             ],
             [
              0.2222222222222222,
              "#7201a8"
             ],
             [
              0.3333333333333333,
              "#9c179e"
             ],
             [
              0.4444444444444444,
              "#bd3786"
             ],
             [
              0.5555555555555556,
              "#d8576b"
             ],
             [
              0.6666666666666666,
              "#ed7953"
             ],
             [
              0.7777777777777778,
              "#fb9f3a"
             ],
             [
              0.8888888888888888,
              "#fdca26"
             ],
             [
              1,
              "#f0f921"
             ]
            ],
            "type": "histogram2dcontour"
           }
          ],
          "mesh3d": [
           {
            "colorbar": {
             "outlinewidth": 0,
             "ticks": ""
            },
            "type": "mesh3d"
           }
          ],
          "parcoords": [
           {
            "line": {
             "colorbar": {
              "outlinewidth": 0,
              "ticks": ""
             }
            },
            "type": "parcoords"
           }
          ],
          "pie": [
           {
            "automargin": true,
            "type": "pie"
           }
          ],
          "scatter": [
           {
            "fillpattern": {
             "fillmode": "overlay",
             "size": 10,
             "solidity": 0.2
            },
            "type": "scatter"
           }
          ],
          "scatter3d": [
           {
            "line": {
             "colorbar": {
              "outlinewidth": 0,
              "ticks": ""
             }
            },
            "marker": {
             "colorbar": {
              "outlinewidth": 0,
              "ticks": ""
             }
            },
            "type": "scatter3d"
           }
          ],
          "scattercarpet": [
           {
            "marker": {
             "colorbar": {
              "outlinewidth": 0,
              "ticks": ""
             }
            },
            "type": "scattercarpet"
           }
          ],
          "scattergeo": [
           {
            "marker": {
             "colorbar": {
              "outlinewidth": 0,
              "ticks": ""
             }
            },
            "type": "scattergeo"
           }
          ],
          "scattergl": [
           {
            "marker": {
             "colorbar": {
              "outlinewidth": 0,
              "ticks": ""
             }
            },
            "type": "scattergl"
           }
          ],
          "scattermapbox": [
           {
            "marker": {
             "colorbar": {
              "outlinewidth": 0,
              "ticks": ""
             }
            },
            "type": "scattermapbox"
           }
          ],
          "scatterpolar": [
           {
            "marker": {
             "colorbar": {
              "outlinewidth": 0,
              "ticks": ""
             }
            },
            "type": "scatterpolar"
           }
          ],
          "scatterpolargl": [
           {
            "marker": {
             "colorbar": {
              "outlinewidth": 0,
              "ticks": ""
             }
            },
            "type": "scatterpolargl"
           }
          ],
          "scatterternary": [
           {
            "marker": {
             "colorbar": {
              "outlinewidth": 0,
              "ticks": ""
             }
            },
            "type": "scatterternary"
           }
          ],
          "surface": [
           {
            "colorbar": {
             "outlinewidth": 0,
             "ticks": ""
            },
            "colorscale": [
             [
              0,
              "#0d0887"
             ],
             [
              0.1111111111111111,
              "#46039f"
             ],
             [
              0.2222222222222222,
              "#7201a8"
             ],
             [
              0.3333333333333333,
              "#9c179e"
             ],
             [
              0.4444444444444444,
              "#bd3786"
             ],
             [
              0.5555555555555556,
              "#d8576b"
             ],
             [
              0.6666666666666666,
              "#ed7953"
             ],
             [
              0.7777777777777778,
              "#fb9f3a"
             ],
             [
              0.8888888888888888,
              "#fdca26"
             ],
             [
              1,
              "#f0f921"
             ]
            ],
            "type": "surface"
           }
          ],
          "table": [
           {
            "cells": {
             "fill": {
              "color": "#EBF0F8"
             },
             "line": {
              "color": "white"
             }
            },
            "header": {
             "fill": {
              "color": "#C8D4E3"
             },
             "line": {
              "color": "white"
             }
            },
            "type": "table"
           }
          ]
         },
         "layout": {
          "annotationdefaults": {
           "arrowcolor": "#2a3f5f",
           "arrowhead": 0,
           "arrowwidth": 1
          },
          "autotypenumbers": "strict",
          "coloraxis": {
           "colorbar": {
            "outlinewidth": 0,
            "ticks": ""
           }
          },
          "colorscale": {
           "diverging": [
            [
             0,
             "#8e0152"
            ],
            [
             0.1,
             "#c51b7d"
            ],
            [
             0.2,
             "#de77ae"
            ],
            [
             0.3,
             "#f1b6da"
            ],
            [
             0.4,
             "#fde0ef"
            ],
            [
             0.5,
             "#f7f7f7"
            ],
            [
             0.6,
             "#e6f5d0"
            ],
            [
             0.7,
             "#b8e186"
            ],
            [
             0.8,
             "#7fbc41"
            ],
            [
             0.9,
             "#4d9221"
            ],
            [
             1,
             "#276419"
            ]
           ],
           "sequential": [
            [
             0,
             "#0d0887"
            ],
            [
             0.1111111111111111,
             "#46039f"
            ],
            [
             0.2222222222222222,
             "#7201a8"
            ],
            [
             0.3333333333333333,
             "#9c179e"
            ],
            [
             0.4444444444444444,
             "#bd3786"
            ],
            [
             0.5555555555555556,
             "#d8576b"
            ],
            [
             0.6666666666666666,
             "#ed7953"
            ],
            [
             0.7777777777777778,
             "#fb9f3a"
            ],
            [
             0.8888888888888888,
             "#fdca26"
            ],
            [
             1,
             "#f0f921"
            ]
           ],
           "sequentialminus": [
            [
             0,
             "#0d0887"
            ],
            [
             0.1111111111111111,
             "#46039f"
            ],
            [
             0.2222222222222222,
             "#7201a8"
            ],
            [
             0.3333333333333333,
             "#9c179e"
            ],
            [
             0.4444444444444444,
             "#bd3786"
            ],
            [
             0.5555555555555556,
             "#d8576b"
            ],
            [
             0.6666666666666666,
             "#ed7953"
            ],
            [
             0.7777777777777778,
             "#fb9f3a"
            ],
            [
             0.8888888888888888,
             "#fdca26"
            ],
            [
             1,
             "#f0f921"
            ]
           ]
          },
          "colorway": [
           "#636efa",
           "#EF553B",
           "#00cc96",
           "#ab63fa",
           "#FFA15A",
           "#19d3f3",
           "#FF6692",
           "#B6E880",
           "#FF97FF",
           "#FECB52"
          ],
          "font": {
           "color": "#2a3f5f"
          },
          "geo": {
           "bgcolor": "white",
           "lakecolor": "white",
           "landcolor": "#E5ECF6",
           "showlakes": true,
           "showland": true,
           "subunitcolor": "white"
          },
          "hoverlabel": {
           "align": "left"
          },
          "hovermode": "closest",
          "mapbox": {
           "style": "light"
          },
          "paper_bgcolor": "white",
          "plot_bgcolor": "#E5ECF6",
          "polar": {
           "angularaxis": {
            "gridcolor": "white",
            "linecolor": "white",
            "ticks": ""
           },
           "bgcolor": "#E5ECF6",
           "radialaxis": {
            "gridcolor": "white",
            "linecolor": "white",
            "ticks": ""
           }
          },
          "scene": {
           "xaxis": {
            "backgroundcolor": "#E5ECF6",
            "gridcolor": "white",
            "gridwidth": 2,
            "linecolor": "white",
            "showbackground": true,
            "ticks": "",
            "zerolinecolor": "white"
           },
           "yaxis": {
            "backgroundcolor": "#E5ECF6",
            "gridcolor": "white",
            "gridwidth": 2,
            "linecolor": "white",
            "showbackground": true,
            "ticks": "",
            "zerolinecolor": "white"
           },
           "zaxis": {
            "backgroundcolor": "#E5ECF6",
            "gridcolor": "white",
            "gridwidth": 2,
            "linecolor": "white",
            "showbackground": true,
            "ticks": "",
            "zerolinecolor": "white"
           }
          },
          "shapedefaults": {
           "line": {
            "color": "#2a3f5f"
           }
          },
          "ternary": {
           "aaxis": {
            "gridcolor": "white",
            "linecolor": "white",
            "ticks": ""
           },
           "baxis": {
            "gridcolor": "white",
            "linecolor": "white",
            "ticks": ""
           },
           "bgcolor": "#E5ECF6",
           "caxis": {
            "gridcolor": "white",
            "linecolor": "white",
            "ticks": ""
           }
          },
          "title": {
           "x": 0.05
          },
          "xaxis": {
           "automargin": true,
           "gridcolor": "white",
           "linecolor": "white",
           "ticks": "",
           "title": {
            "standoff": 15
           },
           "zerolinecolor": "white",
           "zerolinewidth": 2
          },
          "yaxis": {
           "automargin": true,
           "gridcolor": "white",
           "linecolor": "white",
           "ticks": "",
           "title": {
            "standoff": 15
           },
           "zerolinecolor": "white",
           "zerolinewidth": 2
          }
         }
        },
        "title": {
         "text": ""
        },
        "width": 900,
        "xaxis": {
         "anchor": "y",
         "domain": [
          0,
          1
         ],
         "linecolor": "black",
         "mirror": true,
         "showline": true,
         "ticks": "outside",
         "title": {
          "text": "TSNE 1"
         }
        },
        "yaxis": {
         "anchor": "x",
         "domain": [
          0,
          1
         ],
         "linecolor": "black",
         "mirror": true,
         "showline": true,
         "ticks": "outside",
         "title": {
          "text": "TSNE 2"
         }
        }
       }
      }
     },
     "metadata": {},
     "output_type": "display_data"
    }
   ],
   "source": [
    "combat_util.plot_tsne(plot_tsne, color_col='Metadata_Concentration_uM', \n",
    "                    #   split_df = False, split_column = None, np = None,\n",
    "                      hover_cols=hover_list,\n",
    "                    #   size=True, size_col = \"Metadata_concentration_uM\",\n",
    "                      x=\"0\", y=\"1\",\n",
    "                    #   error_x=\"x_err\", error_y=\"y_err\",\n",
    "                      discrete=True\n",
    "                      )"
   ]
  },
  {
   "cell_type": "code",
   "execution_count": 45,
   "metadata": {},
   "outputs": [
    {
     "data": {
      "application/vnd.plotly.v1+json": {
       "config": {
        "plotlyServerURL": "https://plot.ly",
        "toImageButtonOptions": {
         "filename": "custom_image",
         "format": "svg",
         "height": 500,
         "scale": 6,
         "width": 700
        }
       },
       "data": [
        {
         "customdata": [
          [
           "211020_085918_Plate_1",
           "B11",
           "Non-treated",
           0,
           0
          ],
          [
           "211020_085918_Plate_1",
           "C11",
           "Non-treated",
           0,
           0
          ],
          [
           "211020_085918_Plate_1",
           "D11",
           "Non-treated",
           0,
           0
          ],
          [
           "211020_085918_Plate_1",
           "E2",
           "Non-treated",
           0,
           0
          ],
          [
           "211020_085918_Plate_1",
           "F2",
           "Non-treated",
           0,
           0
          ],
          [
           "211020_085918_Plate_1",
           "G2",
           "Non-treated",
           0,
           0
          ],
          [
           "211008_092824_Plate_1",
           "B2",
           "Non-treated",
           0,
           0
          ],
          [
           "211008_092824_Plate_1",
           "C2",
           "Non-treated",
           0,
           0
          ],
          [
           "211008_092824_Plate_1",
           "D2",
           "Non-treated",
           0,
           0
          ],
          [
           "211008_092824_Plate_1",
           "E11",
           "Non-treated",
           0,
           0
          ],
          [
           "211008_092824_Plate_1",
           "F11",
           "Non-treated",
           0,
           0
          ],
          [
           "211008_092824_Plate_1",
           "G11",
           "Non-treated",
           0,
           0
          ],
          [
           "211015_065907_Plate_1",
           "B11",
           "Non-treated",
           0,
           0
          ],
          [
           "211015_065907_Plate_1",
           "C11",
           "Non-treated",
           0,
           0
          ],
          [
           "211015_065907_Plate_1",
           "D11",
           "Non-treated",
           0,
           0
          ],
          [
           "211015_065907_Plate_1",
           "E2",
           "Non-treated",
           0,
           0
          ],
          [
           "211015_065907_Plate_1",
           "F2",
           "Non-treated",
           0,
           0
          ],
          [
           "211015_065907_Plate_1",
           "G2",
           "Non-treated",
           0,
           0
          ]
         ],
         "error_x": {
          "array": [
           0.000003337860107421875,
           0.0000011920928955078125,
           0,
           0.0000035762786865234375,
           0.0000019073486328125,
           0.0000026226043701171875,
           0.0000045299530029296875,
           0.0000045299530029296875,
           7.152557373046875e-7,
           0.0000030994415283203125,
           9.5367431640625e-7,
           0.0000035762786865234375,
           0.000001430511474609375,
           0.0000045299530029296875,
           0.0000021457672119140625,
           0.0000026226043701171875,
           0,
           0.0000019073486328125
          ],
          "color": "black",
          "thickness": 2
         },
         "error_y": {
          "array": [
           8.940696716308594e-8,
           3.2782554626464844e-7,
           0.0000016689300537109375,
           4.470348358154297e-7,
           3.725290298461914e-8,
           2.5331974029541016e-7,
           2.682209014892578e-7,
           8.940696716308594e-8,
           2.384185791015625e-7,
           1.862645149230957e-8,
           0,
           1.4901161193847656e-7,
           2.682209014892578e-7,
           1.1175870895385742e-8,
           2.9802322387695312e-8,
           3.8743019104003906e-7,
           7.152557373046875e-7,
           2.9802322387695312e-8
          ],
          "color": "black",
          "thickness": 2
         },
         "hovertemplate": "colors_plot_col=0.0<br>0=%{x}<br>1=%{y}<br>Metadata_Plate=%{customdata[0]}<br>Metadata_Well=%{customdata[1]}<br>Metadata_Compound=%{customdata[2]}<br>Metadata_NPSize_nm=%{customdata[3]}<br>Metadata_Concentration_uM=%{customdata[4]}<extra></extra>",
         "legendgroup": "0.0",
         "marker": {
          "color": "#b2beB5",
          "line": {
           "color": "White",
           "width": 1
          },
          "size": 10,
          "symbol": "circle"
         },
         "mode": "markers",
         "name": "0.0",
         "orientation": "v",
         "showlegend": true,
         "type": "scatter",
         "x": [
          4.3633036613464355,
          2.872206449508667,
          1.4525091648101807,
          3.2668426036834717,
          2.070176124572754,
          2.015233039855957,
          3.3384673595428467,
          3.6719560623168945,
          2.68178129196167,
          3.512600898742676,
          2.7487964630126953,
          2.8898587226867676,
          2.9893195629119873,
          3.955953359603882,
          2.530620813369751,
          3.1463003158569336,
          1.5654908418655396,
          2.714069128036499
         ],
         "xaxis": "x",
         "y": [
          -0.10369309782981873,
          -0.2657183110713959,
          1.8511974811553955,
          -0.3597225546836853,
          0.05942407622933388,
          -0.22860020399093628,
          -0.31713059544563293,
          -0.37319180369377136,
          0.3446079194545746,
          -0.04481056332588196,
          0.05179644003510475,
          0.25805428624153137,
          -0.26812878251075745,
          -0.02715221792459488,
          0.06818056851625443,
          -0.4950283169746399,
          -1.0834710597991943,
          0.38414257764816284
         ],
         "yaxis": "y"
        },
        {
         "customdata": [
          [
           "211020_085918_Plate_1",
           "E3",
           "AgNP",
           100,
           0.009
          ],
          [
           "211020_085918_Plate_1",
           "F3",
           "AgNP",
           100,
           0.009
          ],
          [
           "211020_085918_Plate_1",
           "G3",
           "AgNP",
           100,
           0.009
          ],
          [
           "211008_092824_Plate_1",
           "E3",
           "AgNP",
           100,
           0.009
          ],
          [
           "211008_092824_Plate_1",
           "F3",
           "AgNP",
           100,
           0.009
          ],
          [
           "211008_092824_Plate_1",
           "G3",
           "AgNP",
           100,
           0.009
          ],
          [
           "211015_065907_Plate_1",
           "E3",
           "AgNP",
           100,
           0.009
          ],
          [
           "211015_065907_Plate_1",
           "F3",
           "AgNP",
           100,
           0.009
          ],
          [
           "211015_065907_Plate_1",
           "G3",
           "AgNP",
           100,
           0.009
          ]
         ],
         "error_x": {
          "array": [
           0.000001430511474609375,
           2.384185791015625e-7,
           0.0000016689300537109375,
           4.76837158203125e-7,
           2.384185791015625e-7,
           2.384185791015625e-7,
           0.0000026226043701171875,
           0.000001430511474609375,
           0.000002384185791015625
          ],
          "color": "black",
          "thickness": 2
         },
         "error_y": {
          "array": [
           6.556510925292969e-7,
           6.332993507385254e-8,
           6.556510925292969e-7,
           2.9802322387695312e-8,
           2.5331974029541016e-7,
           5.960464477539062e-7,
           3.5762786865234375e-7,
           2.9802322387695312e-8,
           2.2351741790771484e-7
          ],
          "color": "black",
          "thickness": 2
         },
         "hovertemplate": "colors_plot_col=0.009<br>0=%{x}<br>1=%{y}<br>Metadata_Plate=%{customdata[0]}<br>Metadata_Well=%{customdata[1]}<br>Metadata_Compound=%{customdata[2]}<br>Metadata_NPSize_nm=%{customdata[3]}<br>Metadata_Concentration_uM=%{customdata[4]}<extra></extra>",
         "legendgroup": "0.009",
         "marker": {
          "color": "#0d0887",
          "line": {
           "color": "White",
           "width": 1
          },
          "size": 10,
          "symbol": "circle"
         },
         "mode": "markers",
         "name": "0.009",
         "orientation": "v",
         "showlegend": true,
         "type": "scatter",
         "x": [
          2.676466464996338,
          2.8173959255218506,
          2.5161736011505127,
          2.790327548980713,
          2.731842279434204,
          2.614548444747925,
          2.442978858947754,
          2.493422746658325,
          2.5653412342071533
         ],
         "xaxis": "x",
         "y": [
          -0.6683499813079834,
          0.05751701444387436,
          0.49390000104904175,
          -0.10311855375766754,
          0.21956461668014526,
          0.5643168091773987,
          -1.3033522367477417,
          -0.04330713674426079,
          0.2456919103860855
         ],
         "yaxis": "y"
        },
        {
         "customdata": [
          [
           "211020_085918_Plate_1",
           "E4",
           "AgNP",
           100,
           0.017
          ],
          [
           "211020_085918_Plate_1",
           "F4",
           "AgNP",
           100,
           0.017
          ],
          [
           "211020_085918_Plate_1",
           "G4",
           "AgNP",
           100,
           0.017
          ],
          [
           "211008_092824_Plate_1",
           "E4",
           "AgNP",
           100,
           0.017
          ],
          [
           "211008_092824_Plate_1",
           "F4",
           "AgNP",
           100,
           0.017
          ],
          [
           "211008_092824_Plate_1",
           "G4",
           "AgNP",
           100,
           0.017
          ],
          [
           "211015_065907_Plate_1",
           "E4",
           "AgNP",
           100,
           0.017
          ],
          [
           "211015_065907_Plate_1",
           "F4",
           "AgNP",
           100,
           0.017
          ],
          [
           "211015_065907_Plate_1",
           "G4",
           "AgNP",
           100,
           0.017
          ]
         ],
         "error_x": {
          "array": [
           4.76837158203125e-7,
           0.000002384185791015625,
           0.000002384185791015625,
           0.0000019073486328125,
           0.0000019073486328125,
           0.0000013113021850585938,
           0.0000016689300537109375,
           0.0000019073486328125,
           0.0000021457672119140625
          ],
          "color": "black",
          "thickness": 2
         },
         "error_y": {
          "array": [
           2.9802322387695312e-8,
           2.086162567138672e-7,
           8.940696716308594e-8,
           1.4901161193847656e-7,
           2.682209014892578e-7,
           0.0000010728836059570312,
           4.172325134277344e-7,
           3.3527612686157227e-8,
           2.384185791015625e-7
          ],
          "color": "black",
          "thickness": 2
         },
         "hovertemplate": "colors_plot_col=0.017<br>0=%{x}<br>1=%{y}<br>Metadata_Plate=%{customdata[0]}<br>Metadata_Well=%{customdata[1]}<br>Metadata_Compound=%{customdata[2]}<br>Metadata_NPSize_nm=%{customdata[3]}<br>Metadata_Concentration_uM=%{customdata[4]}<extra></extra>",
         "legendgroup": "0.017",
         "marker": {
          "color": "#46039f",
          "line": {
           "color": "White",
           "width": 1
          },
          "size": 10,
          "symbol": "circle"
         },
         "mode": "markers",
         "name": "0.017",
         "orientation": "v",
         "showlegend": true,
         "type": "scatter",
         "x": [
          2.636657953262329,
          1.9835559129714966,
          2.0473034381866455,
          3.141857862472534,
          2.3698697090148926,
          1.7282710075378418,
          2.8826284408569336,
          2.1562490463256836,
          2.450031280517578
         ],
         "xaxis": "x",
         "y": [
          -0.19102221727371216,
          0.405353844165802,
          0.36711636185646057,
          -0.15607351064682007,
          -0.3014053702354431,
          -0.9606088399887085,
          -0.4325651526451111,
          -0.033271532505750656,
          0.8802464008331299
         ],
         "yaxis": "y"
        },
        {
         "customdata": [
          [
           "211020_085918_Plate_1",
           "E5",
           "AgNP",
           100,
           0.035
          ],
          [
           "211020_085918_Plate_1",
           "F5",
           "AgNP",
           100,
           0.035
          ],
          [
           "211020_085918_Plate_1",
           "G5",
           "AgNP",
           100,
           0.035
          ],
          [
           "211008_092824_Plate_1",
           "E5",
           "AgNP",
           100,
           0.035
          ],
          [
           "211008_092824_Plate_1",
           "F5",
           "AgNP",
           100,
           0.035
          ],
          [
           "211008_092824_Plate_1",
           "G5",
           "AgNP",
           100,
           0.035
          ],
          [
           "211015_065907_Plate_1",
           "E5",
           "AgNP",
           100,
           0.035
          ],
          [
           "211015_065907_Plate_1",
           "F5",
           "AgNP",
           100,
           0.035
          ],
          [
           "211015_065907_Plate_1",
           "G5",
           "AgNP",
           100,
           0.035
          ]
         ],
         "error_x": {
          "array": [
           0.000003814697265625,
           0.0000016689300537109375,
           0.000001430511474609375,
           9.5367431640625e-7,
           0.000002384185791015625,
           0.0000021457672119140625,
           0.0000040531158447265625,
           0.00000286102294921875,
           0.000001430511474609375
          ],
          "color": "black",
          "thickness": 2
         },
         "error_y": {
          "array": [
           2.682209014892578e-7,
           1.043081283569336e-7,
           8.940696716308594e-8,
           4.76837158203125e-7,
           1.1920928955078125e-7,
           1.4901161193847656e-8,
           1.043081283569336e-7,
           3.3527612686157227e-8,
           2.2351741790771484e-8
          ],
          "color": "black",
          "thickness": 2
         },
         "hovertemplate": "colors_plot_col=0.035<br>0=%{x}<br>1=%{y}<br>Metadata_Plate=%{customdata[0]}<br>Metadata_Well=%{customdata[1]}<br>Metadata_Compound=%{customdata[2]}<br>Metadata_NPSize_nm=%{customdata[3]}<br>Metadata_Concentration_uM=%{customdata[4]}<extra></extra>",
         "legendgroup": "0.035",
         "marker": {
          "color": "#7201a8",
          "line": {
           "color": "White",
           "width": 1
          },
          "size": 10,
          "symbol": "circle"
         },
         "mode": "markers",
         "name": "0.035",
         "orientation": "v",
         "showlegend": true,
         "type": "scatter",
         "x": [
          4.051577091217041,
          2.5955841541290283,
          1.9215542078018188,
          1.7980197668075562,
          2.5787079334259033,
          2.3341989517211914,
          2.8295321464538574,
          2.522688865661621,
          2.6720876693725586
         ],
         "xaxis": "x",
         "y": [
          -0.3859597444534302,
          0.23572491109371185,
          0.27968066930770874,
          1.597478985786438,
          -0.18504124879837036,
          -0.03208666667342186,
          -0.20611366629600525,
          -0.03296922147274017,
          0.03145343437790871
         ],
         "yaxis": "y"
        },
        {
         "customdata": [
          [
           "211020_085918_Plate_1",
           "E6",
           "AgNP",
           100,
           0.069
          ],
          [
           "211020_085918_Plate_1",
           "F6",
           "AgNP",
           100,
           0.069
          ],
          [
           "211020_085918_Plate_1",
           "G6",
           "AgNP",
           100,
           0.069
          ],
          [
           "211008_092824_Plate_1",
           "E6",
           "AgNP",
           100,
           0.069
          ],
          [
           "211008_092824_Plate_1",
           "F6",
           "AgNP",
           100,
           0.069
          ],
          [
           "211008_092824_Plate_1",
           "G6",
           "AgNP",
           100,
           0.069
          ],
          [
           "211015_065907_Plate_1",
           "E6",
           "AgNP",
           100,
           0.069
          ],
          [
           "211015_065907_Plate_1",
           "F6",
           "AgNP",
           100,
           0.069
          ],
          [
           "211015_065907_Plate_1",
           "G6",
           "AgNP",
           100,
           0.069
          ]
         ],
         "error_x": {
          "array": [
           0.00000286102294921875,
           0.0000019073486328125,
           0.000002384185791015625,
           0.000001430511474609375,
           0.0000016689300537109375,
           9.5367431640625e-7,
           0.0000030994415283203125,
           0.000002384185791015625,
           0.0000011920928955078125
          ],
          "color": "black",
          "thickness": 2
         },
         "error_y": {
          "array": [
           7.152557373046875e-7,
           1.1920928955078125e-7,
           2.980232238769531e-7,
           1.4901161193847656e-8,
           1.4901161193847656e-7,
           0.0000010728836059570312,
           5.960464477539063e-8,
           2.8312206268310547e-7,
           0.000001430511474609375
          ],
          "color": "black",
          "thickness": 2
         },
         "hovertemplate": "colors_plot_col=0.069<br>0=%{x}<br>1=%{y}<br>Metadata_Plate=%{customdata[0]}<br>Metadata_Well=%{customdata[1]}<br>Metadata_Compound=%{customdata[2]}<br>Metadata_NPSize_nm=%{customdata[3]}<br>Metadata_Concentration_uM=%{customdata[4]}<extra></extra>",
         "legendgroup": "0.069",
         "marker": {
          "color": "#9c179e",
          "line": {
           "color": "White",
           "width": 1
          },
          "size": 10,
          "symbol": "circle"
         },
         "mode": "markers",
         "name": "0.069",
         "orientation": "v",
         "showlegend": true,
         "type": "scatter",
         "x": [
          3.207028388977051,
          2.6361968517303467,
          2.256809711456299,
          3.0361931324005127,
          2.944549322128296,
          1.6695153713226318,
          3.643522024154663,
          3.3297109603881836,
          2.342028856277466
         ],
         "xaxis": "x",
         "y": [
          -0.8632993102073669,
          0.7141985893249512,
          0.3654974699020386,
          0.09877175092697144,
          0.2694530189037323,
          1.7051396369934082,
          -0.5133934617042542,
          0.23796018958091736,
          1.1927205324172974
         ],
         "yaxis": "y"
        },
        {
         "customdata": [
          [
           "211020_085918_Plate_1",
           "E7",
           "AgNP",
           100,
           0.139
          ],
          [
           "211020_085918_Plate_1",
           "F7",
           "AgNP",
           100,
           0.139
          ],
          [
           "211020_085918_Plate_1",
           "G7",
           "AgNP",
           100,
           0.139
          ],
          [
           "211008_092824_Plate_1",
           "E7",
           "AgNP",
           100,
           0.139
          ],
          [
           "211008_092824_Plate_1",
           "F7",
           "AgNP",
           100,
           0.139
          ],
          [
           "211008_092824_Plate_1",
           "G7",
           "AgNP",
           100,
           0.139
          ],
          [
           "211015_065907_Plate_1",
           "E7",
           "AgNP",
           100,
           0.139
          ],
          [
           "211015_065907_Plate_1",
           "F7",
           "AgNP",
           100,
           0.139
          ],
          [
           "211015_065907_Plate_1",
           "G7",
           "AgNP",
           100,
           0.139
          ]
         ],
         "error_x": {
          "array": [
           0.000001430511474609375,
           0.0000019073486328125,
           0.0000016689300537109375,
           0.0000016689300537109375,
           0.000003337860107421875,
           0.0000040531158447265625,
           4.76837158203125e-7,
           0.000003814697265625,
           0.0000040531158447265625
          ],
          "color": "black",
          "thickness": 2
         },
         "error_y": {
          "array": [
           0.0000013113021850585938,
           2.9802322387695312e-8,
           6.556510925292969e-7,
           0,
           6.556510925292969e-7,
           6.556510925292969e-7,
           5.587935447692871e-8,
           0.0000011920928955078125,
           0.0000016689300537109375
          ],
          "color": "black",
          "thickness": 2
         },
         "hovertemplate": "colors_plot_col=0.139<br>0=%{x}<br>1=%{y}<br>Metadata_Plate=%{customdata[0]}<br>Metadata_Well=%{customdata[1]}<br>Metadata_Compound=%{customdata[2]}<br>Metadata_NPSize_nm=%{customdata[3]}<br>Metadata_Concentration_uM=%{customdata[4]}<extra></extra>",
         "legendgroup": "0.139",
         "marker": {
          "color": "#bd3786",
          "line": {
           "color": "White",
           "width": 1
          },
          "size": 10,
          "symbol": "circle"
         },
         "mode": "markers",
         "name": "0.139",
         "orientation": "v",
         "showlegend": true,
         "type": "scatter",
         "x": [
          1.5306869745254517,
          2.755429267883301,
          2.8833513259887695,
          3.1141538619995117,
          3.417904853820801,
          2.9839444160461426,
          3.3866488933563232,
          2.8695950508117676,
          3.0993621349334717
         ],
         "xaxis": "x",
         "y": [
          1.7895561456680298,
          0.44226840138435364,
          0.987963080406189,
          -0.037728067487478256,
          0.5284145474433899,
          0.5753748416900635,
          0.04131179675459862,
          1.027091383934021,
          1.924458622932434
         ],
         "yaxis": "y"
        },
        {
         "customdata": [
          [
           "211020_085918_Plate_1",
           "E8",
           "AgNP",
           100,
           0.278
          ],
          [
           "211020_085918_Plate_1",
           "F8",
           "AgNP",
           100,
           0.278
          ],
          [
           "211020_085918_Plate_1",
           "G8",
           "AgNP",
           100,
           0.278
          ],
          [
           "211008_092824_Plate_1",
           "E8",
           "AgNP",
           100,
           0.278
          ],
          [
           "211008_092824_Plate_1",
           "F8",
           "AgNP",
           100,
           0.278
          ],
          [
           "211008_092824_Plate_1",
           "G8",
           "AgNP",
           100,
           0.278
          ],
          [
           "211015_065907_Plate_1",
           "E8",
           "AgNP",
           100,
           0.278
          ],
          [
           "211015_065907_Plate_1",
           "F8",
           "AgNP",
           100,
           0.278
          ],
          [
           "211015_065907_Plate_1",
           "G8",
           "AgNP",
           100,
           0.278
          ]
         ],
         "error_x": {
          "array": [
           0.00000286102294921875,
           0.0000040531158447265625,
           0.0000030994415283203125,
           9.5367431640625e-7,
           0.00000286102294921875,
           4.76837158203125e-7,
           4.76837158203125e-7,
           0.0000011920928955078125,
           0.0000026226043701171875
          ],
          "color": "black",
          "thickness": 2
         },
         "error_y": {
          "array": [
           1.9371509552001953e-7,
           5.960464477539063e-8,
           0.0000013113021850585938,
           1.043081283569336e-7,
           4.172325134277344e-7,
           7.152557373046875e-7,
           4.76837158203125e-7,
           4.172325134277344e-7,
           0
          ],
          "color": "black",
          "thickness": 2
         },
         "hovertemplate": "colors_plot_col=0.278<br>0=%{x}<br>1=%{y}<br>Metadata_Plate=%{customdata[0]}<br>Metadata_Well=%{customdata[1]}<br>Metadata_Compound=%{customdata[2]}<br>Metadata_NPSize_nm=%{customdata[3]}<br>Metadata_Concentration_uM=%{customdata[4]}<extra></extra>",
         "legendgroup": "0.278",
         "marker": {
          "color": "#d8576b",
          "line": {
           "color": "White",
           "width": 1
          },
          "size": 10,
          "symbol": "circle"
         },
         "mode": "markers",
         "name": "0.278",
         "orientation": "v",
         "showlegend": true,
         "type": "scatter",
         "x": [
          3.435421943664551,
          3.5893661975860596,
          3.436367988586426,
          3.731200933456421,
          3.2188751697540283,
          3.3024792671203613,
          1.8832358121871948,
          3.5338239669799805,
          3.7993767261505127
         ],
         "xaxis": "x",
         "y": [
          0.19973544776439667,
          0.7345935702323914,
          1.3680518865585327,
          0.18117395043373108,
          0.6104013323783875,
          0.8084953427314758,
          1.632130742073059,
          0.8562392592430115,
          1.17138671875
         ],
         "yaxis": "y"
        },
        {
         "customdata": [
          [
           "211020_085918_Plate_1",
           "E9",
           "AgNP",
           100,
           0.556
          ],
          [
           "211020_085918_Plate_1",
           "F9",
           "AgNP",
           100,
           0.556
          ],
          [
           "211020_085918_Plate_1",
           "G9",
           "AgNP",
           100,
           0.556
          ],
          [
           "211008_092824_Plate_1",
           "E9",
           "AgNP",
           100,
           0.556
          ],
          [
           "211008_092824_Plate_1",
           "F9",
           "AgNP",
           100,
           0.556
          ],
          [
           "211008_092824_Plate_1",
           "G9",
           "AgNP",
           100,
           0.556
          ],
          [
           "211015_065907_Plate_1",
           "E9",
           "AgNP",
           100,
           0.556
          ],
          [
           "211015_065907_Plate_1",
           "F9",
           "AgNP",
           100,
           0.556
          ],
          [
           "211015_065907_Plate_1",
           "G9",
           "AgNP",
           100,
           0.556
          ]
         ],
         "error_x": {
          "array": [
           0.000002384185791015625,
           0,
           0.0000019073486328125,
           0.0000019073486328125,
           7.152557373046875e-7,
           4.76837158203125e-7,
           0.000005245208740234375,
           0.000001430511474609375,
           0.0000019073486328125
          ],
          "color": "black",
          "thickness": 2
         },
         "error_y": {
          "array": [
           0.0000013113021850585938,
           4.172325134277344e-7,
           9.5367431640625e-7,
           4.76837158203125e-7,
           1.7881393432617188e-7,
           0.0000011920928955078125,
           4.76837158203125e-7,
           1.1920928955078125e-7,
           0.0000013113021850585938
          ],
          "color": "black",
          "thickness": 2
         },
         "hovertemplate": "colors_plot_col=0.556<br>0=%{x}<br>1=%{y}<br>Metadata_Plate=%{customdata[0]}<br>Metadata_Well=%{customdata[1]}<br>Metadata_Compound=%{customdata[2]}<br>Metadata_NPSize_nm=%{customdata[3]}<br>Metadata_Concentration_uM=%{customdata[4]}<extra></extra>",
         "legendgroup": "0.556",
         "marker": {
          "color": "#ed7953",
          "line": {
           "color": "White",
           "width": 1
          },
          "size": 10,
          "symbol": "circle"
         },
         "mode": "markers",
         "name": "0.556",
         "orientation": "v",
         "showlegend": true,
         "type": "scatter",
         "x": [
          4.037559986114502,
          3.580352783203125,
          3.869264841079712,
          4.071227550506592,
          3.432525396347046,
          3.5067663192749023,
          4.007101058959961,
          4.116950511932373,
          3.7015693187713623
         ],
         "xaxis": "x",
         "y": [
          -1.0075677633285522,
          0.9000242352485657,
          1.0852984189987183,
          0.5866155028343201,
          0.8508731722831726,
          1.0426260232925415,
          0.9816493988037109,
          1.256301999092102,
          1.2842806577682495
         ],
         "yaxis": "y"
        },
        {
         "customdata": [
          [
           "211020_085918_Plate_1",
           "E10",
           "AgNP",
           100,
           1.111
          ],
          [
           "211020_085918_Plate_1",
           "F10",
           "AgNP",
           100,
           1.111
          ],
          [
           "211020_085918_Plate_1",
           "G10",
           "AgNP",
           100,
           1.111
          ],
          [
           "211008_092824_Plate_1",
           "E10",
           "AgNP",
           100,
           1.111
          ],
          [
           "211008_092824_Plate_1",
           "F10",
           "AgNP",
           100,
           1.111
          ],
          [
           "211008_092824_Plate_1",
           "G10",
           "AgNP",
           100,
           1.111
          ],
          [
           "211015_065907_Plate_1",
           "E10",
           "AgNP",
           100,
           1.111
          ],
          [
           "211015_065907_Plate_1",
           "F10",
           "AgNP",
           100,
           1.111
          ],
          [
           "211015_065907_Plate_1",
           "G10",
           "AgNP",
           100,
           1.111
          ]
         ],
         "error_x": {
          "array": [
           0.000003337860107421875,
           0.00000476837158203125,
           0.0000057220458984375,
           0.000007152557373046875,
           0.00000476837158203125,
           0.000003337860107421875,
           0.000003337860107421875,
           0.00000667572021484375,
           0.000001430511474609375
          ],
          "color": "black",
          "thickness": 2
         },
         "error_y": {
          "array": [
           4.76837158203125e-7,
           1.1920928955078125e-7,
           1.1920928955078125e-7,
           0,
           8.344650268554688e-7,
           0.0000010728836059570312,
           7.152557373046875e-7,
           7.152557373046875e-7,
           8.344650268554688e-7
          ],
          "color": "black",
          "thickness": 2
         },
         "hovertemplate": "colors_plot_col=1.111<br>0=%{x}<br>1=%{y}<br>Metadata_Plate=%{customdata[0]}<br>Metadata_Well=%{customdata[1]}<br>Metadata_Compound=%{customdata[2]}<br>Metadata_NPSize_nm=%{customdata[3]}<br>Metadata_Concentration_uM=%{customdata[4]}<extra></extra>",
         "legendgroup": "1.111",
         "marker": {
          "color": "#fb9f3a",
          "line": {
           "color": "White",
           "width": 1
          },
          "size": 10,
          "symbol": "circle"
         },
         "mode": "markers",
         "name": "1.111",
         "orientation": "v",
         "showlegend": true,
         "type": "scatter",
         "x": [
          4.6439290046691895,
          4.867582321166992,
          4.407907009124756,
          5.0389933586120605,
          4.931830883026123,
          4.835875988006592,
          3.641726493835449,
          4.598624229431152,
          4.369293689727783
         ],
         "xaxis": "x",
         "y": [
          1.2782896757125854,
          0.7628276348114014,
          1.656367540359497,
          0.4188690185546875,
          1.5185236930847168,
          1.4809575080871582,
          2.1526639461517334,
          1.4431557655334473,
          1.8455309867858887
         ],
         "yaxis": "y"
        }
       ],
       "layout": {
        "autosize": false,
        "font": {
         "size": 18
        },
        "height": 700,
        "legend": {
         "title": {
          "text": ""
         },
         "tracegroupgap": 0
        },
        "margin": {
         "b": 20,
         "l": 50,
         "pad": 4,
         "r": 50,
         "t": 50
        },
        "plot_bgcolor": "white",
        "template": {
         "data": {
          "bar": [
           {
            "error_x": {
             "color": "#2a3f5f"
            },
            "error_y": {
             "color": "#2a3f5f"
            },
            "marker": {
             "line": {
              "color": "#E5ECF6",
              "width": 0.5
             },
             "pattern": {
              "fillmode": "overlay",
              "size": 10,
              "solidity": 0.2
             }
            },
            "type": "bar"
           }
          ],
          "barpolar": [
           {
            "marker": {
             "line": {
              "color": "#E5ECF6",
              "width": 0.5
             },
             "pattern": {
              "fillmode": "overlay",
              "size": 10,
              "solidity": 0.2
             }
            },
            "type": "barpolar"
           }
          ],
          "carpet": [
           {
            "aaxis": {
             "endlinecolor": "#2a3f5f",
             "gridcolor": "white",
             "linecolor": "white",
             "minorgridcolor": "white",
             "startlinecolor": "#2a3f5f"
            },
            "baxis": {
             "endlinecolor": "#2a3f5f",
             "gridcolor": "white",
             "linecolor": "white",
             "minorgridcolor": "white",
             "startlinecolor": "#2a3f5f"
            },
            "type": "carpet"
           }
          ],
          "choropleth": [
           {
            "colorbar": {
             "outlinewidth": 0,
             "ticks": ""
            },
            "type": "choropleth"
           }
          ],
          "contour": [
           {
            "colorbar": {
             "outlinewidth": 0,
             "ticks": ""
            },
            "colorscale": [
             [
              0,
              "#0d0887"
             ],
             [
              0.1111111111111111,
              "#46039f"
             ],
             [
              0.2222222222222222,
              "#7201a8"
             ],
             [
              0.3333333333333333,
              "#9c179e"
             ],
             [
              0.4444444444444444,
              "#bd3786"
             ],
             [
              0.5555555555555556,
              "#d8576b"
             ],
             [
              0.6666666666666666,
              "#ed7953"
             ],
             [
              0.7777777777777778,
              "#fb9f3a"
             ],
             [
              0.8888888888888888,
              "#fdca26"
             ],
             [
              1,
              "#f0f921"
             ]
            ],
            "type": "contour"
           }
          ],
          "contourcarpet": [
           {
            "colorbar": {
             "outlinewidth": 0,
             "ticks": ""
            },
            "type": "contourcarpet"
           }
          ],
          "heatmap": [
           {
            "colorbar": {
             "outlinewidth": 0,
             "ticks": ""
            },
            "colorscale": [
             [
              0,
              "#0d0887"
             ],
             [
              0.1111111111111111,
              "#46039f"
             ],
             [
              0.2222222222222222,
              "#7201a8"
             ],
             [
              0.3333333333333333,
              "#9c179e"
             ],
             [
              0.4444444444444444,
              "#bd3786"
             ],
             [
              0.5555555555555556,
              "#d8576b"
             ],
             [
              0.6666666666666666,
              "#ed7953"
             ],
             [
              0.7777777777777778,
              "#fb9f3a"
             ],
             [
              0.8888888888888888,
              "#fdca26"
             ],
             [
              1,
              "#f0f921"
             ]
            ],
            "type": "heatmap"
           }
          ],
          "heatmapgl": [
           {
            "colorbar": {
             "outlinewidth": 0,
             "ticks": ""
            },
            "colorscale": [
             [
              0,
              "#0d0887"
             ],
             [
              0.1111111111111111,
              "#46039f"
             ],
             [
              0.2222222222222222,
              "#7201a8"
             ],
             [
              0.3333333333333333,
              "#9c179e"
             ],
             [
              0.4444444444444444,
              "#bd3786"
             ],
             [
              0.5555555555555556,
              "#d8576b"
             ],
             [
              0.6666666666666666,
              "#ed7953"
             ],
             [
              0.7777777777777778,
              "#fb9f3a"
             ],
             [
              0.8888888888888888,
              "#fdca26"
             ],
             [
              1,
              "#f0f921"
             ]
            ],
            "type": "heatmapgl"
           }
          ],
          "histogram": [
           {
            "marker": {
             "pattern": {
              "fillmode": "overlay",
              "size": 10,
              "solidity": 0.2
             }
            },
            "type": "histogram"
           }
          ],
          "histogram2d": [
           {
            "colorbar": {
             "outlinewidth": 0,
             "ticks": ""
            },
            "colorscale": [
             [
              0,
              "#0d0887"
             ],
             [
              0.1111111111111111,
              "#46039f"
             ],
             [
              0.2222222222222222,
              "#7201a8"
             ],
             [
              0.3333333333333333,
              "#9c179e"
             ],
             [
              0.4444444444444444,
              "#bd3786"
             ],
             [
              0.5555555555555556,
              "#d8576b"
             ],
             [
              0.6666666666666666,
              "#ed7953"
             ],
             [
              0.7777777777777778,
              "#fb9f3a"
             ],
             [
              0.8888888888888888,
              "#fdca26"
             ],
             [
              1,
              "#f0f921"
             ]
            ],
            "type": "histogram2d"
           }
          ],
          "histogram2dcontour": [
           {
            "colorbar": {
             "outlinewidth": 0,
             "ticks": ""
            },
            "colorscale": [
             [
              0,
              "#0d0887"
             ],
             [
              0.1111111111111111,
              "#46039f"
             ],
             [
              0.2222222222222222,
              "#7201a8"
             ],
             [
              0.3333333333333333,
              "#9c179e"
             ],
             [
              0.4444444444444444,
              "#bd3786"
             ],
             [
              0.5555555555555556,
              "#d8576b"
             ],
             [
              0.6666666666666666,
              "#ed7953"
             ],
             [
              0.7777777777777778,
              "#fb9f3a"
             ],
             [
              0.8888888888888888,
              "#fdca26"
             ],
             [
              1,
              "#f0f921"
             ]
            ],
            "type": "histogram2dcontour"
           }
          ],
          "mesh3d": [
           {
            "colorbar": {
             "outlinewidth": 0,
             "ticks": ""
            },
            "type": "mesh3d"
           }
          ],
          "parcoords": [
           {
            "line": {
             "colorbar": {
              "outlinewidth": 0,
              "ticks": ""
             }
            },
            "type": "parcoords"
           }
          ],
          "pie": [
           {
            "automargin": true,
            "type": "pie"
           }
          ],
          "scatter": [
           {
            "fillpattern": {
             "fillmode": "overlay",
             "size": 10,
             "solidity": 0.2
            },
            "type": "scatter"
           }
          ],
          "scatter3d": [
           {
            "line": {
             "colorbar": {
              "outlinewidth": 0,
              "ticks": ""
             }
            },
            "marker": {
             "colorbar": {
              "outlinewidth": 0,
              "ticks": ""
             }
            },
            "type": "scatter3d"
           }
          ],
          "scattercarpet": [
           {
            "marker": {
             "colorbar": {
              "outlinewidth": 0,
              "ticks": ""
             }
            },
            "type": "scattercarpet"
           }
          ],
          "scattergeo": [
           {
            "marker": {
             "colorbar": {
              "outlinewidth": 0,
              "ticks": ""
             }
            },
            "type": "scattergeo"
           }
          ],
          "scattergl": [
           {
            "marker": {
             "colorbar": {
              "outlinewidth": 0,
              "ticks": ""
             }
            },
            "type": "scattergl"
           }
          ],
          "scattermapbox": [
           {
            "marker": {
             "colorbar": {
              "outlinewidth": 0,
              "ticks": ""
             }
            },
            "type": "scattermapbox"
           }
          ],
          "scatterpolar": [
           {
            "marker": {
             "colorbar": {
              "outlinewidth": 0,
              "ticks": ""
             }
            },
            "type": "scatterpolar"
           }
          ],
          "scatterpolargl": [
           {
            "marker": {
             "colorbar": {
              "outlinewidth": 0,
              "ticks": ""
             }
            },
            "type": "scatterpolargl"
           }
          ],
          "scatterternary": [
           {
            "marker": {
             "colorbar": {
              "outlinewidth": 0,
              "ticks": ""
             }
            },
            "type": "scatterternary"
           }
          ],
          "surface": [
           {
            "colorbar": {
             "outlinewidth": 0,
             "ticks": ""
            },
            "colorscale": [
             [
              0,
              "#0d0887"
             ],
             [
              0.1111111111111111,
              "#46039f"
             ],
             [
              0.2222222222222222,
              "#7201a8"
             ],
             [
              0.3333333333333333,
              "#9c179e"
             ],
             [
              0.4444444444444444,
              "#bd3786"
             ],
             [
              0.5555555555555556,
              "#d8576b"
             ],
             [
              0.6666666666666666,
              "#ed7953"
             ],
             [
              0.7777777777777778,
              "#fb9f3a"
             ],
             [
              0.8888888888888888,
              "#fdca26"
             ],
             [
              1,
              "#f0f921"
             ]
            ],
            "type": "surface"
           }
          ],
          "table": [
           {
            "cells": {
             "fill": {
              "color": "#EBF0F8"
             },
             "line": {
              "color": "white"
             }
            },
            "header": {
             "fill": {
              "color": "#C8D4E3"
             },
             "line": {
              "color": "white"
             }
            },
            "type": "table"
           }
          ]
         },
         "layout": {
          "annotationdefaults": {
           "arrowcolor": "#2a3f5f",
           "arrowhead": 0,
           "arrowwidth": 1
          },
          "autotypenumbers": "strict",
          "coloraxis": {
           "colorbar": {
            "outlinewidth": 0,
            "ticks": ""
           }
          },
          "colorscale": {
           "diverging": [
            [
             0,
             "#8e0152"
            ],
            [
             0.1,
             "#c51b7d"
            ],
            [
             0.2,
             "#de77ae"
            ],
            [
             0.3,
             "#f1b6da"
            ],
            [
             0.4,
             "#fde0ef"
            ],
            [
             0.5,
             "#f7f7f7"
            ],
            [
             0.6,
             "#e6f5d0"
            ],
            [
             0.7,
             "#b8e186"
            ],
            [
             0.8,
             "#7fbc41"
            ],
            [
             0.9,
             "#4d9221"
            ],
            [
             1,
             "#276419"
            ]
           ],
           "sequential": [
            [
             0,
             "#0d0887"
            ],
            [
             0.1111111111111111,
             "#46039f"
            ],
            [
             0.2222222222222222,
             "#7201a8"
            ],
            [
             0.3333333333333333,
             "#9c179e"
            ],
            [
             0.4444444444444444,
             "#bd3786"
            ],
            [
             0.5555555555555556,
             "#d8576b"
            ],
            [
             0.6666666666666666,
             "#ed7953"
            ],
            [
             0.7777777777777778,
             "#fb9f3a"
            ],
            [
             0.8888888888888888,
             "#fdca26"
            ],
            [
             1,
             "#f0f921"
            ]
           ],
           "sequentialminus": [
            [
             0,
             "#0d0887"
            ],
            [
             0.1111111111111111,
             "#46039f"
            ],
            [
             0.2222222222222222,
             "#7201a8"
            ],
            [
             0.3333333333333333,
             "#9c179e"
            ],
            [
             0.4444444444444444,
             "#bd3786"
            ],
            [
             0.5555555555555556,
             "#d8576b"
            ],
            [
             0.6666666666666666,
             "#ed7953"
            ],
            [
             0.7777777777777778,
             "#fb9f3a"
            ],
            [
             0.8888888888888888,
             "#fdca26"
            ],
            [
             1,
             "#f0f921"
            ]
           ]
          },
          "colorway": [
           "#636efa",
           "#EF553B",
           "#00cc96",
           "#ab63fa",
           "#FFA15A",
           "#19d3f3",
           "#FF6692",
           "#B6E880",
           "#FF97FF",
           "#FECB52"
          ],
          "font": {
           "color": "#2a3f5f"
          },
          "geo": {
           "bgcolor": "white",
           "lakecolor": "white",
           "landcolor": "#E5ECF6",
           "showlakes": true,
           "showland": true,
           "subunitcolor": "white"
          },
          "hoverlabel": {
           "align": "left"
          },
          "hovermode": "closest",
          "mapbox": {
           "style": "light"
          },
          "paper_bgcolor": "white",
          "plot_bgcolor": "#E5ECF6",
          "polar": {
           "angularaxis": {
            "gridcolor": "white",
            "linecolor": "white",
            "ticks": ""
           },
           "bgcolor": "#E5ECF6",
           "radialaxis": {
            "gridcolor": "white",
            "linecolor": "white",
            "ticks": ""
           }
          },
          "scene": {
           "xaxis": {
            "backgroundcolor": "#E5ECF6",
            "gridcolor": "white",
            "gridwidth": 2,
            "linecolor": "white",
            "showbackground": true,
            "ticks": "",
            "zerolinecolor": "white"
           },
           "yaxis": {
            "backgroundcolor": "#E5ECF6",
            "gridcolor": "white",
            "gridwidth": 2,
            "linecolor": "white",
            "showbackground": true,
            "ticks": "",
            "zerolinecolor": "white"
           },
           "zaxis": {
            "backgroundcolor": "#E5ECF6",
            "gridcolor": "white",
            "gridwidth": 2,
            "linecolor": "white",
            "showbackground": true,
            "ticks": "",
            "zerolinecolor": "white"
           }
          },
          "shapedefaults": {
           "line": {
            "color": "#2a3f5f"
           }
          },
          "ternary": {
           "aaxis": {
            "gridcolor": "white",
            "linecolor": "white",
            "ticks": ""
           },
           "baxis": {
            "gridcolor": "white",
            "linecolor": "white",
            "ticks": ""
           },
           "bgcolor": "#E5ECF6",
           "caxis": {
            "gridcolor": "white",
            "linecolor": "white",
            "ticks": ""
           }
          },
          "title": {
           "x": 0.05
          },
          "xaxis": {
           "automargin": true,
           "gridcolor": "white",
           "linecolor": "white",
           "ticks": "",
           "title": {
            "standoff": 15
           },
           "zerolinecolor": "white",
           "zerolinewidth": 2
          },
          "yaxis": {
           "automargin": true,
           "gridcolor": "white",
           "linecolor": "white",
           "ticks": "",
           "title": {
            "standoff": 15
           },
           "zerolinecolor": "white",
           "zerolinewidth": 2
          }
         }
        },
        "title": {
         "text": ""
        },
        "width": 900,
        "xaxis": {
         "anchor": "y",
         "domain": [
          0,
          1
         ],
         "linecolor": "black",
         "mirror": true,
         "showline": true,
         "ticks": "outside",
         "title": {
          "text": "TSNE 1"
         }
        },
        "yaxis": {
         "anchor": "x",
         "domain": [
          0,
          1
         ],
         "linecolor": "black",
         "mirror": true,
         "showline": true,
         "ticks": "outside",
         "title": {
          "text": "TSNE 2"
         }
        }
       }
      }
     },
     "metadata": {},
     "output_type": "display_data"
    }
   ],
   "source": [
    "combat_util.plot_tsne(plot_tsne, color_col='Metadata_Concentration_uM', \n",
    "                    #   split_df = False, split_column = None, np = None,\n",
    "                      hover_cols=hover_list,\n",
    "                    #   size=True, size_col = \"Metadata_concentration_uM\",\n",
    "                      x=\"0\", y=\"1\",\n",
    "                      error_x=\"x_err\", error_y=\"y_err\",\n",
    "                      discrete=True\n",
    "                      )"
   ]
  },
  {
   "cell_type": "code",
   "execution_count": 40,
   "metadata": {},
   "outputs": [
    {
     "data": {
      "application/vnd.plotly.v1+json": {
       "config": {
        "plotlyServerURL": "https://plot.ly"
       },
       "data": [
        {
         "hovertemplate": "x=%{x}<br>y=%{y}<extra></extra>",
         "legendgroup": "",
         "line": {
          "color": "red",
          "dash": "solid",
          "width": 1
         },
         "marker": {
          "symbol": "circle"
         },
         "mode": "lines+markers",
         "name": "",
         "orientation": "v",
         "showlegend": false,
         "type": "scatter",
         "x": [
          5,
          10,
          15,
          20,
          25,
          30,
          35,
          40,
          45,
          50,
          55,
          60
         ],
         "xaxis": "x",
         "y": [
          0.9585093855857849,
          0.8569985032081604,
          0.855424702167511,
          0.6230736374855042,
          0.6089407205581665,
          0.2877514958381653,
          0.2525743842124939,
          0.19802987575531006,
          0.14413733780384064,
          0.10720890760421753,
          0.08171440660953522,
          0.05762607604265213
         ],
         "yaxis": "y"
        }
       ],
       "layout": {
        "legend": {
         "tracegroupgap": 0
        },
        "margin": {
         "t": 60
        },
        "template": {
         "data": {
          "bar": [
           {
            "error_x": {
             "color": "#2a3f5f"
            },
            "error_y": {
             "color": "#2a3f5f"
            },
            "marker": {
             "line": {
              "color": "#E5ECF6",
              "width": 0.5
             },
             "pattern": {
              "fillmode": "overlay",
              "size": 10,
              "solidity": 0.2
             }
            },
            "type": "bar"
           }
          ],
          "barpolar": [
           {
            "marker": {
             "line": {
              "color": "#E5ECF6",
              "width": 0.5
             },
             "pattern": {
              "fillmode": "overlay",
              "size": 10,
              "solidity": 0.2
             }
            },
            "type": "barpolar"
           }
          ],
          "carpet": [
           {
            "aaxis": {
             "endlinecolor": "#2a3f5f",
             "gridcolor": "white",
             "linecolor": "white",
             "minorgridcolor": "white",
             "startlinecolor": "#2a3f5f"
            },
            "baxis": {
             "endlinecolor": "#2a3f5f",
             "gridcolor": "white",
             "linecolor": "white",
             "minorgridcolor": "white",
             "startlinecolor": "#2a3f5f"
            },
            "type": "carpet"
           }
          ],
          "choropleth": [
           {
            "colorbar": {
             "outlinewidth": 0,
             "ticks": ""
            },
            "type": "choropleth"
           }
          ],
          "contour": [
           {
            "colorbar": {
             "outlinewidth": 0,
             "ticks": ""
            },
            "colorscale": [
             [
              0,
              "#0d0887"
             ],
             [
              0.1111111111111111,
              "#46039f"
             ],
             [
              0.2222222222222222,
              "#7201a8"
             ],
             [
              0.3333333333333333,
              "#9c179e"
             ],
             [
              0.4444444444444444,
              "#bd3786"
             ],
             [
              0.5555555555555556,
              "#d8576b"
             ],
             [
              0.6666666666666666,
              "#ed7953"
             ],
             [
              0.7777777777777778,
              "#fb9f3a"
             ],
             [
              0.8888888888888888,
              "#fdca26"
             ],
             [
              1,
              "#f0f921"
             ]
            ],
            "type": "contour"
           }
          ],
          "contourcarpet": [
           {
            "colorbar": {
             "outlinewidth": 0,
             "ticks": ""
            },
            "type": "contourcarpet"
           }
          ],
          "heatmap": [
           {
            "colorbar": {
             "outlinewidth": 0,
             "ticks": ""
            },
            "colorscale": [
             [
              0,
              "#0d0887"
             ],
             [
              0.1111111111111111,
              "#46039f"
             ],
             [
              0.2222222222222222,
              "#7201a8"
             ],
             [
              0.3333333333333333,
              "#9c179e"
             ],
             [
              0.4444444444444444,
              "#bd3786"
             ],
             [
              0.5555555555555556,
              "#d8576b"
             ],
             [
              0.6666666666666666,
              "#ed7953"
             ],
             [
              0.7777777777777778,
              "#fb9f3a"
             ],
             [
              0.8888888888888888,
              "#fdca26"
             ],
             [
              1,
              "#f0f921"
             ]
            ],
            "type": "heatmap"
           }
          ],
          "heatmapgl": [
           {
            "colorbar": {
             "outlinewidth": 0,
             "ticks": ""
            },
            "colorscale": [
             [
              0,
              "#0d0887"
             ],
             [
              0.1111111111111111,
              "#46039f"
             ],
             [
              0.2222222222222222,
              "#7201a8"
             ],
             [
              0.3333333333333333,
              "#9c179e"
             ],
             [
              0.4444444444444444,
              "#bd3786"
             ],
             [
              0.5555555555555556,
              "#d8576b"
             ],
             [
              0.6666666666666666,
              "#ed7953"
             ],
             [
              0.7777777777777778,
              "#fb9f3a"
             ],
             [
              0.8888888888888888,
              "#fdca26"
             ],
             [
              1,
              "#f0f921"
             ]
            ],
            "type": "heatmapgl"
           }
          ],
          "histogram": [
           {
            "marker": {
             "pattern": {
              "fillmode": "overlay",
              "size": 10,
              "solidity": 0.2
             }
            },
            "type": "histogram"
           }
          ],
          "histogram2d": [
           {
            "colorbar": {
             "outlinewidth": 0,
             "ticks": ""
            },
            "colorscale": [
             [
              0,
              "#0d0887"
             ],
             [
              0.1111111111111111,
              "#46039f"
             ],
             [
              0.2222222222222222,
              "#7201a8"
             ],
             [
              0.3333333333333333,
              "#9c179e"
             ],
             [
              0.4444444444444444,
              "#bd3786"
             ],
             [
              0.5555555555555556,
              "#d8576b"
             ],
             [
              0.6666666666666666,
              "#ed7953"
             ],
             [
              0.7777777777777778,
              "#fb9f3a"
             ],
             [
              0.8888888888888888,
              "#fdca26"
             ],
             [
              1,
              "#f0f921"
             ]
            ],
            "type": "histogram2d"
           }
          ],
          "histogram2dcontour": [
           {
            "colorbar": {
             "outlinewidth": 0,
             "ticks": ""
            },
            "colorscale": [
             [
              0,
              "#0d0887"
             ],
             [
              0.1111111111111111,
              "#46039f"
             ],
             [
              0.2222222222222222,
              "#7201a8"
             ],
             [
              0.3333333333333333,
              "#9c179e"
             ],
             [
              0.4444444444444444,
              "#bd3786"
             ],
             [
              0.5555555555555556,
              "#d8576b"
             ],
             [
              0.6666666666666666,
              "#ed7953"
             ],
             [
              0.7777777777777778,
              "#fb9f3a"
             ],
             [
              0.8888888888888888,
              "#fdca26"
             ],
             [
              1,
              "#f0f921"
             ]
            ],
            "type": "histogram2dcontour"
           }
          ],
          "mesh3d": [
           {
            "colorbar": {
             "outlinewidth": 0,
             "ticks": ""
            },
            "type": "mesh3d"
           }
          ],
          "parcoords": [
           {
            "line": {
             "colorbar": {
              "outlinewidth": 0,
              "ticks": ""
             }
            },
            "type": "parcoords"
           }
          ],
          "pie": [
           {
            "automargin": true,
            "type": "pie"
           }
          ],
          "scatter": [
           {
            "fillpattern": {
             "fillmode": "overlay",
             "size": 10,
             "solidity": 0.2
            },
            "type": "scatter"
           }
          ],
          "scatter3d": [
           {
            "line": {
             "colorbar": {
              "outlinewidth": 0,
              "ticks": ""
             }
            },
            "marker": {
             "colorbar": {
              "outlinewidth": 0,
              "ticks": ""
             }
            },
            "type": "scatter3d"
           }
          ],
          "scattercarpet": [
           {
            "marker": {
             "colorbar": {
              "outlinewidth": 0,
              "ticks": ""
             }
            },
            "type": "scattercarpet"
           }
          ],
          "scattergeo": [
           {
            "marker": {
             "colorbar": {
              "outlinewidth": 0,
              "ticks": ""
             }
            },
            "type": "scattergeo"
           }
          ],
          "scattergl": [
           {
            "marker": {
             "colorbar": {
              "outlinewidth": 0,
              "ticks": ""
             }
            },
            "type": "scattergl"
           }
          ],
          "scattermapbox": [
           {
            "marker": {
             "colorbar": {
              "outlinewidth": 0,
              "ticks": ""
             }
            },
            "type": "scattermapbox"
           }
          ],
          "scatterpolar": [
           {
            "marker": {
             "colorbar": {
              "outlinewidth": 0,
              "ticks": ""
             }
            },
            "type": "scatterpolar"
           }
          ],
          "scatterpolargl": [
           {
            "marker": {
             "colorbar": {
              "outlinewidth": 0,
              "ticks": ""
             }
            },
            "type": "scatterpolargl"
           }
          ],
          "scatterternary": [
           {
            "marker": {
             "colorbar": {
              "outlinewidth": 0,
              "ticks": ""
             }
            },
            "type": "scatterternary"
           }
          ],
          "surface": [
           {
            "colorbar": {
             "outlinewidth": 0,
             "ticks": ""
            },
            "colorscale": [
             [
              0,
              "#0d0887"
             ],
             [
              0.1111111111111111,
              "#46039f"
             ],
             [
              0.2222222222222222,
              "#7201a8"
             ],
             [
              0.3333333333333333,
              "#9c179e"
             ],
             [
              0.4444444444444444,
              "#bd3786"
             ],
             [
              0.5555555555555556,
              "#d8576b"
             ],
             [
              0.6666666666666666,
              "#ed7953"
             ],
             [
              0.7777777777777778,
              "#fb9f3a"
             ],
             [
              0.8888888888888888,
              "#fdca26"
             ],
             [
              1,
              "#f0f921"
             ]
            ],
            "type": "surface"
           }
          ],
          "table": [
           {
            "cells": {
             "fill": {
              "color": "#EBF0F8"
             },
             "line": {
              "color": "white"
             }
            },
            "header": {
             "fill": {
              "color": "#C8D4E3"
             },
             "line": {
              "color": "white"
             }
            },
            "type": "table"
           }
          ]
         },
         "layout": {
          "annotationdefaults": {
           "arrowcolor": "#2a3f5f",
           "arrowhead": 0,
           "arrowwidth": 1
          },
          "autotypenumbers": "strict",
          "coloraxis": {
           "colorbar": {
            "outlinewidth": 0,
            "ticks": ""
           }
          },
          "colorscale": {
           "diverging": [
            [
             0,
             "#8e0152"
            ],
            [
             0.1,
             "#c51b7d"
            ],
            [
             0.2,
             "#de77ae"
            ],
            [
             0.3,
             "#f1b6da"
            ],
            [
             0.4,
             "#fde0ef"
            ],
            [
             0.5,
             "#f7f7f7"
            ],
            [
             0.6,
             "#e6f5d0"
            ],
            [
             0.7,
             "#b8e186"
            ],
            [
             0.8,
             "#7fbc41"
            ],
            [
             0.9,
             "#4d9221"
            ],
            [
             1,
             "#276419"
            ]
           ],
           "sequential": [
            [
             0,
             "#0d0887"
            ],
            [
             0.1111111111111111,
             "#46039f"
            ],
            [
             0.2222222222222222,
             "#7201a8"
            ],
            [
             0.3333333333333333,
             "#9c179e"
            ],
            [
             0.4444444444444444,
             "#bd3786"
            ],
            [
             0.5555555555555556,
             "#d8576b"
            ],
            [
             0.6666666666666666,
             "#ed7953"
            ],
            [
             0.7777777777777778,
             "#fb9f3a"
            ],
            [
             0.8888888888888888,
             "#fdca26"
            ],
            [
             1,
             "#f0f921"
            ]
           ],
           "sequentialminus": [
            [
             0,
             "#0d0887"
            ],
            [
             0.1111111111111111,
             "#46039f"
            ],
            [
             0.2222222222222222,
             "#7201a8"
            ],
            [
             0.3333333333333333,
             "#9c179e"
            ],
            [
             0.4444444444444444,
             "#bd3786"
            ],
            [
             0.5555555555555556,
             "#d8576b"
            ],
            [
             0.6666666666666666,
             "#ed7953"
            ],
            [
             0.7777777777777778,
             "#fb9f3a"
            ],
            [
             0.8888888888888888,
             "#fdca26"
            ],
            [
             1,
             "#f0f921"
            ]
           ]
          },
          "colorway": [
           "#636efa",
           "#EF553B",
           "#00cc96",
           "#ab63fa",
           "#FFA15A",
           "#19d3f3",
           "#FF6692",
           "#B6E880",
           "#FF97FF",
           "#FECB52"
          ],
          "font": {
           "color": "#2a3f5f"
          },
          "geo": {
           "bgcolor": "white",
           "lakecolor": "white",
           "landcolor": "#E5ECF6",
           "showlakes": true,
           "showland": true,
           "subunitcolor": "white"
          },
          "hoverlabel": {
           "align": "left"
          },
          "hovermode": "closest",
          "mapbox": {
           "style": "light"
          },
          "paper_bgcolor": "white",
          "plot_bgcolor": "#E5ECF6",
          "polar": {
           "angularaxis": {
            "gridcolor": "white",
            "linecolor": "white",
            "ticks": ""
           },
           "bgcolor": "#E5ECF6",
           "radialaxis": {
            "gridcolor": "white",
            "linecolor": "white",
            "ticks": ""
           }
          },
          "scene": {
           "xaxis": {
            "backgroundcolor": "#E5ECF6",
            "gridcolor": "white",
            "gridwidth": 2,
            "linecolor": "white",
            "showbackground": true,
            "ticks": "",
            "zerolinecolor": "white"
           },
           "yaxis": {
            "backgroundcolor": "#E5ECF6",
            "gridcolor": "white",
            "gridwidth": 2,
            "linecolor": "white",
            "showbackground": true,
            "ticks": "",
            "zerolinecolor": "white"
           },
           "zaxis": {
            "backgroundcolor": "#E5ECF6",
            "gridcolor": "white",
            "gridwidth": 2,
            "linecolor": "white",
            "showbackground": true,
            "ticks": "",
            "zerolinecolor": "white"
           }
          },
          "shapedefaults": {
           "line": {
            "color": "#2a3f5f"
           }
          },
          "ternary": {
           "aaxis": {
            "gridcolor": "white",
            "linecolor": "white",
            "ticks": ""
           },
           "baxis": {
            "gridcolor": "white",
            "linecolor": "white",
            "ticks": ""
           },
           "bgcolor": "#E5ECF6",
           "caxis": {
            "gridcolor": "white",
            "linecolor": "white",
            "ticks": ""
           }
          },
          "title": {
           "x": 0.05
          },
          "xaxis": {
           "automargin": true,
           "gridcolor": "white",
           "linecolor": "white",
           "ticks": "",
           "title": {
            "standoff": 15
           },
           "zerolinecolor": "white",
           "zerolinewidth": 2
          },
          "yaxis": {
           "automargin": true,
           "gridcolor": "white",
           "linecolor": "white",
           "ticks": "",
           "title": {
            "standoff": 15
           },
           "zerolinecolor": "white",
           "zerolinewidth": 2
          }
         }
        },
        "xaxis": {
         "anchor": "y",
         "domain": [
          0,
          1
         ],
         "title": {
          "text": "Perplexity Values"
         }
        },
        "yaxis": {
         "anchor": "x",
         "domain": [
          0,
          1
         ],
         "title": {
          "text": "Divergence"
         }
        }
       }
      }
     },
     "metadata": {},
     "output_type": "display_data"
    }
   ],
   "source": [
    "combat_util.tsne_divergence(X, range=65)"
   ]
  },
  {
   "cell_type": "code",
   "execution_count": 48,
   "metadata": {},
   "outputs": [],
   "source": [
    "X, plot_tsne_40 = combat_util.tsne_generator(df_40, perplexity=50, n_components = 2, metric=metric, iterate=True, number_runs=number_of_iterations)"
   ]
  },
  {
   "cell_type": "code",
   "execution_count": 53,
   "metadata": {},
   "outputs": [],
   "source": [
    "plot_tsne_40.sort_values(by=\"Metadata_Concentration_uM\", inplace=True)"
   ]
  },
  {
   "cell_type": "code",
   "execution_count": 54,
   "metadata": {},
   "outputs": [
    {
     "data": {
      "application/vnd.plotly.v1+json": {
       "config": {
        "plotlyServerURL": "https://plot.ly",
        "toImageButtonOptions": {
         "filename": "custom_image",
         "format": "svg",
         "height": 500,
         "scale": 6,
         "width": 700
        }
       },
       "data": [
        {
         "customdata": [
          [
           "211015_065907_Plate_1",
           "G2",
           "Non-treated",
           0,
           0
          ],
          [
           "211020_085918_Plate_1",
           "F2",
           "Non-treated",
           0,
           0
          ],
          [
           "211020_085918_Plate_1",
           "G2",
           "Non-treated",
           0,
           0
          ],
          [
           "211008_092824_Plate_1",
           "B2",
           "Non-treated",
           0,
           0
          ],
          [
           "211020_085918_Plate_1",
           "C11",
           "Non-treated",
           0,
           0
          ],
          [
           "211008_092824_Plate_1",
           "C2",
           "Non-treated",
           0,
           0
          ],
          [
           "211015_065907_Plate_1",
           "F2",
           "Non-treated",
           0,
           0
          ],
          [
           "211008_092824_Plate_1",
           "D2",
           "Non-treated",
           0,
           0
          ],
          [
           "211020_085918_Plate_1",
           "E2",
           "Non-treated",
           0,
           0
          ],
          [
           "211008_092824_Plate_1",
           "F11",
           "Non-treated",
           0,
           0
          ],
          [
           "211008_092824_Plate_1",
           "E11",
           "Non-treated",
           0,
           0
          ],
          [
           "211020_085918_Plate_1",
           "B11",
           "Non-treated",
           0,
           0
          ],
          [
           "211015_065907_Plate_1",
           "B11",
           "Non-treated",
           0,
           0
          ],
          [
           "211015_065907_Plate_1",
           "C11",
           "Non-treated",
           0,
           0
          ],
          [
           "211015_065907_Plate_1",
           "D11",
           "Non-treated",
           0,
           0
          ],
          [
           "211015_065907_Plate_1",
           "E2",
           "Non-treated",
           0,
           0
          ],
          [
           "211008_092824_Plate_1",
           "G11",
           "Non-treated",
           0,
           0
          ],
          [
           "211020_085918_Plate_1",
           "D11",
           "Non-treated",
           0,
           0
          ]
         ],
         "error_x": {
          "color": "black",
          "thickness": 2
         },
         "error_y": {
          "color": "black",
          "thickness": 2
         },
         "hovertemplate": "colors_plot_col=0.0<br>0=%{x}<br>1=%{y}<br>Metadata_Plate=%{customdata[0]}<br>Metadata_Well=%{customdata[1]}<br>Metadata_Compound=%{customdata[2]}<br>Metadata_NPSize_nm=%{customdata[3]}<br>Metadata_Concentration_uM=%{customdata[4]}<extra></extra>",
         "legendgroup": "0.0",
         "marker": {
          "color": "#b2beB5",
          "line": {
           "color": "White",
           "width": 1
          },
          "size": 10,
          "symbol": "circle"
         },
         "mode": "markers",
         "name": "0.0",
         "orientation": "v",
         "showlegend": true,
         "type": "scatter",
         "x": [
          0.6370623111724854,
          -0.3257450759410858,
          -0.4406675100326538,
          -1.585536241531372,
          -0.7080655694007874,
          -1.9316608905792236,
          -2.8759894371032715,
          -0.10384148359298706,
          -1.1739981174468994,
          -0.21765726804733276,
          -1.1961054801940918,
          -0.788047730922699,
          -0.9878844618797302,
          1.0373512506484985,
          0.08528996258974075,
          -1.4067397117614746,
          -0.008904751390218735,
          -0.36000439524650574
         ],
         "xaxis": "x",
         "y": [
          -4.892889499664307,
          -6.072961330413818,
          -6.1043291091918945,
          -3.460232734680176,
          -4.6944661140441895,
          -3.979398250579834,
          -4.743987560272217,
          -5.318819046020508,
          -4.704683303833008,
          -5.019712448120117,
          -3.6044418811798096,
          -1.8196702003479004,
          -4.556486129760742,
          -3.636720895767212,
          -5.069419860839844,
          -4.5463948249816895,
          -5.077630996704102,
          -0.6276703476905823
         ],
         "yaxis": "y"
        },
        {
         "customdata": [
          [
           "211008_092824_Plate_1",
           "D3",
           "AgNP",
           40,
           0.0011
          ],
          [
           "211015_065907_Plate_1",
           "B3",
           "AgNP",
           40,
           0.0011
          ],
          [
           "211008_092824_Plate_1",
           "C3",
           "AgNP",
           40,
           0.0011
          ],
          [
           "211015_065907_Plate_1",
           "C3",
           "AgNP",
           40,
           0.0011
          ],
          [
           "211008_092824_Plate_1",
           "B3",
           "AgNP",
           40,
           0.0011
          ],
          [
           "211015_065907_Plate_1",
           "D3",
           "AgNP",
           40,
           0.0011
          ],
          [
           "211020_085918_Plate_1",
           "B3",
           "AgNP",
           40,
           0.0011
          ],
          [
           "211020_085918_Plate_1",
           "C3",
           "AgNP",
           40,
           0.0011
          ],
          [
           "211020_085918_Plate_1",
           "D3",
           "AgNP",
           40,
           0.0011
          ]
         ],
         "error_x": {
          "color": "black",
          "thickness": 2
         },
         "error_y": {
          "color": "black",
          "thickness": 2
         },
         "hovertemplate": "colors_plot_col=0.0011<br>0=%{x}<br>1=%{y}<br>Metadata_Plate=%{customdata[0]}<br>Metadata_Well=%{customdata[1]}<br>Metadata_Compound=%{customdata[2]}<br>Metadata_NPSize_nm=%{customdata[3]}<br>Metadata_Concentration_uM=%{customdata[4]}<extra></extra>",
         "legendgroup": "0.0011",
         "marker": {
          "color": "#0d0887",
          "line": {
           "color": "White",
           "width": 1
          },
          "size": 10,
          "symbol": "circle"
         },
         "mode": "markers",
         "name": "0.0011",
         "orientation": "v",
         "showlegend": true,
         "type": "scatter",
         "x": [
          -0.11448099464178085,
          -0.912346601486206,
          -1.1292551755905151,
          -0.799115777015686,
          -0.938028872013092,
          -0.5279949307441711,
          -1.4113783836364746,
          -0.8335593342781067,
          -0.5134212970733643
         ],
         "xaxis": "x",
         "y": [
          -5.119346618652344,
          -2.483966112136841,
          -4.862489700317383,
          -5.448919296264648,
          -3.071950674057007,
          -5.466184616088867,
          -3.4703783988952637,
          -5.553671360015869,
          -5.794683456420898
         ],
         "yaxis": "y"
        },
        {
         "customdata": [
          [
           "211008_092824_Plate_1",
           "C4",
           "AgNP",
           40,
           0.0022
          ],
          [
           "211015_065907_Plate_1",
           "B4",
           "AgNP",
           40,
           0.0022
          ],
          [
           "211008_092824_Plate_1",
           "D4",
           "AgNP",
           40,
           0.0022
          ],
          [
           "211015_065907_Plate_1",
           "C4",
           "AgNP",
           40,
           0.0022
          ],
          [
           "211015_065907_Plate_1",
           "D4",
           "AgNP",
           40,
           0.0022
          ],
          [
           "211020_085918_Plate_1",
           "C4",
           "AgNP",
           40,
           0.0022
          ],
          [
           "211020_085918_Plate_1",
           "B4",
           "AgNP",
           40,
           0.0022
          ],
          [
           "211020_085918_Plate_1",
           "D4",
           "AgNP",
           40,
           0.0022
          ],
          [
           "211008_092824_Plate_1",
           "B4",
           "AgNP",
           40,
           0.0022
          ]
         ],
         "error_x": {
          "color": "black",
          "thickness": 2
         },
         "error_y": {
          "color": "black",
          "thickness": 2
         },
         "hovertemplate": "colors_plot_col=0.0022<br>0=%{x}<br>1=%{y}<br>Metadata_Plate=%{customdata[0]}<br>Metadata_Well=%{customdata[1]}<br>Metadata_Compound=%{customdata[2]}<br>Metadata_NPSize_nm=%{customdata[3]}<br>Metadata_Concentration_uM=%{customdata[4]}<extra></extra>",
         "legendgroup": "0.0022",
         "marker": {
          "color": "#46039f",
          "line": {
           "color": "White",
           "width": 1
          },
          "size": 10,
          "symbol": "circle"
         },
         "mode": "markers",
         "name": "0.0022",
         "orientation": "v",
         "showlegend": true,
         "type": "scatter",
         "x": [
          -0.5770960450172424,
          -1.4489426612854004,
          -0.02097916603088379,
          -0.5521630048751831,
          0.5927773118019104,
          -0.6068270206451416,
          -1.4895156621932983,
          0.23330067098140717,
          0.7800623178482056
         ],
         "xaxis": "x",
         "y": [
          -4.839347839355469,
          -3.4067580699920654,
          -5.264398097991943,
          -5.406127452850342,
          -5.682680130004883,
          -5.000825881958008,
          -3.448800563812256,
          -5.715765953063965,
          -4.042022228240967
         ],
         "yaxis": "y"
        },
        {
         "customdata": [
          [
           "211008_092824_Plate_1",
           "B5",
           "AgNP",
           40,
           0.0043
          ],
          [
           "211015_065907_Plate_1",
           "B5",
           "AgNP",
           40,
           0.0043
          ],
          [
           "211008_092824_Plate_1",
           "D5",
           "AgNP",
           40,
           0.0043
          ],
          [
           "211020_085918_Plate_1",
           "B5",
           "AgNP",
           40,
           0.0043
          ],
          [
           "211015_065907_Plate_1",
           "C5",
           "AgNP",
           40,
           0.0043
          ],
          [
           "211008_092824_Plate_1",
           "C5",
           "AgNP",
           40,
           0.0043
          ],
          [
           "211020_085918_Plate_1",
           "C5",
           "AgNP",
           40,
           0.0043
          ],
          [
           "211015_065907_Plate_1",
           "D5",
           "AgNP",
           40,
           0.0043
          ],
          [
           "211020_085918_Plate_1",
           "D5",
           "AgNP",
           40,
           0.0043
          ]
         ],
         "error_x": {
          "color": "black",
          "thickness": 2
         },
         "error_y": {
          "color": "black",
          "thickness": 2
         },
         "hovertemplate": "colors_plot_col=0.0043<br>0=%{x}<br>1=%{y}<br>Metadata_Plate=%{customdata[0]}<br>Metadata_Well=%{customdata[1]}<br>Metadata_Compound=%{customdata[2]}<br>Metadata_NPSize_nm=%{customdata[3]}<br>Metadata_Concentration_uM=%{customdata[4]}<extra></extra>",
         "legendgroup": "0.0043",
         "marker": {
          "color": "#7201a8",
          "line": {
           "color": "White",
           "width": 1
          },
          "size": 10,
          "symbol": "circle"
         },
         "mode": "markers",
         "name": "0.0043",
         "orientation": "v",
         "showlegend": true,
         "type": "scatter",
         "x": [
          -2.606158494949341,
          -1.2524887323379517,
          -0.13007903099060059,
          -1.3085017204284668,
          -0.3805275857448578,
          -0.21466825902462006,
          -0.7090833187103271,
          0.1542690247297287,
          0.19813978672027588
         ],
         "xaxis": "x",
         "y": [
          -4.966644763946533,
          -3.1009926795959473,
          -5.030541896820068,
          -2.9987664222717285,
          -4.389921188354492,
          -3.931305170059204,
          -4.899839401245117,
          -5.286247730255127,
          -4.867616653442383
         ],
         "yaxis": "y"
        },
        {
         "customdata": [
          [
           "211008_092824_Plate_1",
           "C6",
           "AgNP",
           40,
           0.0087
          ],
          [
           "211020_085918_Plate_1",
           "B6",
           "AgNP",
           40,
           0.0087
          ],
          [
           "211020_085918_Plate_1",
           "D6",
           "AgNP",
           40,
           0.0087
          ],
          [
           "211020_085918_Plate_1",
           "C6",
           "AgNP",
           40,
           0.0087
          ],
          [
           "211015_065907_Plate_1",
           "D6",
           "AgNP",
           40,
           0.0087
          ],
          [
           "211008_092824_Plate_1",
           "D6",
           "AgNP",
           40,
           0.0087
          ],
          [
           "211015_065907_Plate_1",
           "B6",
           "AgNP",
           40,
           0.0087
          ],
          [
           "211008_092824_Plate_1",
           "B6",
           "AgNP",
           40,
           0.0087
          ],
          [
           "211015_065907_Plate_1",
           "C6",
           "AgNP",
           40,
           0.0087
          ]
         ],
         "error_x": {
          "color": "black",
          "thickness": 2
         },
         "error_y": {
          "color": "black",
          "thickness": 2
         },
         "hovertemplate": "colors_plot_col=0.0087<br>0=%{x}<br>1=%{y}<br>Metadata_Plate=%{customdata[0]}<br>Metadata_Well=%{customdata[1]}<br>Metadata_Compound=%{customdata[2]}<br>Metadata_NPSize_nm=%{customdata[3]}<br>Metadata_Concentration_uM=%{customdata[4]}<extra></extra>",
         "legendgroup": "0.0087",
         "marker": {
          "color": "#9c179e",
          "line": {
           "color": "White",
           "width": 1
          },
          "size": 10,
          "symbol": "circle"
         },
         "mode": "markers",
         "name": "0.0087",
         "orientation": "v",
         "showlegend": true,
         "type": "scatter",
         "x": [
          -2.0847158432006836,
          -1.3933104276657104,
          0.3240985572338104,
          -0.7581762671470642,
          -0.07407379895448685,
          0.02849619835615158,
          -1.0772398710250854,
          -0.7417075634002686,
          -0.0759720727801323
         ],
         "xaxis": "x",
         "y": [
          -5.390232086181641,
          -2.977612257003784,
          -4.987154006958008,
          -4.122528553009033,
          -4.617310047149658,
          -4.409943103790283,
          -3.11381196975708,
          -2.606860876083374,
          -4.158966064453125
         ],
         "yaxis": "y"
        },
        {
         "customdata": [
          [
           "211015_065907_Plate_1",
           "C7",
           "AgNP",
           40,
           0.0174
          ],
          [
           "211020_085918_Plate_1",
           "B7",
           "AgNP",
           40,
           0.0174
          ],
          [
           "211015_065907_Plate_1",
           "B7",
           "AgNP",
           40,
           0.0174
          ],
          [
           "211015_065907_Plate_1",
           "D7",
           "AgNP",
           40,
           0.0174
          ],
          [
           "211008_092824_Plate_1",
           "C7",
           "AgNP",
           40,
           0.0174
          ],
          [
           "211008_092824_Plate_1",
           "B7",
           "AgNP",
           40,
           0.0174
          ],
          [
           "211008_092824_Plate_1",
           "D7",
           "AgNP",
           40,
           0.0174
          ],
          [
           "211020_085918_Plate_1",
           "C7",
           "AgNP",
           40,
           0.0174
          ],
          [
           "211020_085918_Plate_1",
           "D7",
           "AgNP",
           40,
           0.0174
          ]
         ],
         "error_x": {
          "color": "black",
          "thickness": 2
         },
         "error_y": {
          "color": "black",
          "thickness": 2
         },
         "hovertemplate": "colors_plot_col=0.0174<br>0=%{x}<br>1=%{y}<br>Metadata_Plate=%{customdata[0]}<br>Metadata_Well=%{customdata[1]}<br>Metadata_Compound=%{customdata[2]}<br>Metadata_NPSize_nm=%{customdata[3]}<br>Metadata_Concentration_uM=%{customdata[4]}<extra></extra>",
         "legendgroup": "0.0174",
         "marker": {
          "color": "#bd3786",
          "line": {
           "color": "White",
           "width": 1
          },
          "size": 10,
          "symbol": "circle"
         },
         "mode": "markers",
         "name": "0.0174",
         "orientation": "v",
         "showlegend": true,
         "type": "scatter",
         "x": [
          1.8388324975967407,
          -1.3262410163879395,
          -2.4383513927459717,
          -0.15828150510787964,
          -0.4662027657032013,
          -1.5116746425628662,
          0.01612917147576809,
          -0.7581895589828491,
          0.7965728640556335
         ],
         "xaxis": "x",
         "y": [
          -4.209984302520752,
          -2.9314751625061035,
          -2.6221277713775635,
          -3.8292534351348877,
          -4.003103256225586,
          -2.27329683303833,
          -3.961855411529541,
          -4.022765636444092,
          -2.9310715198516846
         ],
         "yaxis": "y"
        },
        {
         "customdata": [
          [
           "211015_065907_Plate_1",
           "C8",
           "AgNP",
           40,
           0.0347
          ],
          [
           "211015_065907_Plate_1",
           "D8",
           "AgNP",
           40,
           0.0347
          ],
          [
           "211020_085918_Plate_1",
           "C8",
           "AgNP",
           40,
           0.0347
          ],
          [
           "211008_092824_Plate_1",
           "C8",
           "AgNP",
           40,
           0.0347
          ],
          [
           "211020_085918_Plate_1",
           "B8",
           "AgNP",
           40,
           0.0347
          ],
          [
           "211008_092824_Plate_1",
           "B8",
           "AgNP",
           40,
           0.0347
          ],
          [
           "211015_065907_Plate_1",
           "B8",
           "AgNP",
           40,
           0.0347
          ],
          [
           "211008_092824_Plate_1",
           "D8",
           "AgNP",
           40,
           0.0347
          ],
          [
           "211020_085918_Plate_1",
           "D8",
           "AgNP",
           40,
           0.0347
          ]
         ],
         "error_x": {
          "color": "black",
          "thickness": 2
         },
         "error_y": {
          "color": "black",
          "thickness": 2
         },
         "hovertemplate": "colors_plot_col=0.0347<br>0=%{x}<br>1=%{y}<br>Metadata_Plate=%{customdata[0]}<br>Metadata_Well=%{customdata[1]}<br>Metadata_Compound=%{customdata[2]}<br>Metadata_NPSize_nm=%{customdata[3]}<br>Metadata_Concentration_uM=%{customdata[4]}<extra></extra>",
         "legendgroup": "0.0347",
         "marker": {
          "color": "#d8576b",
          "line": {
           "color": "White",
           "width": 1
          },
          "size": 10,
          "symbol": "circle"
         },
         "mode": "markers",
         "name": "0.0347",
         "orientation": "v",
         "showlegend": true,
         "type": "scatter",
         "x": [
          0.25315845012664795,
          0.26377159357070923,
          -0.2607823610305786,
          -0.21733851730823517,
          -1.0510003566741943,
          -0.5521842241287231,
          -0.5984947085380554,
          0.019511224702000618,
          -0.3480190634727478
         ],
         "xaxis": "x",
         "y": [
          -3.5349011421203613,
          -3.300168037414551,
          -3.4790334701538086,
          -3.273376703262329,
          -2.3231475353240967,
          -3.5433762073516846,
          -2.467357873916626,
          -3.884763717651367,
          -4.475494861602783
         ],
         "yaxis": "y"
        },
        {
         "customdata": [
          [
           "211015_065907_Plate_1",
           "B9",
           "AgNP",
           40,
           0.0694
          ],
          [
           "211008_092824_Plate_1",
           "B9",
           "AgNP",
           40,
           0.0694
          ],
          [
           "211008_092824_Plate_1",
           "C9",
           "AgNP",
           40,
           0.0694
          ],
          [
           "211020_085918_Plate_1",
           "D9",
           "AgNP",
           40,
           0.0694
          ],
          [
           "211015_065907_Plate_1",
           "C9",
           "AgNP",
           40,
           0.0694
          ],
          [
           "211015_065907_Plate_1",
           "D9",
           "AgNP",
           40,
           0.0694
          ],
          [
           "211020_085918_Plate_1",
           "C9",
           "AgNP",
           40,
           0.0694
          ],
          [
           "211008_092824_Plate_1",
           "D9",
           "AgNP",
           40,
           0.0694
          ],
          [
           "211020_085918_Plate_1",
           "B9",
           "AgNP",
           40,
           0.0694
          ]
         ],
         "error_x": {
          "color": "black",
          "thickness": 2
         },
         "error_y": {
          "color": "black",
          "thickness": 2
         },
         "hovertemplate": "colors_plot_col=0.0694<br>0=%{x}<br>1=%{y}<br>Metadata_Plate=%{customdata[0]}<br>Metadata_Well=%{customdata[1]}<br>Metadata_Compound=%{customdata[2]}<br>Metadata_NPSize_nm=%{customdata[3]}<br>Metadata_Concentration_uM=%{customdata[4]}<extra></extra>",
         "legendgroup": "0.0694",
         "marker": {
          "color": "#ed7953",
          "line": {
           "color": "White",
           "width": 1
          },
          "size": 10,
          "symbol": "circle"
         },
         "mode": "markers",
         "name": "0.0694",
         "orientation": "v",
         "showlegend": true,
         "type": "scatter",
         "x": [
          -0.541993260383606,
          -2.589062213897705,
          -0.004352382849901915,
          0.022144319489598274,
          0.49550631642341614,
          -0.24243104457855225,
          1.767288327217102,
          0.1825314164161682,
          -0.49354293942451477
         ],
         "xaxis": "x",
         "y": [
          -2.198303461074829,
          -4.124605655670166,
          -3.1410796642303467,
          -3.2560431957244873,
          -1.681097149848938,
          -0.828650712966919,
          -4.042360305786133,
          -2.871188163757324,
          -2.3088419437408447
         ],
         "yaxis": "y"
        },
        {
         "customdata": [
          [
           "211015_065907_Plate_1",
           "D10",
           "AgNP",
           40,
           0.1389
          ],
          [
           "211008_092824_Plate_1",
           "D10",
           "AgNP",
           40,
           0.1389
          ],
          [
           "211020_085918_Plate_1",
           "C10",
           "AgNP",
           40,
           0.1389
          ],
          [
           "211015_065907_Plate_1",
           "C10",
           "AgNP",
           40,
           0.1389
          ],
          [
           "211008_092824_Plate_1",
           "C10",
           "AgNP",
           40,
           0.1389
          ],
          [
           "211015_065907_Plate_1",
           "B10",
           "AgNP",
           40,
           0.1389
          ],
          [
           "211020_085918_Plate_1",
           "B10",
           "AgNP",
           40,
           0.1389
          ],
          [
           "211008_092824_Plate_1",
           "B10",
           "AgNP",
           40,
           0.1389
          ],
          [
           "211020_085918_Plate_1",
           "D10",
           "AgNP",
           40,
           0.1389
          ]
         ],
         "error_x": {
          "color": "black",
          "thickness": 2
         },
         "error_y": {
          "color": "black",
          "thickness": 2
         },
         "hovertemplate": "colors_plot_col=0.1389<br>0=%{x}<br>1=%{y}<br>Metadata_Plate=%{customdata[0]}<br>Metadata_Well=%{customdata[1]}<br>Metadata_Compound=%{customdata[2]}<br>Metadata_NPSize_nm=%{customdata[3]}<br>Metadata_Concentration_uM=%{customdata[4]}<extra></extra>",
         "legendgroup": "0.1389",
         "marker": {
          "color": "#fb9f3a",
          "line": {
           "color": "White",
           "width": 1
          },
          "size": 10,
          "symbol": "circle"
         },
         "mode": "markers",
         "name": "0.1389",
         "orientation": "v",
         "showlegend": true,
         "type": "scatter",
         "x": [
          0.8646898865699768,
          1.1404931545257568,
          1.6851028203964233,
          1.091387152671814,
          0.8265814781188965,
          0.6319353580474854,
          1.6197606325149536,
          -0.15468482673168182,
          1.2294083833694458
         ],
         "xaxis": "x",
         "y": [
          -1.591558814048767,
          -1.4917160272598267,
          -1.4615123271942139,
          -1.4914565086364746,
          -0.9675348401069641,
          -1.7542986869812012,
          -1.4610085487365723,
          -2.054945945739746,
          -1.3805149793624878
         ],
         "yaxis": "y"
        }
       ],
       "layout": {
        "autosize": false,
        "font": {
         "size": 18
        },
        "height": 700,
        "legend": {
         "title": {
          "text": ""
         },
         "tracegroupgap": 0
        },
        "margin": {
         "b": 20,
         "l": 50,
         "pad": 4,
         "r": 50,
         "t": 50
        },
        "plot_bgcolor": "white",
        "template": {
         "data": {
          "bar": [
           {
            "error_x": {
             "color": "#2a3f5f"
            },
            "error_y": {
             "color": "#2a3f5f"
            },
            "marker": {
             "line": {
              "color": "#E5ECF6",
              "width": 0.5
             },
             "pattern": {
              "fillmode": "overlay",
              "size": 10,
              "solidity": 0.2
             }
            },
            "type": "bar"
           }
          ],
          "barpolar": [
           {
            "marker": {
             "line": {
              "color": "#E5ECF6",
              "width": 0.5
             },
             "pattern": {
              "fillmode": "overlay",
              "size": 10,
              "solidity": 0.2
             }
            },
            "type": "barpolar"
           }
          ],
          "carpet": [
           {
            "aaxis": {
             "endlinecolor": "#2a3f5f",
             "gridcolor": "white",
             "linecolor": "white",
             "minorgridcolor": "white",
             "startlinecolor": "#2a3f5f"
            },
            "baxis": {
             "endlinecolor": "#2a3f5f",
             "gridcolor": "white",
             "linecolor": "white",
             "minorgridcolor": "white",
             "startlinecolor": "#2a3f5f"
            },
            "type": "carpet"
           }
          ],
          "choropleth": [
           {
            "colorbar": {
             "outlinewidth": 0,
             "ticks": ""
            },
            "type": "choropleth"
           }
          ],
          "contour": [
           {
            "colorbar": {
             "outlinewidth": 0,
             "ticks": ""
            },
            "colorscale": [
             [
              0,
              "#0d0887"
             ],
             [
              0.1111111111111111,
              "#46039f"
             ],
             [
              0.2222222222222222,
              "#7201a8"
             ],
             [
              0.3333333333333333,
              "#9c179e"
             ],
             [
              0.4444444444444444,
              "#bd3786"
             ],
             [
              0.5555555555555556,
              "#d8576b"
             ],
             [
              0.6666666666666666,
              "#ed7953"
             ],
             [
              0.7777777777777778,
              "#fb9f3a"
             ],
             [
              0.8888888888888888,
              "#fdca26"
             ],
             [
              1,
              "#f0f921"
             ]
            ],
            "type": "contour"
           }
          ],
          "contourcarpet": [
           {
            "colorbar": {
             "outlinewidth": 0,
             "ticks": ""
            },
            "type": "contourcarpet"
           }
          ],
          "heatmap": [
           {
            "colorbar": {
             "outlinewidth": 0,
             "ticks": ""
            },
            "colorscale": [
             [
              0,
              "#0d0887"
             ],
             [
              0.1111111111111111,
              "#46039f"
             ],
             [
              0.2222222222222222,
              "#7201a8"
             ],
             [
              0.3333333333333333,
              "#9c179e"
             ],
             [
              0.4444444444444444,
              "#bd3786"
             ],
             [
              0.5555555555555556,
              "#d8576b"
             ],
             [
              0.6666666666666666,
              "#ed7953"
             ],
             [
              0.7777777777777778,
              "#fb9f3a"
             ],
             [
              0.8888888888888888,
              "#fdca26"
             ],
             [
              1,
              "#f0f921"
             ]
            ],
            "type": "heatmap"
           }
          ],
          "heatmapgl": [
           {
            "colorbar": {
             "outlinewidth": 0,
             "ticks": ""
            },
            "colorscale": [
             [
              0,
              "#0d0887"
             ],
             [
              0.1111111111111111,
              "#46039f"
             ],
             [
              0.2222222222222222,
              "#7201a8"
             ],
             [
              0.3333333333333333,
              "#9c179e"
             ],
             [
              0.4444444444444444,
              "#bd3786"
             ],
             [
              0.5555555555555556,
              "#d8576b"
             ],
             [
              0.6666666666666666,
              "#ed7953"
             ],
             [
              0.7777777777777778,
              "#fb9f3a"
             ],
             [
              0.8888888888888888,
              "#fdca26"
             ],
             [
              1,
              "#f0f921"
             ]
            ],
            "type": "heatmapgl"
           }
          ],
          "histogram": [
           {
            "marker": {
             "pattern": {
              "fillmode": "overlay",
              "size": 10,
              "solidity": 0.2
             }
            },
            "type": "histogram"
           }
          ],
          "histogram2d": [
           {
            "colorbar": {
             "outlinewidth": 0,
             "ticks": ""
            },
            "colorscale": [
             [
              0,
              "#0d0887"
             ],
             [
              0.1111111111111111,
              "#46039f"
             ],
             [
              0.2222222222222222,
              "#7201a8"
             ],
             [
              0.3333333333333333,
              "#9c179e"
             ],
             [
              0.4444444444444444,
              "#bd3786"
             ],
             [
              0.5555555555555556,
              "#d8576b"
             ],
             [
              0.6666666666666666,
              "#ed7953"
             ],
             [
              0.7777777777777778,
              "#fb9f3a"
             ],
             [
              0.8888888888888888,
              "#fdca26"
             ],
             [
              1,
              "#f0f921"
             ]
            ],
            "type": "histogram2d"
           }
          ],
          "histogram2dcontour": [
           {
            "colorbar": {
             "outlinewidth": 0,
             "ticks": ""
            },
            "colorscale": [
             [
              0,
              "#0d0887"
             ],
             [
              0.1111111111111111,
              "#46039f"
             ],
             [
              0.2222222222222222,
              "#7201a8"
             ],
             [
              0.3333333333333333,
              "#9c179e"
             ],
             [
              0.4444444444444444,
              "#bd3786"
             ],
             [
              0.5555555555555556,
              "#d8576b"
             ],
             [
              0.6666666666666666,
              "#ed7953"
             ],
             [
              0.7777777777777778,
              "#fb9f3a"
             ],
             [
              0.8888888888888888,
              "#fdca26"
             ],
             [
              1,
              "#f0f921"
             ]
            ],
            "type": "histogram2dcontour"
           }
          ],
          "mesh3d": [
           {
            "colorbar": {
             "outlinewidth": 0,
             "ticks": ""
            },
            "type": "mesh3d"
           }
          ],
          "parcoords": [
           {
            "line": {
             "colorbar": {
              "outlinewidth": 0,
              "ticks": ""
             }
            },
            "type": "parcoords"
           }
          ],
          "pie": [
           {
            "automargin": true,
            "type": "pie"
           }
          ],
          "scatter": [
           {
            "fillpattern": {
             "fillmode": "overlay",
             "size": 10,
             "solidity": 0.2
            },
            "type": "scatter"
           }
          ],
          "scatter3d": [
           {
            "line": {
             "colorbar": {
              "outlinewidth": 0,
              "ticks": ""
             }
            },
            "marker": {
             "colorbar": {
              "outlinewidth": 0,
              "ticks": ""
             }
            },
            "type": "scatter3d"
           }
          ],
          "scattercarpet": [
           {
            "marker": {
             "colorbar": {
              "outlinewidth": 0,
              "ticks": ""
             }
            },
            "type": "scattercarpet"
           }
          ],
          "scattergeo": [
           {
            "marker": {
             "colorbar": {
              "outlinewidth": 0,
              "ticks": ""
             }
            },
            "type": "scattergeo"
           }
          ],
          "scattergl": [
           {
            "marker": {
             "colorbar": {
              "outlinewidth": 0,
              "ticks": ""
             }
            },
            "type": "scattergl"
           }
          ],
          "scattermapbox": [
           {
            "marker": {
             "colorbar": {
              "outlinewidth": 0,
              "ticks": ""
             }
            },
            "type": "scattermapbox"
           }
          ],
          "scatterpolar": [
           {
            "marker": {
             "colorbar": {
              "outlinewidth": 0,
              "ticks": ""
             }
            },
            "type": "scatterpolar"
           }
          ],
          "scatterpolargl": [
           {
            "marker": {
             "colorbar": {
              "outlinewidth": 0,
              "ticks": ""
             }
            },
            "type": "scatterpolargl"
           }
          ],
          "scatterternary": [
           {
            "marker": {
             "colorbar": {
              "outlinewidth": 0,
              "ticks": ""
             }
            },
            "type": "scatterternary"
           }
          ],
          "surface": [
           {
            "colorbar": {
             "outlinewidth": 0,
             "ticks": ""
            },
            "colorscale": [
             [
              0,
              "#0d0887"
             ],
             [
              0.1111111111111111,
              "#46039f"
             ],
             [
              0.2222222222222222,
              "#7201a8"
             ],
             [
              0.3333333333333333,
              "#9c179e"
             ],
             [
              0.4444444444444444,
              "#bd3786"
             ],
             [
              0.5555555555555556,
              "#d8576b"
             ],
             [
              0.6666666666666666,
              "#ed7953"
             ],
             [
              0.7777777777777778,
              "#fb9f3a"
             ],
             [
              0.8888888888888888,
              "#fdca26"
             ],
             [
              1,
              "#f0f921"
             ]
            ],
            "type": "surface"
           }
          ],
          "table": [
           {
            "cells": {
             "fill": {
              "color": "#EBF0F8"
             },
             "line": {
              "color": "white"
             }
            },
            "header": {
             "fill": {
              "color": "#C8D4E3"
             },
             "line": {
              "color": "white"
             }
            },
            "type": "table"
           }
          ]
         },
         "layout": {
          "annotationdefaults": {
           "arrowcolor": "#2a3f5f",
           "arrowhead": 0,
           "arrowwidth": 1
          },
          "autotypenumbers": "strict",
          "coloraxis": {
           "colorbar": {
            "outlinewidth": 0,
            "ticks": ""
           }
          },
          "colorscale": {
           "diverging": [
            [
             0,
             "#8e0152"
            ],
            [
             0.1,
             "#c51b7d"
            ],
            [
             0.2,
             "#de77ae"
            ],
            [
             0.3,
             "#f1b6da"
            ],
            [
             0.4,
             "#fde0ef"
            ],
            [
             0.5,
             "#f7f7f7"
            ],
            [
             0.6,
             "#e6f5d0"
            ],
            [
             0.7,
             "#b8e186"
            ],
            [
             0.8,
             "#7fbc41"
            ],
            [
             0.9,
             "#4d9221"
            ],
            [
             1,
             "#276419"
            ]
           ],
           "sequential": [
            [
             0,
             "#0d0887"
            ],
            [
             0.1111111111111111,
             "#46039f"
            ],
            [
             0.2222222222222222,
             "#7201a8"
            ],
            [
             0.3333333333333333,
             "#9c179e"
            ],
            [
             0.4444444444444444,
             "#bd3786"
            ],
            [
             0.5555555555555556,
             "#d8576b"
            ],
            [
             0.6666666666666666,
             "#ed7953"
            ],
            [
             0.7777777777777778,
             "#fb9f3a"
            ],
            [
             0.8888888888888888,
             "#fdca26"
            ],
            [
             1,
             "#f0f921"
            ]
           ],
           "sequentialminus": [
            [
             0,
             "#0d0887"
            ],
            [
             0.1111111111111111,
             "#46039f"
            ],
            [
             0.2222222222222222,
             "#7201a8"
            ],
            [
             0.3333333333333333,
             "#9c179e"
            ],
            [
             0.4444444444444444,
             "#bd3786"
            ],
            [
             0.5555555555555556,
             "#d8576b"
            ],
            [
             0.6666666666666666,
             "#ed7953"
            ],
            [
             0.7777777777777778,
             "#fb9f3a"
            ],
            [
             0.8888888888888888,
             "#fdca26"
            ],
            [
             1,
             "#f0f921"
            ]
           ]
          },
          "colorway": [
           "#636efa",
           "#EF553B",
           "#00cc96",
           "#ab63fa",
           "#FFA15A",
           "#19d3f3",
           "#FF6692",
           "#B6E880",
           "#FF97FF",
           "#FECB52"
          ],
          "font": {
           "color": "#2a3f5f"
          },
          "geo": {
           "bgcolor": "white",
           "lakecolor": "white",
           "landcolor": "#E5ECF6",
           "showlakes": true,
           "showland": true,
           "subunitcolor": "white"
          },
          "hoverlabel": {
           "align": "left"
          },
          "hovermode": "closest",
          "mapbox": {
           "style": "light"
          },
          "paper_bgcolor": "white",
          "plot_bgcolor": "#E5ECF6",
          "polar": {
           "angularaxis": {
            "gridcolor": "white",
            "linecolor": "white",
            "ticks": ""
           },
           "bgcolor": "#E5ECF6",
           "radialaxis": {
            "gridcolor": "white",
            "linecolor": "white",
            "ticks": ""
           }
          },
          "scene": {
           "xaxis": {
            "backgroundcolor": "#E5ECF6",
            "gridcolor": "white",
            "gridwidth": 2,
            "linecolor": "white",
            "showbackground": true,
            "ticks": "",
            "zerolinecolor": "white"
           },
           "yaxis": {
            "backgroundcolor": "#E5ECF6",
            "gridcolor": "white",
            "gridwidth": 2,
            "linecolor": "white",
            "showbackground": true,
            "ticks": "",
            "zerolinecolor": "white"
           },
           "zaxis": {
            "backgroundcolor": "#E5ECF6",
            "gridcolor": "white",
            "gridwidth": 2,
            "linecolor": "white",
            "showbackground": true,
            "ticks": "",
            "zerolinecolor": "white"
           }
          },
          "shapedefaults": {
           "line": {
            "color": "#2a3f5f"
           }
          },
          "ternary": {
           "aaxis": {
            "gridcolor": "white",
            "linecolor": "white",
            "ticks": ""
           },
           "baxis": {
            "gridcolor": "white",
            "linecolor": "white",
            "ticks": ""
           },
           "bgcolor": "#E5ECF6",
           "caxis": {
            "gridcolor": "white",
            "linecolor": "white",
            "ticks": ""
           }
          },
          "title": {
           "x": 0.05
          },
          "xaxis": {
           "automargin": true,
           "gridcolor": "white",
           "linecolor": "white",
           "ticks": "",
           "title": {
            "standoff": 15
           },
           "zerolinecolor": "white",
           "zerolinewidth": 2
          },
          "yaxis": {
           "automargin": true,
           "gridcolor": "white",
           "linecolor": "white",
           "ticks": "",
           "title": {
            "standoff": 15
           },
           "zerolinecolor": "white",
           "zerolinewidth": 2
          }
         }
        },
        "title": {
         "text": ""
        },
        "width": 900,
        "xaxis": {
         "anchor": "y",
         "domain": [
          0,
          1
         ],
         "linecolor": "black",
         "mirror": true,
         "showline": true,
         "ticks": "outside",
         "title": {
          "text": "TSNE 1"
         }
        },
        "yaxis": {
         "anchor": "x",
         "domain": [
          0,
          1
         ],
         "linecolor": "black",
         "mirror": true,
         "showline": true,
         "ticks": "outside",
         "title": {
          "text": "TSNE 2"
         }
        }
       }
      }
     },
     "metadata": {},
     "output_type": "display_data"
    }
   ],
   "source": [
    "combat_util.plot_tsne(plot_tsne_40, color_col='Metadata_Concentration_uM', \n",
    "                    #   split_df = False, split_column = None, np = None,\n",
    "                      hover_cols=hover_list,\n",
    "                    #   size=True, size_col = \"Metadata_concentration_uM\",\n",
    "                      x=\"0\", y=\"1\",\n",
    "                    #   error_x=\"x_err\", error_y=\"y_err\",\n",
    "                      discrete=True\n",
    "                      )"
   ]
  },
  {
   "cell_type": "code",
   "execution_count": 44,
   "metadata": {},
   "outputs": [
    {
     "data": {
      "application/vnd.plotly.v1+json": {
       "config": {
        "plotlyServerURL": "https://plot.ly"
       },
       "data": [
        {
         "hovertemplate": "x=%{x}<br>y=%{y}<extra></extra>",
         "legendgroup": "",
         "line": {
          "color": "red",
          "dash": "solid",
          "width": 1
         },
         "marker": {
          "symbol": "circle"
         },
         "mode": "lines+markers",
         "name": "",
         "orientation": "v",
         "showlegend": false,
         "type": "scatter",
         "x": [
          5,
          10,
          15,
          20,
          25,
          30,
          35,
          40,
          45,
          50,
          55,
          60
         ],
         "xaxis": "x",
         "y": [
          0.8897396326065063,
          0.6918667554855347,
          0.6757816672325134,
          0.5175912380218506,
          0.36392107605934143,
          0.43759071826934814,
          0.21034103631973267,
          0.18244032561779022,
          0.1464383602142334,
          0.11512540280818939,
          0.09164366871118546,
          0.05687776207923889
         ],
         "yaxis": "y"
        }
       ],
       "layout": {
        "legend": {
         "tracegroupgap": 0
        },
        "margin": {
         "t": 60
        },
        "template": {
         "data": {
          "bar": [
           {
            "error_x": {
             "color": "#2a3f5f"
            },
            "error_y": {
             "color": "#2a3f5f"
            },
            "marker": {
             "line": {
              "color": "#E5ECF6",
              "width": 0.5
             },
             "pattern": {
              "fillmode": "overlay",
              "size": 10,
              "solidity": 0.2
             }
            },
            "type": "bar"
           }
          ],
          "barpolar": [
           {
            "marker": {
             "line": {
              "color": "#E5ECF6",
              "width": 0.5
             },
             "pattern": {
              "fillmode": "overlay",
              "size": 10,
              "solidity": 0.2
             }
            },
            "type": "barpolar"
           }
          ],
          "carpet": [
           {
            "aaxis": {
             "endlinecolor": "#2a3f5f",
             "gridcolor": "white",
             "linecolor": "white",
             "minorgridcolor": "white",
             "startlinecolor": "#2a3f5f"
            },
            "baxis": {
             "endlinecolor": "#2a3f5f",
             "gridcolor": "white",
             "linecolor": "white",
             "minorgridcolor": "white",
             "startlinecolor": "#2a3f5f"
            },
            "type": "carpet"
           }
          ],
          "choropleth": [
           {
            "colorbar": {
             "outlinewidth": 0,
             "ticks": ""
            },
            "type": "choropleth"
           }
          ],
          "contour": [
           {
            "colorbar": {
             "outlinewidth": 0,
             "ticks": ""
            },
            "colorscale": [
             [
              0,
              "#0d0887"
             ],
             [
              0.1111111111111111,
              "#46039f"
             ],
             [
              0.2222222222222222,
              "#7201a8"
             ],
             [
              0.3333333333333333,
              "#9c179e"
             ],
             [
              0.4444444444444444,
              "#bd3786"
             ],
             [
              0.5555555555555556,
              "#d8576b"
             ],
             [
              0.6666666666666666,
              "#ed7953"
             ],
             [
              0.7777777777777778,
              "#fb9f3a"
             ],
             [
              0.8888888888888888,
              "#fdca26"
             ],
             [
              1,
              "#f0f921"
             ]
            ],
            "type": "contour"
           }
          ],
          "contourcarpet": [
           {
            "colorbar": {
             "outlinewidth": 0,
             "ticks": ""
            },
            "type": "contourcarpet"
           }
          ],
          "heatmap": [
           {
            "colorbar": {
             "outlinewidth": 0,
             "ticks": ""
            },
            "colorscale": [
             [
              0,
              "#0d0887"
             ],
             [
              0.1111111111111111,
              "#46039f"
             ],
             [
              0.2222222222222222,
              "#7201a8"
             ],
             [
              0.3333333333333333,
              "#9c179e"
             ],
             [
              0.4444444444444444,
              "#bd3786"
             ],
             [
              0.5555555555555556,
              "#d8576b"
             ],
             [
              0.6666666666666666,
              "#ed7953"
             ],
             [
              0.7777777777777778,
              "#fb9f3a"
             ],
             [
              0.8888888888888888,
              "#fdca26"
             ],
             [
              1,
              "#f0f921"
             ]
            ],
            "type": "heatmap"
           }
          ],
          "heatmapgl": [
           {
            "colorbar": {
             "outlinewidth": 0,
             "ticks": ""
            },
            "colorscale": [
             [
              0,
              "#0d0887"
             ],
             [
              0.1111111111111111,
              "#46039f"
             ],
             [
              0.2222222222222222,
              "#7201a8"
             ],
             [
              0.3333333333333333,
              "#9c179e"
             ],
             [
              0.4444444444444444,
              "#bd3786"
             ],
             [
              0.5555555555555556,
              "#d8576b"
             ],
             [
              0.6666666666666666,
              "#ed7953"
             ],
             [
              0.7777777777777778,
              "#fb9f3a"
             ],
             [
              0.8888888888888888,
              "#fdca26"
             ],
             [
              1,
              "#f0f921"
             ]
            ],
            "type": "heatmapgl"
           }
          ],
          "histogram": [
           {
            "marker": {
             "pattern": {
              "fillmode": "overlay",
              "size": 10,
              "solidity": 0.2
             }
            },
            "type": "histogram"
           }
          ],
          "histogram2d": [
           {
            "colorbar": {
             "outlinewidth": 0,
             "ticks": ""
            },
            "colorscale": [
             [
              0,
              "#0d0887"
             ],
             [
              0.1111111111111111,
              "#46039f"
             ],
             [
              0.2222222222222222,
              "#7201a8"
             ],
             [
              0.3333333333333333,
              "#9c179e"
             ],
             [
              0.4444444444444444,
              "#bd3786"
             ],
             [
              0.5555555555555556,
              "#d8576b"
             ],
             [
              0.6666666666666666,
              "#ed7953"
             ],
             [
              0.7777777777777778,
              "#fb9f3a"
             ],
             [
              0.8888888888888888,
              "#fdca26"
             ],
             [
              1,
              "#f0f921"
             ]
            ],
            "type": "histogram2d"
           }
          ],
          "histogram2dcontour": [
           {
            "colorbar": {
             "outlinewidth": 0,
             "ticks": ""
            },
            "colorscale": [
             [
              0,
              "#0d0887"
             ],
             [
              0.1111111111111111,
              "#46039f"
             ],
             [
              0.2222222222222222,
              "#7201a8"
             ],
             [
              0.3333333333333333,
              "#9c179e"
             ],
             [
              0.4444444444444444,
              "#bd3786"
             ],
             [
              0.5555555555555556,
              "#d8576b"
             ],
             [
              0.6666666666666666,
              "#ed7953"
             ],
             [
              0.7777777777777778,
              "#fb9f3a"
             ],
             [
              0.8888888888888888,
              "#fdca26"
             ],
             [
              1,
              "#f0f921"
             ]
            ],
            "type": "histogram2dcontour"
           }
          ],
          "mesh3d": [
           {
            "colorbar": {
             "outlinewidth": 0,
             "ticks": ""
            },
            "type": "mesh3d"
           }
          ],
          "parcoords": [
           {
            "line": {
             "colorbar": {
              "outlinewidth": 0,
              "ticks": ""
             }
            },
            "type": "parcoords"
           }
          ],
          "pie": [
           {
            "automargin": true,
            "type": "pie"
           }
          ],
          "scatter": [
           {
            "fillpattern": {
             "fillmode": "overlay",
             "size": 10,
             "solidity": 0.2
            },
            "type": "scatter"
           }
          ],
          "scatter3d": [
           {
            "line": {
             "colorbar": {
              "outlinewidth": 0,
              "ticks": ""
             }
            },
            "marker": {
             "colorbar": {
              "outlinewidth": 0,
              "ticks": ""
             }
            },
            "type": "scatter3d"
           }
          ],
          "scattercarpet": [
           {
            "marker": {
             "colorbar": {
              "outlinewidth": 0,
              "ticks": ""
             }
            },
            "type": "scattercarpet"
           }
          ],
          "scattergeo": [
           {
            "marker": {
             "colorbar": {
              "outlinewidth": 0,
              "ticks": ""
             }
            },
            "type": "scattergeo"
           }
          ],
          "scattergl": [
           {
            "marker": {
             "colorbar": {
              "outlinewidth": 0,
              "ticks": ""
             }
            },
            "type": "scattergl"
           }
          ],
          "scattermapbox": [
           {
            "marker": {
             "colorbar": {
              "outlinewidth": 0,
              "ticks": ""
             }
            },
            "type": "scattermapbox"
           }
          ],
          "scatterpolar": [
           {
            "marker": {
             "colorbar": {
              "outlinewidth": 0,
              "ticks": ""
             }
            },
            "type": "scatterpolar"
           }
          ],
          "scatterpolargl": [
           {
            "marker": {
             "colorbar": {
              "outlinewidth": 0,
              "ticks": ""
             }
            },
            "type": "scatterpolargl"
           }
          ],
          "scatterternary": [
           {
            "marker": {
             "colorbar": {
              "outlinewidth": 0,
              "ticks": ""
             }
            },
            "type": "scatterternary"
           }
          ],
          "surface": [
           {
            "colorbar": {
             "outlinewidth": 0,
             "ticks": ""
            },
            "colorscale": [
             [
              0,
              "#0d0887"
             ],
             [
              0.1111111111111111,
              "#46039f"
             ],
             [
              0.2222222222222222,
              "#7201a8"
             ],
             [
              0.3333333333333333,
              "#9c179e"
             ],
             [
              0.4444444444444444,
              "#bd3786"
             ],
             [
              0.5555555555555556,
              "#d8576b"
             ],
             [
              0.6666666666666666,
              "#ed7953"
             ],
             [
              0.7777777777777778,
              "#fb9f3a"
             ],
             [
              0.8888888888888888,
              "#fdca26"
             ],
             [
              1,
              "#f0f921"
             ]
            ],
            "type": "surface"
           }
          ],
          "table": [
           {
            "cells": {
             "fill": {
              "color": "#EBF0F8"
             },
             "line": {
              "color": "white"
             }
            },
            "header": {
             "fill": {
              "color": "#C8D4E3"
             },
             "line": {
              "color": "white"
             }
            },
            "type": "table"
           }
          ]
         },
         "layout": {
          "annotationdefaults": {
           "arrowcolor": "#2a3f5f",
           "arrowhead": 0,
           "arrowwidth": 1
          },
          "autotypenumbers": "strict",
          "coloraxis": {
           "colorbar": {
            "outlinewidth": 0,
            "ticks": ""
           }
          },
          "colorscale": {
           "diverging": [
            [
             0,
             "#8e0152"
            ],
            [
             0.1,
             "#c51b7d"
            ],
            [
             0.2,
             "#de77ae"
            ],
            [
             0.3,
             "#f1b6da"
            ],
            [
             0.4,
             "#fde0ef"
            ],
            [
             0.5,
             "#f7f7f7"
            ],
            [
             0.6,
             "#e6f5d0"
            ],
            [
             0.7,
             "#b8e186"
            ],
            [
             0.8,
             "#7fbc41"
            ],
            [
             0.9,
             "#4d9221"
            ],
            [
             1,
             "#276419"
            ]
           ],
           "sequential": [
            [
             0,
             "#0d0887"
            ],
            [
             0.1111111111111111,
             "#46039f"
            ],
            [
             0.2222222222222222,
             "#7201a8"
            ],
            [
             0.3333333333333333,
             "#9c179e"
            ],
            [
             0.4444444444444444,
             "#bd3786"
            ],
            [
             0.5555555555555556,
             "#d8576b"
            ],
            [
             0.6666666666666666,
             "#ed7953"
            ],
            [
             0.7777777777777778,
             "#fb9f3a"
            ],
            [
             0.8888888888888888,
             "#fdca26"
            ],
            [
             1,
             "#f0f921"
            ]
           ],
           "sequentialminus": [
            [
             0,
             "#0d0887"
            ],
            [
             0.1111111111111111,
             "#46039f"
            ],
            [
             0.2222222222222222,
             "#7201a8"
            ],
            [
             0.3333333333333333,
             "#9c179e"
            ],
            [
             0.4444444444444444,
             "#bd3786"
            ],
            [
             0.5555555555555556,
             "#d8576b"
            ],
            [
             0.6666666666666666,
             "#ed7953"
            ],
            [
             0.7777777777777778,
             "#fb9f3a"
            ],
            [
             0.8888888888888888,
             "#fdca26"
            ],
            [
             1,
             "#f0f921"
            ]
           ]
          },
          "colorway": [
           "#636efa",
           "#EF553B",
           "#00cc96",
           "#ab63fa",
           "#FFA15A",
           "#19d3f3",
           "#FF6692",
           "#B6E880",
           "#FF97FF",
           "#FECB52"
          ],
          "font": {
           "color": "#2a3f5f"
          },
          "geo": {
           "bgcolor": "white",
           "lakecolor": "white",
           "landcolor": "#E5ECF6",
           "showlakes": true,
           "showland": true,
           "subunitcolor": "white"
          },
          "hoverlabel": {
           "align": "left"
          },
          "hovermode": "closest",
          "mapbox": {
           "style": "light"
          },
          "paper_bgcolor": "white",
          "plot_bgcolor": "#E5ECF6",
          "polar": {
           "angularaxis": {
            "gridcolor": "white",
            "linecolor": "white",
            "ticks": ""
           },
           "bgcolor": "#E5ECF6",
           "radialaxis": {
            "gridcolor": "white",
            "linecolor": "white",
            "ticks": ""
           }
          },
          "scene": {
           "xaxis": {
            "backgroundcolor": "#E5ECF6",
            "gridcolor": "white",
            "gridwidth": 2,
            "linecolor": "white",
            "showbackground": true,
            "ticks": "",
            "zerolinecolor": "white"
           },
           "yaxis": {
            "backgroundcolor": "#E5ECF6",
            "gridcolor": "white",
            "gridwidth": 2,
            "linecolor": "white",
            "showbackground": true,
            "ticks": "",
            "zerolinecolor": "white"
           },
           "zaxis": {
            "backgroundcolor": "#E5ECF6",
            "gridcolor": "white",
            "gridwidth": 2,
            "linecolor": "white",
            "showbackground": true,
            "ticks": "",
            "zerolinecolor": "white"
           }
          },
          "shapedefaults": {
           "line": {
            "color": "#2a3f5f"
           }
          },
          "ternary": {
           "aaxis": {
            "gridcolor": "white",
            "linecolor": "white",
            "ticks": ""
           },
           "baxis": {
            "gridcolor": "white",
            "linecolor": "white",
            "ticks": ""
           },
           "bgcolor": "#E5ECF6",
           "caxis": {
            "gridcolor": "white",
            "linecolor": "white",
            "ticks": ""
           }
          },
          "title": {
           "x": 0.05
          },
          "xaxis": {
           "automargin": true,
           "gridcolor": "white",
           "linecolor": "white",
           "ticks": "",
           "title": {
            "standoff": 15
           },
           "zerolinecolor": "white",
           "zerolinewidth": 2
          },
          "yaxis": {
           "automargin": true,
           "gridcolor": "white",
           "linecolor": "white",
           "ticks": "",
           "title": {
            "standoff": 15
           },
           "zerolinecolor": "white",
           "zerolinewidth": 2
          }
         }
        },
        "xaxis": {
         "anchor": "y",
         "domain": [
          0,
          1
         ],
         "title": {
          "text": "Perplexity Values"
         }
        },
        "yaxis": {
         "anchor": "x",
         "domain": [
          0,
          1
         ],
         "title": {
          "text": "Divergence"
         }
        }
       }
      }
     },
     "metadata": {},
     "output_type": "display_data"
    }
   ],
   "source": [
    "combat_util.tsne_divergence(X, range=65)"
   ]
  }
 ],
 "metadata": {
  "kernelspec": {
   "display_name": "pycytominer",
   "language": "python",
   "name": "python3"
  },
  "language_info": {
   "codemirror_mode": {
    "name": "ipython",
    "version": 3
   },
   "file_extension": ".py",
   "mimetype": "text/x-python",
   "name": "python",
   "nbconvert_exporter": "python",
   "pygments_lexer": "ipython3",
   "version": "3.9.12"
  }
 },
 "nbformat": 4,
 "nbformat_minor": 2
}
