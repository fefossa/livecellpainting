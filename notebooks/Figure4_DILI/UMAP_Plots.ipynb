{
 "cells": [
  {
   "cell_type": "markdown",
   "metadata": {},
   "source": [
    "# DILI - UMAP for data visualization"
   ]
  },
  {
   "cell_type": "code",
   "execution_count": 20,
   "metadata": {},
   "outputs": [
    {
     "name": "stdout",
     "output_type": "stream",
     "text": [
      "The autoreload extension is already loaded. To reload it, use:\n",
      "  %reload_ext autoreload\n"
     ]
    }
   ],
   "source": [
    "import pandas as pd\n",
    "import numpy as np\n",
    "import matplotlib.pyplot as plt\n",
    "import plotly.express as px\n",
    "import pycytominer\n",
    "import easygui as eg\n",
    "import os \n",
    "import sys\n",
    "\n",
    "sys.path.append(r\"C:\\Users\\fefos\\Documents\\GitHub\")\n",
    "\n",
    "from umap import UMAP\n",
    "from scripts_notebooks_fossa.pycombat_umap import combat_util\n",
    "from combat.pycombat import pycombat\n",
    "\n",
    "%load_ext autoreload\n",
    "%autoreload 2\n",
    "\n",
    "import warnings\n",
    "warnings.filterwarnings('ignore')"
   ]
  },
  {
   "cell_type": "code",
   "execution_count": 2,
   "metadata": {},
   "outputs": [
    {
     "name": "stdout",
     "output_type": "stream",
     "text": [
      "Filename C:\\Users\\fefos\\OneDrive\\FernandaDoc_HD\\2022_09_09_LiveCellPainting_fossa_Cimini\\workspace\\profiles\\2022_06_07_DILI\\concatenate\\2023_2022_DILI_normalized_to_negcon_feature_selected_pycombat.csv\n"
     ]
    },
    {
     "data": {
      "text/html": [
       "<div>\n",
       "<style scoped>\n",
       "    .dataframe tbody tr th:only-of-type {\n",
       "        vertical-align: middle;\n",
       "    }\n",
       "\n",
       "    .dataframe tbody tr th {\n",
       "        vertical-align: top;\n",
       "    }\n",
       "\n",
       "    .dataframe thead th {\n",
       "        text-align: right;\n",
       "    }\n",
       "</style>\n",
       "<table border=\"1\" class=\"dataframe\">\n",
       "  <thead>\n",
       "    <tr style=\"text-align: right;\">\n",
       "      <th></th>\n",
       "      <th>Metadata_Compound_concentration</th>\n",
       "      <th>Metadata_plate_map_name</th>\n",
       "      <th>Metadata_concentration_uM</th>\n",
       "      <th>Metadata_cell_type</th>\n",
       "      <th>Metadata_compound</th>\n",
       "      <th>Metadata_moa</th>\n",
       "      <th>Metadata_DILI-concern</th>\n",
       "      <th>Metadata_Severity Class</th>\n",
       "      <th>Metadata_control_type</th>\n",
       "      <th>Metadata_Plate</th>\n",
       "      <th>...</th>\n",
       "      <th>Nuclei_Texture_InfoMeas1_CorrPI_5_02_256</th>\n",
       "      <th>Nuclei_Texture_InfoMeas2_CorrGFP_10_01_256</th>\n",
       "      <th>Nuclei_Texture_InfoMeas2_CorrGFP_20_01_256</th>\n",
       "      <th>Nuclei_Texture_InfoMeas2_CorrPI_10_01_256</th>\n",
       "      <th>Nuclei_Texture_InfoMeas2_CorrPI_10_03_256</th>\n",
       "      <th>Nuclei_Texture_InfoMeas2_CorrPI_20_01_256</th>\n",
       "      <th>Nuclei_Texture_InfoMeas2_CorrPI_5_02_256</th>\n",
       "      <th>Nuclei_Texture_InverseDifferenceMoment_CorrPI_20_01_256</th>\n",
       "      <th>Nuclei_Texture_SumEntropy_CorrPI_20_01_256</th>\n",
       "      <th>Nuclei_Texture_Variance_CorrGFP_10_00_256</th>\n",
       "    </tr>\n",
       "  </thead>\n",
       "  <tbody>\n",
       "    <tr>\n",
       "      <th>0</th>\n",
       "      <td>Aspirin_1</td>\n",
       "      <td>platemap_dili</td>\n",
       "      <td>1</td>\n",
       "      <td>Huh7</td>\n",
       "      <td>Aspirin</td>\n",
       "      <td>COX inhibitor</td>\n",
       "      <td>Less-DILI-Concern</td>\n",
       "      <td>0</td>\n",
       "      <td>trt</td>\n",
       "      <td>220607_092050_Plate_1</td>\n",
       "      <td>...</td>\n",
       "      <td>-2.951004</td>\n",
       "      <td>8.972212</td>\n",
       "      <td>9.467828</td>\n",
       "      <td>3.344159</td>\n",
       "      <td>4.973588</td>\n",
       "      <td>4.241367</td>\n",
       "      <td>3.079317</td>\n",
       "      <td>-6.922929</td>\n",
       "      <td>5.085131</td>\n",
       "      <td>20.476580</td>\n",
       "    </tr>\n",
       "    <tr>\n",
       "      <th>1</th>\n",
       "      <td>Aspirin_10</td>\n",
       "      <td>platemap_dili</td>\n",
       "      <td>10</td>\n",
       "      <td>Huh7</td>\n",
       "      <td>Aspirin</td>\n",
       "      <td>COX inhibitor</td>\n",
       "      <td>Less-DILI-Concern</td>\n",
       "      <td>0</td>\n",
       "      <td>trt</td>\n",
       "      <td>220607_092050_Plate_1</td>\n",
       "      <td>...</td>\n",
       "      <td>-3.494941</td>\n",
       "      <td>10.111767</td>\n",
       "      <td>10.837145</td>\n",
       "      <td>4.132679</td>\n",
       "      <td>6.764881</td>\n",
       "      <td>5.263887</td>\n",
       "      <td>3.938098</td>\n",
       "      <td>-7.676556</td>\n",
       "      <td>7.503385</td>\n",
       "      <td>25.638036</td>\n",
       "    </tr>\n",
       "    <tr>\n",
       "      <th>2</th>\n",
       "      <td>Amiodarone_1</td>\n",
       "      <td>platemap_dili</td>\n",
       "      <td>1</td>\n",
       "      <td>Huh7</td>\n",
       "      <td>Amiodarone</td>\n",
       "      <td>sodium/potassium-ATPase inhibitor</td>\n",
       "      <td>Most-DILI-Concern</td>\n",
       "      <td>8</td>\n",
       "      <td>trt</td>\n",
       "      <td>220607_092050_Plate_1</td>\n",
       "      <td>...</td>\n",
       "      <td>-1.841811</td>\n",
       "      <td>7.829725</td>\n",
       "      <td>8.549107</td>\n",
       "      <td>2.769153</td>\n",
       "      <td>4.238343</td>\n",
       "      <td>3.336620</td>\n",
       "      <td>2.770880</td>\n",
       "      <td>-6.197211</td>\n",
       "      <td>5.967763</td>\n",
       "      <td>18.977983</td>\n",
       "    </tr>\n",
       "    <tr>\n",
       "      <th>3</th>\n",
       "      <td>Amiodarone_10</td>\n",
       "      <td>platemap_dili</td>\n",
       "      <td>10</td>\n",
       "      <td>Huh7</td>\n",
       "      <td>Amiodarone</td>\n",
       "      <td>sodium/potassium-ATPase inhibitor</td>\n",
       "      <td>Most-DILI-Concern</td>\n",
       "      <td>8</td>\n",
       "      <td>trt</td>\n",
       "      <td>220607_092050_Plate_1</td>\n",
       "      <td>...</td>\n",
       "      <td>-5.101806</td>\n",
       "      <td>8.749530</td>\n",
       "      <td>9.508322</td>\n",
       "      <td>5.012710</td>\n",
       "      <td>7.773764</td>\n",
       "      <td>6.028070</td>\n",
       "      <td>5.164210</td>\n",
       "      <td>-7.555855</td>\n",
       "      <td>9.888656</td>\n",
       "      <td>25.732000</td>\n",
       "    </tr>\n",
       "    <tr>\n",
       "      <th>4</th>\n",
       "      <td>Cyclophosphamide_1</td>\n",
       "      <td>platemap_dili</td>\n",
       "      <td>1</td>\n",
       "      <td>Huh7</td>\n",
       "      <td>Cyclophosphamide</td>\n",
       "      <td>DNA alkylation</td>\n",
       "      <td>\\tLess-DILI-Concern</td>\n",
       "      <td>5</td>\n",
       "      <td>trt</td>\n",
       "      <td>220607_092050_Plate_1</td>\n",
       "      <td>...</td>\n",
       "      <td>-1.437264</td>\n",
       "      <td>4.918856</td>\n",
       "      <td>5.257418</td>\n",
       "      <td>2.355868</td>\n",
       "      <td>4.110124</td>\n",
       "      <td>3.459964</td>\n",
       "      <td>2.220202</td>\n",
       "      <td>-5.400153</td>\n",
       "      <td>4.833927</td>\n",
       "      <td>9.023156</td>\n",
       "    </tr>\n",
       "  </tbody>\n",
       "</table>\n",
       "<p>5 rows × 469 columns</p>\n",
       "</div>"
      ],
      "text/plain": [
       "  Metadata_Compound_concentration Metadata_plate_map_name  \\\n",
       "0                       Aspirin_1           platemap_dili   \n",
       "1                      Aspirin_10           platemap_dili   \n",
       "2                    Amiodarone_1           platemap_dili   \n",
       "3                   Amiodarone_10           platemap_dili   \n",
       "4              Cyclophosphamide_1           platemap_dili   \n",
       "\n",
       "   Metadata_concentration_uM Metadata_cell_type Metadata_compound  \\\n",
       "0                          1               Huh7           Aspirin   \n",
       "1                         10               Huh7           Aspirin   \n",
       "2                          1               Huh7        Amiodarone   \n",
       "3                         10               Huh7        Amiodarone   \n",
       "4                          1               Huh7  Cyclophosphamide   \n",
       "\n",
       "                        Metadata_moa Metadata_DILI-concern  \\\n",
       "0                      COX inhibitor     Less-DILI-Concern   \n",
       "1                      COX inhibitor     Less-DILI-Concern   \n",
       "2  sodium/potassium-ATPase inhibitor     Most-DILI-Concern   \n",
       "3  sodium/potassium-ATPase inhibitor     Most-DILI-Concern   \n",
       "4                    DNA alkylation    \\tLess-DILI-Concern   \n",
       "\n",
       "   Metadata_Severity Class Metadata_control_type         Metadata_Plate  ...  \\\n",
       "0                        0                   trt  220607_092050_Plate_1  ...   \n",
       "1                        0                   trt  220607_092050_Plate_1  ...   \n",
       "2                        8                   trt  220607_092050_Plate_1  ...   \n",
       "3                        8                   trt  220607_092050_Plate_1  ...   \n",
       "4                        5                   trt  220607_092050_Plate_1  ...   \n",
       "\n",
       "  Nuclei_Texture_InfoMeas1_CorrPI_5_02_256  \\\n",
       "0                                -2.951004   \n",
       "1                                -3.494941   \n",
       "2                                -1.841811   \n",
       "3                                -5.101806   \n",
       "4                                -1.437264   \n",
       "\n",
       "  Nuclei_Texture_InfoMeas2_CorrGFP_10_01_256  \\\n",
       "0                                   8.972212   \n",
       "1                                  10.111767   \n",
       "2                                   7.829725   \n",
       "3                                   8.749530   \n",
       "4                                   4.918856   \n",
       "\n",
       "  Nuclei_Texture_InfoMeas2_CorrGFP_20_01_256  \\\n",
       "0                                   9.467828   \n",
       "1                                  10.837145   \n",
       "2                                   8.549107   \n",
       "3                                   9.508322   \n",
       "4                                   5.257418   \n",
       "\n",
       "   Nuclei_Texture_InfoMeas2_CorrPI_10_01_256  \\\n",
       "0                                   3.344159   \n",
       "1                                   4.132679   \n",
       "2                                   2.769153   \n",
       "3                                   5.012710   \n",
       "4                                   2.355868   \n",
       "\n",
       "   Nuclei_Texture_InfoMeas2_CorrPI_10_03_256  \\\n",
       "0                                   4.973588   \n",
       "1                                   6.764881   \n",
       "2                                   4.238343   \n",
       "3                                   7.773764   \n",
       "4                                   4.110124   \n",
       "\n",
       "   Nuclei_Texture_InfoMeas2_CorrPI_20_01_256  \\\n",
       "0                                   4.241367   \n",
       "1                                   5.263887   \n",
       "2                                   3.336620   \n",
       "3                                   6.028070   \n",
       "4                                   3.459964   \n",
       "\n",
       "   Nuclei_Texture_InfoMeas2_CorrPI_5_02_256  \\\n",
       "0                                  3.079317   \n",
       "1                                  3.938098   \n",
       "2                                  2.770880   \n",
       "3                                  5.164210   \n",
       "4                                  2.220202   \n",
       "\n",
       "   Nuclei_Texture_InverseDifferenceMoment_CorrPI_20_01_256  \\\n",
       "0                                          -6.922929         \n",
       "1                                          -7.676556         \n",
       "2                                          -6.197211         \n",
       "3                                          -7.555855         \n",
       "4                                          -5.400153         \n",
       "\n",
       "   Nuclei_Texture_SumEntropy_CorrPI_20_01_256  \\\n",
       "0                                    5.085131   \n",
       "1                                    7.503385   \n",
       "2                                    5.967763   \n",
       "3                                    9.888656   \n",
       "4                                    4.833927   \n",
       "\n",
       "   Nuclei_Texture_Variance_CorrGFP_10_00_256  \n",
       "0                                  20.476580  \n",
       "1                                  25.638036  \n",
       "2                                  18.977983  \n",
       "3                                  25.732000  \n",
       "4                                   9.023156  \n",
       "\n",
       "[5 rows x 469 columns]"
      ]
     },
     "execution_count": 2,
     "metadata": {},
     "output_type": "execute_result"
    }
   ],
   "source": [
    "# myfile = eg.fileopenbox(msg=\"Choose a file\", default=r\"F:\")\n",
    "myfile = r'C:\\Users\\fefos\\OneDrive\\FernandaDoc_HD\\2022_09_09_LiveCellPainting_fossa_Cimini\\workspace\\profiles\\2022_06_07_DILI\\concatenate\\2023_2022_DILI_normalized_to_negcon_feature_selected_pycombat.csv'\n",
    "print('Filename', myfile)\n",
    "df = pd.read_csv(myfile)\n",
    "df.head()"
   ]
  },
  {
   "cell_type": "code",
   "execution_count": 3,
   "metadata": {},
   "outputs": [],
   "source": [
    "n_neighbors_input = 15\n",
    "min_dist_input = 0.5\n",
    "metric = 'cosine'\n",
    "hover_list = ['Metadata_Plate','Metadata_Well', 'Metadata_compound', 'Metadata_concentration_uM']\n",
    "number_of_iterations=100"
   ]
  },
  {
   "cell_type": "code",
   "execution_count": 4,
   "metadata": {},
   "outputs": [
    {
     "name": "stdout",
     "output_type": "stream",
     "text": [
      "concentration_uM\n",
      "Names of the compounds + concentration:  ['Aspirin 1' 'Aspirin 10' 'Amiodarone 1' 'Amiodarone 10'\n",
      " 'Cyclophosphamide 1' 'Cyclophosphamide 10' 'Etoposide 1' 'Etoposide 10'\n",
      " 'Non-treated 0' 'Lovastatin 1' 'Lovastatin 10' 'Orphenadrine 1'\n",
      " 'Orphenadrine 10' 'Lactose 1' 'Lactose 10']\n"
     ]
    }
   ],
   "source": [
    "cols_to_join = [\"Metadata_compound\", \"Metadata_concentration_uM\"]\n",
    "df, new_col = combat_util.col_generator(df, cols_to_join = cols_to_join)\n",
    "\n",
    "# #just remove the 0 for the non-treated wells\n",
    "# df[new_col] = df[new_col].str.replace(r' 0', ' 20', regex=True)\n",
    "# df[new_col].unique()"
   ]
  },
  {
   "cell_type": "code",
   "execution_count": 10,
   "metadata": {},
   "outputs": [],
   "source": [
    "filter_out=['Orphenadrine 1', \n",
    "            # 'Non-treated 0', \n",
    "            'Lactose 1', 'Lactose 10']"
   ]
  },
  {
   "cell_type": "code",
   "execution_count": 11,
   "metadata": {},
   "outputs": [],
   "source": [
    "df_filtered = df.query(f'{new_col} not in {filter_out}').reset_index(drop=True)"
   ]
  },
  {
   "cell_type": "code",
   "execution_count": 12,
   "metadata": {},
   "outputs": [
    {
     "data": {
      "text/plain": [
       "array([0, 8, 5, 3], dtype=int64)"
      ]
     },
     "execution_count": 12,
     "metadata": {},
     "output_type": "execute_result"
    }
   ],
   "source": [
    "df_filtered[\"Metadata_Severity Class\"].unique()"
   ]
  },
  {
   "cell_type": "markdown",
   "metadata": {},
   "source": [
    "# Paper revision plots 18/06/24"
   ]
  },
  {
   "cell_type": "code",
   "execution_count": null,
   "metadata": {},
   "outputs": [
    {
     "data": {
      "application/vnd.plotly.v1+json": {
       "config": {
        "plotlyServerURL": "https://plot.ly",
        "toImageButtonOptions": {
         "filename": "custom_image",
         "format": "svg",
         "height": 500,
         "scale": 6,
         "width": 700
        }
       },
       "data": [
        {
         "customdata": [
          [
           "220617_090443_Plate_1",
           "D5",
           "Amiodarone",
           1
          ],
          [
           "231006_132517_Plate_1",
           "B4",
           "Amiodarone",
           1
          ],
          [
           "231006_132517_Plate_1",
           "B2",
           "Amiodarone",
           1
          ],
          [
           "220608_152238_Plate_1",
           "D5",
           "Amiodarone",
           1
          ],
          [
           "220607_092050_Plate_1",
           "B5",
           "Amiodarone",
           1
          ],
          [
           "220617_090443_Plate_1",
           "C5",
           "Amiodarone",
           1
          ],
          [
           "231011_183822_Plate_1",
           "E9",
           "Amiodarone",
           1
          ],
          [
           "231011_183822_Plate_1",
           "E8",
           "Amiodarone",
           1
          ],
          [
           "231011_183822_Plate_1",
           "E7",
           "Amiodarone",
           1
          ],
          [
           "220608_152238_Plate_1",
           "B5",
           "Amiodarone",
           1
          ],
          [
           "231006_132517_Plate_1",
           "B5",
           "Amiodarone",
           1
          ],
          [
           "231011_183822_Plate_1",
           "E6",
           "Amiodarone",
           1
          ],
          [
           "220607_092050_Plate_1",
           "C5",
           "Amiodarone",
           1
          ],
          [
           "220608_152238_Plate_1",
           "C5",
           "Amiodarone",
           1
          ],
          [
           "220617_090443_Plate_1",
           "B5",
           "Amiodarone",
           1
          ],
          [
           "220607_092050_Plate_1",
           "D5",
           "Amiodarone",
           1
          ],
          [
           "231006_132517_Plate_1",
           "B3",
           "Amiodarone",
           1
          ],
          [
           "220608_152238_Plate_1",
           "C6",
           "Amiodarone",
           10
          ],
          [
           "231006_132517_Plate_1",
           "B6",
           "Amiodarone",
           10
          ],
          [
           "220607_092050_Plate_1",
           "D6",
           "Amiodarone",
           10
          ],
          [
           "231006_132517_Plate_1",
           "B9",
           "Amiodarone",
           10
          ],
          [
           "231006_132517_Plate_1",
           "B8",
           "Amiodarone",
           10
          ],
          [
           "220607_092050_Plate_1",
           "C6",
           "Amiodarone",
           10
          ],
          [
           "220607_092050_Plate_1",
           "B6",
           "Amiodarone",
           10
          ],
          [
           "220617_090443_Plate_1",
           "D6",
           "Amiodarone",
           10
          ],
          [
           "220617_090443_Plate_1",
           "B6",
           "Amiodarone",
           10
          ],
          [
           "220617_090443_Plate_1",
           "C6",
           "Amiodarone",
           10
          ],
          [
           "231011_183822_Plate_1",
           "E2",
           "Amiodarone",
           10
          ],
          [
           "220608_152238_Plate_1",
           "D6",
           "Amiodarone",
           10
          ],
          [
           "220608_152238_Plate_1",
           "B6",
           "Amiodarone",
           10
          ],
          [
           "231011_183822_Plate_1",
           "E4",
           "Amiodarone",
           10
          ],
          [
           "231011_183822_Plate_1",
           "E3",
           "Amiodarone",
           10
          ],
          [
           "231011_183822_Plate_1",
           "E5",
           "Amiodarone",
           10
          ],
          [
           "231006_132517_Plate_1",
           "B7",
           "Amiodarone",
           10
          ]
         ],
         "error_x": {
          "array": [
           0.000003814697265625,
           0.0000171661376953125,
           0.000011444091796875,
           0.00000286102294921875,
           0.00001049041748046875,
           0.0000095367431640625,
           0.00000476837158203125,
           9.5367431640625e-7,
           0.00001239776611328125,
           0.00000762939453125,
           0.0000095367431640625,
           0.0000057220458984375,
           0.00000286102294921875,
           0.00001621246337890625,
           0.000011444091796875,
           0.00000476837158203125,
           9.5367431640625e-7,
           0.0000152587890625,
           0.00000476837158203125,
           0.00001049041748046875,
           0.000011444091796875,
           9.5367431640625e-7,
           0.0000133514404296875,
           0.00000858306884765625,
           0.0000133514404296875,
           0.0000019073486328125,
           0.0000095367431640625,
           0.000003814697265625,
           0.000011444091796875,
           0.0000057220458984375,
           0.0000057220458984375,
           0.0000133514404296875,
           0.0000057220458984375,
           0.0000095367431640625
          ],
          "color": "black",
          "thickness": 2
         },
         "error_y": {
          "array": [
           0.0000035762786865234375,
           1.7881393432617188e-7,
           0.000003814697265625,
           8.344650268554688e-7,
           0.000002384185791015625,
           0.000002384185791015625,
           0,
           1.30385160446167e-8,
           0.0000016689300537109375,
           0,
           0.000002384185791015625,
           1.1920928955078125e-7,
           0.0000026226043701171875,
           0.000002384185791015625,
           0,
           0.0000030994415283203125,
           0.0000019073486328125,
           5.960464477539062e-7,
           0.000001430511474609375,
           0.0000016689300537109375,
           7.152557373046875e-7,
           0.000001430511474609375,
           7.152557373046875e-7,
           0.00000476837158203125,
           0.0000011920928955078125,
           8.344650268554688e-7,
           0.000001430511474609375,
           5.960464477539062e-7,
           2.384185791015625e-7,
           0.0000016689300537109375,
           8.344650268554688e-7,
           0,
           5.960464477539063e-8,
           0.000001430511474609375
          ],
          "color": "black",
          "thickness": 2
         },
         "hovertemplate": "colors_plot_col=Amiodarone<br>0=%{x}<br>1=%{y}<br>Metadata_size=%{marker.size}<br>Metadata_Plate=%{customdata[0]}<br>Metadata_Well=%{customdata[1]}<br>Metadata_compound=%{customdata[2]}<br>Metadata_concentration_uM=%{customdata[3]}<extra></extra>",
         "legendgroup": "Amiodarone",
         "marker": {
          "color": "#33a02c",
          "line": {
           "color": "White",
           "width": 1
          },
          "size": [
           1,
           1,
           1,
           1,
           1,
           1,
           1,
           1,
           1,
           1,
           1,
           1,
           1,
           1,
           1,
           1,
           1,
           10,
           10,
           10,
           10,
           10,
           10,
           10,
           10,
           10,
           10,
           10,
           10,
           10,
           10,
           10,
           10,
           10
          ],
          "sizemode": "area",
          "sizeref": 0.025,
          "symbol": "circle"
         },
         "mode": "markers",
         "name": "Amiodarone",
         "orientation": "v",
         "showlegend": true,
         "type": "scatter",
         "x": [
          14.741822242736816,
          12.33006477355957,
          12.137341499328613,
          14.742341041564941,
          12.88640022277832,
          13.646114349365234,
          9.664013862609863,
          9.539366722106934,
          14.903647422790527,
          13.57129192352295,
          9.721248626708984,
          13.05163288116455,
          13.652308464050293,
          14.146862030029297,
          12.296154975891113,
          14.296351432800293,
          12.195270538330078,
          13.615978240966797,
          12.826951026916504,
          14.033246040344238,
          13.199509620666504,
          13.076623916625977,
          14.080677032470703,
          14.037357330322266,
          13.473743438720703,
          7.893203258514404,
          13.297719955444336,
          13.770752906799316,
          13.809457778930664,
          13.32312297821045,
          14.411050796508789,
          14.084728240966797,
          12.559082984924316,
          12.898427963256836
         ],
         "xaxis": "x",
         "y": [
          -3.920663833618164,
          0.3091144263744354,
          -3.873964786529541,
          -1.924606442451477,
          -3.732820749282837,
          -2.2354238033294678,
          0.487758606672287,
          -0.01868068426847458,
          -1.7584242820739746,
          -3.744750738143921,
          -2.158400535583496,
          0.12589998543262482,
          -2.802462577819824,
          -2.028883695602417,
          -5.0755615234375,
          -2.247471332550049,
          -3.4656362533569336,
          -1.5882213115692139,
          -2.46931529045105,
          -1.9385387897491455,
          -3.11183500289917,
          -3.432150363922119,
          -1.7631727457046509,
          -4.384683132171631,
          -1.1602253913879395,
          -1.9956321716308594,
          -1.4837946891784668,
          -0.8637340664863586,
          -1.524495244026184,
          -1.974684476852417,
          -1.007400631904602,
          -0.8870946764945984,
          0.9049245715141296,
          -2.4682343006134033
         ],
         "yaxis": "y"
        },
        {
         "customdata": [
          [
           "231006_132517_Plate_1",
           "C5",
           "Lovastatin",
           1
          ],
          [
           "231011_183822_Plate_1",
           "G10",
           "Lovastatin",
           1
          ],
          [
           "220608_152238_Plate_1",
           "F3",
           "Lovastatin",
           1
          ],
          [
           "220608_152238_Plate_1",
           "G3",
           "Lovastatin",
           1
          ],
          [
           "220617_090443_Plate_1",
           "E3",
           "Lovastatin",
           1
          ],
          [
           "220617_090443_Plate_1",
           "F3",
           "Lovastatin",
           1
          ],
          [
           "231011_183822_Plate_1",
           "D10",
           "Lovastatin",
           1
          ],
          [
           "231011_183822_Plate_1",
           "F10",
           "Lovastatin",
           1
          ],
          [
           "220607_092050_Plate_1",
           "E3",
           "Lovastatin",
           1
          ],
          [
           "231011_183822_Plate_1",
           "E10",
           "Lovastatin",
           1
          ],
          [
           "231006_132517_Plate_1",
           "C3",
           "Lovastatin",
           1
          ],
          [
           "231006_132517_Plate_1",
           "C4",
           "Lovastatin",
           1
          ],
          [
           "231006_132517_Plate_1",
           "C2",
           "Lovastatin",
           1
          ],
          [
           "220607_092050_Plate_1",
           "G3",
           "Lovastatin",
           1
          ],
          [
           "220607_092050_Plate_1",
           "F3",
           "Lovastatin",
           1
          ],
          [
           "220617_090443_Plate_1",
           "G3",
           "Lovastatin",
           1
          ],
          [
           "220608_152238_Plate_1",
           "E3",
           "Lovastatin",
           1
          ],
          [
           "231011_183822_Plate_1",
           "E11",
           "Lovastatin",
           10
          ],
          [
           "220608_152238_Plate_1",
           "G4",
           "Lovastatin",
           10
          ],
          [
           "220607_092050_Plate_1",
           "G4",
           "Lovastatin",
           10
          ],
          [
           "220617_090443_Plate_1",
           "F4",
           "Lovastatin",
           10
          ],
          [
           "231006_132517_Plate_1",
           "C7",
           "Lovastatin",
           10
          ],
          [
           "220617_090443_Plate_1",
           "E4",
           "Lovastatin",
           10
          ],
          [
           "231006_132517_Plate_1",
           "C8",
           "Lovastatin",
           10
          ],
          [
           "231006_132517_Plate_1",
           "C9",
           "Lovastatin",
           10
          ],
          [
           "220617_090443_Plate_1",
           "G4",
           "Lovastatin",
           10
          ],
          [
           "231011_183822_Plate_1",
           "G11",
           "Lovastatin",
           10
          ],
          [
           "231011_183822_Plate_1",
           "D11",
           "Lovastatin",
           10
          ],
          [
           "220608_152238_Plate_1",
           "F4",
           "Lovastatin",
           10
          ],
          [
           "220607_092050_Plate_1",
           "E4",
           "Lovastatin",
           10
          ],
          [
           "220608_152238_Plate_1",
           "E4",
           "Lovastatin",
           10
          ],
          [
           "220607_092050_Plate_1",
           "F4",
           "Lovastatin",
           10
          ],
          [
           "231011_183822_Plate_1",
           "F11",
           "Lovastatin",
           10
          ],
          [
           "231006_132517_Plate_1",
           "C6",
           "Lovastatin",
           10
          ]
         ],
         "error_x": {
          "array": [
           0.00000286102294921875,
           0.00000667572021484375,
           0,
           0,
           0.00001239776611328125,
           0.0000057220458984375,
           0.0000057220458984375,
           0.00001621246337890625,
           0.00000858306884765625,
           0.0000019073486328125,
           0.0000019073486328125,
           0.00000476837158203125,
           0.0000057220458984375,
           0.00000667572021484375,
           0.0000095367431640625,
           0.00000286102294921875,
           0.00000476837158203125,
           0.00000667572021484375,
           0.00000667572021484375,
           0.00000858306884765625,
           0.0000057220458984375,
           0.0000019073486328125,
           0.0000095367431640625,
           0.00001239776611328125,
           0.0000057220458984375,
           0.00000667572021484375,
           0.000011444091796875,
           0.00000286102294921875,
           0.000003814697265625,
           0.00001049041748046875,
           0.00000667572021484375,
           0.00001430511474609375,
           0.0000057220458984375,
           0.000011444091796875
          ],
          "color": "black",
          "thickness": 2
         },
         "error_y": {
          "array": [
           0.000001430511474609375,
           1.7881393432617188e-7,
           0.0000021457672119140625,
           0.0000016689300537109375,
           3.5762786865234375e-7,
           4.470348358154297e-7,
           2.086162567138672e-7,
           5.960464477539063e-8,
           2.086162567138672e-7,
           1.1920928955078125e-7,
           8.344650268554688e-7,
           0.0000045299530029296875,
           0.0000017881393432617188,
           1.341104507446289e-7,
           5.960464477539063e-8,
           0.0000011920928955078125,
           2.682209014892578e-7,
           4.76837158203125e-7,
           2.384185791015625e-7,
           1.7881393432617188e-7,
           1.7881393432617188e-7,
           0.0000040531158447265625,
           4.172325134277344e-7,
           0.0000030994415283203125,
           0.0000016689300537109375,
           1.1920928955078125e-7,
           5.364418029785156e-7,
           0,
           1.1920928955078125e-7,
           1.1920928955078125e-7,
           9.5367431640625e-7,
           3.5762786865234375e-7,
           1.7881393432617188e-7,
           0.0000013113021850585938
          ],
          "color": "black",
          "thickness": 2
         },
         "hovertemplate": "colors_plot_col=Lovastatin<br>0=%{x}<br>1=%{y}<br>Metadata_size=%{marker.size}<br>Metadata_Plate=%{customdata[0]}<br>Metadata_Well=%{customdata[1]}<br>Metadata_compound=%{customdata[2]}<br>Metadata_concentration_uM=%{customdata[3]}<extra></extra>",
         "legendgroup": "Lovastatin",
         "marker": {
          "color": "#984ea3",
          "line": {
           "color": "White",
           "width": 1
          },
          "size": [
           1,
           1,
           1,
           1,
           1,
           1,
           1,
           1,
           1,
           1,
           1,
           1,
           1,
           1,
           1,
           1,
           1,
           10,
           10,
           10,
           10,
           10,
           10,
           10,
           10,
           10,
           10,
           10,
           10,
           10,
           10,
           10,
           10,
           10
          ],
          "sizemode": "area",
          "sizeref": 0.025,
          "symbol": "circle"
         },
         "mode": "markers",
         "name": "Lovastatin",
         "orientation": "v",
         "showlegend": true,
         "type": "scatter",
         "x": [
          10.907668113708496,
          13.594805717468262,
          12.321491241455078,
          14.369384765625,
          10.014511108398438,
          10.695423126220703,
          11.385944366455078,
          13.229504585266113,
          10.302992820739746,
          12.860434532165527,
          12.398031234741211,
          11.518428802490234,
          11.452757835388184,
          10.996381759643555,
          10.988277435302734,
          11.499388694763184,
          10.649288177490234,
          12.75219440460205,
          10.961626052856445,
          12.112356185913086,
          10.823482513427734,
          11.067680358886719,
          10.330824851989746,
          10.378373146057129,
          11.179974555969238,
          11.92431926727295,
          12.930782318115234,
          13.120162010192871,
          10.953660011291504,
          10.541011810302734,
          8.275616645812988,
          11.86695671081543,
          13.782025337219238,
          12.222302436828613
         ],
         "xaxis": "x",
         "y": [
          -1.630692720413208,
          -0.43505969643592834,
          -2.667680263519287,
          -2.8960580825805664,
          -0.6105430722236633,
          -0.32360121607780457,
          -0.3773548901081085,
          -0.7308916449546814,
          -0.3467467129230499,
          -0.8349102735519409,
          -1.362380862236023,
          -3.4224822521209717,
          -1.9839980602264404,
          -0.21200193464756012,
          -0.399046391248703,
          -0.9599907398223877,
          0.3375372290611267,
          -0.5910298824310303,
          -3.0365495681762695,
          -0.7126769423484802,
          -0.759193480014801,
          -3.7339982986450195,
          -0.660453736782074,
          -3.402316093444824,
          -3.6130285263061523,
          -0.42410168051719666,
          -0.9585246443748474,
          -0.9433289170265198,
          0.26774361729621887,
          -1.360785961151123,
          -1.256951928138733,
          0.650714099407196,
          -0.5881842970848083,
          1.0345360040664673
         ],
         "yaxis": "y"
        },
        {
         "customdata": [
          [
           "231006_132517_Plate_1",
           "E2",
           "Etoposide",
           1
          ],
          [
           "220608_152238_Plate_1",
           "C9",
           "Etoposide",
           1
          ],
          [
           "220608_152238_Plate_1",
           "B9",
           "Etoposide",
           1
          ],
          [
           "220607_092050_Plate_1",
           "D9",
           "Etoposide",
           1
          ],
          [
           "231006_132517_Plate_1",
           "E3",
           "Etoposide",
           1
          ],
          [
           "231011_183822_Plate_1",
           "G7",
           "Etoposide",
           1
          ],
          [
           "220617_090443_Plate_1",
           "B9",
           "Etoposide",
           1
          ],
          [
           "220617_090443_Plate_1",
           "D9",
           "Etoposide",
           1
          ],
          [
           "231011_183822_Plate_1",
           "G9",
           "Etoposide",
           1
          ],
          [
           "220607_092050_Plate_1",
           "B9",
           "Etoposide",
           1
          ],
          [
           "231011_183822_Plate_1",
           "G8",
           "Etoposide",
           1
          ],
          [
           "231006_132517_Plate_1",
           "E5",
           "Etoposide",
           1
          ],
          [
           "220608_152238_Plate_1",
           "D9",
           "Etoposide",
           1
          ],
          [
           "231011_183822_Plate_1",
           "G6",
           "Etoposide",
           1
          ],
          [
           "220607_092050_Plate_1",
           "C9",
           "Etoposide",
           1
          ],
          [
           "231006_132517_Plate_1",
           "E4",
           "Etoposide",
           1
          ],
          [
           "220617_090443_Plate_1",
           "C9",
           "Etoposide",
           1
          ],
          [
           "231006_132517_Plate_1",
           "E6",
           "Etoposide",
           10
          ],
          [
           "231011_183822_Plate_1",
           "G5",
           "Etoposide",
           10
          ],
          [
           "220607_092050_Plate_1",
           "C10",
           "Etoposide",
           10
          ],
          [
           "220617_090443_Plate_1",
           "B10",
           "Etoposide",
           10
          ],
          [
           "220617_090443_Plate_1",
           "D10",
           "Etoposide",
           10
          ],
          [
           "220607_092050_Plate_1",
           "D10",
           "Etoposide",
           10
          ],
          [
           "231011_183822_Plate_1",
           "G3",
           "Etoposide",
           10
          ],
          [
           "231011_183822_Plate_1",
           "G4",
           "Etoposide",
           10
          ],
          [
           "220607_092050_Plate_1",
           "B10",
           "Etoposide",
           10
          ],
          [
           "220617_090443_Plate_1",
           "C10",
           "Etoposide",
           10
          ],
          [
           "220608_152238_Plate_1",
           "D10",
           "Etoposide",
           10
          ],
          [
           "231006_132517_Plate_1",
           "E7",
           "Etoposide",
           10
          ],
          [
           "220608_152238_Plate_1",
           "B10",
           "Etoposide",
           10
          ],
          [
           "231006_132517_Plate_1",
           "E8",
           "Etoposide",
           10
          ],
          [
           "231006_132517_Plate_1",
           "E9",
           "Etoposide",
           10
          ],
          [
           "220608_152238_Plate_1",
           "C10",
           "Etoposide",
           10
          ],
          [
           "231011_183822_Plate_1",
           "G2",
           "Etoposide",
           10
          ]
         ],
         "error_x": {
          "array": [
           0.0000057220458984375,
           0.0000057220458984375,
           0.000011444091796875,
           0.00000476837158203125,
           0.0000133514404296875,
           0.00001621246337890625,
           0.0000057220458984375,
           0.0000133514404296875,
           0.000003814697265625,
           0.00000667572021484375,
           0.00000286102294921875,
           0.00000667572021484375,
           0.0000057220458984375,
           0.0000019073486328125,
           0.00000667572021484375,
           0.00000286102294921875,
           0.0000095367431640625,
           0.00001049041748046875,
           0.00000858306884765625,
           0.000003814697265625,
           0.00000858306884765625,
           0.00001049041748046875,
           0.00000286102294921875,
           0.00000476837158203125,
           0.0000133514404296875,
           0.00000667572021484375,
           0.00000476837158203125,
           0.0000057220458984375,
           0.00000762939453125,
           0.00001049041748046875,
           0.000003814697265625,
           0.00001239776611328125,
           0.00000762939453125,
           0.00001049041748046875
          ],
          "color": "black",
          "thickness": 2
         },
         "error_y": {
          "array": [
           0.000003814697265625,
           0.000002384185791015625,
           0.000004291534423828125,
           0.00000286102294921875,
           0.0000011920928955078125,
           0.000001430511474609375,
           0.000004291534423828125,
           0.00000476837158203125,
           0,
           0.00000286102294921875,
           0.000003814697265625,
           0.000001430511474609375,
           0.00000286102294921875,
           0.0000026226043701171875,
           0.000007152557373046875,
           5.960464477539062e-7,
           0.000003337860107421875,
           9.5367431640625e-7,
           0.000004291534423828125,
           0.000003337860107421875,
           0.00000286102294921875,
           0,
           0.000003814697265625,
           0.000004291534423828125,
           0.000005245208740234375,
           0.00000286102294921875,
           0.000007152557373046875,
           0.000003814697265625,
           0.000003337860107421875,
           9.5367431640625e-7,
           0.000001430511474609375,
           0.00000858306884765625,
           0.000003814697265625,
           0.000002384185791015625
          ],
          "color": "black",
          "thickness": 2
         },
         "hovertemplate": "colors_plot_col=Etoposide<br>0=%{x}<br>1=%{y}<br>Metadata_size=%{marker.size}<br>Metadata_Plate=%{customdata[0]}<br>Metadata_Well=%{customdata[1]}<br>Metadata_compound=%{customdata[2]}<br>Metadata_concentration_uM=%{customdata[3]}<extra></extra>",
         "legendgroup": "Etoposide",
         "marker": {
          "color": "#ff7f00",
          "line": {
           "color": "White",
           "width": 1
          },
          "size": [
           1,
           1,
           1,
           1,
           1,
           1,
           1,
           1,
           1,
           1,
           1,
           1,
           1,
           1,
           1,
           1,
           1,
           10,
           10,
           10,
           10,
           10,
           10,
           10,
           10,
           10,
           10,
           10,
           10,
           10,
           10,
           10,
           10,
           10
          ],
          "sizemode": "area",
          "sizeref": 0.025,
          "symbol": "circle"
         },
         "mode": "markers",
         "name": "Etoposide",
         "orientation": "v",
         "showlegend": true,
         "type": "scatter",
         "x": [
          9.832592964172363,
          8.926082611083984,
          11.345706939697266,
          9.528441429138184,
          11.76707649230957,
          11.029648780822754,
          8.740967750549316,
          10.201400756835938,
          10.546216011047363,
          9.25865364074707,
          10.714778900146484,
          8.330523490905762,
          10.1116304397583,
          11.662718772888184,
          9.414843559265137,
          12.038524627685547,
          9.294417381286621,
          8.351201057434082,
          10.801257133483887,
          9.218871116638184,
          8.726823806762695,
          9.803727149963379,
          9.203246116638184,
          9.965821266174316,
          10.606797218322754,
          9.253308296203613,
          9.294132232666016,
          9.462642669677734,
          9.685595512390137,
          9.773880958557129,
          8.645798683166504,
          8.881365776062012,
          9.36961555480957,
          10.290775299072266
         ],
         "xaxis": "x",
         "y": [
          -5.892148971557617,
          -5.699807167053223,
          -5.19797420501709,
          -5.8607988357543945,
          1.290533423423767,
          -4.993377208709717,
          -4.7131266593933105,
          -5.665655136108398,
          -5.213837146759033,
          -5.421169281005859,
          -5.069364547729492,
          -5.170074939727783,
          -5.570495128631592,
          -2.4628591537475586,
          -5.088874816894531,
          1.1856552362442017,
          -5.221346378326416,
          -5.468051910400391,
          -4.400663375854492,
          -4.4946370124816895,
          -4.667022228240967,
          -5.402344226837158,
          -5.485418796539307,
          -4.6942973136901855,
          -4.807106018066406,
          -4.540343761444092,
          -5.2100749015808105,
          -6.033183574676514,
          -4.86953592300415,
          -4.153846263885498,
          -5.768960475921631,
          -5.703362464904785,
          -4.4024739265441895,
          -4.648038864135742
         ],
         "yaxis": "y"
        },
        {
         "customdata": [
          [
           "220608_152238_Plate_1",
           "B3",
           "Aspirin",
           1
          ],
          [
           "220608_152238_Plate_1",
           "C3",
           "Aspirin",
           1
          ],
          [
           "220607_092050_Plate_1",
           "C3",
           "Aspirin",
           1
          ],
          [
           "220607_092050_Plate_1",
           "D3",
           "Aspirin",
           1
          ],
          [
           "231006_132517_Plate_1",
           "G5",
           "Aspirin",
           1
          ],
          [
           "220607_092050_Plate_1",
           "B3",
           "Aspirin",
           1
          ],
          [
           "231006_132517_Plate_1",
           "G3",
           "Aspirin",
           1
          ],
          [
           "220608_152238_Plate_1",
           "D3",
           "Aspirin",
           1
          ],
          [
           "220617_090443_Plate_1",
           "C3",
           "Aspirin",
           1
          ],
          [
           "231006_132517_Plate_1",
           "G2",
           "Aspirin",
           1
          ],
          [
           "231011_183822_Plate_1",
           "B6",
           "Aspirin",
           1
          ],
          [
           "231011_183822_Plate_1",
           "B7",
           "Aspirin",
           1
          ],
          [
           "231011_183822_Plate_1",
           "B8",
           "Aspirin",
           1
          ],
          [
           "231011_183822_Plate_1",
           "B9",
           "Aspirin",
           1
          ],
          [
           "220617_090443_Plate_1",
           "D3",
           "Aspirin",
           1
          ],
          [
           "231006_132517_Plate_1",
           "G4",
           "Aspirin",
           1
          ],
          [
           "220617_090443_Plate_1",
           "B3",
           "Aspirin",
           1
          ],
          [
           "231011_183822_Plate_1",
           "B4",
           "Aspirin",
           10
          ],
          [
           "231011_183822_Plate_1",
           "B5",
           "Aspirin",
           10
          ],
          [
           "220608_152238_Plate_1",
           "D4",
           "Aspirin",
           10
          ],
          [
           "220617_090443_Plate_1",
           "B4",
           "Aspirin",
           10
          ],
          [
           "220607_092050_Plate_1",
           "C4",
           "Aspirin",
           10
          ],
          [
           "220607_092050_Plate_1",
           "B4",
           "Aspirin",
           10
          ],
          [
           "220607_092050_Plate_1",
           "D4",
           "Aspirin",
           10
          ],
          [
           "220617_090443_Plate_1",
           "C4",
           "Aspirin",
           10
          ],
          [
           "220608_152238_Plate_1",
           "C4",
           "Aspirin",
           10
          ],
          [
           "220608_152238_Plate_1",
           "B4",
           "Aspirin",
           10
          ],
          [
           "220617_090443_Plate_1",
           "D4",
           "Aspirin",
           10
          ],
          [
           "231006_132517_Plate_1",
           "G8",
           "Aspirin",
           10
          ],
          [
           "231011_183822_Plate_1",
           "B2",
           "Aspirin",
           10
          ],
          [
           "231006_132517_Plate_1",
           "G7",
           "Aspirin",
           10
          ],
          [
           "231011_183822_Plate_1",
           "B3",
           "Aspirin",
           10
          ],
          [
           "231006_132517_Plate_1",
           "G9",
           "Aspirin",
           10
          ],
          [
           "231006_132517_Plate_1",
           "G6",
           "Aspirin",
           10
          ]
         ],
         "error_x": {
          "array": [
           9.5367431640625e-7,
           0.00000286102294921875,
           0.00000286102294921875,
           0.000011444091796875,
           0.00000858306884765625,
           0.00000286102294921875,
           0.00000476837158203125,
           0.00000286102294921875,
           0.0000019073486328125,
           0.0000133514404296875,
           0.00000667572021484375,
           0.000003814697265625,
           0.000011444091796875,
           0.000011444091796875,
           0.00001430511474609375,
           0.000011444091796875,
           0.0000019073486328125,
           9.5367431640625e-7,
           0.00001049041748046875,
           0.000011444091796875,
           0.00000286102294921875,
           0.00000667572021484375,
           0.0000057220458984375,
           0.00001621246337890625,
           0.0000095367431640625,
           0.00000476837158203125,
           0.000011444091796875,
           0.00001049041748046875,
           0.00000858306884765625,
           9.5367431640625e-7,
           0.000003814697265625,
           0.00000762939453125,
           0.0000133514404296875,
           0
          ],
          "color": "black",
          "thickness": 2
         },
         "error_y": {
          "array": [
           0.0000057220458984375,
           0.0000011920928955078125,
           0.0000030994415283203125,
           5.960464477539063e-8,
           9.5367431640625e-7,
           0.000001430511474609375,
           4.76837158203125e-7,
           0.0000016689300537109375,
           0.0000035762786865234375,
           0.000002384185791015625,
           0.0000013113021850585938,
           7.152557373046875e-7,
           9.5367431640625e-7,
           0.000003337860107421875,
           2.384185791015625e-7,
           0,
           0.000007152557373046875,
           4.76837158203125e-7,
           9.5367431640625e-7,
           0.0000013113021850585938,
           0.000003337860107421875,
           0.0000021457672119140625,
           0.000003337860107421875,
           7.152557373046875e-7,
           0.000004291534423828125,
           0.0000010728836059570312,
           0.00000476837158203125,
           0.00000286102294921875,
           0.000002384185791015625,
           0.0000011920928955078125,
           0,
           3.5762786865234375e-7,
           0.000001430511474609375,
           0.0000035762786865234375
          ],
          "color": "black",
          "thickness": 2
         },
         "hovertemplate": "colors_plot_col=Aspirin<br>0=%{x}<br>1=%{y}<br>Metadata_size=%{marker.size}<br>Metadata_Plate=%{customdata[0]}<br>Metadata_Well=%{customdata[1]}<br>Metadata_compound=%{customdata[2]}<br>Metadata_concentration_uM=%{customdata[3]}<extra></extra>",
         "legendgroup": "Aspirin",
         "marker": {
          "color": "#1f78b4",
          "line": {
           "color": "White",
           "width": 1
          },
          "size": [
           1,
           1,
           1,
           1,
           1,
           1,
           1,
           1,
           1,
           1,
           1,
           1,
           1,
           1,
           1,
           1,
           1,
           10,
           10,
           10,
           10,
           10,
           10,
           10,
           10,
           10,
           10,
           10,
           10,
           10,
           10,
           10,
           10,
           10
          ],
          "sizemode": "area",
          "sizeref": 0.025,
          "symbol": "circle"
         },
         "mode": "markers",
         "name": "Aspirin",
         "orientation": "v",
         "showlegend": true,
         "type": "scatter",
         "x": [
          13.188929557800293,
          10.359679222106934,
          10.908766746520996,
          14.496869087219238,
          13.153940200805664,
          12.936071395874023,
          11.182940483093262,
          14.811612129211426,
          12.749550819396973,
          10.973525047302246,
          8.725093841552734,
          9.063916206359863,
          8.728558540344238,
          12.495853424072266,
          12.832653999328613,
          11.52662467956543,
          11.897051811218262,
          9.276612281799316,
          9.024288177490234,
          14.983407020568848,
          11.967447280883789,
          12.28235149383545,
          13.499957084655762,
          14.541058540344238,
          14.54137897491455,
          13.581011772155762,
          12.98701286315918,
          14.640511512756348,
          10.423518180847168,
          9.091795921325684,
          11.589520454406738,
          9.35441780090332,
          14.235953330993652,
          11.704955101013184
         ],
         "xaxis": "x",
         "y": [
          -4.728116989135742,
          -2.145507574081421,
          -3.239962100982666,
          -0.7309982776641846,
          -2.106323003768921,
          -4.898528575897217,
          -2.1856534481048584,
          -1.2128199338912964,
          -2.9552578926086426,
          -2.0397748947143555,
          -1.2960950136184692,
          -2.7987558841705322,
          -2.353912591934204,
          -3.6294968128204346,
          0.6871907114982605,
          -3.051788091659546,
          -5.084220886230469,
          -1.655369758605957,
          -1.9013408422470093,
          -1.967097282409668,
          -5.272951126098633,
          -2.6505422592163086,
          -4.232186317443848,
          -1.667129397392273,
          -4.375161647796631,
          -1.3107129335403442,
          -5.024625778198242,
          -3.5101613998413086,
          -3.879793167114258,
          -1.029050350189209,
          -3.0623984336853027,
          -1.5094348192214966,
          -4.219543933868408,
          -3.5784103870391846
         ],
         "yaxis": "y"
        },
        {
         "customdata": [
          [
           "231011_183822_Plate_1",
           "C9",
           "Cyclophosphamide",
           1
          ],
          [
           "220608_152238_Plate_1",
           "C7",
           "Cyclophosphamide",
           1
          ],
          [
           "231011_183822_Plate_1",
           "C7",
           "Cyclophosphamide",
           1
          ],
          [
           "220608_152238_Plate_1",
           "D7",
           "Cyclophosphamide",
           1
          ],
          [
           "220617_090443_Plate_1",
           "B7",
           "Cyclophosphamide",
           1
          ],
          [
           "220617_090443_Plate_1",
           "C7",
           "Cyclophosphamide",
           1
          ],
          [
           "220608_152238_Plate_1",
           "B7",
           "Cyclophosphamide",
           1
          ],
          [
           "231011_183822_Plate_1",
           "C8",
           "Cyclophosphamide",
           1
          ],
          [
           "220607_092050_Plate_1",
           "B7",
           "Cyclophosphamide",
           1
          ],
          [
           "220607_092050_Plate_1",
           "D7",
           "Cyclophosphamide",
           1
          ],
          [
           "231006_132517_Plate_1",
           "C10",
           "Cyclophosphamide",
           1
          ],
          [
           "231006_132517_Plate_1",
           "D10",
           "Cyclophosphamide",
           1
          ],
          [
           "231006_132517_Plate_1",
           "B10",
           "Cyclophosphamide",
           1
          ],
          [
           "231006_132517_Plate_1",
           "E10",
           "Cyclophosphamide",
           1
          ],
          [
           "220607_092050_Plate_1",
           "C7",
           "Cyclophosphamide",
           1
          ],
          [
           "220617_090443_Plate_1",
           "D7",
           "Cyclophosphamide",
           1
          ],
          [
           "231011_183822_Plate_1",
           "C6",
           "Cyclophosphamide",
           1
          ],
          [
           "220617_090443_Plate_1",
           "B8",
           "Cyclophosphamide",
           10
          ],
          [
           "231011_183822_Plate_1",
           "C4",
           "Cyclophosphamide",
           10
          ],
          [
           "220617_090443_Plate_1",
           "D8",
           "Cyclophosphamide",
           10
          ],
          [
           "220607_092050_Plate_1",
           "D8",
           "Cyclophosphamide",
           10
          ],
          [
           "220617_090443_Plate_1",
           "C8",
           "Cyclophosphamide",
           10
          ],
          [
           "231011_183822_Plate_1",
           "C5",
           "Cyclophosphamide",
           10
          ],
          [
           "220608_152238_Plate_1",
           "D8",
           "Cyclophosphamide",
           10
          ],
          [
           "231011_183822_Plate_1",
           "C3",
           "Cyclophosphamide",
           10
          ],
          [
           "231011_183822_Plate_1",
           "C2",
           "Cyclophosphamide",
           10
          ],
          [
           "220607_092050_Plate_1",
           "C8",
           "Cyclophosphamide",
           10
          ],
          [
           "231006_132517_Plate_1",
           "E11",
           "Cyclophosphamide",
           10
          ],
          [
           "231006_132517_Plate_1",
           "B11",
           "Cyclophosphamide",
           10
          ],
          [
           "220607_092050_Plate_1",
           "B8",
           "Cyclophosphamide",
           10
          ],
          [
           "220608_152238_Plate_1",
           "B8",
           "Cyclophosphamide",
           10
          ],
          [
           "231006_132517_Plate_1",
           "C11",
           "Cyclophosphamide",
           10
          ],
          [
           "231006_132517_Plate_1",
           "D11",
           "Cyclophosphamide",
           10
          ],
          [
           "220608_152238_Plate_1",
           "C8",
           "Cyclophosphamide",
           10
          ]
         ],
         "error_x": {
          "array": [
           0.00000476837158203125,
           0.000003814697265625,
           0.00000667572021484375,
           0.00001811981201171875,
           0.00000476837158203125,
           0.000011444091796875,
           0.00001239776611328125,
           0.00000762939453125,
           0.00000858306884765625,
           0.00000476837158203125,
           0.00000858306884765625,
           9.5367431640625e-7,
           0.0000057220458984375,
           0.00000667572021484375,
           0.00000286102294921875,
           0.0000019073486328125,
           0.00001430511474609375,
           0.0000019073486328125,
           0.00000476837158203125,
           0.000011444091796875,
           0.0000133514404296875,
           0.00000762939453125,
           0.00000476837158203125,
           9.5367431640625e-7,
           0.00000667572021484375,
           0.00000476837158203125,
           0.00000667572021484375,
           0.00000667572021484375,
           0.00000858306884765625,
           0.0000057220458984375,
           0.000011444091796875,
           0.00001049041748046875,
           0.000003814697265625,
           0.0000152587890625
          ],
          "color": "black",
          "thickness": 2
         },
         "error_y": {
          "array": [
           0.0000030994415283203125,
           0.0000026226043701171875,
           5.960464477539062e-7,
           0.0000030994415283203125,
           9.5367431640625e-7,
           0.0000016689300537109375,
           0.000002384185791015625,
           0.000004291534423828125,
           0.000003337860107421875,
           0.000002384185791015625,
           0.0000016689300537109375,
           0.0000011920928955078125,
           0.0000019073486328125,
           4.76837158203125e-7,
           0.0000020265579223632812,
           0.00000286102294921875,
           0.000004291534423828125,
           0.000003337860107421875,
           0.0000030994415283203125,
           7.152557373046875e-7,
           7.152557373046875e-7,
           0.0000026226043701171875,
           9.5367431640625e-7,
           0.0000021457672119140625,
           0,
           7.152557373046875e-7,
           7.152557373046875e-7,
           0.0000011920928955078125,
           0.0000026226043701171875,
           0.000004291534423828125,
           0.0000057220458984375,
           0.0000019073486328125,
           0.00000286102294921875,
           0.000001430511474609375
          ],
          "color": "black",
          "thickness": 2
         },
         "hovertemplate": "colors_plot_col=Cyclophosphamide<br>0=%{x}<br>1=%{y}<br>Metadata_size=%{marker.size}<br>Metadata_Plate=%{customdata[0]}<br>Metadata_Well=%{customdata[1]}<br>Metadata_compound=%{customdata[2]}<br>Metadata_concentration_uM=%{customdata[3]}<extra></extra>",
         "legendgroup": "Cyclophosphamide",
         "marker": {
          "color": "#6a3d9a",
          "line": {
           "color": "White",
           "width": 1
          },
          "size": [
           1,
           1,
           1,
           1,
           1,
           1,
           1,
           1,
           1,
           1,
           1,
           1,
           1,
           1,
           1,
           1,
           1,
           10,
           10,
           10,
           10,
           10,
           10,
           10,
           10,
           10,
           10,
           10,
           10,
           10,
           10,
           10,
           10,
           10
          ],
          "sizemode": "area",
          "sizeref": 0.025,
          "symbol": "circle"
         },
         "mode": "markers",
         "name": "Cyclophosphamide",
         "orientation": "v",
         "showlegend": true,
         "type": "scatter",
         "x": [
          8.367022514343262,
          12.919760704040527,
          8.445451736450195,
          15.043567657470703,
          8.727782249450684,
          13.909549713134766,
          12.89875602722168,
          11.467784881591797,
          12.421621322631836,
          14.210857391357422,
          9.23621940612793,
          12.320638656616211,
          9.658068656921387,
          12.401357650756836,
          13.056235313415527,
          14.739470481872559,
          15.032846450805664,
          11.766529083251953,
          8.759156227111816,
          14.84851360321045,
          14.917470932006836,
          14.00818157196045,
          8.135601997375488,
          15.119385719299316,
          8.108882904052734,
          8.249271392822266,
          13.309804916381836,
          10.605944633483887,
          9.903000831604004,
          12.602417945861816,
          12.887707710266113,
          9.691695213317871,
          14.131916046142578,
          13.698352813720703
         ],
         "xaxis": "x",
         "y": [
          -2.561816930770874,
          -2.7575650215148926,
          -1.7644753456115723,
          -3.614077568054199,
          -3.378775119781494,
          -2.3381502628326416,
          -4.40213680267334,
          -4.258963108062744,
          -4.545592784881592,
          -2.7720062732696533,
          -3.8239433765411377,
          -3.6937949657440186,
          -3.0913400650024414,
          -1.6851301193237305,
          -1.7066359519958496,
          -2.6150476932525635,
          -3.0865142345428467,
          -4.4887614250183105,
          -2.9164700508117676,
          -2.9890241622924805,
          -3.182088851928711,
          -3.1375153064727783,
          -2.213470697402954,
          -3.3614492416381836,
          -2.856415033340454,
          -3.504516363143921,
          -2.2506558895111084,
          -2.8295769691467285,
          -3.5290026664733887,
          -4.5121073722839355,
          -4.066091537475586,
          -1.995283842086792,
          -3.9703376293182373,
          -3.0166938304901123
         ],
         "yaxis": "y"
        },
        {
         "customdata": [
          [
           "231011_183822_Plate_1",
           "D4",
           "Orphenadrine",
           10
          ],
          [
           "220608_152238_Plate_1",
           "G6",
           "Orphenadrine",
           10
          ],
          [
           "231011_183822_Plate_1",
           "D3",
           "Orphenadrine",
           10
          ],
          [
           "231011_183822_Plate_1",
           "D2",
           "Orphenadrine",
           10
          ],
          [
           "220608_152238_Plate_1",
           "F6",
           "Orphenadrine",
           10
          ],
          [
           "220617_090443_Plate_1",
           "E6",
           "Orphenadrine",
           10
          ],
          [
           "220608_152238_Plate_1",
           "E6",
           "Orphenadrine",
           10
          ],
          [
           "220617_090443_Plate_1",
           "F6",
           "Orphenadrine",
           10
          ],
          [
           "231011_183822_Plate_1",
           "D5",
           "Orphenadrine",
           10
          ],
          [
           "231006_132517_Plate_1",
           "F9",
           "Orphenadrine",
           10
          ],
          [
           "220617_090443_Plate_1",
           "G6",
           "Orphenadrine",
           10
          ],
          [
           "220607_092050_Plate_1",
           "F6",
           "Orphenadrine",
           10
          ],
          [
           "220607_092050_Plate_1",
           "E6",
           "Orphenadrine",
           10
          ],
          [
           "231006_132517_Plate_1",
           "F6",
           "Orphenadrine",
           10
          ],
          [
           "231006_132517_Plate_1",
           "F7",
           "Orphenadrine",
           10
          ],
          [
           "220607_092050_Plate_1",
           "G6",
           "Orphenadrine",
           10
          ],
          [
           "231006_132517_Plate_1",
           "F8",
           "Orphenadrine",
           10
          ]
         ],
         "error_x": {
          "array": [
           0.000003814697265625,
           0.00000762939453125,
           0.0000057220458984375,
           0.000003814697265625,
           0.00001049041748046875,
           0.0000057220458984375,
           0.000003814697265625,
           0.00000762939453125,
           0.0000057220458984375,
           0.00000762939453125,
           9.5367431640625e-7,
           0.000003814697265625,
           0.00001049041748046875,
           0.00000476837158203125,
           0.00000762939453125,
           0.000003814697265625,
           0.00001049041748046875
          ],
          "color": "black",
          "thickness": 2
         },
         "error_y": {
          "array": [
           4.172325134277344e-7,
           7.152557373046875e-7,
           5.960464477539062e-7,
           5.960464477539063e-8,
           1.1920928955078125e-7,
           1.1920928955078125e-7,
           1.1920928955078125e-7,
           7.152557373046875e-7,
           9.5367431640625e-7,
           2.384185791015625e-7,
           4.76837158203125e-7,
           2.384185791015625e-7,
           0,
           1.1920928955078125e-7,
           0.0000013113021850585938,
           2.384185791015625e-7,
           0.0000011920928955078125
          ],
          "color": "black",
          "thickness": 2
         },
         "hovertemplate": "colors_plot_col=Orphenadrine<br>0=%{x}<br>1=%{y}<br>Metadata_size=%{marker.size}<br>Metadata_Plate=%{customdata[0]}<br>Metadata_Well=%{customdata[1]}<br>Metadata_compound=%{customdata[2]}<br>Metadata_concentration_uM=%{customdata[3]}<extra></extra>",
         "legendgroup": "Orphenadrine",
         "marker": {
          "color": "#a65628",
          "line": {
           "color": "White",
           "width": 1
          },
          "size": [
           10,
           10,
           10,
           10,
           10,
           10,
           10,
           10,
           10,
           10,
           10,
           10,
           10,
           10,
           10,
           10,
           10
          ],
          "sizemode": "area",
          "sizeref": 0.025,
          "symbol": "circle"
         },
         "mode": "markers",
         "name": "Orphenadrine",
         "orientation": "v",
         "showlegend": true,
         "type": "scatter",
         "x": [
          8.651490211486816,
          9.989864349365234,
          9.09825325012207,
          9.371092796325684,
          9.195186614990234,
          8.623656272888184,
          8.678648948669434,
          9.9513521194458,
          9.139710426330566,
          10.735355377197266,
          9.692139625549316,
          10.041075706481934,
          8.617108345031738,
          10.76557731628418,
          10.914751052856445,
          10.309618949890137,
          10.491196632385254
         ],
         "xaxis": "x",
         "y": [
          0.778129518032074,
          1.1171281337738037,
          0.8650310635566711,
          0.7199145555496216,
          1.364662766456604,
          0.35271626710891724,
          0.1638975888490677,
          1.10414719581604,
          1.0378804206848145,
          1.6393234729766846,
          1.2434250116348267,
          1.4883205890655518,
          -0.15208150446414948,
          1.190109372138977,
          1.4600204229354858,
          1.623600721359253,
          1.1126042604446411
         ],
         "yaxis": "y"
        }
       ],
       "layout": {
        "autosize": false,
        "font": {
         "size": 18
        },
        "height": 700,
        "legend": {
         "itemsizing": "constant",
         "title": {
          "text": ""
         },
         "tracegroupgap": 0
        },
        "margin": {
         "b": 20,
         "l": 50,
         "pad": 4,
         "r": 50,
         "t": 50
        },
        "plot_bgcolor": "white",
        "template": {
         "data": {
          "bar": [
           {
            "error_x": {
             "color": "#2a3f5f"
            },
            "error_y": {
             "color": "#2a3f5f"
            },
            "marker": {
             "line": {
              "color": "#E5ECF6",
              "width": 0.5
             },
             "pattern": {
              "fillmode": "overlay",
              "size": 10,
              "solidity": 0.2
             }
            },
            "type": "bar"
           }
          ],
          "barpolar": [
           {
            "marker": {
             "line": {
              "color": "#E5ECF6",
              "width": 0.5
             },
             "pattern": {
              "fillmode": "overlay",
              "size": 10,
              "solidity": 0.2
             }
            },
            "type": "barpolar"
           }
          ],
          "carpet": [
           {
            "aaxis": {
             "endlinecolor": "#2a3f5f",
             "gridcolor": "white",
             "linecolor": "white",
             "minorgridcolor": "white",
             "startlinecolor": "#2a3f5f"
            },
            "baxis": {
             "endlinecolor": "#2a3f5f",
             "gridcolor": "white",
             "linecolor": "white",
             "minorgridcolor": "white",
             "startlinecolor": "#2a3f5f"
            },
            "type": "carpet"
           }
          ],
          "choropleth": [
           {
            "colorbar": {
             "outlinewidth": 0,
             "ticks": ""
            },
            "type": "choropleth"
           }
          ],
          "contour": [
           {
            "colorbar": {
             "outlinewidth": 0,
             "ticks": ""
            },
            "colorscale": [
             [
              0,
              "#0d0887"
             ],
             [
              0.1111111111111111,
              "#46039f"
             ],
             [
              0.2222222222222222,
              "#7201a8"
             ],
             [
              0.3333333333333333,
              "#9c179e"
             ],
             [
              0.4444444444444444,
              "#bd3786"
             ],
             [
              0.5555555555555556,
              "#d8576b"
             ],
             [
              0.6666666666666666,
              "#ed7953"
             ],
             [
              0.7777777777777778,
              "#fb9f3a"
             ],
             [
              0.8888888888888888,
              "#fdca26"
             ],
             [
              1,
              "#f0f921"
             ]
            ],
            "type": "contour"
           }
          ],
          "contourcarpet": [
           {
            "colorbar": {
             "outlinewidth": 0,
             "ticks": ""
            },
            "type": "contourcarpet"
           }
          ],
          "heatmap": [
           {
            "colorbar": {
             "outlinewidth": 0,
             "ticks": ""
            },
            "colorscale": [
             [
              0,
              "#0d0887"
             ],
             [
              0.1111111111111111,
              "#46039f"
             ],
             [
              0.2222222222222222,
              "#7201a8"
             ],
             [
              0.3333333333333333,
              "#9c179e"
             ],
             [
              0.4444444444444444,
              "#bd3786"
             ],
             [
              0.5555555555555556,
              "#d8576b"
             ],
             [
              0.6666666666666666,
              "#ed7953"
             ],
             [
              0.7777777777777778,
              "#fb9f3a"
             ],
             [
              0.8888888888888888,
              "#fdca26"
             ],
             [
              1,
              "#f0f921"
             ]
            ],
            "type": "heatmap"
           }
          ],
          "heatmapgl": [
           {
            "colorbar": {
             "outlinewidth": 0,
             "ticks": ""
            },
            "colorscale": [
             [
              0,
              "#0d0887"
             ],
             [
              0.1111111111111111,
              "#46039f"
             ],
             [
              0.2222222222222222,
              "#7201a8"
             ],
             [
              0.3333333333333333,
              "#9c179e"
             ],
             [
              0.4444444444444444,
              "#bd3786"
             ],
             [
              0.5555555555555556,
              "#d8576b"
             ],
             [
              0.6666666666666666,
              "#ed7953"
             ],
             [
              0.7777777777777778,
              "#fb9f3a"
             ],
             [
              0.8888888888888888,
              "#fdca26"
             ],
             [
              1,
              "#f0f921"
             ]
            ],
            "type": "heatmapgl"
           }
          ],
          "histogram": [
           {
            "marker": {
             "pattern": {
              "fillmode": "overlay",
              "size": 10,
              "solidity": 0.2
             }
            },
            "type": "histogram"
           }
          ],
          "histogram2d": [
           {
            "colorbar": {
             "outlinewidth": 0,
             "ticks": ""
            },
            "colorscale": [
             [
              0,
              "#0d0887"
             ],
             [
              0.1111111111111111,
              "#46039f"
             ],
             [
              0.2222222222222222,
              "#7201a8"
             ],
             [
              0.3333333333333333,
              "#9c179e"
             ],
             [
              0.4444444444444444,
              "#bd3786"
             ],
             [
              0.5555555555555556,
              "#d8576b"
             ],
             [
              0.6666666666666666,
              "#ed7953"
             ],
             [
              0.7777777777777778,
              "#fb9f3a"
             ],
             [
              0.8888888888888888,
              "#fdca26"
             ],
             [
              1,
              "#f0f921"
             ]
            ],
            "type": "histogram2d"
           }
          ],
          "histogram2dcontour": [
           {
            "colorbar": {
             "outlinewidth": 0,
             "ticks": ""
            },
            "colorscale": [
             [
              0,
              "#0d0887"
             ],
             [
              0.1111111111111111,
              "#46039f"
             ],
             [
              0.2222222222222222,
              "#7201a8"
             ],
             [
              0.3333333333333333,
              "#9c179e"
             ],
             [
              0.4444444444444444,
              "#bd3786"
             ],
             [
              0.5555555555555556,
              "#d8576b"
             ],
             [
              0.6666666666666666,
              "#ed7953"
             ],
             [
              0.7777777777777778,
              "#fb9f3a"
             ],
             [
              0.8888888888888888,
              "#fdca26"
             ],
             [
              1,
              "#f0f921"
             ]
            ],
            "type": "histogram2dcontour"
           }
          ],
          "mesh3d": [
           {
            "colorbar": {
             "outlinewidth": 0,
             "ticks": ""
            },
            "type": "mesh3d"
           }
          ],
          "parcoords": [
           {
            "line": {
             "colorbar": {
              "outlinewidth": 0,
              "ticks": ""
             }
            },
            "type": "parcoords"
           }
          ],
          "pie": [
           {
            "automargin": true,
            "type": "pie"
           }
          ],
          "scatter": [
           {
            "fillpattern": {
             "fillmode": "overlay",
             "size": 10,
             "solidity": 0.2
            },
            "type": "scatter"
           }
          ],
          "scatter3d": [
           {
            "line": {
             "colorbar": {
              "outlinewidth": 0,
              "ticks": ""
             }
            },
            "marker": {
             "colorbar": {
              "outlinewidth": 0,
              "ticks": ""
             }
            },
            "type": "scatter3d"
           }
          ],
          "scattercarpet": [
           {
            "marker": {
             "colorbar": {
              "outlinewidth": 0,
              "ticks": ""
             }
            },
            "type": "scattercarpet"
           }
          ],
          "scattergeo": [
           {
            "marker": {
             "colorbar": {
              "outlinewidth": 0,
              "ticks": ""
             }
            },
            "type": "scattergeo"
           }
          ],
          "scattergl": [
           {
            "marker": {
             "colorbar": {
              "outlinewidth": 0,
              "ticks": ""
             }
            },
            "type": "scattergl"
           }
          ],
          "scattermapbox": [
           {
            "marker": {
             "colorbar": {
              "outlinewidth": 0,
              "ticks": ""
             }
            },
            "type": "scattermapbox"
           }
          ],
          "scatterpolar": [
           {
            "marker": {
             "colorbar": {
              "outlinewidth": 0,
              "ticks": ""
             }
            },
            "type": "scatterpolar"
           }
          ],
          "scatterpolargl": [
           {
            "marker": {
             "colorbar": {
              "outlinewidth": 0,
              "ticks": ""
             }
            },
            "type": "scatterpolargl"
           }
          ],
          "scatterternary": [
           {
            "marker": {
             "colorbar": {
              "outlinewidth": 0,
              "ticks": ""
             }
            },
            "type": "scatterternary"
           }
          ],
          "surface": [
           {
            "colorbar": {
             "outlinewidth": 0,
             "ticks": ""
            },
            "colorscale": [
             [
              0,
              "#0d0887"
             ],
             [
              0.1111111111111111,
              "#46039f"
             ],
             [
              0.2222222222222222,
              "#7201a8"
             ],
             [
              0.3333333333333333,
              "#9c179e"
             ],
             [
              0.4444444444444444,
              "#bd3786"
             ],
             [
              0.5555555555555556,
              "#d8576b"
             ],
             [
              0.6666666666666666,
              "#ed7953"
             ],
             [
              0.7777777777777778,
              "#fb9f3a"
             ],
             [
              0.8888888888888888,
              "#fdca26"
             ],
             [
              1,
              "#f0f921"
             ]
            ],
            "type": "surface"
           }
          ],
          "table": [
           {
            "cells": {
             "fill": {
              "color": "#EBF0F8"
             },
             "line": {
              "color": "white"
             }
            },
            "header": {
             "fill": {
              "color": "#C8D4E3"
             },
             "line": {
              "color": "white"
             }
            },
            "type": "table"
           }
          ]
         },
         "layout": {
          "annotationdefaults": {
           "arrowcolor": "#2a3f5f",
           "arrowhead": 0,
           "arrowwidth": 1
          },
          "autotypenumbers": "strict",
          "coloraxis": {
           "colorbar": {
            "outlinewidth": 0,
            "ticks": ""
           }
          },
          "colorscale": {
           "diverging": [
            [
             0,
             "#8e0152"
            ],
            [
             0.1,
             "#c51b7d"
            ],
            [
             0.2,
             "#de77ae"
            ],
            [
             0.3,
             "#f1b6da"
            ],
            [
             0.4,
             "#fde0ef"
            ],
            [
             0.5,
             "#f7f7f7"
            ],
            [
             0.6,
             "#e6f5d0"
            ],
            [
             0.7,
             "#b8e186"
            ],
            [
             0.8,
             "#7fbc41"
            ],
            [
             0.9,
             "#4d9221"
            ],
            [
             1,
             "#276419"
            ]
           ],
           "sequential": [
            [
             0,
             "#0d0887"
            ],
            [
             0.1111111111111111,
             "#46039f"
            ],
            [
             0.2222222222222222,
             "#7201a8"
            ],
            [
             0.3333333333333333,
             "#9c179e"
            ],
            [
             0.4444444444444444,
             "#bd3786"
            ],
            [
             0.5555555555555556,
             "#d8576b"
            ],
            [
             0.6666666666666666,
             "#ed7953"
            ],
            [
             0.7777777777777778,
             "#fb9f3a"
            ],
            [
             0.8888888888888888,
             "#fdca26"
            ],
            [
             1,
             "#f0f921"
            ]
           ],
           "sequentialminus": [
            [
             0,
             "#0d0887"
            ],
            [
             0.1111111111111111,
             "#46039f"
            ],
            [
             0.2222222222222222,
             "#7201a8"
            ],
            [
             0.3333333333333333,
             "#9c179e"
            ],
            [
             0.4444444444444444,
             "#bd3786"
            ],
            [
             0.5555555555555556,
             "#d8576b"
            ],
            [
             0.6666666666666666,
             "#ed7953"
            ],
            [
             0.7777777777777778,
             "#fb9f3a"
            ],
            [
             0.8888888888888888,
             "#fdca26"
            ],
            [
             1,
             "#f0f921"
            ]
           ]
          },
          "colorway": [
           "#636efa",
           "#EF553B",
           "#00cc96",
           "#ab63fa",
           "#FFA15A",
           "#19d3f3",
           "#FF6692",
           "#B6E880",
           "#FF97FF",
           "#FECB52"
          ],
          "font": {
           "color": "#2a3f5f"
          },
          "geo": {
           "bgcolor": "white",
           "lakecolor": "white",
           "landcolor": "#E5ECF6",
           "showlakes": true,
           "showland": true,
           "subunitcolor": "white"
          },
          "hoverlabel": {
           "align": "left"
          },
          "hovermode": "closest",
          "mapbox": {
           "style": "light"
          },
          "paper_bgcolor": "white",
          "plot_bgcolor": "#E5ECF6",
          "polar": {
           "angularaxis": {
            "gridcolor": "white",
            "linecolor": "white",
            "ticks": ""
           },
           "bgcolor": "#E5ECF6",
           "radialaxis": {
            "gridcolor": "white",
            "linecolor": "white",
            "ticks": ""
           }
          },
          "scene": {
           "xaxis": {
            "backgroundcolor": "#E5ECF6",
            "gridcolor": "white",
            "gridwidth": 2,
            "linecolor": "white",
            "showbackground": true,
            "ticks": "",
            "zerolinecolor": "white"
           },
           "yaxis": {
            "backgroundcolor": "#E5ECF6",
            "gridcolor": "white",
            "gridwidth": 2,
            "linecolor": "white",
            "showbackground": true,
            "ticks": "",
            "zerolinecolor": "white"
           },
           "zaxis": {
            "backgroundcolor": "#E5ECF6",
            "gridcolor": "white",
            "gridwidth": 2,
            "linecolor": "white",
            "showbackground": true,
            "ticks": "",
            "zerolinecolor": "white"
           }
          },
          "shapedefaults": {
           "line": {
            "color": "#2a3f5f"
           }
          },
          "ternary": {
           "aaxis": {
            "gridcolor": "white",
            "linecolor": "white",
            "ticks": ""
           },
           "baxis": {
            "gridcolor": "white",
            "linecolor": "white",
            "ticks": ""
           },
           "bgcolor": "#E5ECF6",
           "caxis": {
            "gridcolor": "white",
            "linecolor": "white",
            "ticks": ""
           }
          },
          "title": {
           "x": 0.05
          },
          "xaxis": {
           "automargin": true,
           "gridcolor": "white",
           "linecolor": "white",
           "ticks": "",
           "title": {
            "standoff": 15
           },
           "zerolinecolor": "white",
           "zerolinewidth": 2
          },
          "yaxis": {
           "automargin": true,
           "gridcolor": "white",
           "linecolor": "white",
           "ticks": "",
           "title": {
            "standoff": 15
           },
           "zerolinecolor": "white",
           "zerolinewidth": 2
          }
         }
        },
        "title": {
         "text": ""
        },
        "width": 900,
        "xaxis": {
         "anchor": "y",
         "domain": [
          0,
          1
         ],
         "linecolor": "black",
         "mirror": true,
         "showline": true,
         "ticks": "outside",
         "title": {
          "text": "TSNE 1"
         }
        },
        "yaxis": {
         "anchor": "x",
         "domain": [
          0,
          1
         ],
         "linecolor": "black",
         "mirror": true,
         "showline": true,
         "ticks": "outside",
         "title": {
          "text": "TSNE 2"
         }
        }
       }
      }
     },
     "metadata": {},
     "output_type": "display_data"
    }
   ],
   "source": [
    "plot_umap2 = combat_util.generate_x_y_umap(df_filtered, n_neighbors=n_neighbors_input, min_dist=min_dist_input, metric=metric, iterate=True, number_runs=number_of_iterations)\n",
    "\n",
    "combat_util.plot_tsne(plot_umap2, color_col='Metadata_compound', \n",
    "                    #   split_df = False, split_column = None, np = None,\n",
    "                      hover_cols=hover_list,\n",
    "                      size=True, size_col = \"Metadata_concentration_uM\",\n",
    "                      x=\"0\", y=\"1\",\n",
    "                      error_x=\"x_err\", error_y=\"y_err\",\n",
    "                       dili_color=True\n",
    "                      )"
   ]
  },
  {
   "cell_type": "code",
   "execution_count": 26,
   "metadata": {},
   "outputs": [
    {
     "data": {
      "application/vnd.plotly.v1+json": {
       "config": {
        "plotlyServerURL": "https://plot.ly",
        "toImageButtonOptions": {
         "filename": "custom_image",
         "format": "svg",
         "height": 500,
         "scale": 6,
         "width": 700
        }
       },
       "data": [
        {
         "customdata": [
          [
           "220617_090443_Plate_1",
           "D5",
           "Amiodarone",
           1
          ],
          [
           "231006_132517_Plate_1",
           "B4",
           "Amiodarone",
           1
          ],
          [
           "231006_132517_Plate_1",
           "B5",
           "Amiodarone",
           1
          ],
          [
           "231006_132517_Plate_1",
           "B2",
           "Amiodarone",
           1
          ],
          [
           "220607_092050_Plate_1",
           "D5",
           "Amiodarone",
           1
          ],
          [
           "220617_090443_Plate_1",
           "B5",
           "Amiodarone",
           1
          ],
          [
           "220608_152238_Plate_1",
           "C5",
           "Amiodarone",
           1
          ],
          [
           "220607_092050_Plate_1",
           "C5",
           "Amiodarone",
           1
          ],
          [
           "231011_183822_Plate_1",
           "E6",
           "Amiodarone",
           1
          ],
          [
           "231006_132517_Plate_1",
           "B3",
           "Amiodarone",
           1
          ],
          [
           "220608_152238_Plate_1",
           "B5",
           "Amiodarone",
           1
          ],
          [
           "231011_183822_Plate_1",
           "E8",
           "Amiodarone",
           1
          ],
          [
           "220617_090443_Plate_1",
           "C5",
           "Amiodarone",
           1
          ],
          [
           "220608_152238_Plate_1",
           "D5",
           "Amiodarone",
           1
          ],
          [
           "231011_183822_Plate_1",
           "E9",
           "Amiodarone",
           1
          ],
          [
           "231011_183822_Plate_1",
           "E7",
           "Amiodarone",
           1
          ],
          [
           "220607_092050_Plate_1",
           "B5",
           "Amiodarone",
           1
          ],
          [
           "220608_152238_Plate_1",
           "D6",
           "Amiodarone",
           10
          ],
          [
           "220608_152238_Plate_1",
           "B6",
           "Amiodarone",
           10
          ],
          [
           "231011_183822_Plate_1",
           "E4",
           "Amiodarone",
           10
          ],
          [
           "231011_183822_Plate_1",
           "E2",
           "Amiodarone",
           10
          ],
          [
           "220617_090443_Plate_1",
           "C6",
           "Amiodarone",
           10
          ],
          [
           "220608_152238_Plate_1",
           "C6",
           "Amiodarone",
           10
          ],
          [
           "220607_092050_Plate_1",
           "B6",
           "Amiodarone",
           10
          ],
          [
           "220617_090443_Plate_1",
           "B6",
           "Amiodarone",
           10
          ],
          [
           "231006_132517_Plate_1",
           "B6",
           "Amiodarone",
           10
          ],
          [
           "231011_183822_Plate_1",
           "E3",
           "Amiodarone",
           10
          ],
          [
           "220607_092050_Plate_1",
           "D6",
           "Amiodarone",
           10
          ],
          [
           "231006_132517_Plate_1",
           "B9",
           "Amiodarone",
           10
          ],
          [
           "231006_132517_Plate_1",
           "B7",
           "Amiodarone",
           10
          ],
          [
           "231006_132517_Plate_1",
           "B8",
           "Amiodarone",
           10
          ],
          [
           "220607_092050_Plate_1",
           "C6",
           "Amiodarone",
           10
          ],
          [
           "231011_183822_Plate_1",
           "E5",
           "Amiodarone",
           10
          ],
          [
           "220617_090443_Plate_1",
           "D6",
           "Amiodarone",
           10
          ]
         ],
         "error_x": {
          "array": [
           0.000003814697265625,
           0.0000171661376953125,
           0.0000095367431640625,
           0.000011444091796875,
           0.00000476837158203125,
           0.000011444091796875,
           0.00001621246337890625,
           0.00000286102294921875,
           0.0000057220458984375,
           9.5367431640625e-7,
           0.00000762939453125,
           9.5367431640625e-7,
           0.0000095367431640625,
           0.00000286102294921875,
           0.00000476837158203125,
           0.00001239776611328125,
           0.00001049041748046875,
           0.000011444091796875,
           0.0000057220458984375,
           0.0000057220458984375,
           0.000003814697265625,
           0.0000095367431640625,
           0.0000152587890625,
           0.00000858306884765625,
           0.0000019073486328125,
           0.00000476837158203125,
           0.0000133514404296875,
           0.00001049041748046875,
           0.000011444091796875,
           0.0000095367431640625,
           9.5367431640625e-7,
           0.0000133514404296875,
           0.0000057220458984375,
           0.0000133514404296875
          ],
          "color": "black",
          "thickness": 2
         },
         "error_y": {
          "array": [
           0.0000035762786865234375,
           1.7881393432617188e-7,
           0.000002384185791015625,
           0.000003814697265625,
           0.0000030994415283203125,
           0,
           0.000002384185791015625,
           0.0000026226043701171875,
           1.1920928955078125e-7,
           0.0000019073486328125,
           0,
           1.30385160446167e-8,
           0.000002384185791015625,
           8.344650268554688e-7,
           0,
           0.0000016689300537109375,
           0.000002384185791015625,
           2.384185791015625e-7,
           0.0000016689300537109375,
           8.344650268554688e-7,
           5.960464477539062e-7,
           0.000001430511474609375,
           5.960464477539062e-7,
           0.00000476837158203125,
           8.344650268554688e-7,
           0.000001430511474609375,
           0,
           0.0000016689300537109375,
           7.152557373046875e-7,
           0.000001430511474609375,
           0.000001430511474609375,
           7.152557373046875e-7,
           5.960464477539063e-8,
           0.0000011920928955078125
          ],
          "color": "black",
          "thickness": 2
         },
         "hovertemplate": "colors_plot_col=8<br>0=%{x}<br>1=%{y}<br>Metadata_size=%{marker.size}<br>Metadata_Plate=%{customdata[0]}<br>Metadata_Well=%{customdata[1]}<br>Metadata_compound=%{customdata[2]}<br>Metadata_concentration_uM=%{customdata[3]}<extra></extra>",
         "legendgroup": "8",
         "marker": {
          "color": "#8172B3",
          "line": {
           "color": "White",
           "width": 1
          },
          "size": [
           1,
           1,
           1,
           1,
           1,
           1,
           1,
           1,
           1,
           1,
           1,
           1,
           1,
           1,
           1,
           1,
           1,
           10,
           10,
           10,
           10,
           10,
           10,
           10,
           10,
           10,
           10,
           10,
           10,
           10,
           10,
           10,
           10,
           10
          ],
          "sizemode": "area",
          "sizeref": 0.025,
          "symbol": "circle"
         },
         "mode": "markers",
         "name": "8",
         "orientation": "v",
         "showlegend": true,
         "type": "scatter",
         "x": [
          14.741822242736816,
          12.33006477355957,
          9.721248626708984,
          12.137341499328613,
          14.296351432800293,
          12.296154975891113,
          14.146862030029297,
          13.652308464050293,
          13.05163288116455,
          12.195270538330078,
          13.57129192352295,
          9.539366722106934,
          13.646114349365234,
          14.742341041564941,
          9.664013862609863,
          14.903647422790527,
          12.88640022277832,
          13.809457778930664,
          13.32312297821045,
          14.411050796508789,
          13.770752906799316,
          13.297719955444336,
          13.615978240966797,
          14.037357330322266,
          7.893203258514404,
          12.826951026916504,
          14.084728240966797,
          14.033246040344238,
          13.199509620666504,
          12.898427963256836,
          13.076623916625977,
          14.080677032470703,
          12.559082984924316,
          13.473743438720703
         ],
         "xaxis": "x",
         "y": [
          -3.920663833618164,
          0.3091144263744354,
          -2.158400535583496,
          -3.873964786529541,
          -2.247471332550049,
          -5.0755615234375,
          -2.028883695602417,
          -2.802462577819824,
          0.12589998543262482,
          -3.4656362533569336,
          -3.744750738143921,
          -0.01868068426847458,
          -2.2354238033294678,
          -1.924606442451477,
          0.487758606672287,
          -1.7584242820739746,
          -3.732820749282837,
          -1.524495244026184,
          -1.974684476852417,
          -1.007400631904602,
          -0.8637340664863586,
          -1.4837946891784668,
          -1.5882213115692139,
          -4.384683132171631,
          -1.9956321716308594,
          -2.46931529045105,
          -0.8870946764945984,
          -1.9385387897491455,
          -3.11183500289917,
          -2.4682343006134033,
          -3.432150363922119,
          -1.7631727457046509,
          0.9049245715141296,
          -1.1602253913879395
         ],
         "yaxis": "y"
        },
        {
         "customdata": [
          [
           "220608_152238_Plate_1",
           "B7",
           "Cyclophosphamide",
           1
          ],
          [
           "220617_090443_Plate_1",
           "C7",
           "Cyclophosphamide",
           1
          ],
          [
           "231006_132517_Plate_1",
           "B10",
           "Cyclophosphamide",
           1
          ],
          [
           "231011_183822_Plate_1",
           "C8",
           "Cyclophosphamide",
           1
          ],
          [
           "220608_152238_Plate_1",
           "D7",
           "Cyclophosphamide",
           1
          ],
          [
           "220617_090443_Plate_1",
           "B7",
           "Cyclophosphamide",
           1
          ],
          [
           "220607_092050_Plate_1",
           "B7",
           "Cyclophosphamide",
           1
          ],
          [
           "231006_132517_Plate_1",
           "C10",
           "Cyclophosphamide",
           1
          ],
          [
           "220607_092050_Plate_1",
           "D7",
           "Cyclophosphamide",
           1
          ],
          [
           "231011_183822_Plate_1",
           "C9",
           "Cyclophosphamide",
           1
          ],
          [
           "220608_152238_Plate_1",
           "C7",
           "Cyclophosphamide",
           1
          ],
          [
           "231011_183822_Plate_1",
           "C7",
           "Cyclophosphamide",
           1
          ],
          [
           "231011_183822_Plate_1",
           "C6",
           "Cyclophosphamide",
           1
          ],
          [
           "220617_090443_Plate_1",
           "D7",
           "Cyclophosphamide",
           1
          ],
          [
           "220607_092050_Plate_1",
           "C7",
           "Cyclophosphamide",
           1
          ],
          [
           "231006_132517_Plate_1",
           "E10",
           "Cyclophosphamide",
           1
          ],
          [
           "231006_132517_Plate_1",
           "D10",
           "Cyclophosphamide",
           1
          ],
          [
           "220608_152238_Plate_1",
           "C8",
           "Cyclophosphamide",
           10
          ],
          [
           "220617_090443_Plate_1",
           "D8",
           "Cyclophosphamide",
           10
          ],
          [
           "220617_090443_Plate_1",
           "B8",
           "Cyclophosphamide",
           10
          ],
          [
           "231011_183822_Plate_1",
           "C4",
           "Cyclophosphamide",
           10
          ],
          [
           "231006_132517_Plate_1",
           "D11",
           "Cyclophosphamide",
           10
          ],
          [
           "231006_132517_Plate_1",
           "C11",
           "Cyclophosphamide",
           10
          ],
          [
           "220608_152238_Plate_1",
           "B8",
           "Cyclophosphamide",
           10
          ],
          [
           "220607_092050_Plate_1",
           "B8",
           "Cyclophosphamide",
           10
          ],
          [
           "231006_132517_Plate_1",
           "B11",
           "Cyclophosphamide",
           10
          ],
          [
           "220607_092050_Plate_1",
           "C8",
           "Cyclophosphamide",
           10
          ],
          [
           "231011_183822_Plate_1",
           "C2",
           "Cyclophosphamide",
           10
          ],
          [
           "220608_152238_Plate_1",
           "D8",
           "Cyclophosphamide",
           10
          ],
          [
           "231011_183822_Plate_1",
           "C5",
           "Cyclophosphamide",
           10
          ],
          [
           "220617_090443_Plate_1",
           "C8",
           "Cyclophosphamide",
           10
          ],
          [
           "231006_132517_Plate_1",
           "E11",
           "Cyclophosphamide",
           10
          ],
          [
           "220607_092050_Plate_1",
           "D8",
           "Cyclophosphamide",
           10
          ],
          [
           "231011_183822_Plate_1",
           "C3",
           "Cyclophosphamide",
           10
          ]
         ],
         "error_x": {
          "array": [
           0.00001239776611328125,
           0.000011444091796875,
           0.0000057220458984375,
           0.00000762939453125,
           0.00001811981201171875,
           0.00000476837158203125,
           0.00000858306884765625,
           0.00000858306884765625,
           0.00000476837158203125,
           0.00000476837158203125,
           0.000003814697265625,
           0.00000667572021484375,
           0.00001430511474609375,
           0.0000019073486328125,
           0.00000286102294921875,
           0.00000667572021484375,
           9.5367431640625e-7,
           0.0000152587890625,
           0.000011444091796875,
           0.0000019073486328125,
           0.00000476837158203125,
           0.000003814697265625,
           0.00001049041748046875,
           0.000011444091796875,
           0.0000057220458984375,
           0.00000858306884765625,
           0.00000667572021484375,
           0.00000476837158203125,
           9.5367431640625e-7,
           0.00000476837158203125,
           0.00000762939453125,
           0.00000667572021484375,
           0.0000133514404296875,
           0.00000667572021484375
          ],
          "color": "black",
          "thickness": 2
         },
         "error_y": {
          "array": [
           0.000002384185791015625,
           0.0000016689300537109375,
           0.0000019073486328125,
           0.000004291534423828125,
           0.0000030994415283203125,
           9.5367431640625e-7,
           0.000003337860107421875,
           0.0000016689300537109375,
           0.000002384185791015625,
           0.0000030994415283203125,
           0.0000026226043701171875,
           5.960464477539062e-7,
           0.000004291534423828125,
           0.00000286102294921875,
           0.0000020265579223632812,
           4.76837158203125e-7,
           0.0000011920928955078125,
           0.000001430511474609375,
           7.152557373046875e-7,
           0.000003337860107421875,
           0.0000030994415283203125,
           0.00000286102294921875,
           0.0000019073486328125,
           0.0000057220458984375,
           0.000004291534423828125,
           0.0000026226043701171875,
           7.152557373046875e-7,
           7.152557373046875e-7,
           0.0000021457672119140625,
           9.5367431640625e-7,
           0.0000026226043701171875,
           0.0000011920928955078125,
           7.152557373046875e-7,
           0
          ],
          "color": "black",
          "thickness": 2
         },
         "hovertemplate": "colors_plot_col=5<br>0=%{x}<br>1=%{y}<br>Metadata_size=%{marker.size}<br>Metadata_Plate=%{customdata[0]}<br>Metadata_Well=%{customdata[1]}<br>Metadata_compound=%{customdata[2]}<br>Metadata_concentration_uM=%{customdata[3]}<extra></extra>",
         "legendgroup": "5",
         "marker": {
          "color": "#CA9161",
          "line": {
           "color": "White",
           "width": 1
          },
          "size": [
           1,
           1,
           1,
           1,
           1,
           1,
           1,
           1,
           1,
           1,
           1,
           1,
           1,
           1,
           1,
           1,
           1,
           10,
           10,
           10,
           10,
           10,
           10,
           10,
           10,
           10,
           10,
           10,
           10,
           10,
           10,
           10,
           10,
           10
          ],
          "sizemode": "area",
          "sizeref": 0.025,
          "symbol": "circle"
         },
         "mode": "markers",
         "name": "5",
         "orientation": "v",
         "showlegend": true,
         "type": "scatter",
         "x": [
          12.89875602722168,
          13.909549713134766,
          9.658068656921387,
          11.467784881591797,
          15.043567657470703,
          8.727782249450684,
          12.421621322631836,
          9.23621940612793,
          14.210857391357422,
          8.367022514343262,
          12.919760704040527,
          8.445451736450195,
          15.032846450805664,
          14.739470481872559,
          13.056235313415527,
          12.401357650756836,
          12.320638656616211,
          13.698352813720703,
          14.84851360321045,
          11.766529083251953,
          8.759156227111816,
          14.131916046142578,
          9.691695213317871,
          12.887707710266113,
          12.602417945861816,
          9.903000831604004,
          13.309804916381836,
          8.249271392822266,
          15.119385719299316,
          8.135601997375488,
          14.00818157196045,
          10.605944633483887,
          14.917470932006836,
          8.108882904052734
         ],
         "xaxis": "x",
         "y": [
          -4.40213680267334,
          -2.3381502628326416,
          -3.0913400650024414,
          -4.258963108062744,
          -3.614077568054199,
          -3.378775119781494,
          -4.545592784881592,
          -3.8239433765411377,
          -2.7720062732696533,
          -2.561816930770874,
          -2.7575650215148926,
          -1.7644753456115723,
          -3.0865142345428467,
          -2.6150476932525635,
          -1.7066359519958496,
          -1.6851301193237305,
          -3.6937949657440186,
          -3.0166938304901123,
          -2.9890241622924805,
          -4.4887614250183105,
          -2.9164700508117676,
          -3.9703376293182373,
          -1.995283842086792,
          -4.066091537475586,
          -4.5121073722839355,
          -3.5290026664733887,
          -2.2506558895111084,
          -3.504516363143921,
          -3.3614492416381836,
          -2.213470697402954,
          -3.1375153064727783,
          -2.8295769691467285,
          -3.182088851928711,
          -2.856415033340454
         ],
         "yaxis": "y"
        },
        {
         "customdata": [
          [
           "231011_183822_Plate_1",
           "F10",
           "Lovastatin",
           1
          ],
          [
           "231011_183822_Plate_1",
           "G10",
           "Lovastatin",
           1
          ],
          [
           "220617_090443_Plate_1",
           "C9",
           "Etoposide",
           1
          ],
          [
           "231006_132517_Plate_1",
           "E3",
           "Etoposide",
           1
          ],
          [
           "231006_132517_Plate_1",
           "E2",
           "Etoposide",
           1
          ],
          [
           "220608_152238_Plate_1",
           "C9",
           "Etoposide",
           1
          ],
          [
           "220608_152238_Plate_1",
           "B9",
           "Etoposide",
           1
          ],
          [
           "220607_092050_Plate_1",
           "D9",
           "Etoposide",
           1
          ],
          [
           "231006_132517_Plate_1",
           "E5",
           "Etoposide",
           1
          ],
          [
           "220608_152238_Plate_1",
           "D9",
           "Etoposide",
           1
          ],
          [
           "231011_183822_Plate_1",
           "G6",
           "Etoposide",
           1
          ],
          [
           "220607_092050_Plate_1",
           "C9",
           "Etoposide",
           1
          ],
          [
           "231006_132517_Plate_1",
           "E4",
           "Etoposide",
           1
          ],
          [
           "231011_183822_Plate_1",
           "G9",
           "Etoposide",
           1
          ],
          [
           "231011_183822_Plate_1",
           "G8",
           "Etoposide",
           1
          ],
          [
           "220617_090443_Plate_1",
           "B9",
           "Etoposide",
           1
          ],
          [
           "220607_092050_Plate_1",
           "B9",
           "Etoposide",
           1
          ],
          [
           "231011_183822_Plate_1",
           "G7",
           "Etoposide",
           1
          ],
          [
           "220607_092050_Plate_1",
           "E3",
           "Lovastatin",
           1
          ],
          [
           "220607_092050_Plate_1",
           "F3",
           "Lovastatin",
           1
          ],
          [
           "220607_092050_Plate_1",
           "G3",
           "Lovastatin",
           1
          ],
          [
           "231006_132517_Plate_1",
           "C2",
           "Lovastatin",
           1
          ],
          [
           "231006_132517_Plate_1",
           "C4",
           "Lovastatin",
           1
          ],
          [
           "220617_090443_Plate_1",
           "G3",
           "Lovastatin",
           1
          ],
          [
           "231011_183822_Plate_1",
           "E10",
           "Lovastatin",
           1
          ],
          [
           "220608_152238_Plate_1",
           "E3",
           "Lovastatin",
           1
          ],
          [
           "220608_152238_Plate_1",
           "F3",
           "Lovastatin",
           1
          ],
          [
           "220608_152238_Plate_1",
           "G3",
           "Lovastatin",
           1
          ],
          [
           "220617_090443_Plate_1",
           "E3",
           "Lovastatin",
           1
          ],
          [
           "231011_183822_Plate_1",
           "D10",
           "Lovastatin",
           1
          ],
          [
           "220617_090443_Plate_1",
           "D9",
           "Etoposide",
           1
          ],
          [
           "220617_090443_Plate_1",
           "F3",
           "Lovastatin",
           1
          ],
          [
           "231006_132517_Plate_1",
           "C5",
           "Lovastatin",
           1
          ],
          [
           "231006_132517_Plate_1",
           "C3",
           "Lovastatin",
           1
          ],
          [
           "220617_090443_Plate_1",
           "F4",
           "Lovastatin",
           10
          ],
          [
           "220608_152238_Plate_1",
           "D10",
           "Etoposide",
           10
          ],
          [
           "231006_132517_Plate_1",
           "C7",
           "Lovastatin",
           10
          ],
          [
           "220617_090443_Plate_1",
           "E4",
           "Lovastatin",
           10
          ],
          [
           "231006_132517_Plate_1",
           "C8",
           "Lovastatin",
           10
          ],
          [
           "231006_132517_Plate_1",
           "C9",
           "Lovastatin",
           10
          ],
          [
           "220617_090443_Plate_1",
           "G4",
           "Lovastatin",
           10
          ],
          [
           "231011_183822_Plate_1",
           "G11",
           "Lovastatin",
           10
          ],
          [
           "231011_183822_Plate_1",
           "D11",
           "Lovastatin",
           10
          ],
          [
           "220607_092050_Plate_1",
           "E4",
           "Lovastatin",
           10
          ],
          [
           "220608_152238_Plate_1",
           "E4",
           "Lovastatin",
           10
          ],
          [
           "220607_092050_Plate_1",
           "F4",
           "Lovastatin",
           10
          ],
          [
           "231011_183822_Plate_1",
           "E11",
           "Lovastatin",
           10
          ],
          [
           "231011_183822_Plate_1",
           "F11",
           "Lovastatin",
           10
          ],
          [
           "220608_152238_Plate_1",
           "G4",
           "Lovastatin",
           10
          ],
          [
           "220607_092050_Plate_1",
           "G4",
           "Lovastatin",
           10
          ],
          [
           "231011_183822_Plate_1",
           "G3",
           "Etoposide",
           10
          ],
          [
           "220608_152238_Plate_1",
           "C10",
           "Etoposide",
           10
          ],
          [
           "220617_090443_Plate_1",
           "C10",
           "Etoposide",
           10
          ],
          [
           "231011_183822_Plate_1",
           "G2",
           "Etoposide",
           10
          ],
          [
           "220607_092050_Plate_1",
           "B10",
           "Etoposide",
           10
          ],
          [
           "231011_183822_Plate_1",
           "G4",
           "Etoposide",
           10
          ],
          [
           "231011_183822_Plate_1",
           "G5",
           "Etoposide",
           10
          ],
          [
           "220607_092050_Plate_1",
           "C10",
           "Etoposide",
           10
          ],
          [
           "231006_132517_Plate_1",
           "C6",
           "Lovastatin",
           10
          ],
          [
           "220617_090443_Plate_1",
           "B10",
           "Etoposide",
           10
          ],
          [
           "220607_092050_Plate_1",
           "D10",
           "Etoposide",
           10
          ],
          [
           "231006_132517_Plate_1",
           "E7",
           "Etoposide",
           10
          ],
          [
           "220608_152238_Plate_1",
           "B10",
           "Etoposide",
           10
          ],
          [
           "231006_132517_Plate_1",
           "E8",
           "Etoposide",
           10
          ],
          [
           "231006_132517_Plate_1",
           "E9",
           "Etoposide",
           10
          ],
          [
           "231006_132517_Plate_1",
           "E6",
           "Etoposide",
           10
          ],
          [
           "220617_090443_Plate_1",
           "D10",
           "Etoposide",
           10
          ],
          [
           "220608_152238_Plate_1",
           "F4",
           "Lovastatin",
           10
          ]
         ],
         "error_x": {
          "array": [
           0.00001621246337890625,
           0.00000667572021484375,
           0.0000095367431640625,
           0.0000133514404296875,
           0.0000057220458984375,
           0.0000057220458984375,
           0.000011444091796875,
           0.00000476837158203125,
           0.00000667572021484375,
           0.0000057220458984375,
           0.0000019073486328125,
           0.00000667572021484375,
           0.00000286102294921875,
           0.000003814697265625,
           0.00000286102294921875,
           0.0000057220458984375,
           0.00000667572021484375,
           0.00001621246337890625,
           0.00000858306884765625,
           0.0000095367431640625,
           0.00000667572021484375,
           0.0000057220458984375,
           0.00000476837158203125,
           0.00000286102294921875,
           0.0000019073486328125,
           0.00000476837158203125,
           0,
           0,
           0.00001239776611328125,
           0.0000057220458984375,
           0.0000133514404296875,
           0.0000057220458984375,
           0.00000286102294921875,
           0.0000019073486328125,
           0.0000057220458984375,
           0.0000057220458984375,
           0.0000019073486328125,
           0.0000095367431640625,
           0.00001239776611328125,
           0.0000057220458984375,
           0.00000667572021484375,
           0.000011444091796875,
           0.00000286102294921875,
           0.00001049041748046875,
           0.00000667572021484375,
           0.00001430511474609375,
           0.00000667572021484375,
           0.0000057220458984375,
           0.00000667572021484375,
           0.00000858306884765625,
           0.00000476837158203125,
           0.00000762939453125,
           0.00000476837158203125,
           0.00001049041748046875,
           0.00000667572021484375,
           0.0000133514404296875,
           0.00000858306884765625,
           0.000003814697265625,
           0.000011444091796875,
           0.00000858306884765625,
           0.00000286102294921875,
           0.00000762939453125,
           0.00001049041748046875,
           0.000003814697265625,
           0.00001239776611328125,
           0.00001049041748046875,
           0.00001049041748046875,
           0.000003814697265625
          ],
          "color": "black",
          "thickness": 2
         },
         "error_y": {
          "array": [
           5.960464477539063e-8,
           1.7881393432617188e-7,
           0.000003337860107421875,
           0.0000011920928955078125,
           0.000003814697265625,
           0.000002384185791015625,
           0.000004291534423828125,
           0.00000286102294921875,
           0.000001430511474609375,
           0.00000286102294921875,
           0.0000026226043701171875,
           0.000007152557373046875,
           5.960464477539062e-7,
           0,
           0.000003814697265625,
           0.000004291534423828125,
           0.00000286102294921875,
           0.000001430511474609375,
           2.086162567138672e-7,
           5.960464477539063e-8,
           1.341104507446289e-7,
           0.0000017881393432617188,
           0.0000045299530029296875,
           0.0000011920928955078125,
           1.1920928955078125e-7,
           2.682209014892578e-7,
           0.0000021457672119140625,
           0.0000016689300537109375,
           3.5762786865234375e-7,
           2.086162567138672e-7,
           0.00000476837158203125,
           4.470348358154297e-7,
           0.000001430511474609375,
           8.344650268554688e-7,
           1.7881393432617188e-7,
           0.000003814697265625,
           0.0000040531158447265625,
           4.172325134277344e-7,
           0.0000030994415283203125,
           0.0000016689300537109375,
           1.1920928955078125e-7,
           5.364418029785156e-7,
           0,
           1.1920928955078125e-7,
           9.5367431640625e-7,
           3.5762786865234375e-7,
           4.76837158203125e-7,
           1.7881393432617188e-7,
           2.384185791015625e-7,
           1.7881393432617188e-7,
           0.000004291534423828125,
           0.000003814697265625,
           0.000007152557373046875,
           0.000002384185791015625,
           0.00000286102294921875,
           0.000005245208740234375,
           0.000004291534423828125,
           0.000003337860107421875,
           0.0000013113021850585938,
           0.00000286102294921875,
           0.000003814697265625,
           0.000003337860107421875,
           9.5367431640625e-7,
           0.000001430511474609375,
           0.00000858306884765625,
           9.5367431640625e-7,
           0,
           1.1920928955078125e-7
          ],
          "color": "black",
          "thickness": 2
         },
         "hovertemplate": "colors_plot_col=3<br>0=%{x}<br>1=%{y}<br>Metadata_size=%{marker.size}<br>Metadata_Plate=%{customdata[0]}<br>Metadata_Well=%{customdata[1]}<br>Metadata_compound=%{customdata[2]}<br>Metadata_concentration_uM=%{customdata[3]}<extra></extra>",
         "legendgroup": "3",
         "marker": {
          "color": "#55A868",
          "line": {
           "color": "White",
           "width": 1
          },
          "size": [
           1,
           1,
           1,
           1,
           1,
           1,
           1,
           1,
           1,
           1,
           1,
           1,
           1,
           1,
           1,
           1,
           1,
           1,
           1,
           1,
           1,
           1,
           1,
           1,
           1,
           1,
           1,
           1,
           1,
           1,
           1,
           1,
           1,
           1,
           10,
           10,
           10,
           10,
           10,
           10,
           10,
           10,
           10,
           10,
           10,
           10,
           10,
           10,
           10,
           10,
           10,
           10,
           10,
           10,
           10,
           10,
           10,
           10,
           10,
           10,
           10,
           10,
           10,
           10,
           10,
           10,
           10,
           10
          ],
          "sizemode": "area",
          "sizeref": 0.025,
          "symbol": "circle"
         },
         "mode": "markers",
         "name": "3",
         "orientation": "v",
         "showlegend": true,
         "type": "scatter",
         "x": [
          13.229504585266113,
          13.594805717468262,
          9.294417381286621,
          11.76707649230957,
          9.832592964172363,
          8.926082611083984,
          11.345706939697266,
          9.528441429138184,
          8.330523490905762,
          10.1116304397583,
          11.662718772888184,
          9.414843559265137,
          12.038524627685547,
          10.546216011047363,
          10.714778900146484,
          8.740967750549316,
          9.25865364074707,
          11.029648780822754,
          10.302992820739746,
          10.988277435302734,
          10.996381759643555,
          11.452757835388184,
          11.518428802490234,
          11.499388694763184,
          12.860434532165527,
          10.649288177490234,
          12.321491241455078,
          14.369384765625,
          10.014511108398438,
          11.385944366455078,
          10.201400756835938,
          10.695423126220703,
          10.907668113708496,
          12.398031234741211,
          10.823482513427734,
          9.462642669677734,
          11.067680358886719,
          10.330824851989746,
          10.378373146057129,
          11.179974555969238,
          11.92431926727295,
          12.930782318115234,
          13.120162010192871,
          10.541011810302734,
          8.275616645812988,
          11.86695671081543,
          12.75219440460205,
          13.782025337219238,
          10.961626052856445,
          12.112356185913086,
          9.965821266174316,
          9.36961555480957,
          9.294132232666016,
          10.290775299072266,
          9.253308296203613,
          10.606797218322754,
          10.801257133483887,
          9.218871116638184,
          12.222302436828613,
          8.726823806762695,
          9.203246116638184,
          9.685595512390137,
          9.773880958557129,
          8.645798683166504,
          8.881365776062012,
          8.351201057434082,
          9.803727149963379,
          10.953660011291504
         ],
         "xaxis": "x",
         "y": [
          -0.7308916449546814,
          -0.43505969643592834,
          -5.221346378326416,
          1.290533423423767,
          -5.892148971557617,
          -5.699807167053223,
          -5.19797420501709,
          -5.8607988357543945,
          -5.170074939727783,
          -5.570495128631592,
          -2.4628591537475586,
          -5.088874816894531,
          1.1856552362442017,
          -5.213837146759033,
          -5.069364547729492,
          -4.7131266593933105,
          -5.421169281005859,
          -4.993377208709717,
          -0.3467467129230499,
          -0.399046391248703,
          -0.21200193464756012,
          -1.9839980602264404,
          -3.4224822521209717,
          -0.9599907398223877,
          -0.8349102735519409,
          0.3375372290611267,
          -2.667680263519287,
          -2.8960580825805664,
          -0.6105430722236633,
          -0.3773548901081085,
          -5.665655136108398,
          -0.32360121607780457,
          -1.630692720413208,
          -1.362380862236023,
          -0.759193480014801,
          -6.033183574676514,
          -3.7339982986450195,
          -0.660453736782074,
          -3.402316093444824,
          -3.6130285263061523,
          -0.42410168051719666,
          -0.9585246443748474,
          -0.9433289170265198,
          -1.360785961151123,
          -1.256951928138733,
          0.650714099407196,
          -0.5910298824310303,
          -0.5881842970848083,
          -3.0365495681762695,
          -0.7126769423484802,
          -4.6942973136901855,
          -4.4024739265441895,
          -5.2100749015808105,
          -4.648038864135742,
          -4.540343761444092,
          -4.807106018066406,
          -4.400663375854492,
          -4.4946370124816895,
          1.0345360040664673,
          -4.667022228240967,
          -5.485418796539307,
          -4.86953592300415,
          -4.153846263885498,
          -5.768960475921631,
          -5.703362464904785,
          -5.468051910400391,
          -5.402344226837158,
          0.26774361729621887
         ],
         "yaxis": "y"
        },
        {
         "customdata": [
          [
           "220617_090443_Plate_1",
           "B3",
           "Aspirin",
           1
          ],
          [
           "220608_152238_Plate_1",
           "B3",
           "Aspirin",
           1
          ],
          [
           "220608_152238_Plate_1",
           "C3",
           "Aspirin",
           1
          ],
          [
           "220607_092050_Plate_1",
           "C3",
           "Aspirin",
           1
          ],
          [
           "231006_132517_Plate_1",
           "G4",
           "Aspirin",
           1
          ],
          [
           "220617_090443_Plate_1",
           "D3",
           "Aspirin",
           1
          ],
          [
           "231011_183822_Plate_1",
           "B9",
           "Aspirin",
           1
          ],
          [
           "231011_183822_Plate_1",
           "B8",
           "Aspirin",
           1
          ],
          [
           "231011_183822_Plate_1",
           "B7",
           "Aspirin",
           1
          ],
          [
           "231011_183822_Plate_1",
           "B6",
           "Aspirin",
           1
          ],
          [
           "231006_132517_Plate_1",
           "G2",
           "Aspirin",
           1
          ],
          [
           "220617_090443_Plate_1",
           "C3",
           "Aspirin",
           1
          ],
          [
           "220608_152238_Plate_1",
           "D3",
           "Aspirin",
           1
          ],
          [
           "220607_092050_Plate_1",
           "B3",
           "Aspirin",
           1
          ],
          [
           "231006_132517_Plate_1",
           "G5",
           "Aspirin",
           1
          ],
          [
           "220607_092050_Plate_1",
           "D3",
           "Aspirin",
           1
          ],
          [
           "231006_132517_Plate_1",
           "G3",
           "Aspirin",
           1
          ],
          [
           "231006_132517_Plate_1",
           "F8",
           "Orphenadrine",
           10
          ],
          [
           "231011_183822_Plate_1",
           "D2",
           "Orphenadrine",
           10
          ],
          [
           "231006_132517_Plate_1",
           "F7",
           "Orphenadrine",
           10
          ],
          [
           "231006_132517_Plate_1",
           "F6",
           "Orphenadrine",
           10
          ],
          [
           "231011_183822_Plate_1",
           "D4",
           "Orphenadrine",
           10
          ],
          [
           "220607_092050_Plate_1",
           "E6",
           "Orphenadrine",
           10
          ],
          [
           "220607_092050_Plate_1",
           "F6",
           "Orphenadrine",
           10
          ],
          [
           "220617_090443_Plate_1",
           "G6",
           "Orphenadrine",
           10
          ],
          [
           "231006_132517_Plate_1",
           "F9",
           "Orphenadrine",
           10
          ],
          [
           "220608_152238_Plate_1",
           "F6",
           "Orphenadrine",
           10
          ],
          [
           "231011_183822_Plate_1",
           "D5",
           "Orphenadrine",
           10
          ],
          [
           "220617_090443_Plate_1",
           "F6",
           "Orphenadrine",
           10
          ],
          [
           "220617_090443_Plate_1",
           "E6",
           "Orphenadrine",
           10
          ],
          [
           "231011_183822_Plate_1",
           "B4",
           "Aspirin",
           10
          ],
          [
           "220617_090443_Plate_1",
           "D4",
           "Aspirin",
           10
          ],
          [
           "231011_183822_Plate_1",
           "D3",
           "Orphenadrine",
           10
          ],
          [
           "220607_092050_Plate_1",
           "B4",
           "Aspirin",
           10
          ],
          [
           "220617_090443_Plate_1",
           "B4",
           "Aspirin",
           10
          ],
          [
           "220608_152238_Plate_1",
           "D4",
           "Aspirin",
           10
          ],
          [
           "231011_183822_Plate_1",
           "B5",
           "Aspirin",
           10
          ],
          [
           "220608_152238_Plate_1",
           "B4",
           "Aspirin",
           10
          ],
          [
           "231006_132517_Plate_1",
           "G8",
           "Aspirin",
           10
          ],
          [
           "231011_183822_Plate_1",
           "B2",
           "Aspirin",
           10
          ],
          [
           "231006_132517_Plate_1",
           "G6",
           "Aspirin",
           10
          ],
          [
           "231006_132517_Plate_1",
           "G9",
           "Aspirin",
           10
          ],
          [
           "231011_183822_Plate_1",
           "B3",
           "Aspirin",
           10
          ],
          [
           "231006_132517_Plate_1",
           "G7",
           "Aspirin",
           10
          ],
          [
           "220607_092050_Plate_1",
           "G6",
           "Orphenadrine",
           10
          ],
          [
           "220607_092050_Plate_1",
           "D4",
           "Aspirin",
           10
          ],
          [
           "220617_090443_Plate_1",
           "C4",
           "Aspirin",
           10
          ],
          [
           "220608_152238_Plate_1",
           "C4",
           "Aspirin",
           10
          ],
          [
           "220607_092050_Plate_1",
           "C4",
           "Aspirin",
           10
          ],
          [
           "220608_152238_Plate_1",
           "E6",
           "Orphenadrine",
           10
          ],
          [
           "220608_152238_Plate_1",
           "G6",
           "Orphenadrine",
           10
          ]
         ],
         "error_x": {
          "array": [
           0.0000019073486328125,
           9.5367431640625e-7,
           0.00000286102294921875,
           0.00000286102294921875,
           0.000011444091796875,
           0.00001430511474609375,
           0.000011444091796875,
           0.000011444091796875,
           0.000003814697265625,
           0.00000667572021484375,
           0.0000133514404296875,
           0.0000019073486328125,
           0.00000286102294921875,
           0.00000286102294921875,
           0.00000858306884765625,
           0.000011444091796875,
           0.00000476837158203125,
           0.00001049041748046875,
           0.000003814697265625,
           0.00000762939453125,
           0.00000476837158203125,
           0.000003814697265625,
           0.00001049041748046875,
           0.000003814697265625,
           9.5367431640625e-7,
           0.00000762939453125,
           0.00001049041748046875,
           0.0000057220458984375,
           0.00000762939453125,
           0.0000057220458984375,
           9.5367431640625e-7,
           0.00001049041748046875,
           0.0000057220458984375,
           0.0000057220458984375,
           0.00000286102294921875,
           0.000011444091796875,
           0.00001049041748046875,
           0.000011444091796875,
           0.00000858306884765625,
           9.5367431640625e-7,
           0,
           0.0000133514404296875,
           0.00000762939453125,
           0.000003814697265625,
           0.000003814697265625,
           0.00001621246337890625,
           0.0000095367431640625,
           0.00000476837158203125,
           0.00000667572021484375,
           0.000003814697265625,
           0.00000762939453125
          ],
          "color": "black",
          "thickness": 2
         },
         "error_y": {
          "array": [
           0.000007152557373046875,
           0.0000057220458984375,
           0.0000011920928955078125,
           0.0000030994415283203125,
           0,
           2.384185791015625e-7,
           0.000003337860107421875,
           9.5367431640625e-7,
           7.152557373046875e-7,
           0.0000013113021850585938,
           0.000002384185791015625,
           0.0000035762786865234375,
           0.0000016689300537109375,
           0.000001430511474609375,
           9.5367431640625e-7,
           5.960464477539063e-8,
           4.76837158203125e-7,
           0.0000011920928955078125,
           5.960464477539063e-8,
           0.0000013113021850585938,
           1.1920928955078125e-7,
           4.172325134277344e-7,
           0,
           2.384185791015625e-7,
           4.76837158203125e-7,
           2.384185791015625e-7,
           1.1920928955078125e-7,
           9.5367431640625e-7,
           7.152557373046875e-7,
           1.1920928955078125e-7,
           4.76837158203125e-7,
           0.00000286102294921875,
           5.960464477539062e-7,
           0.000003337860107421875,
           0.000003337860107421875,
           0.0000013113021850585938,
           9.5367431640625e-7,
           0.00000476837158203125,
           0.000002384185791015625,
           0.0000011920928955078125,
           0.0000035762786865234375,
           0.000001430511474609375,
           3.5762786865234375e-7,
           0,
           2.384185791015625e-7,
           7.152557373046875e-7,
           0.000004291534423828125,
           0.0000010728836059570312,
           0.0000021457672119140625,
           1.1920928955078125e-7,
           7.152557373046875e-7
          ],
          "color": "black",
          "thickness": 2
         },
         "hovertemplate": "colors_plot_col=0<br>0=%{x}<br>1=%{y}<br>Metadata_size=%{marker.size}<br>Metadata_Plate=%{customdata[0]}<br>Metadata_Well=%{customdata[1]}<br>Metadata_compound=%{customdata[2]}<br>Metadata_concentration_uM=%{customdata[3]}<extra></extra>",
         "legendgroup": "0",
         "marker": {
          "color": "#4C72B0",
          "line": {
           "color": "White",
           "width": 1
          },
          "size": [
           1,
           1,
           1,
           1,
           1,
           1,
           1,
           1,
           1,
           1,
           1,
           1,
           1,
           1,
           1,
           1,
           1,
           10,
           10,
           10,
           10,
           10,
           10,
           10,
           10,
           10,
           10,
           10,
           10,
           10,
           10,
           10,
           10,
           10,
           10,
           10,
           10,
           10,
           10,
           10,
           10,
           10,
           10,
           10,
           10,
           10,
           10,
           10,
           10,
           10,
           10
          ],
          "sizemode": "area",
          "sizeref": 0.025,
          "symbol": "circle"
         },
         "mode": "markers",
         "name": "0",
         "orientation": "v",
         "showlegend": true,
         "type": "scatter",
         "x": [
          11.897051811218262,
          13.188929557800293,
          10.359679222106934,
          10.908766746520996,
          11.52662467956543,
          12.832653999328613,
          12.495853424072266,
          8.728558540344238,
          9.063916206359863,
          8.725093841552734,
          10.973525047302246,
          12.749550819396973,
          14.811612129211426,
          12.936071395874023,
          13.153940200805664,
          14.496869087219238,
          11.182940483093262,
          10.491196632385254,
          9.371092796325684,
          10.914751052856445,
          10.76557731628418,
          8.651490211486816,
          8.617108345031738,
          10.041075706481934,
          9.692139625549316,
          10.735355377197266,
          9.195186614990234,
          9.139710426330566,
          9.9513521194458,
          8.623656272888184,
          9.276612281799316,
          14.640511512756348,
          9.09825325012207,
          13.499957084655762,
          11.967447280883789,
          14.983407020568848,
          9.024288177490234,
          12.98701286315918,
          10.423518180847168,
          9.091795921325684,
          11.704955101013184,
          14.235953330993652,
          9.35441780090332,
          11.589520454406738,
          10.309618949890137,
          14.541058540344238,
          14.54137897491455,
          13.581011772155762,
          12.28235149383545,
          8.678648948669434,
          9.989864349365234
         ],
         "xaxis": "x",
         "y": [
          -5.084220886230469,
          -4.728116989135742,
          -2.145507574081421,
          -3.239962100982666,
          -3.051788091659546,
          0.6871907114982605,
          -3.6294968128204346,
          -2.353912591934204,
          -2.7987558841705322,
          -1.2960950136184692,
          -2.0397748947143555,
          -2.9552578926086426,
          -1.2128199338912964,
          -4.898528575897217,
          -2.106323003768921,
          -0.7309982776641846,
          -2.1856534481048584,
          1.1126042604446411,
          0.7199145555496216,
          1.4600204229354858,
          1.190109372138977,
          0.778129518032074,
          -0.15208150446414948,
          1.4883205890655518,
          1.2434250116348267,
          1.6393234729766846,
          1.364662766456604,
          1.0378804206848145,
          1.10414719581604,
          0.35271626710891724,
          -1.655369758605957,
          -3.5101613998413086,
          0.8650310635566711,
          -4.232186317443848,
          -5.272951126098633,
          -1.967097282409668,
          -1.9013408422470093,
          -5.024625778198242,
          -3.879793167114258,
          -1.029050350189209,
          -3.5784103870391846,
          -4.219543933868408,
          -1.5094348192214966,
          -3.0623984336853027,
          1.623600721359253,
          -1.667129397392273,
          -4.375161647796631,
          -1.3107129335403442,
          -2.6505422592163086,
          0.1638975888490677,
          1.1171281337738037
         ],
         "yaxis": "y"
        }
       ],
       "layout": {
        "autosize": false,
        "font": {
         "size": 18
        },
        "height": 700,
        "legend": {
         "itemsizing": "constant",
         "title": {
          "text": ""
         },
         "tracegroupgap": 0
        },
        "margin": {
         "b": 20,
         "l": 50,
         "pad": 4,
         "r": 50,
         "t": 50
        },
        "plot_bgcolor": "white",
        "template": {
         "data": {
          "bar": [
           {
            "error_x": {
             "color": "#2a3f5f"
            },
            "error_y": {
             "color": "#2a3f5f"
            },
            "marker": {
             "line": {
              "color": "#E5ECF6",
              "width": 0.5
             },
             "pattern": {
              "fillmode": "overlay",
              "size": 10,
              "solidity": 0.2
             }
            },
            "type": "bar"
           }
          ],
          "barpolar": [
           {
            "marker": {
             "line": {
              "color": "#E5ECF6",
              "width": 0.5
             },
             "pattern": {
              "fillmode": "overlay",
              "size": 10,
              "solidity": 0.2
             }
            },
            "type": "barpolar"
           }
          ],
          "carpet": [
           {
            "aaxis": {
             "endlinecolor": "#2a3f5f",
             "gridcolor": "white",
             "linecolor": "white",
             "minorgridcolor": "white",
             "startlinecolor": "#2a3f5f"
            },
            "baxis": {
             "endlinecolor": "#2a3f5f",
             "gridcolor": "white",
             "linecolor": "white",
             "minorgridcolor": "white",
             "startlinecolor": "#2a3f5f"
            },
            "type": "carpet"
           }
          ],
          "choropleth": [
           {
            "colorbar": {
             "outlinewidth": 0,
             "ticks": ""
            },
            "type": "choropleth"
           }
          ],
          "contour": [
           {
            "colorbar": {
             "outlinewidth": 0,
             "ticks": ""
            },
            "colorscale": [
             [
              0,
              "#0d0887"
             ],
             [
              0.1111111111111111,
              "#46039f"
             ],
             [
              0.2222222222222222,
              "#7201a8"
             ],
             [
              0.3333333333333333,
              "#9c179e"
             ],
             [
              0.4444444444444444,
              "#bd3786"
             ],
             [
              0.5555555555555556,
              "#d8576b"
             ],
             [
              0.6666666666666666,
              "#ed7953"
             ],
             [
              0.7777777777777778,
              "#fb9f3a"
             ],
             [
              0.8888888888888888,
              "#fdca26"
             ],
             [
              1,
              "#f0f921"
             ]
            ],
            "type": "contour"
           }
          ],
          "contourcarpet": [
           {
            "colorbar": {
             "outlinewidth": 0,
             "ticks": ""
            },
            "type": "contourcarpet"
           }
          ],
          "heatmap": [
           {
            "colorbar": {
             "outlinewidth": 0,
             "ticks": ""
            },
            "colorscale": [
             [
              0,
              "#0d0887"
             ],
             [
              0.1111111111111111,
              "#46039f"
             ],
             [
              0.2222222222222222,
              "#7201a8"
             ],
             [
              0.3333333333333333,
              "#9c179e"
             ],
             [
              0.4444444444444444,
              "#bd3786"
             ],
             [
              0.5555555555555556,
              "#d8576b"
             ],
             [
              0.6666666666666666,
              "#ed7953"
             ],
             [
              0.7777777777777778,
              "#fb9f3a"
             ],
             [
              0.8888888888888888,
              "#fdca26"
             ],
             [
              1,
              "#f0f921"
             ]
            ],
            "type": "heatmap"
           }
          ],
          "heatmapgl": [
           {
            "colorbar": {
             "outlinewidth": 0,
             "ticks": ""
            },
            "colorscale": [
             [
              0,
              "#0d0887"
             ],
             [
              0.1111111111111111,
              "#46039f"
             ],
             [
              0.2222222222222222,
              "#7201a8"
             ],
             [
              0.3333333333333333,
              "#9c179e"
             ],
             [
              0.4444444444444444,
              "#bd3786"
             ],
             [
              0.5555555555555556,
              "#d8576b"
             ],
             [
              0.6666666666666666,
              "#ed7953"
             ],
             [
              0.7777777777777778,
              "#fb9f3a"
             ],
             [
              0.8888888888888888,
              "#fdca26"
             ],
             [
              1,
              "#f0f921"
             ]
            ],
            "type": "heatmapgl"
           }
          ],
          "histogram": [
           {
            "marker": {
             "pattern": {
              "fillmode": "overlay",
              "size": 10,
              "solidity": 0.2
             }
            },
            "type": "histogram"
           }
          ],
          "histogram2d": [
           {
            "colorbar": {
             "outlinewidth": 0,
             "ticks": ""
            },
            "colorscale": [
             [
              0,
              "#0d0887"
             ],
             [
              0.1111111111111111,
              "#46039f"
             ],
             [
              0.2222222222222222,
              "#7201a8"
             ],
             [
              0.3333333333333333,
              "#9c179e"
             ],
             [
              0.4444444444444444,
              "#bd3786"
             ],
             [
              0.5555555555555556,
              "#d8576b"
             ],
             [
              0.6666666666666666,
              "#ed7953"
             ],
             [
              0.7777777777777778,
              "#fb9f3a"
             ],
             [
              0.8888888888888888,
              "#fdca26"
             ],
             [
              1,
              "#f0f921"
             ]
            ],
            "type": "histogram2d"
           }
          ],
          "histogram2dcontour": [
           {
            "colorbar": {
             "outlinewidth": 0,
             "ticks": ""
            },
            "colorscale": [
             [
              0,
              "#0d0887"
             ],
             [
              0.1111111111111111,
              "#46039f"
             ],
             [
              0.2222222222222222,
              "#7201a8"
             ],
             [
              0.3333333333333333,
              "#9c179e"
             ],
             [
              0.4444444444444444,
              "#bd3786"
             ],
             [
              0.5555555555555556,
              "#d8576b"
             ],
             [
              0.6666666666666666,
              "#ed7953"
             ],
             [
              0.7777777777777778,
              "#fb9f3a"
             ],
             [
              0.8888888888888888,
              "#fdca26"
             ],
             [
              1,
              "#f0f921"
             ]
            ],
            "type": "histogram2dcontour"
           }
          ],
          "mesh3d": [
           {
            "colorbar": {
             "outlinewidth": 0,
             "ticks": ""
            },
            "type": "mesh3d"
           }
          ],
          "parcoords": [
           {
            "line": {
             "colorbar": {
              "outlinewidth": 0,
              "ticks": ""
             }
            },
            "type": "parcoords"
           }
          ],
          "pie": [
           {
            "automargin": true,
            "type": "pie"
           }
          ],
          "scatter": [
           {
            "fillpattern": {
             "fillmode": "overlay",
             "size": 10,
             "solidity": 0.2
            },
            "type": "scatter"
           }
          ],
          "scatter3d": [
           {
            "line": {
             "colorbar": {
              "outlinewidth": 0,
              "ticks": ""
             }
            },
            "marker": {
             "colorbar": {
              "outlinewidth": 0,
              "ticks": ""
             }
            },
            "type": "scatter3d"
           }
          ],
          "scattercarpet": [
           {
            "marker": {
             "colorbar": {
              "outlinewidth": 0,
              "ticks": ""
             }
            },
            "type": "scattercarpet"
           }
          ],
          "scattergeo": [
           {
            "marker": {
             "colorbar": {
              "outlinewidth": 0,
              "ticks": ""
             }
            },
            "type": "scattergeo"
           }
          ],
          "scattergl": [
           {
            "marker": {
             "colorbar": {
              "outlinewidth": 0,
              "ticks": ""
             }
            },
            "type": "scattergl"
           }
          ],
          "scattermapbox": [
           {
            "marker": {
             "colorbar": {
              "outlinewidth": 0,
              "ticks": ""
             }
            },
            "type": "scattermapbox"
           }
          ],
          "scatterpolar": [
           {
            "marker": {
             "colorbar": {
              "outlinewidth": 0,
              "ticks": ""
             }
            },
            "type": "scatterpolar"
           }
          ],
          "scatterpolargl": [
           {
            "marker": {
             "colorbar": {
              "outlinewidth": 0,
              "ticks": ""
             }
            },
            "type": "scatterpolargl"
           }
          ],
          "scatterternary": [
           {
            "marker": {
             "colorbar": {
              "outlinewidth": 0,
              "ticks": ""
             }
            },
            "type": "scatterternary"
           }
          ],
          "surface": [
           {
            "colorbar": {
             "outlinewidth": 0,
             "ticks": ""
            },
            "colorscale": [
             [
              0,
              "#0d0887"
             ],
             [
              0.1111111111111111,
              "#46039f"
             ],
             [
              0.2222222222222222,
              "#7201a8"
             ],
             [
              0.3333333333333333,
              "#9c179e"
             ],
             [
              0.4444444444444444,
              "#bd3786"
             ],
             [
              0.5555555555555556,
              "#d8576b"
             ],
             [
              0.6666666666666666,
              "#ed7953"
             ],
             [
              0.7777777777777778,
              "#fb9f3a"
             ],
             [
              0.8888888888888888,
              "#fdca26"
             ],
             [
              1,
              "#f0f921"
             ]
            ],
            "type": "surface"
           }
          ],
          "table": [
           {
            "cells": {
             "fill": {
              "color": "#EBF0F8"
             },
             "line": {
              "color": "white"
             }
            },
            "header": {
             "fill": {
              "color": "#C8D4E3"
             },
             "line": {
              "color": "white"
             }
            },
            "type": "table"
           }
          ]
         },
         "layout": {
          "annotationdefaults": {
           "arrowcolor": "#2a3f5f",
           "arrowhead": 0,
           "arrowwidth": 1
          },
          "autotypenumbers": "strict",
          "coloraxis": {
           "colorbar": {
            "outlinewidth": 0,
            "ticks": ""
           }
          },
          "colorscale": {
           "diverging": [
            [
             0,
             "#8e0152"
            ],
            [
             0.1,
             "#c51b7d"
            ],
            [
             0.2,
             "#de77ae"
            ],
            [
             0.3,
             "#f1b6da"
            ],
            [
             0.4,
             "#fde0ef"
            ],
            [
             0.5,
             "#f7f7f7"
            ],
            [
             0.6,
             "#e6f5d0"
            ],
            [
             0.7,
             "#b8e186"
            ],
            [
             0.8,
             "#7fbc41"
            ],
            [
             0.9,
             "#4d9221"
            ],
            [
             1,
             "#276419"
            ]
           ],
           "sequential": [
            [
             0,
             "#0d0887"
            ],
            [
             0.1111111111111111,
             "#46039f"
            ],
            [
             0.2222222222222222,
             "#7201a8"
            ],
            [
             0.3333333333333333,
             "#9c179e"
            ],
            [
             0.4444444444444444,
             "#bd3786"
            ],
            [
             0.5555555555555556,
             "#d8576b"
            ],
            [
             0.6666666666666666,
             "#ed7953"
            ],
            [
             0.7777777777777778,
             "#fb9f3a"
            ],
            [
             0.8888888888888888,
             "#fdca26"
            ],
            [
             1,
             "#f0f921"
            ]
           ],
           "sequentialminus": [
            [
             0,
             "#0d0887"
            ],
            [
             0.1111111111111111,
             "#46039f"
            ],
            [
             0.2222222222222222,
             "#7201a8"
            ],
            [
             0.3333333333333333,
             "#9c179e"
            ],
            [
             0.4444444444444444,
             "#bd3786"
            ],
            [
             0.5555555555555556,
             "#d8576b"
            ],
            [
             0.6666666666666666,
             "#ed7953"
            ],
            [
             0.7777777777777778,
             "#fb9f3a"
            ],
            [
             0.8888888888888888,
             "#fdca26"
            ],
            [
             1,
             "#f0f921"
            ]
           ]
          },
          "colorway": [
           "#636efa",
           "#EF553B",
           "#00cc96",
           "#ab63fa",
           "#FFA15A",
           "#19d3f3",
           "#FF6692",
           "#B6E880",
           "#FF97FF",
           "#FECB52"
          ],
          "font": {
           "color": "#2a3f5f"
          },
          "geo": {
           "bgcolor": "white",
           "lakecolor": "white",
           "landcolor": "#E5ECF6",
           "showlakes": true,
           "showland": true,
           "subunitcolor": "white"
          },
          "hoverlabel": {
           "align": "left"
          },
          "hovermode": "closest",
          "mapbox": {
           "style": "light"
          },
          "paper_bgcolor": "white",
          "plot_bgcolor": "#E5ECF6",
          "polar": {
           "angularaxis": {
            "gridcolor": "white",
            "linecolor": "white",
            "ticks": ""
           },
           "bgcolor": "#E5ECF6",
           "radialaxis": {
            "gridcolor": "white",
            "linecolor": "white",
            "ticks": ""
           }
          },
          "scene": {
           "xaxis": {
            "backgroundcolor": "#E5ECF6",
            "gridcolor": "white",
            "gridwidth": 2,
            "linecolor": "white",
            "showbackground": true,
            "ticks": "",
            "zerolinecolor": "white"
           },
           "yaxis": {
            "backgroundcolor": "#E5ECF6",
            "gridcolor": "white",
            "gridwidth": 2,
            "linecolor": "white",
            "showbackground": true,
            "ticks": "",
            "zerolinecolor": "white"
           },
           "zaxis": {
            "backgroundcolor": "#E5ECF6",
            "gridcolor": "white",
            "gridwidth": 2,
            "linecolor": "white",
            "showbackground": true,
            "ticks": "",
            "zerolinecolor": "white"
           }
          },
          "shapedefaults": {
           "line": {
            "color": "#2a3f5f"
           }
          },
          "ternary": {
           "aaxis": {
            "gridcolor": "white",
            "linecolor": "white",
            "ticks": ""
           },
           "baxis": {
            "gridcolor": "white",
            "linecolor": "white",
            "ticks": ""
           },
           "bgcolor": "#E5ECF6",
           "caxis": {
            "gridcolor": "white",
            "linecolor": "white",
            "ticks": ""
           }
          },
          "title": {
           "x": 0.05
          },
          "xaxis": {
           "automargin": true,
           "gridcolor": "white",
           "linecolor": "white",
           "ticks": "",
           "title": {
            "standoff": 15
           },
           "zerolinecolor": "white",
           "zerolinewidth": 2
          },
          "yaxis": {
           "automargin": true,
           "gridcolor": "white",
           "linecolor": "white",
           "ticks": "",
           "title": {
            "standoff": 15
           },
           "zerolinecolor": "white",
           "zerolinewidth": 2
          }
         }
        },
        "title": {
         "text": ""
        },
        "width": 900,
        "xaxis": {
         "anchor": "y",
         "domain": [
          0,
          1
         ],
         "linecolor": "black",
         "mirror": true,
         "showline": true,
         "ticks": "outside",
         "title": {
          "text": "UMAP X"
         }
        },
        "yaxis": {
         "anchor": "x",
         "domain": [
          0,
          1
         ],
         "linecolor": "black",
         "mirror": true,
         "showline": true,
         "ticks": "outside",
         "title": {
          "text": "UMAP Y"
         }
        }
       }
      }
     },
     "metadata": {},
     "output_type": "display_data"
    }
   ],
   "source": [
    "plot_umap = combat_util.generate_x_y_umap(df_filtered, n_neighbors=n_neighbors_input, min_dist=min_dist_input, metric=metric, iterate=True, number_runs=number_of_iterations)\n",
    "combat_util.plot_tsne(plot_umap2, color_col='Metadata_Severity Class', \n",
    "                    #   split_df = False, split_column = None, np = None,\n",
    "                      hover_cols=hover_list,\n",
    "                      size=True, size_col = \"Metadata_concentration_uM\",\n",
    "                      x=\"0\", y=\"1\",\n",
    "                      error_x=\"x_err\", error_y=\"y_err\",\n",
    "                       dili_score_color=True, discrete=True,\n",
    "                       xaxis_title=\"UMAP X\", yaxis_title=\"UMAP Y\"\n",
    "                      )"
   ]
  },
  {
   "cell_type": "code",
   "execution_count": 8,
   "metadata": {},
   "outputs": [],
   "source": [
    "df_3d = combat_util.generate_x_y_umap(df_filtered, n_neighbors=n_neighbors_input, \n",
    "                                                  min_dist=min_dist_input, metric=metric, iterate=True, \n",
    "                                                  number_runs=number_of_iterations, n_components=3)"
   ]
  },
  {
   "cell_type": "code",
   "execution_count": 9,
   "metadata": {},
   "outputs": [
    {
     "data": {
      "application/vnd.plotly.v1+json": {
       "config": {
        "plotlyServerURL": "https://plot.ly",
        "toImageButtonOptions": {
         "filename": "custom_image",
         "format": "svg",
         "height": 500,
         "scale": 6,
         "width": 700
        }
       },
       "data": [
        {
         "customdata": [
          [
           "220607_092050_Plate_1",
           "B3",
           "Aspirin",
           1
          ],
          [
           "220617_090443_Plate_1",
           "D3",
           "Aspirin",
           1
          ],
          [
           "220617_090443_Plate_1",
           "C3",
           "Aspirin",
           1
          ],
          [
           "220617_090443_Plate_1",
           "B3",
           "Aspirin",
           1
          ],
          [
           "231011_183822_Plate_1",
           "B9",
           "Aspirin",
           1
          ],
          [
           "231011_183822_Plate_1",
           "B8",
           "Aspirin",
           1
          ],
          [
           "231011_183822_Plate_1",
           "B7",
           "Aspirin",
           1
          ],
          [
           "231011_183822_Plate_1",
           "B6",
           "Aspirin",
           1
          ],
          [
           "231006_132517_Plate_1",
           "G5",
           "Aspirin",
           1
          ],
          [
           "231006_132517_Plate_1",
           "G4",
           "Aspirin",
           1
          ],
          [
           "231006_132517_Plate_1",
           "G3",
           "Aspirin",
           1
          ],
          [
           "231006_132517_Plate_1",
           "G2",
           "Aspirin",
           1
          ],
          [
           "220607_092050_Plate_1",
           "D3",
           "Aspirin",
           1
          ],
          [
           "220608_152238_Plate_1",
           "B3",
           "Aspirin",
           1
          ],
          [
           "220608_152238_Plate_1",
           "D3",
           "Aspirin",
           1
          ],
          [
           "220608_152238_Plate_1",
           "C3",
           "Aspirin",
           1
          ],
          [
           "220607_092050_Plate_1",
           "C3",
           "Aspirin",
           1
          ],
          [
           "231011_183822_Plate_1",
           "B5",
           "Aspirin",
           10
          ],
          [
           "231011_183822_Plate_1",
           "B4",
           "Aspirin",
           10
          ],
          [
           "231011_183822_Plate_1",
           "B3",
           "Aspirin",
           10
          ],
          [
           "231011_183822_Plate_1",
           "B2",
           "Aspirin",
           10
          ],
          [
           "231006_132517_Plate_1",
           "G9",
           "Aspirin",
           10
          ],
          [
           "231006_132517_Plate_1",
           "G6",
           "Aspirin",
           10
          ],
          [
           "231006_132517_Plate_1",
           "G7",
           "Aspirin",
           10
          ],
          [
           "220607_092050_Plate_1",
           "B4",
           "Aspirin",
           10
          ],
          [
           "231006_132517_Plate_1",
           "G8",
           "Aspirin",
           10
          ],
          [
           "220607_092050_Plate_1",
           "C4",
           "Aspirin",
           10
          ],
          [
           "220607_092050_Plate_1",
           "D4",
           "Aspirin",
           10
          ],
          [
           "220608_152238_Plate_1",
           "C4",
           "Aspirin",
           10
          ],
          [
           "220617_090443_Plate_1",
           "D4",
           "Aspirin",
           10
          ],
          [
           "220617_090443_Plate_1",
           "C4",
           "Aspirin",
           10
          ],
          [
           "220608_152238_Plate_1",
           "D4",
           "Aspirin",
           10
          ],
          [
           "220617_090443_Plate_1",
           "B4",
           "Aspirin",
           10
          ],
          [
           "220608_152238_Plate_1",
           "B4",
           "Aspirin",
           10
          ]
         ],
         "hovertemplate": "colors_plot_col=Aspirin<br>0=%{x}<br>1=%{y}<br>2=%{z}<br>Metadata_size=%{marker.size}<br>Metadata_Plate=%{customdata[0]}<br>Metadata_Well=%{customdata[1]}<br>Metadata_compound=%{customdata[2]}<br>Metadata_concentration_uM=%{customdata[3]}<extra></extra>",
         "legendgroup": "Aspirin",
         "marker": {
          "color": "#1f78b4",
          "size": [
           1,
           1,
           1,
           1,
           1,
           1,
           1,
           1,
           1,
           1,
           1,
           1,
           1,
           1,
           1,
           1,
           1,
           10,
           10,
           10,
           10,
           10,
           10,
           10,
           10,
           10,
           10,
           10,
           10,
           10,
           10,
           10,
           10,
           10
          ],
          "sizemode": "area",
          "sizeref": 0.025,
          "symbol": "circle"
         },
         "mode": "markers",
         "name": "Aspirin",
         "scene": "scene",
         "showlegend": true,
         "type": "scatter3d",
         "x": [
          -8.305233001708984,
          -5.392145156860352,
          -9.207701683044434,
          -7.506040573120117,
          -7.924681186676025,
          -6.373742580413818,
          -5.850465297698975,
          -5.353704929351807,
          -9.177547454833984,
          -7.161881923675537,
          -6.141968250274658,
          -6.044435501098633,
          -7.658570766448975,
          -8.898575782775879,
          -7.8550262451171875,
          -6.881530284881592,
          -7.111405849456787,
          -6.038999557495117,
          -5.686521530151367,
          -5.4949564933776855,
          -5.442954063415527,
          -7.294435024261475,
          -7.492985248565674,
          -6.865499973297119,
          -8.384703636169434,
          -6.35549259185791,
          -7.847183704376221,
          -7.855266094207764,
          -7.896992206573486,
          -8.096369743347168,
          -6.941850662231445,
          -7.686662197113037,
          -7.879257678985596,
          -8.518723487854004
         ],
         "y": [
          10.5156888961792,
          10.035767555236816,
          11.228682518005371,
          11.361628532409668,
          10.624955177307129,
          13.501453399658203,
          12.96106243133545,
          13.750865936279297,
          10.327073097229004,
          11.301555633544922,
          10.900158882141113,
          11.02488899230957,
          8.916019439697266,
          11.245861053466797,
          8.904526710510254,
          12.519155502319336,
          12.38427448272705,
          13.477943420410156,
          13.153275489807129,
          13.298508644104004,
          13.619217872619629,
          9.462601661682129,
          11.607133865356445,
          11.317330360412598,
          10.221695899963379,
          11.271905899047852,
          11.019096374511719,
          8.995055198669434,
          9.581071853637695,
          9.026869773864746,
          9.35112190246582,
          9.672306060791016,
          11.738350868225098,
          11.40882682800293
         ],
         "z": [
          13.448073387145996,
          10.707642555236816,
          11.707157135009766,
          13.703412055969238,
          12.411304473876953,
          12.565786361694336,
          12.730883598327637,
          11.873858451843262,
          11.079781532287598,
          12.292530059814453,
          11.297808647155762,
          11.178644180297852,
          10.312561988830566,
          13.04777717590332,
          10.882004737854004,
          11.569942474365234,
          12.114340782165527,
          11.934369087219238,
          11.831053733825684,
          11.408638000488281,
          11.48289680480957,
          12.812007904052734,
          12.058022499084473,
          12.421436309814453,
          12.903641700744629,
          13.149291038513184,
          12.084299087524414,
          10.706786155700684,
          10.232166290283203,
          12.264774322509766,
          12.510741233825684,
          11.593069076538086,
          13.703900337219238,
          13.210575103759766
         ]
        },
        {
         "customdata": [
          [
           "231006_132517_Plate_1",
           "C10",
           "Cyclophosphamide",
           1
          ],
          [
           "231006_132517_Plate_1",
           "B10",
           "Cyclophosphamide",
           1
          ],
          [
           "220617_090443_Plate_1",
           "D7",
           "Cyclophosphamide",
           1
          ],
          [
           "220617_090443_Plate_1",
           "C7",
           "Cyclophosphamide",
           1
          ],
          [
           "220617_090443_Plate_1",
           "B7",
           "Cyclophosphamide",
           1
          ],
          [
           "231006_132517_Plate_1",
           "D10",
           "Cyclophosphamide",
           1
          ],
          [
           "231011_183822_Plate_1",
           "C9",
           "Cyclophosphamide",
           1
          ],
          [
           "231011_183822_Plate_1",
           "C8",
           "Cyclophosphamide",
           1
          ],
          [
           "231011_183822_Plate_1",
           "C7",
           "Cyclophosphamide",
           1
          ],
          [
           "231011_183822_Plate_1",
           "C6",
           "Cyclophosphamide",
           1
          ],
          [
           "231006_132517_Plate_1",
           "E10",
           "Cyclophosphamide",
           1
          ],
          [
           "220608_152238_Plate_1",
           "C7",
           "Cyclophosphamide",
           1
          ],
          [
           "220607_092050_Plate_1",
           "C7",
           "Cyclophosphamide",
           1
          ],
          [
           "220608_152238_Plate_1",
           "B7",
           "Cyclophosphamide",
           1
          ],
          [
           "220607_092050_Plate_1",
           "D7",
           "Cyclophosphamide",
           1
          ],
          [
           "220608_152238_Plate_1",
           "D7",
           "Cyclophosphamide",
           1
          ],
          [
           "220607_092050_Plate_1",
           "B7",
           "Cyclophosphamide",
           1
          ],
          [
           "220607_092050_Plate_1",
           "D8",
           "Cyclophosphamide",
           10
          ],
          [
           "220607_092050_Plate_1",
           "B8",
           "Cyclophosphamide",
           10
          ],
          [
           "231006_132517_Plate_1",
           "E11",
           "Cyclophosphamide",
           10
          ],
          [
           "220607_092050_Plate_1",
           "C8",
           "Cyclophosphamide",
           10
          ],
          [
           "231011_183822_Plate_1",
           "C5",
           "Cyclophosphamide",
           10
          ],
          [
           "231011_183822_Plate_1",
           "C4",
           "Cyclophosphamide",
           10
          ],
          [
           "231011_183822_Plate_1",
           "C3",
           "Cyclophosphamide",
           10
          ],
          [
           "231011_183822_Plate_1",
           "C2",
           "Cyclophosphamide",
           10
          ],
          [
           "220617_090443_Plate_1",
           "D8",
           "Cyclophosphamide",
           10
          ],
          [
           "220608_152238_Plate_1",
           "C8",
           "Cyclophosphamide",
           10
          ],
          [
           "220617_090443_Plate_1",
           "C8",
           "Cyclophosphamide",
           10
          ],
          [
           "220617_090443_Plate_1",
           "B8",
           "Cyclophosphamide",
           10
          ],
          [
           "220608_152238_Plate_1",
           "D8",
           "Cyclophosphamide",
           10
          ],
          [
           "231006_132517_Plate_1",
           "D11",
           "Cyclophosphamide",
           10
          ],
          [
           "231006_132517_Plate_1",
           "C11",
           "Cyclophosphamide",
           10
          ],
          [
           "231006_132517_Plate_1",
           "B11",
           "Cyclophosphamide",
           10
          ],
          [
           "220608_152238_Plate_1",
           "B8",
           "Cyclophosphamide",
           10
          ]
         ],
         "hovertemplate": "colors_plot_col=Cyclophosphamide<br>0=%{x}<br>1=%{y}<br>2=%{z}<br>Metadata_size=%{marker.size}<br>Metadata_Plate=%{customdata[0]}<br>Metadata_Well=%{customdata[1]}<br>Metadata_compound=%{customdata[2]}<br>Metadata_concentration_uM=%{customdata[3]}<extra></extra>",
         "legendgroup": "Cyclophosphamide",
         "marker": {
          "color": "#9467bd",
          "size": [
           1,
           1,
           1,
           1,
           1,
           1,
           1,
           1,
           1,
           1,
           1,
           1,
           1,
           1,
           1,
           1,
           1,
           10,
           10,
           10,
           10,
           10,
           10,
           10,
           10,
           10,
           10,
           10,
           10,
           10,
           10,
           10,
           10,
           10
          ],
          "sizemode": "area",
          "sizeref": 0.025,
          "symbol": "circle"
         },
         "mode": "markers",
         "name": "Cyclophosphamide",
         "scene": "scene",
         "showlegend": true,
         "type": "scatter3d",
         "x": [
          -5.570123672485352,
          -6.094824314117432,
          -8.469600677490234,
          -8.565443992614746,
          -7.179072856903076,
          -7.445378303527832,
          -5.871372699737549,
          -7.100708484649658,
          -5.629856586456299,
          -8.183819770812988,
          -7.161561489105225,
          -9.401659965515137,
          -8.408995628356934,
          -8.832210540771484,
          -8.86082649230957,
          -7.048955917358398,
          -7.894550800323486,
          -8.503905296325684,
          -8.470158576965332,
          -5.867883682250977,
          -9.007551193237305,
          -5.926539897918701,
          -6.590106964111328,
          -5.885477066040039,
          -6.371954441070557,
          -8.216753959655762,
          -9.13667106628418,
          -8.801618576049805,
          -7.715106964111328,
          -7.842121601104736,
          -6.434636116027832,
          -6.607098579406738,
          -5.869146347045898,
          -8.591294288635254
         ],
         "y": [
          12.290488243103027,
          12.404187202453613,
          9.148913383483887,
          9.875073432922363,
          12.376965522766113,
          10.426026344299316,
          13.301719665527344,
          11.460884094238281,
          13.670785903930664,
          9.599974632263184,
          10.260178565979004,
          10.839359283447266,
          9.292545318603516,
          10.822032928466797,
          9.473567962646484,
          9.053223609924316,
          11.056880950927734,
          9.002933502197266,
          10.826900482177734,
          11.049927711486816,
          10.855669021606445,
          13.650511741638184,
          12.98327922821045,
          13.297228813171387,
          12.69438362121582,
          9.285889625549316,
          10.0333890914917,
          9.637694358825684,
          11.477184295654297,
          9.183886528015137,
          9.734801292419434,
          13.153772354125977,
          11.745601654052734,
          10.99754524230957
         ],
         "z": [
          13.578743934631348,
          12.643514633178711,
          11.613568305969238,
          10.690108299255371,
          13.715699195861816,
          12.472461700439453,
          12.91276741027832,
          13.169790267944336,
          12.400525093078613,
          12.428873062133789,
          11.022383689880371,
          11.269410133361816,
          10.759963035583496,
          12.88422966003418,
          11.289726257324219,
          11.905111312866211,
          13.102185249328613,
          12.209921836853027,
          13.44494342803955,
          12.091190338134766,
          11.220104217529297,
          12.921957969665527,
          13.277220726013184,
          13.519372940063477,
          13.889482498168945,
          11.82311725616455,
          11.38157844543457,
          11.704144477844238,
          12.967369079589844,
          12.035449028015137,
          12.084433555603027,
          11.689220428466797,
          12.954968452453613,
          12.438803672790527
         ]
        },
        {
         "customdata": [
          [
           "231006_132517_Plate_1",
           "C5",
           "Lovastatin",
           1
          ],
          [
           "231006_132517_Plate_1",
           "C4",
           "Lovastatin",
           1
          ],
          [
           "231006_132517_Plate_1",
           "C3",
           "Lovastatin",
           1
          ],
          [
           "231006_132517_Plate_1",
           "C2",
           "Lovastatin",
           1
          ],
          [
           "220617_090443_Plate_1",
           "G3",
           "Lovastatin",
           1
          ],
          [
           "231011_183822_Plate_1",
           "G10",
           "Lovastatin",
           1
          ],
          [
           "220617_090443_Plate_1",
           "E3",
           "Lovastatin",
           1
          ],
          [
           "220608_152238_Plate_1",
           "G3",
           "Lovastatin",
           1
          ],
          [
           "231011_183822_Plate_1",
           "F10",
           "Lovastatin",
           1
          ],
          [
           "231011_183822_Plate_1",
           "E10",
           "Lovastatin",
           1
          ],
          [
           "231011_183822_Plate_1",
           "D10",
           "Lovastatin",
           1
          ],
          [
           "220608_152238_Plate_1",
           "F3",
           "Lovastatin",
           1
          ],
          [
           "220617_090443_Plate_1",
           "F3",
           "Lovastatin",
           1
          ],
          [
           "220607_092050_Plate_1",
           "F3",
           "Lovastatin",
           1
          ],
          [
           "220607_092050_Plate_1",
           "G3",
           "Lovastatin",
           1
          ],
          [
           "220608_152238_Plate_1",
           "E3",
           "Lovastatin",
           1
          ],
          [
           "220607_092050_Plate_1",
           "E3",
           "Lovastatin",
           1
          ],
          [
           "231011_183822_Plate_1",
           "D11",
           "Lovastatin",
           10
          ],
          [
           "231011_183822_Plate_1",
           "E11",
           "Lovastatin",
           10
          ],
          [
           "231011_183822_Plate_1",
           "F11",
           "Lovastatin",
           10
          ],
          [
           "220608_152238_Plate_1",
           "E4",
           "Lovastatin",
           10
          ],
          [
           "220608_152238_Plate_1",
           "G4",
           "Lovastatin",
           10
          ],
          [
           "220608_152238_Plate_1",
           "F4",
           "Lovastatin",
           10
          ],
          [
           "220617_090443_Plate_1",
           "E4",
           "Lovastatin",
           10
          ],
          [
           "220607_092050_Plate_1",
           "E4",
           "Lovastatin",
           10
          ],
          [
           "220607_092050_Plate_1",
           "F4",
           "Lovastatin",
           10
          ],
          [
           "231006_132517_Plate_1",
           "C9",
           "Lovastatin",
           10
          ],
          [
           "231006_132517_Plate_1",
           "C8",
           "Lovastatin",
           10
          ],
          [
           "231006_132517_Plate_1",
           "C7",
           "Lovastatin",
           10
          ],
          [
           "231006_132517_Plate_1",
           "C6",
           "Lovastatin",
           10
          ],
          [
           "220607_092050_Plate_1",
           "G4",
           "Lovastatin",
           10
          ],
          [
           "220617_090443_Plate_1",
           "G4",
           "Lovastatin",
           10
          ],
          [
           "220617_090443_Plate_1",
           "F4",
           "Lovastatin",
           10
          ],
          [
           "231011_183822_Plate_1",
           "G11",
           "Lovastatin",
           10
          ]
         ],
         "hovertemplate": "colors_plot_col=Lovastatin<br>0=%{x}<br>1=%{y}<br>2=%{z}<br>Metadata_size=%{marker.size}<br>Metadata_Plate=%{customdata[0]}<br>Metadata_Well=%{customdata[1]}<br>Metadata_compound=%{customdata[2]}<br>Metadata_concentration_uM=%{customdata[3]}<extra></extra>",
         "legendgroup": "Lovastatin",
         "marker": {
          "color": "#8c564b",
          "size": [
           1,
           1,
           1,
           1,
           1,
           1,
           1,
           1,
           1,
           1,
           1,
           1,
           1,
           1,
           1,
           1,
           1,
           10,
           10,
           10,
           10,
           10,
           10,
           10,
           10,
           10,
           10,
           10,
           10,
           10,
           10,
           10,
           10,
           10
          ],
          "sizemode": "area",
          "sizeref": 0.025,
          "symbol": "circle"
         },
         "mode": "markers",
         "name": "Lovastatin",
         "scene": "scene",
         "showlegend": true,
         "type": "scatter3d",
         "x": [
          -6.833722114562988,
          -7.6757965087890625,
          -7.126520156860352,
          -6.776250839233398,
          -6.8758158683776855,
          -7.6717987060546875,
          -5.844079971313477,
          -6.3192548751831055,
          -7.720825672149658,
          -7.160217761993408,
          -6.006044387817383,
          -9.052507400512695,
          -5.999395847320557,
          -6.04335880279541,
          -6.467528820037842,
          -5.145500659942627,
          -5.817315101623535,
          -7.065608501434326,
          -7.188371181488037,
          -7.3671464920043945,
          -4.980318069458008,
          -5.9941816329956055,
          -5.300233840942383,
          -6.099401473999023,
          -5.989868640899658,
          -5.003385543823242,
          -7.217790126800537,
          -6.044438362121582,
          -7.102721691131592,
          -4.968635559082031,
          -7.340574741363525,
          -6.511694431304932,
          -6.116631984710693,
          -7.493631362915039
         ],
         "y": [
          12.350208282470703,
          12.224407196044922,
          10.131885528564453,
          11.648236274719238,
          11.779458999633789,
          9.455489158630371,
          12.438488960266113,
          9.550174713134766,
          10.103103637695312,
          9.951659202575684,
          11.49610710144043,
          11.619627952575684,
          12.031686782836914,
          11.78074836730957,
          11.929927825927734,
          11.778127670288086,
          12.358144760131836,
          9.722094535827637,
          10.425169944763184,
          9.43647575378418,
          13.878705978393555,
          10.42863655090332,
          11.723104476928711,
          12.278149604797363,
          11.629955291748047,
          10.862237930297852,
          12.146677017211914,
          11.429487228393555,
          11.960897445678711,
          10.387463569641113,
          11.105464935302734,
          11.047676086425781,
          11.645214080810547,
          10.124804496765137
         ],
         "z": [
          10.89307975769043,
          12.44658088684082,
          10.522290229797363,
          11.442207336425781,
          9.843062400817871,
          9.781998634338379,
          10.261475563049316,
          11.444744110107422,
          9.758560180664062,
          9.796647071838379,
          9.974491119384766,
          11.40235710144043,
          9.680054664611816,
          9.537044525146484,
          9.343387603759766,
          10.263659477233887,
          9.740344047546387,
          9.931092262268066,
          9.65373420715332,
          10.048397064208984,
          12.018383979797363,
          12.133188247680664,
          9.674301147460938,
          10.167834281921387,
          10.879694938659668,
          10.4589204788208,
          12.846512794494629,
          12.678749084472656,
          12.47294807434082,
          10.872982025146484,
          9.596920013427734,
          9.772017478942871,
          10.158019065856934,
          9.563582420349121
         ]
        },
        {
         "customdata": [
          [
           "231006_132517_Plate_1",
           "B5",
           "Amiodarone",
           1
          ],
          [
           "231006_132517_Plate_1",
           "B4",
           "Amiodarone",
           1
          ],
          [
           "231006_132517_Plate_1",
           "B3",
           "Amiodarone",
           1
          ],
          [
           "231006_132517_Plate_1",
           "B2",
           "Amiodarone",
           1
          ],
          [
           "220617_090443_Plate_1",
           "D5",
           "Amiodarone",
           1
          ],
          [
           "220617_090443_Plate_1",
           "C5",
           "Amiodarone",
           1
          ],
          [
           "220617_090443_Plate_1",
           "B5",
           "Amiodarone",
           1
          ],
          [
           "231011_183822_Plate_1",
           "E9",
           "Amiodarone",
           1
          ],
          [
           "231011_183822_Plate_1",
           "E8",
           "Amiodarone",
           1
          ],
          [
           "231011_183822_Plate_1",
           "E7",
           "Amiodarone",
           1
          ],
          [
           "231011_183822_Plate_1",
           "E6",
           "Amiodarone",
           1
          ],
          [
           "220608_152238_Plate_1",
           "C5",
           "Amiodarone",
           1
          ],
          [
           "220607_092050_Plate_1",
           "D5",
           "Amiodarone",
           1
          ],
          [
           "220608_152238_Plate_1",
           "B5",
           "Amiodarone",
           1
          ],
          [
           "220607_092050_Plate_1",
           "C5",
           "Amiodarone",
           1
          ],
          [
           "220608_152238_Plate_1",
           "D5",
           "Amiodarone",
           1
          ],
          [
           "220607_092050_Plate_1",
           "B5",
           "Amiodarone",
           1
          ],
          [
           "220607_092050_Plate_1",
           "D6",
           "Amiodarone",
           10
          ],
          [
           "220607_092050_Plate_1",
           "B6",
           "Amiodarone",
           10
          ],
          [
           "231011_183822_Plate_1",
           "E5",
           "Amiodarone",
           10
          ],
          [
           "231011_183822_Plate_1",
           "E4",
           "Amiodarone",
           10
          ],
          [
           "231011_183822_Plate_1",
           "E3",
           "Amiodarone",
           10
          ],
          [
           "231011_183822_Plate_1",
           "E2",
           "Amiodarone",
           10
          ],
          [
           "220607_092050_Plate_1",
           "C6",
           "Amiodarone",
           10
          ],
          [
           "220608_152238_Plate_1",
           "C6",
           "Amiodarone",
           10
          ],
          [
           "220617_090443_Plate_1",
           "D6",
           "Amiodarone",
           10
          ],
          [
           "220617_090443_Plate_1",
           "C6",
           "Amiodarone",
           10
          ],
          [
           "220608_152238_Plate_1",
           "D6",
           "Amiodarone",
           10
          ],
          [
           "220617_090443_Plate_1",
           "B6",
           "Amiodarone",
           10
          ],
          [
           "231006_132517_Plate_1",
           "B9",
           "Amiodarone",
           10
          ],
          [
           "231006_132517_Plate_1",
           "B8",
           "Amiodarone",
           10
          ],
          [
           "231006_132517_Plate_1",
           "B7",
           "Amiodarone",
           10
          ],
          [
           "231006_132517_Plate_1",
           "B6",
           "Amiodarone",
           10
          ],
          [
           "220608_152238_Plate_1",
           "B6",
           "Amiodarone",
           10
          ]
         ],
         "hovertemplate": "colors_plot_col=Amiodarone<br>0=%{x}<br>1=%{y}<br>2=%{z}<br>Metadata_size=%{marker.size}<br>Metadata_Plate=%{customdata[0]}<br>Metadata_Well=%{customdata[1]}<br>Metadata_compound=%{customdata[2]}<br>Metadata_concentration_uM=%{customdata[3]}<extra></extra>",
         "legendgroup": "Amiodarone",
         "marker": {
          "color": "#33a02c",
          "size": [
           1,
           1,
           1,
           1,
           1,
           1,
           1,
           1,
           1,
           1,
           1,
           1,
           1,
           1,
           1,
           1,
           1,
           10,
           10,
           10,
           10,
           10,
           10,
           10,
           10,
           10,
           10,
           10,
           10,
           10,
           10,
           10,
           10,
           10
          ],
          "sizemode": "area",
          "sizeref": 0.025,
          "symbol": "circle"
         },
         "mode": "markers",
         "name": "Amiodarone",
         "scene": "scene",
         "showlegend": true,
         "type": "scatter3d",
         "x": [
          -6.139465808868408,
          -5.221856594085693,
          -8.342544555664062,
          -8.184101104736328,
          -7.150023937225342,
          -8.372981071472168,
          -8.006409645080566,
          -4.728818893432617,
          -5.074456691741943,
          -7.591142177581787,
          -6.131170749664307,
          -8.240798950195312,
          -7.915159702301025,
          -8.957840919494629,
          -8.446734428405762,
          -7.863178730010986,
          -9.234432220458984,
          -8.728572845458984,
          -6.8352274894714355,
          -5.096930980682373,
          -8.605210304260254,
          -8.155869483947754,
          -8.476197242736816,
          -8.709717750549316,
          -8.668231010437012,
          -7.432982921600342,
          -8.236891746520996,
          -8.064499855041504,
          -5.458273410797119,
          -8.487244606018066,
          -8.163453102111816,
          -7.878480434417725,
          -8.159483909606934,
          -9.022749900817871
         ],
         "y": [
          12.619553565979004,
          10.955510139465332,
          11.601387977600098,
          11.493892669677734,
          9.140214920043945,
          9.540116310119629,
          11.131766319274902,
          13.042845726013184,
          12.752233505249023,
          9.161373138427734,
          10.132144927978516,
          10.228023529052734,
          10.106979370117188,
          10.460404396057129,
          9.945202827453613,
          9.726749420166016,
          11.112303733825684,
          9.492671966552734,
          9.931636810302734,
          10.23608684539795,
          9.756168365478516,
          10.346850395202637,
          10.133304595947266,
          9.972031593322754,
          10.648636817932129,
          9.744278907775879,
          10.466992378234863,
          10.235336303710938,
          13.603919982910156,
          10.466479301452637,
          10.312026023864746,
          10.884644508361816,
          11.027142524719238,
          10.633480072021484
         ],
         "z": [
          11.778125762939453,
          11.232189178466797,
          12.40559196472168,
          12.200722694396973,
          12.331584930419922,
          10.822198867797852,
          13.565342903137207,
          10.080623626708984,
          10.283093452453613,
          11.199640274047852,
          10.705092430114746,
          11.031058311462402,
          11.259654998779297,
          12.190011978149414,
          11.845135688781738,
          11.050118446350098,
          12.273447036743164,
          10.580928802490234,
          12.853394508361816,
          10.54487419128418,
          9.747127532958984,
          9.987074851989746,
          9.626402854919434,
          10.284987449645996,
          10.369885444641113,
          10.778032302856445,
          10.183338165283203,
          10.631839752197266,
          13.048460960388184,
          11.805126190185547,
          12.227977752685547,
          11.253292083740234,
          11.33119010925293,
          10.95884895324707
         ]
        },
        {
         "customdata": [
          [
           "220617_090443_Plate_1",
           "D9",
           "Etoposide",
           1
          ],
          [
           "220617_090443_Plate_1",
           "C9",
           "Etoposide",
           1
          ],
          [
           "220617_090443_Plate_1",
           "B9",
           "Etoposide",
           1
          ],
          [
           "231006_132517_Plate_1",
           "E2",
           "Etoposide",
           1
          ],
          [
           "231006_132517_Plate_1",
           "E4",
           "Etoposide",
           1
          ],
          [
           "231011_183822_Plate_1",
           "G9",
           "Etoposide",
           1
          ],
          [
           "231011_183822_Plate_1",
           "G8",
           "Etoposide",
           1
          ],
          [
           "231011_183822_Plate_1",
           "G7",
           "Etoposide",
           1
          ],
          [
           "231011_183822_Plate_1",
           "G6",
           "Etoposide",
           1
          ],
          [
           "231006_132517_Plate_1",
           "E5",
           "Etoposide",
           1
          ],
          [
           "231006_132517_Plate_1",
           "E3",
           "Etoposide",
           1
          ],
          [
           "220608_152238_Plate_1",
           "C9",
           "Etoposide",
           1
          ],
          [
           "220607_092050_Plate_1",
           "C9",
           "Etoposide",
           1
          ],
          [
           "220608_152238_Plate_1",
           "B9",
           "Etoposide",
           1
          ],
          [
           "220607_092050_Plate_1",
           "D9",
           "Etoposide",
           1
          ],
          [
           "220607_092050_Plate_1",
           "B9",
           "Etoposide",
           1
          ],
          [
           "220608_152238_Plate_1",
           "D9",
           "Etoposide",
           1
          ],
          [
           "231011_183822_Plate_1",
           "G5",
           "Etoposide",
           10
          ],
          [
           "220607_092050_Plate_1",
           "D10",
           "Etoposide",
           10
          ],
          [
           "231011_183822_Plate_1",
           "G4",
           "Etoposide",
           10
          ],
          [
           "231011_183822_Plate_1",
           "G3",
           "Etoposide",
           10
          ],
          [
           "220607_092050_Plate_1",
           "B10",
           "Etoposide",
           10
          ],
          [
           "220607_092050_Plate_1",
           "C10",
           "Etoposide",
           10
          ],
          [
           "231011_183822_Plate_1",
           "G2",
           "Etoposide",
           10
          ],
          [
           "231006_132517_Plate_1",
           "E8",
           "Etoposide",
           10
          ],
          [
           "220617_090443_Plate_1",
           "D10",
           "Etoposide",
           10
          ],
          [
           "220617_090443_Plate_1",
           "C10",
           "Etoposide",
           10
          ],
          [
           "220608_152238_Plate_1",
           "C10",
           "Etoposide",
           10
          ],
          [
           "220617_090443_Plate_1",
           "B10",
           "Etoposide",
           10
          ],
          [
           "220608_152238_Plate_1",
           "D10",
           "Etoposide",
           10
          ],
          [
           "231006_132517_Plate_1",
           "E9",
           "Etoposide",
           10
          ],
          [
           "231006_132517_Plate_1",
           "E7",
           "Etoposide",
           10
          ],
          [
           "231006_132517_Plate_1",
           "E6",
           "Etoposide",
           10
          ],
          [
           "220608_152238_Plate_1",
           "B10",
           "Etoposide",
           10
          ]
         ],
         "hovertemplate": "colors_plot_col=Etoposide<br>0=%{x}<br>1=%{y}<br>2=%{z}<br>Metadata_size=%{marker.size}<br>Metadata_Plate=%{customdata[0]}<br>Metadata_Well=%{customdata[1]}<br>Metadata_compound=%{customdata[2]}<br>Metadata_concentration_uM=%{customdata[3]}<extra></extra>",
         "legendgroup": "Etoposide",
         "marker": {
          "color": "#ff7f00",
          "size": [
           1,
           1,
           1,
           1,
           1,
           1,
           1,
           1,
           1,
           1,
           1,
           1,
           1,
           1,
           1,
           1,
           1,
           10,
           10,
           10,
           10,
           10,
           10,
           10,
           10,
           10,
           10,
           10,
           10,
           10,
           10,
           10,
           10,
           10
          ],
          "sizemode": "area",
          "sizeref": 0.025,
          "symbol": "circle"
         },
         "mode": "markers",
         "name": "Etoposide",
         "scene": "scene",
         "showlegend": true,
         "type": "scatter3d",
         "x": [
          -4.6048197746276855,
          -4.612455368041992,
          -5.534585475921631,
          -4.360527515411377,
          -4.526695728302002,
          -4.363130569458008,
          -4.631437301635742,
          -5.340792655944824,
          -6.447895050048828,
          -5.232605457305908,
          -4.408967971801758,
          -4.905733108520508,
          -4.513245105743408,
          -6.745483875274658,
          -5.138268947601318,
          -5.750547409057617,
          -4.425780773162842,
          -5.097100734710693,
          -4.629083156585693,
          -4.7147297859191895,
          -4.714812755584717,
          -4.901155471801758,
          -4.849615573883057,
          -5.069495677947998,
          -4.811851501464844,
          -5.162512302398682,
          -5.431211471557617,
          -4.974464416503906,
          -5.314323902130127,
          -4.730955123901367,
          -4.6911702156066895,
          -5.9314374923706055,
          -4.871246337890625,
          -6.051354885101318
         ],
         "y": [
          10.615045547485352,
          11.312176704406738,
          11.989624977111816,
          10.7470121383667,
          10.52556037902832,
          10.659501075744629,
          10.423274993896484,
          10.468073844909668,
          10.838191986083984,
          11.125567436218262,
          10.62504768371582,
          11.584033966064453,
          11.482709884643555,
          10.940229415893555,
          10.743839263916016,
          11.225763320922852,
          10.705144882202148,
          10.761963844299316,
          11.251827239990234,
          10.988407135009766,
          11.674151420593262,
          12.082642555236816,
          12.221639633178711,
          11.096434593200684,
          11.066340446472168,
          11.13697624206543,
          11.399547576904297,
          11.82835578918457,
          11.696207046508789,
          10.967777252197266,
          11.745960235595703,
          11.503732681274414,
          11.419475555419922,
          10.685001373291016
         ],
         "z": [
          13.465444564819336,
          13.93868637084961,
          14.24462604522705,
          13.962525367736816,
          10.938977241516113,
          13.212812423706055,
          12.88073444366455,
          12.852210998535156,
          11.608196258544922,
          14.801392555236816,
          11.144275665283203,
          14.60632038116455,
          13.808104515075684,
          13.719229698181152,
          14.192270278930664,
          14.309703826904297,
          13.972167015075684,
          12.719518661499023,
          14.341876983642578,
          12.877084732055664,
          13.223066329956055,
          13.649572372436523,
          14.088947296142578,
          13.131629943847656,
          14.807650566101074,
          13.569493293762207,
          14.007203102111816,
          13.74752426147461,
          14.344368934631348,
          14.32080364227295,
          14.702271461486816,
          13.996459007263184,
          14.96325969696045,
          13.607139587402344
         ]
        },
        {
         "customdata": [
          [
           "231006_132517_Plate_1",
           "F9",
           "Orphenadrine",
           10
          ],
          [
           "231006_132517_Plate_1",
           "F8",
           "Orphenadrine",
           10
          ],
          [
           "231006_132517_Plate_1",
           "F7",
           "Orphenadrine",
           10
          ],
          [
           "231006_132517_Plate_1",
           "F6",
           "Orphenadrine",
           10
          ],
          [
           "231011_183822_Plate_1",
           "D5",
           "Orphenadrine",
           10
          ],
          [
           "231011_183822_Plate_1",
           "D4",
           "Orphenadrine",
           10
          ],
          [
           "231011_183822_Plate_1",
           "D3",
           "Orphenadrine",
           10
          ],
          [
           "231011_183822_Plate_1",
           "D2",
           "Orphenadrine",
           10
          ],
          [
           "220608_152238_Plate_1",
           "G6",
           "Orphenadrine",
           10
          ],
          [
           "220608_152238_Plate_1",
           "F6",
           "Orphenadrine",
           10
          ],
          [
           "220608_152238_Plate_1",
           "E6",
           "Orphenadrine",
           10
          ],
          [
           "220617_090443_Plate_1",
           "E6",
           "Orphenadrine",
           10
          ],
          [
           "220617_090443_Plate_1",
           "F6",
           "Orphenadrine",
           10
          ],
          [
           "220607_092050_Plate_1",
           "E6",
           "Orphenadrine",
           10
          ],
          [
           "220607_092050_Plate_1",
           "F6",
           "Orphenadrine",
           10
          ],
          [
           "220607_092050_Plate_1",
           "G6",
           "Orphenadrine",
           10
          ],
          [
           "220617_090443_Plate_1",
           "G6",
           "Orphenadrine",
           10
          ]
         ],
         "hovertemplate": "colors_plot_col=Orphenadrine<br>0=%{x}<br>1=%{y}<br>2=%{z}<br>Metadata_size=%{marker.size}<br>Metadata_Plate=%{customdata[0]}<br>Metadata_Well=%{customdata[1]}<br>Metadata_compound=%{customdata[2]}<br>Metadata_concentration_uM=%{customdata[3]}<extra></extra>",
         "legendgroup": "Orphenadrine",
         "marker": {
          "color": "#e377c2",
          "size": [
           10,
           10,
           10,
           10,
           10,
           10,
           10,
           10,
           10,
           10,
           10,
           10,
           10,
           10,
           10,
           10,
           10
          ],
          "sizemode": "area",
          "sizeref": 0.025,
          "symbol": "circle"
         },
         "mode": "markers",
         "name": "Orphenadrine",
         "scene": "scene",
         "showlegend": true,
         "type": "scatter3d",
         "x": [
          -4.079038619995117,
          -4.027108669281006,
          -4.046663761138916,
          -4.357351779937744,
          -3.853365182876587,
          -3.885801315307617,
          -3.8653876781463623,
          -4.315002918243408,
          -4.448005199432373,
          -4.023702621459961,
          -4.419058799743652,
          -4.203390598297119,
          -4.139129161834717,
          -4.406609058380127,
          -3.9225845336914062,
          -3.8984062671661377,
          -4.008018970489502
         ],
         "y": [
          11.50221061706543,
          11.787432670593262,
          11.483272552490234,
          11.565428733825684,
          13.098387718200684,
          13.452549934387207,
          13.133094787597656,
          12.986584663391113,
          12.500892639160156,
          12.709973335266113,
          13.432140350341797,
          13.412973403930664,
          12.369955062866211,
          13.622915267944336,
          12.167194366455078,
          12.231972694396973,
          12.653443336486816
         ],
         "z": [
          9.677566528320312,
          9.478194236755371,
          10.050472259521484,
          10.062129974365234,
          10.106307983398438,
          10.551102638244629,
          10.176440238952637,
          9.995652198791504,
          9.47685432434082,
          10.297717094421387,
          10.875065803527832,
          10.700017929077148,
          10.015445709228516,
          11.1363525390625,
          9.821667671203613,
          9.56926155090332,
          9.744982719421387
         ]
        }
       ],
       "layout": {
        "autosize": false,
        "font": {
         "size": 18
        },
        "height": 700,
        "legend": {
         "itemsizing": "constant",
         "title": {
          "text": "Metadata_compound"
         },
         "tracegroupgap": 0
        },
        "margin": {
         "b": 20,
         "l": 50,
         "pad": 4,
         "r": 50,
         "t": 50
        },
        "scene": {
         "domain": {
          "x": [
           0,
           1
          ],
          "y": [
           0,
           1
          ]
         },
         "xaxis": {
          "title": {
           "text": "0"
          }
         },
         "yaxis": {
          "title": {
           "text": "1"
          }
         },
         "zaxis": {
          "title": {
           "text": "2"
          }
         }
        },
        "template": {
         "data": {
          "bar": [
           {
            "error_x": {
             "color": "#2a3f5f"
            },
            "error_y": {
             "color": "#2a3f5f"
            },
            "marker": {
             "line": {
              "color": "#E5ECF6",
              "width": 0.5
             },
             "pattern": {
              "fillmode": "overlay",
              "size": 10,
              "solidity": 0.2
             }
            },
            "type": "bar"
           }
          ],
          "barpolar": [
           {
            "marker": {
             "line": {
              "color": "#E5ECF6",
              "width": 0.5
             },
             "pattern": {
              "fillmode": "overlay",
              "size": 10,
              "solidity": 0.2
             }
            },
            "type": "barpolar"
           }
          ],
          "carpet": [
           {
            "aaxis": {
             "endlinecolor": "#2a3f5f",
             "gridcolor": "white",
             "linecolor": "white",
             "minorgridcolor": "white",
             "startlinecolor": "#2a3f5f"
            },
            "baxis": {
             "endlinecolor": "#2a3f5f",
             "gridcolor": "white",
             "linecolor": "white",
             "minorgridcolor": "white",
             "startlinecolor": "#2a3f5f"
            },
            "type": "carpet"
           }
          ],
          "choropleth": [
           {
            "colorbar": {
             "outlinewidth": 0,
             "ticks": ""
            },
            "type": "choropleth"
           }
          ],
          "contour": [
           {
            "colorbar": {
             "outlinewidth": 0,
             "ticks": ""
            },
            "colorscale": [
             [
              0,
              "#0d0887"
             ],
             [
              0.1111111111111111,
              "#46039f"
             ],
             [
              0.2222222222222222,
              "#7201a8"
             ],
             [
              0.3333333333333333,
              "#9c179e"
             ],
             [
              0.4444444444444444,
              "#bd3786"
             ],
             [
              0.5555555555555556,
              "#d8576b"
             ],
             [
              0.6666666666666666,
              "#ed7953"
             ],
             [
              0.7777777777777778,
              "#fb9f3a"
             ],
             [
              0.8888888888888888,
              "#fdca26"
             ],
             [
              1,
              "#f0f921"
             ]
            ],
            "type": "contour"
           }
          ],
          "contourcarpet": [
           {
            "colorbar": {
             "outlinewidth": 0,
             "ticks": ""
            },
            "type": "contourcarpet"
           }
          ],
          "heatmap": [
           {
            "colorbar": {
             "outlinewidth": 0,
             "ticks": ""
            },
            "colorscale": [
             [
              0,
              "#0d0887"
             ],
             [
              0.1111111111111111,
              "#46039f"
             ],
             [
              0.2222222222222222,
              "#7201a8"
             ],
             [
              0.3333333333333333,
              "#9c179e"
             ],
             [
              0.4444444444444444,
              "#bd3786"
             ],
             [
              0.5555555555555556,
              "#d8576b"
             ],
             [
              0.6666666666666666,
              "#ed7953"
             ],
             [
              0.7777777777777778,
              "#fb9f3a"
             ],
             [
              0.8888888888888888,
              "#fdca26"
             ],
             [
              1,
              "#f0f921"
             ]
            ],
            "type": "heatmap"
           }
          ],
          "heatmapgl": [
           {
            "colorbar": {
             "outlinewidth": 0,
             "ticks": ""
            },
            "colorscale": [
             [
              0,
              "#0d0887"
             ],
             [
              0.1111111111111111,
              "#46039f"
             ],
             [
              0.2222222222222222,
              "#7201a8"
             ],
             [
              0.3333333333333333,
              "#9c179e"
             ],
             [
              0.4444444444444444,
              "#bd3786"
             ],
             [
              0.5555555555555556,
              "#d8576b"
             ],
             [
              0.6666666666666666,
              "#ed7953"
             ],
             [
              0.7777777777777778,
              "#fb9f3a"
             ],
             [
              0.8888888888888888,
              "#fdca26"
             ],
             [
              1,
              "#f0f921"
             ]
            ],
            "type": "heatmapgl"
           }
          ],
          "histogram": [
           {
            "marker": {
             "pattern": {
              "fillmode": "overlay",
              "size": 10,
              "solidity": 0.2
             }
            },
            "type": "histogram"
           }
          ],
          "histogram2d": [
           {
            "colorbar": {
             "outlinewidth": 0,
             "ticks": ""
            },
            "colorscale": [
             [
              0,
              "#0d0887"
             ],
             [
              0.1111111111111111,
              "#46039f"
             ],
             [
              0.2222222222222222,
              "#7201a8"
             ],
             [
              0.3333333333333333,
              "#9c179e"
             ],
             [
              0.4444444444444444,
              "#bd3786"
             ],
             [
              0.5555555555555556,
              "#d8576b"
             ],
             [
              0.6666666666666666,
              "#ed7953"
             ],
             [
              0.7777777777777778,
              "#fb9f3a"
             ],
             [
              0.8888888888888888,
              "#fdca26"
             ],
             [
              1,
              "#f0f921"
             ]
            ],
            "type": "histogram2d"
           }
          ],
          "histogram2dcontour": [
           {
            "colorbar": {
             "outlinewidth": 0,
             "ticks": ""
            },
            "colorscale": [
             [
              0,
              "#0d0887"
             ],
             [
              0.1111111111111111,
              "#46039f"
             ],
             [
              0.2222222222222222,
              "#7201a8"
             ],
             [
              0.3333333333333333,
              "#9c179e"
             ],
             [
              0.4444444444444444,
              "#bd3786"
             ],
             [
              0.5555555555555556,
              "#d8576b"
             ],
             [
              0.6666666666666666,
              "#ed7953"
             ],
             [
              0.7777777777777778,
              "#fb9f3a"
             ],
             [
              0.8888888888888888,
              "#fdca26"
             ],
             [
              1,
              "#f0f921"
             ]
            ],
            "type": "histogram2dcontour"
           }
          ],
          "mesh3d": [
           {
            "colorbar": {
             "outlinewidth": 0,
             "ticks": ""
            },
            "type": "mesh3d"
           }
          ],
          "parcoords": [
           {
            "line": {
             "colorbar": {
              "outlinewidth": 0,
              "ticks": ""
             }
            },
            "type": "parcoords"
           }
          ],
          "pie": [
           {
            "automargin": true,
            "type": "pie"
           }
          ],
          "scatter": [
           {
            "fillpattern": {
             "fillmode": "overlay",
             "size": 10,
             "solidity": 0.2
            },
            "type": "scatter"
           }
          ],
          "scatter3d": [
           {
            "line": {
             "colorbar": {
              "outlinewidth": 0,
              "ticks": ""
             }
            },
            "marker": {
             "colorbar": {
              "outlinewidth": 0,
              "ticks": ""
             }
            },
            "type": "scatter3d"
           }
          ],
          "scattercarpet": [
           {
            "marker": {
             "colorbar": {
              "outlinewidth": 0,
              "ticks": ""
             }
            },
            "type": "scattercarpet"
           }
          ],
          "scattergeo": [
           {
            "marker": {
             "colorbar": {
              "outlinewidth": 0,
              "ticks": ""
             }
            },
            "type": "scattergeo"
           }
          ],
          "scattergl": [
           {
            "marker": {
             "colorbar": {
              "outlinewidth": 0,
              "ticks": ""
             }
            },
            "type": "scattergl"
           }
          ],
          "scattermapbox": [
           {
            "marker": {
             "colorbar": {
              "outlinewidth": 0,
              "ticks": ""
             }
            },
            "type": "scattermapbox"
           }
          ],
          "scatterpolar": [
           {
            "marker": {
             "colorbar": {
              "outlinewidth": 0,
              "ticks": ""
             }
            },
            "type": "scatterpolar"
           }
          ],
          "scatterpolargl": [
           {
            "marker": {
             "colorbar": {
              "outlinewidth": 0,
              "ticks": ""
             }
            },
            "type": "scatterpolargl"
           }
          ],
          "scatterternary": [
           {
            "marker": {
             "colorbar": {
              "outlinewidth": 0,
              "ticks": ""
             }
            },
            "type": "scatterternary"
           }
          ],
          "surface": [
           {
            "colorbar": {
             "outlinewidth": 0,
             "ticks": ""
            },
            "colorscale": [
             [
              0,
              "#0d0887"
             ],
             [
              0.1111111111111111,
              "#46039f"
             ],
             [
              0.2222222222222222,
              "#7201a8"
             ],
             [
              0.3333333333333333,
              "#9c179e"
             ],
             [
              0.4444444444444444,
              "#bd3786"
             ],
             [
              0.5555555555555556,
              "#d8576b"
             ],
             [
              0.6666666666666666,
              "#ed7953"
             ],
             [
              0.7777777777777778,
              "#fb9f3a"
             ],
             [
              0.8888888888888888,
              "#fdca26"
             ],
             [
              1,
              "#f0f921"
             ]
            ],
            "type": "surface"
           }
          ],
          "table": [
           {
            "cells": {
             "fill": {
              "color": "#EBF0F8"
             },
             "line": {
              "color": "white"
             }
            },
            "header": {
             "fill": {
              "color": "#C8D4E3"
             },
             "line": {
              "color": "white"
             }
            },
            "type": "table"
           }
          ]
         },
         "layout": {
          "annotationdefaults": {
           "arrowcolor": "#2a3f5f",
           "arrowhead": 0,
           "arrowwidth": 1
          },
          "autotypenumbers": "strict",
          "coloraxis": {
           "colorbar": {
            "outlinewidth": 0,
            "ticks": ""
           }
          },
          "colorscale": {
           "diverging": [
            [
             0,
             "#8e0152"
            ],
            [
             0.1,
             "#c51b7d"
            ],
            [
             0.2,
             "#de77ae"
            ],
            [
             0.3,
             "#f1b6da"
            ],
            [
             0.4,
             "#fde0ef"
            ],
            [
             0.5,
             "#f7f7f7"
            ],
            [
             0.6,
             "#e6f5d0"
            ],
            [
             0.7,
             "#b8e186"
            ],
            [
             0.8,
             "#7fbc41"
            ],
            [
             0.9,
             "#4d9221"
            ],
            [
             1,
             "#276419"
            ]
           ],
           "sequential": [
            [
             0,
             "#0d0887"
            ],
            [
             0.1111111111111111,
             "#46039f"
            ],
            [
             0.2222222222222222,
             "#7201a8"
            ],
            [
             0.3333333333333333,
             "#9c179e"
            ],
            [
             0.4444444444444444,
             "#bd3786"
            ],
            [
             0.5555555555555556,
             "#d8576b"
            ],
            [
             0.6666666666666666,
             "#ed7953"
            ],
            [
             0.7777777777777778,
             "#fb9f3a"
            ],
            [
             0.8888888888888888,
             "#fdca26"
            ],
            [
             1,
             "#f0f921"
            ]
           ],
           "sequentialminus": [
            [
             0,
             "#0d0887"
            ],
            [
             0.1111111111111111,
             "#46039f"
            ],
            [
             0.2222222222222222,
             "#7201a8"
            ],
            [
             0.3333333333333333,
             "#9c179e"
            ],
            [
             0.4444444444444444,
             "#bd3786"
            ],
            [
             0.5555555555555556,
             "#d8576b"
            ],
            [
             0.6666666666666666,
             "#ed7953"
            ],
            [
             0.7777777777777778,
             "#fb9f3a"
            ],
            [
             0.8888888888888888,
             "#fdca26"
            ],
            [
             1,
             "#f0f921"
            ]
           ]
          },
          "colorway": [
           "#636efa",
           "#EF553B",
           "#00cc96",
           "#ab63fa",
           "#FFA15A",
           "#19d3f3",
           "#FF6692",
           "#B6E880",
           "#FF97FF",
           "#FECB52"
          ],
          "font": {
           "color": "#2a3f5f"
          },
          "geo": {
           "bgcolor": "white",
           "lakecolor": "white",
           "landcolor": "#E5ECF6",
           "showlakes": true,
           "showland": true,
           "subunitcolor": "white"
          },
          "hoverlabel": {
           "align": "left"
          },
          "hovermode": "closest",
          "mapbox": {
           "style": "light"
          },
          "paper_bgcolor": "white",
          "plot_bgcolor": "#E5ECF6",
          "polar": {
           "angularaxis": {
            "gridcolor": "white",
            "linecolor": "white",
            "ticks": ""
           },
           "bgcolor": "#E5ECF6",
           "radialaxis": {
            "gridcolor": "white",
            "linecolor": "white",
            "ticks": ""
           }
          },
          "scene": {
           "xaxis": {
            "backgroundcolor": "#E5ECF6",
            "gridcolor": "white",
            "gridwidth": 2,
            "linecolor": "white",
            "showbackground": true,
            "ticks": "",
            "zerolinecolor": "white"
           },
           "yaxis": {
            "backgroundcolor": "#E5ECF6",
            "gridcolor": "white",
            "gridwidth": 2,
            "linecolor": "white",
            "showbackground": true,
            "ticks": "",
            "zerolinecolor": "white"
           },
           "zaxis": {
            "backgroundcolor": "#E5ECF6",
            "gridcolor": "white",
            "gridwidth": 2,
            "linecolor": "white",
            "showbackground": true,
            "ticks": "",
            "zerolinecolor": "white"
           }
          },
          "shapedefaults": {
           "line": {
            "color": "#2a3f5f"
           }
          },
          "ternary": {
           "aaxis": {
            "gridcolor": "white",
            "linecolor": "white",
            "ticks": ""
           },
           "baxis": {
            "gridcolor": "white",
            "linecolor": "white",
            "ticks": ""
           },
           "bgcolor": "#E5ECF6",
           "caxis": {
            "gridcolor": "white",
            "linecolor": "white",
            "ticks": ""
           }
          },
          "title": {
           "x": 0.05
          },
          "xaxis": {
           "automargin": true,
           "gridcolor": "white",
           "linecolor": "white",
           "ticks": "",
           "title": {
            "standoff": 15
           },
           "zerolinecolor": "white",
           "zerolinewidth": 2
          },
          "yaxis": {
           "automargin": true,
           "gridcolor": "white",
           "linecolor": "white",
           "ticks": "",
           "title": {
            "standoff": 15
           },
           "zerolinecolor": "white",
           "zerolinewidth": 2
          }
         }
        },
        "title": {
         "text": "Size defined by Metadata_concentration_uM"
        },
        "updatemenus": [
         {
          "buttons": [
           {
            "args": [
             "visible",
             "legendonly"
            ],
            "label": "Deselect All",
            "method": "restyle"
           },
           {
            "args": [
             "visible",
             true
            ],
            "label": "Select All",
            "method": "restyle"
           }
          ],
          "direction": "left",
          "pad": {
           "r": 5,
           "t": 5
          },
          "showactive": true,
          "type": "buttons",
          "x": 1,
          "xanchor": "left",
          "y": 1.1,
          "yanchor": "top"
         }
        ],
        "width": 900
       }
      }
     },
     "metadata": {},
     "output_type": "display_data"
    }
   ],
   "source": [
    "combat_util.plot_umap_3d(df_3d, color_col='Metadata_compound', \n",
    "                    #   split_df = False, split_column = None, np = None,\n",
    "                      hover_cols=hover_list,\n",
    "                      size=True, size_col = \"Metadata_concentration_uM\",\n",
    "                      # x=\"0\", y=\"1\",\n",
    "                      # error_x=\"x_err\", error_y=\"y_err\",\n",
    "                       dili_color=True\n",
    "                      )"
   ]
  },
  {
   "cell_type": "code",
   "execution_count": 11,
   "metadata": {},
   "outputs": [
    {
     "data": {
      "application/vnd.plotly.v1+json": {
       "config": {
        "plotlyServerURL": "https://plot.ly",
        "toImageButtonOptions": {
         "filename": "custom_image",
         "format": "svg",
         "height": 500,
         "scale": 6,
         "width": 700
        }
       },
       "data": [
        {
         "customdata": [
          [
           "220607_092050_Plate_1",
           "B3",
           "Aspirin",
           1
          ],
          [
           "220607_092050_Plate_1",
           "F3",
           "Lovastatin",
           1
          ],
          [
           "220607_092050_Plate_1",
           "C7",
           "Cyclophosphamide",
           1
          ],
          [
           "220607_092050_Plate_1",
           "C9",
           "Etoposide",
           1
          ],
          [
           "220607_092050_Plate_1",
           "D3",
           "Aspirin",
           1
          ],
          [
           "220607_092050_Plate_1",
           "D5",
           "Amiodarone",
           1
          ],
          [
           "220607_092050_Plate_1",
           "G3",
           "Lovastatin",
           1
          ],
          [
           "220607_092050_Plate_1",
           "D7",
           "Cyclophosphamide",
           1
          ],
          [
           "220607_092050_Plate_1",
           "D9",
           "Etoposide",
           1
          ],
          [
           "220607_092050_Plate_1",
           "C5",
           "Amiodarone",
           1
          ],
          [
           "220607_092050_Plate_1",
           "E3",
           "Lovastatin",
           1
          ],
          [
           "220607_092050_Plate_1",
           "B9",
           "Etoposide",
           1
          ],
          [
           "220607_092050_Plate_1",
           "B5",
           "Amiodarone",
           1
          ],
          [
           "220607_092050_Plate_1",
           "B7",
           "Cyclophosphamide",
           1
          ],
          [
           "220607_092050_Plate_1",
           "C3",
           "Aspirin",
           1
          ],
          [
           "220607_092050_Plate_1",
           "D6",
           "Amiodarone",
           10
          ],
          [
           "220607_092050_Plate_1",
           "B6",
           "Amiodarone",
           10
          ],
          [
           "220607_092050_Plate_1",
           "D8",
           "Cyclophosphamide",
           10
          ],
          [
           "220607_092050_Plate_1",
           "D10",
           "Etoposide",
           10
          ],
          [
           "220607_092050_Plate_1",
           "B4",
           "Aspirin",
           10
          ],
          [
           "220607_092050_Plate_1",
           "C4",
           "Aspirin",
           10
          ],
          [
           "220607_092050_Plate_1",
           "B10",
           "Etoposide",
           10
          ],
          [
           "220607_092050_Plate_1",
           "C6",
           "Amiodarone",
           10
          ],
          [
           "220607_092050_Plate_1",
           "B8",
           "Cyclophosphamide",
           10
          ],
          [
           "220607_092050_Plate_1",
           "C8",
           "Cyclophosphamide",
           10
          ],
          [
           "220607_092050_Plate_1",
           "C10",
           "Etoposide",
           10
          ],
          [
           "220607_092050_Plate_1",
           "D4",
           "Aspirin",
           10
          ],
          [
           "220607_092050_Plate_1",
           "E4",
           "Lovastatin",
           10
          ],
          [
           "220607_092050_Plate_1",
           "E6",
           "Orphenadrine",
           10
          ],
          [
           "220607_092050_Plate_1",
           "F4",
           "Lovastatin",
           10
          ],
          [
           "220607_092050_Plate_1",
           "F6",
           "Orphenadrine",
           10
          ],
          [
           "220607_092050_Plate_1",
           "G4",
           "Lovastatin",
           10
          ],
          [
           "220607_092050_Plate_1",
           "G6",
           "Orphenadrine",
           10
          ]
         ],
         "hovertemplate": "colors_plot_col=220607_092050_Plate_1<br>0=%{x}<br>1=%{y}<br>2=%{z}<br>Metadata_size=%{marker.size}<br>Metadata_Plate=%{customdata[0]}<br>Metadata_Well=%{customdata[1]}<br>Metadata_compound=%{customdata[2]}<br>Metadata_concentration_uM=%{customdata[3]}<extra></extra>",
         "legendgroup": "220607_092050_Plate_1",
         "marker": {
          "color": "rgb(12,51,131)",
          "size": [
           1,
           1,
           1,
           1,
           1,
           1,
           1,
           1,
           1,
           1,
           1,
           1,
           1,
           1,
           1,
           10,
           10,
           10,
           10,
           10,
           10,
           10,
           10,
           10,
           10,
           10,
           10,
           10,
           10,
           10,
           10,
           10,
           10
          ],
          "sizemode": "area",
          "sizeref": 0.025,
          "symbol": "circle"
         },
         "mode": "markers",
         "name": "220607_092050_Plate_1",
         "scene": "scene",
         "showlegend": true,
         "type": "scatter3d",
         "x": [
          -8.305233001708984,
          -6.04335880279541,
          -8.408995628356934,
          -4.513245105743408,
          -7.658570766448975,
          -7.915159702301025,
          -6.467528820037842,
          -8.86082649230957,
          -5.138268947601318,
          -8.446734428405762,
          -5.817315101623535,
          -5.750547409057617,
          -9.234432220458984,
          -7.894550800323486,
          -7.111405849456787,
          -8.728572845458984,
          -6.8352274894714355,
          -8.503905296325684,
          -4.629083156585693,
          -8.384703636169434,
          -7.847183704376221,
          -4.901155471801758,
          -8.709717750549316,
          -8.470158576965332,
          -9.007551193237305,
          -4.849615573883057,
          -7.855266094207764,
          -5.989868640899658,
          -4.406609058380127,
          -5.003385543823242,
          -3.9225845336914062,
          -7.340574741363525,
          -3.8984062671661377
         ],
         "y": [
          10.5156888961792,
          11.78074836730957,
          9.292545318603516,
          11.482709884643555,
          8.916019439697266,
          10.106979370117188,
          11.929927825927734,
          9.473567962646484,
          10.743839263916016,
          9.945202827453613,
          12.358144760131836,
          11.225763320922852,
          11.112303733825684,
          11.056880950927734,
          12.38427448272705,
          9.492671966552734,
          9.931636810302734,
          9.002933502197266,
          11.251827239990234,
          10.221695899963379,
          11.019096374511719,
          12.082642555236816,
          9.972031593322754,
          10.826900482177734,
          10.855669021606445,
          12.221639633178711,
          8.995055198669434,
          11.629955291748047,
          13.622915267944336,
          10.862237930297852,
          12.167194366455078,
          11.105464935302734,
          12.231972694396973
         ],
         "z": [
          13.448073387145996,
          9.537044525146484,
          10.759963035583496,
          13.808104515075684,
          10.312561988830566,
          11.259654998779297,
          9.343387603759766,
          11.289726257324219,
          14.192270278930664,
          11.845135688781738,
          9.740344047546387,
          14.309703826904297,
          12.273447036743164,
          13.102185249328613,
          12.114340782165527,
          10.580928802490234,
          12.853394508361816,
          12.209921836853027,
          14.341876983642578,
          12.903641700744629,
          12.084299087524414,
          13.649572372436523,
          10.284987449645996,
          13.44494342803955,
          11.220104217529297,
          14.088947296142578,
          10.706786155700684,
          10.879694938659668,
          11.1363525390625,
          10.4589204788208,
          9.821667671203613,
          9.596920013427734,
          9.56926155090332
         ]
        },
        {
         "customdata": [
          [
           "231006_132517_Plate_1",
           "C10",
           "Cyclophosphamide",
           1
          ],
          [
           "231006_132517_Plate_1",
           "C5",
           "Lovastatin",
           1
          ],
          [
           "231006_132517_Plate_1",
           "C4",
           "Lovastatin",
           1
          ],
          [
           "231006_132517_Plate_1",
           "C3",
           "Lovastatin",
           1
          ],
          [
           "231006_132517_Plate_1",
           "C2",
           "Lovastatin",
           1
          ],
          [
           "231006_132517_Plate_1",
           "B10",
           "Cyclophosphamide",
           1
          ],
          [
           "231006_132517_Plate_1",
           "B5",
           "Amiodarone",
           1
          ],
          [
           "231006_132517_Plate_1",
           "B4",
           "Amiodarone",
           1
          ],
          [
           "231006_132517_Plate_1",
           "B3",
           "Amiodarone",
           1
          ],
          [
           "231006_132517_Plate_1",
           "B2",
           "Amiodarone",
           1
          ],
          [
           "231006_132517_Plate_1",
           "D10",
           "Cyclophosphamide",
           1
          ],
          [
           "231006_132517_Plate_1",
           "E2",
           "Etoposide",
           1
          ],
          [
           "231006_132517_Plate_1",
           "E4",
           "Etoposide",
           1
          ],
          [
           "231006_132517_Plate_1",
           "G5",
           "Aspirin",
           1
          ],
          [
           "231006_132517_Plate_1",
           "G4",
           "Aspirin",
           1
          ],
          [
           "231006_132517_Plate_1",
           "G3",
           "Aspirin",
           1
          ],
          [
           "231006_132517_Plate_1",
           "G2",
           "Aspirin",
           1
          ],
          [
           "231006_132517_Plate_1",
           "E10",
           "Cyclophosphamide",
           1
          ],
          [
           "231006_132517_Plate_1",
           "E5",
           "Etoposide",
           1
          ],
          [
           "231006_132517_Plate_1",
           "E3",
           "Etoposide",
           1
          ],
          [
           "231006_132517_Plate_1",
           "G9",
           "Aspirin",
           10
          ],
          [
           "231006_132517_Plate_1",
           "G6",
           "Aspirin",
           10
          ],
          [
           "231006_132517_Plate_1",
           "G7",
           "Aspirin",
           10
          ],
          [
           "231006_132517_Plate_1",
           "F9",
           "Orphenadrine",
           10
          ],
          [
           "231006_132517_Plate_1",
           "F8",
           "Orphenadrine",
           10
          ],
          [
           "231006_132517_Plate_1",
           "F7",
           "Orphenadrine",
           10
          ],
          [
           "231006_132517_Plate_1",
           "F6",
           "Orphenadrine",
           10
          ],
          [
           "231006_132517_Plate_1",
           "G8",
           "Aspirin",
           10
          ],
          [
           "231006_132517_Plate_1",
           "E11",
           "Cyclophosphamide",
           10
          ],
          [
           "231006_132517_Plate_1",
           "E8",
           "Etoposide",
           10
          ],
          [
           "231006_132517_Plate_1",
           "E9",
           "Etoposide",
           10
          ],
          [
           "231006_132517_Plate_1",
           "E7",
           "Etoposide",
           10
          ],
          [
           "231006_132517_Plate_1",
           "E6",
           "Etoposide",
           10
          ],
          [
           "231006_132517_Plate_1",
           "D11",
           "Cyclophosphamide",
           10
          ],
          [
           "231006_132517_Plate_1",
           "C11",
           "Cyclophosphamide",
           10
          ],
          [
           "231006_132517_Plate_1",
           "C9",
           "Lovastatin",
           10
          ],
          [
           "231006_132517_Plate_1",
           "C8",
           "Lovastatin",
           10
          ],
          [
           "231006_132517_Plate_1",
           "C7",
           "Lovastatin",
           10
          ],
          [
           "231006_132517_Plate_1",
           "C6",
           "Lovastatin",
           10
          ],
          [
           "231006_132517_Plate_1",
           "B11",
           "Cyclophosphamide",
           10
          ],
          [
           "231006_132517_Plate_1",
           "B9",
           "Amiodarone",
           10
          ],
          [
           "231006_132517_Plate_1",
           "B8",
           "Amiodarone",
           10
          ],
          [
           "231006_132517_Plate_1",
           "B7",
           "Amiodarone",
           10
          ],
          [
           "231006_132517_Plate_1",
           "B6",
           "Amiodarone",
           10
          ]
         ],
         "hovertemplate": "colors_plot_col=231006_132517_Plate_1<br>0=%{x}<br>1=%{y}<br>2=%{z}<br>Metadata_size=%{marker.size}<br>Metadata_Plate=%{customdata[0]}<br>Metadata_Well=%{customdata[1]}<br>Metadata_compound=%{customdata[2]}<br>Metadata_concentration_uM=%{customdata[3]}<extra></extra>",
         "legendgroup": "231006_132517_Plate_1",
         "marker": {
          "color": "rgb(10,136,186)",
          "size": [
           1,
           1,
           1,
           1,
           1,
           1,
           1,
           1,
           1,
           1,
           1,
           1,
           1,
           1,
           1,
           1,
           1,
           1,
           1,
           1,
           10,
           10,
           10,
           10,
           10,
           10,
           10,
           10,
           10,
           10,
           10,
           10,
           10,
           10,
           10,
           10,
           10,
           10,
           10,
           10,
           10,
           10,
           10,
           10
          ],
          "sizemode": "area",
          "sizeref": 0.025,
          "symbol": "circle"
         },
         "mode": "markers",
         "name": "231006_132517_Plate_1",
         "scene": "scene",
         "showlegend": true,
         "type": "scatter3d",
         "x": [
          -5.570123672485352,
          -6.833722114562988,
          -7.6757965087890625,
          -7.126520156860352,
          -6.776250839233398,
          -6.094824314117432,
          -6.139465808868408,
          -5.221856594085693,
          -8.342544555664062,
          -8.184101104736328,
          -7.445378303527832,
          -4.360527515411377,
          -4.526695728302002,
          -9.177547454833984,
          -7.161881923675537,
          -6.141968250274658,
          -6.044435501098633,
          -7.161561489105225,
          -5.232605457305908,
          -4.408967971801758,
          -7.294435024261475,
          -7.492985248565674,
          -6.865499973297119,
          -4.079038619995117,
          -4.027108669281006,
          -4.046663761138916,
          -4.357351779937744,
          -6.35549259185791,
          -5.867883682250977,
          -4.811851501464844,
          -4.6911702156066895,
          -5.9314374923706055,
          -4.871246337890625,
          -6.434636116027832,
          -6.607098579406738,
          -7.217790126800537,
          -6.044438362121582,
          -7.102721691131592,
          -4.968635559082031,
          -5.869146347045898,
          -8.487244606018066,
          -8.163453102111816,
          -7.878480434417725,
          -8.159483909606934
         ],
         "y": [
          12.290488243103027,
          12.350208282470703,
          12.224407196044922,
          10.131885528564453,
          11.648236274719238,
          12.404187202453613,
          12.619553565979004,
          10.955510139465332,
          11.601387977600098,
          11.493892669677734,
          10.426026344299316,
          10.7470121383667,
          10.52556037902832,
          10.327073097229004,
          11.301555633544922,
          10.900158882141113,
          11.02488899230957,
          10.260178565979004,
          11.125567436218262,
          10.62504768371582,
          9.462601661682129,
          11.607133865356445,
          11.317330360412598,
          11.50221061706543,
          11.787432670593262,
          11.483272552490234,
          11.565428733825684,
          11.271905899047852,
          11.049927711486816,
          11.066340446472168,
          11.745960235595703,
          11.503732681274414,
          11.419475555419922,
          9.734801292419434,
          13.153772354125977,
          12.146677017211914,
          11.429487228393555,
          11.960897445678711,
          10.387463569641113,
          11.745601654052734,
          10.466479301452637,
          10.312026023864746,
          10.884644508361816,
          11.027142524719238
         ],
         "z": [
          13.578743934631348,
          10.89307975769043,
          12.44658088684082,
          10.522290229797363,
          11.442207336425781,
          12.643514633178711,
          11.778125762939453,
          11.232189178466797,
          12.40559196472168,
          12.200722694396973,
          12.472461700439453,
          13.962525367736816,
          10.938977241516113,
          11.079781532287598,
          12.292530059814453,
          11.297808647155762,
          11.178644180297852,
          11.022383689880371,
          14.801392555236816,
          11.144275665283203,
          12.812007904052734,
          12.058022499084473,
          12.421436309814453,
          9.677566528320312,
          9.478194236755371,
          10.050472259521484,
          10.062129974365234,
          13.149291038513184,
          12.091190338134766,
          14.807650566101074,
          14.702271461486816,
          13.996459007263184,
          14.96325969696045,
          12.084433555603027,
          11.689220428466797,
          12.846512794494629,
          12.678749084472656,
          12.47294807434082,
          10.872982025146484,
          12.954968452453613,
          11.805126190185547,
          12.227977752685547,
          11.253292083740234,
          11.33119010925293
         ]
        },
        {
         "customdata": [
          [
           "220617_090443_Plate_1",
           "G3",
           "Lovastatin",
           1
          ],
          [
           "220617_090443_Plate_1",
           "E3",
           "Lovastatin",
           1
          ],
          [
           "220617_090443_Plate_1",
           "D9",
           "Etoposide",
           1
          ],
          [
           "220617_090443_Plate_1",
           "D7",
           "Cyclophosphamide",
           1
          ],
          [
           "220617_090443_Plate_1",
           "D5",
           "Amiodarone",
           1
          ],
          [
           "220617_090443_Plate_1",
           "D3",
           "Aspirin",
           1
          ],
          [
           "220617_090443_Plate_1",
           "C9",
           "Etoposide",
           1
          ],
          [
           "220617_090443_Plate_1",
           "C7",
           "Cyclophosphamide",
           1
          ],
          [
           "220617_090443_Plate_1",
           "C5",
           "Amiodarone",
           1
          ],
          [
           "220617_090443_Plate_1",
           "C3",
           "Aspirin",
           1
          ],
          [
           "220617_090443_Plate_1",
           "B9",
           "Etoposide",
           1
          ],
          [
           "220617_090443_Plate_1",
           "B7",
           "Cyclophosphamide",
           1
          ],
          [
           "220617_090443_Plate_1",
           "B5",
           "Amiodarone",
           1
          ],
          [
           "220617_090443_Plate_1",
           "B3",
           "Aspirin",
           1
          ],
          [
           "220617_090443_Plate_1",
           "F3",
           "Lovastatin",
           1
          ],
          [
           "220617_090443_Plate_1",
           "D10",
           "Etoposide",
           10
          ],
          [
           "220617_090443_Plate_1",
           "D8",
           "Cyclophosphamide",
           10
          ],
          [
           "220617_090443_Plate_1",
           "D6",
           "Amiodarone",
           10
          ],
          [
           "220617_090443_Plate_1",
           "D4",
           "Aspirin",
           10
          ],
          [
           "220617_090443_Plate_1",
           "C10",
           "Etoposide",
           10
          ],
          [
           "220617_090443_Plate_1",
           "C8",
           "Cyclophosphamide",
           10
          ],
          [
           "220617_090443_Plate_1",
           "C6",
           "Amiodarone",
           10
          ],
          [
           "220617_090443_Plate_1",
           "C4",
           "Aspirin",
           10
          ],
          [
           "220617_090443_Plate_1",
           "B10",
           "Etoposide",
           10
          ],
          [
           "220617_090443_Plate_1",
           "B8",
           "Cyclophosphamide",
           10
          ],
          [
           "220617_090443_Plate_1",
           "B6",
           "Amiodarone",
           10
          ],
          [
           "220617_090443_Plate_1",
           "B4",
           "Aspirin",
           10
          ],
          [
           "220617_090443_Plate_1",
           "E4",
           "Lovastatin",
           10
          ],
          [
           "220617_090443_Plate_1",
           "E6",
           "Orphenadrine",
           10
          ],
          [
           "220617_090443_Plate_1",
           "F6",
           "Orphenadrine",
           10
          ],
          [
           "220617_090443_Plate_1",
           "G6",
           "Orphenadrine",
           10
          ],
          [
           "220617_090443_Plate_1",
           "G4",
           "Lovastatin",
           10
          ],
          [
           "220617_090443_Plate_1",
           "F4",
           "Lovastatin",
           10
          ]
         ],
         "hovertemplate": "colors_plot_col=220617_090443_Plate_1<br>0=%{x}<br>1=%{y}<br>2=%{z}<br>Metadata_size=%{marker.size}<br>Metadata_Plate=%{customdata[0]}<br>Metadata_Well=%{customdata[1]}<br>Metadata_compound=%{customdata[2]}<br>Metadata_concentration_uM=%{customdata[3]}<extra></extra>",
         "legendgroup": "220617_090443_Plate_1",
         "marker": {
          "color": "rgb(242,211,56)",
          "size": [
           1,
           1,
           1,
           1,
           1,
           1,
           1,
           1,
           1,
           1,
           1,
           1,
           1,
           1,
           1,
           10,
           10,
           10,
           10,
           10,
           10,
           10,
           10,
           10,
           10,
           10,
           10,
           10,
           10,
           10,
           10,
           10,
           10
          ],
          "sizemode": "area",
          "sizeref": 0.025,
          "symbol": "circle"
         },
         "mode": "markers",
         "name": "220617_090443_Plate_1",
         "scene": "scene",
         "showlegend": true,
         "type": "scatter3d",
         "x": [
          -6.8758158683776855,
          -5.844079971313477,
          -4.6048197746276855,
          -8.469600677490234,
          -7.150023937225342,
          -5.392145156860352,
          -4.612455368041992,
          -8.565443992614746,
          -8.372981071472168,
          -9.207701683044434,
          -5.534585475921631,
          -7.179072856903076,
          -8.006409645080566,
          -7.506040573120117,
          -5.999395847320557,
          -5.162512302398682,
          -8.216753959655762,
          -7.432982921600342,
          -8.096369743347168,
          -5.431211471557617,
          -8.801618576049805,
          -8.236891746520996,
          -6.941850662231445,
          -5.314323902130127,
          -7.715106964111328,
          -5.458273410797119,
          -7.879257678985596,
          -6.099401473999023,
          -4.203390598297119,
          -4.139129161834717,
          -4.008018970489502,
          -6.511694431304932,
          -6.116631984710693
         ],
         "y": [
          11.779458999633789,
          12.438488960266113,
          10.615045547485352,
          9.148913383483887,
          9.140214920043945,
          10.035767555236816,
          11.312176704406738,
          9.875073432922363,
          9.540116310119629,
          11.228682518005371,
          11.989624977111816,
          12.376965522766113,
          11.131766319274902,
          11.361628532409668,
          12.031686782836914,
          11.13697624206543,
          9.285889625549316,
          9.744278907775879,
          9.026869773864746,
          11.399547576904297,
          9.637694358825684,
          10.466992378234863,
          9.35112190246582,
          11.696207046508789,
          11.477184295654297,
          13.603919982910156,
          11.738350868225098,
          12.278149604797363,
          13.412973403930664,
          12.369955062866211,
          12.653443336486816,
          11.047676086425781,
          11.645214080810547
         ],
         "z": [
          9.843062400817871,
          10.261475563049316,
          13.465444564819336,
          11.613568305969238,
          12.331584930419922,
          10.707642555236816,
          13.93868637084961,
          10.690108299255371,
          10.822198867797852,
          11.707157135009766,
          14.24462604522705,
          13.715699195861816,
          13.565342903137207,
          13.703412055969238,
          9.680054664611816,
          13.569493293762207,
          11.82311725616455,
          10.778032302856445,
          12.264774322509766,
          14.007203102111816,
          11.704144477844238,
          10.183338165283203,
          12.510741233825684,
          14.344368934631348,
          12.967369079589844,
          13.048460960388184,
          13.703900337219238,
          10.167834281921387,
          10.700017929077148,
          10.015445709228516,
          9.744982719421387,
          9.772017478942871,
          10.158019065856934
         ]
        },
        {
         "customdata": [
          [
           "231011_183822_Plate_1",
           "G10",
           "Lovastatin",
           1
          ],
          [
           "231011_183822_Plate_1",
           "G9",
           "Etoposide",
           1
          ],
          [
           "231011_183822_Plate_1",
           "G8",
           "Etoposide",
           1
          ],
          [
           "231011_183822_Plate_1",
           "G7",
           "Etoposide",
           1
          ],
          [
           "231011_183822_Plate_1",
           "G6",
           "Etoposide",
           1
          ],
          [
           "231011_183822_Plate_1",
           "F10",
           "Lovastatin",
           1
          ],
          [
           "231011_183822_Plate_1",
           "E10",
           "Lovastatin",
           1
          ],
          [
           "231011_183822_Plate_1",
           "E9",
           "Amiodarone",
           1
          ],
          [
           "231011_183822_Plate_1",
           "E8",
           "Amiodarone",
           1
          ],
          [
           "231011_183822_Plate_1",
           "E7",
           "Amiodarone",
           1
          ],
          [
           "231011_183822_Plate_1",
           "E6",
           "Amiodarone",
           1
          ],
          [
           "231011_183822_Plate_1",
           "D10",
           "Lovastatin",
           1
          ],
          [
           "231011_183822_Plate_1",
           "C9",
           "Cyclophosphamide",
           1
          ],
          [
           "231011_183822_Plate_1",
           "C8",
           "Cyclophosphamide",
           1
          ],
          [
           "231011_183822_Plate_1",
           "C7",
           "Cyclophosphamide",
           1
          ],
          [
           "231011_183822_Plate_1",
           "C6",
           "Cyclophosphamide",
           1
          ],
          [
           "231011_183822_Plate_1",
           "B9",
           "Aspirin",
           1
          ],
          [
           "231011_183822_Plate_1",
           "B8",
           "Aspirin",
           1
          ],
          [
           "231011_183822_Plate_1",
           "B7",
           "Aspirin",
           1
          ],
          [
           "231011_183822_Plate_1",
           "B6",
           "Aspirin",
           1
          ],
          [
           "231011_183822_Plate_1",
           "G5",
           "Etoposide",
           10
          ],
          [
           "231011_183822_Plate_1",
           "B5",
           "Aspirin",
           10
          ],
          [
           "231011_183822_Plate_1",
           "B4",
           "Aspirin",
           10
          ],
          [
           "231011_183822_Plate_1",
           "B3",
           "Aspirin",
           10
          ],
          [
           "231011_183822_Plate_1",
           "B2",
           "Aspirin",
           10
          ],
          [
           "231011_183822_Plate_1",
           "G4",
           "Etoposide",
           10
          ],
          [
           "231011_183822_Plate_1",
           "G3",
           "Etoposide",
           10
          ],
          [
           "231011_183822_Plate_1",
           "E5",
           "Amiodarone",
           10
          ],
          [
           "231011_183822_Plate_1",
           "E4",
           "Amiodarone",
           10
          ],
          [
           "231011_183822_Plate_1",
           "E3",
           "Amiodarone",
           10
          ],
          [
           "231011_183822_Plate_1",
           "E2",
           "Amiodarone",
           10
          ],
          [
           "231011_183822_Plate_1",
           "D11",
           "Lovastatin",
           10
          ],
          [
           "231011_183822_Plate_1",
           "D5",
           "Orphenadrine",
           10
          ],
          [
           "231011_183822_Plate_1",
           "E11",
           "Lovastatin",
           10
          ],
          [
           "231011_183822_Plate_1",
           "D4",
           "Orphenadrine",
           10
          ],
          [
           "231011_183822_Plate_1",
           "D3",
           "Orphenadrine",
           10
          ],
          [
           "231011_183822_Plate_1",
           "D2",
           "Orphenadrine",
           10
          ],
          [
           "231011_183822_Plate_1",
           "F11",
           "Lovastatin",
           10
          ],
          [
           "231011_183822_Plate_1",
           "C5",
           "Cyclophosphamide",
           10
          ],
          [
           "231011_183822_Plate_1",
           "C4",
           "Cyclophosphamide",
           10
          ],
          [
           "231011_183822_Plate_1",
           "C3",
           "Cyclophosphamide",
           10
          ],
          [
           "231011_183822_Plate_1",
           "G2",
           "Etoposide",
           10
          ],
          [
           "231011_183822_Plate_1",
           "C2",
           "Cyclophosphamide",
           10
          ],
          [
           "231011_183822_Plate_1",
           "G11",
           "Lovastatin",
           10
          ]
         ],
         "hovertemplate": "colors_plot_col=231011_183822_Plate_1<br>0=%{x}<br>1=%{y}<br>2=%{z}<br>Metadata_size=%{marker.size}<br>Metadata_Plate=%{customdata[0]}<br>Metadata_Well=%{customdata[1]}<br>Metadata_compound=%{customdata[2]}<br>Metadata_concentration_uM=%{customdata[3]}<extra></extra>",
         "legendgroup": "231011_183822_Plate_1",
         "marker": {
          "color": "rgb(242,143,56)",
          "size": [
           1,
           1,
           1,
           1,
           1,
           1,
           1,
           1,
           1,
           1,
           1,
           1,
           1,
           1,
           1,
           1,
           1,
           1,
           1,
           1,
           10,
           10,
           10,
           10,
           10,
           10,
           10,
           10,
           10,
           10,
           10,
           10,
           10,
           10,
           10,
           10,
           10,
           10,
           10,
           10,
           10,
           10,
           10,
           10
          ],
          "sizemode": "area",
          "sizeref": 0.025,
          "symbol": "circle"
         },
         "mode": "markers",
         "name": "231011_183822_Plate_1",
         "scene": "scene",
         "showlegend": true,
         "type": "scatter3d",
         "x": [
          -7.6717987060546875,
          -4.363130569458008,
          -4.631437301635742,
          -5.340792655944824,
          -6.447895050048828,
          -7.720825672149658,
          -7.160217761993408,
          -4.728818893432617,
          -5.074456691741943,
          -7.591142177581787,
          -6.131170749664307,
          -6.006044387817383,
          -5.871372699737549,
          -7.100708484649658,
          -5.629856586456299,
          -8.183819770812988,
          -7.924681186676025,
          -6.373742580413818,
          -5.850465297698975,
          -5.353704929351807,
          -5.097100734710693,
          -6.038999557495117,
          -5.686521530151367,
          -5.4949564933776855,
          -5.442954063415527,
          -4.7147297859191895,
          -4.714812755584717,
          -5.096930980682373,
          -8.605210304260254,
          -8.155869483947754,
          -8.476197242736816,
          -7.065608501434326,
          -3.853365182876587,
          -7.188371181488037,
          -3.885801315307617,
          -3.8653876781463623,
          -4.315002918243408,
          -7.3671464920043945,
          -5.926539897918701,
          -6.590106964111328,
          -5.885477066040039,
          -5.069495677947998,
          -6.371954441070557,
          -7.493631362915039
         ],
         "y": [
          9.455489158630371,
          10.659501075744629,
          10.423274993896484,
          10.468073844909668,
          10.838191986083984,
          10.103103637695312,
          9.951659202575684,
          13.042845726013184,
          12.752233505249023,
          9.161373138427734,
          10.132144927978516,
          11.49610710144043,
          13.301719665527344,
          11.460884094238281,
          13.670785903930664,
          9.599974632263184,
          10.624955177307129,
          13.501453399658203,
          12.96106243133545,
          13.750865936279297,
          10.761963844299316,
          13.477943420410156,
          13.153275489807129,
          13.298508644104004,
          13.619217872619629,
          10.988407135009766,
          11.674151420593262,
          10.23608684539795,
          9.756168365478516,
          10.346850395202637,
          10.133304595947266,
          9.722094535827637,
          13.098387718200684,
          10.425169944763184,
          13.452549934387207,
          13.133094787597656,
          12.986584663391113,
          9.43647575378418,
          13.650511741638184,
          12.98327922821045,
          13.297228813171387,
          11.096434593200684,
          12.69438362121582,
          10.124804496765137
         ],
         "z": [
          9.781998634338379,
          13.212812423706055,
          12.88073444366455,
          12.852210998535156,
          11.608196258544922,
          9.758560180664062,
          9.796647071838379,
          10.080623626708984,
          10.283093452453613,
          11.199640274047852,
          10.705092430114746,
          9.974491119384766,
          12.91276741027832,
          13.169790267944336,
          12.400525093078613,
          12.428873062133789,
          12.411304473876953,
          12.565786361694336,
          12.730883598327637,
          11.873858451843262,
          12.719518661499023,
          11.934369087219238,
          11.831053733825684,
          11.408638000488281,
          11.48289680480957,
          12.877084732055664,
          13.223066329956055,
          10.54487419128418,
          9.747127532958984,
          9.987074851989746,
          9.626402854919434,
          9.931092262268066,
          10.106307983398438,
          9.65373420715332,
          10.551102638244629,
          10.176440238952637,
          9.995652198791504,
          10.048397064208984,
          12.921957969665527,
          13.277220726013184,
          13.519372940063477,
          13.131629943847656,
          13.889482498168945,
          9.563582420349121
         ]
        },
        {
         "customdata": [
          [
           "220608_152238_Plate_1",
           "G3",
           "Lovastatin",
           1
          ],
          [
           "220608_152238_Plate_1",
           "F3",
           "Lovastatin",
           1
          ],
          [
           "220608_152238_Plate_1",
           "C9",
           "Etoposide",
           1
          ],
          [
           "220608_152238_Plate_1",
           "C7",
           "Cyclophosphamide",
           1
          ],
          [
           "220608_152238_Plate_1",
           "C5",
           "Amiodarone",
           1
          ],
          [
           "220608_152238_Plate_1",
           "B9",
           "Etoposide",
           1
          ],
          [
           "220608_152238_Plate_1",
           "B7",
           "Cyclophosphamide",
           1
          ],
          [
           "220608_152238_Plate_1",
           "B5",
           "Amiodarone",
           1
          ],
          [
           "220608_152238_Plate_1",
           "B3",
           "Aspirin",
           1
          ],
          [
           "220608_152238_Plate_1",
           "E3",
           "Lovastatin",
           1
          ],
          [
           "220608_152238_Plate_1",
           "D3",
           "Aspirin",
           1
          ],
          [
           "220608_152238_Plate_1",
           "C3",
           "Aspirin",
           1
          ],
          [
           "220608_152238_Plate_1",
           "D7",
           "Cyclophosphamide",
           1
          ],
          [
           "220608_152238_Plate_1",
           "D5",
           "Amiodarone",
           1
          ],
          [
           "220608_152238_Plate_1",
           "D9",
           "Etoposide",
           1
          ],
          [
           "220608_152238_Plate_1",
           "E4",
           "Lovastatin",
           10
          ],
          [
           "220608_152238_Plate_1",
           "C4",
           "Aspirin",
           10
          ],
          [
           "220608_152238_Plate_1",
           "C6",
           "Amiodarone",
           10
          ],
          [
           "220608_152238_Plate_1",
           "C8",
           "Cyclophosphamide",
           10
          ],
          [
           "220608_152238_Plate_1",
           "C10",
           "Etoposide",
           10
          ],
          [
           "220608_152238_Plate_1",
           "D4",
           "Aspirin",
           10
          ],
          [
           "220608_152238_Plate_1",
           "D6",
           "Amiodarone",
           10
          ],
          [
           "220608_152238_Plate_1",
           "D8",
           "Cyclophosphamide",
           10
          ],
          [
           "220608_152238_Plate_1",
           "G6",
           "Orphenadrine",
           10
          ],
          [
           "220608_152238_Plate_1",
           "G4",
           "Lovastatin",
           10
          ],
          [
           "220608_152238_Plate_1",
           "F6",
           "Orphenadrine",
           10
          ],
          [
           "220608_152238_Plate_1",
           "F4",
           "Lovastatin",
           10
          ],
          [
           "220608_152238_Plate_1",
           "D10",
           "Etoposide",
           10
          ],
          [
           "220608_152238_Plate_1",
           "E6",
           "Orphenadrine",
           10
          ],
          [
           "220608_152238_Plate_1",
           "B4",
           "Aspirin",
           10
          ],
          [
           "220608_152238_Plate_1",
           "B6",
           "Amiodarone",
           10
          ],
          [
           "220608_152238_Plate_1",
           "B8",
           "Cyclophosphamide",
           10
          ],
          [
           "220608_152238_Plate_1",
           "B10",
           "Etoposide",
           10
          ]
         ],
         "hovertemplate": "colors_plot_col=220608_152238_Plate_1<br>0=%{x}<br>1=%{y}<br>2=%{z}<br>Metadata_size=%{marker.size}<br>Metadata_Plate=%{customdata[0]}<br>Metadata_Well=%{customdata[1]}<br>Metadata_compound=%{customdata[2]}<br>Metadata_concentration_uM=%{customdata[3]}<extra></extra>",
         "legendgroup": "220608_152238_Plate_1",
         "marker": {
          "color": "rgb(217,30,30)",
          "size": [
           1,
           1,
           1,
           1,
           1,
           1,
           1,
           1,
           1,
           1,
           1,
           1,
           1,
           1,
           1,
           10,
           10,
           10,
           10,
           10,
           10,
           10,
           10,
           10,
           10,
           10,
           10,
           10,
           10,
           10,
           10,
           10,
           10
          ],
          "sizemode": "area",
          "sizeref": 0.025,
          "symbol": "circle"
         },
         "mode": "markers",
         "name": "220608_152238_Plate_1",
         "scene": "scene",
         "showlegend": true,
         "type": "scatter3d",
         "x": [
          -6.3192548751831055,
          -9.052507400512695,
          -4.905733108520508,
          -9.401659965515137,
          -8.240798950195312,
          -6.745483875274658,
          -8.832210540771484,
          -8.957840919494629,
          -8.898575782775879,
          -5.145500659942627,
          -7.8550262451171875,
          -6.881530284881592,
          -7.048955917358398,
          -7.863178730010986,
          -4.425780773162842,
          -4.980318069458008,
          -7.896992206573486,
          -8.668231010437012,
          -9.13667106628418,
          -4.974464416503906,
          -7.686662197113037,
          -8.064499855041504,
          -7.842121601104736,
          -4.448005199432373,
          -5.9941816329956055,
          -4.023702621459961,
          -5.300233840942383,
          -4.730955123901367,
          -4.419058799743652,
          -8.518723487854004,
          -9.022749900817871,
          -8.591294288635254,
          -6.051354885101318
         ],
         "y": [
          9.550174713134766,
          11.619627952575684,
          11.584033966064453,
          10.839359283447266,
          10.228023529052734,
          10.940229415893555,
          10.822032928466797,
          10.460404396057129,
          11.245861053466797,
          11.778127670288086,
          8.904526710510254,
          12.519155502319336,
          9.053223609924316,
          9.726749420166016,
          10.705144882202148,
          13.878705978393555,
          9.581071853637695,
          10.648636817932129,
          10.0333890914917,
          11.82835578918457,
          9.672306060791016,
          10.235336303710938,
          9.183886528015137,
          12.500892639160156,
          10.42863655090332,
          12.709973335266113,
          11.723104476928711,
          10.967777252197266,
          13.432140350341797,
          11.40882682800293,
          10.633480072021484,
          10.99754524230957,
          10.685001373291016
         ],
         "z": [
          11.444744110107422,
          11.40235710144043,
          14.60632038116455,
          11.269410133361816,
          11.031058311462402,
          13.719229698181152,
          12.88422966003418,
          12.190011978149414,
          13.04777717590332,
          10.263659477233887,
          10.882004737854004,
          11.569942474365234,
          11.905111312866211,
          11.050118446350098,
          13.972167015075684,
          12.018383979797363,
          10.232166290283203,
          10.369885444641113,
          11.38157844543457,
          13.74752426147461,
          11.593069076538086,
          10.631839752197266,
          12.035449028015137,
          9.47685432434082,
          12.133188247680664,
          10.297717094421387,
          9.674301147460938,
          14.32080364227295,
          10.875065803527832,
          13.210575103759766,
          10.95884895324707,
          12.438803672790527,
          13.607139587402344
         ]
        }
       ],
       "layout": {
        "autosize": false,
        "font": {
         "size": 18
        },
        "height": 700,
        "legend": {
         "itemsizing": "constant",
         "title": {
          "text": "Metadata_Plate"
         },
         "tracegroupgap": 0
        },
        "margin": {
         "b": 20,
         "l": 50,
         "pad": 4,
         "r": 50,
         "t": 50
        },
        "scene": {
         "domain": {
          "x": [
           0,
           1
          ],
          "y": [
           0,
           1
          ]
         },
         "xaxis": {
          "title": {
           "text": "0"
          }
         },
         "yaxis": {
          "title": {
           "text": "1"
          }
         },
         "zaxis": {
          "title": {
           "text": "2"
          }
         }
        },
        "template": {
         "data": {
          "bar": [
           {
            "error_x": {
             "color": "#2a3f5f"
            },
            "error_y": {
             "color": "#2a3f5f"
            },
            "marker": {
             "line": {
              "color": "#E5ECF6",
              "width": 0.5
             },
             "pattern": {
              "fillmode": "overlay",
              "size": 10,
              "solidity": 0.2
             }
            },
            "type": "bar"
           }
          ],
          "barpolar": [
           {
            "marker": {
             "line": {
              "color": "#E5ECF6",
              "width": 0.5
             },
             "pattern": {
              "fillmode": "overlay",
              "size": 10,
              "solidity": 0.2
             }
            },
            "type": "barpolar"
           }
          ],
          "carpet": [
           {
            "aaxis": {
             "endlinecolor": "#2a3f5f",
             "gridcolor": "white",
             "linecolor": "white",
             "minorgridcolor": "white",
             "startlinecolor": "#2a3f5f"
            },
            "baxis": {
             "endlinecolor": "#2a3f5f",
             "gridcolor": "white",
             "linecolor": "white",
             "minorgridcolor": "white",
             "startlinecolor": "#2a3f5f"
            },
            "type": "carpet"
           }
          ],
          "choropleth": [
           {
            "colorbar": {
             "outlinewidth": 0,
             "ticks": ""
            },
            "type": "choropleth"
           }
          ],
          "contour": [
           {
            "colorbar": {
             "outlinewidth": 0,
             "ticks": ""
            },
            "colorscale": [
             [
              0,
              "#0d0887"
             ],
             [
              0.1111111111111111,
              "#46039f"
             ],
             [
              0.2222222222222222,
              "#7201a8"
             ],
             [
              0.3333333333333333,
              "#9c179e"
             ],
             [
              0.4444444444444444,
              "#bd3786"
             ],
             [
              0.5555555555555556,
              "#d8576b"
             ],
             [
              0.6666666666666666,
              "#ed7953"
             ],
             [
              0.7777777777777778,
              "#fb9f3a"
             ],
             [
              0.8888888888888888,
              "#fdca26"
             ],
             [
              1,
              "#f0f921"
             ]
            ],
            "type": "contour"
           }
          ],
          "contourcarpet": [
           {
            "colorbar": {
             "outlinewidth": 0,
             "ticks": ""
            },
            "type": "contourcarpet"
           }
          ],
          "heatmap": [
           {
            "colorbar": {
             "outlinewidth": 0,
             "ticks": ""
            },
            "colorscale": [
             [
              0,
              "#0d0887"
             ],
             [
              0.1111111111111111,
              "#46039f"
             ],
             [
              0.2222222222222222,
              "#7201a8"
             ],
             [
              0.3333333333333333,
              "#9c179e"
             ],
             [
              0.4444444444444444,
              "#bd3786"
             ],
             [
              0.5555555555555556,
              "#d8576b"
             ],
             [
              0.6666666666666666,
              "#ed7953"
             ],
             [
              0.7777777777777778,
              "#fb9f3a"
             ],
             [
              0.8888888888888888,
              "#fdca26"
             ],
             [
              1,
              "#f0f921"
             ]
            ],
            "type": "heatmap"
           }
          ],
          "heatmapgl": [
           {
            "colorbar": {
             "outlinewidth": 0,
             "ticks": ""
            },
            "colorscale": [
             [
              0,
              "#0d0887"
             ],
             [
              0.1111111111111111,
              "#46039f"
             ],
             [
              0.2222222222222222,
              "#7201a8"
             ],
             [
              0.3333333333333333,
              "#9c179e"
             ],
             [
              0.4444444444444444,
              "#bd3786"
             ],
             [
              0.5555555555555556,
              "#d8576b"
             ],
             [
              0.6666666666666666,
              "#ed7953"
             ],
             [
              0.7777777777777778,
              "#fb9f3a"
             ],
             [
              0.8888888888888888,
              "#fdca26"
             ],
             [
              1,
              "#f0f921"
             ]
            ],
            "type": "heatmapgl"
           }
          ],
          "histogram": [
           {
            "marker": {
             "pattern": {
              "fillmode": "overlay",
              "size": 10,
              "solidity": 0.2
             }
            },
            "type": "histogram"
           }
          ],
          "histogram2d": [
           {
            "colorbar": {
             "outlinewidth": 0,
             "ticks": ""
            },
            "colorscale": [
             [
              0,
              "#0d0887"
             ],
             [
              0.1111111111111111,
              "#46039f"
             ],
             [
              0.2222222222222222,
              "#7201a8"
             ],
             [
              0.3333333333333333,
              "#9c179e"
             ],
             [
              0.4444444444444444,
              "#bd3786"
             ],
             [
              0.5555555555555556,
              "#d8576b"
             ],
             [
              0.6666666666666666,
              "#ed7953"
             ],
             [
              0.7777777777777778,
              "#fb9f3a"
             ],
             [
              0.8888888888888888,
              "#fdca26"
             ],
             [
              1,
              "#f0f921"
             ]
            ],
            "type": "histogram2d"
           }
          ],
          "histogram2dcontour": [
           {
            "colorbar": {
             "outlinewidth": 0,
             "ticks": ""
            },
            "colorscale": [
             [
              0,
              "#0d0887"
             ],
             [
              0.1111111111111111,
              "#46039f"
             ],
             [
              0.2222222222222222,
              "#7201a8"
             ],
             [
              0.3333333333333333,
              "#9c179e"
             ],
             [
              0.4444444444444444,
              "#bd3786"
             ],
             [
              0.5555555555555556,
              "#d8576b"
             ],
             [
              0.6666666666666666,
              "#ed7953"
             ],
             [
              0.7777777777777778,
              "#fb9f3a"
             ],
             [
              0.8888888888888888,
              "#fdca26"
             ],
             [
              1,
              "#f0f921"
             ]
            ],
            "type": "histogram2dcontour"
           }
          ],
          "mesh3d": [
           {
            "colorbar": {
             "outlinewidth": 0,
             "ticks": ""
            },
            "type": "mesh3d"
           }
          ],
          "parcoords": [
           {
            "line": {
             "colorbar": {
              "outlinewidth": 0,
              "ticks": ""
             }
            },
            "type": "parcoords"
           }
          ],
          "pie": [
           {
            "automargin": true,
            "type": "pie"
           }
          ],
          "scatter": [
           {
            "fillpattern": {
             "fillmode": "overlay",
             "size": 10,
             "solidity": 0.2
            },
            "type": "scatter"
           }
          ],
          "scatter3d": [
           {
            "line": {
             "colorbar": {
              "outlinewidth": 0,
              "ticks": ""
             }
            },
            "marker": {
             "colorbar": {
              "outlinewidth": 0,
              "ticks": ""
             }
            },
            "type": "scatter3d"
           }
          ],
          "scattercarpet": [
           {
            "marker": {
             "colorbar": {
              "outlinewidth": 0,
              "ticks": ""
             }
            },
            "type": "scattercarpet"
           }
          ],
          "scattergeo": [
           {
            "marker": {
             "colorbar": {
              "outlinewidth": 0,
              "ticks": ""
             }
            },
            "type": "scattergeo"
           }
          ],
          "scattergl": [
           {
            "marker": {
             "colorbar": {
              "outlinewidth": 0,
              "ticks": ""
             }
            },
            "type": "scattergl"
           }
          ],
          "scattermapbox": [
           {
            "marker": {
             "colorbar": {
              "outlinewidth": 0,
              "ticks": ""
             }
            },
            "type": "scattermapbox"
           }
          ],
          "scatterpolar": [
           {
            "marker": {
             "colorbar": {
              "outlinewidth": 0,
              "ticks": ""
             }
            },
            "type": "scatterpolar"
           }
          ],
          "scatterpolargl": [
           {
            "marker": {
             "colorbar": {
              "outlinewidth": 0,
              "ticks": ""
             }
            },
            "type": "scatterpolargl"
           }
          ],
          "scatterternary": [
           {
            "marker": {
             "colorbar": {
              "outlinewidth": 0,
              "ticks": ""
             }
            },
            "type": "scatterternary"
           }
          ],
          "surface": [
           {
            "colorbar": {
             "outlinewidth": 0,
             "ticks": ""
            },
            "colorscale": [
             [
              0,
              "#0d0887"
             ],
             [
              0.1111111111111111,
              "#46039f"
             ],
             [
              0.2222222222222222,
              "#7201a8"
             ],
             [
              0.3333333333333333,
              "#9c179e"
             ],
             [
              0.4444444444444444,
              "#bd3786"
             ],
             [
              0.5555555555555556,
              "#d8576b"
             ],
             [
              0.6666666666666666,
              "#ed7953"
             ],
             [
              0.7777777777777778,
              "#fb9f3a"
             ],
             [
              0.8888888888888888,
              "#fdca26"
             ],
             [
              1,
              "#f0f921"
             ]
            ],
            "type": "surface"
           }
          ],
          "table": [
           {
            "cells": {
             "fill": {
              "color": "#EBF0F8"
             },
             "line": {
              "color": "white"
             }
            },
            "header": {
             "fill": {
              "color": "#C8D4E3"
             },
             "line": {
              "color": "white"
             }
            },
            "type": "table"
           }
          ]
         },
         "layout": {
          "annotationdefaults": {
           "arrowcolor": "#2a3f5f",
           "arrowhead": 0,
           "arrowwidth": 1
          },
          "autotypenumbers": "strict",
          "coloraxis": {
           "colorbar": {
            "outlinewidth": 0,
            "ticks": ""
           }
          },
          "colorscale": {
           "diverging": [
            [
             0,
             "#8e0152"
            ],
            [
             0.1,
             "#c51b7d"
            ],
            [
             0.2,
             "#de77ae"
            ],
            [
             0.3,
             "#f1b6da"
            ],
            [
             0.4,
             "#fde0ef"
            ],
            [
             0.5,
             "#f7f7f7"
            ],
            [
             0.6,
             "#e6f5d0"
            ],
            [
             0.7,
             "#b8e186"
            ],
            [
             0.8,
             "#7fbc41"
            ],
            [
             0.9,
             "#4d9221"
            ],
            [
             1,
             "#276419"
            ]
           ],
           "sequential": [
            [
             0,
             "#0d0887"
            ],
            [
             0.1111111111111111,
             "#46039f"
            ],
            [
             0.2222222222222222,
             "#7201a8"
            ],
            [
             0.3333333333333333,
             "#9c179e"
            ],
            [
             0.4444444444444444,
             "#bd3786"
            ],
            [
             0.5555555555555556,
             "#d8576b"
            ],
            [
             0.6666666666666666,
             "#ed7953"
            ],
            [
             0.7777777777777778,
             "#fb9f3a"
            ],
            [
             0.8888888888888888,
             "#fdca26"
            ],
            [
             1,
             "#f0f921"
            ]
           ],
           "sequentialminus": [
            [
             0,
             "#0d0887"
            ],
            [
             0.1111111111111111,
             "#46039f"
            ],
            [
             0.2222222222222222,
             "#7201a8"
            ],
            [
             0.3333333333333333,
             "#9c179e"
            ],
            [
             0.4444444444444444,
             "#bd3786"
            ],
            [
             0.5555555555555556,
             "#d8576b"
            ],
            [
             0.6666666666666666,
             "#ed7953"
            ],
            [
             0.7777777777777778,
             "#fb9f3a"
            ],
            [
             0.8888888888888888,
             "#fdca26"
            ],
            [
             1,
             "#f0f921"
            ]
           ]
          },
          "colorway": [
           "#636efa",
           "#EF553B",
           "#00cc96",
           "#ab63fa",
           "#FFA15A",
           "#19d3f3",
           "#FF6692",
           "#B6E880",
           "#FF97FF",
           "#FECB52"
          ],
          "font": {
           "color": "#2a3f5f"
          },
          "geo": {
           "bgcolor": "white",
           "lakecolor": "white",
           "landcolor": "#E5ECF6",
           "showlakes": true,
           "showland": true,
           "subunitcolor": "white"
          },
          "hoverlabel": {
           "align": "left"
          },
          "hovermode": "closest",
          "mapbox": {
           "style": "light"
          },
          "paper_bgcolor": "white",
          "plot_bgcolor": "#E5ECF6",
          "polar": {
           "angularaxis": {
            "gridcolor": "white",
            "linecolor": "white",
            "ticks": ""
           },
           "bgcolor": "#E5ECF6",
           "radialaxis": {
            "gridcolor": "white",
            "linecolor": "white",
            "ticks": ""
           }
          },
          "scene": {
           "xaxis": {
            "backgroundcolor": "#E5ECF6",
            "gridcolor": "white",
            "gridwidth": 2,
            "linecolor": "white",
            "showbackground": true,
            "ticks": "",
            "zerolinecolor": "white"
           },
           "yaxis": {
            "backgroundcolor": "#E5ECF6",
            "gridcolor": "white",
            "gridwidth": 2,
            "linecolor": "white",
            "showbackground": true,
            "ticks": "",
            "zerolinecolor": "white"
           },
           "zaxis": {
            "backgroundcolor": "#E5ECF6",
            "gridcolor": "white",
            "gridwidth": 2,
            "linecolor": "white",
            "showbackground": true,
            "ticks": "",
            "zerolinecolor": "white"
           }
          },
          "shapedefaults": {
           "line": {
            "color": "#2a3f5f"
           }
          },
          "ternary": {
           "aaxis": {
            "gridcolor": "white",
            "linecolor": "white",
            "ticks": ""
           },
           "baxis": {
            "gridcolor": "white",
            "linecolor": "white",
            "ticks": ""
           },
           "bgcolor": "#E5ECF6",
           "caxis": {
            "gridcolor": "white",
            "linecolor": "white",
            "ticks": ""
           }
          },
          "title": {
           "x": 0.05
          },
          "xaxis": {
           "automargin": true,
           "gridcolor": "white",
           "linecolor": "white",
           "ticks": "",
           "title": {
            "standoff": 15
           },
           "zerolinecolor": "white",
           "zerolinewidth": 2
          },
          "yaxis": {
           "automargin": true,
           "gridcolor": "white",
           "linecolor": "white",
           "ticks": "",
           "title": {
            "standoff": 15
           },
           "zerolinecolor": "white",
           "zerolinewidth": 2
          }
         }
        },
        "title": {
         "text": "Size defined by Metadata_concentration_uM"
        },
        "updatemenus": [
         {
          "buttons": [
           {
            "args": [
             "visible",
             "legendonly"
            ],
            "label": "Deselect All",
            "method": "restyle"
           },
           {
            "args": [
             "visible",
             true
            ],
            "label": "Select All",
            "method": "restyle"
           }
          ],
          "direction": "left",
          "pad": {
           "r": 5,
           "t": 5
          },
          "showactive": true,
          "type": "buttons",
          "x": 1,
          "xanchor": "left",
          "y": 1.1,
          "yanchor": "top"
         }
        ],
        "width": 900
       }
      }
     },
     "metadata": {},
     "output_type": "display_data"
    }
   ],
   "source": [
    "combat_util.plot_umap_3d(df_3d, color_col='Metadata_Plate', \n",
    "                    #   split_df = False, split_column = None, np = None,\n",
    "                      hover_cols=hover_list,\n",
    "                      size=True, size_col = \"Metadata_concentration_uM\",\n",
    "                      # x=\"0\", y=\"1\",\n",
    "                      # error_x=\"x_err\", error_y=\"y_err\",\n",
    "                    #    dili_color=True\n",
    "                    discrete=True\n",
    "                      )"
   ]
  },
  {
   "cell_type": "code",
   "execution_count": 33,
   "metadata": {},
   "outputs": [
    {
     "data": {
      "application/vnd.plotly.v1+json": {
       "config": {
        "plotlyServerURL": "https://plot.ly",
        "toImageButtonOptions": {
         "filename": "custom_image",
         "format": "svg",
         "height": 500,
         "scale": 6,
         "width": 700
        }
       },
       "data": [
        {
         "customdata": [
          [
           "220607_092050_Plate_1",
           "B3",
           "Aspirin",
           1
          ],
          [
           "220617_090443_Plate_1",
           "D3",
           "Aspirin",
           1
          ],
          [
           "220617_090443_Plate_1",
           "C3",
           "Aspirin",
           1
          ],
          [
           "220617_090443_Plate_1",
           "B3",
           "Aspirin",
           1
          ],
          [
           "220608_152238_Plate_1",
           "B3",
           "Aspirin",
           1
          ],
          [
           "231006_132517_Plate_1",
           "G2",
           "Aspirin",
           1
          ],
          [
           "231006_132517_Plate_1",
           "G3",
           "Aspirin",
           1
          ],
          [
           "231006_132517_Plate_1",
           "G4",
           "Aspirin",
           1
          ],
          [
           "220608_152238_Plate_1",
           "C3",
           "Aspirin",
           1
          ],
          [
           "220608_152238_Plate_1",
           "D3",
           "Aspirin",
           1
          ],
          [
           "231006_132517_Plate_1",
           "G5",
           "Aspirin",
           1
          ],
          [
           "231011_183822_Plate_1",
           "B6",
           "Aspirin",
           1
          ],
          [
           "231011_183822_Plate_1",
           "B7",
           "Aspirin",
           1
          ],
          [
           "231011_183822_Plate_1",
           "B8",
           "Aspirin",
           1
          ],
          [
           "231011_183822_Plate_1",
           "B9",
           "Aspirin",
           1
          ],
          [
           "220607_092050_Plate_1",
           "C3",
           "Aspirin",
           1
          ],
          [
           "220607_092050_Plate_1",
           "D3",
           "Aspirin",
           1
          ],
          [
           "220607_092050_Plate_1",
           "E6",
           "Orphenadrine",
           10
          ],
          [
           "231011_183822_Plate_1",
           "D3",
           "Orphenadrine",
           10
          ],
          [
           "231011_183822_Plate_1",
           "D4",
           "Orphenadrine",
           10
          ],
          [
           "231011_183822_Plate_1",
           "D5",
           "Orphenadrine",
           10
          ],
          [
           "220607_092050_Plate_1",
           "B4",
           "Aspirin",
           10
          ],
          [
           "220607_092050_Plate_1",
           "D4",
           "Aspirin",
           10
          ],
          [
           "220607_092050_Plate_1",
           "C4",
           "Aspirin",
           10
          ],
          [
           "220607_092050_Plate_1",
           "G6",
           "Orphenadrine",
           10
          ],
          [
           "231011_183822_Plate_1",
           "B4",
           "Aspirin",
           10
          ],
          [
           "220608_152238_Plate_1",
           "B4",
           "Aspirin",
           10
          ],
          [
           "220617_090443_Plate_1",
           "E6",
           "Orphenadrine",
           10
          ],
          [
           "220617_090443_Plate_1",
           "D4",
           "Aspirin",
           10
          ],
          [
           "220617_090443_Plate_1",
           "F6",
           "Orphenadrine",
           10
          ],
          [
           "220617_090443_Plate_1",
           "G6",
           "Orphenadrine",
           10
          ],
          [
           "220617_090443_Plate_1",
           "C4",
           "Aspirin",
           10
          ],
          [
           "220617_090443_Plate_1",
           "B4",
           "Aspirin",
           10
          ],
          [
           "220608_152238_Plate_1",
           "G6",
           "Orphenadrine",
           10
          ],
          [
           "231011_183822_Plate_1",
           "B3",
           "Aspirin",
           10
          ],
          [
           "231011_183822_Plate_1",
           "B2",
           "Aspirin",
           10
          ],
          [
           "231006_132517_Plate_1",
           "G9",
           "Aspirin",
           10
          ],
          [
           "231006_132517_Plate_1",
           "G8",
           "Aspirin",
           10
          ],
          [
           "231006_132517_Plate_1",
           "G7",
           "Aspirin",
           10
          ],
          [
           "231006_132517_Plate_1",
           "G6",
           "Aspirin",
           10
          ],
          [
           "220607_092050_Plate_1",
           "F6",
           "Orphenadrine",
           10
          ],
          [
           "220608_152238_Plate_1",
           "C4",
           "Aspirin",
           10
          ],
          [
           "231006_132517_Plate_1",
           "F8",
           "Orphenadrine",
           10
          ],
          [
           "220608_152238_Plate_1",
           "D4",
           "Aspirin",
           10
          ],
          [
           "231006_132517_Plate_1",
           "F7",
           "Orphenadrine",
           10
          ],
          [
           "231006_132517_Plate_1",
           "F6",
           "Orphenadrine",
           10
          ],
          [
           "220608_152238_Plate_1",
           "E6",
           "Orphenadrine",
           10
          ],
          [
           "220608_152238_Plate_1",
           "F6",
           "Orphenadrine",
           10
          ],
          [
           "231006_132517_Plate_1",
           "F9",
           "Orphenadrine",
           10
          ],
          [
           "231011_183822_Plate_1",
           "D2",
           "Orphenadrine",
           10
          ],
          [
           "231011_183822_Plate_1",
           "B5",
           "Aspirin",
           10
          ]
         ],
         "hovertemplate": "colors_plot_col=0<br>0=%{x}<br>1=%{y}<br>2=%{z}<br>Metadata_size=%{marker.size}<br>Metadata_Plate=%{customdata[0]}<br>Metadata_Well=%{customdata[1]}<br>Metadata_compound=%{customdata[2]}<br>Metadata_concentration_uM=%{customdata[3]}<extra></extra>",
         "legendgroup": "0",
         "marker": {
          "color": "#4C72B0",
          "size": [
           1,
           1,
           1,
           1,
           1,
           1,
           1,
           1,
           1,
           1,
           1,
           1,
           1,
           1,
           1,
           1,
           1,
           10,
           10,
           10,
           10,
           10,
           10,
           10,
           10,
           10,
           10,
           10,
           10,
           10,
           10,
           10,
           10,
           10,
           10,
           10,
           10,
           10,
           10,
           10,
           10,
           10,
           10,
           10,
           10,
           10,
           10,
           10,
           10,
           10,
           10
          ],
          "sizemode": "area",
          "sizeref": 0.025,
          "symbol": "circle"
         },
         "mode": "markers",
         "name": "0",
         "scene": "scene",
         "showlegend": true,
         "type": "scatter3d",
         "x": [
          -8.305233001708984,
          -5.392145156860352,
          -9.207701683044434,
          -7.506040573120117,
          -8.898575782775879,
          -6.044435501098633,
          -6.141968250274658,
          -7.161881923675537,
          -6.881530284881592,
          -7.8550262451171875,
          -9.177547454833984,
          -5.353704929351807,
          -5.850465297698975,
          -6.373742580413818,
          -7.924681186676025,
          -7.111405849456787,
          -7.658570766448975,
          -4.406609058380127,
          -3.8653876781463623,
          -3.885801315307617,
          -3.853365182876587,
          -8.384703636169434,
          -7.855266094207764,
          -7.847183704376221,
          -3.8984062671661377,
          -5.686521530151367,
          -8.518723487854004,
          -4.203390598297119,
          -8.096369743347168,
          -4.139129161834717,
          -4.008018970489502,
          -6.941850662231445,
          -7.879257678985596,
          -4.448005199432373,
          -5.4949564933776855,
          -5.442954063415527,
          -7.294435024261475,
          -6.35549259185791,
          -6.865499973297119,
          -7.492985248565674,
          -3.9225845336914062,
          -7.896992206573486,
          -4.027108669281006,
          -7.686662197113037,
          -4.046663761138916,
          -4.357351779937744,
          -4.419058799743652,
          -4.023702621459961,
          -4.079038619995117,
          -4.315002918243408,
          -6.038999557495117
         ],
         "y": [
          10.5156888961792,
          10.035767555236816,
          11.228682518005371,
          11.361628532409668,
          11.245861053466797,
          11.02488899230957,
          10.900158882141113,
          11.301555633544922,
          12.519155502319336,
          8.904526710510254,
          10.327073097229004,
          13.750865936279297,
          12.96106243133545,
          13.501453399658203,
          10.624955177307129,
          12.38427448272705,
          8.916019439697266,
          13.622915267944336,
          13.133094787597656,
          13.452549934387207,
          13.098387718200684,
          10.221695899963379,
          8.995055198669434,
          11.019096374511719,
          12.231972694396973,
          13.153275489807129,
          11.40882682800293,
          13.412973403930664,
          9.026869773864746,
          12.369955062866211,
          12.653443336486816,
          9.35112190246582,
          11.738350868225098,
          12.500892639160156,
          13.298508644104004,
          13.619217872619629,
          9.462601661682129,
          11.271905899047852,
          11.317330360412598,
          11.607133865356445,
          12.167194366455078,
          9.581071853637695,
          11.787432670593262,
          9.672306060791016,
          11.483272552490234,
          11.565428733825684,
          13.432140350341797,
          12.709973335266113,
          11.50221061706543,
          12.986584663391113,
          13.477943420410156
         ],
         "z": [
          13.448073387145996,
          10.707642555236816,
          11.707157135009766,
          13.703412055969238,
          13.04777717590332,
          11.178644180297852,
          11.297808647155762,
          12.292530059814453,
          11.569942474365234,
          10.882004737854004,
          11.079781532287598,
          11.873858451843262,
          12.730883598327637,
          12.565786361694336,
          12.411304473876953,
          12.114340782165527,
          10.312561988830566,
          11.1363525390625,
          10.176440238952637,
          10.551102638244629,
          10.106307983398438,
          12.903641700744629,
          10.706786155700684,
          12.084299087524414,
          9.56926155090332,
          11.831053733825684,
          13.210575103759766,
          10.700017929077148,
          12.264774322509766,
          10.015445709228516,
          9.744982719421387,
          12.510741233825684,
          13.703900337219238,
          9.47685432434082,
          11.408638000488281,
          11.48289680480957,
          12.812007904052734,
          13.149291038513184,
          12.421436309814453,
          12.058022499084473,
          9.821667671203613,
          10.232166290283203,
          9.478194236755371,
          11.593069076538086,
          10.050472259521484,
          10.062129974365234,
          10.875065803527832,
          10.297717094421387,
          9.677566528320312,
          9.995652198791504,
          11.934369087219238
         ]
        },
        {
         "customdata": [
          [
           "231006_132517_Plate_1",
           "E5",
           "Etoposide",
           1
          ],
          [
           "231011_183822_Plate_1",
           "F10",
           "Lovastatin",
           1
          ],
          [
           "231011_183822_Plate_1",
           "E10",
           "Lovastatin",
           1
          ],
          [
           "231011_183822_Plate_1",
           "D10",
           "Lovastatin",
           1
          ],
          [
           "220617_090443_Plate_1",
           "E3",
           "Lovastatin",
           1
          ],
          [
           "231006_132517_Plate_1",
           "E3",
           "Etoposide",
           1
          ],
          [
           "231011_183822_Plate_1",
           "G8",
           "Etoposide",
           1
          ],
          [
           "231011_183822_Plate_1",
           "G9",
           "Etoposide",
           1
          ],
          [
           "231011_183822_Plate_1",
           "G10",
           "Lovastatin",
           1
          ],
          [
           "231011_183822_Plate_1",
           "G7",
           "Etoposide",
           1
          ],
          [
           "220617_090443_Plate_1",
           "G3",
           "Lovastatin",
           1
          ],
          [
           "231011_183822_Plate_1",
           "G6",
           "Etoposide",
           1
          ],
          [
           "220617_090443_Plate_1",
           "D9",
           "Etoposide",
           1
          ],
          [
           "231006_132517_Plate_1",
           "C2",
           "Lovastatin",
           1
          ],
          [
           "231006_132517_Plate_1",
           "C3",
           "Lovastatin",
           1
          ],
          [
           "231006_132517_Plate_1",
           "C4",
           "Lovastatin",
           1
          ],
          [
           "231006_132517_Plate_1",
           "C5",
           "Lovastatin",
           1
          ],
          [
           "231006_132517_Plate_1",
           "E4",
           "Etoposide",
           1
          ],
          [
           "231006_132517_Plate_1",
           "E2",
           "Etoposide",
           1
          ],
          [
           "220607_092050_Plate_1",
           "B9",
           "Etoposide",
           1
          ],
          [
           "220617_090443_Plate_1",
           "C9",
           "Etoposide",
           1
          ],
          [
           "220608_152238_Plate_1",
           "B9",
           "Etoposide",
           1
          ],
          [
           "220607_092050_Plate_1",
           "C9",
           "Etoposide",
           1
          ],
          [
           "220607_092050_Plate_1",
           "D9",
           "Etoposide",
           1
          ],
          [
           "220608_152238_Plate_1",
           "D9",
           "Etoposide",
           1
          ],
          [
           "220608_152238_Plate_1",
           "E3",
           "Lovastatin",
           1
          ],
          [
           "220617_090443_Plate_1",
           "B9",
           "Etoposide",
           1
          ],
          [
           "220608_152238_Plate_1",
           "F3",
           "Lovastatin",
           1
          ],
          [
           "220608_152238_Plate_1",
           "C9",
           "Etoposide",
           1
          ],
          [
           "220607_092050_Plate_1",
           "E3",
           "Lovastatin",
           1
          ],
          [
           "220608_152238_Plate_1",
           "G3",
           "Lovastatin",
           1
          ],
          [
           "220607_092050_Plate_1",
           "F3",
           "Lovastatin",
           1
          ],
          [
           "220617_090443_Plate_1",
           "F3",
           "Lovastatin",
           1
          ],
          [
           "220607_092050_Plate_1",
           "G3",
           "Lovastatin",
           1
          ],
          [
           "220608_152238_Plate_1",
           "G4",
           "Lovastatin",
           10
          ],
          [
           "220608_152238_Plate_1",
           "C10",
           "Etoposide",
           10
          ],
          [
           "220607_092050_Plate_1",
           "F4",
           "Lovastatin",
           10
          ],
          [
           "220617_090443_Plate_1",
           "E4",
           "Lovastatin",
           10
          ],
          [
           "220617_090443_Plate_1",
           "C10",
           "Etoposide",
           10
          ],
          [
           "220607_092050_Plate_1",
           "B10",
           "Etoposide",
           10
          ],
          [
           "220608_152238_Plate_1",
           "B10",
           "Etoposide",
           10
          ],
          [
           "220607_092050_Plate_1",
           "C10",
           "Etoposide",
           10
          ],
          [
           "220607_092050_Plate_1",
           "D10",
           "Etoposide",
           10
          ],
          [
           "220607_092050_Plate_1",
           "G4",
           "Lovastatin",
           10
          ],
          [
           "220608_152238_Plate_1",
           "D10",
           "Etoposide",
           10
          ],
          [
           "220608_152238_Plate_1",
           "E4",
           "Lovastatin",
           10
          ],
          [
           "220617_090443_Plate_1",
           "B10",
           "Etoposide",
           10
          ],
          [
           "220608_152238_Plate_1",
           "F4",
           "Lovastatin",
           10
          ],
          [
           "220607_092050_Plate_1",
           "E4",
           "Lovastatin",
           10
          ],
          [
           "231011_183822_Plate_1",
           "G11",
           "Lovastatin",
           10
          ],
          [
           "220617_090443_Plate_1",
           "D10",
           "Etoposide",
           10
          ],
          [
           "231006_132517_Plate_1",
           "E7",
           "Etoposide",
           10
          ],
          [
           "231006_132517_Plate_1",
           "C9",
           "Lovastatin",
           10
          ],
          [
           "231011_183822_Plate_1",
           "G2",
           "Etoposide",
           10
          ],
          [
           "231006_132517_Plate_1",
           "C7",
           "Lovastatin",
           10
          ],
          [
           "231006_132517_Plate_1",
           "C6",
           "Lovastatin",
           10
          ],
          [
           "220617_090443_Plate_1",
           "G4",
           "Lovastatin",
           10
          ],
          [
           "231011_183822_Plate_1",
           "G5",
           "Etoposide",
           10
          ],
          [
           "220617_090443_Plate_1",
           "F4",
           "Lovastatin",
           10
          ],
          [
           "231011_183822_Plate_1",
           "G4",
           "Etoposide",
           10
          ],
          [
           "231006_132517_Plate_1",
           "C8",
           "Lovastatin",
           10
          ],
          [
           "231011_183822_Plate_1",
           "E11",
           "Lovastatin",
           10
          ],
          [
           "231006_132517_Plate_1",
           "E9",
           "Etoposide",
           10
          ],
          [
           "231011_183822_Plate_1",
           "G3",
           "Etoposide",
           10
          ],
          [
           "231006_132517_Plate_1",
           "E8",
           "Etoposide",
           10
          ],
          [
           "231006_132517_Plate_1",
           "E6",
           "Etoposide",
           10
          ],
          [
           "231011_183822_Plate_1",
           "F11",
           "Lovastatin",
           10
          ],
          [
           "231011_183822_Plate_1",
           "D11",
           "Lovastatin",
           10
          ]
         ],
         "hovertemplate": "colors_plot_col=3<br>0=%{x}<br>1=%{y}<br>2=%{z}<br>Metadata_size=%{marker.size}<br>Metadata_Plate=%{customdata[0]}<br>Metadata_Well=%{customdata[1]}<br>Metadata_compound=%{customdata[2]}<br>Metadata_concentration_uM=%{customdata[3]}<extra></extra>",
         "legendgroup": "3",
         "marker": {
          "color": "#55A868",
          "size": [
           1,
           1,
           1,
           1,
           1,
           1,
           1,
           1,
           1,
           1,
           1,
           1,
           1,
           1,
           1,
           1,
           1,
           1,
           1,
           1,
           1,
           1,
           1,
           1,
           1,
           1,
           1,
           1,
           1,
           1,
           1,
           1,
           1,
           1,
           10,
           10,
           10,
           10,
           10,
           10,
           10,
           10,
           10,
           10,
           10,
           10,
           10,
           10,
           10,
           10,
           10,
           10,
           10,
           10,
           10,
           10,
           10,
           10,
           10,
           10,
           10,
           10,
           10,
           10,
           10,
           10,
           10,
           10
          ],
          "sizemode": "area",
          "sizeref": 0.025,
          "symbol": "circle"
         },
         "mode": "markers",
         "name": "3",
         "scene": "scene",
         "showlegend": true,
         "type": "scatter3d",
         "x": [
          -5.232605457305908,
          -7.720825672149658,
          -7.160217761993408,
          -6.006044387817383,
          -5.844079971313477,
          -4.408967971801758,
          -4.631437301635742,
          -4.363130569458008,
          -7.6717987060546875,
          -5.340792655944824,
          -6.8758158683776855,
          -6.447895050048828,
          -4.6048197746276855,
          -6.776250839233398,
          -7.126520156860352,
          -7.6757965087890625,
          -6.833722114562988,
          -4.526695728302002,
          -4.360527515411377,
          -5.750547409057617,
          -4.612455368041992,
          -6.745483875274658,
          -4.513245105743408,
          -5.138268947601318,
          -4.425780773162842,
          -5.145500659942627,
          -5.534585475921631,
          -9.052507400512695,
          -4.905733108520508,
          -5.817315101623535,
          -6.3192548751831055,
          -6.04335880279541,
          -5.999395847320557,
          -6.467528820037842,
          -5.9941816329956055,
          -4.974464416503906,
          -5.003385543823242,
          -6.099401473999023,
          -5.431211471557617,
          -4.901155471801758,
          -6.051354885101318,
          -4.849615573883057,
          -4.629083156585693,
          -7.340574741363525,
          -4.730955123901367,
          -4.980318069458008,
          -5.314323902130127,
          -5.300233840942383,
          -5.989868640899658,
          -7.493631362915039,
          -5.162512302398682,
          -5.9314374923706055,
          -7.217790126800537,
          -5.069495677947998,
          -7.102721691131592,
          -4.968635559082031,
          -6.511694431304932,
          -5.097100734710693,
          -6.116631984710693,
          -4.7147297859191895,
          -6.044438362121582,
          -7.188371181488037,
          -4.6911702156066895,
          -4.714812755584717,
          -4.811851501464844,
          -4.871246337890625,
          -7.3671464920043945,
          -7.065608501434326
         ],
         "y": [
          11.125567436218262,
          10.103103637695312,
          9.951659202575684,
          11.49610710144043,
          12.438488960266113,
          10.62504768371582,
          10.423274993896484,
          10.659501075744629,
          9.455489158630371,
          10.468073844909668,
          11.779458999633789,
          10.838191986083984,
          10.615045547485352,
          11.648236274719238,
          10.131885528564453,
          12.224407196044922,
          12.350208282470703,
          10.52556037902832,
          10.7470121383667,
          11.225763320922852,
          11.312176704406738,
          10.940229415893555,
          11.482709884643555,
          10.743839263916016,
          10.705144882202148,
          11.778127670288086,
          11.989624977111816,
          11.619627952575684,
          11.584033966064453,
          12.358144760131836,
          9.550174713134766,
          11.78074836730957,
          12.031686782836914,
          11.929927825927734,
          10.42863655090332,
          11.82835578918457,
          10.862237930297852,
          12.278149604797363,
          11.399547576904297,
          12.082642555236816,
          10.685001373291016,
          12.221639633178711,
          11.251827239990234,
          11.105464935302734,
          10.967777252197266,
          13.878705978393555,
          11.696207046508789,
          11.723104476928711,
          11.629955291748047,
          10.124804496765137,
          11.13697624206543,
          11.503732681274414,
          12.146677017211914,
          11.096434593200684,
          11.960897445678711,
          10.387463569641113,
          11.047676086425781,
          10.761963844299316,
          11.645214080810547,
          10.988407135009766,
          11.429487228393555,
          10.425169944763184,
          11.745960235595703,
          11.674151420593262,
          11.066340446472168,
          11.419475555419922,
          9.43647575378418,
          9.722094535827637
         ],
         "z": [
          14.801392555236816,
          9.758560180664062,
          9.796647071838379,
          9.974491119384766,
          10.261475563049316,
          11.144275665283203,
          12.88073444366455,
          13.212812423706055,
          9.781998634338379,
          12.852210998535156,
          9.843062400817871,
          11.608196258544922,
          13.465444564819336,
          11.442207336425781,
          10.522290229797363,
          12.44658088684082,
          10.89307975769043,
          10.938977241516113,
          13.962525367736816,
          14.309703826904297,
          13.93868637084961,
          13.719229698181152,
          13.808104515075684,
          14.192270278930664,
          13.972167015075684,
          10.263659477233887,
          14.24462604522705,
          11.40235710144043,
          14.60632038116455,
          9.740344047546387,
          11.444744110107422,
          9.537044525146484,
          9.680054664611816,
          9.343387603759766,
          12.133188247680664,
          13.74752426147461,
          10.4589204788208,
          10.167834281921387,
          14.007203102111816,
          13.649572372436523,
          13.607139587402344,
          14.088947296142578,
          14.341876983642578,
          9.596920013427734,
          14.32080364227295,
          12.018383979797363,
          14.344368934631348,
          9.674301147460938,
          10.879694938659668,
          9.563582420349121,
          13.569493293762207,
          13.996459007263184,
          12.846512794494629,
          13.131629943847656,
          12.47294807434082,
          10.872982025146484,
          9.772017478942871,
          12.719518661499023,
          10.158019065856934,
          12.877084732055664,
          12.678749084472656,
          9.65373420715332,
          14.702271461486816,
          13.223066329956055,
          14.807650566101074,
          14.96325969696045,
          10.048397064208984,
          9.931092262268066
         ]
        },
        {
         "customdata": [
          [
           "220617_090443_Plate_1",
           "B7",
           "Cyclophosphamide",
           1
          ],
          [
           "231006_132517_Plate_1",
           "B10",
           "Cyclophosphamide",
           1
          ],
          [
           "231006_132517_Plate_1",
           "C10",
           "Cyclophosphamide",
           1
          ],
          [
           "231006_132517_Plate_1",
           "D10",
           "Cyclophosphamide",
           1
          ],
          [
           "220608_152238_Plate_1",
           "D7",
           "Cyclophosphamide",
           1
          ],
          [
           "220607_092050_Plate_1",
           "B7",
           "Cyclophosphamide",
           1
          ],
          [
           "220608_152238_Plate_1",
           "B7",
           "Cyclophosphamide",
           1
          ],
          [
           "231011_183822_Plate_1",
           "C6",
           "Cyclophosphamide",
           1
          ],
          [
           "231011_183822_Plate_1",
           "C7",
           "Cyclophosphamide",
           1
          ],
          [
           "231011_183822_Plate_1",
           "C8",
           "Cyclophosphamide",
           1
          ],
          [
           "231011_183822_Plate_1",
           "C9",
           "Cyclophosphamide",
           1
          ],
          [
           "220607_092050_Plate_1",
           "D7",
           "Cyclophosphamide",
           1
          ],
          [
           "220607_092050_Plate_1",
           "C7",
           "Cyclophosphamide",
           1
          ],
          [
           "220608_152238_Plate_1",
           "C7",
           "Cyclophosphamide",
           1
          ],
          [
           "231006_132517_Plate_1",
           "E10",
           "Cyclophosphamide",
           1
          ],
          [
           "220617_090443_Plate_1",
           "D7",
           "Cyclophosphamide",
           1
          ],
          [
           "220617_090443_Plate_1",
           "C7",
           "Cyclophosphamide",
           1
          ],
          [
           "220617_090443_Plate_1",
           "C8",
           "Cyclophosphamide",
           10
          ],
          [
           "231011_183822_Plate_1",
           "C5",
           "Cyclophosphamide",
           10
          ],
          [
           "231011_183822_Plate_1",
           "C4",
           "Cyclophosphamide",
           10
          ],
          [
           "231011_183822_Plate_1",
           "C3",
           "Cyclophosphamide",
           10
          ],
          [
           "220608_152238_Plate_1",
           "B8",
           "Cyclophosphamide",
           10
          ],
          [
           "231006_132517_Plate_1",
           "E11",
           "Cyclophosphamide",
           10
          ],
          [
           "220608_152238_Plate_1",
           "C8",
           "Cyclophosphamide",
           10
          ],
          [
           "220617_090443_Plate_1",
           "B8",
           "Cyclophosphamide",
           10
          ],
          [
           "220607_092050_Plate_1",
           "D8",
           "Cyclophosphamide",
           10
          ],
          [
           "231006_132517_Plate_1",
           "B11",
           "Cyclophosphamide",
           10
          ],
          [
           "231006_132517_Plate_1",
           "C11",
           "Cyclophosphamide",
           10
          ],
          [
           "220607_092050_Plate_1",
           "C8",
           "Cyclophosphamide",
           10
          ],
          [
           "220607_092050_Plate_1",
           "B8",
           "Cyclophosphamide",
           10
          ],
          [
           "231011_183822_Plate_1",
           "C2",
           "Cyclophosphamide",
           10
          ],
          [
           "231006_132517_Plate_1",
           "D11",
           "Cyclophosphamide",
           10
          ],
          [
           "220617_090443_Plate_1",
           "D8",
           "Cyclophosphamide",
           10
          ],
          [
           "220608_152238_Plate_1",
           "D8",
           "Cyclophosphamide",
           10
          ]
         ],
         "hovertemplate": "colors_plot_col=5<br>0=%{x}<br>1=%{y}<br>2=%{z}<br>Metadata_size=%{marker.size}<br>Metadata_Plate=%{customdata[0]}<br>Metadata_Well=%{customdata[1]}<br>Metadata_compound=%{customdata[2]}<br>Metadata_concentration_uM=%{customdata[3]}<extra></extra>",
         "legendgroup": "5",
         "marker": {
          "color": "#CA9161",
          "size": [
           1,
           1,
           1,
           1,
           1,
           1,
           1,
           1,
           1,
           1,
           1,
           1,
           1,
           1,
           1,
           1,
           1,
           10,
           10,
           10,
           10,
           10,
           10,
           10,
           10,
           10,
           10,
           10,
           10,
           10,
           10,
           10,
           10,
           10
          ],
          "sizemode": "area",
          "sizeref": 0.025,
          "symbol": "circle"
         },
         "mode": "markers",
         "name": "5",
         "scene": "scene",
         "showlegend": true,
         "type": "scatter3d",
         "x": [
          -7.179072856903076,
          -6.094824314117432,
          -5.570123672485352,
          -7.445378303527832,
          -7.048955917358398,
          -7.894550800323486,
          -8.832210540771484,
          -8.183819770812988,
          -5.629856586456299,
          -7.100708484649658,
          -5.871372699737549,
          -8.86082649230957,
          -8.408995628356934,
          -9.401659965515137,
          -7.161561489105225,
          -8.469600677490234,
          -8.565443992614746,
          -8.801618576049805,
          -5.926539897918701,
          -6.590106964111328,
          -5.885477066040039,
          -8.591294288635254,
          -5.867883682250977,
          -9.13667106628418,
          -7.715106964111328,
          -8.503905296325684,
          -5.869146347045898,
          -6.607098579406738,
          -9.007551193237305,
          -8.470158576965332,
          -6.371954441070557,
          -6.434636116027832,
          -8.216753959655762,
          -7.842121601104736
         ],
         "y": [
          12.376965522766113,
          12.404187202453613,
          12.290488243103027,
          10.426026344299316,
          9.053223609924316,
          11.056880950927734,
          10.822032928466797,
          9.599974632263184,
          13.670785903930664,
          11.460884094238281,
          13.301719665527344,
          9.473567962646484,
          9.292545318603516,
          10.839359283447266,
          10.260178565979004,
          9.148913383483887,
          9.875073432922363,
          9.637694358825684,
          13.650511741638184,
          12.98327922821045,
          13.297228813171387,
          10.99754524230957,
          11.049927711486816,
          10.0333890914917,
          11.477184295654297,
          9.002933502197266,
          11.745601654052734,
          13.153772354125977,
          10.855669021606445,
          10.826900482177734,
          12.69438362121582,
          9.734801292419434,
          9.285889625549316,
          9.183886528015137
         ],
         "z": [
          13.715699195861816,
          12.643514633178711,
          13.578743934631348,
          12.472461700439453,
          11.905111312866211,
          13.102185249328613,
          12.88422966003418,
          12.428873062133789,
          12.400525093078613,
          13.169790267944336,
          12.91276741027832,
          11.289726257324219,
          10.759963035583496,
          11.269410133361816,
          11.022383689880371,
          11.613568305969238,
          10.690108299255371,
          11.704144477844238,
          12.921957969665527,
          13.277220726013184,
          13.519372940063477,
          12.438803672790527,
          12.091190338134766,
          11.38157844543457,
          12.967369079589844,
          12.209921836853027,
          12.954968452453613,
          11.689220428466797,
          11.220104217529297,
          13.44494342803955,
          13.889482498168945,
          12.084433555603027,
          11.82311725616455,
          12.035449028015137
         ]
        },
        {
         "customdata": [
          [
           "231006_132517_Plate_1",
           "B4",
           "Amiodarone",
           1
          ],
          [
           "220607_092050_Plate_1",
           "B5",
           "Amiodarone",
           1
          ],
          [
           "220608_152238_Plate_1",
           "C5",
           "Amiodarone",
           1
          ],
          [
           "220608_152238_Plate_1",
           "B5",
           "Amiodarone",
           1
          ],
          [
           "220617_090443_Plate_1",
           "B5",
           "Amiodarone",
           1
          ],
          [
           "231006_132517_Plate_1",
           "B5",
           "Amiodarone",
           1
          ],
          [
           "231006_132517_Plate_1",
           "B3",
           "Amiodarone",
           1
          ],
          [
           "220607_092050_Plate_1",
           "D5",
           "Amiodarone",
           1
          ],
          [
           "231011_183822_Plate_1",
           "E6",
           "Amiodarone",
           1
          ],
          [
           "231011_183822_Plate_1",
           "E9",
           "Amiodarone",
           1
          ],
          [
           "231006_132517_Plate_1",
           "B2",
           "Amiodarone",
           1
          ],
          [
           "220617_090443_Plate_1",
           "D5",
           "Amiodarone",
           1
          ],
          [
           "231011_183822_Plate_1",
           "E7",
           "Amiodarone",
           1
          ],
          [
           "220617_090443_Plate_1",
           "C5",
           "Amiodarone",
           1
          ],
          [
           "220608_152238_Plate_1",
           "D5",
           "Amiodarone",
           1
          ],
          [
           "231011_183822_Plate_1",
           "E8",
           "Amiodarone",
           1
          ],
          [
           "220607_092050_Plate_1",
           "C5",
           "Amiodarone",
           1
          ],
          [
           "220617_090443_Plate_1",
           "D6",
           "Amiodarone",
           10
          ],
          [
           "231006_132517_Plate_1",
           "B7",
           "Amiodarone",
           10
          ],
          [
           "231006_132517_Plate_1",
           "B6",
           "Amiodarone",
           10
          ],
          [
           "231011_183822_Plate_1",
           "E5",
           "Amiodarone",
           10
          ],
          [
           "220617_090443_Plate_1",
           "C6",
           "Amiodarone",
           10
          ],
          [
           "220607_092050_Plate_1",
           "D6",
           "Amiodarone",
           10
          ],
          [
           "231011_183822_Plate_1",
           "E2",
           "Amiodarone",
           10
          ],
          [
           "220607_092050_Plate_1",
           "B6",
           "Amiodarone",
           10
          ],
          [
           "231006_132517_Plate_1",
           "B8",
           "Amiodarone",
           10
          ],
          [
           "231006_132517_Plate_1",
           "B9",
           "Amiodarone",
           10
          ],
          [
           "220617_090443_Plate_1",
           "B6",
           "Amiodarone",
           10
          ],
          [
           "220608_152238_Plate_1",
           "B6",
           "Amiodarone",
           10
          ],
          [
           "220608_152238_Plate_1",
           "D6",
           "Amiodarone",
           10
          ],
          [
           "220607_092050_Plate_1",
           "C6",
           "Amiodarone",
           10
          ],
          [
           "231011_183822_Plate_1",
           "E3",
           "Amiodarone",
           10
          ],
          [
           "231011_183822_Plate_1",
           "E4",
           "Amiodarone",
           10
          ],
          [
           "220608_152238_Plate_1",
           "C6",
           "Amiodarone",
           10
          ]
         ],
         "hovertemplate": "colors_plot_col=8<br>0=%{x}<br>1=%{y}<br>2=%{z}<br>Metadata_size=%{marker.size}<br>Metadata_Plate=%{customdata[0]}<br>Metadata_Well=%{customdata[1]}<br>Metadata_compound=%{customdata[2]}<br>Metadata_concentration_uM=%{customdata[3]}<extra></extra>",
         "legendgroup": "8",
         "marker": {
          "color": "#8172B3",
          "size": [
           1,
           1,
           1,
           1,
           1,
           1,
           1,
           1,
           1,
           1,
           1,
           1,
           1,
           1,
           1,
           1,
           1,
           10,
           10,
           10,
           10,
           10,
           10,
           10,
           10,
           10,
           10,
           10,
           10,
           10,
           10,
           10,
           10,
           10
          ],
          "sizemode": "area",
          "sizeref": 0.025,
          "symbol": "circle"
         },
         "mode": "markers",
         "name": "8",
         "scene": "scene",
         "showlegend": true,
         "type": "scatter3d",
         "x": [
          -5.221856594085693,
          -9.234432220458984,
          -8.240798950195312,
          -8.957840919494629,
          -8.006409645080566,
          -6.139465808868408,
          -8.342544555664062,
          -7.915159702301025,
          -6.131170749664307,
          -4.728818893432617,
          -8.184101104736328,
          -7.150023937225342,
          -7.591142177581787,
          -8.372981071472168,
          -7.863178730010986,
          -5.074456691741943,
          -8.446734428405762,
          -7.432982921600342,
          -7.878480434417725,
          -8.159483909606934,
          -5.096930980682373,
          -8.236891746520996,
          -8.728572845458984,
          -8.476197242736816,
          -6.8352274894714355,
          -8.163453102111816,
          -8.487244606018066,
          -5.458273410797119,
          -9.022749900817871,
          -8.064499855041504,
          -8.709717750549316,
          -8.155869483947754,
          -8.605210304260254,
          -8.668231010437012
         ],
         "y": [
          10.955510139465332,
          11.112303733825684,
          10.228023529052734,
          10.460404396057129,
          11.131766319274902,
          12.619553565979004,
          11.601387977600098,
          10.106979370117188,
          10.132144927978516,
          13.042845726013184,
          11.493892669677734,
          9.140214920043945,
          9.161373138427734,
          9.540116310119629,
          9.726749420166016,
          12.752233505249023,
          9.945202827453613,
          9.744278907775879,
          10.884644508361816,
          11.027142524719238,
          10.23608684539795,
          10.466992378234863,
          9.492671966552734,
          10.133304595947266,
          9.931636810302734,
          10.312026023864746,
          10.466479301452637,
          13.603919982910156,
          10.633480072021484,
          10.235336303710938,
          9.972031593322754,
          10.346850395202637,
          9.756168365478516,
          10.648636817932129
         ],
         "z": [
          11.232189178466797,
          12.273447036743164,
          11.031058311462402,
          12.190011978149414,
          13.565342903137207,
          11.778125762939453,
          12.40559196472168,
          11.259654998779297,
          10.705092430114746,
          10.080623626708984,
          12.200722694396973,
          12.331584930419922,
          11.199640274047852,
          10.822198867797852,
          11.050118446350098,
          10.283093452453613,
          11.845135688781738,
          10.778032302856445,
          11.253292083740234,
          11.33119010925293,
          10.54487419128418,
          10.183338165283203,
          10.580928802490234,
          9.626402854919434,
          12.853394508361816,
          12.227977752685547,
          11.805126190185547,
          13.048460960388184,
          10.95884895324707,
          10.631839752197266,
          10.284987449645996,
          9.987074851989746,
          9.747127532958984,
          10.369885444641113
         ]
        }
       ],
       "layout": {
        "autosize": false,
        "font": {
         "size": 18
        },
        "height": 700,
        "legend": {
         "itemsizing": "constant",
         "title": {
          "text": "Metadata_Severity Class"
         },
         "tracegroupgap": 0
        },
        "margin": {
         "b": 20,
         "l": 50,
         "pad": 4,
         "r": 50,
         "t": 50
        },
        "scene": {
         "domain": {
          "x": [
           0,
           1
          ],
          "y": [
           0,
           1
          ]
         },
         "xaxis": {
          "title": {
           "text": "0"
          }
         },
         "yaxis": {
          "title": {
           "text": "1"
          }
         },
         "zaxis": {
          "title": {
           "text": "2"
          }
         }
        },
        "template": {
         "data": {
          "bar": [
           {
            "error_x": {
             "color": "#2a3f5f"
            },
            "error_y": {
             "color": "#2a3f5f"
            },
            "marker": {
             "line": {
              "color": "#E5ECF6",
              "width": 0.5
             },
             "pattern": {
              "fillmode": "overlay",
              "size": 10,
              "solidity": 0.2
             }
            },
            "type": "bar"
           }
          ],
          "barpolar": [
           {
            "marker": {
             "line": {
              "color": "#E5ECF6",
              "width": 0.5
             },
             "pattern": {
              "fillmode": "overlay",
              "size": 10,
              "solidity": 0.2
             }
            },
            "type": "barpolar"
           }
          ],
          "carpet": [
           {
            "aaxis": {
             "endlinecolor": "#2a3f5f",
             "gridcolor": "white",
             "linecolor": "white",
             "minorgridcolor": "white",
             "startlinecolor": "#2a3f5f"
            },
            "baxis": {
             "endlinecolor": "#2a3f5f",
             "gridcolor": "white",
             "linecolor": "white",
             "minorgridcolor": "white",
             "startlinecolor": "#2a3f5f"
            },
            "type": "carpet"
           }
          ],
          "choropleth": [
           {
            "colorbar": {
             "outlinewidth": 0,
             "ticks": ""
            },
            "type": "choropleth"
           }
          ],
          "contour": [
           {
            "colorbar": {
             "outlinewidth": 0,
             "ticks": ""
            },
            "colorscale": [
             [
              0,
              "#0d0887"
             ],
             [
              0.1111111111111111,
              "#46039f"
             ],
             [
              0.2222222222222222,
              "#7201a8"
             ],
             [
              0.3333333333333333,
              "#9c179e"
             ],
             [
              0.4444444444444444,
              "#bd3786"
             ],
             [
              0.5555555555555556,
              "#d8576b"
             ],
             [
              0.6666666666666666,
              "#ed7953"
             ],
             [
              0.7777777777777778,
              "#fb9f3a"
             ],
             [
              0.8888888888888888,
              "#fdca26"
             ],
             [
              1,
              "#f0f921"
             ]
            ],
            "type": "contour"
           }
          ],
          "contourcarpet": [
           {
            "colorbar": {
             "outlinewidth": 0,
             "ticks": ""
            },
            "type": "contourcarpet"
           }
          ],
          "heatmap": [
           {
            "colorbar": {
             "outlinewidth": 0,
             "ticks": ""
            },
            "colorscale": [
             [
              0,
              "#0d0887"
             ],
             [
              0.1111111111111111,
              "#46039f"
             ],
             [
              0.2222222222222222,
              "#7201a8"
             ],
             [
              0.3333333333333333,
              "#9c179e"
             ],
             [
              0.4444444444444444,
              "#bd3786"
             ],
             [
              0.5555555555555556,
              "#d8576b"
             ],
             [
              0.6666666666666666,
              "#ed7953"
             ],
             [
              0.7777777777777778,
              "#fb9f3a"
             ],
             [
              0.8888888888888888,
              "#fdca26"
             ],
             [
              1,
              "#f0f921"
             ]
            ],
            "type": "heatmap"
           }
          ],
          "heatmapgl": [
           {
            "colorbar": {
             "outlinewidth": 0,
             "ticks": ""
            },
            "colorscale": [
             [
              0,
              "#0d0887"
             ],
             [
              0.1111111111111111,
              "#46039f"
             ],
             [
              0.2222222222222222,
              "#7201a8"
             ],
             [
              0.3333333333333333,
              "#9c179e"
             ],
             [
              0.4444444444444444,
              "#bd3786"
             ],
             [
              0.5555555555555556,
              "#d8576b"
             ],
             [
              0.6666666666666666,
              "#ed7953"
             ],
             [
              0.7777777777777778,
              "#fb9f3a"
             ],
             [
              0.8888888888888888,
              "#fdca26"
             ],
             [
              1,
              "#f0f921"
             ]
            ],
            "type": "heatmapgl"
           }
          ],
          "histogram": [
           {
            "marker": {
             "pattern": {
              "fillmode": "overlay",
              "size": 10,
              "solidity": 0.2
             }
            },
            "type": "histogram"
           }
          ],
          "histogram2d": [
           {
            "colorbar": {
             "outlinewidth": 0,
             "ticks": ""
            },
            "colorscale": [
             [
              0,
              "#0d0887"
             ],
             [
              0.1111111111111111,
              "#46039f"
             ],
             [
              0.2222222222222222,
              "#7201a8"
             ],
             [
              0.3333333333333333,
              "#9c179e"
             ],
             [
              0.4444444444444444,
              "#bd3786"
             ],
             [
              0.5555555555555556,
              "#d8576b"
             ],
             [
              0.6666666666666666,
              "#ed7953"
             ],
             [
              0.7777777777777778,
              "#fb9f3a"
             ],
             [
              0.8888888888888888,
              "#fdca26"
             ],
             [
              1,
              "#f0f921"
             ]
            ],
            "type": "histogram2d"
           }
          ],
          "histogram2dcontour": [
           {
            "colorbar": {
             "outlinewidth": 0,
             "ticks": ""
            },
            "colorscale": [
             [
              0,
              "#0d0887"
             ],
             [
              0.1111111111111111,
              "#46039f"
             ],
             [
              0.2222222222222222,
              "#7201a8"
             ],
             [
              0.3333333333333333,
              "#9c179e"
             ],
             [
              0.4444444444444444,
              "#bd3786"
             ],
             [
              0.5555555555555556,
              "#d8576b"
             ],
             [
              0.6666666666666666,
              "#ed7953"
             ],
             [
              0.7777777777777778,
              "#fb9f3a"
             ],
             [
              0.8888888888888888,
              "#fdca26"
             ],
             [
              1,
              "#f0f921"
             ]
            ],
            "type": "histogram2dcontour"
           }
          ],
          "mesh3d": [
           {
            "colorbar": {
             "outlinewidth": 0,
             "ticks": ""
            },
            "type": "mesh3d"
           }
          ],
          "parcoords": [
           {
            "line": {
             "colorbar": {
              "outlinewidth": 0,
              "ticks": ""
             }
            },
            "type": "parcoords"
           }
          ],
          "pie": [
           {
            "automargin": true,
            "type": "pie"
           }
          ],
          "scatter": [
           {
            "fillpattern": {
             "fillmode": "overlay",
             "size": 10,
             "solidity": 0.2
            },
            "type": "scatter"
           }
          ],
          "scatter3d": [
           {
            "line": {
             "colorbar": {
              "outlinewidth": 0,
              "ticks": ""
             }
            },
            "marker": {
             "colorbar": {
              "outlinewidth": 0,
              "ticks": ""
             }
            },
            "type": "scatter3d"
           }
          ],
          "scattercarpet": [
           {
            "marker": {
             "colorbar": {
              "outlinewidth": 0,
              "ticks": ""
             }
            },
            "type": "scattercarpet"
           }
          ],
          "scattergeo": [
           {
            "marker": {
             "colorbar": {
              "outlinewidth": 0,
              "ticks": ""
             }
            },
            "type": "scattergeo"
           }
          ],
          "scattergl": [
           {
            "marker": {
             "colorbar": {
              "outlinewidth": 0,
              "ticks": ""
             }
            },
            "type": "scattergl"
           }
          ],
          "scattermapbox": [
           {
            "marker": {
             "colorbar": {
              "outlinewidth": 0,
              "ticks": ""
             }
            },
            "type": "scattermapbox"
           }
          ],
          "scatterpolar": [
           {
            "marker": {
             "colorbar": {
              "outlinewidth": 0,
              "ticks": ""
             }
            },
            "type": "scatterpolar"
           }
          ],
          "scatterpolargl": [
           {
            "marker": {
             "colorbar": {
              "outlinewidth": 0,
              "ticks": ""
             }
            },
            "type": "scatterpolargl"
           }
          ],
          "scatterternary": [
           {
            "marker": {
             "colorbar": {
              "outlinewidth": 0,
              "ticks": ""
             }
            },
            "type": "scatterternary"
           }
          ],
          "surface": [
           {
            "colorbar": {
             "outlinewidth": 0,
             "ticks": ""
            },
            "colorscale": [
             [
              0,
              "#0d0887"
             ],
             [
              0.1111111111111111,
              "#46039f"
             ],
             [
              0.2222222222222222,
              "#7201a8"
             ],
             [
              0.3333333333333333,
              "#9c179e"
             ],
             [
              0.4444444444444444,
              "#bd3786"
             ],
             [
              0.5555555555555556,
              "#d8576b"
             ],
             [
              0.6666666666666666,
              "#ed7953"
             ],
             [
              0.7777777777777778,
              "#fb9f3a"
             ],
             [
              0.8888888888888888,
              "#fdca26"
             ],
             [
              1,
              "#f0f921"
             ]
            ],
            "type": "surface"
           }
          ],
          "table": [
           {
            "cells": {
             "fill": {
              "color": "#EBF0F8"
             },
             "line": {
              "color": "white"
             }
            },
            "header": {
             "fill": {
              "color": "#C8D4E3"
             },
             "line": {
              "color": "white"
             }
            },
            "type": "table"
           }
          ]
         },
         "layout": {
          "annotationdefaults": {
           "arrowcolor": "#2a3f5f",
           "arrowhead": 0,
           "arrowwidth": 1
          },
          "autotypenumbers": "strict",
          "coloraxis": {
           "colorbar": {
            "outlinewidth": 0,
            "ticks": ""
           }
          },
          "colorscale": {
           "diverging": [
            [
             0,
             "#8e0152"
            ],
            [
             0.1,
             "#c51b7d"
            ],
            [
             0.2,
             "#de77ae"
            ],
            [
             0.3,
             "#f1b6da"
            ],
            [
             0.4,
             "#fde0ef"
            ],
            [
             0.5,
             "#f7f7f7"
            ],
            [
             0.6,
             "#e6f5d0"
            ],
            [
             0.7,
             "#b8e186"
            ],
            [
             0.8,
             "#7fbc41"
            ],
            [
             0.9,
             "#4d9221"
            ],
            [
             1,
             "#276419"
            ]
           ],
           "sequential": [
            [
             0,
             "#0d0887"
            ],
            [
             0.1111111111111111,
             "#46039f"
            ],
            [
             0.2222222222222222,
             "#7201a8"
            ],
            [
             0.3333333333333333,
             "#9c179e"
            ],
            [
             0.4444444444444444,
             "#bd3786"
            ],
            [
             0.5555555555555556,
             "#d8576b"
            ],
            [
             0.6666666666666666,
             "#ed7953"
            ],
            [
             0.7777777777777778,
             "#fb9f3a"
            ],
            [
             0.8888888888888888,
             "#fdca26"
            ],
            [
             1,
             "#f0f921"
            ]
           ],
           "sequentialminus": [
            [
             0,
             "#0d0887"
            ],
            [
             0.1111111111111111,
             "#46039f"
            ],
            [
             0.2222222222222222,
             "#7201a8"
            ],
            [
             0.3333333333333333,
             "#9c179e"
            ],
            [
             0.4444444444444444,
             "#bd3786"
            ],
            [
             0.5555555555555556,
             "#d8576b"
            ],
            [
             0.6666666666666666,
             "#ed7953"
            ],
            [
             0.7777777777777778,
             "#fb9f3a"
            ],
            [
             0.8888888888888888,
             "#fdca26"
            ],
            [
             1,
             "#f0f921"
            ]
           ]
          },
          "colorway": [
           "#636efa",
           "#EF553B",
           "#00cc96",
           "#ab63fa",
           "#FFA15A",
           "#19d3f3",
           "#FF6692",
           "#B6E880",
           "#FF97FF",
           "#FECB52"
          ],
          "font": {
           "color": "#2a3f5f"
          },
          "geo": {
           "bgcolor": "white",
           "lakecolor": "white",
           "landcolor": "#E5ECF6",
           "showlakes": true,
           "showland": true,
           "subunitcolor": "white"
          },
          "hoverlabel": {
           "align": "left"
          },
          "hovermode": "closest",
          "mapbox": {
           "style": "light"
          },
          "paper_bgcolor": "white",
          "plot_bgcolor": "#E5ECF6",
          "polar": {
           "angularaxis": {
            "gridcolor": "white",
            "linecolor": "white",
            "ticks": ""
           },
           "bgcolor": "#E5ECF6",
           "radialaxis": {
            "gridcolor": "white",
            "linecolor": "white",
            "ticks": ""
           }
          },
          "scene": {
           "xaxis": {
            "backgroundcolor": "#E5ECF6",
            "gridcolor": "white",
            "gridwidth": 2,
            "linecolor": "white",
            "showbackground": true,
            "ticks": "",
            "zerolinecolor": "white"
           },
           "yaxis": {
            "backgroundcolor": "#E5ECF6",
            "gridcolor": "white",
            "gridwidth": 2,
            "linecolor": "white",
            "showbackground": true,
            "ticks": "",
            "zerolinecolor": "white"
           },
           "zaxis": {
            "backgroundcolor": "#E5ECF6",
            "gridcolor": "white",
            "gridwidth": 2,
            "linecolor": "white",
            "showbackground": true,
            "ticks": "",
            "zerolinecolor": "white"
           }
          },
          "shapedefaults": {
           "line": {
            "color": "#2a3f5f"
           }
          },
          "ternary": {
           "aaxis": {
            "gridcolor": "white",
            "linecolor": "white",
            "ticks": ""
           },
           "baxis": {
            "gridcolor": "white",
            "linecolor": "white",
            "ticks": ""
           },
           "bgcolor": "#E5ECF6",
           "caxis": {
            "gridcolor": "white",
            "linecolor": "white",
            "ticks": ""
           }
          },
          "title": {
           "x": 0.05
          },
          "xaxis": {
           "automargin": true,
           "gridcolor": "white",
           "linecolor": "white",
           "ticks": "",
           "title": {
            "standoff": 15
           },
           "zerolinecolor": "white",
           "zerolinewidth": 2
          },
          "yaxis": {
           "automargin": true,
           "gridcolor": "white",
           "linecolor": "white",
           "ticks": "",
           "title": {
            "standoff": 15
           },
           "zerolinecolor": "white",
           "zerolinewidth": 2
          }
         }
        },
        "title": {
         "text": "Size defined by Metadata_concentration_uM"
        },
        "updatemenus": [
         {
          "buttons": [
           {
            "args": [
             "visible",
             "legendonly"
            ],
            "label": "Deselect All",
            "method": "restyle"
           },
           {
            "args": [
             "visible",
             true
            ],
            "label": "Select All",
            "method": "restyle"
           }
          ],
          "direction": "left",
          "pad": {
           "r": 5,
           "t": 5
          },
          "showactive": true,
          "type": "buttons",
          "x": 1,
          "xanchor": "left",
          "y": 1.1,
          "yanchor": "top"
         }
        ],
        "width": 900
       }
      }
     },
     "metadata": {},
     "output_type": "display_data"
    }
   ],
   "source": [
    "combat_util.plot_umap_3d(df_3d, color_col='Metadata_Severity Class', \n",
    "                    #   split_df = False, split_column = None, np = None,\n",
    "                      hover_cols=hover_list,\n",
    "                      size=True, size_col = \"Metadata_concentration_uM\",\n",
    "                      # x=\"0\", y=\"1\",\n",
    "                      # error_x=\"x_err\", error_y=\"y_err\",\n",
    "                       dili_score_color=True, discrete=True\n",
    "                      )"
   ]
  },
  {
   "cell_type": "markdown",
   "metadata": {},
   "source": [
    "## Paper revision 16/02/2025\n",
    "\n",
    "- Add non-treated"
   ]
  },
  {
   "cell_type": "code",
   "execution_count": 44,
   "metadata": {},
   "outputs": [
    {
     "data": {
      "text/plain": [
       "array(['Aspirin', 'Amiodarone', 'Cyclophosphamide', 'Etoposide',\n",
       "       'Non-treated', 'Lovastatin', 'Orphenadrine'], dtype=object)"
      ]
     },
     "execution_count": 44,
     "metadata": {},
     "output_type": "execute_result"
    }
   ],
   "source": [
    "df_filtered[\"Metadata_compound\"].unique()"
   ]
  },
  {
   "cell_type": "code",
   "execution_count": 45,
   "metadata": {},
   "outputs": [],
   "source": [
    "df_3d = combat_util.generate_x_y_umap(df_filtered, n_neighbors=n_neighbors_input, \n",
    "                                                  min_dist=min_dist_input, metric=metric, iterate=True, \n",
    "                                                  number_runs=number_of_iterations, n_components=3)"
   ]
  },
  {
   "cell_type": "code",
   "execution_count": 47,
   "metadata": {},
   "outputs": [
    {
     "data": {
      "text/html": [
       "<div>\n",
       "<style scoped>\n",
       "    .dataframe tbody tr th:only-of-type {\n",
       "        vertical-align: middle;\n",
       "    }\n",
       "\n",
       "    .dataframe tbody tr th {\n",
       "        vertical-align: top;\n",
       "    }\n",
       "\n",
       "    .dataframe thead th {\n",
       "        text-align: right;\n",
       "    }\n",
       "</style>\n",
       "<table border=\"1\" class=\"dataframe\">\n",
       "  <thead>\n",
       "    <tr style=\"text-align: right;\">\n",
       "      <th></th>\n",
       "      <th>0</th>\n",
       "      <th>1</th>\n",
       "      <th>2</th>\n",
       "      <th>0_err</th>\n",
       "      <th>1_err</th>\n",
       "      <th>2_err</th>\n",
       "      <th>Metadata_Compound_concentration</th>\n",
       "      <th>Metadata_plate_map_name</th>\n",
       "      <th>Metadata_concentration_uM</th>\n",
       "      <th>Metadata_cell_type</th>\n",
       "      <th>Metadata_compound</th>\n",
       "      <th>Metadata_moa</th>\n",
       "      <th>Metadata_DILI-concern</th>\n",
       "      <th>Metadata_Severity Class</th>\n",
       "      <th>Metadata_control_type</th>\n",
       "      <th>Metadata_Plate</th>\n",
       "      <th>Metadata_Well</th>\n",
       "      <th>Metadata_compound_concentration_uM</th>\n",
       "      <th>Metadata_TranposedSamples</th>\n",
       "    </tr>\n",
       "  </thead>\n",
       "  <tbody>\n",
       "    <tr>\n",
       "      <th>0</th>\n",
       "      <td>4.847445</td>\n",
       "      <td>18.727148</td>\n",
       "      <td>-3.901541</td>\n",
       "      <td>4.291534e-06</td>\n",
       "      <td>0.000013</td>\n",
       "      <td>2.861023e-06</td>\n",
       "      <td>Aspirin_1</td>\n",
       "      <td>platemap_dili</td>\n",
       "      <td>1</td>\n",
       "      <td>Huh7</td>\n",
       "      <td>Aspirin</td>\n",
       "      <td>COX inhibitor</td>\n",
       "      <td>Less-DILI-Concern</td>\n",
       "      <td>0</td>\n",
       "      <td>trt</td>\n",
       "      <td>220607_092050_Plate_1</td>\n",
       "      <td>B3</td>\n",
       "      <td>Aspirin 1</td>\n",
       "      <td>B3_220607_092050_Plate_1</td>\n",
       "    </tr>\n",
       "    <tr>\n",
       "      <th>1</th>\n",
       "      <td>4.154488</td>\n",
       "      <td>18.702734</td>\n",
       "      <td>-3.487845</td>\n",
       "      <td>3.337860e-06</td>\n",
       "      <td>0.000010</td>\n",
       "      <td>9.536743e-07</td>\n",
       "      <td>Aspirin_10</td>\n",
       "      <td>platemap_dili</td>\n",
       "      <td>10</td>\n",
       "      <td>Huh7</td>\n",
       "      <td>Aspirin</td>\n",
       "      <td>COX inhibitor</td>\n",
       "      <td>Less-DILI-Concern</td>\n",
       "      <td>0</td>\n",
       "      <td>trt</td>\n",
       "      <td>220607_092050_Plate_1</td>\n",
       "      <td>B4</td>\n",
       "      <td>Aspirin 10</td>\n",
       "      <td>B4_220607_092050_Plate_1</td>\n",
       "    </tr>\n",
       "    <tr>\n",
       "      <th>2</th>\n",
       "      <td>5.136414</td>\n",
       "      <td>19.829592</td>\n",
       "      <td>-3.405761</td>\n",
       "      <td>3.337860e-06</td>\n",
       "      <td>0.000004</td>\n",
       "      <td>1.907349e-06</td>\n",
       "      <td>Amiodarone_1</td>\n",
       "      <td>platemap_dili</td>\n",
       "      <td>1</td>\n",
       "      <td>Huh7</td>\n",
       "      <td>Amiodarone</td>\n",
       "      <td>sodium/potassium-ATPase inhibitor</td>\n",
       "      <td>Most-DILI-Concern</td>\n",
       "      <td>8</td>\n",
       "      <td>trt</td>\n",
       "      <td>220607_092050_Plate_1</td>\n",
       "      <td>B5</td>\n",
       "      <td>Amiodarone 1</td>\n",
       "      <td>B5_220607_092050_Plate_1</td>\n",
       "    </tr>\n",
       "    <tr>\n",
       "      <th>3</th>\n",
       "      <td>4.168638</td>\n",
       "      <td>17.328096</td>\n",
       "      <td>-2.534576</td>\n",
       "      <td>4.291534e-06</td>\n",
       "      <td>0.000006</td>\n",
       "      <td>1.668930e-06</td>\n",
       "      <td>Amiodarone_10</td>\n",
       "      <td>platemap_dili</td>\n",
       "      <td>10</td>\n",
       "      <td>Huh7</td>\n",
       "      <td>Amiodarone</td>\n",
       "      <td>sodium/potassium-ATPase inhibitor</td>\n",
       "      <td>Most-DILI-Concern</td>\n",
       "      <td>8</td>\n",
       "      <td>trt</td>\n",
       "      <td>220607_092050_Plate_1</td>\n",
       "      <td>B6</td>\n",
       "      <td>Amiodarone 10</td>\n",
       "      <td>B6_220607_092050_Plate_1</td>\n",
       "    </tr>\n",
       "    <tr>\n",
       "      <th>4</th>\n",
       "      <td>5.013251</td>\n",
       "      <td>18.708097</td>\n",
       "      <td>-3.392193</td>\n",
       "      <td>3.337860e-06</td>\n",
       "      <td>0.000025</td>\n",
       "      <td>3.099442e-06</td>\n",
       "      <td>Cyclophosphamide_1</td>\n",
       "      <td>platemap_dili</td>\n",
       "      <td>1</td>\n",
       "      <td>Huh7</td>\n",
       "      <td>Cyclophosphamide</td>\n",
       "      <td>DNA alkylation</td>\n",
       "      <td>\\tLess-DILI-Concern</td>\n",
       "      <td>5</td>\n",
       "      <td>trt</td>\n",
       "      <td>220607_092050_Plate_1</td>\n",
       "      <td>B7</td>\n",
       "      <td>Cyclophosphamide 1</td>\n",
       "      <td>B7_220607_092050_Plate_1</td>\n",
       "    </tr>\n",
       "    <tr>\n",
       "      <th>...</th>\n",
       "      <td>...</td>\n",
       "      <td>...</td>\n",
       "      <td>...</td>\n",
       "      <td>...</td>\n",
       "      <td>...</td>\n",
       "      <td>...</td>\n",
       "      <td>...</td>\n",
       "      <td>...</td>\n",
       "      <td>...</td>\n",
       "      <td>...</td>\n",
       "      <td>...</td>\n",
       "      <td>...</td>\n",
       "      <td>...</td>\n",
       "      <td>...</td>\n",
       "      <td>...</td>\n",
       "      <td>...</td>\n",
       "      <td>...</td>\n",
       "      <td>...</td>\n",
       "      <td>...</td>\n",
       "    </tr>\n",
       "    <tr>\n",
       "      <th>214</th>\n",
       "      <td>5.374900</td>\n",
       "      <td>15.987306</td>\n",
       "      <td>-2.419280</td>\n",
       "      <td>4.768372e-06</td>\n",
       "      <td>0.000005</td>\n",
       "      <td>1.430511e-06</td>\n",
       "      <td>Etoposide_1</td>\n",
       "      <td>layout_day2</td>\n",
       "      <td>1</td>\n",
       "      <td>Huh7</td>\n",
       "      <td>Etoposide</td>\n",
       "      <td>topoisomerase II inhibition</td>\n",
       "      <td>Less-DILI-Concern</td>\n",
       "      <td>3</td>\n",
       "      <td>trt</td>\n",
       "      <td>231011_183822_Plate_1</td>\n",
       "      <td>G7</td>\n",
       "      <td>Etoposide 1</td>\n",
       "      <td>G7_231011_183822_Plate_1</td>\n",
       "    </tr>\n",
       "    <tr>\n",
       "      <th>215</th>\n",
       "      <td>5.621087</td>\n",
       "      <td>15.492392</td>\n",
       "      <td>-2.235885</td>\n",
       "      <td>7.629395e-06</td>\n",
       "      <td>0.000017</td>\n",
       "      <td>2.384186e-06</td>\n",
       "      <td>Etoposide_1</td>\n",
       "      <td>layout_day2</td>\n",
       "      <td>1</td>\n",
       "      <td>Huh7</td>\n",
       "      <td>Etoposide</td>\n",
       "      <td>topoisomerase II inhibition</td>\n",
       "      <td>Less-DILI-Concern</td>\n",
       "      <td>3</td>\n",
       "      <td>trt</td>\n",
       "      <td>231011_183822_Plate_1</td>\n",
       "      <td>G8</td>\n",
       "      <td>Etoposide 1</td>\n",
       "      <td>G8_231011_183822_Plate_1</td>\n",
       "    </tr>\n",
       "    <tr>\n",
       "      <th>216</th>\n",
       "      <td>6.024388</td>\n",
       "      <td>15.444217</td>\n",
       "      <td>-2.577637</td>\n",
       "      <td>2.384186e-06</td>\n",
       "      <td>0.000006</td>\n",
       "      <td>0.000000e+00</td>\n",
       "      <td>Etoposide_1</td>\n",
       "      <td>layout_day2</td>\n",
       "      <td>1</td>\n",
       "      <td>Huh7</td>\n",
       "      <td>Etoposide</td>\n",
       "      <td>topoisomerase II inhibition</td>\n",
       "      <td>Less-DILI-Concern</td>\n",
       "      <td>3</td>\n",
       "      <td>trt</td>\n",
       "      <td>231011_183822_Plate_1</td>\n",
       "      <td>G9</td>\n",
       "      <td>Etoposide 1</td>\n",
       "      <td>G9_231011_183822_Plate_1</td>\n",
       "    </tr>\n",
       "    <tr>\n",
       "      <th>217</th>\n",
       "      <td>3.044080</td>\n",
       "      <td>18.968660</td>\n",
       "      <td>-0.789942</td>\n",
       "      <td>0.000000e+00</td>\n",
       "      <td>0.000023</td>\n",
       "      <td>1.192093e-07</td>\n",
       "      <td>Lovastatin_1</td>\n",
       "      <td>layout_day2</td>\n",
       "      <td>1</td>\n",
       "      <td>Huh7</td>\n",
       "      <td>Lovastatin</td>\n",
       "      <td>HMG-CoA reductase inhibitor</td>\n",
       "      <td>Less-DILI-Concern</td>\n",
       "      <td>3</td>\n",
       "      <td>trt</td>\n",
       "      <td>231011_183822_Plate_1</td>\n",
       "      <td>G10</td>\n",
       "      <td>Lovastatin 1</td>\n",
       "      <td>G10_231011_183822_Plate_1</td>\n",
       "    </tr>\n",
       "    <tr>\n",
       "      <th>218</th>\n",
       "      <td>3.499686</td>\n",
       "      <td>18.786898</td>\n",
       "      <td>-0.660240</td>\n",
       "      <td>7.152557e-07</td>\n",
       "      <td>0.000021</td>\n",
       "      <td>2.980232e-07</td>\n",
       "      <td>Lovastatin_10</td>\n",
       "      <td>layout_day2</td>\n",
       "      <td>10</td>\n",
       "      <td>Huh7</td>\n",
       "      <td>Lovastatin</td>\n",
       "      <td>HMG-CoA reductase inhibitor</td>\n",
       "      <td>Less-DILI-Concern</td>\n",
       "      <td>3</td>\n",
       "      <td>trt</td>\n",
       "      <td>231011_183822_Plate_1</td>\n",
       "      <td>G11</td>\n",
       "      <td>Lovastatin 10</td>\n",
       "      <td>G11_231011_183822_Plate_1</td>\n",
       "    </tr>\n",
       "  </tbody>\n",
       "</table>\n",
       "<p>219 rows × 19 columns</p>\n",
       "</div>"
      ],
      "text/plain": [
       "            0          1         2         0_err     1_err         2_err  \\\n",
       "0    4.847445  18.727148 -3.901541  4.291534e-06  0.000013  2.861023e-06   \n",
       "1    4.154488  18.702734 -3.487845  3.337860e-06  0.000010  9.536743e-07   \n",
       "2    5.136414  19.829592 -3.405761  3.337860e-06  0.000004  1.907349e-06   \n",
       "3    4.168638  17.328096 -2.534576  4.291534e-06  0.000006  1.668930e-06   \n",
       "4    5.013251  18.708097 -3.392193  3.337860e-06  0.000025  3.099442e-06   \n",
       "..        ...        ...       ...           ...       ...           ...   \n",
       "214  5.374900  15.987306 -2.419280  4.768372e-06  0.000005  1.430511e-06   \n",
       "215  5.621087  15.492392 -2.235885  7.629395e-06  0.000017  2.384186e-06   \n",
       "216  6.024388  15.444217 -2.577637  2.384186e-06  0.000006  0.000000e+00   \n",
       "217  3.044080  18.968660 -0.789942  0.000000e+00  0.000023  1.192093e-07   \n",
       "218  3.499686  18.786898 -0.660240  7.152557e-07  0.000021  2.980232e-07   \n",
       "\n",
       "    Metadata_Compound_concentration Metadata_plate_map_name  \\\n",
       "0                         Aspirin_1           platemap_dili   \n",
       "1                        Aspirin_10           platemap_dili   \n",
       "2                      Amiodarone_1           platemap_dili   \n",
       "3                     Amiodarone_10           platemap_dili   \n",
       "4                Cyclophosphamide_1           platemap_dili   \n",
       "..                              ...                     ...   \n",
       "214                     Etoposide_1             layout_day2   \n",
       "215                     Etoposide_1             layout_day2   \n",
       "216                     Etoposide_1             layout_day2   \n",
       "217                    Lovastatin_1             layout_day2   \n",
       "218                   Lovastatin_10             layout_day2   \n",
       "\n",
       "     Metadata_concentration_uM Metadata_cell_type Metadata_compound  \\\n",
       "0                            1               Huh7           Aspirin   \n",
       "1                           10               Huh7           Aspirin   \n",
       "2                            1               Huh7        Amiodarone   \n",
       "3                           10               Huh7        Amiodarone   \n",
       "4                            1               Huh7  Cyclophosphamide   \n",
       "..                         ...                ...               ...   \n",
       "214                          1               Huh7         Etoposide   \n",
       "215                          1               Huh7         Etoposide   \n",
       "216                          1               Huh7         Etoposide   \n",
       "217                          1               Huh7        Lovastatin   \n",
       "218                         10               Huh7        Lovastatin   \n",
       "\n",
       "                          Metadata_moa Metadata_DILI-concern  \\\n",
       "0                        COX inhibitor     Less-DILI-Concern   \n",
       "1                        COX inhibitor     Less-DILI-Concern   \n",
       "2    sodium/potassium-ATPase inhibitor     Most-DILI-Concern   \n",
       "3    sodium/potassium-ATPase inhibitor     Most-DILI-Concern   \n",
       "4                      DNA alkylation    \\tLess-DILI-Concern   \n",
       "..                                 ...                   ...   \n",
       "214        topoisomerase II inhibition     Less-DILI-Concern   \n",
       "215        topoisomerase II inhibition     Less-DILI-Concern   \n",
       "216        topoisomerase II inhibition     Less-DILI-Concern   \n",
       "217        HMG-CoA reductase inhibitor     Less-DILI-Concern   \n",
       "218        HMG-CoA reductase inhibitor     Less-DILI-Concern   \n",
       "\n",
       "     Metadata_Severity Class Metadata_control_type         Metadata_Plate  \\\n",
       "0                          0                   trt  220607_092050_Plate_1   \n",
       "1                          0                   trt  220607_092050_Plate_1   \n",
       "2                          8                   trt  220607_092050_Plate_1   \n",
       "3                          8                   trt  220607_092050_Plate_1   \n",
       "4                          5                   trt  220607_092050_Plate_1   \n",
       "..                       ...                   ...                    ...   \n",
       "214                        3                   trt  231011_183822_Plate_1   \n",
       "215                        3                   trt  231011_183822_Plate_1   \n",
       "216                        3                   trt  231011_183822_Plate_1   \n",
       "217                        3                   trt  231011_183822_Plate_1   \n",
       "218                        3                   trt  231011_183822_Plate_1   \n",
       "\n",
       "    Metadata_Well Metadata_compound_concentration_uM  \\\n",
       "0              B3                          Aspirin 1   \n",
       "1              B4                         Aspirin 10   \n",
       "2              B5                       Amiodarone 1   \n",
       "3              B6                      Amiodarone 10   \n",
       "4              B7                 Cyclophosphamide 1   \n",
       "..            ...                                ...   \n",
       "214            G7                        Etoposide 1   \n",
       "215            G8                        Etoposide 1   \n",
       "216            G9                        Etoposide 1   \n",
       "217           G10                       Lovastatin 1   \n",
       "218           G11                      Lovastatin 10   \n",
       "\n",
       "     Metadata_TranposedSamples  \n",
       "0     B3_220607_092050_Plate_1  \n",
       "1     B4_220607_092050_Plate_1  \n",
       "2     B5_220607_092050_Plate_1  \n",
       "3     B6_220607_092050_Plate_1  \n",
       "4     B7_220607_092050_Plate_1  \n",
       "..                         ...  \n",
       "214   G7_231011_183822_Plate_1  \n",
       "215   G8_231011_183822_Plate_1  \n",
       "216   G9_231011_183822_Plate_1  \n",
       "217  G10_231011_183822_Plate_1  \n",
       "218  G11_231011_183822_Plate_1  \n",
       "\n",
       "[219 rows x 19 columns]"
      ]
     },
     "execution_count": 47,
     "metadata": {},
     "output_type": "execute_result"
    }
   ],
   "source": [
    "df_3d"
   ]
  },
  {
   "cell_type": "code",
   "execution_count": 52,
   "metadata": {},
   "outputs": [],
   "source": [
    "df_3d[\"Metadata_concentration_uM_plot\"] = df_3d[\"Metadata_concentration_uM\"].replace(0, 5)"
   ]
  },
  {
   "cell_type": "code",
   "execution_count": 53,
   "metadata": {},
   "outputs": [
    {
     "name": "stdout",
     "output_type": "stream",
     "text": [
      "{'Aspirin': '#1f78b4', 'Amiodarone': '#33a02c', 'Cyclophosphamide': '#9467bd', 'Etoposide': '#ff7f00', 'Non-treated': '#808080', 'Lovastatin': '#8c564b', 'Orphenadrine': '#e377c2'}\n"
     ]
    },
    {
     "data": {
      "application/vnd.plotly.v1+json": {
       "config": {
        "plotlyServerURL": "https://plot.ly",
        "toImageButtonOptions": {
         "filename": "custom_image",
         "format": "svg",
         "height": 500,
         "scale": 6,
         "width": 700
        }
       },
       "data": [
        {
         "customdata": [
          [
           "220607_092050_Plate_1",
           "B3",
           "Aspirin",
           1
          ],
          [
           "231011_183822_Plate_1",
           "B7",
           "Aspirin",
           1
          ],
          [
           "220617_090443_Plate_1",
           "D3",
           "Aspirin",
           1
          ],
          [
           "231011_183822_Plate_1",
           "B8",
           "Aspirin",
           1
          ],
          [
           "231011_183822_Plate_1",
           "B9",
           "Aspirin",
           1
          ],
          [
           "220617_090443_Plate_1",
           "C3",
           "Aspirin",
           1
          ],
          [
           "220617_090443_Plate_1",
           "B3",
           "Aspirin",
           1
          ],
          [
           "220608_152238_Plate_1",
           "D3",
           "Aspirin",
           1
          ],
          [
           "231011_183822_Plate_1",
           "B6",
           "Aspirin",
           1
          ],
          [
           "231006_132517_Plate_1",
           "G2",
           "Aspirin",
           1
          ],
          [
           "231006_132517_Plate_1",
           "G3",
           "Aspirin",
           1
          ],
          [
           "231006_132517_Plate_1",
           "G4",
           "Aspirin",
           1
          ],
          [
           "231006_132517_Plate_1",
           "G5",
           "Aspirin",
           1
          ],
          [
           "220608_152238_Plate_1",
           "B3",
           "Aspirin",
           1
          ],
          [
           "220607_092050_Plate_1",
           "C3",
           "Aspirin",
           1
          ],
          [
           "220607_092050_Plate_1",
           "D3",
           "Aspirin",
           1
          ],
          [
           "220608_152238_Plate_1",
           "C3",
           "Aspirin",
           1
          ],
          [
           "231011_183822_Plate_1",
           "B4",
           "Aspirin",
           10
          ],
          [
           "231011_183822_Plate_1",
           "B5",
           "Aspirin",
           10
          ],
          [
           "231011_183822_Plate_1",
           "B3",
           "Aspirin",
           10
          ],
          [
           "231011_183822_Plate_1",
           "B2",
           "Aspirin",
           10
          ],
          [
           "231006_132517_Plate_1",
           "G9",
           "Aspirin",
           10
          ],
          [
           "231006_132517_Plate_1",
           "G8",
           "Aspirin",
           10
          ],
          [
           "231006_132517_Plate_1",
           "G7",
           "Aspirin",
           10
          ],
          [
           "231006_132517_Plate_1",
           "G6",
           "Aspirin",
           10
          ],
          [
           "220608_152238_Plate_1",
           "D4",
           "Aspirin",
           10
          ],
          [
           "220608_152238_Plate_1",
           "C4",
           "Aspirin",
           10
          ],
          [
           "220608_152238_Plate_1",
           "B4",
           "Aspirin",
           10
          ],
          [
           "220607_092050_Plate_1",
           "D4",
           "Aspirin",
           10
          ],
          [
           "220607_092050_Plate_1",
           "C4",
           "Aspirin",
           10
          ],
          [
           "220607_092050_Plate_1",
           "B4",
           "Aspirin",
           10
          ],
          [
           "220617_090443_Plate_1",
           "D4",
           "Aspirin",
           10
          ],
          [
           "220617_090443_Plate_1",
           "C4",
           "Aspirin",
           10
          ],
          [
           "220617_090443_Plate_1",
           "B4",
           "Aspirin",
           10
          ]
         ],
         "hovertemplate": "colors_plot_col=Aspirin<br>0=%{x}<br>1=%{y}<br>2=%{z}<br>Metadata_size=%{marker.size}<br>Metadata_Plate=%{customdata[0]}<br>Metadata_Well=%{customdata[1]}<br>Metadata_compound=%{customdata[2]}<br>Metadata_concentration_uM=%{customdata[3]}<extra></extra>",
         "legendgroup": "Aspirin",
         "marker": {
          "color": "#1f78b4",
          "size": [
           1,
           1,
           1,
           1,
           1,
           1,
           1,
           1,
           1,
           1,
           1,
           1,
           1,
           1,
           1,
           1,
           1,
           10,
           10,
           10,
           10,
           10,
           10,
           10,
           10,
           10,
           10,
           10,
           10,
           10,
           10,
           10,
           10,
           10
          ],
          "sizemode": "area",
          "sizeref": 0.025,
          "symbol": "circle"
         },
         "mode": "markers",
         "name": "Aspirin",
         "scene": "scene",
         "showlegend": true,
         "type": "scatter3d",
         "x": [
          4.847444534301758,
          7.318647861480713,
          4.705930709838867,
          7.297916889190674,
          4.724495887756348,
          4.819404602050781,
          5.837769031524658,
          2.458148241043091,
          7.785038948059082,
          4.930419445037842,
          4.718599319458008,
          5.939671516418457,
          3.8028252124786377,
          4.858855724334717,
          5.867677688598633,
          2.5190165042877197,
          6.221623420715332,
          7.232954502105713,
          7.51031494140625,
          7.190774440765381,
          7.556804180145264,
          3.801908016204834,
          5.899328231811523,
          6.090325832366943,
          5.643805503845215,
          3.028384208679199,
          3.399759292602539,
          5.255552291870117,
          2.7549097537994385,
          4.544409275054932,
          4.154487609863281,
          2.9615907669067383,
          3.6702780723571777,
          6.210590362548828
         ],
         "y": [
          18.727148056030273,
          18.18295669555664,
          19.931642532348633,
          19.026853561401367,
          18.056734085083008,
          20.138887405395508,
          18.44910430908203,
          18.82164764404297,
          18.38610076904297,
          17.100801467895508,
          17.031278610229492,
          17.97962188720703,
          19.960966110229492,
          19.1447696685791,
          18.192262649536133,
          18.860010147094727,
          18.865877151489258,
          18.06041717529297,
          18.32227325439453,
          17.69478988647461,
          18.07889175415039,
          17.60781478881836,
          16.907114028930664,
          18.00644302368164,
          18.66175079345703,
          19.12779998779297,
          18.68871307373047,
          19.22840118408203,
          18.48912811279297,
          18.239133834838867,
          18.702733993530273,
          18.16431427001953,
          17.180662155151367,
          18.95384979248047
         ],
         "z": [
          -3.901540756225586,
          -2.1055099964141846,
          0.22970204055309296,
          -1.9259949922561646,
          -2.5571320056915283,
          -2.8169240951538086,
          -4.033417224884033,
          -1.6912989616394043,
          -0.9116445183753967,
          -0.7069438695907593,
          -0.9192636609077454,
          -2.355757713317871,
          -2.2877469062805176,
          -3.5731513500213623,
          -0.8698452711105347,
          -1.1211069822311401,
          -1.4826594591140747,
          -0.9256006479263306,
          -1.3844588994979858,
          -0.7763053774833679,
          -0.5154216289520264,
          -2.8849310874938965,
          -1.3715075254440308,
          -2.8928117752075195,
          -2.485210418701172,
          -2.6069977283477783,
          -1.322683572769165,
          -3.6872565746307373,
          -1.984465479850769,
          -3.215364933013916,
          -3.4878454208374023,
          -2.9183969497680664,
          -2.534161329269409,
          -4.096245288848877
         ]
        },
        {
         "customdata": [
          [
           "220617_090443_Plate_1",
           "D5",
           "Amiodarone",
           1
          ],
          [
           "220617_090443_Plate_1",
           "C5",
           "Amiodarone",
           1
          ],
          [
           "220617_090443_Plate_1",
           "B5",
           "Amiodarone",
           1
          ],
          [
           "220608_152238_Plate_1",
           "D5",
           "Amiodarone",
           1
          ],
          [
           "231006_132517_Plate_1",
           "B5",
           "Amiodarone",
           1
          ],
          [
           "231006_132517_Plate_1",
           "B4",
           "Amiodarone",
           1
          ],
          [
           "231006_132517_Plate_1",
           "B3",
           "Amiodarone",
           1
          ],
          [
           "231006_132517_Plate_1",
           "B2",
           "Amiodarone",
           1
          ],
          [
           "231011_183822_Plate_1",
           "E7",
           "Amiodarone",
           1
          ],
          [
           "231011_183822_Plate_1",
           "E8",
           "Amiodarone",
           1
          ],
          [
           "231011_183822_Plate_1",
           "E9",
           "Amiodarone",
           1
          ],
          [
           "220608_152238_Plate_1",
           "B5",
           "Amiodarone",
           1
          ],
          [
           "220607_092050_Plate_1",
           "D5",
           "Amiodarone",
           1
          ],
          [
           "220607_092050_Plate_1",
           "C5",
           "Amiodarone",
           1
          ],
          [
           "231011_183822_Plate_1",
           "E6",
           "Amiodarone",
           1
          ],
          [
           "220607_092050_Plate_1",
           "B5",
           "Amiodarone",
           1
          ],
          [
           "220608_152238_Plate_1",
           "C5",
           "Amiodarone",
           1
          ],
          [
           "231011_183822_Plate_1",
           "E2",
           "Amiodarone",
           10
          ],
          [
           "231011_183822_Plate_1",
           "E3",
           "Amiodarone",
           10
          ],
          [
           "231011_183822_Plate_1",
           "E4",
           "Amiodarone",
           10
          ],
          [
           "231011_183822_Plate_1",
           "E5",
           "Amiodarone",
           10
          ],
          [
           "220608_152238_Plate_1",
           "D6",
           "Amiodarone",
           10
          ],
          [
           "220608_152238_Plate_1",
           "C6",
           "Amiodarone",
           10
          ],
          [
           "220608_152238_Plate_1",
           "B6",
           "Amiodarone",
           10
          ],
          [
           "220607_092050_Plate_1",
           "D6",
           "Amiodarone",
           10
          ],
          [
           "220607_092050_Plate_1",
           "C6",
           "Amiodarone",
           10
          ],
          [
           "220607_092050_Plate_1",
           "B6",
           "Amiodarone",
           10
          ],
          [
           "231006_132517_Plate_1",
           "B9",
           "Amiodarone",
           10
          ],
          [
           "231006_132517_Plate_1",
           "B8",
           "Amiodarone",
           10
          ],
          [
           "231006_132517_Plate_1",
           "B7",
           "Amiodarone",
           10
          ],
          [
           "231006_132517_Plate_1",
           "B6",
           "Amiodarone",
           10
          ],
          [
           "220617_090443_Plate_1",
           "D6",
           "Amiodarone",
           10
          ],
          [
           "220617_090443_Plate_1",
           "C6",
           "Amiodarone",
           10
          ],
          [
           "220617_090443_Plate_1",
           "B6",
           "Amiodarone",
           10
          ]
         ],
         "hovertemplate": "colors_plot_col=Amiodarone<br>0=%{x}<br>1=%{y}<br>2=%{z}<br>Metadata_size=%{marker.size}<br>Metadata_Plate=%{customdata[0]}<br>Metadata_Well=%{customdata[1]}<br>Metadata_compound=%{customdata[2]}<br>Metadata_concentration_uM=%{customdata[3]}<extra></extra>",
         "legendgroup": "Amiodarone",
         "marker": {
          "color": "#33a02c",
          "size": [
           1,
           1,
           1,
           1,
           1,
           1,
           1,
           1,
           1,
           1,
           1,
           1,
           1,
           1,
           1,
           1,
           1,
           10,
           10,
           10,
           10,
           10,
           10,
           10,
           10,
           10,
           10,
           10,
           10,
           10,
           10,
           10,
           10,
           10
          ],
          "sizemode": "area",
          "sizeref": 0.025,
          "symbol": "circle"
         },
         "mode": "markers",
         "name": "Amiodarone",
         "scene": "scene",
         "showlegend": true,
         "type": "scatter3d",
         "x": [
          3.2362678050994873,
          3.241354465484619,
          5.4794535636901855,
          3.0614013671875,
          6.879538059234619,
          5.450951099395752,
          5.160005569458008,
          4.956937789916992,
          4.221071243286133,
          6.7552876472473145,
          6.903707981109619,
          4.165983200073242,
          3.368619680404663,
          3.728342294692993,
          4.655794143676758,
          5.136414051055908,
          3.170239210128784,
          3.724721670150757,
          3.846616268157959,
          3.3271474838256836,
          4.843873977661133,
          3.6686315536499023,
          3.945455312728882,
          4.205939769744873,
          3.219851016998291,
          3.493039131164551,
          4.168638229370117,
          4.056547164916992,
          4.306114673614502,
          4.312157154083252,
          4.366387367248535,
          3.898000717163086,
          3.536163568496704,
          8.071063041687012
         ],
         "y": [
          17.534791946411133,
          18.74463653564453,
          18.845489501953125,
          19.456453323364258,
          18.66576385498047,
          19.9006404876709,
          19.01209259033203,
          18.76905059814453,
          18.965085983276367,
          18.177392959594727,
          18.22435760498047,
          19.436798095703125,
          19.715362548828125,
          18.74219512939453,
          19.868410110473633,
          19.829591751098633,
          19.208520889282227,
          19.5301570892334,
          20.13196563720703,
          19.9223690032959,
          20.166139602661133,
          19.121606826782227,
          19.93566131591797,
          19.808347702026367,
          19.410186767578125,
          19.757232666015625,
          17.328096389770508,
          18.950414657592773,
          18.464689254760742,
          19.090429306030273,
          19.19397735595703,
          18.70629119873047,
          19.35120391845703,
          18.952760696411133
         ],
         "z": [
          -2.661757707595825,
          -1.7991026639938354,
          -4.110167980194092,
          -1.9320071935653687,
          -1.2126460075378418,
          -0.20352746546268463,
          -2.091278314590454,
          -2.363860845565796,
          -0.3558095693588257,
          0.6135216355323792,
          1.0895085334777832,
          -3.062469720840454,
          -2.115431785583496,
          -2.855984687805176,
          -0.6716204881668091,
          -3.4057607650756836,
          -1.9703367948532104,
          -0.858666181564331,
          -1.061559796333313,
          -1.0362550020217896,
          0.3220504820346832,
          -1.7403870820999146,
          -1.4985672235488892,
          -1.975687861442566,
          -1.680842399597168,
          -1.54488205909729,
          -2.5345757007598877,
          -2.7569692134857178,
          -2.7434825897216797,
          -1.9333645105361938,
          -2.045593023300171,
          -1.423477053642273,
          -1.2019901275634766,
          -2.170471429824829
         ]
        },
        {
         "customdata": [
          [
           "220617_090443_Plate_1",
           "C9",
           "Etoposide",
           1
          ],
          [
           "220617_090443_Plate_1",
           "B9",
           "Etoposide",
           1
          ],
          [
           "220608_152238_Plate_1",
           "D9",
           "Etoposide",
           1
          ],
          [
           "231006_132517_Plate_1",
           "E5",
           "Etoposide",
           1
          ],
          [
           "231006_132517_Plate_1",
           "E4",
           "Etoposide",
           1
          ],
          [
           "231006_132517_Plate_1",
           "E3",
           "Etoposide",
           1
          ],
          [
           "231006_132517_Plate_1",
           "E2",
           "Etoposide",
           1
          ],
          [
           "220617_090443_Plate_1",
           "D9",
           "Etoposide",
           1
          ],
          [
           "220608_152238_Plate_1",
           "C9",
           "Etoposide",
           1
          ],
          [
           "231011_183822_Plate_1",
           "G6",
           "Etoposide",
           1
          ],
          [
           "220607_092050_Plate_1",
           "C9",
           "Etoposide",
           1
          ],
          [
           "220607_092050_Plate_1",
           "D9",
           "Etoposide",
           1
          ],
          [
           "231011_183822_Plate_1",
           "G9",
           "Etoposide",
           1
          ],
          [
           "220608_152238_Plate_1",
           "B9",
           "Etoposide",
           1
          ],
          [
           "231011_183822_Plate_1",
           "G8",
           "Etoposide",
           1
          ],
          [
           "220607_092050_Plate_1",
           "B9",
           "Etoposide",
           1
          ],
          [
           "231011_183822_Plate_1",
           "G7",
           "Etoposide",
           1
          ],
          [
           "231011_183822_Plate_1",
           "G4",
           "Etoposide",
           10
          ],
          [
           "231011_183822_Plate_1",
           "G5",
           "Etoposide",
           10
          ],
          [
           "231011_183822_Plate_1",
           "G2",
           "Etoposide",
           10
          ],
          [
           "231006_132517_Plate_1",
           "E9",
           "Etoposide",
           10
          ],
          [
           "231011_183822_Plate_1",
           "G3",
           "Etoposide",
           10
          ],
          [
           "231006_132517_Plate_1",
           "E8",
           "Etoposide",
           10
          ],
          [
           "231006_132517_Plate_1",
           "E6",
           "Etoposide",
           10
          ],
          [
           "220608_152238_Plate_1",
           "D10",
           "Etoposide",
           10
          ],
          [
           "220608_152238_Plate_1",
           "C10",
           "Etoposide",
           10
          ],
          [
           "220608_152238_Plate_1",
           "B10",
           "Etoposide",
           10
          ],
          [
           "220607_092050_Plate_1",
           "D10",
           "Etoposide",
           10
          ],
          [
           "220607_092050_Plate_1",
           "C10",
           "Etoposide",
           10
          ],
          [
           "220607_092050_Plate_1",
           "B10",
           "Etoposide",
           10
          ],
          [
           "231006_132517_Plate_1",
           "E7",
           "Etoposide",
           10
          ],
          [
           "220617_090443_Plate_1",
           "D10",
           "Etoposide",
           10
          ],
          [
           "220617_090443_Plate_1",
           "C10",
           "Etoposide",
           10
          ],
          [
           "220617_090443_Plate_1",
           "B10",
           "Etoposide",
           10
          ]
         ],
         "hovertemplate": "colors_plot_col=Etoposide<br>0=%{x}<br>1=%{y}<br>2=%{z}<br>Metadata_size=%{marker.size}<br>Metadata_Plate=%{customdata[0]}<br>Metadata_Well=%{customdata[1]}<br>Metadata_compound=%{customdata[2]}<br>Metadata_concentration_uM=%{customdata[3]}<extra></extra>",
         "legendgroup": "Etoposide",
         "marker": {
          "color": "#ff7f00",
          "size": [
           1,
           1,
           1,
           1,
           1,
           1,
           1,
           1,
           1,
           1,
           1,
           1,
           1,
           1,
           1,
           1,
           1,
           10,
           10,
           10,
           10,
           10,
           10,
           10,
           10,
           10,
           10,
           10,
           10,
           10,
           10,
           10,
           10,
           10
          ],
          "sizemode": "area",
          "sizeref": 0.025,
          "symbol": "circle"
         },
         "mode": "markers",
         "name": "Etoposide",
         "scene": "scene",
         "showlegend": true,
         "type": "scatter3d",
         "x": [
          6.995687484741211,
          6.775269985198975,
          6.398907661437988,
          7.381086349487305,
          5.196631908416748,
          5.488457202911377,
          6.677313327789307,
          6.180967330932617,
          7.025984287261963,
          4.868101119995117,
          7.065862655639648,
          6.691706657409668,
          6.024388313293457,
          5.641928195953369,
          5.621087074279785,
          6.371213912963867,
          5.374899864196777,
          5.908242702484131,
          5.534145355224609,
          6.269775867462158,
          7.148377895355225,
          6.556232929229736,
          7.473531723022461,
          7.582931041717529,
          6.4930806159973145,
          7.003068923950195,
          6.005209445953369,
          7.226945877075195,
          7.064004898071289,
          7.2221879959106445,
          5.961188316345215,
          6.372069835662842,
          6.590373992919922,
          7.076965808868408
         ],
         "y": [
          15.649452209472656,
          16.785974502563477,
          15.205410957336426,
          16.759119033813477,
          20.4246826171875,
          20.16443634033203,
          15.765135765075684,
          15.669472694396973,
          15.82958698272705,
          16.983736038208008,
          15.762419700622559,
          15.630581855773926,
          15.44421672821045,
          17.17797088623047,
          15.492391586303711,
          16.632654190063477,
          15.987305641174316,
          15.783326148986816,
          15.992517471313477,
          16.029081344604492,
          16.10303497314453,
          15.901496887207031,
          16.00720977783203,
          16.345794677734375,
          15.902679443359375,
          16.781606674194336,
          16.97740936279297,
          15.874846458435059,
          16.284395217895508,
          16.260744094848633,
          16.575592041015625,
          15.99768352508545,
          16.392576217651367,
          16.613805770874023
         ],
         "z": [
          -2.987243890762329,
          -3.216177463531494,
          -2.9193289279937744,
          -3.314638614654541,
          0.6878891587257385,
          0.6327400803565979,
          -3.274503231048584,
          -2.9468588829040527,
          -3.5850741863250732,
          -1.618077039718628,
          -2.3505513668060303,
          -3.0401411056518555,
          -2.57763671875,
          -3.350527286529541,
          -2.235884666442871,
          -3.4146816730499268,
          -2.4192802906036377,
          -2.1928744316101074,
          -1.988124966621399,
          -2.0622522830963135,
          -3.4350168704986572,
          -2.059429407119751,
          -3.4832348823547363,
          -3.2452096939086914,
          -3.3089303970336914,
          -2.477465867996216,
          -2.762739896774292,
          -2.9217405319213867,
          -2.415116310119629,
          -2.2387583255767822,
          -3.052236318588257,
          -2.7808873653411865,
          -3.066904306411743,
          -3.088602304458618
         ]
        },
        {
         "customdata": [
          [
           "220617_090443_Plate_1",
           "C7",
           "Cyclophosphamide",
           1
          ],
          [
           "220617_090443_Plate_1",
           "B7",
           "Cyclophosphamide",
           1
          ],
          [
           "231011_183822_Plate_1",
           "C7",
           "Cyclophosphamide",
           1
          ],
          [
           "231011_183822_Plate_1",
           "C8",
           "Cyclophosphamide",
           1
          ],
          [
           "231011_183822_Plate_1",
           "C9",
           "Cyclophosphamide",
           1
          ],
          [
           "220608_152238_Plate_1",
           "D7",
           "Cyclophosphamide",
           1
          ],
          [
           "220617_090443_Plate_1",
           "D7",
           "Cyclophosphamide",
           1
          ],
          [
           "231006_132517_Plate_1",
           "E10",
           "Cyclophosphamide",
           1
          ],
          [
           "231006_132517_Plate_1",
           "D10",
           "Cyclophosphamide",
           1
          ],
          [
           "231006_132517_Plate_1",
           "C10",
           "Cyclophosphamide",
           1
          ],
          [
           "231006_132517_Plate_1",
           "B10",
           "Cyclophosphamide",
           1
          ],
          [
           "231011_183822_Plate_1",
           "C6",
           "Cyclophosphamide",
           1
          ],
          [
           "220608_152238_Plate_1",
           "C7",
           "Cyclophosphamide",
           1
          ],
          [
           "220607_092050_Plate_1",
           "D7",
           "Cyclophosphamide",
           1
          ],
          [
           "220607_092050_Plate_1",
           "C7",
           "Cyclophosphamide",
           1
          ],
          [
           "220608_152238_Plate_1",
           "B7",
           "Cyclophosphamide",
           1
          ],
          [
           "220607_092050_Plate_1",
           "B7",
           "Cyclophosphamide",
           1
          ],
          [
           "231006_132517_Plate_1",
           "E11",
           "Cyclophosphamide",
           10
          ],
          [
           "231011_183822_Plate_1",
           "C5",
           "Cyclophosphamide",
           10
          ],
          [
           "231011_183822_Plate_1",
           "C4",
           "Cyclophosphamide",
           10
          ],
          [
           "231011_183822_Plate_1",
           "C3",
           "Cyclophosphamide",
           10
          ],
          [
           "231011_183822_Plate_1",
           "C2",
           "Cyclophosphamide",
           10
          ],
          [
           "220608_152238_Plate_1",
           "D8",
           "Cyclophosphamide",
           10
          ],
          [
           "220608_152238_Plate_1",
           "C8",
           "Cyclophosphamide",
           10
          ],
          [
           "220608_152238_Plate_1",
           "B8",
           "Cyclophosphamide",
           10
          ],
          [
           "220607_092050_Plate_1",
           "D8",
           "Cyclophosphamide",
           10
          ],
          [
           "220607_092050_Plate_1",
           "C8",
           "Cyclophosphamide",
           10
          ],
          [
           "220607_092050_Plate_1",
           "B8",
           "Cyclophosphamide",
           10
          ],
          [
           "231006_132517_Plate_1",
           "D11",
           "Cyclophosphamide",
           10
          ],
          [
           "231006_132517_Plate_1",
           "C11",
           "Cyclophosphamide",
           10
          ],
          [
           "231006_132517_Plate_1",
           "B11",
           "Cyclophosphamide",
           10
          ],
          [
           "220617_090443_Plate_1",
           "D8",
           "Cyclophosphamide",
           10
          ],
          [
           "220617_090443_Plate_1",
           "C8",
           "Cyclophosphamide",
           10
          ],
          [
           "220617_090443_Plate_1",
           "B8",
           "Cyclophosphamide",
           10
          ]
         ],
         "hovertemplate": "colors_plot_col=Cyclophosphamide<br>0=%{x}<br>1=%{y}<br>2=%{z}<br>Metadata_size=%{marker.size}<br>Metadata_Plate=%{customdata[0]}<br>Metadata_Well=%{customdata[1]}<br>Metadata_compound=%{customdata[2]}<br>Metadata_concentration_uM=%{customdata[3]}<extra></extra>",
         "legendgroup": "Cyclophosphamide",
         "marker": {
          "color": "#9467bd",
          "size": [
           1,
           1,
           1,
           1,
           1,
           1,
           1,
           1,
           1,
           1,
           1,
           1,
           1,
           1,
           1,
           1,
           1,
           10,
           10,
           10,
           10,
           10,
           10,
           10,
           10,
           10,
           10,
           10,
           10,
           10,
           10,
           10,
           10,
           10
          ],
          "sizemode": "area",
          "sizeref": 0.025,
          "symbol": "circle"
         },
         "mode": "markers",
         "name": "Cyclophosphamide",
         "scene": "scene",
         "showlegend": true,
         "type": "scatter3d",
         "x": [
          2.8474903106689453,
          6.601463794708252,
          7.8617706298828125,
          5.597201347351074,
          7.582646369934082,
          2.8650341033935547,
          2.9114387035369873,
          3.8978188037872314,
          4.99392557144165,
          6.727196216583252,
          6.700494289398193,
          3.442047119140625,
          4.410216808319092,
          3.040982246398926,
          3.3527743816375732,
          4.689484119415283,
          5.013250827789307,
          5.610288619995117,
          7.701899528503418,
          6.917659282684326,
          7.584392070770264,
          7.2184038162231445,
          2.797271490097046,
          3.7093122005462646,
          5.105005264282227,
          2.9617276191711426,
          4.414123058319092,
          5.620969772338867,
          3.879911184310913,
          6.851377964019775,
          6.5194478034973145,
          3.001141309738159,
          3.479614496231079,
          5.5218281745910645
         ],
         "y": [
          18.99988555908203,
          18.853729248046875,
          18.670621871948242,
          18.702634811401367,
          18.730680465698242,
          17.528440475463867,
          18.862516403198242,
          18.235136032104492,
          17.735628128051758,
          16.943971633911133,
          17.88027572631836,
          18.364534378051758,
          20.166898727416992,
          19.434843063354492,
          18.273649215698242,
          19.125490188598633,
          18.708097457885742,
          16.93054962158203,
          19.310911178588867,
          18.736726760864258,
          19.08279037475586,
          18.802980422973633,
          18.068944931030273,
          19.517702102661133,
          19.733642578125,
          18.83800506591797,
          19.723752975463867,
          19.069581985473633,
          17.184663772583008,
          19.09249496459961,
          17.274171829223633,
          18.492795944213867,
          18.86522674560547,
          18.46385955810547
         ],
         "z": [
          -1.5798594951629639,
          -3.7053937911987305,
          -1.6534408330917358,
          -2.475513219833374,
          -2.194594383239746,
          -2.4519383907318115,
          -2.771742582321167,
          -1.4913238286972046,
          -2.5825841426849365,
          -2.434405565261841,
          -1.8924447298049927,
          -3.3516228199005127,
          -2.4508635997772217,
          -2.423083543777466,
          -1.7176517248153687,
          -3.270153522491455,
          -3.3921926021575928,
          -1.046373724937439,
          -2.331740379333496,
          -2.9300124645233154,
          -2.9816765785217285,
          -3.4115874767303467,
          -3.016763925552368,
          -2.7619211673736572,
          -2.8504743576049805,
          -3.166348934173584,
          -2.219334125518799,
          -3.632417917251587,
          -1.8042340278625488,
          -1.3410792350769043,
          -1.9839123487472534,
          -2.8684558868408203,
          -2.512554168701172,
          -3.357818841934204
         ]
        },
        {
         "customdata": [
          [
           "220608_152238_Plate_1",
           "G3",
           "Lovastatin",
           1
          ],
          [
           "220608_152238_Plate_1",
           "F3",
           "Lovastatin",
           1
          ],
          [
           "220608_152238_Plate_1",
           "E3",
           "Lovastatin",
           1
          ],
          [
           "231011_183822_Plate_1",
           "D10",
           "Lovastatin",
           1
          ],
          [
           "220617_090443_Plate_1",
           "E3",
           "Lovastatin",
           1
          ],
          [
           "231006_132517_Plate_1",
           "C5",
           "Lovastatin",
           1
          ],
          [
           "231006_132517_Plate_1",
           "C4",
           "Lovastatin",
           1
          ],
          [
           "231006_132517_Plate_1",
           "C3",
           "Lovastatin",
           1
          ],
          [
           "231006_132517_Plate_1",
           "C2",
           "Lovastatin",
           1
          ],
          [
           "220617_090443_Plate_1",
           "G3",
           "Lovastatin",
           1
          ],
          [
           "231011_183822_Plate_1",
           "G10",
           "Lovastatin",
           1
          ],
          [
           "220617_090443_Plate_1",
           "F3",
           "Lovastatin",
           1
          ],
          [
           "231011_183822_Plate_1",
           "E10",
           "Lovastatin",
           1
          ],
          [
           "220607_092050_Plate_1",
           "F3",
           "Lovastatin",
           1
          ],
          [
           "220607_092050_Plate_1",
           "E3",
           "Lovastatin",
           1
          ],
          [
           "231011_183822_Plate_1",
           "F10",
           "Lovastatin",
           1
          ],
          [
           "220607_092050_Plate_1",
           "G3",
           "Lovastatin",
           1
          ],
          [
           "231011_183822_Plate_1",
           "E11",
           "Lovastatin",
           10
          ],
          [
           "231011_183822_Plate_1",
           "D11",
           "Lovastatin",
           10
          ],
          [
           "231011_183822_Plate_1",
           "F11",
           "Lovastatin",
           10
          ],
          [
           "220617_090443_Plate_1",
           "F4",
           "Lovastatin",
           10
          ],
          [
           "220607_092050_Plate_1",
           "G4",
           "Lovastatin",
           10
          ],
          [
           "220608_152238_Plate_1",
           "E4",
           "Lovastatin",
           10
          ],
          [
           "220607_092050_Plate_1",
           "E4",
           "Lovastatin",
           10
          ],
          [
           "220607_092050_Plate_1",
           "F4",
           "Lovastatin",
           10
          ],
          [
           "231006_132517_Plate_1",
           "C9",
           "Lovastatin",
           10
          ],
          [
           "231006_132517_Plate_1",
           "C8",
           "Lovastatin",
           10
          ],
          [
           "231006_132517_Plate_1",
           "C7",
           "Lovastatin",
           10
          ],
          [
           "231006_132517_Plate_1",
           "C6",
           "Lovastatin",
           10
          ],
          [
           "220617_090443_Plate_1",
           "G4",
           "Lovastatin",
           10
          ],
          [
           "220608_152238_Plate_1",
           "F4",
           "Lovastatin",
           10
          ],
          [
           "220608_152238_Plate_1",
           "G4",
           "Lovastatin",
           10
          ],
          [
           "220617_090443_Plate_1",
           "E4",
           "Lovastatin",
           10
          ],
          [
           "231011_183822_Plate_1",
           "G11",
           "Lovastatin",
           10
          ]
         ],
         "hovertemplate": "colors_plot_col=Lovastatin<br>0=%{x}<br>1=%{y}<br>2=%{z}<br>Metadata_size=%{marker.size}<br>Metadata_Plate=%{customdata[0]}<br>Metadata_Well=%{customdata[1]}<br>Metadata_compound=%{customdata[2]}<br>Metadata_concentration_uM=%{customdata[3]}<extra></extra>",
         "legendgroup": "Lovastatin",
         "marker": {
          "color": "#8c564b",
          "size": [
           1,
           1,
           1,
           1,
           1,
           1,
           1,
           1,
           1,
           1,
           1,
           1,
           1,
           1,
           1,
           1,
           1,
           10,
           10,
           10,
           10,
           10,
           10,
           10,
           10,
           10,
           10,
           10,
           10,
           10,
           10,
           10,
           10,
           10
          ],
          "sizemode": "area",
          "sizeref": 0.025,
          "symbol": "circle"
         },
         "mode": "markers",
         "name": "Lovastatin",
         "scene": "scene",
         "showlegend": true,
         "type": "scatter3d",
         "x": [
          3.1583962440490723,
          5.143774509429932,
          6.014995098114014,
          4.913454055786133,
          6.059045791625977,
          6.636559009552002,
          5.807712554931641,
          4.176912307739258,
          6.652709484100342,
          4.971136569976807,
          3.044079542160034,
          5.585292339324951,
          3.1791999340057373,
          5.223634719848633,
          5.9461870193481445,
          3.120574712753296,
          5.084357738494873,
          3.6616315841674805,
          3.375669240951538,
          3.08589506149292,
          5.133856296539307,
          4.059152126312256,
          8.039992332458496,
          5.497586727142334,
          5.2547993659973145,
          5.983269691467285,
          6.135171890258789,
          5.467745304107666,
          5.235283374786377,
          4.477510452270508,
          5.803548812866211,
          5.120934963226318,
          5.680971145629883,
          3.4996862411499023
         ],
         "y": [
          17.339357376098633,
          20.421119689941406,
          18.64330291748047,
          18.11351776123047,
          17.52517318725586,
          19.573999404907227,
          18.38779067993164,
          18.318235397338867,
          19.898656845092773,
          18.596582412719727,
          18.968660354614258,
          17.717042922973633,
          18.097806930541992,
          17.900636672973633,
          17.765409469604492,
          19.098630905151367,
          17.994108200073242,
          18.630647659301758,
          18.23804473876953,
          18.804197311401367,
          17.68906021118164,
          18.893342971801758,
          18.90088653564453,
          17.277494430541992,
          19.772218704223633,
          18.119905471801758,
          17.030797958374023,
          18.224363327026367,
          20.277803421020508,
          18.25634002685547,
          18.530275344848633,
          16.624021530151367,
          17.323240280151367,
          18.786897659301758
         ],
         "z": [
          -1.903798222541809,
          -2.318207025527954,
          0.40124276280403137,
          0.5056812167167664,
          0.42991364002227783,
          -0.9335548877716064,
          -1.6459946632385254,
          -1.0289822816848755,
          -1.2275700569152832,
          0.033406201750040054,
          -0.7899423837661743,
          0.6557919979095459,
          -1.0498968362808228,
          0.7839576601982117,
          0.8292742967605591,
          -0.66363126039505,
          0.8500008583068848,
          -0.35057827830314636,
          -0.8074923157691956,
          -0.6093414425849915,
          0.4555903673171997,
          -0.06274985522031784,
          -0.8343605995178223,
          0.0013816653518006206,
          0.5791176557540894,
          -2.065307855606079,
          -1.1605743169784546,
          -1.792069911956787,
          0.29274699091911316,
          0.27515605092048645,
          0.7754164934158325,
          -1.0903602838516235,
          0.34706249833106995,
          -0.6602402329444885
         ]
        },
        {
         "customdata": [
          [
           "220607_092050_Plate_1",
           "E2",
           "Non-treated",
           0
          ],
          [
           "231011_183822_Plate_1",
           "F8",
           "Non-treated",
           0
          ],
          [
           "220617_090443_Plate_1",
           "E2",
           "Non-treated",
           0
          ],
          [
           "220617_090443_Plate_1",
           "G2",
           "Non-treated",
           0
          ],
          [
           "231011_183822_Plate_1",
           "F9",
           "Non-treated",
           0
          ],
          [
           "231011_183822_Plate_1",
           "F7",
           "Non-treated",
           0
          ],
          [
           "220607_092050_Plate_1",
           "C2",
           "Non-treated",
           0
          ],
          [
           "220607_092050_Plate_1",
           "D2",
           "Non-treated",
           0
          ],
          [
           "220608_152238_Plate_1",
           "D2",
           "Non-treated",
           0
          ],
          [
           "220617_090443_Plate_1",
           "F2",
           "Non-treated",
           0
          ],
          [
           "231011_183822_Plate_1",
           "F6",
           "Non-treated",
           0
          ],
          [
           "220608_152238_Plate_1",
           "G2",
           "Non-treated",
           0
          ],
          [
           "220617_090443_Plate_1",
           "D2",
           "Non-treated",
           0
          ],
          [
           "231006_132517_Plate_1",
           "D7",
           "Non-treated",
           0
          ],
          [
           "220617_090443_Plate_1",
           "B2",
           "Non-treated",
           0
          ],
          [
           "231006_132517_Plate_1",
           "D8",
           "Non-treated",
           0
          ],
          [
           "231006_132517_Plate_1",
           "D6",
           "Non-treated",
           0
          ],
          [
           "231006_132517_Plate_1",
           "D5",
           "Non-treated",
           0
          ],
          [
           "231006_132517_Plate_1",
           "D9",
           "Non-treated",
           0
          ],
          [
           "231006_132517_Plate_1",
           "D4",
           "Non-treated",
           0
          ],
          [
           "220608_152238_Plate_1",
           "F2",
           "Non-treated",
           0
          ],
          [
           "231006_132517_Plate_1",
           "D3",
           "Non-treated",
           0
          ],
          [
           "220607_092050_Plate_1",
           "F2",
           "Non-treated",
           0
          ],
          [
           "220617_090443_Plate_1",
           "C2",
           "Non-treated",
           0
          ],
          [
           "220608_152238_Plate_1",
           "E2",
           "Non-treated",
           0
          ],
          [
           "231011_183822_Plate_1",
           "B11",
           "Non-treated",
           0
          ],
          [
           "231011_183822_Plate_1",
           "B10",
           "Non-treated",
           0
          ],
          [
           "220607_092050_Plate_1",
           "G2",
           "Non-treated",
           0
          ],
          [
           "231011_183822_Plate_1",
           "C11",
           "Non-treated",
           0
          ],
          [
           "231006_132517_Plate_1",
           "D2",
           "Non-treated",
           0
          ],
          [
           "220608_152238_Plate_1",
           "C2",
           "Non-treated",
           0
          ],
          [
           "231011_183822_Plate_1",
           "C10",
           "Non-treated",
           0
          ]
         ],
         "hovertemplate": "colors_plot_col=Non-treated<br>0=%{x}<br>1=%{y}<br>2=%{z}<br>Metadata_size=%{marker.size}<br>Metadata_Plate=%{customdata[0]}<br>Metadata_Well=%{customdata[1]}<br>Metadata_compound=%{customdata[2]}<br>Metadata_concentration_uM=%{customdata[3]}<extra></extra>",
         "legendgroup": "Non-treated",
         "marker": {
          "color": "#808080",
          "size": [
           5,
           5,
           5,
           5,
           5,
           5,
           5,
           5,
           5,
           5,
           5,
           5,
           5,
           5,
           5,
           5,
           5,
           5,
           5,
           5,
           5,
           5,
           5,
           5,
           5,
           5,
           5,
           5,
           5,
           5,
           5,
           5
          ],
          "sizemode": "area",
          "sizeref": 0.025,
          "symbol": "circle"
         },
         "mode": "markers",
         "name": "Non-treated",
         "scene": "scene",
         "showlegend": true,
         "type": "scatter3d",
         "x": [
          7.2436723709106445,
          2.8678107261657715,
          7.844426155090332,
          6.644169807434082,
          3.0502195358276367,
          2.7559680938720703,
          5.961126804351807,
          5.163703441619873,
          5.840759754180908,
          7.807554721832275,
          7.4091386795043945,
          7.473469257354736,
          3.997070550918579,
          7.049722671508789,
          5.715576648712158,
          5.288148880004883,
          7.3653154373168945,
          7.397150039672852,
          6.340857982635498,
          7.515620231628418,
          5.645690441131592,
          7.134194850921631,
          5.411139488220215,
          5.371820449829102,
          6.474187850952148,
          7.2159833908081055,
          6.582524299621582,
          6.590859413146973,
          5.436806678771973,
          5.669983386993408,
          6.784123420715332,
          5.5697855949401855
         ],
         "y": [
          19.464078903198242,
          17.786649703979492,
          18.972532272338867,
          16.066774368286133,
          17.29186248779297,
          18.21753692626953,
          17.382352828979492,
          16.857213973999023,
          17.79636001586914,
          19.090787887573242,
          19.153833389282227,
          19.637239456176758,
          20.056150436401367,
          20.10741424560547,
          18.687166213989258,
          18.954492568969727,
          20.0506649017334,
          19.919092178344727,
          17.714811325073242,
          19.683988571166992,
          20.124753952026367,
          19.703521728515625,
          19.080320358276367,
          17.82093048095703,
          19.146242141723633,
          19.36438751220703,
          19.121856689453125,
          19.844358444213867,
          19.443456649780273,
          16.807382583618164,
          17.97350311279297,
          19.902738571166992
         ],
         "z": [
          0.5697438716888428,
          -2.2901315689086914,
          -0.1454506516456604,
          -2.304762840270996,
          -2.3160390853881836,
          -2.2409098148345947,
          -2.102936029434204,
          -2.2646288871765137,
          -0.30518391728401184,
          0.5559308528900146,
          -3.2953217029571533,
          -0.5190543532371521,
          -0.5413540601730347,
          -0.6287851333618164,
          -3.977020025253296,
          -0.38897937536239624,
          -1.0655571222305298,
          -0.984840452671051,
          -2.5242154598236084,
          -1.4555915594100952,
          1.0492607355117798,
          -1.289474368095398,
          1.036241888999939,
          -2.3148610591888428,
          1.019731879234314,
          -2.693803310394287,
          -3.099362850189209,
          -0.1032622903585434,
          -2.769270658493042,
          -0.850043535232544,
          -0.12297797203063965,
          -2.770857572555542
         ]
        },
        {
         "customdata": [
          [
           "231006_132517_Plate_1",
           "F7",
           "Orphenadrine",
           10
          ],
          [
           "231006_132517_Plate_1",
           "F6",
           "Orphenadrine",
           10
          ],
          [
           "231006_132517_Plate_1",
           "F9",
           "Orphenadrine",
           10
          ],
          [
           "231006_132517_Plate_1",
           "F8",
           "Orphenadrine",
           10
          ],
          [
           "231011_183822_Plate_1",
           "D5",
           "Orphenadrine",
           10
          ],
          [
           "231011_183822_Plate_1",
           "D4",
           "Orphenadrine",
           10
          ],
          [
           "231011_183822_Plate_1",
           "D3",
           "Orphenadrine",
           10
          ],
          [
           "231011_183822_Plate_1",
           "D2",
           "Orphenadrine",
           10
          ],
          [
           "220607_092050_Plate_1",
           "G6",
           "Orphenadrine",
           10
          ],
          [
           "220607_092050_Plate_1",
           "F6",
           "Orphenadrine",
           10
          ],
          [
           "220607_092050_Plate_1",
           "E6",
           "Orphenadrine",
           10
          ],
          [
           "220608_152238_Plate_1",
           "E6",
           "Orphenadrine",
           10
          ],
          [
           "220608_152238_Plate_1",
           "F6",
           "Orphenadrine",
           10
          ],
          [
           "220617_090443_Plate_1",
           "G6",
           "Orphenadrine",
           10
          ],
          [
           "220617_090443_Plate_1",
           "F6",
           "Orphenadrine",
           10
          ],
          [
           "220617_090443_Plate_1",
           "E6",
           "Orphenadrine",
           10
          ],
          [
           "220608_152238_Plate_1",
           "G6",
           "Orphenadrine",
           10
          ]
         ],
         "hovertemplate": "colors_plot_col=Orphenadrine<br>0=%{x}<br>1=%{y}<br>2=%{z}<br>Metadata_size=%{marker.size}<br>Metadata_Plate=%{customdata[0]}<br>Metadata_Well=%{customdata[1]}<br>Metadata_compound=%{customdata[2]}<br>Metadata_concentration_uM=%{customdata[3]}<extra></extra>",
         "legendgroup": "Orphenadrine",
         "marker": {
          "color": "#e377c2",
          "size": [
           10,
           10,
           10,
           10,
           10,
           10,
           10,
           10,
           10,
           10,
           10,
           10,
           10,
           10,
           10,
           10,
           10
          ],
          "sizemode": "area",
          "sizeref": 0.025,
          "symbol": "circle"
         },
         "mode": "markers",
         "name": "Orphenadrine",
         "scene": "scene",
         "showlegend": true,
         "type": "scatter3d",
         "x": [
          6.324033737182617,
          6.157739639282227,
          6.360656261444092,
          5.983030319213867,
          7.376813888549805,
          7.780476093292236,
          7.368778705596924,
          6.994447708129883,
          6.224573135375977,
          6.618140697479248,
          7.8677520751953125,
          7.757648944854736,
          7.1752142906188965,
          6.965288162231445,
          6.550396919250488,
          7.6418046951293945,
          6.49605655670166
         ],
         "y": [
          19.966066360473633,
          19.786108016967773,
          19.853025436401367,
          19.584470748901367,
          18.713354110717773,
          18.472135543823242,
          18.36585235595703,
          18.648927688598633,
          19.28406524658203,
          19.618776321411133,
          18.565828323364258,
          19.175294876098633,
          19.339019775390625,
          18.86215591430664,
          19.1529598236084,
          19.093725204467773,
          19.029510498046875
         ],
         "z": [
          1.401657223701477,
          1.1915589570999146,
          0.9369680881500244,
          1.4165209531784058,
          1.2952440977096558,
          0.7853418588638306,
          1.1065651178359985,
          1.407577633857727,
          1.6450912952423096,
          1.7191413640975952,
          0.2085743099451065,
          0.36008670926094055,
          1.354963779449463,
          1.5039761066436768,
          1.2608342170715332,
          0.8626763224601746,
          1.5915478467941284
         ]
        }
       ],
       "layout": {
        "autosize": false,
        "font": {
         "size": 18
        },
        "height": 700,
        "legend": {
         "itemsizing": "constant",
         "title": {
          "text": "Metadata_compound"
         },
         "tracegroupgap": 0
        },
        "margin": {
         "b": 20,
         "l": 50,
         "pad": 4,
         "r": 50,
         "t": 50
        },
        "scene": {
         "domain": {
          "x": [
           0,
           1
          ],
          "y": [
           0,
           1
          ]
         },
         "xaxis": {
          "title": {
           "text": "0"
          }
         },
         "yaxis": {
          "title": {
           "text": "1"
          }
         },
         "zaxis": {
          "title": {
           "text": "2"
          }
         }
        },
        "template": {
         "data": {
          "bar": [
           {
            "error_x": {
             "color": "#2a3f5f"
            },
            "error_y": {
             "color": "#2a3f5f"
            },
            "marker": {
             "line": {
              "color": "#E5ECF6",
              "width": 0.5
             },
             "pattern": {
              "fillmode": "overlay",
              "size": 10,
              "solidity": 0.2
             }
            },
            "type": "bar"
           }
          ],
          "barpolar": [
           {
            "marker": {
             "line": {
              "color": "#E5ECF6",
              "width": 0.5
             },
             "pattern": {
              "fillmode": "overlay",
              "size": 10,
              "solidity": 0.2
             }
            },
            "type": "barpolar"
           }
          ],
          "carpet": [
           {
            "aaxis": {
             "endlinecolor": "#2a3f5f",
             "gridcolor": "white",
             "linecolor": "white",
             "minorgridcolor": "white",
             "startlinecolor": "#2a3f5f"
            },
            "baxis": {
             "endlinecolor": "#2a3f5f",
             "gridcolor": "white",
             "linecolor": "white",
             "minorgridcolor": "white",
             "startlinecolor": "#2a3f5f"
            },
            "type": "carpet"
           }
          ],
          "choropleth": [
           {
            "colorbar": {
             "outlinewidth": 0,
             "ticks": ""
            },
            "type": "choropleth"
           }
          ],
          "contour": [
           {
            "colorbar": {
             "outlinewidth": 0,
             "ticks": ""
            },
            "colorscale": [
             [
              0,
              "#0d0887"
             ],
             [
              0.1111111111111111,
              "#46039f"
             ],
             [
              0.2222222222222222,
              "#7201a8"
             ],
             [
              0.3333333333333333,
              "#9c179e"
             ],
             [
              0.4444444444444444,
              "#bd3786"
             ],
             [
              0.5555555555555556,
              "#d8576b"
             ],
             [
              0.6666666666666666,
              "#ed7953"
             ],
             [
              0.7777777777777778,
              "#fb9f3a"
             ],
             [
              0.8888888888888888,
              "#fdca26"
             ],
             [
              1,
              "#f0f921"
             ]
            ],
            "type": "contour"
           }
          ],
          "contourcarpet": [
           {
            "colorbar": {
             "outlinewidth": 0,
             "ticks": ""
            },
            "type": "contourcarpet"
           }
          ],
          "heatmap": [
           {
            "colorbar": {
             "outlinewidth": 0,
             "ticks": ""
            },
            "colorscale": [
             [
              0,
              "#0d0887"
             ],
             [
              0.1111111111111111,
              "#46039f"
             ],
             [
              0.2222222222222222,
              "#7201a8"
             ],
             [
              0.3333333333333333,
              "#9c179e"
             ],
             [
              0.4444444444444444,
              "#bd3786"
             ],
             [
              0.5555555555555556,
              "#d8576b"
             ],
             [
              0.6666666666666666,
              "#ed7953"
             ],
             [
              0.7777777777777778,
              "#fb9f3a"
             ],
             [
              0.8888888888888888,
              "#fdca26"
             ],
             [
              1,
              "#f0f921"
             ]
            ],
            "type": "heatmap"
           }
          ],
          "heatmapgl": [
           {
            "colorbar": {
             "outlinewidth": 0,
             "ticks": ""
            },
            "colorscale": [
             [
              0,
              "#0d0887"
             ],
             [
              0.1111111111111111,
              "#46039f"
             ],
             [
              0.2222222222222222,
              "#7201a8"
             ],
             [
              0.3333333333333333,
              "#9c179e"
             ],
             [
              0.4444444444444444,
              "#bd3786"
             ],
             [
              0.5555555555555556,
              "#d8576b"
             ],
             [
              0.6666666666666666,
              "#ed7953"
             ],
             [
              0.7777777777777778,
              "#fb9f3a"
             ],
             [
              0.8888888888888888,
              "#fdca26"
             ],
             [
              1,
              "#f0f921"
             ]
            ],
            "type": "heatmapgl"
           }
          ],
          "histogram": [
           {
            "marker": {
             "pattern": {
              "fillmode": "overlay",
              "size": 10,
              "solidity": 0.2
             }
            },
            "type": "histogram"
           }
          ],
          "histogram2d": [
           {
            "colorbar": {
             "outlinewidth": 0,
             "ticks": ""
            },
            "colorscale": [
             [
              0,
              "#0d0887"
             ],
             [
              0.1111111111111111,
              "#46039f"
             ],
             [
              0.2222222222222222,
              "#7201a8"
             ],
             [
              0.3333333333333333,
              "#9c179e"
             ],
             [
              0.4444444444444444,
              "#bd3786"
             ],
             [
              0.5555555555555556,
              "#d8576b"
             ],
             [
              0.6666666666666666,
              "#ed7953"
             ],
             [
              0.7777777777777778,
              "#fb9f3a"
             ],
             [
              0.8888888888888888,
              "#fdca26"
             ],
             [
              1,
              "#f0f921"
             ]
            ],
            "type": "histogram2d"
           }
          ],
          "histogram2dcontour": [
           {
            "colorbar": {
             "outlinewidth": 0,
             "ticks": ""
            },
            "colorscale": [
             [
              0,
              "#0d0887"
             ],
             [
              0.1111111111111111,
              "#46039f"
             ],
             [
              0.2222222222222222,
              "#7201a8"
             ],
             [
              0.3333333333333333,
              "#9c179e"
             ],
             [
              0.4444444444444444,
              "#bd3786"
             ],
             [
              0.5555555555555556,
              "#d8576b"
             ],
             [
              0.6666666666666666,
              "#ed7953"
             ],
             [
              0.7777777777777778,
              "#fb9f3a"
             ],
             [
              0.8888888888888888,
              "#fdca26"
             ],
             [
              1,
              "#f0f921"
             ]
            ],
            "type": "histogram2dcontour"
           }
          ],
          "mesh3d": [
           {
            "colorbar": {
             "outlinewidth": 0,
             "ticks": ""
            },
            "type": "mesh3d"
           }
          ],
          "parcoords": [
           {
            "line": {
             "colorbar": {
              "outlinewidth": 0,
              "ticks": ""
             }
            },
            "type": "parcoords"
           }
          ],
          "pie": [
           {
            "automargin": true,
            "type": "pie"
           }
          ],
          "scatter": [
           {
            "fillpattern": {
             "fillmode": "overlay",
             "size": 10,
             "solidity": 0.2
            },
            "type": "scatter"
           }
          ],
          "scatter3d": [
           {
            "line": {
             "colorbar": {
              "outlinewidth": 0,
              "ticks": ""
             }
            },
            "marker": {
             "colorbar": {
              "outlinewidth": 0,
              "ticks": ""
             }
            },
            "type": "scatter3d"
           }
          ],
          "scattercarpet": [
           {
            "marker": {
             "colorbar": {
              "outlinewidth": 0,
              "ticks": ""
             }
            },
            "type": "scattercarpet"
           }
          ],
          "scattergeo": [
           {
            "marker": {
             "colorbar": {
              "outlinewidth": 0,
              "ticks": ""
             }
            },
            "type": "scattergeo"
           }
          ],
          "scattergl": [
           {
            "marker": {
             "colorbar": {
              "outlinewidth": 0,
              "ticks": ""
             }
            },
            "type": "scattergl"
           }
          ],
          "scattermapbox": [
           {
            "marker": {
             "colorbar": {
              "outlinewidth": 0,
              "ticks": ""
             }
            },
            "type": "scattermapbox"
           }
          ],
          "scatterpolar": [
           {
            "marker": {
             "colorbar": {
              "outlinewidth": 0,
              "ticks": ""
             }
            },
            "type": "scatterpolar"
           }
          ],
          "scatterpolargl": [
           {
            "marker": {
             "colorbar": {
              "outlinewidth": 0,
              "ticks": ""
             }
            },
            "type": "scatterpolargl"
           }
          ],
          "scatterternary": [
           {
            "marker": {
             "colorbar": {
              "outlinewidth": 0,
              "ticks": ""
             }
            },
            "type": "scatterternary"
           }
          ],
          "surface": [
           {
            "colorbar": {
             "outlinewidth": 0,
             "ticks": ""
            },
            "colorscale": [
             [
              0,
              "#0d0887"
             ],
             [
              0.1111111111111111,
              "#46039f"
             ],
             [
              0.2222222222222222,
              "#7201a8"
             ],
             [
              0.3333333333333333,
              "#9c179e"
             ],
             [
              0.4444444444444444,
              "#bd3786"
             ],
             [
              0.5555555555555556,
              "#d8576b"
             ],
             [
              0.6666666666666666,
              "#ed7953"
             ],
             [
              0.7777777777777778,
              "#fb9f3a"
             ],
             [
              0.8888888888888888,
              "#fdca26"
             ],
             [
              1,
              "#f0f921"
             ]
            ],
            "type": "surface"
           }
          ],
          "table": [
           {
            "cells": {
             "fill": {
              "color": "#EBF0F8"
             },
             "line": {
              "color": "white"
             }
            },
            "header": {
             "fill": {
              "color": "#C8D4E3"
             },
             "line": {
              "color": "white"
             }
            },
            "type": "table"
           }
          ]
         },
         "layout": {
          "annotationdefaults": {
           "arrowcolor": "#2a3f5f",
           "arrowhead": 0,
           "arrowwidth": 1
          },
          "autotypenumbers": "strict",
          "coloraxis": {
           "colorbar": {
            "outlinewidth": 0,
            "ticks": ""
           }
          },
          "colorscale": {
           "diverging": [
            [
             0,
             "#8e0152"
            ],
            [
             0.1,
             "#c51b7d"
            ],
            [
             0.2,
             "#de77ae"
            ],
            [
             0.3,
             "#f1b6da"
            ],
            [
             0.4,
             "#fde0ef"
            ],
            [
             0.5,
             "#f7f7f7"
            ],
            [
             0.6,
             "#e6f5d0"
            ],
            [
             0.7,
             "#b8e186"
            ],
            [
             0.8,
             "#7fbc41"
            ],
            [
             0.9,
             "#4d9221"
            ],
            [
             1,
             "#276419"
            ]
           ],
           "sequential": [
            [
             0,
             "#0d0887"
            ],
            [
             0.1111111111111111,
             "#46039f"
            ],
            [
             0.2222222222222222,
             "#7201a8"
            ],
            [
             0.3333333333333333,
             "#9c179e"
            ],
            [
             0.4444444444444444,
             "#bd3786"
            ],
            [
             0.5555555555555556,
             "#d8576b"
            ],
            [
             0.6666666666666666,
             "#ed7953"
            ],
            [
             0.7777777777777778,
             "#fb9f3a"
            ],
            [
             0.8888888888888888,
             "#fdca26"
            ],
            [
             1,
             "#f0f921"
            ]
           ],
           "sequentialminus": [
            [
             0,
             "#0d0887"
            ],
            [
             0.1111111111111111,
             "#46039f"
            ],
            [
             0.2222222222222222,
             "#7201a8"
            ],
            [
             0.3333333333333333,
             "#9c179e"
            ],
            [
             0.4444444444444444,
             "#bd3786"
            ],
            [
             0.5555555555555556,
             "#d8576b"
            ],
            [
             0.6666666666666666,
             "#ed7953"
            ],
            [
             0.7777777777777778,
             "#fb9f3a"
            ],
            [
             0.8888888888888888,
             "#fdca26"
            ],
            [
             1,
             "#f0f921"
            ]
           ]
          },
          "colorway": [
           "#636efa",
           "#EF553B",
           "#00cc96",
           "#ab63fa",
           "#FFA15A",
           "#19d3f3",
           "#FF6692",
           "#B6E880",
           "#FF97FF",
           "#FECB52"
          ],
          "font": {
           "color": "#2a3f5f"
          },
          "geo": {
           "bgcolor": "white",
           "lakecolor": "white",
           "landcolor": "#E5ECF6",
           "showlakes": true,
           "showland": true,
           "subunitcolor": "white"
          },
          "hoverlabel": {
           "align": "left"
          },
          "hovermode": "closest",
          "mapbox": {
           "style": "light"
          },
          "paper_bgcolor": "white",
          "plot_bgcolor": "#E5ECF6",
          "polar": {
           "angularaxis": {
            "gridcolor": "white",
            "linecolor": "white",
            "ticks": ""
           },
           "bgcolor": "#E5ECF6",
           "radialaxis": {
            "gridcolor": "white",
            "linecolor": "white",
            "ticks": ""
           }
          },
          "scene": {
           "xaxis": {
            "backgroundcolor": "#E5ECF6",
            "gridcolor": "white",
            "gridwidth": 2,
            "linecolor": "white",
            "showbackground": true,
            "ticks": "",
            "zerolinecolor": "white"
           },
           "yaxis": {
            "backgroundcolor": "#E5ECF6",
            "gridcolor": "white",
            "gridwidth": 2,
            "linecolor": "white",
            "showbackground": true,
            "ticks": "",
            "zerolinecolor": "white"
           },
           "zaxis": {
            "backgroundcolor": "#E5ECF6",
            "gridcolor": "white",
            "gridwidth": 2,
            "linecolor": "white",
            "showbackground": true,
            "ticks": "",
            "zerolinecolor": "white"
           }
          },
          "shapedefaults": {
           "line": {
            "color": "#2a3f5f"
           }
          },
          "ternary": {
           "aaxis": {
            "gridcolor": "white",
            "linecolor": "white",
            "ticks": ""
           },
           "baxis": {
            "gridcolor": "white",
            "linecolor": "white",
            "ticks": ""
           },
           "bgcolor": "#E5ECF6",
           "caxis": {
            "gridcolor": "white",
            "linecolor": "white",
            "ticks": ""
           }
          },
          "title": {
           "x": 0.05
          },
          "xaxis": {
           "automargin": true,
           "gridcolor": "white",
           "linecolor": "white",
           "ticks": "",
           "title": {
            "standoff": 15
           },
           "zerolinecolor": "white",
           "zerolinewidth": 2
          },
          "yaxis": {
           "automargin": true,
           "gridcolor": "white",
           "linecolor": "white",
           "ticks": "",
           "title": {
            "standoff": 15
           },
           "zerolinecolor": "white",
           "zerolinewidth": 2
          }
         }
        },
        "title": {
         "text": "Size defined by Metadata_concentration_uM_plot"
        },
        "updatemenus": [
         {
          "buttons": [
           {
            "args": [
             "visible",
             "legendonly"
            ],
            "label": "Deselect All",
            "method": "restyle"
           },
           {
            "args": [
             "visible",
             true
            ],
            "label": "Select All",
            "method": "restyle"
           }
          ],
          "direction": "left",
          "pad": {
           "r": 5,
           "t": 5
          },
          "showactive": true,
          "type": "buttons",
          "x": 1,
          "xanchor": "left",
          "y": 1.1,
          "yanchor": "top"
         }
        ],
        "width": 900
       }
      }
     },
     "metadata": {},
     "output_type": "display_data"
    }
   ],
   "source": [
    "combat_util.plot_umap_3d(df_3d, color_col='Metadata_compound', \n",
    "                    #   split_df = False, split_column = None, np = None,\n",
    "                      hover_cols=hover_list,\n",
    "                      size=True, size_col = \"Metadata_concentration_uM_plot\",\n",
    "                      # x=\"0\", y=\"1\",\n",
    "                      # error_x=\"x_err\", error_y=\"y_err\",\n",
    "                       dili_color=True\n",
    "                      )"
   ]
  }
 ],
 "metadata": {
  "kernelspec": {
   "display_name": "pycytominer",
   "language": "python",
   "name": "python3"
  },
  "language_info": {
   "codemirror_mode": {
    "name": "ipython",
    "version": 3
   },
   "file_extension": ".py",
   "mimetype": "text/x-python",
   "name": "python",
   "nbconvert_exporter": "python",
   "pygments_lexer": "ipython3",
   "version": "3.9.12"
  }
 },
 "nbformat": 4,
 "nbformat_minor": 2
}
