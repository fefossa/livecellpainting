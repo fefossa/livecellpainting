{
 "cells": [
  {
   "cell_type": "code",
   "execution_count": 1,
   "metadata": {},
   "outputs": [
    {
     "name": "stderr",
     "output_type": "stream",
     "text": [
      "c:\\Users\\Fer\\miniconda3\\envs\\pycytominer\\lib\\site-packages\\umap\\distances.py:1063: NumbaDeprecationWarning: \u001b[1mThe 'nopython' keyword argument was not supplied to the 'numba.jit' decorator. The implicit default value for this argument is currently False, but it will be changed to True in Numba 0.59.0. See https://numba.readthedocs.io/en/stable/reference/deprecation.html#deprecation-of-object-mode-fall-back-behaviour-when-using-jit for details.\u001b[0m\n",
      "  @numba.jit()\n",
      "c:\\Users\\Fer\\miniconda3\\envs\\pycytominer\\lib\\site-packages\\umap\\distances.py:1071: NumbaDeprecationWarning: \u001b[1mThe 'nopython' keyword argument was not supplied to the 'numba.jit' decorator. The implicit default value for this argument is currently False, but it will be changed to True in Numba 0.59.0. See https://numba.readthedocs.io/en/stable/reference/deprecation.html#deprecation-of-object-mode-fall-back-behaviour-when-using-jit for details.\u001b[0m\n",
      "  @numba.jit()\n",
      "c:\\Users\\Fer\\miniconda3\\envs\\pycytominer\\lib\\site-packages\\umap\\distances.py:1086: NumbaDeprecationWarning: \u001b[1mThe 'nopython' keyword argument was not supplied to the 'numba.jit' decorator. The implicit default value for this argument is currently False, but it will be changed to True in Numba 0.59.0. See https://numba.readthedocs.io/en/stable/reference/deprecation.html#deprecation-of-object-mode-fall-back-behaviour-when-using-jit for details.\u001b[0m\n",
      "  @numba.jit()\n",
      "c:\\Users\\Fer\\miniconda3\\envs\\pycytominer\\lib\\site-packages\\umap\\umap_.py:660: NumbaDeprecationWarning: \u001b[1mThe 'nopython' keyword argument was not supplied to the 'numba.jit' decorator. The implicit default value for this argument is currently False, but it will be changed to True in Numba 0.59.0. See https://numba.readthedocs.io/en/stable/reference/deprecation.html#deprecation-of-object-mode-fall-back-behaviour-when-using-jit for details.\u001b[0m\n",
      "  @numba.jit()\n"
     ]
    }
   ],
   "source": [
    "import pandas as pd\n",
    "import numpy as np\n",
    "import matplotlib.pyplot as plt\n",
    "import plotly.express as px\n",
    "import pycytominer\n",
    "import easygui as eg\n",
    "import os \n",
    "import sys\n",
    "\n",
    "sys.path.append(r\"C:\\Users\\Fer\\Documents\\GitHub\")\n",
    "\n",
    "from umap import UMAP\n",
    "from scripts_notebooks_fossa.pycombat_umap import combat_util\n",
    "from combat.pycombat import pycombat\n",
    "\n",
    "import hdbscan\n",
    "from sklearn.metrics import adjusted_rand_score, adjusted_mutual_info_score\n",
    "from sklearn.decomposition import PCA\n",
    "\n",
    "%load_ext autoreload\n",
    "%autoreload 2\n",
    "\n",
    "import warnings\n",
    "warnings.filterwarnings('ignore')"
   ]
  },
  {
   "cell_type": "code",
   "execution_count": 2,
   "metadata": {},
   "outputs": [
    {
     "name": "stdout",
     "output_type": "stream",
     "text": [
      "Filename F:\\2022_09_09_LiveCellPainting_fossa_Cimini\\workspace\\profiles\\2022_06_07_DILI\\concatenate\\2023_2022_DILI_normalized_to_negcon_feature_selected_pycombat.csv\n"
     ]
    },
    {
     "data": {
      "text/html": [
       "<div>\n",
       "<style scoped>\n",
       "    .dataframe tbody tr th:only-of-type {\n",
       "        vertical-align: middle;\n",
       "    }\n",
       "\n",
       "    .dataframe tbody tr th {\n",
       "        vertical-align: top;\n",
       "    }\n",
       "\n",
       "    .dataframe thead th {\n",
       "        text-align: right;\n",
       "    }\n",
       "</style>\n",
       "<table border=\"1\" class=\"dataframe\">\n",
       "  <thead>\n",
       "    <tr style=\"text-align: right;\">\n",
       "      <th></th>\n",
       "      <th>Metadata_Compound_concentration</th>\n",
       "      <th>Metadata_plate_map_name</th>\n",
       "      <th>Metadata_concentration_uM</th>\n",
       "      <th>Metadata_cell_type</th>\n",
       "      <th>Metadata_compound</th>\n",
       "      <th>Metadata_moa</th>\n",
       "      <th>Metadata_DILI-concern</th>\n",
       "      <th>Metadata_Severity Class</th>\n",
       "      <th>Metadata_control_type</th>\n",
       "      <th>Metadata_Plate</th>\n",
       "      <th>...</th>\n",
       "      <th>Nuclei_Texture_InfoMeas1_CorrPI_5_02_256</th>\n",
       "      <th>Nuclei_Texture_InfoMeas2_CorrGFP_10_01_256</th>\n",
       "      <th>Nuclei_Texture_InfoMeas2_CorrGFP_20_01_256</th>\n",
       "      <th>Nuclei_Texture_InfoMeas2_CorrPI_10_01_256</th>\n",
       "      <th>Nuclei_Texture_InfoMeas2_CorrPI_10_03_256</th>\n",
       "      <th>Nuclei_Texture_InfoMeas2_CorrPI_20_01_256</th>\n",
       "      <th>Nuclei_Texture_InfoMeas2_CorrPI_5_02_256</th>\n",
       "      <th>Nuclei_Texture_InverseDifferenceMoment_CorrPI_20_01_256</th>\n",
       "      <th>Nuclei_Texture_SumEntropy_CorrPI_20_01_256</th>\n",
       "      <th>Nuclei_Texture_Variance_CorrGFP_10_00_256</th>\n",
       "    </tr>\n",
       "  </thead>\n",
       "  <tbody>\n",
       "    <tr>\n",
       "      <th>0</th>\n",
       "      <td>Aspirin_1</td>\n",
       "      <td>platemap_dili</td>\n",
       "      <td>1</td>\n",
       "      <td>Huh7</td>\n",
       "      <td>Aspirin</td>\n",
       "      <td>COX inhibitor</td>\n",
       "      <td>Less-DILI-Concern</td>\n",
       "      <td>0</td>\n",
       "      <td>trt</td>\n",
       "      <td>220607_092050_Plate_1</td>\n",
       "      <td>...</td>\n",
       "      <td>-2.951004</td>\n",
       "      <td>8.972212</td>\n",
       "      <td>9.467828</td>\n",
       "      <td>3.344159</td>\n",
       "      <td>4.973588</td>\n",
       "      <td>4.241367</td>\n",
       "      <td>3.079317</td>\n",
       "      <td>-6.922929</td>\n",
       "      <td>5.085131</td>\n",
       "      <td>20.476580</td>\n",
       "    </tr>\n",
       "    <tr>\n",
       "      <th>1</th>\n",
       "      <td>Aspirin_10</td>\n",
       "      <td>platemap_dili</td>\n",
       "      <td>10</td>\n",
       "      <td>Huh7</td>\n",
       "      <td>Aspirin</td>\n",
       "      <td>COX inhibitor</td>\n",
       "      <td>Less-DILI-Concern</td>\n",
       "      <td>0</td>\n",
       "      <td>trt</td>\n",
       "      <td>220607_092050_Plate_1</td>\n",
       "      <td>...</td>\n",
       "      <td>-3.494941</td>\n",
       "      <td>10.111767</td>\n",
       "      <td>10.837145</td>\n",
       "      <td>4.132679</td>\n",
       "      <td>6.764881</td>\n",
       "      <td>5.263887</td>\n",
       "      <td>3.938098</td>\n",
       "      <td>-7.676556</td>\n",
       "      <td>7.503385</td>\n",
       "      <td>25.638036</td>\n",
       "    </tr>\n",
       "    <tr>\n",
       "      <th>2</th>\n",
       "      <td>Amiodarone_1</td>\n",
       "      <td>platemap_dili</td>\n",
       "      <td>1</td>\n",
       "      <td>Huh7</td>\n",
       "      <td>Amiodarone</td>\n",
       "      <td>sodium/potassium-ATPase inhibitor</td>\n",
       "      <td>Most-DILI-Concern</td>\n",
       "      <td>8</td>\n",
       "      <td>trt</td>\n",
       "      <td>220607_092050_Plate_1</td>\n",
       "      <td>...</td>\n",
       "      <td>-1.841811</td>\n",
       "      <td>7.829725</td>\n",
       "      <td>8.549107</td>\n",
       "      <td>2.769153</td>\n",
       "      <td>4.238343</td>\n",
       "      <td>3.336620</td>\n",
       "      <td>2.770880</td>\n",
       "      <td>-6.197211</td>\n",
       "      <td>5.967763</td>\n",
       "      <td>18.977983</td>\n",
       "    </tr>\n",
       "    <tr>\n",
       "      <th>3</th>\n",
       "      <td>Amiodarone_10</td>\n",
       "      <td>platemap_dili</td>\n",
       "      <td>10</td>\n",
       "      <td>Huh7</td>\n",
       "      <td>Amiodarone</td>\n",
       "      <td>sodium/potassium-ATPase inhibitor</td>\n",
       "      <td>Most-DILI-Concern</td>\n",
       "      <td>8</td>\n",
       "      <td>trt</td>\n",
       "      <td>220607_092050_Plate_1</td>\n",
       "      <td>...</td>\n",
       "      <td>-5.101806</td>\n",
       "      <td>8.749530</td>\n",
       "      <td>9.508322</td>\n",
       "      <td>5.012710</td>\n",
       "      <td>7.773764</td>\n",
       "      <td>6.028070</td>\n",
       "      <td>5.164210</td>\n",
       "      <td>-7.555855</td>\n",
       "      <td>9.888656</td>\n",
       "      <td>25.732000</td>\n",
       "    </tr>\n",
       "    <tr>\n",
       "      <th>4</th>\n",
       "      <td>Cyclophosphamide_1</td>\n",
       "      <td>platemap_dili</td>\n",
       "      <td>1</td>\n",
       "      <td>Huh7</td>\n",
       "      <td>Cyclophosphamide</td>\n",
       "      <td>DNA alkylation</td>\n",
       "      <td>\\tLess-DILI-Concern</td>\n",
       "      <td>5</td>\n",
       "      <td>trt</td>\n",
       "      <td>220607_092050_Plate_1</td>\n",
       "      <td>...</td>\n",
       "      <td>-1.437264</td>\n",
       "      <td>4.918856</td>\n",
       "      <td>5.257418</td>\n",
       "      <td>2.355868</td>\n",
       "      <td>4.110124</td>\n",
       "      <td>3.459964</td>\n",
       "      <td>2.220202</td>\n",
       "      <td>-5.400153</td>\n",
       "      <td>4.833927</td>\n",
       "      <td>9.023156</td>\n",
       "    </tr>\n",
       "  </tbody>\n",
       "</table>\n",
       "<p>5 rows × 469 columns</p>\n",
       "</div>"
      ],
      "text/plain": [
       "  Metadata_Compound_concentration Metadata_plate_map_name  \\\n",
       "0                       Aspirin_1           platemap_dili   \n",
       "1                      Aspirin_10           platemap_dili   \n",
       "2                    Amiodarone_1           platemap_dili   \n",
       "3                   Amiodarone_10           platemap_dili   \n",
       "4              Cyclophosphamide_1           platemap_dili   \n",
       "\n",
       "   Metadata_concentration_uM Metadata_cell_type Metadata_compound  \\\n",
       "0                          1               Huh7           Aspirin   \n",
       "1                         10               Huh7           Aspirin   \n",
       "2                          1               Huh7        Amiodarone   \n",
       "3                         10               Huh7        Amiodarone   \n",
       "4                          1               Huh7  Cyclophosphamide   \n",
       "\n",
       "                        Metadata_moa Metadata_DILI-concern  \\\n",
       "0                      COX inhibitor     Less-DILI-Concern   \n",
       "1                      COX inhibitor     Less-DILI-Concern   \n",
       "2  sodium/potassium-ATPase inhibitor     Most-DILI-Concern   \n",
       "3  sodium/potassium-ATPase inhibitor     Most-DILI-Concern   \n",
       "4                    DNA alkylation    \\tLess-DILI-Concern   \n",
       "\n",
       "   Metadata_Severity Class Metadata_control_type         Metadata_Plate  ...  \\\n",
       "0                        0                   trt  220607_092050_Plate_1  ...   \n",
       "1                        0                   trt  220607_092050_Plate_1  ...   \n",
       "2                        8                   trt  220607_092050_Plate_1  ...   \n",
       "3                        8                   trt  220607_092050_Plate_1  ...   \n",
       "4                        5                   trt  220607_092050_Plate_1  ...   \n",
       "\n",
       "  Nuclei_Texture_InfoMeas1_CorrPI_5_02_256  \\\n",
       "0                                -2.951004   \n",
       "1                                -3.494941   \n",
       "2                                -1.841811   \n",
       "3                                -5.101806   \n",
       "4                                -1.437264   \n",
       "\n",
       "  Nuclei_Texture_InfoMeas2_CorrGFP_10_01_256  \\\n",
       "0                                   8.972212   \n",
       "1                                  10.111767   \n",
       "2                                   7.829725   \n",
       "3                                   8.749530   \n",
       "4                                   4.918856   \n",
       "\n",
       "  Nuclei_Texture_InfoMeas2_CorrGFP_20_01_256  \\\n",
       "0                                   9.467828   \n",
       "1                                  10.837145   \n",
       "2                                   8.549107   \n",
       "3                                   9.508322   \n",
       "4                                   5.257418   \n",
       "\n",
       "   Nuclei_Texture_InfoMeas2_CorrPI_10_01_256  \\\n",
       "0                                   3.344159   \n",
       "1                                   4.132679   \n",
       "2                                   2.769153   \n",
       "3                                   5.012710   \n",
       "4                                   2.355868   \n",
       "\n",
       "   Nuclei_Texture_InfoMeas2_CorrPI_10_03_256  \\\n",
       "0                                   4.973588   \n",
       "1                                   6.764881   \n",
       "2                                   4.238343   \n",
       "3                                   7.773764   \n",
       "4                                   4.110124   \n",
       "\n",
       "   Nuclei_Texture_InfoMeas2_CorrPI_20_01_256  \\\n",
       "0                                   4.241367   \n",
       "1                                   5.263887   \n",
       "2                                   3.336620   \n",
       "3                                   6.028070   \n",
       "4                                   3.459964   \n",
       "\n",
       "   Nuclei_Texture_InfoMeas2_CorrPI_5_02_256  \\\n",
       "0                                  3.079317   \n",
       "1                                  3.938098   \n",
       "2                                  2.770880   \n",
       "3                                  5.164210   \n",
       "4                                  2.220202   \n",
       "\n",
       "   Nuclei_Texture_InverseDifferenceMoment_CorrPI_20_01_256  \\\n",
       "0                                          -6.922929         \n",
       "1                                          -7.676556         \n",
       "2                                          -6.197211         \n",
       "3                                          -7.555855         \n",
       "4                                          -5.400153         \n",
       "\n",
       "   Nuclei_Texture_SumEntropy_CorrPI_20_01_256  \\\n",
       "0                                    5.085131   \n",
       "1                                    7.503385   \n",
       "2                                    5.967763   \n",
       "3                                    9.888656   \n",
       "4                                    4.833927   \n",
       "\n",
       "   Nuclei_Texture_Variance_CorrGFP_10_00_256  \n",
       "0                                  20.476580  \n",
       "1                                  25.638036  \n",
       "2                                  18.977983  \n",
       "3                                  25.732000  \n",
       "4                                   9.023156  \n",
       "\n",
       "[5 rows x 469 columns]"
      ]
     },
     "execution_count": 2,
     "metadata": {},
     "output_type": "execute_result"
    }
   ],
   "source": [
    "# myfile = eg.fileopenbox(msg=\"Choose a file\", default=r\"F:\")\n",
    "myfile = r'F:\\2022_09_09_LiveCellPainting_fossa_Cimini\\workspace\\profiles\\2022_06_07_DILI\\concatenate\\2023_2022_DILI_normalized_to_negcon_feature_selected_pycombat.csv'\n",
    "print('Filename', myfile)\n",
    "df = pd.read_csv(myfile)\n",
    "df.head()"
   ]
  },
  {
   "cell_type": "code",
   "execution_count": 3,
   "metadata": {},
   "outputs": [],
   "source": [
    "n_neighbors_input = 15\n",
    "min_dist_input = 0.5\n",
    "metric = 'cosine'\n",
    "hover_list = ['Metadata_Plate','Metadata_Well', 'Metadata_compound', 'Metadata_concentration_uM']\n",
    "number_of_iterations=50"
   ]
  },
  {
   "cell_type": "code",
   "execution_count": 4,
   "metadata": {},
   "outputs": [
    {
     "name": "stdout",
     "output_type": "stream",
     "text": [
      "concentration_uM\n",
      "Names of the compounds + concentration:  ['Aspirin 1' 'Aspirin 10' 'Amiodarone 1' 'Amiodarone 10'\n",
      " 'Cyclophosphamide 1' 'Cyclophosphamide 10' 'Etoposide 1' 'Etoposide 10'\n",
      " 'Non-treated 0' 'Lovastatin 1' 'Lovastatin 10' 'Orphenadrine 1'\n",
      " 'Orphenadrine 10' 'Lactose 1' 'Lactose 10']\n"
     ]
    }
   ],
   "source": [
    "cols_to_join = [\"Metadata_compound\", \"Metadata_concentration_uM\"]\n",
    "df, new_col = combat_util.col_generator(df, cols_to_join = cols_to_join)\n",
    "\n",
    "# #just remove the 0 for the non-treated wells\n",
    "# df[new_col] = df[new_col].str.replace(r' 0', ' 20', regex=True)\n",
    "# df[new_col].unique()"
   ]
  },
  {
   "cell_type": "code",
   "execution_count": 5,
   "metadata": {},
   "outputs": [],
   "source": [
    "filter_out=['Orphenadrine 1', 'Non-treated 0', 'Lactose 1', 'Lactose 10']"
   ]
  },
  {
   "cell_type": "code",
   "execution_count": 6,
   "metadata": {},
   "outputs": [],
   "source": [
    "df_filtered = df.query(f'{new_col} not in {filter_out}').reset_index(drop=True)"
   ]
  },
  {
   "cell_type": "code",
   "execution_count": 8,
   "metadata": {},
   "outputs": [],
   "source": [
    "# feat = pycytominer.cyto_utils.features.infer_cp_features(df, metadata=False)\n",
    "meta = pycytominer.cyto_utils.features.infer_cp_features(df_filtered, metadata=True)\n",
    "feat = [x for x in df_filtered.columns.tolist() if x not in meta]\n",
    "X = pd.DataFrame(df_filtered, columns=feat)\n",
    "y = pd.DataFrame(df_filtered, columns=meta)"
   ]
  },
  {
   "cell_type": "code",
   "execution_count": 10,
   "metadata": {},
   "outputs": [],
   "source": [
    "df_3d = combat_util.generate_x_y_umap(df_filtered, n_neighbors=n_neighbors_input, \n",
    "                                                  min_dist=min_dist_input, metric=metric, iterate=True, \n",
    "                                                  number_runs=number_of_iterations, n_components=3)"
   ]
  },
  {
   "cell_type": "markdown",
   "metadata": {},
   "source": [
    "## UMAP clustering"
   ]
  },
  {
   "cell_type": "code",
   "execution_count": 11,
   "metadata": {},
   "outputs": [
    {
     "name": "stdout",
     "output_type": "stream",
     "text": [
      "[[-8.305229  10.515687  13.44806  ]\n",
      " [-8.384703  10.22171   12.903631 ]\n",
      " [-9.234428  11.112302  12.273457 ]\n",
      " [-6.835235   9.931633  12.8533945]\n",
      " [-7.894562  11.056879  13.102196 ]\n",
      " [-8.470163  10.826897  13.4449415]\n",
      " [-5.7505465 11.225768  14.309713 ]\n",
      " [-4.901157  12.082643  13.649579 ]\n",
      " [-7.111409  12.384273  12.114345 ]\n",
      " [-7.8471904 11.019098  12.0842905]\n",
      " [-8.446745   9.945213  11.845133 ]\n",
      " [-8.70972    9.972017  10.285003 ]\n",
      " [-8.408995   9.292548  10.759972 ]\n",
      " [-9.007539  10.8556795 11.220114 ]\n",
      " [-4.513246  11.482705  13.8081045]\n",
      " [-4.849621  12.22164   14.088934 ]\n",
      " [-7.6585717  8.916022  10.312564 ]\n",
      " [-7.8552556  8.995055  10.706784 ]\n",
      " [-7.9151587 10.106965  11.259665 ]\n",
      " [-8.728569   9.492668  10.580925 ]\n",
      " [-8.860818   9.473564  11.289731 ]\n",
      " [-8.503905   9.002938  12.209925 ]\n",
      " [-5.1382637 10.743838  14.192279 ]\n",
      " [-4.629078  11.251823  14.341863 ]\n",
      " [-5.817309  12.358135   9.740332 ]\n",
      " [-5.9898686 11.6299515 10.879697 ]\n",
      " [-4.406605  13.622907  11.136353 ]\n",
      " [-6.0433617 11.780736   9.537041 ]\n",
      " [-5.0033836 10.862238  10.4589205]\n",
      " [-3.9225874 12.167196   9.82168  ]\n",
      " [-6.467529  11.929926   9.34339  ]\n",
      " [-7.340574  11.105461   9.596916 ]\n",
      " [-3.8984058 12.231972   9.56925  ]\n",
      " [-8.898588  11.245871  13.04779  ]\n",
      " [-8.518717  11.40884   13.210577 ]\n",
      " [-8.957853  10.460416  12.190003 ]\n",
      " [-9.022738  10.633481  10.958836 ]\n",
      " [-8.832206  10.822043  12.884217 ]\n",
      " [-8.591286  10.997532  12.438805 ]\n",
      " [-6.745484  10.94022   13.719221 ]\n",
      " [-6.051358  10.685     13.607134 ]\n",
      " [-6.8815303 12.519146  11.569939 ]\n",
      " [-7.8970027  9.581085  10.232155 ]\n",
      " [-8.240807  10.22802   11.031059 ]\n",
      " [-8.668242  10.648648  10.369898 ]\n",
      " [-9.401649  10.839363  11.269412 ]\n",
      " [-9.136681  10.033392  11.381566 ]\n",
      " [-4.905735  11.584038  14.606318 ]\n",
      " [-4.9744716 11.828343  13.7475195]\n",
      " [-7.85502    8.904517  10.881996 ]\n",
      " [-7.686668   9.672311  11.593073 ]\n",
      " [-7.863189   9.726753  11.0501175]\n",
      " [-8.064493  10.235322  10.631844 ]\n",
      " [-7.048961   9.053224  11.905116 ]\n",
      " [-7.842132   9.183876  12.035456 ]\n",
      " [-4.425781  10.705147  13.972165 ]\n",
      " [-4.730953  10.967781  14.320806 ]\n",
      " [-5.145493  11.778134  10.263647 ]\n",
      " [-4.98032   13.878722  12.018379 ]\n",
      " [-4.4190526 13.432151  10.875064 ]\n",
      " [-9.05252   11.619626  11.40237  ]\n",
      " [-5.3002357 11.723109   9.674288 ]\n",
      " [-4.0236974 12.709984  10.297707 ]\n",
      " [-6.319254   9.5501795 11.444737 ]\n",
      " [-5.9941835 10.428625  12.133198 ]\n",
      " [-4.44801   12.500891   9.476844 ]\n",
      " [-7.5060396 11.361633  13.703425 ]\n",
      " [-7.8792515 11.738343  13.703914 ]\n",
      " [-8.006411  11.131767  13.565347 ]\n",
      " [-5.4582686 13.603926  13.048461 ]\n",
      " [-7.1790686 12.376978  13.715699 ]\n",
      " [-7.715116  11.477194  12.967365 ]\n",
      " [-5.5345902 11.989627  14.244624 ]\n",
      " [-5.3143163 11.696202  14.3443775]\n",
      " [-9.2077    11.228678  11.707159 ]\n",
      " [-6.941853   9.351111  12.510741 ]\n",
      " [-8.372976   9.54013   10.822199 ]\n",
      " [-8.236898  10.467002  10.183327 ]\n",
      " [-8.565454   9.875086  10.690098 ]\n",
      " [-8.801607   9.637694  11.704142 ]\n",
      " [-4.6124535 11.312169  13.938682 ]\n",
      " [-5.4312096 11.399557  14.007203 ]\n",
      " [-5.39214   10.035768  10.707644 ]\n",
      " [-8.096365   9.026879  12.264776 ]\n",
      " [-7.150024   9.140227  12.331585 ]\n",
      " [-7.432983   9.744292  10.778043 ]\n",
      " [-8.469597   9.148903  11.6135645]\n",
      " [-8.2167635  9.28589   11.823115 ]\n",
      " [-4.604813  10.615044  13.465436 ]\n",
      " [-5.1625175 11.13699   13.569497 ]\n",
      " [-5.844083  12.438501  10.261476 ]\n",
      " [-6.099396  12.278142  10.167822 ]\n",
      " [-4.203385  13.412982  10.70002  ]\n",
      " [-5.999402  12.031678   9.680057 ]\n",
      " [-6.1166267 11.645208  10.158018 ]\n",
      " [-4.139129  12.369955  10.01545  ]\n",
      " [-6.8758235 11.779454   9.843049 ]\n",
      " [-6.511688  11.047674   9.772004 ]\n",
      " [-4.0080156 12.653445   9.744972 ]\n",
      " [-8.184112  11.493891  12.20072  ]\n",
      " [-8.342552  11.601382  12.405584 ]\n",
      " [-5.2218513 10.955506  11.232199 ]\n",
      " [-6.139467  12.619562  11.778132 ]\n",
      " [-8.159484  11.027134  11.3312025]\n",
      " [-7.8784814 10.884646  11.253288 ]\n",
      " [-8.163453  10.312039  12.227967 ]\n",
      " [-8.487246  10.46647   11.80512  ]\n",
      " [-6.094821  12.4042    12.643512 ]\n",
      " [-5.869151  11.745598  12.954979 ]\n",
      " [-6.7762556 11.648233  11.442203 ]\n",
      " [-7.1265154 10.131874  10.5223   ]\n",
      " [-7.675802  12.224407  12.4465885]\n",
      " [-6.833719  12.350199  10.893093 ]\n",
      " [-4.9686427 10.387474  10.872985 ]\n",
      " [-7.1027217 11.960901  12.472956 ]\n",
      " [-6.044443  11.429483  12.678749 ]\n",
      " [-7.2177935 12.146668  12.846502 ]\n",
      " [-5.5701184 12.290489  13.5787525]\n",
      " [-6.607097  13.1537695 11.68923  ]\n",
      " [-7.445383  10.426026  12.472472 ]\n",
      " [-6.434641   9.7348    12.084436 ]\n",
      " [-4.360523  10.747009  13.962525 ]\n",
      " [-4.4089704 10.625038  11.144266 ]\n",
      " [-4.526691  10.525549  10.938988 ]\n",
      " [-5.2326064 11.125576  14.801393 ]\n",
      " [-4.8712463 11.419469  14.963262 ]\n",
      " [-5.93144   11.503731  13.996459 ]\n",
      " [-4.811845  11.066344  14.807659 ]\n",
      " [-4.691177  11.74595   14.702271 ]\n",
      " [-7.1615624 10.260165  11.022378 ]\n",
      " [-5.8678865 11.04993   12.091192 ]\n",
      " [-4.357346  11.565429  10.062126 ]\n",
      " [-4.046666  11.483271  10.050468 ]\n",
      " [-4.0271134 11.787436   9.478181 ]\n",
      " [-4.0790367 11.502224   9.67758  ]\n",
      " [-6.0444365 11.024876  11.178647 ]\n",
      " [-6.141969  10.900169  11.297816 ]\n",
      " [-7.1618853 11.301548  12.292541 ]\n",
      " [-9.177545  10.327058  11.079781 ]\n",
      " [-7.492989  11.607138  12.05802  ]\n",
      " [-6.8655066 11.3173275 12.421447 ]\n",
      " [-6.355498  11.271911  13.149291 ]\n",
      " [-7.294436   9.462615  12.812006 ]\n",
      " [-5.4429493 13.619203  11.482884 ]\n",
      " [-5.494953  13.298522  11.408633 ]\n",
      " [-5.6865206 13.153264  11.831054 ]\n",
      " [-6.0389986 13.477949  11.934368 ]\n",
      " [-5.35371   13.750876  11.873861 ]\n",
      " [-5.8504663 12.961064  12.730895 ]\n",
      " [-6.3737483 13.501443  12.565777 ]\n",
      " [-7.92468   10.624967  12.411315 ]\n",
      " [-6.3719606 12.694394  13.889466 ]\n",
      " [-5.8854785 13.297218  13.519366 ]\n",
      " [-6.5901093 12.983281  13.277221 ]\n",
      " [-5.9265437 13.650512  12.921955 ]\n",
      " [-8.18381    9.599974  12.428875 ]\n",
      " [-5.629855  13.6707945 12.4005375]\n",
      " [-7.1007085 11.460879  13.169782 ]\n",
      " [-5.871369  13.301715  12.91278  ]\n",
      " [-4.315004  12.986595   9.995638 ]\n",
      " [-3.8653882 13.1331    10.176428 ]\n",
      " [-3.8857996 13.452553  10.551116 ]\n",
      " [-3.853367  13.098388  10.106294 ]\n",
      " [-6.0060463 11.49612    9.974496 ]\n",
      " [-7.065604   9.722084   9.931092 ]\n",
      " [-8.476197  10.133308   9.626402 ]\n",
      " [-8.155863  10.34684    9.987089 ]\n",
      " [-8.605203   9.756172   9.747125 ]\n",
      " [-5.096938  10.23609   10.544884 ]\n",
      " [-6.131177  10.132149  10.705106 ]\n",
      " [-7.5911474  9.16137   11.199643 ]\n",
      " [-5.0744505 12.7522335 10.283104 ]\n",
      " [-4.7288175 13.042846  10.08062  ]\n",
      " [-7.160218   9.951658   9.79666  ]\n",
      " [-7.1883745 10.42517    9.653723 ]\n",
      " [-7.7208257 10.103118   9.758574 ]\n",
      " [-7.3671546  9.436486  10.048392 ]\n",
      " [-5.069503  11.096435  13.131635 ]\n",
      " [-4.714812  11.674154  13.223078 ]\n",
      " [-4.7147365 10.988411  12.877093 ]\n",
      " [-5.0970945 10.761964  12.719519 ]\n",
      " [-6.4478955 10.838195  11.60819  ]\n",
      " [-5.3407936 10.468071  12.852212 ]\n",
      " [-4.6314354 10.423273  12.880733 ]\n",
      " [-4.363133  10.6595125 13.212824 ]\n",
      " [-7.671793   9.455476   9.782013 ]\n",
      " [-7.4936223 10.124792   9.563569 ]]\n"
     ]
    }
   ],
   "source": [
    "# Select the three columns\n",
    "selected_columns = df_3d[['0', '1', '2']]\n",
    "\n",
    "# Convert to a NumPy array\n",
    "result_array = selected_columns.to_numpy()\n",
    "\n",
    "print(result_array)"
   ]
  },
  {
   "cell_type": "code",
   "execution_count": 12,
   "metadata": {},
   "outputs": [],
   "source": [
    "hdbscan_labels = hdbscan.HDBSCAN(min_samples=6, min_cluster_size=10, metric='euclidean').fit_predict(result_array)"
   ]
  },
  {
   "cell_type": "code",
   "execution_count": 13,
   "metadata": {},
   "outputs": [
    {
     "data": {
      "application/vnd.plotly.v1+json": {
       "config": {
        "plotlyServerURL": "https://plot.ly",
        "toImageButtonOptions": {
         "filename": "custom_image",
         "format": "svg",
         "height": 500,
         "scale": 6,
         "width": 700
        }
       },
       "data": [
        {
         "customdata": [
          [
           "220607_092050_Plate_1",
           "B3",
           "Aspirin",
           1
          ],
          [
           "220617_090443_Plate_1",
           "D3",
           "Aspirin",
           1
          ],
          [
           "220617_090443_Plate_1",
           "C3",
           "Aspirin",
           1
          ],
          [
           "220617_090443_Plate_1",
           "B3",
           "Aspirin",
           1
          ],
          [
           "231011_183822_Plate_1",
           "B9",
           "Aspirin",
           1
          ],
          [
           "231011_183822_Plate_1",
           "B8",
           "Aspirin",
           1
          ],
          [
           "231011_183822_Plate_1",
           "B7",
           "Aspirin",
           1
          ],
          [
           "231011_183822_Plate_1",
           "B6",
           "Aspirin",
           1
          ],
          [
           "231006_132517_Plate_1",
           "G5",
           "Aspirin",
           1
          ],
          [
           "231006_132517_Plate_1",
           "G4",
           "Aspirin",
           1
          ],
          [
           "231006_132517_Plate_1",
           "G3",
           "Aspirin",
           1
          ],
          [
           "231006_132517_Plate_1",
           "G2",
           "Aspirin",
           1
          ],
          [
           "220607_092050_Plate_1",
           "D3",
           "Aspirin",
           1
          ],
          [
           "220608_152238_Plate_1",
           "B3",
           "Aspirin",
           1
          ],
          [
           "220608_152238_Plate_1",
           "D3",
           "Aspirin",
           1
          ],
          [
           "220608_152238_Plate_1",
           "C3",
           "Aspirin",
           1
          ],
          [
           "220607_092050_Plate_1",
           "C3",
           "Aspirin",
           1
          ],
          [
           "231011_183822_Plate_1",
           "B5",
           "Aspirin",
           10
          ],
          [
           "231011_183822_Plate_1",
           "B4",
           "Aspirin",
           10
          ],
          [
           "231011_183822_Plate_1",
           "B3",
           "Aspirin",
           10
          ],
          [
           "231011_183822_Plate_1",
           "B2",
           "Aspirin",
           10
          ],
          [
           "231006_132517_Plate_1",
           "G9",
           "Aspirin",
           10
          ],
          [
           "231006_132517_Plate_1",
           "G6",
           "Aspirin",
           10
          ],
          [
           "231006_132517_Plate_1",
           "G7",
           "Aspirin",
           10
          ],
          [
           "220607_092050_Plate_1",
           "B4",
           "Aspirin",
           10
          ],
          [
           "231006_132517_Plate_1",
           "G8",
           "Aspirin",
           10
          ],
          [
           "220607_092050_Plate_1",
           "C4",
           "Aspirin",
           10
          ],
          [
           "220607_092050_Plate_1",
           "D4",
           "Aspirin",
           10
          ],
          [
           "220608_152238_Plate_1",
           "C4",
           "Aspirin",
           10
          ],
          [
           "220617_090443_Plate_1",
           "D4",
           "Aspirin",
           10
          ],
          [
           "220617_090443_Plate_1",
           "C4",
           "Aspirin",
           10
          ],
          [
           "220608_152238_Plate_1",
           "D4",
           "Aspirin",
           10
          ],
          [
           "220617_090443_Plate_1",
           "B4",
           "Aspirin",
           10
          ],
          [
           "220608_152238_Plate_1",
           "B4",
           "Aspirin",
           10
          ]
         ],
         "hovertemplate": "colors_plot_col=Aspirin<br>0=%{x}<br>1=%{y}<br>2=%{z}<br>Metadata_size=%{marker.size}<br>Metadata_Plate=%{customdata[0]}<br>Metadata_Well=%{customdata[1]}<br>Metadata_compound=%{customdata[2]}<br>Metadata_concentration_uM=%{customdata[3]}<extra></extra>",
         "legendgroup": "Aspirin",
         "marker": {
          "color": "#1f78b4",
          "size": [
           1,
           1,
           1,
           1,
           1,
           1,
           1,
           1,
           1,
           1,
           1,
           1,
           1,
           1,
           1,
           1,
           1,
           10,
           10,
           10,
           10,
           10,
           10,
           10,
           10,
           10,
           10,
           10,
           10,
           10,
           10,
           10,
           10,
           10
          ],
          "sizemode": "area",
          "sizeref": 0.025,
          "symbol": "circle"
         },
         "mode": "markers",
         "name": "Aspirin",
         "scene": "scene",
         "showlegend": true,
         "type": "scatter3d",
         "x": [
          -8.305229187011719,
          -5.392139911651611,
          -9.2076997756958,
          -7.506039619445801,
          -7.924680233001709,
          -6.373748302459717,
          -5.850466251373291,
          -5.353710174560547,
          -9.177544593811035,
          -7.1618852615356445,
          -6.141969203948975,
          -6.044436454772949,
          -7.658571720123291,
          -8.898588180541992,
          -7.855020046234131,
          -6.881530284881592,
          -7.1114091873168945,
          -6.038998603820801,
          -5.686520576477051,
          -5.494953155517578,
          -5.442949295043945,
          -7.294435977935791,
          -7.4929890632629395,
          -6.865506649017334,
          -8.384702682495117,
          -6.35549783706665,
          -7.8471903800964355,
          -7.855255603790283,
          -7.897002696990967,
          -8.096364974975586,
          -6.941853046417236,
          -7.6866679191589355,
          -7.879251480102539,
          -8.518716812133789
         ],
         "y": [
          10.515686988830566,
          10.035767555236816,
          11.228677749633789,
          11.36163330078125,
          10.624966621398926,
          13.501442909240723,
          12.961064338684082,
          13.750876426696777,
          10.327057838439941,
          11.30154800415039,
          10.900169372558594,
          11.02487564086914,
          8.916022300720215,
          11.245870590209961,
          8.90451717376709,
          12.519145965576172,
          12.384272575378418,
          13.477949142456055,
          13.153264045715332,
          13.298521995544434,
          13.619202613830566,
          9.462615013122559,
          11.607137680053711,
          11.317327499389648,
          10.221710205078125,
          11.271910667419434,
          11.019098281860352,
          8.995055198669434,
          9.581085205078125,
          9.02687931060791,
          9.35111141204834,
          9.672310829162598,
          11.738343238830566,
          11.40884017944336
         ],
         "z": [
          13.448060035705566,
          10.70764446258545,
          11.707159042358398,
          13.703425407409668,
          12.411314964294434,
          12.565776824951172,
          12.730895042419434,
          11.873861312866211,
          11.079780578613281,
          12.292540550231934,
          11.297816276550293,
          11.1786470413208,
          10.3125638961792,
          13.047789573669434,
          10.881996154785156,
          11.569938659667969,
          12.114344596862793,
          11.934368133544922,
          11.831053733825684,
          11.4086332321167,
          11.482884407043457,
          12.812005996704102,
          12.058019638061523,
          12.421446800231934,
          12.903631210327148,
          13.149291038513184,
          12.084290504455566,
          10.70678424835205,
          10.232154846191406,
          12.264776229858398,
          12.510741233825684,
          11.593072891235352,
          13.703913688659668,
          13.210577011108398
         ]
        },
        {
         "customdata": [
          [
           "231006_132517_Plate_1",
           "C10",
           "Cyclophosphamide",
           1
          ],
          [
           "231006_132517_Plate_1",
           "B10",
           "Cyclophosphamide",
           1
          ],
          [
           "220617_090443_Plate_1",
           "D7",
           "Cyclophosphamide",
           1
          ],
          [
           "220617_090443_Plate_1",
           "C7",
           "Cyclophosphamide",
           1
          ],
          [
           "220617_090443_Plate_1",
           "B7",
           "Cyclophosphamide",
           1
          ],
          [
           "231006_132517_Plate_1",
           "D10",
           "Cyclophosphamide",
           1
          ],
          [
           "231011_183822_Plate_1",
           "C9",
           "Cyclophosphamide",
           1
          ],
          [
           "231011_183822_Plate_1",
           "C8",
           "Cyclophosphamide",
           1
          ],
          [
           "231011_183822_Plate_1",
           "C7",
           "Cyclophosphamide",
           1
          ],
          [
           "231011_183822_Plate_1",
           "C6",
           "Cyclophosphamide",
           1
          ],
          [
           "231006_132517_Plate_1",
           "E10",
           "Cyclophosphamide",
           1
          ],
          [
           "220608_152238_Plate_1",
           "C7",
           "Cyclophosphamide",
           1
          ],
          [
           "220607_092050_Plate_1",
           "C7",
           "Cyclophosphamide",
           1
          ],
          [
           "220608_152238_Plate_1",
           "B7",
           "Cyclophosphamide",
           1
          ],
          [
           "220607_092050_Plate_1",
           "D7",
           "Cyclophosphamide",
           1
          ],
          [
           "220608_152238_Plate_1",
           "D7",
           "Cyclophosphamide",
           1
          ],
          [
           "220607_092050_Plate_1",
           "B7",
           "Cyclophosphamide",
           1
          ],
          [
           "220607_092050_Plate_1",
           "D8",
           "Cyclophosphamide",
           10
          ],
          [
           "220607_092050_Plate_1",
           "B8",
           "Cyclophosphamide",
           10
          ],
          [
           "231006_132517_Plate_1",
           "E11",
           "Cyclophosphamide",
           10
          ],
          [
           "220607_092050_Plate_1",
           "C8",
           "Cyclophosphamide",
           10
          ],
          [
           "231011_183822_Plate_1",
           "C5",
           "Cyclophosphamide",
           10
          ],
          [
           "231011_183822_Plate_1",
           "C4",
           "Cyclophosphamide",
           10
          ],
          [
           "231011_183822_Plate_1",
           "C3",
           "Cyclophosphamide",
           10
          ],
          [
           "231011_183822_Plate_1",
           "C2",
           "Cyclophosphamide",
           10
          ],
          [
           "220617_090443_Plate_1",
           "D8",
           "Cyclophosphamide",
           10
          ],
          [
           "220608_152238_Plate_1",
           "C8",
           "Cyclophosphamide",
           10
          ],
          [
           "220617_090443_Plate_1",
           "C8",
           "Cyclophosphamide",
           10
          ],
          [
           "220617_090443_Plate_1",
           "B8",
           "Cyclophosphamide",
           10
          ],
          [
           "220608_152238_Plate_1",
           "D8",
           "Cyclophosphamide",
           10
          ],
          [
           "231006_132517_Plate_1",
           "D11",
           "Cyclophosphamide",
           10
          ],
          [
           "231006_132517_Plate_1",
           "C11",
           "Cyclophosphamide",
           10
          ],
          [
           "231006_132517_Plate_1",
           "B11",
           "Cyclophosphamide",
           10
          ],
          [
           "220608_152238_Plate_1",
           "B8",
           "Cyclophosphamide",
           10
          ]
         ],
         "hovertemplate": "colors_plot_col=Cyclophosphamide<br>0=%{x}<br>1=%{y}<br>2=%{z}<br>Metadata_size=%{marker.size}<br>Metadata_Plate=%{customdata[0]}<br>Metadata_Well=%{customdata[1]}<br>Metadata_compound=%{customdata[2]}<br>Metadata_concentration_uM=%{customdata[3]}<extra></extra>",
         "legendgroup": "Cyclophosphamide",
         "marker": {
          "color": "#e31a1c",
          "size": [
           1,
           1,
           1,
           1,
           1,
           1,
           1,
           1,
           1,
           1,
           1,
           1,
           1,
           1,
           1,
           1,
           1,
           10,
           10,
           10,
           10,
           10,
           10,
           10,
           10,
           10,
           10,
           10,
           10,
           10,
           10,
           10,
           10,
           10
          ],
          "sizemode": "area",
          "sizeref": 0.025,
          "symbol": "circle"
         },
         "mode": "markers",
         "name": "Cyclophosphamide",
         "scene": "scene",
         "showlegend": true,
         "type": "scatter3d",
         "x": [
          -5.570118427276611,
          -6.094820976257324,
          -8.469596862792969,
          -8.56545352935791,
          -7.179068565368652,
          -7.445383071899414,
          -5.871368885040283,
          -7.100708484649658,
          -5.629855155944824,
          -8.183810234069824,
          -7.161562442779541,
          -9.401649475097656,
          -8.408994674682617,
          -8.832205772399902,
          -8.860817909240723,
          -7.048961162567139,
          -7.894561767578125,
          -8.503905296325684,
          -8.470163345336914,
          -5.867886543273926,
          -9.007538795471191,
          -5.926543712615967,
          -6.590109348297119,
          -5.885478496551514,
          -6.371960639953613,
          -8.216763496398926,
          -9.136680603027344,
          -8.801607131958008,
          -7.715116024017334,
          -7.842132091522217,
          -6.434640884399414,
          -6.607097148895264,
          -5.8691511154174805,
          -8.591285705566406
         ],
         "y": [
          12.290489196777344,
          12.404199600219727,
          9.148902893066406,
          9.875085830688477,
          12.376977920532227,
          10.426026344299316,
          13.301714897155762,
          11.4608793258667,
          13.670794486999512,
          9.599973678588867,
          10.260165214538574,
          10.839363098144531,
          9.292548179626465,
          10.822043418884277,
          9.473564147949219,
          9.053223609924316,
          11.056879043579102,
          9.002938270568848,
          10.826896667480469,
          11.04992961883545,
          10.855679512023926,
          13.650511741638184,
          12.983281135559082,
          13.297218322753906,
          12.6943941116333,
          9.285889625549316,
          10.033391952514648,
          9.637694358825684,
          11.477193832397461,
          9.183876037597656,
          9.734800338745117,
          13.153769493103027,
          11.745597839355469,
          10.99753189086914
         ],
         "z": [
          13.578752517700195,
          12.643511772155762,
          11.613564491271973,
          10.69009780883789,
          13.715699195861816,
          12.472472190856934,
          12.912779808044434,
          13.169781684875488,
          12.400537490844727,
          12.428874969482422,
          11.022377967834473,
          11.26941204071045,
          10.759971618652344,
          12.884217262268066,
          11.2897310256958,
          11.905116081237793,
          13.102195739746094,
          12.209924697875977,
          13.444941520690918,
          12.091192245483398,
          11.220113754272461,
          12.921955108642578,
          13.277220726013184,
          13.519366264343262,
          13.889466285705566,
          11.823115348815918,
          11.381566047668457,
          11.704141616821289,
          12.967365264892578,
          12.035455703735352,
          12.084436416625977,
          11.689229965209961,
          12.954978942871094,
          12.438804626464844
         ]
        },
        {
         "customdata": [
          [
           "231006_132517_Plate_1",
           "C5",
           "Lovastatin",
           1
          ],
          [
           "231006_132517_Plate_1",
           "C4",
           "Lovastatin",
           1
          ],
          [
           "231006_132517_Plate_1",
           "C3",
           "Lovastatin",
           1
          ],
          [
           "231006_132517_Plate_1",
           "C2",
           "Lovastatin",
           1
          ],
          [
           "220617_090443_Plate_1",
           "G3",
           "Lovastatin",
           1
          ],
          [
           "231011_183822_Plate_1",
           "G10",
           "Lovastatin",
           1
          ],
          [
           "220617_090443_Plate_1",
           "E3",
           "Lovastatin",
           1
          ],
          [
           "220608_152238_Plate_1",
           "G3",
           "Lovastatin",
           1
          ],
          [
           "231011_183822_Plate_1",
           "F10",
           "Lovastatin",
           1
          ],
          [
           "231011_183822_Plate_1",
           "E10",
           "Lovastatin",
           1
          ],
          [
           "231011_183822_Plate_1",
           "D10",
           "Lovastatin",
           1
          ],
          [
           "220608_152238_Plate_1",
           "F3",
           "Lovastatin",
           1
          ],
          [
           "220617_090443_Plate_1",
           "F3",
           "Lovastatin",
           1
          ],
          [
           "220607_092050_Plate_1",
           "F3",
           "Lovastatin",
           1
          ],
          [
           "220607_092050_Plate_1",
           "G3",
           "Lovastatin",
           1
          ],
          [
           "220608_152238_Plate_1",
           "E3",
           "Lovastatin",
           1
          ],
          [
           "220607_092050_Plate_1",
           "E3",
           "Lovastatin",
           1
          ],
          [
           "231011_183822_Plate_1",
           "D11",
           "Lovastatin",
           10
          ],
          [
           "231011_183822_Plate_1",
           "E11",
           "Lovastatin",
           10
          ],
          [
           "231011_183822_Plate_1",
           "F11",
           "Lovastatin",
           10
          ],
          [
           "220608_152238_Plate_1",
           "E4",
           "Lovastatin",
           10
          ],
          [
           "220608_152238_Plate_1",
           "G4",
           "Lovastatin",
           10
          ],
          [
           "220608_152238_Plate_1",
           "F4",
           "Lovastatin",
           10
          ],
          [
           "220617_090443_Plate_1",
           "E4",
           "Lovastatin",
           10
          ],
          [
           "220607_092050_Plate_1",
           "E4",
           "Lovastatin",
           10
          ],
          [
           "220607_092050_Plate_1",
           "F4",
           "Lovastatin",
           10
          ],
          [
           "231006_132517_Plate_1",
           "C9",
           "Lovastatin",
           10
          ],
          [
           "231006_132517_Plate_1",
           "C8",
           "Lovastatin",
           10
          ],
          [
           "231006_132517_Plate_1",
           "C7",
           "Lovastatin",
           10
          ],
          [
           "231006_132517_Plate_1",
           "C6",
           "Lovastatin",
           10
          ],
          [
           "220607_092050_Plate_1",
           "G4",
           "Lovastatin",
           10
          ],
          [
           "220617_090443_Plate_1",
           "G4",
           "Lovastatin",
           10
          ],
          [
           "220617_090443_Plate_1",
           "F4",
           "Lovastatin",
           10
          ],
          [
           "231011_183822_Plate_1",
           "G11",
           "Lovastatin",
           10
          ]
         ],
         "hovertemplate": "colors_plot_col=Lovastatin<br>0=%{x}<br>1=%{y}<br>2=%{z}<br>Metadata_size=%{marker.size}<br>Metadata_Plate=%{customdata[0]}<br>Metadata_Well=%{customdata[1]}<br>Metadata_compound=%{customdata[2]}<br>Metadata_concentration_uM=%{customdata[3]}<extra></extra>",
         "legendgroup": "Lovastatin",
         "marker": {
          "color": "#6a3d9a",
          "size": [
           1,
           1,
           1,
           1,
           1,
           1,
           1,
           1,
           1,
           1,
           1,
           1,
           1,
           1,
           1,
           1,
           1,
           10,
           10,
           10,
           10,
           10,
           10,
           10,
           10,
           10,
           10,
           10,
           10,
           10,
           10,
           10,
           10,
           10
          ],
          "sizemode": "area",
          "sizeref": 0.025,
          "symbol": "circle"
         },
         "mode": "markers",
         "name": "Lovastatin",
         "scene": "scene",
         "showlegend": true,
         "type": "scatter3d",
         "x": [
          -6.833718776702881,
          -7.675802230834961,
          -7.1265153884887695,
          -6.7762556076049805,
          -6.875823497772217,
          -7.671792984008789,
          -5.844082832336426,
          -6.319253921508789,
          -7.720825672149658,
          -7.160217761993408,
          -6.006046295166016,
          -9.052519798278809,
          -5.999402046203613,
          -6.043361663818359,
          -6.467528820037842,
          -5.145493030548096,
          -5.8173089027404785,
          -7.065604209899902,
          -7.1883745193481445,
          -7.367154598236084,
          -4.980319976806641,
          -5.994183540344238,
          -5.300235748291016,
          -6.099396228790283,
          -5.989868640899658,
          -5.003383636474609,
          -7.2177934646606445,
          -6.044443130493164,
          -7.102721691131592,
          -4.968642711639404,
          -7.340573787689209,
          -6.511688232421875,
          -6.116626739501953,
          -7.493622303009033
         ],
         "y": [
          12.350198745727539,
          12.224407196044922,
          10.131874084472656,
          11.648233413696289,
          11.779454231262207,
          9.455475807189941,
          12.438501358032227,
          9.550179481506348,
          10.103117942810059,
          9.951658248901367,
          11.49612045288086,
          11.61962604522705,
          12.031678199768066,
          11.780735969543457,
          11.929925918579102,
          11.7781343460083,
          12.358135223388672,
          9.722084045410156,
          10.425169944763184,
          9.43648624420166,
          13.878722190856934,
          10.428625106811523,
          11.723109245300293,
          12.278141975402832,
          11.629951477050781,
          10.862237930297852,
          12.146668434143066,
          11.429483413696289,
          11.960901260375977,
          10.387474060058594,
          11.105461120605469,
          11.047674179077148,
          11.645208358764648,
          10.124792098999023
         ],
         "z": [
          10.89309310913086,
          12.446588516235352,
          10.522299766540527,
          11.4422025680542,
          9.843049049377441,
          9.782012939453125,
          10.261475563049316,
          11.444737434387207,
          9.758573532104492,
          9.796660423278809,
          9.974495887756348,
          11.40237045288086,
          9.68005657196045,
          9.537040710449219,
          9.343390464782715,
          10.263647079467773,
          9.740331649780273,
          9.931092262268066,
          9.653722763061523,
          10.048392295837402,
          12.018379211425781,
          12.133197784423828,
          9.674287796020508,
          10.167821884155273,
          10.8796968460083,
          10.4589204788208,
          12.846502304077148,
          12.678749084472656,
          12.472955703735352,
          10.872984886169434,
          9.596916198730469,
          9.772004127502441,
          10.158018112182617,
          9.563569068908691
         ]
        },
        {
         "customdata": [
          [
           "231006_132517_Plate_1",
           "B5",
           "Amiodarone",
           1
          ],
          [
           "231006_132517_Plate_1",
           "B4",
           "Amiodarone",
           1
          ],
          [
           "231006_132517_Plate_1",
           "B3",
           "Amiodarone",
           1
          ],
          [
           "231006_132517_Plate_1",
           "B2",
           "Amiodarone",
           1
          ],
          [
           "220617_090443_Plate_1",
           "D5",
           "Amiodarone",
           1
          ],
          [
           "220617_090443_Plate_1",
           "C5",
           "Amiodarone",
           1
          ],
          [
           "220617_090443_Plate_1",
           "B5",
           "Amiodarone",
           1
          ],
          [
           "231011_183822_Plate_1",
           "E9",
           "Amiodarone",
           1
          ],
          [
           "231011_183822_Plate_1",
           "E8",
           "Amiodarone",
           1
          ],
          [
           "231011_183822_Plate_1",
           "E7",
           "Amiodarone",
           1
          ],
          [
           "231011_183822_Plate_1",
           "E6",
           "Amiodarone",
           1
          ],
          [
           "220608_152238_Plate_1",
           "C5",
           "Amiodarone",
           1
          ],
          [
           "220607_092050_Plate_1",
           "D5",
           "Amiodarone",
           1
          ],
          [
           "220608_152238_Plate_1",
           "B5",
           "Amiodarone",
           1
          ],
          [
           "220607_092050_Plate_1",
           "C5",
           "Amiodarone",
           1
          ],
          [
           "220608_152238_Plate_1",
           "D5",
           "Amiodarone",
           1
          ],
          [
           "220607_092050_Plate_1",
           "B5",
           "Amiodarone",
           1
          ],
          [
           "220607_092050_Plate_1",
           "D6",
           "Amiodarone",
           10
          ],
          [
           "220607_092050_Plate_1",
           "B6",
           "Amiodarone",
           10
          ],
          [
           "231011_183822_Plate_1",
           "E5",
           "Amiodarone",
           10
          ],
          [
           "231011_183822_Plate_1",
           "E4",
           "Amiodarone",
           10
          ],
          [
           "231011_183822_Plate_1",
           "E3",
           "Amiodarone",
           10
          ],
          [
           "231011_183822_Plate_1",
           "E2",
           "Amiodarone",
           10
          ],
          [
           "220607_092050_Plate_1",
           "C6",
           "Amiodarone",
           10
          ],
          [
           "220608_152238_Plate_1",
           "C6",
           "Amiodarone",
           10
          ],
          [
           "220617_090443_Plate_1",
           "D6",
           "Amiodarone",
           10
          ],
          [
           "220617_090443_Plate_1",
           "C6",
           "Amiodarone",
           10
          ],
          [
           "220608_152238_Plate_1",
           "D6",
           "Amiodarone",
           10
          ],
          [
           "220617_090443_Plate_1",
           "B6",
           "Amiodarone",
           10
          ],
          [
           "231006_132517_Plate_1",
           "B9",
           "Amiodarone",
           10
          ],
          [
           "231006_132517_Plate_1",
           "B8",
           "Amiodarone",
           10
          ],
          [
           "231006_132517_Plate_1",
           "B7",
           "Amiodarone",
           10
          ],
          [
           "231006_132517_Plate_1",
           "B6",
           "Amiodarone",
           10
          ],
          [
           "220608_152238_Plate_1",
           "B6",
           "Amiodarone",
           10
          ]
         ],
         "hovertemplate": "colors_plot_col=Amiodarone<br>0=%{x}<br>1=%{y}<br>2=%{z}<br>Metadata_size=%{marker.size}<br>Metadata_Plate=%{customdata[0]}<br>Metadata_Well=%{customdata[1]}<br>Metadata_compound=%{customdata[2]}<br>Metadata_concentration_uM=%{customdata[3]}<extra></extra>",
         "legendgroup": "Amiodarone",
         "marker": {
          "color": "#33a02c",
          "size": [
           1,
           1,
           1,
           1,
           1,
           1,
           1,
           1,
           1,
           1,
           1,
           1,
           1,
           1,
           1,
           1,
           1,
           10,
           10,
           10,
           10,
           10,
           10,
           10,
           10,
           10,
           10,
           10,
           10,
           10,
           10,
           10,
           10,
           10
          ],
          "sizemode": "area",
          "sizeref": 0.025,
          "symbol": "circle"
         },
         "mode": "markers",
         "name": "Amiodarone",
         "scene": "scene",
         "showlegend": true,
         "type": "scatter3d",
         "x": [
          -6.139466762542725,
          -5.221851348876953,
          -8.342552185058594,
          -8.184111595153809,
          -7.150023937225342,
          -8.372976303100586,
          -8.006410598754883,
          -4.728817462921143,
          -5.074450492858887,
          -7.591147422790527,
          -6.131176948547363,
          -8.240806579589844,
          -7.915158748626709,
          -8.957853317260742,
          -8.446744918823242,
          -7.863189220428467,
          -9.234428405761719,
          -8.728569030761719,
          -6.835235118865967,
          -5.096938133239746,
          -8.605202674865723,
          -8.155862808227539,
          -8.476197242736816,
          -8.70971965789795,
          -8.668242454528809,
          -7.432982921600342,
          -8.236898422241211,
          -8.064493179321289,
          -5.458268642425537,
          -8.487245559692383,
          -8.163453102111816,
          -7.878481388092041,
          -8.159483909606934,
          -9.022738456726074
         ],
         "y": [
          12.619562149047852,
          10.955506324768066,
          11.6013822555542,
          11.493890762329102,
          9.140227317810059,
          9.540129661560059,
          11.131767272949219,
          13.042845726013184,
          12.752233505249023,
          9.161370277404785,
          10.132148742675781,
          10.228019714355469,
          10.106965065002441,
          10.460415840148926,
          9.945213317871094,
          9.726753234863281,
          11.11230182647705,
          9.492668151855469,
          9.931632995605469,
          10.236089706420898,
          9.756172180175781,
          10.346839904785156,
          10.133308410644531,
          9.972017288208008,
          10.648648262023926,
          9.744292259216309,
          10.467001914978027,
          10.235321998596191,
          13.603925704956055,
          10.466469764709473,
          10.312039375305176,
          10.88464641571045,
          11.02713394165039,
          10.6334810256958
         ],
         "z": [
          11.778132438659668,
          11.232198715209961,
          12.405584335327148,
          12.200719833374023,
          12.331584930419922,
          10.822198867797852,
          13.565346717834473,
          10.080619812011719,
          10.283103942871094,
          11.1996431350708,
          10.705105781555176,
          11.031059265136719,
          11.259664535522461,
          12.190003395080566,
          11.845132827758789,
          11.050117492675781,
          12.273456573486328,
          10.580924987792969,
          12.853394508361816,
          10.544883728027344,
          9.747124671936035,
          9.987089157104492,
          9.626401901245117,
          10.285002708435059,
          10.369897842407227,
          10.778042793273926,
          10.183326721191406,
          10.631843566894531,
          13.048460960388184,
          11.805120468139648,
          12.227967262268066,
          11.253288269042969,
          11.331202507019043,
          10.95883560180664
         ]
        },
        {
         "customdata": [
          [
           "220617_090443_Plate_1",
           "D9",
           "Etoposide",
           1
          ],
          [
           "220617_090443_Plate_1",
           "C9",
           "Etoposide",
           1
          ],
          [
           "220617_090443_Plate_1",
           "B9",
           "Etoposide",
           1
          ],
          [
           "231006_132517_Plate_1",
           "E2",
           "Etoposide",
           1
          ],
          [
           "231006_132517_Plate_1",
           "E4",
           "Etoposide",
           1
          ],
          [
           "231011_183822_Plate_1",
           "G9",
           "Etoposide",
           1
          ],
          [
           "231011_183822_Plate_1",
           "G8",
           "Etoposide",
           1
          ],
          [
           "231011_183822_Plate_1",
           "G7",
           "Etoposide",
           1
          ],
          [
           "231011_183822_Plate_1",
           "G6",
           "Etoposide",
           1
          ],
          [
           "231006_132517_Plate_1",
           "E5",
           "Etoposide",
           1
          ],
          [
           "231006_132517_Plate_1",
           "E3",
           "Etoposide",
           1
          ],
          [
           "220608_152238_Plate_1",
           "C9",
           "Etoposide",
           1
          ],
          [
           "220607_092050_Plate_1",
           "C9",
           "Etoposide",
           1
          ],
          [
           "220608_152238_Plate_1",
           "B9",
           "Etoposide",
           1
          ],
          [
           "220607_092050_Plate_1",
           "D9",
           "Etoposide",
           1
          ],
          [
           "220607_092050_Plate_1",
           "B9",
           "Etoposide",
           1
          ],
          [
           "220608_152238_Plate_1",
           "D9",
           "Etoposide",
           1
          ],
          [
           "231011_183822_Plate_1",
           "G5",
           "Etoposide",
           10
          ],
          [
           "220607_092050_Plate_1",
           "D10",
           "Etoposide",
           10
          ],
          [
           "231011_183822_Plate_1",
           "G4",
           "Etoposide",
           10
          ],
          [
           "231011_183822_Plate_1",
           "G3",
           "Etoposide",
           10
          ],
          [
           "220607_092050_Plate_1",
           "B10",
           "Etoposide",
           10
          ],
          [
           "220607_092050_Plate_1",
           "C10",
           "Etoposide",
           10
          ],
          [
           "231011_183822_Plate_1",
           "G2",
           "Etoposide",
           10
          ],
          [
           "231006_132517_Plate_1",
           "E8",
           "Etoposide",
           10
          ],
          [
           "220617_090443_Plate_1",
           "D10",
           "Etoposide",
           10
          ],
          [
           "220617_090443_Plate_1",
           "C10",
           "Etoposide",
           10
          ],
          [
           "220608_152238_Plate_1",
           "C10",
           "Etoposide",
           10
          ],
          [
           "220617_090443_Plate_1",
           "B10",
           "Etoposide",
           10
          ],
          [
           "220608_152238_Plate_1",
           "D10",
           "Etoposide",
           10
          ],
          [
           "231006_132517_Plate_1",
           "E9",
           "Etoposide",
           10
          ],
          [
           "231006_132517_Plate_1",
           "E7",
           "Etoposide",
           10
          ],
          [
           "231006_132517_Plate_1",
           "E6",
           "Etoposide",
           10
          ],
          [
           "220608_152238_Plate_1",
           "B10",
           "Etoposide",
           10
          ]
         ],
         "hovertemplate": "colors_plot_col=Etoposide<br>0=%{x}<br>1=%{y}<br>2=%{z}<br>Metadata_size=%{marker.size}<br>Metadata_Plate=%{customdata[0]}<br>Metadata_Well=%{customdata[1]}<br>Metadata_compound=%{customdata[2]}<br>Metadata_concentration_uM=%{customdata[3]}<extra></extra>",
         "legendgroup": "Etoposide",
         "marker": {
          "color": "#ff7f00",
          "size": [
           1,
           1,
           1,
           1,
           1,
           1,
           1,
           1,
           1,
           1,
           1,
           1,
           1,
           1,
           1,
           1,
           1,
           10,
           10,
           10,
           10,
           10,
           10,
           10,
           10,
           10,
           10,
           10,
           10,
           10,
           10,
           10,
           10,
           10
          ],
          "sizemode": "area",
          "sizeref": 0.025,
          "symbol": "circle"
         },
         "mode": "markers",
         "name": "Etoposide",
         "scene": "scene",
         "showlegend": true,
         "type": "scatter3d",
         "x": [
          -4.604813098907471,
          -4.612453460693359,
          -5.534590244293213,
          -4.360523223876953,
          -4.52669095993042,
          -4.363132953643799,
          -4.631435394287109,
          -5.340793609619141,
          -6.447895526885986,
          -5.232606410980225,
          -4.408970355987549,
          -4.905735015869141,
          -4.513246059417725,
          -6.745483875274658,
          -5.138263702392578,
          -5.750546455383301,
          -4.425780773162842,
          -5.097094535827637,
          -4.629077911376953,
          -4.714736461639404,
          -4.7148118019104,
          -4.901156902313232,
          -4.849620819091797,
          -5.069502830505371,
          -4.811844825744629,
          -5.162517547607422,
          -5.431209564208984,
          -4.974471569061279,
          -5.314316272735596,
          -4.730953216552734,
          -4.691176891326904,
          -5.9314398765563965,
          -4.871246337890625,
          -6.051358222961426
         ],
         "y": [
          10.615043640136719,
          11.312169075012207,
          11.98962688446045,
          10.74700927734375,
          10.525548934936523,
          10.659512519836426,
          10.423273086547852,
          10.468070983886719,
          10.838194847106934,
          11.12557601928711,
          10.625038146972656,
          11.584037780761719,
          11.482705116271973,
          10.94021987915039,
          10.7438383102417,
          11.225768089294434,
          10.705146789550781,
          10.761963844299316,
          11.251823425292969,
          10.988410949707031,
          11.674154281616211,
          12.082642555236816,
          12.221639633178711,
          11.096434593200684,
          11.066344261169434,
          11.13698959350586,
          11.399557113647461,
          11.828343391418457,
          11.696202278137207,
          10.967781066894531,
          11.745949745178223,
          11.503730773925781,
          11.419468879699707,
          10.6850004196167
         ],
         "z": [
          13.465435981750488,
          13.938681602478027,
          14.244624137878418,
          13.962525367736816,
          10.938987731933594,
          13.212823867797852,
          12.880732536315918,
          12.852211952209473,
          11.608189582824707,
          14.801392555236816,
          11.144266128540039,
          14.606318473815918,
          13.808104515075684,
          13.719221115112305,
          14.192278861999512,
          14.309713363647461,
          13.97216510772705,
          12.719518661499023,
          14.341862678527832,
          12.877093315124512,
          13.223077774047852,
          13.649579048156738,
          14.088933944702148,
          13.131634712219238,
          14.807659149169922,
          13.569497108459473,
          14.007203102111816,
          13.747519493103027,
          14.344377517700195,
          14.320805549621582,
          14.702271461486816,
          13.996459007263184,
          14.963261604309082,
          13.607133865356445
         ]
        },
        {
         "customdata": [
          [
           "231006_132517_Plate_1",
           "F9",
           "Orphenadrine",
           10
          ],
          [
           "231006_132517_Plate_1",
           "F8",
           "Orphenadrine",
           10
          ],
          [
           "231006_132517_Plate_1",
           "F7",
           "Orphenadrine",
           10
          ],
          [
           "231006_132517_Plate_1",
           "F6",
           "Orphenadrine",
           10
          ],
          [
           "231011_183822_Plate_1",
           "D5",
           "Orphenadrine",
           10
          ],
          [
           "231011_183822_Plate_1",
           "D4",
           "Orphenadrine",
           10
          ],
          [
           "231011_183822_Plate_1",
           "D3",
           "Orphenadrine",
           10
          ],
          [
           "231011_183822_Plate_1",
           "D2",
           "Orphenadrine",
           10
          ],
          [
           "220608_152238_Plate_1",
           "G6",
           "Orphenadrine",
           10
          ],
          [
           "220608_152238_Plate_1",
           "F6",
           "Orphenadrine",
           10
          ],
          [
           "220608_152238_Plate_1",
           "E6",
           "Orphenadrine",
           10
          ],
          [
           "220617_090443_Plate_1",
           "E6",
           "Orphenadrine",
           10
          ],
          [
           "220617_090443_Plate_1",
           "F6",
           "Orphenadrine",
           10
          ],
          [
           "220607_092050_Plate_1",
           "E6",
           "Orphenadrine",
           10
          ],
          [
           "220607_092050_Plate_1",
           "F6",
           "Orphenadrine",
           10
          ],
          [
           "220607_092050_Plate_1",
           "G6",
           "Orphenadrine",
           10
          ],
          [
           "220617_090443_Plate_1",
           "G6",
           "Orphenadrine",
           10
          ]
         ],
         "hovertemplate": "colors_plot_col=Orphenadrine<br>0=%{x}<br>1=%{y}<br>2=%{z}<br>Metadata_size=%{marker.size}<br>Metadata_Plate=%{customdata[0]}<br>Metadata_Well=%{customdata[1]}<br>Metadata_compound=%{customdata[2]}<br>Metadata_concentration_uM=%{customdata[3]}<extra></extra>",
         "legendgroup": "Orphenadrine",
         "marker": {
          "color": "#a6cee3",
          "size": [
           10,
           10,
           10,
           10,
           10,
           10,
           10,
           10,
           10,
           10,
           10,
           10,
           10,
           10,
           10,
           10,
           10
          ],
          "sizemode": "area",
          "sizeref": 0.025,
          "symbol": "circle"
         },
         "mode": "markers",
         "name": "Orphenadrine",
         "scene": "scene",
         "showlegend": true,
         "type": "scatter3d",
         "x": [
          -4.079036712646484,
          -4.027113437652588,
          -4.046666145324707,
          -4.357346057891846,
          -3.8533670902252197,
          -3.8857996463775635,
          -3.8653881549835205,
          -4.315003871917725,
          -4.448009967803955,
          -4.023697376251221,
          -4.419052600860596,
          -4.203384876251221,
          -4.139129161834717,
          -4.406604766845703,
          -3.9225873947143555,
          -3.8984057903289795,
          -4.0080156326293945
         ],
         "y": [
          11.50222396850586,
          11.787435531616211,
          11.483270645141602,
          11.565428733825684,
          13.098387718200684,
          13.452552795410156,
          13.133099555969238,
          12.986595153808594,
          12.500890731811523,
          12.709983825683594,
          13.432150840759277,
          13.412981986999512,
          12.369955062866211,
          13.622906684875488,
          12.167196273803711,
          12.231971740722656,
          12.65344524383545
         ],
         "z": [
          9.677579879760742,
          9.478180885314941,
          10.050468444824219,
          10.062126159667969,
          10.106293678283691,
          10.551115989685059,
          10.176427841186523,
          9.995637893676758,
          9.47684383392334,
          10.297706604003906,
          10.8750638961792,
          10.700019836425781,
          10.015449523925781,
          11.1363525390625,
          9.821680068969727,
          9.569250106811523,
          9.744972229003906
         ]
        }
       ],
       "layout": {
        "autosize": false,
        "font": {
         "size": 18
        },
        "height": 700,
        "legend": {
         "itemsizing": "constant",
         "title": {
          "text": "Metadata_compound"
         },
         "tracegroupgap": 0
        },
        "margin": {
         "b": 20,
         "l": 50,
         "pad": 4,
         "r": 50,
         "t": 50
        },
        "scene": {
         "domain": {
          "x": [
           0,
           1
          ],
          "y": [
           0,
           1
          ]
         },
         "xaxis": {
          "title": {
           "text": "0"
          }
         },
         "yaxis": {
          "title": {
           "text": "1"
          }
         },
         "zaxis": {
          "title": {
           "text": "2"
          }
         }
        },
        "template": {
         "data": {
          "bar": [
           {
            "error_x": {
             "color": "#2a3f5f"
            },
            "error_y": {
             "color": "#2a3f5f"
            },
            "marker": {
             "line": {
              "color": "#E5ECF6",
              "width": 0.5
             },
             "pattern": {
              "fillmode": "overlay",
              "size": 10,
              "solidity": 0.2
             }
            },
            "type": "bar"
           }
          ],
          "barpolar": [
           {
            "marker": {
             "line": {
              "color": "#E5ECF6",
              "width": 0.5
             },
             "pattern": {
              "fillmode": "overlay",
              "size": 10,
              "solidity": 0.2
             }
            },
            "type": "barpolar"
           }
          ],
          "carpet": [
           {
            "aaxis": {
             "endlinecolor": "#2a3f5f",
             "gridcolor": "white",
             "linecolor": "white",
             "minorgridcolor": "white",
             "startlinecolor": "#2a3f5f"
            },
            "baxis": {
             "endlinecolor": "#2a3f5f",
             "gridcolor": "white",
             "linecolor": "white",
             "minorgridcolor": "white",
             "startlinecolor": "#2a3f5f"
            },
            "type": "carpet"
           }
          ],
          "choropleth": [
           {
            "colorbar": {
             "outlinewidth": 0,
             "ticks": ""
            },
            "type": "choropleth"
           }
          ],
          "contour": [
           {
            "colorbar": {
             "outlinewidth": 0,
             "ticks": ""
            },
            "colorscale": [
             [
              0,
              "#0d0887"
             ],
             [
              0.1111111111111111,
              "#46039f"
             ],
             [
              0.2222222222222222,
              "#7201a8"
             ],
             [
              0.3333333333333333,
              "#9c179e"
             ],
             [
              0.4444444444444444,
              "#bd3786"
             ],
             [
              0.5555555555555556,
              "#d8576b"
             ],
             [
              0.6666666666666666,
              "#ed7953"
             ],
             [
              0.7777777777777778,
              "#fb9f3a"
             ],
             [
              0.8888888888888888,
              "#fdca26"
             ],
             [
              1,
              "#f0f921"
             ]
            ],
            "type": "contour"
           }
          ],
          "contourcarpet": [
           {
            "colorbar": {
             "outlinewidth": 0,
             "ticks": ""
            },
            "type": "contourcarpet"
           }
          ],
          "heatmap": [
           {
            "colorbar": {
             "outlinewidth": 0,
             "ticks": ""
            },
            "colorscale": [
             [
              0,
              "#0d0887"
             ],
             [
              0.1111111111111111,
              "#46039f"
             ],
             [
              0.2222222222222222,
              "#7201a8"
             ],
             [
              0.3333333333333333,
              "#9c179e"
             ],
             [
              0.4444444444444444,
              "#bd3786"
             ],
             [
              0.5555555555555556,
              "#d8576b"
             ],
             [
              0.6666666666666666,
              "#ed7953"
             ],
             [
              0.7777777777777778,
              "#fb9f3a"
             ],
             [
              0.8888888888888888,
              "#fdca26"
             ],
             [
              1,
              "#f0f921"
             ]
            ],
            "type": "heatmap"
           }
          ],
          "heatmapgl": [
           {
            "colorbar": {
             "outlinewidth": 0,
             "ticks": ""
            },
            "colorscale": [
             [
              0,
              "#0d0887"
             ],
             [
              0.1111111111111111,
              "#46039f"
             ],
             [
              0.2222222222222222,
              "#7201a8"
             ],
             [
              0.3333333333333333,
              "#9c179e"
             ],
             [
              0.4444444444444444,
              "#bd3786"
             ],
             [
              0.5555555555555556,
              "#d8576b"
             ],
             [
              0.6666666666666666,
              "#ed7953"
             ],
             [
              0.7777777777777778,
              "#fb9f3a"
             ],
             [
              0.8888888888888888,
              "#fdca26"
             ],
             [
              1,
              "#f0f921"
             ]
            ],
            "type": "heatmapgl"
           }
          ],
          "histogram": [
           {
            "marker": {
             "pattern": {
              "fillmode": "overlay",
              "size": 10,
              "solidity": 0.2
             }
            },
            "type": "histogram"
           }
          ],
          "histogram2d": [
           {
            "colorbar": {
             "outlinewidth": 0,
             "ticks": ""
            },
            "colorscale": [
             [
              0,
              "#0d0887"
             ],
             [
              0.1111111111111111,
              "#46039f"
             ],
             [
              0.2222222222222222,
              "#7201a8"
             ],
             [
              0.3333333333333333,
              "#9c179e"
             ],
             [
              0.4444444444444444,
              "#bd3786"
             ],
             [
              0.5555555555555556,
              "#d8576b"
             ],
             [
              0.6666666666666666,
              "#ed7953"
             ],
             [
              0.7777777777777778,
              "#fb9f3a"
             ],
             [
              0.8888888888888888,
              "#fdca26"
             ],
             [
              1,
              "#f0f921"
             ]
            ],
            "type": "histogram2d"
           }
          ],
          "histogram2dcontour": [
           {
            "colorbar": {
             "outlinewidth": 0,
             "ticks": ""
            },
            "colorscale": [
             [
              0,
              "#0d0887"
             ],
             [
              0.1111111111111111,
              "#46039f"
             ],
             [
              0.2222222222222222,
              "#7201a8"
             ],
             [
              0.3333333333333333,
              "#9c179e"
             ],
             [
              0.4444444444444444,
              "#bd3786"
             ],
             [
              0.5555555555555556,
              "#d8576b"
             ],
             [
              0.6666666666666666,
              "#ed7953"
             ],
             [
              0.7777777777777778,
              "#fb9f3a"
             ],
             [
              0.8888888888888888,
              "#fdca26"
             ],
             [
              1,
              "#f0f921"
             ]
            ],
            "type": "histogram2dcontour"
           }
          ],
          "mesh3d": [
           {
            "colorbar": {
             "outlinewidth": 0,
             "ticks": ""
            },
            "type": "mesh3d"
           }
          ],
          "parcoords": [
           {
            "line": {
             "colorbar": {
              "outlinewidth": 0,
              "ticks": ""
             }
            },
            "type": "parcoords"
           }
          ],
          "pie": [
           {
            "automargin": true,
            "type": "pie"
           }
          ],
          "scatter": [
           {
            "fillpattern": {
             "fillmode": "overlay",
             "size": 10,
             "solidity": 0.2
            },
            "type": "scatter"
           }
          ],
          "scatter3d": [
           {
            "line": {
             "colorbar": {
              "outlinewidth": 0,
              "ticks": ""
             }
            },
            "marker": {
             "colorbar": {
              "outlinewidth": 0,
              "ticks": ""
             }
            },
            "type": "scatter3d"
           }
          ],
          "scattercarpet": [
           {
            "marker": {
             "colorbar": {
              "outlinewidth": 0,
              "ticks": ""
             }
            },
            "type": "scattercarpet"
           }
          ],
          "scattergeo": [
           {
            "marker": {
             "colorbar": {
              "outlinewidth": 0,
              "ticks": ""
             }
            },
            "type": "scattergeo"
           }
          ],
          "scattergl": [
           {
            "marker": {
             "colorbar": {
              "outlinewidth": 0,
              "ticks": ""
             }
            },
            "type": "scattergl"
           }
          ],
          "scattermapbox": [
           {
            "marker": {
             "colorbar": {
              "outlinewidth": 0,
              "ticks": ""
             }
            },
            "type": "scattermapbox"
           }
          ],
          "scatterpolar": [
           {
            "marker": {
             "colorbar": {
              "outlinewidth": 0,
              "ticks": ""
             }
            },
            "type": "scatterpolar"
           }
          ],
          "scatterpolargl": [
           {
            "marker": {
             "colorbar": {
              "outlinewidth": 0,
              "ticks": ""
             }
            },
            "type": "scatterpolargl"
           }
          ],
          "scatterternary": [
           {
            "marker": {
             "colorbar": {
              "outlinewidth": 0,
              "ticks": ""
             }
            },
            "type": "scatterternary"
           }
          ],
          "surface": [
           {
            "colorbar": {
             "outlinewidth": 0,
             "ticks": ""
            },
            "colorscale": [
             [
              0,
              "#0d0887"
             ],
             [
              0.1111111111111111,
              "#46039f"
             ],
             [
              0.2222222222222222,
              "#7201a8"
             ],
             [
              0.3333333333333333,
              "#9c179e"
             ],
             [
              0.4444444444444444,
              "#bd3786"
             ],
             [
              0.5555555555555556,
              "#d8576b"
             ],
             [
              0.6666666666666666,
              "#ed7953"
             ],
             [
              0.7777777777777778,
              "#fb9f3a"
             ],
             [
              0.8888888888888888,
              "#fdca26"
             ],
             [
              1,
              "#f0f921"
             ]
            ],
            "type": "surface"
           }
          ],
          "table": [
           {
            "cells": {
             "fill": {
              "color": "#EBF0F8"
             },
             "line": {
              "color": "white"
             }
            },
            "header": {
             "fill": {
              "color": "#C8D4E3"
             },
             "line": {
              "color": "white"
             }
            },
            "type": "table"
           }
          ]
         },
         "layout": {
          "annotationdefaults": {
           "arrowcolor": "#2a3f5f",
           "arrowhead": 0,
           "arrowwidth": 1
          },
          "autotypenumbers": "strict",
          "coloraxis": {
           "colorbar": {
            "outlinewidth": 0,
            "ticks": ""
           }
          },
          "colorscale": {
           "diverging": [
            [
             0,
             "#8e0152"
            ],
            [
             0.1,
             "#c51b7d"
            ],
            [
             0.2,
             "#de77ae"
            ],
            [
             0.3,
             "#f1b6da"
            ],
            [
             0.4,
             "#fde0ef"
            ],
            [
             0.5,
             "#f7f7f7"
            ],
            [
             0.6,
             "#e6f5d0"
            ],
            [
             0.7,
             "#b8e186"
            ],
            [
             0.8,
             "#7fbc41"
            ],
            [
             0.9,
             "#4d9221"
            ],
            [
             1,
             "#276419"
            ]
           ],
           "sequential": [
            [
             0,
             "#0d0887"
            ],
            [
             0.1111111111111111,
             "#46039f"
            ],
            [
             0.2222222222222222,
             "#7201a8"
            ],
            [
             0.3333333333333333,
             "#9c179e"
            ],
            [
             0.4444444444444444,
             "#bd3786"
            ],
            [
             0.5555555555555556,
             "#d8576b"
            ],
            [
             0.6666666666666666,
             "#ed7953"
            ],
            [
             0.7777777777777778,
             "#fb9f3a"
            ],
            [
             0.8888888888888888,
             "#fdca26"
            ],
            [
             1,
             "#f0f921"
            ]
           ],
           "sequentialminus": [
            [
             0,
             "#0d0887"
            ],
            [
             0.1111111111111111,
             "#46039f"
            ],
            [
             0.2222222222222222,
             "#7201a8"
            ],
            [
             0.3333333333333333,
             "#9c179e"
            ],
            [
             0.4444444444444444,
             "#bd3786"
            ],
            [
             0.5555555555555556,
             "#d8576b"
            ],
            [
             0.6666666666666666,
             "#ed7953"
            ],
            [
             0.7777777777777778,
             "#fb9f3a"
            ],
            [
             0.8888888888888888,
             "#fdca26"
            ],
            [
             1,
             "#f0f921"
            ]
           ]
          },
          "colorway": [
           "#636efa",
           "#EF553B",
           "#00cc96",
           "#ab63fa",
           "#FFA15A",
           "#19d3f3",
           "#FF6692",
           "#B6E880",
           "#FF97FF",
           "#FECB52"
          ],
          "font": {
           "color": "#2a3f5f"
          },
          "geo": {
           "bgcolor": "white",
           "lakecolor": "white",
           "landcolor": "#E5ECF6",
           "showlakes": true,
           "showland": true,
           "subunitcolor": "white"
          },
          "hoverlabel": {
           "align": "left"
          },
          "hovermode": "closest",
          "mapbox": {
           "style": "light"
          },
          "paper_bgcolor": "white",
          "plot_bgcolor": "#E5ECF6",
          "polar": {
           "angularaxis": {
            "gridcolor": "white",
            "linecolor": "white",
            "ticks": ""
           },
           "bgcolor": "#E5ECF6",
           "radialaxis": {
            "gridcolor": "white",
            "linecolor": "white",
            "ticks": ""
           }
          },
          "scene": {
           "xaxis": {
            "backgroundcolor": "#E5ECF6",
            "gridcolor": "white",
            "gridwidth": 2,
            "linecolor": "white",
            "showbackground": true,
            "ticks": "",
            "zerolinecolor": "white"
           },
           "yaxis": {
            "backgroundcolor": "#E5ECF6",
            "gridcolor": "white",
            "gridwidth": 2,
            "linecolor": "white",
            "showbackground": true,
            "ticks": "",
            "zerolinecolor": "white"
           },
           "zaxis": {
            "backgroundcolor": "#E5ECF6",
            "gridcolor": "white",
            "gridwidth": 2,
            "linecolor": "white",
            "showbackground": true,
            "ticks": "",
            "zerolinecolor": "white"
           }
          },
          "shapedefaults": {
           "line": {
            "color": "#2a3f5f"
           }
          },
          "ternary": {
           "aaxis": {
            "gridcolor": "white",
            "linecolor": "white",
            "ticks": ""
           },
           "baxis": {
            "gridcolor": "white",
            "linecolor": "white",
            "ticks": ""
           },
           "bgcolor": "#E5ECF6",
           "caxis": {
            "gridcolor": "white",
            "linecolor": "white",
            "ticks": ""
           }
          },
          "title": {
           "x": 0.05
          },
          "xaxis": {
           "automargin": true,
           "gridcolor": "white",
           "linecolor": "white",
           "ticks": "",
           "title": {
            "standoff": 15
           },
           "zerolinecolor": "white",
           "zerolinewidth": 2
          },
          "yaxis": {
           "automargin": true,
           "gridcolor": "white",
           "linecolor": "white",
           "ticks": "",
           "title": {
            "standoff": 15
           },
           "zerolinecolor": "white",
           "zerolinewidth": 2
          }
         }
        },
        "title": {
         "text": "Size defined by Metadata_concentration_uM"
        },
        "updatemenus": [
         {
          "buttons": [
           {
            "args": [
             "visible",
             "legendonly"
            ],
            "label": "Deselect All",
            "method": "restyle"
           },
           {
            "args": [
             "visible",
             true
            ],
            "label": "Select All",
            "method": "restyle"
           }
          ],
          "direction": "left",
          "pad": {
           "r": 5,
           "t": 5
          },
          "showactive": true,
          "type": "buttons",
          "x": 1,
          "xanchor": "left",
          "y": 1.1,
          "yanchor": "top"
         }
        ],
        "width": 900
       }
      }
     },
     "metadata": {},
     "output_type": "display_data"
    },
    {
     "data": {
      "application/vnd.plotly.v1+json": {
       "config": {
        "plotlyServerURL": "https://plot.ly",
        "toImageButtonOptions": {
         "filename": "custom_image",
         "format": "svg",
         "height": 500,
         "scale": 6,
         "width": 700
        }
       },
       "data": [
        {
         "customdata": [
          [
           "220608_152238_Plate_1",
           "C7",
           "Cyclophosphamide",
           1
          ],
          [
           "231011_183822_Plate_1",
           "B9",
           "Aspirin",
           1
          ],
          [
           "231011_183822_Plate_1",
           "C6",
           "Cyclophosphamide",
           1
          ],
          [
           "220608_152238_Plate_1",
           "D5",
           "Amiodarone",
           1
          ],
          [
           "231011_183822_Plate_1",
           "C8",
           "Cyclophosphamide",
           1
          ],
          [
           "220608_152238_Plate_1",
           "D7",
           "Cyclophosphamide",
           1
          ],
          [
           "231011_183822_Plate_1",
           "G10",
           "Lovastatin",
           1
          ],
          [
           "220617_090443_Plate_1",
           "G3",
           "Lovastatin",
           1
          ],
          [
           "231006_132517_Plate_1",
           "B2",
           "Amiodarone",
           1
          ],
          [
           "231006_132517_Plate_1",
           "B3",
           "Amiodarone",
           1
          ],
          [
           "220607_092050_Plate_1",
           "G3",
           "Lovastatin",
           1
          ],
          [
           "231006_132517_Plate_1",
           "B4",
           "Amiodarone",
           1
          ],
          [
           "220608_152238_Plate_1",
           "B3",
           "Aspirin",
           1
          ],
          [
           "231011_183822_Plate_1",
           "D10",
           "Lovastatin",
           1
          ],
          [
           "220607_092050_Plate_1",
           "D7",
           "Cyclophosphamide",
           1
          ],
          [
           "231011_183822_Plate_1",
           "F10",
           "Lovastatin",
           1
          ],
          [
           "220607_092050_Plate_1",
           "B7",
           "Cyclophosphamide",
           1
          ],
          [
           "220617_090443_Plate_1",
           "C5",
           "Amiodarone",
           1
          ],
          [
           "220607_092050_Plate_1",
           "F3",
           "Lovastatin",
           1
          ],
          [
           "220607_092050_Plate_1",
           "C7",
           "Cyclophosphamide",
           1
          ],
          [
           "220607_092050_Plate_1",
           "D3",
           "Aspirin",
           1
          ],
          [
           "231011_183822_Plate_1",
           "E7",
           "Amiodarone",
           1
          ],
          [
           "220607_092050_Plate_1",
           "D5",
           "Amiodarone",
           1
          ],
          [
           "220607_092050_Plate_1",
           "C5",
           "Amiodarone",
           1
          ],
          [
           "231006_132517_Plate_1",
           "C3",
           "Lovastatin",
           1
          ],
          [
           "220608_152238_Plate_1",
           "B5",
           "Amiodarone",
           1
          ],
          [
           "231011_183822_Plate_1",
           "E10",
           "Lovastatin",
           1
          ],
          [
           "220617_090443_Plate_1",
           "B5",
           "Amiodarone",
           1
          ],
          [
           "220617_090443_Plate_1",
           "C3",
           "Aspirin",
           1
          ],
          [
           "231006_132517_Plate_1",
           "C4",
           "Lovastatin",
           1
          ],
          [
           "220607_092050_Plate_1",
           "B3",
           "Aspirin",
           1
          ],
          [
           "220617_090443_Plate_1",
           "C7",
           "Cyclophosphamide",
           1
          ],
          [
           "220617_090443_Plate_1",
           "F3",
           "Lovastatin",
           1
          ],
          [
           "220608_152238_Plate_1",
           "C5",
           "Amiodarone",
           1
          ],
          [
           "220617_090443_Plate_1",
           "D5",
           "Amiodarone",
           1
          ],
          [
           "220608_152238_Plate_1",
           "D3",
           "Aspirin",
           1
          ],
          [
           "220607_092050_Plate_1",
           "E3",
           "Lovastatin",
           1
          ],
          [
           "231006_132517_Plate_1",
           "G5",
           "Aspirin",
           1
          ],
          [
           "220617_090443_Plate_1",
           "E3",
           "Lovastatin",
           1
          ],
          [
           "220617_090443_Plate_1",
           "D7",
           "Cyclophosphamide",
           1
          ],
          [
           "220608_152238_Plate_1",
           "B7",
           "Cyclophosphamide",
           1
          ],
          [
           "231006_132517_Plate_1",
           "G4",
           "Aspirin",
           1
          ],
          [
           "231006_132517_Plate_1",
           "G3",
           "Aspirin",
           1
          ],
          [
           "220617_090443_Plate_1",
           "B3",
           "Aspirin",
           1
          ],
          [
           "220607_092050_Plate_1",
           "E4",
           "Lovastatin",
           10
          ],
          [
           "220607_092050_Plate_1",
           "F4",
           "Lovastatin",
           10
          ],
          [
           "220608_152238_Plate_1",
           "C4",
           "Aspirin",
           10
          ],
          [
           "220608_152238_Plate_1",
           "B8",
           "Cyclophosphamide",
           10
          ],
          [
           "220608_152238_Plate_1",
           "B4",
           "Aspirin",
           10
          ],
          [
           "220608_152238_Plate_1",
           "B6",
           "Amiodarone",
           10
          ],
          [
           "220607_092050_Plate_1",
           "B8",
           "Cyclophosphamide",
           10
          ],
          [
           "220617_090443_Plate_1",
           "D6",
           "Amiodarone",
           10
          ],
          [
           "220617_090443_Plate_1",
           "D4",
           "Aspirin",
           10
          ],
          [
           "220617_090443_Plate_1",
           "C8",
           "Cyclophosphamide",
           10
          ],
          [
           "220617_090443_Plate_1",
           "C6",
           "Amiodarone",
           10
          ],
          [
           "220617_090443_Plate_1",
           "D8",
           "Cyclophosphamide",
           10
          ],
          [
           "220617_090443_Plate_1",
           "B8",
           "Cyclophosphamide",
           10
          ],
          [
           "220617_090443_Plate_1",
           "B4",
           "Aspirin",
           10
          ],
          [
           "220608_152238_Plate_1",
           "F4",
           "Lovastatin",
           10
          ],
          [
           "220608_152238_Plate_1",
           "D8",
           "Cyclophosphamide",
           10
          ],
          [
           "231006_132517_Plate_1",
           "C9",
           "Lovastatin",
           10
          ],
          [
           "231006_132517_Plate_1",
           "B6",
           "Amiodarone",
           10
          ],
          [
           "231006_132517_Plate_1",
           "C6",
           "Lovastatin",
           10
          ],
          [
           "220607_092050_Plate_1",
           "B4",
           "Aspirin",
           10
          ],
          [
           "231006_132517_Plate_1",
           "B9",
           "Amiodarone",
           10
          ],
          [
           "231006_132517_Plate_1",
           "B7",
           "Amiodarone",
           10
          ],
          [
           "220617_090443_Plate_1",
           "E4",
           "Lovastatin",
           10
          ],
          [
           "220617_090443_Plate_1",
           "G4",
           "Lovastatin",
           10
          ],
          [
           "220617_090443_Plate_1",
           "F4",
           "Lovastatin",
           10
          ],
          [
           "220608_152238_Plate_1",
           "C6",
           "Amiodarone",
           10
          ],
          [
           "220607_092050_Plate_1",
           "C8",
           "Cyclophosphamide",
           10
          ],
          [
           "220607_092050_Plate_1",
           "D8",
           "Cyclophosphamide",
           10
          ],
          [
           "220607_092050_Plate_1",
           "D6",
           "Amiodarone",
           10
          ],
          [
           "220607_092050_Plate_1",
           "D4",
           "Aspirin",
           10
          ],
          [
           "220608_152238_Plate_1",
           "D4",
           "Aspirin",
           10
          ],
          [
           "220607_092050_Plate_1",
           "C6",
           "Amiodarone",
           10
          ],
          [
           "220607_092050_Plate_1",
           "C4",
           "Aspirin",
           10
          ],
          [
           "231006_132517_Plate_1",
           "B8",
           "Amiodarone",
           10
          ],
          [
           "220608_152238_Plate_1",
           "D6",
           "Amiodarone",
           10
          ],
          [
           "231006_132517_Plate_1",
           "C7",
           "Lovastatin",
           10
          ],
          [
           "220608_152238_Plate_1",
           "C8",
           "Cyclophosphamide",
           10
          ],
          [
           "231006_132517_Plate_1",
           "G7",
           "Aspirin",
           10
          ],
          [
           "231011_183822_Plate_1",
           "E11",
           "Lovastatin",
           10
          ],
          [
           "231011_183822_Plate_1",
           "E4",
           "Amiodarone",
           10
          ],
          [
           "231006_132517_Plate_1",
           "G6",
           "Aspirin",
           10
          ],
          [
           "231006_132517_Plate_1",
           "G8",
           "Aspirin",
           10
          ],
          [
           "231011_183822_Plate_1",
           "F11",
           "Lovastatin",
           10
          ],
          [
           "231011_183822_Plate_1",
           "E3",
           "Amiodarone",
           10
          ],
          [
           "231011_183822_Plate_1",
           "E2",
           "Amiodarone",
           10
          ],
          [
           "231011_183822_Plate_1",
           "D11",
           "Lovastatin",
           10
          ],
          [
           "231006_132517_Plate_1",
           "D11",
           "Cyclophosphamide",
           10
          ],
          [
           "231011_183822_Plate_1",
           "G11",
           "Lovastatin",
           10
          ]
         ],
         "hovertemplate": "colors_plot_col=3<br>0=%{x}<br>1=%{y}<br>2=%{z}<br>Metadata_size=%{marker.size}<br>Metadata_Plate=%{customdata[0]}<br>Metadata_Well=%{customdata[1]}<br>Metadata_compound=%{customdata[2]}<br>Metadata_concentration_uM=%{customdata[3]}<extra></extra>",
         "legendgroup": "3",
         "marker": {
          "color": "rgb(12,51,131)",
          "size": [
           1,
           1,
           1,
           1,
           1,
           1,
           1,
           1,
           1,
           1,
           1,
           1,
           1,
           1,
           1,
           1,
           1,
           1,
           1,
           1,
           1,
           1,
           1,
           1,
           1,
           1,
           1,
           1,
           1,
           1,
           1,
           1,
           1,
           1,
           1,
           1,
           1,
           1,
           1,
           1,
           1,
           1,
           1,
           1,
           10,
           10,
           10,
           10,
           10,
           10,
           10,
           10,
           10,
           10,
           10,
           10,
           10,
           10,
           10,
           10,
           10,
           10,
           10,
           10,
           10,
           10,
           10,
           10,
           10,
           10,
           10,
           10,
           10,
           10,
           10,
           10,
           10,
           10,
           10,
           10,
           10,
           10,
           10,
           10,
           10,
           10,
           10,
           10,
           10,
           10,
           10,
           10
          ],
          "sizemode": "area",
          "sizeref": 0.025,
          "symbol": "circle"
         },
         "mode": "markers",
         "name": "3",
         "scene": "scene",
         "showlegend": true,
         "type": "scatter3d",
         "x": [
          -9.401649475097656,
          -7.924680233001709,
          -8.183810234069824,
          -7.863189220428467,
          -7.100708484649658,
          -7.048961162567139,
          -7.671792984008789,
          -6.875823497772217,
          -8.184111595153809,
          -8.342552185058594,
          -6.467528820037842,
          -5.221851348876953,
          -8.898588180541992,
          -6.006046295166016,
          -8.860817909240723,
          -7.720825672149658,
          -7.894561767578125,
          -8.372976303100586,
          -6.043361663818359,
          -8.408994674682617,
          -7.658571720123291,
          -7.591147422790527,
          -7.915158748626709,
          -8.446744918823242,
          -7.1265153884887695,
          -8.957853317260742,
          -7.160217761993408,
          -8.006410598754883,
          -9.2076997756958,
          -7.675802230834961,
          -8.305229187011719,
          -8.56545352935791,
          -5.999402046203613,
          -8.240806579589844,
          -7.150023937225342,
          -7.855020046234131,
          -5.8173089027404785,
          -9.177544593811035,
          -5.844082832336426,
          -8.469596862792969,
          -8.832205772399902,
          -7.1618852615356445,
          -6.141969203948975,
          -7.506039619445801,
          -5.989868640899658,
          -5.003383636474609,
          -7.897002696990967,
          -8.591285705566406,
          -8.518716812133789,
          -9.022738456726074,
          -8.470163345336914,
          -7.432982921600342,
          -8.096364974975586,
          -8.801607131958008,
          -8.236898422241211,
          -8.216763496398926,
          -7.715116024017334,
          -7.879251480102539,
          -5.300235748291016,
          -7.842132091522217,
          -7.2177934646606445,
          -8.159483909606934,
          -4.968642711639404,
          -8.384702682495117,
          -8.487245559692383,
          -7.878481388092041,
          -6.099396228790283,
          -6.511688232421875,
          -6.116626739501953,
          -8.668242454528809,
          -9.007538795471191,
          -8.503905296325684,
          -8.728569030761719,
          -7.855255603790283,
          -7.6866679191589355,
          -8.70971965789795,
          -7.8471903800964355,
          -8.163453102111816,
          -8.064493179321289,
          -7.102721691131592,
          -9.136680603027344,
          -6.865506649017334,
          -7.1883745193481445,
          -8.605202674865723,
          -7.4929890632629395,
          -6.35549783706665,
          -7.367154598236084,
          -8.155862808227539,
          -8.476197242736816,
          -7.065604209899902,
          -6.434640884399414,
          -7.493622303009033
         ],
         "y": [
          10.839363098144531,
          10.624966621398926,
          9.599973678588867,
          9.726753234863281,
          11.4608793258667,
          9.053223609924316,
          9.455475807189941,
          11.779454231262207,
          11.493890762329102,
          11.6013822555542,
          11.929925918579102,
          10.955506324768066,
          11.245870590209961,
          11.49612045288086,
          9.473564147949219,
          10.103117942810059,
          11.056879043579102,
          9.540129661560059,
          11.780735969543457,
          9.292548179626465,
          8.916022300720215,
          9.161370277404785,
          10.106965065002441,
          9.945213317871094,
          10.131874084472656,
          10.460415840148926,
          9.951658248901367,
          11.131767272949219,
          11.228677749633789,
          12.224407196044922,
          10.515686988830566,
          9.875085830688477,
          12.031678199768066,
          10.228019714355469,
          9.140227317810059,
          8.90451717376709,
          12.358135223388672,
          10.327057838439941,
          12.438501358032227,
          9.148902893066406,
          10.822043418884277,
          11.30154800415039,
          10.900169372558594,
          11.36163330078125,
          11.629951477050781,
          10.862237930297852,
          9.581085205078125,
          10.99753189086914,
          11.40884017944336,
          10.6334810256958,
          10.826896667480469,
          9.744292259216309,
          9.02687931060791,
          9.637694358825684,
          10.467001914978027,
          9.285889625549316,
          11.477193832397461,
          11.738343238830566,
          11.723109245300293,
          9.183876037597656,
          12.146668434143066,
          11.02713394165039,
          10.387474060058594,
          10.221710205078125,
          10.466469764709473,
          10.88464641571045,
          12.278141975402832,
          11.047674179077148,
          11.645208358764648,
          10.648648262023926,
          10.855679512023926,
          9.002938270568848,
          9.492668151855469,
          8.995055198669434,
          9.672310829162598,
          9.972017288208008,
          11.019098281860352,
          10.312039375305176,
          10.235321998596191,
          11.960901260375977,
          10.033391952514648,
          11.317327499389648,
          10.425169944763184,
          9.756172180175781,
          11.607137680053711,
          11.271910667419434,
          9.43648624420166,
          10.346839904785156,
          10.133308410644531,
          9.722084045410156,
          9.734800338745117,
          10.124792098999023
         ],
         "z": [
          11.26941204071045,
          12.411314964294434,
          12.428874969482422,
          11.050117492675781,
          13.169781684875488,
          11.905116081237793,
          9.782012939453125,
          9.843049049377441,
          12.200719833374023,
          12.405584335327148,
          9.343390464782715,
          11.232198715209961,
          13.047789573669434,
          9.974495887756348,
          11.2897310256958,
          9.758573532104492,
          13.102195739746094,
          10.822198867797852,
          9.537040710449219,
          10.759971618652344,
          10.3125638961792,
          11.1996431350708,
          11.259664535522461,
          11.845132827758789,
          10.522299766540527,
          12.190003395080566,
          9.796660423278809,
          13.565346717834473,
          11.707159042358398,
          12.446588516235352,
          13.448060035705566,
          10.69009780883789,
          9.68005657196045,
          11.031059265136719,
          12.331584930419922,
          10.881996154785156,
          9.740331649780273,
          11.079780578613281,
          10.261475563049316,
          11.613564491271973,
          12.884217262268066,
          12.292540550231934,
          11.297816276550293,
          13.703425407409668,
          10.8796968460083,
          10.4589204788208,
          10.232154846191406,
          12.438804626464844,
          13.210577011108398,
          10.95883560180664,
          13.444941520690918,
          10.778042793273926,
          12.264776229858398,
          11.704141616821289,
          10.183326721191406,
          11.823115348815918,
          12.967365264892578,
          13.703913688659668,
          9.674287796020508,
          12.035455703735352,
          12.846502304077148,
          11.331202507019043,
          10.872984886169434,
          12.903631210327148,
          11.805120468139648,
          11.253288269042969,
          10.167821884155273,
          9.772004127502441,
          10.158018112182617,
          10.369897842407227,
          11.220113754272461,
          12.209924697875977,
          10.580924987792969,
          10.70678424835205,
          11.593072891235352,
          10.285002708435059,
          12.084290504455566,
          12.227967262268066,
          10.631843566894531,
          12.472955703735352,
          11.381566047668457,
          12.421446800231934,
          9.653722763061523,
          9.747124671936035,
          12.058019638061523,
          13.149291038513184,
          10.048392295837402,
          9.987089157104492,
          9.626401901245117,
          9.931092262268066,
          12.084436416625977,
          9.563569068908691
         ]
        },
        {
         "customdata": [
          [
           "220617_090443_Plate_1",
           "D9",
           "Etoposide",
           1
          ],
          [
           "220607_092050_Plate_1",
           "D9",
           "Etoposide",
           1
          ],
          [
           "220608_152238_Plate_1",
           "C9",
           "Etoposide",
           1
          ],
          [
           "231011_183822_Plate_1",
           "G8",
           "Etoposide",
           1
          ],
          [
           "231011_183822_Plate_1",
           "G7",
           "Etoposide",
           1
          ],
          [
           "220607_092050_Plate_1",
           "B9",
           "Etoposide",
           1
          ],
          [
           "231011_183822_Plate_1",
           "G9",
           "Etoposide",
           1
          ],
          [
           "220617_090443_Plate_1",
           "B9",
           "Etoposide",
           1
          ],
          [
           "220608_152238_Plate_1",
           "D9",
           "Etoposide",
           1
          ],
          [
           "220617_090443_Plate_1",
           "C9",
           "Etoposide",
           1
          ],
          [
           "231006_132517_Plate_1",
           "E2",
           "Etoposide",
           1
          ],
          [
           "231006_132517_Plate_1",
           "E5",
           "Etoposide",
           1
          ],
          [
           "220607_092050_Plate_1",
           "C9",
           "Etoposide",
           1
          ],
          [
           "231006_132517_Plate_1",
           "C10",
           "Cyclophosphamide",
           1
          ],
          [
           "231011_183822_Plate_1",
           "G4",
           "Etoposide",
           10
          ],
          [
           "220607_092050_Plate_1",
           "C10",
           "Etoposide",
           10
          ],
          [
           "220608_152238_Plate_1",
           "C10",
           "Etoposide",
           10
          ],
          [
           "220607_092050_Plate_1",
           "B10",
           "Etoposide",
           10
          ],
          [
           "220617_090443_Plate_1",
           "B10",
           "Etoposide",
           10
          ],
          [
           "231011_183822_Plate_1",
           "G5",
           "Etoposide",
           10
          ],
          [
           "231006_132517_Plate_1",
           "E9",
           "Etoposide",
           10
          ],
          [
           "220608_152238_Plate_1",
           "D10",
           "Etoposide",
           10
          ],
          [
           "231011_183822_Plate_1",
           "G3",
           "Etoposide",
           10
          ],
          [
           "220617_090443_Plate_1",
           "D10",
           "Etoposide",
           10
          ],
          [
           "220617_090443_Plate_1",
           "C10",
           "Etoposide",
           10
          ],
          [
           "231011_183822_Plate_1",
           "G2",
           "Etoposide",
           10
          ],
          [
           "231006_132517_Plate_1",
           "E6",
           "Etoposide",
           10
          ],
          [
           "231006_132517_Plate_1",
           "E7",
           "Etoposide",
           10
          ],
          [
           "220607_092050_Plate_1",
           "D10",
           "Etoposide",
           10
          ],
          [
           "231006_132517_Plate_1",
           "E8",
           "Etoposide",
           10
          ]
         ],
         "hovertemplate": "colors_plot_col=2<br>0=%{x}<br>1=%{y}<br>2=%{z}<br>Metadata_size=%{marker.size}<br>Metadata_Plate=%{customdata[0]}<br>Metadata_Well=%{customdata[1]}<br>Metadata_compound=%{customdata[2]}<br>Metadata_concentration_uM=%{customdata[3]}<extra></extra>",
         "legendgroup": "2",
         "marker": {
          "color": "rgb(10,136,186)",
          "size": [
           1,
           1,
           1,
           1,
           1,
           1,
           1,
           1,
           1,
           1,
           1,
           1,
           1,
           1,
           10,
           10,
           10,
           10,
           10,
           10,
           10,
           10,
           10,
           10,
           10,
           10,
           10,
           10,
           10,
           10
          ],
          "sizemode": "area",
          "sizeref": 0.025,
          "symbol": "circle"
         },
         "mode": "markers",
         "name": "2",
         "scene": "scene",
         "showlegend": true,
         "type": "scatter3d",
         "x": [
          -4.604813098907471,
          -5.138263702392578,
          -4.905735015869141,
          -4.631435394287109,
          -5.340793609619141,
          -5.750546455383301,
          -4.363132953643799,
          -5.534590244293213,
          -4.425780773162842,
          -4.612453460693359,
          -4.360523223876953,
          -5.232606410980225,
          -4.513246059417725,
          -5.570118427276611,
          -4.714736461639404,
          -4.849620819091797,
          -4.974471569061279,
          -4.901156902313232,
          -5.314316272735596,
          -5.097094535827637,
          -4.691176891326904,
          -4.730953216552734,
          -4.7148118019104,
          -5.162517547607422,
          -5.431209564208984,
          -5.069502830505371,
          -4.871246337890625,
          -5.9314398765563965,
          -4.629077911376953,
          -4.811844825744629
         ],
         "y": [
          10.615043640136719,
          10.7438383102417,
          11.584037780761719,
          10.423273086547852,
          10.468070983886719,
          11.225768089294434,
          10.659512519836426,
          11.98962688446045,
          10.705146789550781,
          11.312169075012207,
          10.74700927734375,
          11.12557601928711,
          11.482705116271973,
          12.290489196777344,
          10.988410949707031,
          12.221639633178711,
          11.828343391418457,
          12.082642555236816,
          11.696202278137207,
          10.761963844299316,
          11.745949745178223,
          10.967781066894531,
          11.674154281616211,
          11.13698959350586,
          11.399557113647461,
          11.096434593200684,
          11.419468879699707,
          11.503730773925781,
          11.251823425292969,
          11.066344261169434
         ],
         "z": [
          13.465435981750488,
          14.192278861999512,
          14.606318473815918,
          12.880732536315918,
          12.852211952209473,
          14.309713363647461,
          13.212823867797852,
          14.244624137878418,
          13.97216510772705,
          13.938681602478027,
          13.962525367736816,
          14.801392555236816,
          13.808104515075684,
          13.578752517700195,
          12.877093315124512,
          14.088933944702148,
          13.747519493103027,
          13.649579048156738,
          14.344377517700195,
          12.719518661499023,
          14.702271461486816,
          14.320805549621582,
          13.223077774047852,
          13.569497108459473,
          14.007203102111816,
          13.131634712219238,
          14.963261604309082,
          13.996459007263184,
          14.341862678527832,
          14.807659149169922
         ]
        },
        {
         "customdata": [
          [
           "231011_183822_Plate_1",
           "E9",
           "Amiodarone",
           1
          ],
          [
           "220608_152238_Plate_1",
           "E3",
           "Lovastatin",
           1
          ],
          [
           "231006_132517_Plate_1",
           "F6",
           "Orphenadrine",
           10
          ],
          [
           "231006_132517_Plate_1",
           "F8",
           "Orphenadrine",
           10
          ],
          [
           "231006_132517_Plate_1",
           "F9",
           "Orphenadrine",
           10
          ],
          [
           "220617_090443_Plate_1",
           "F6",
           "Orphenadrine",
           10
          ],
          [
           "220617_090443_Plate_1",
           "G6",
           "Orphenadrine",
           10
          ],
          [
           "220608_152238_Plate_1",
           "F6",
           "Orphenadrine",
           10
          ],
          [
           "220608_152238_Plate_1",
           "G6",
           "Orphenadrine",
           10
          ],
          [
           "220617_090443_Plate_1",
           "E6",
           "Orphenadrine",
           10
          ],
          [
           "231006_132517_Plate_1",
           "F7",
           "Orphenadrine",
           10
          ],
          [
           "220607_092050_Plate_1",
           "G6",
           "Orphenadrine",
           10
          ],
          [
           "231011_183822_Plate_1",
           "D5",
           "Orphenadrine",
           10
          ],
          [
           "231011_183822_Plate_1",
           "D2",
           "Orphenadrine",
           10
          ],
          [
           "231011_183822_Plate_1",
           "D3",
           "Orphenadrine",
           10
          ],
          [
           "231011_183822_Plate_1",
           "D4",
           "Orphenadrine",
           10
          ],
          [
           "220607_092050_Plate_1",
           "F6",
           "Orphenadrine",
           10
          ]
         ],
         "hovertemplate": "colors_plot_col=1<br>0=%{x}<br>1=%{y}<br>2=%{z}<br>Metadata_size=%{marker.size}<br>Metadata_Plate=%{customdata[0]}<br>Metadata_Well=%{customdata[1]}<br>Metadata_compound=%{customdata[2]}<br>Metadata_concentration_uM=%{customdata[3]}<extra></extra>",
         "legendgroup": "1",
         "marker": {
          "color": "rgb(242,211,56)",
          "size": [
           1,
           1,
           10,
           10,
           10,
           10,
           10,
           10,
           10,
           10,
           10,
           10,
           10,
           10,
           10,
           10,
           10
          ],
          "sizemode": "area",
          "sizeref": 0.025,
          "symbol": "circle"
         },
         "mode": "markers",
         "name": "1",
         "scene": "scene",
         "showlegend": true,
         "type": "scatter3d",
         "x": [
          -4.728817462921143,
          -5.145493030548096,
          -4.357346057891846,
          -4.027113437652588,
          -4.079036712646484,
          -4.139129161834717,
          -4.0080156326293945,
          -4.023697376251221,
          -4.448009967803955,
          -4.203384876251221,
          -4.046666145324707,
          -3.8984057903289795,
          -3.8533670902252197,
          -4.315003871917725,
          -3.8653881549835205,
          -3.8857996463775635,
          -3.9225873947143555
         ],
         "y": [
          13.042845726013184,
          11.7781343460083,
          11.565428733825684,
          11.787435531616211,
          11.50222396850586,
          12.369955062866211,
          12.65344524383545,
          12.709983825683594,
          12.500890731811523,
          13.412981986999512,
          11.483270645141602,
          12.231971740722656,
          13.098387718200684,
          12.986595153808594,
          13.133099555969238,
          13.452552795410156,
          12.167196273803711
         ],
         "z": [
          10.080619812011719,
          10.263647079467773,
          10.062126159667969,
          9.478180885314941,
          9.677579879760742,
          10.015449523925781,
          9.744972229003906,
          10.297706604003906,
          9.47684383392334,
          10.700019836425781,
          10.050468444824219,
          9.569250106811523,
          10.106293678283691,
          9.995637893676758,
          10.176427841186523,
          10.551115989685059,
          9.821680068969727
         ]
        },
        {
         "customdata": [
          [
           "231006_132517_Plate_1",
           "B5",
           "Amiodarone",
           1
          ],
          [
           "231006_132517_Plate_1",
           "B10",
           "Cyclophosphamide",
           1
          ],
          [
           "231011_183822_Plate_1",
           "B7",
           "Aspirin",
           1
          ],
          [
           "231011_183822_Plate_1",
           "B8",
           "Aspirin",
           1
          ],
          [
           "231011_183822_Plate_1",
           "C7",
           "Cyclophosphamide",
           1
          ],
          [
           "231011_183822_Plate_1",
           "B6",
           "Aspirin",
           1
          ],
          [
           "231011_183822_Plate_1",
           "C9",
           "Cyclophosphamide",
           1
          ],
          [
           "231011_183822_Plate_1",
           "B2",
           "Aspirin",
           10
          ],
          [
           "231011_183822_Plate_1",
           "B3",
           "Aspirin",
           10
          ],
          [
           "231011_183822_Plate_1",
           "B4",
           "Aspirin",
           10
          ],
          [
           "231011_183822_Plate_1",
           "B5",
           "Aspirin",
           10
          ],
          [
           "231011_183822_Plate_1",
           "C5",
           "Cyclophosphamide",
           10
          ],
          [
           "231011_183822_Plate_1",
           "C3",
           "Cyclophosphamide",
           10
          ],
          [
           "231011_183822_Plate_1",
           "C4",
           "Cyclophosphamide",
           10
          ]
         ],
         "hovertemplate": "colors_plot_col=0<br>0=%{x}<br>1=%{y}<br>2=%{z}<br>Metadata_size=%{marker.size}<br>Metadata_Plate=%{customdata[0]}<br>Metadata_Well=%{customdata[1]}<br>Metadata_compound=%{customdata[2]}<br>Metadata_concentration_uM=%{customdata[3]}<extra></extra>",
         "legendgroup": "0",
         "marker": {
          "color": "rgb(242,143,56)",
          "size": [
           1,
           1,
           1,
           1,
           1,
           1,
           1,
           10,
           10,
           10,
           10,
           10,
           10,
           10
          ],
          "sizemode": "area",
          "sizeref": 0.025,
          "symbol": "circle"
         },
         "mode": "markers",
         "name": "0",
         "scene": "scene",
         "showlegend": true,
         "type": "scatter3d",
         "x": [
          -6.139466762542725,
          -6.094820976257324,
          -5.850466251373291,
          -6.373748302459717,
          -5.629855155944824,
          -5.353710174560547,
          -5.871368885040283,
          -5.442949295043945,
          -5.494953155517578,
          -5.686520576477051,
          -6.038998603820801,
          -5.926543712615967,
          -5.885478496551514,
          -6.590109348297119
         ],
         "y": [
          12.619562149047852,
          12.404199600219727,
          12.961064338684082,
          13.501442909240723,
          13.670794486999512,
          13.750876426696777,
          13.301714897155762,
          13.619202613830566,
          13.298521995544434,
          13.153264045715332,
          13.477949142456055,
          13.650511741638184,
          13.297218322753906,
          12.983281135559082
         ],
         "z": [
          11.778132438659668,
          12.643511772155762,
          12.730895042419434,
          12.565776824951172,
          12.400537490844727,
          11.873861312866211,
          12.912779808044434,
          11.482884407043457,
          11.4086332321167,
          11.831053733825684,
          11.934368133544922,
          12.921955108642578,
          13.519366264343262,
          13.277220726013184
         ]
        },
        {
         "customdata": [
          [
           "231006_132517_Plate_1",
           "D10",
           "Cyclophosphamide",
           1
          ],
          [
           "220617_090443_Plate_1",
           "D3",
           "Aspirin",
           1
          ],
          [
           "231011_183822_Plate_1",
           "E8",
           "Amiodarone",
           1
          ],
          [
           "220608_152238_Plate_1",
           "F3",
           "Lovastatin",
           1
          ],
          [
           "220608_152238_Plate_1",
           "G3",
           "Lovastatin",
           1
          ],
          [
           "220608_152238_Plate_1",
           "C3",
           "Aspirin",
           1
          ],
          [
           "220608_152238_Plate_1",
           "B9",
           "Etoposide",
           1
          ],
          [
           "231006_132517_Plate_1",
           "G2",
           "Aspirin",
           1
          ],
          [
           "231011_183822_Plate_1",
           "E6",
           "Amiodarone",
           1
          ],
          [
           "220617_090443_Plate_1",
           "B7",
           "Cyclophosphamide",
           1
          ],
          [
           "231006_132517_Plate_1",
           "C5",
           "Lovastatin",
           1
          ],
          [
           "231011_183822_Plate_1",
           "G6",
           "Etoposide",
           1
          ],
          [
           "220607_092050_Plate_1",
           "C3",
           "Aspirin",
           1
          ],
          [
           "231006_132517_Plate_1",
           "C2",
           "Lovastatin",
           1
          ],
          [
           "231006_132517_Plate_1",
           "E10",
           "Cyclophosphamide",
           1
          ],
          [
           "231006_132517_Plate_1",
           "E3",
           "Etoposide",
           1
          ],
          [
           "231006_132517_Plate_1",
           "E4",
           "Etoposide",
           1
          ],
          [
           "220607_092050_Plate_1",
           "B5",
           "Amiodarone",
           1
          ],
          [
           "231006_132517_Plate_1",
           "C8",
           "Lovastatin",
           10
          ],
          [
           "231006_132517_Plate_1",
           "C11",
           "Cyclophosphamide",
           10
          ],
          [
           "231006_132517_Plate_1",
           "E11",
           "Cyclophosphamide",
           10
          ],
          [
           "231006_132517_Plate_1",
           "B11",
           "Cyclophosphamide",
           10
          ],
          [
           "220607_092050_Plate_1",
           "B6",
           "Amiodarone",
           10
          ],
          [
           "220608_152238_Plate_1",
           "E4",
           "Lovastatin",
           10
          ],
          [
           "220617_090443_Plate_1",
           "B6",
           "Amiodarone",
           10
          ],
          [
           "231011_183822_Plate_1",
           "C2",
           "Cyclophosphamide",
           10
          ],
          [
           "220608_152238_Plate_1",
           "G4",
           "Lovastatin",
           10
          ],
          [
           "220608_152238_Plate_1",
           "B10",
           "Etoposide",
           10
          ],
          [
           "220607_092050_Plate_1",
           "G4",
           "Lovastatin",
           10
          ],
          [
           "220617_090443_Plate_1",
           "C4",
           "Aspirin",
           10
          ],
          [
           "231006_132517_Plate_1",
           "G9",
           "Aspirin",
           10
          ],
          [
           "220608_152238_Plate_1",
           "E6",
           "Orphenadrine",
           10
          ],
          [
           "231011_183822_Plate_1",
           "E5",
           "Amiodarone",
           10
          ],
          [
           "220607_092050_Plate_1",
           "E6",
           "Orphenadrine",
           10
          ]
         ],
         "hovertemplate": "colors_plot_col=-1<br>0=%{x}<br>1=%{y}<br>2=%{z}<br>Metadata_size=%{marker.size}<br>Metadata_Plate=%{customdata[0]}<br>Metadata_Well=%{customdata[1]}<br>Metadata_compound=%{customdata[2]}<br>Metadata_concentration_uM=%{customdata[3]}<extra></extra>",
         "legendgroup": "-1",
         "marker": {
          "color": "rgb(217,30,30)",
          "size": [
           1,
           1,
           1,
           1,
           1,
           1,
           1,
           1,
           1,
           1,
           1,
           1,
           1,
           1,
           1,
           1,
           1,
           1,
           10,
           10,
           10,
           10,
           10,
           10,
           10,
           10,
           10,
           10,
           10,
           10,
           10,
           10,
           10,
           10
          ],
          "sizemode": "area",
          "sizeref": 0.025,
          "symbol": "circle"
         },
         "mode": "markers",
         "name": "-1",
         "scene": "scene",
         "showlegend": true,
         "type": "scatter3d",
         "x": [
          -7.445383071899414,
          -5.392139911651611,
          -5.074450492858887,
          -9.052519798278809,
          -6.319253921508789,
          -6.881530284881592,
          -6.745483875274658,
          -6.044436454772949,
          -6.131176948547363,
          -7.179068565368652,
          -6.833718776702881,
          -6.447895526885986,
          -7.1114091873168945,
          -6.7762556076049805,
          -7.161562442779541,
          -4.408970355987549,
          -4.52669095993042,
          -9.234428405761719,
          -6.044443130493164,
          -6.607097148895264,
          -5.867886543273926,
          -5.8691511154174805,
          -6.835235118865967,
          -4.980319976806641,
          -5.458268642425537,
          -6.371960639953613,
          -5.994183540344238,
          -6.051358222961426,
          -7.340573787689209,
          -6.941853046417236,
          -7.294435977935791,
          -4.419052600860596,
          -5.096938133239746,
          -4.406604766845703
         ],
         "y": [
          10.426026344299316,
          10.035767555236816,
          12.752233505249023,
          11.61962604522705,
          9.550179481506348,
          12.519145965576172,
          10.94021987915039,
          11.02487564086914,
          10.132148742675781,
          12.376977920532227,
          12.350198745727539,
          10.838194847106934,
          12.384272575378418,
          11.648233413696289,
          10.260165214538574,
          10.625038146972656,
          10.525548934936523,
          11.11230182647705,
          11.429483413696289,
          13.153769493103027,
          11.04992961883545,
          11.745597839355469,
          9.931632995605469,
          13.878722190856934,
          13.603925704956055,
          12.6943941116333,
          10.428625106811523,
          10.6850004196167,
          11.105461120605469,
          9.35111141204834,
          9.462615013122559,
          13.432150840759277,
          10.236089706420898,
          13.622906684875488
         ],
         "z": [
          12.472472190856934,
          10.70764446258545,
          10.283103942871094,
          11.40237045288086,
          11.444737434387207,
          11.569938659667969,
          13.719221115112305,
          11.1786470413208,
          10.705105781555176,
          13.715699195861816,
          10.89309310913086,
          11.608189582824707,
          12.114344596862793,
          11.4422025680542,
          11.022377967834473,
          11.144266128540039,
          10.938987731933594,
          12.273456573486328,
          12.678749084472656,
          11.689229965209961,
          12.091192245483398,
          12.954978942871094,
          12.853394508361816,
          12.018379211425781,
          13.048460960388184,
          13.889466285705566,
          12.133197784423828,
          13.607133865356445,
          9.596916198730469,
          12.510741233825684,
          12.812005996704102,
          10.8750638961792,
          10.544883728027344,
          11.1363525390625
         ]
        }
       ],
       "layout": {
        "autosize": false,
        "font": {
         "size": 18
        },
        "height": 700,
        "legend": {
         "itemsizing": "constant",
         "title": {
          "text": "Metadata_hdbscan_label"
         },
         "tracegroupgap": 0
        },
        "margin": {
         "b": 20,
         "l": 50,
         "pad": 4,
         "r": 50,
         "t": 50
        },
        "scene": {
         "domain": {
          "x": [
           0,
           1
          ],
          "y": [
           0,
           1
          ]
         },
         "xaxis": {
          "title": {
           "text": "0"
          }
         },
         "yaxis": {
          "title": {
           "text": "1"
          }
         },
         "zaxis": {
          "title": {
           "text": "2"
          }
         }
        },
        "template": {
         "data": {
          "bar": [
           {
            "error_x": {
             "color": "#2a3f5f"
            },
            "error_y": {
             "color": "#2a3f5f"
            },
            "marker": {
             "line": {
              "color": "#E5ECF6",
              "width": 0.5
             },
             "pattern": {
              "fillmode": "overlay",
              "size": 10,
              "solidity": 0.2
             }
            },
            "type": "bar"
           }
          ],
          "barpolar": [
           {
            "marker": {
             "line": {
              "color": "#E5ECF6",
              "width": 0.5
             },
             "pattern": {
              "fillmode": "overlay",
              "size": 10,
              "solidity": 0.2
             }
            },
            "type": "barpolar"
           }
          ],
          "carpet": [
           {
            "aaxis": {
             "endlinecolor": "#2a3f5f",
             "gridcolor": "white",
             "linecolor": "white",
             "minorgridcolor": "white",
             "startlinecolor": "#2a3f5f"
            },
            "baxis": {
             "endlinecolor": "#2a3f5f",
             "gridcolor": "white",
             "linecolor": "white",
             "minorgridcolor": "white",
             "startlinecolor": "#2a3f5f"
            },
            "type": "carpet"
           }
          ],
          "choropleth": [
           {
            "colorbar": {
             "outlinewidth": 0,
             "ticks": ""
            },
            "type": "choropleth"
           }
          ],
          "contour": [
           {
            "colorbar": {
             "outlinewidth": 0,
             "ticks": ""
            },
            "colorscale": [
             [
              0,
              "#0d0887"
             ],
             [
              0.1111111111111111,
              "#46039f"
             ],
             [
              0.2222222222222222,
              "#7201a8"
             ],
             [
              0.3333333333333333,
              "#9c179e"
             ],
             [
              0.4444444444444444,
              "#bd3786"
             ],
             [
              0.5555555555555556,
              "#d8576b"
             ],
             [
              0.6666666666666666,
              "#ed7953"
             ],
             [
              0.7777777777777778,
              "#fb9f3a"
             ],
             [
              0.8888888888888888,
              "#fdca26"
             ],
             [
              1,
              "#f0f921"
             ]
            ],
            "type": "contour"
           }
          ],
          "contourcarpet": [
           {
            "colorbar": {
             "outlinewidth": 0,
             "ticks": ""
            },
            "type": "contourcarpet"
           }
          ],
          "heatmap": [
           {
            "colorbar": {
             "outlinewidth": 0,
             "ticks": ""
            },
            "colorscale": [
             [
              0,
              "#0d0887"
             ],
             [
              0.1111111111111111,
              "#46039f"
             ],
             [
              0.2222222222222222,
              "#7201a8"
             ],
             [
              0.3333333333333333,
              "#9c179e"
             ],
             [
              0.4444444444444444,
              "#bd3786"
             ],
             [
              0.5555555555555556,
              "#d8576b"
             ],
             [
              0.6666666666666666,
              "#ed7953"
             ],
             [
              0.7777777777777778,
              "#fb9f3a"
             ],
             [
              0.8888888888888888,
              "#fdca26"
             ],
             [
              1,
              "#f0f921"
             ]
            ],
            "type": "heatmap"
           }
          ],
          "heatmapgl": [
           {
            "colorbar": {
             "outlinewidth": 0,
             "ticks": ""
            },
            "colorscale": [
             [
              0,
              "#0d0887"
             ],
             [
              0.1111111111111111,
              "#46039f"
             ],
             [
              0.2222222222222222,
              "#7201a8"
             ],
             [
              0.3333333333333333,
              "#9c179e"
             ],
             [
              0.4444444444444444,
              "#bd3786"
             ],
             [
              0.5555555555555556,
              "#d8576b"
             ],
             [
              0.6666666666666666,
              "#ed7953"
             ],
             [
              0.7777777777777778,
              "#fb9f3a"
             ],
             [
              0.8888888888888888,
              "#fdca26"
             ],
             [
              1,
              "#f0f921"
             ]
            ],
            "type": "heatmapgl"
           }
          ],
          "histogram": [
           {
            "marker": {
             "pattern": {
              "fillmode": "overlay",
              "size": 10,
              "solidity": 0.2
             }
            },
            "type": "histogram"
           }
          ],
          "histogram2d": [
           {
            "colorbar": {
             "outlinewidth": 0,
             "ticks": ""
            },
            "colorscale": [
             [
              0,
              "#0d0887"
             ],
             [
              0.1111111111111111,
              "#46039f"
             ],
             [
              0.2222222222222222,
              "#7201a8"
             ],
             [
              0.3333333333333333,
              "#9c179e"
             ],
             [
              0.4444444444444444,
              "#bd3786"
             ],
             [
              0.5555555555555556,
              "#d8576b"
             ],
             [
              0.6666666666666666,
              "#ed7953"
             ],
             [
              0.7777777777777778,
              "#fb9f3a"
             ],
             [
              0.8888888888888888,
              "#fdca26"
             ],
             [
              1,
              "#f0f921"
             ]
            ],
            "type": "histogram2d"
           }
          ],
          "histogram2dcontour": [
           {
            "colorbar": {
             "outlinewidth": 0,
             "ticks": ""
            },
            "colorscale": [
             [
              0,
              "#0d0887"
             ],
             [
              0.1111111111111111,
              "#46039f"
             ],
             [
              0.2222222222222222,
              "#7201a8"
             ],
             [
              0.3333333333333333,
              "#9c179e"
             ],
             [
              0.4444444444444444,
              "#bd3786"
             ],
             [
              0.5555555555555556,
              "#d8576b"
             ],
             [
              0.6666666666666666,
              "#ed7953"
             ],
             [
              0.7777777777777778,
              "#fb9f3a"
             ],
             [
              0.8888888888888888,
              "#fdca26"
             ],
             [
              1,
              "#f0f921"
             ]
            ],
            "type": "histogram2dcontour"
           }
          ],
          "mesh3d": [
           {
            "colorbar": {
             "outlinewidth": 0,
             "ticks": ""
            },
            "type": "mesh3d"
           }
          ],
          "parcoords": [
           {
            "line": {
             "colorbar": {
              "outlinewidth": 0,
              "ticks": ""
             }
            },
            "type": "parcoords"
           }
          ],
          "pie": [
           {
            "automargin": true,
            "type": "pie"
           }
          ],
          "scatter": [
           {
            "fillpattern": {
             "fillmode": "overlay",
             "size": 10,
             "solidity": 0.2
            },
            "type": "scatter"
           }
          ],
          "scatter3d": [
           {
            "line": {
             "colorbar": {
              "outlinewidth": 0,
              "ticks": ""
             }
            },
            "marker": {
             "colorbar": {
              "outlinewidth": 0,
              "ticks": ""
             }
            },
            "type": "scatter3d"
           }
          ],
          "scattercarpet": [
           {
            "marker": {
             "colorbar": {
              "outlinewidth": 0,
              "ticks": ""
             }
            },
            "type": "scattercarpet"
           }
          ],
          "scattergeo": [
           {
            "marker": {
             "colorbar": {
              "outlinewidth": 0,
              "ticks": ""
             }
            },
            "type": "scattergeo"
           }
          ],
          "scattergl": [
           {
            "marker": {
             "colorbar": {
              "outlinewidth": 0,
              "ticks": ""
             }
            },
            "type": "scattergl"
           }
          ],
          "scattermapbox": [
           {
            "marker": {
             "colorbar": {
              "outlinewidth": 0,
              "ticks": ""
             }
            },
            "type": "scattermapbox"
           }
          ],
          "scatterpolar": [
           {
            "marker": {
             "colorbar": {
              "outlinewidth": 0,
              "ticks": ""
             }
            },
            "type": "scatterpolar"
           }
          ],
          "scatterpolargl": [
           {
            "marker": {
             "colorbar": {
              "outlinewidth": 0,
              "ticks": ""
             }
            },
            "type": "scatterpolargl"
           }
          ],
          "scatterternary": [
           {
            "marker": {
             "colorbar": {
              "outlinewidth": 0,
              "ticks": ""
             }
            },
            "type": "scatterternary"
           }
          ],
          "surface": [
           {
            "colorbar": {
             "outlinewidth": 0,
             "ticks": ""
            },
            "colorscale": [
             [
              0,
              "#0d0887"
             ],
             [
              0.1111111111111111,
              "#46039f"
             ],
             [
              0.2222222222222222,
              "#7201a8"
             ],
             [
              0.3333333333333333,
              "#9c179e"
             ],
             [
              0.4444444444444444,
              "#bd3786"
             ],
             [
              0.5555555555555556,
              "#d8576b"
             ],
             [
              0.6666666666666666,
              "#ed7953"
             ],
             [
              0.7777777777777778,
              "#fb9f3a"
             ],
             [
              0.8888888888888888,
              "#fdca26"
             ],
             [
              1,
              "#f0f921"
             ]
            ],
            "type": "surface"
           }
          ],
          "table": [
           {
            "cells": {
             "fill": {
              "color": "#EBF0F8"
             },
             "line": {
              "color": "white"
             }
            },
            "header": {
             "fill": {
              "color": "#C8D4E3"
             },
             "line": {
              "color": "white"
             }
            },
            "type": "table"
           }
          ]
         },
         "layout": {
          "annotationdefaults": {
           "arrowcolor": "#2a3f5f",
           "arrowhead": 0,
           "arrowwidth": 1
          },
          "autotypenumbers": "strict",
          "coloraxis": {
           "colorbar": {
            "outlinewidth": 0,
            "ticks": ""
           }
          },
          "colorscale": {
           "diverging": [
            [
             0,
             "#8e0152"
            ],
            [
             0.1,
             "#c51b7d"
            ],
            [
             0.2,
             "#de77ae"
            ],
            [
             0.3,
             "#f1b6da"
            ],
            [
             0.4,
             "#fde0ef"
            ],
            [
             0.5,
             "#f7f7f7"
            ],
            [
             0.6,
             "#e6f5d0"
            ],
            [
             0.7,
             "#b8e186"
            ],
            [
             0.8,
             "#7fbc41"
            ],
            [
             0.9,
             "#4d9221"
            ],
            [
             1,
             "#276419"
            ]
           ],
           "sequential": [
            [
             0,
             "#0d0887"
            ],
            [
             0.1111111111111111,
             "#46039f"
            ],
            [
             0.2222222222222222,
             "#7201a8"
            ],
            [
             0.3333333333333333,
             "#9c179e"
            ],
            [
             0.4444444444444444,
             "#bd3786"
            ],
            [
             0.5555555555555556,
             "#d8576b"
            ],
            [
             0.6666666666666666,
             "#ed7953"
            ],
            [
             0.7777777777777778,
             "#fb9f3a"
            ],
            [
             0.8888888888888888,
             "#fdca26"
            ],
            [
             1,
             "#f0f921"
            ]
           ],
           "sequentialminus": [
            [
             0,
             "#0d0887"
            ],
            [
             0.1111111111111111,
             "#46039f"
            ],
            [
             0.2222222222222222,
             "#7201a8"
            ],
            [
             0.3333333333333333,
             "#9c179e"
            ],
            [
             0.4444444444444444,
             "#bd3786"
            ],
            [
             0.5555555555555556,
             "#d8576b"
            ],
            [
             0.6666666666666666,
             "#ed7953"
            ],
            [
             0.7777777777777778,
             "#fb9f3a"
            ],
            [
             0.8888888888888888,
             "#fdca26"
            ],
            [
             1,
             "#f0f921"
            ]
           ]
          },
          "colorway": [
           "#636efa",
           "#EF553B",
           "#00cc96",
           "#ab63fa",
           "#FFA15A",
           "#19d3f3",
           "#FF6692",
           "#B6E880",
           "#FF97FF",
           "#FECB52"
          ],
          "font": {
           "color": "#2a3f5f"
          },
          "geo": {
           "bgcolor": "white",
           "lakecolor": "white",
           "landcolor": "#E5ECF6",
           "showlakes": true,
           "showland": true,
           "subunitcolor": "white"
          },
          "hoverlabel": {
           "align": "left"
          },
          "hovermode": "closest",
          "mapbox": {
           "style": "light"
          },
          "paper_bgcolor": "white",
          "plot_bgcolor": "#E5ECF6",
          "polar": {
           "angularaxis": {
            "gridcolor": "white",
            "linecolor": "white",
            "ticks": ""
           },
           "bgcolor": "#E5ECF6",
           "radialaxis": {
            "gridcolor": "white",
            "linecolor": "white",
            "ticks": ""
           }
          },
          "scene": {
           "xaxis": {
            "backgroundcolor": "#E5ECF6",
            "gridcolor": "white",
            "gridwidth": 2,
            "linecolor": "white",
            "showbackground": true,
            "ticks": "",
            "zerolinecolor": "white"
           },
           "yaxis": {
            "backgroundcolor": "#E5ECF6",
            "gridcolor": "white",
            "gridwidth": 2,
            "linecolor": "white",
            "showbackground": true,
            "ticks": "",
            "zerolinecolor": "white"
           },
           "zaxis": {
            "backgroundcolor": "#E5ECF6",
            "gridcolor": "white",
            "gridwidth": 2,
            "linecolor": "white",
            "showbackground": true,
            "ticks": "",
            "zerolinecolor": "white"
           }
          },
          "shapedefaults": {
           "line": {
            "color": "#2a3f5f"
           }
          },
          "ternary": {
           "aaxis": {
            "gridcolor": "white",
            "linecolor": "white",
            "ticks": ""
           },
           "baxis": {
            "gridcolor": "white",
            "linecolor": "white",
            "ticks": ""
           },
           "bgcolor": "#E5ECF6",
           "caxis": {
            "gridcolor": "white",
            "linecolor": "white",
            "ticks": ""
           }
          },
          "title": {
           "x": 0.05
          },
          "xaxis": {
           "automargin": true,
           "gridcolor": "white",
           "linecolor": "white",
           "ticks": "",
           "title": {
            "standoff": 15
           },
           "zerolinecolor": "white",
           "zerolinewidth": 2
          },
          "yaxis": {
           "automargin": true,
           "gridcolor": "white",
           "linecolor": "white",
           "ticks": "",
           "title": {
            "standoff": 15
           },
           "zerolinecolor": "white",
           "zerolinewidth": 2
          }
         }
        },
        "title": {
         "text": "Size defined by Metadata_concentration_uM"
        },
        "updatemenus": [
         {
          "buttons": [
           {
            "args": [
             "visible",
             "legendonly"
            ],
            "label": "Deselect All",
            "method": "restyle"
           },
           {
            "args": [
             "visible",
             true
            ],
            "label": "Select All",
            "method": "restyle"
           }
          ],
          "direction": "left",
          "pad": {
           "r": 5,
           "t": 5
          },
          "showactive": true,
          "type": "buttons",
          "x": 1,
          "xanchor": "left",
          "y": 1.1,
          "yanchor": "top"
         }
        ],
        "width": 900
       }
      }
     },
     "metadata": {},
     "output_type": "display_data"
    }
   ],
   "source": [
    "df_3d[\"Metadata_hdbscan_label\"] = hdbscan_labels\n",
    "\n",
    "\n",
    "combat_util.plot_umap_3d(df_3d, color_col='Metadata_compound', \n",
    "                    #   split_df = False, split_column = None, np = None,\n",
    "                      hover_cols=hover_list,\n",
    "                      size=True, size_col = \"Metadata_concentration_uM\",\n",
    "                      # x=\"0\", y=\"1\",\n",
    "                      # error_x=\"x_err\", error_y=\"y_err\",\n",
    "                       dili_color=True\n",
    "                      )\n",
    "\n",
    "\n",
    "combat_util.plot_umap_3d(df_3d, color_col='Metadata_hdbscan_label', \n",
    "                    #   split_df = False, split_column = None, np = None,\n",
    "                      hover_cols=hover_list,\n",
    "                      size=True, size_col = \"Metadata_concentration_uM\",\n",
    "                      # x=\"0\", y=\"1\",\n",
    "                      # error_x=\"x_err\", error_y=\"y_err\",\n",
    "                       discrete=True\n",
    "                      )\n"
   ]
  },
  {
   "cell_type": "code",
   "execution_count": 14,
   "metadata": {},
   "outputs": [
    {
     "data": {
      "text/plain": [
       "(0.2292076678695685, 0.388277321630227)"
      ]
     },
     "execution_count": 14,
     "metadata": {},
     "output_type": "execute_result"
    }
   ],
   "source": [
    "(\n",
    "    adjusted_rand_score(y['Metadata_compound'], hdbscan_labels),\n",
    "    adjusted_mutual_info_score(y['Metadata_compound'], hdbscan_labels)\n",
    ")"
   ]
  },
  {
   "cell_type": "code",
   "execution_count": 15,
   "metadata": {},
   "outputs": [
    {
     "data": {
      "text/plain": [
       "(0.29469747242559924, 0.5288231278289286)"
      ]
     },
     "execution_count": 15,
     "metadata": {},
     "output_type": "execute_result"
    }
   ],
   "source": [
    "clustered = (hdbscan_labels >= 0)\n",
    "(\n",
    "    adjusted_rand_score(y['Metadata_compound'][clustered], hdbscan_labels[clustered]),\n",
    "    adjusted_mutual_info_score(y['Metadata_compound'][clustered], hdbscan_labels[clustered])\n",
    ")"
   ]
  },
  {
   "cell_type": "code",
   "execution_count": 16,
   "metadata": {},
   "outputs": [
    {
     "data": {
      "text/plain": [
       "0.8181818181818182"
      ]
     },
     "execution_count": 16,
     "metadata": {},
     "output_type": "execute_result"
    }
   ],
   "source": [
    "np.sum(clustered) / X.shape[0]"
   ]
  },
  {
   "cell_type": "markdown",
   "metadata": {},
   "source": [
    "## more hdsbc parameters"
   ]
  },
  {
   "cell_type": "code",
   "execution_count": 38,
   "metadata": {},
   "outputs": [],
   "source": [
    "clusterer = hdbscan.HDBSCAN(min_samples=6, min_cluster_size=10, metric='euclidean').fit(result_array)"
   ]
  },
  {
   "cell_type": "markdown",
   "metadata": {},
   "source": [
    "We can now see the hierarchy as a dendrogram, the width (and color) of each branch representing the number of points in the cluster at that level. If we wish to know which branches were selected by the HDBSCAN* algorithm we can pass select_clusters=True. You can even pass a selection palette to color the selections according to the cluster labeling."
   ]
  },
  {
   "cell_type": "code",
   "execution_count": 39,
   "metadata": {},
   "outputs": [
    {
     "data": {
      "text/plain": [
       "<Axes: ylabel='$\\\\lambda$ value'>"
      ]
     },
     "execution_count": 39,
     "metadata": {},
     "output_type": "execute_result"
    },
    {
     "data": {
      "image/png": "[encoded data removed]",
      "text/plain": [
       "<Figure size 640x480 with 2 Axes>"
      ]
     },
     "metadata": {},
     "output_type": "display_data"
    }
   ],
   "source": [
    "clusterer.condensed_tree_.plot(select_clusters=True)"
   ]
  },
  {
   "cell_type": "code",
   "execution_count": 40,
   "metadata": {},
   "outputs": [
    {
     "data": {
      "text/plain": [
       "<Axes: ylabel='distance'>"
      ]
     },
     "execution_count": 40,
     "metadata": {},
     "output_type": "execute_result"
    },
    {
     "data": {
      "image/png": "[encoded data removed]",
      "text/plain": [
       "<Figure size 640x480 with 2 Axes>"
      ]
     },
     "metadata": {},
     "output_type": "display_data"
    }
   ],
   "source": [
    "clusterer.single_linkage_tree_.plot()"
   ]
  },
  {
   "cell_type": "markdown",
   "metadata": {},
   "source": [
    "# kmeans"
   ]
  },
  {
   "cell_type": "code",
   "execution_count": 17,
   "metadata": {},
   "outputs": [],
   "source": [
    "from sklearn.cluster import KMeans\n",
    "\n",
    "kmeans = KMeans(n_clusters=5, random_state=42, n_init=20, algorithm=\"elkan\")\n",
    "kmeans_labels = kmeans.fit_predict(result_array)"
   ]
  },
  {
   "cell_type": "code",
   "execution_count": 18,
   "metadata": {},
   "outputs": [
    {
     "data": {
      "application/vnd.plotly.v1+json": {
       "config": {
        "plotlyServerURL": "https://plot.ly",
        "toImageButtonOptions": {
         "filename": "custom_image",
         "format": "svg",
         "height": 500,
         "scale": 6,
         "width": 700
        }
       },
       "data": [
        {
         "customdata": [
          [
           "220607_092050_Plate_1",
           "B3",
           "Aspirin",
           1
          ],
          [
           "220617_090443_Plate_1",
           "D3",
           "Aspirin",
           1
          ],
          [
           "220617_090443_Plate_1",
           "C3",
           "Aspirin",
           1
          ],
          [
           "220617_090443_Plate_1",
           "B3",
           "Aspirin",
           1
          ],
          [
           "231011_183822_Plate_1",
           "B9",
           "Aspirin",
           1
          ],
          [
           "231011_183822_Plate_1",
           "B8",
           "Aspirin",
           1
          ],
          [
           "231011_183822_Plate_1",
           "B7",
           "Aspirin",
           1
          ],
          [
           "231011_183822_Plate_1",
           "B6",
           "Aspirin",
           1
          ],
          [
           "231006_132517_Plate_1",
           "G5",
           "Aspirin",
           1
          ],
          [
           "231006_132517_Plate_1",
           "G4",
           "Aspirin",
           1
          ],
          [
           "231006_132517_Plate_1",
           "G3",
           "Aspirin",
           1
          ],
          [
           "231006_132517_Plate_1",
           "G2",
           "Aspirin",
           1
          ],
          [
           "220607_092050_Plate_1",
           "D3",
           "Aspirin",
           1
          ],
          [
           "220608_152238_Plate_1",
           "B3",
           "Aspirin",
           1
          ],
          [
           "220608_152238_Plate_1",
           "D3",
           "Aspirin",
           1
          ],
          [
           "220608_152238_Plate_1",
           "C3",
           "Aspirin",
           1
          ],
          [
           "220607_092050_Plate_1",
           "C3",
           "Aspirin",
           1
          ],
          [
           "231011_183822_Plate_1",
           "B5",
           "Aspirin",
           10
          ],
          [
           "231011_183822_Plate_1",
           "B4",
           "Aspirin",
           10
          ],
          [
           "231011_183822_Plate_1",
           "B3",
           "Aspirin",
           10
          ],
          [
           "231011_183822_Plate_1",
           "B2",
           "Aspirin",
           10
          ],
          [
           "231006_132517_Plate_1",
           "G9",
           "Aspirin",
           10
          ],
          [
           "231006_132517_Plate_1",
           "G6",
           "Aspirin",
           10
          ],
          [
           "231006_132517_Plate_1",
           "G7",
           "Aspirin",
           10
          ],
          [
           "220607_092050_Plate_1",
           "B4",
           "Aspirin",
           10
          ],
          [
           "231006_132517_Plate_1",
           "G8",
           "Aspirin",
           10
          ],
          [
           "220607_092050_Plate_1",
           "C4",
           "Aspirin",
           10
          ],
          [
           "220607_092050_Plate_1",
           "D4",
           "Aspirin",
           10
          ],
          [
           "220608_152238_Plate_1",
           "C4",
           "Aspirin",
           10
          ],
          [
           "220617_090443_Plate_1",
           "D4",
           "Aspirin",
           10
          ],
          [
           "220617_090443_Plate_1",
           "C4",
           "Aspirin",
           10
          ],
          [
           "220608_152238_Plate_1",
           "D4",
           "Aspirin",
           10
          ],
          [
           "220617_090443_Plate_1",
           "B4",
           "Aspirin",
           10
          ],
          [
           "220608_152238_Plate_1",
           "B4",
           "Aspirin",
           10
          ]
         ],
         "hovertemplate": "colors_plot_col=Aspirin<br>0=%{x}<br>1=%{y}<br>2=%{z}<br>Metadata_size=%{marker.size}<br>Metadata_Plate=%{customdata[0]}<br>Metadata_Well=%{customdata[1]}<br>Metadata_compound=%{customdata[2]}<br>Metadata_concentration_uM=%{customdata[3]}<extra></extra>",
         "legendgroup": "Aspirin",
         "marker": {
          "color": "#1f78b4",
          "size": [
           1,
           1,
           1,
           1,
           1,
           1,
           1,
           1,
           1,
           1,
           1,
           1,
           1,
           1,
           1,
           1,
           1,
           10,
           10,
           10,
           10,
           10,
           10,
           10,
           10,
           10,
           10,
           10,
           10,
           10,
           10,
           10,
           10,
           10
          ],
          "sizemode": "area",
          "sizeref": 0.025,
          "symbol": "circle"
         },
         "mode": "markers",
         "name": "Aspirin",
         "scene": "scene",
         "showlegend": true,
         "type": "scatter3d",
         "x": [
          -8.305229187011719,
          -5.392139911651611,
          -9.2076997756958,
          -7.506039619445801,
          -7.924680233001709,
          -6.373748302459717,
          -5.850466251373291,
          -5.353710174560547,
          -9.177544593811035,
          -7.1618852615356445,
          -6.141969203948975,
          -6.044436454772949,
          -7.658571720123291,
          -8.898588180541992,
          -7.855020046234131,
          -6.881530284881592,
          -7.1114091873168945,
          -6.038998603820801,
          -5.686520576477051,
          -5.494953155517578,
          -5.442949295043945,
          -7.294435977935791,
          -7.4929890632629395,
          -6.865506649017334,
          -8.384702682495117,
          -6.35549783706665,
          -7.8471903800964355,
          -7.855255603790283,
          -7.897002696990967,
          -8.096364974975586,
          -6.941853046417236,
          -7.6866679191589355,
          -7.879251480102539,
          -8.518716812133789
         ],
         "y": [
          10.515686988830566,
          10.035767555236816,
          11.228677749633789,
          11.36163330078125,
          10.624966621398926,
          13.501442909240723,
          12.961064338684082,
          13.750876426696777,
          10.327057838439941,
          11.30154800415039,
          10.900169372558594,
          11.02487564086914,
          8.916022300720215,
          11.245870590209961,
          8.90451717376709,
          12.519145965576172,
          12.384272575378418,
          13.477949142456055,
          13.153264045715332,
          13.298521995544434,
          13.619202613830566,
          9.462615013122559,
          11.607137680053711,
          11.317327499389648,
          10.221710205078125,
          11.271910667419434,
          11.019098281860352,
          8.995055198669434,
          9.581085205078125,
          9.02687931060791,
          9.35111141204834,
          9.672310829162598,
          11.738343238830566,
          11.40884017944336
         ],
         "z": [
          13.448060035705566,
          10.70764446258545,
          11.707159042358398,
          13.703425407409668,
          12.411314964294434,
          12.565776824951172,
          12.730895042419434,
          11.873861312866211,
          11.079780578613281,
          12.292540550231934,
          11.297816276550293,
          11.1786470413208,
          10.3125638961792,
          13.047789573669434,
          10.881996154785156,
          11.569938659667969,
          12.114344596862793,
          11.934368133544922,
          11.831053733825684,
          11.4086332321167,
          11.482884407043457,
          12.812005996704102,
          12.058019638061523,
          12.421446800231934,
          12.903631210327148,
          13.149291038513184,
          12.084290504455566,
          10.70678424835205,
          10.232154846191406,
          12.264776229858398,
          12.510741233825684,
          11.593072891235352,
          13.703913688659668,
          13.210577011108398
         ]
        },
        {
         "customdata": [
          [
           "231006_132517_Plate_1",
           "C10",
           "Cyclophosphamide",
           1
          ],
          [
           "231006_132517_Plate_1",
           "B10",
           "Cyclophosphamide",
           1
          ],
          [
           "220617_090443_Plate_1",
           "D7",
           "Cyclophosphamide",
           1
          ],
          [
           "220617_090443_Plate_1",
           "C7",
           "Cyclophosphamide",
           1
          ],
          [
           "220617_090443_Plate_1",
           "B7",
           "Cyclophosphamide",
           1
          ],
          [
           "231006_132517_Plate_1",
           "D10",
           "Cyclophosphamide",
           1
          ],
          [
           "231011_183822_Plate_1",
           "C9",
           "Cyclophosphamide",
           1
          ],
          [
           "231011_183822_Plate_1",
           "C8",
           "Cyclophosphamide",
           1
          ],
          [
           "231011_183822_Plate_1",
           "C7",
           "Cyclophosphamide",
           1
          ],
          [
           "231011_183822_Plate_1",
           "C6",
           "Cyclophosphamide",
           1
          ],
          [
           "231006_132517_Plate_1",
           "E10",
           "Cyclophosphamide",
           1
          ],
          [
           "220608_152238_Plate_1",
           "C7",
           "Cyclophosphamide",
           1
          ],
          [
           "220607_092050_Plate_1",
           "C7",
           "Cyclophosphamide",
           1
          ],
          [
           "220608_152238_Plate_1",
           "B7",
           "Cyclophosphamide",
           1
          ],
          [
           "220607_092050_Plate_1",
           "D7",
           "Cyclophosphamide",
           1
          ],
          [
           "220608_152238_Plate_1",
           "D7",
           "Cyclophosphamide",
           1
          ],
          [
           "220607_092050_Plate_1",
           "B7",
           "Cyclophosphamide",
           1
          ],
          [
           "220607_092050_Plate_1",
           "D8",
           "Cyclophosphamide",
           10
          ],
          [
           "220607_092050_Plate_1",
           "B8",
           "Cyclophosphamide",
           10
          ],
          [
           "231006_132517_Plate_1",
           "E11",
           "Cyclophosphamide",
           10
          ],
          [
           "220607_092050_Plate_1",
           "C8",
           "Cyclophosphamide",
           10
          ],
          [
           "231011_183822_Plate_1",
           "C5",
           "Cyclophosphamide",
           10
          ],
          [
           "231011_183822_Plate_1",
           "C4",
           "Cyclophosphamide",
           10
          ],
          [
           "231011_183822_Plate_1",
           "C3",
           "Cyclophosphamide",
           10
          ],
          [
           "231011_183822_Plate_1",
           "C2",
           "Cyclophosphamide",
           10
          ],
          [
           "220617_090443_Plate_1",
           "D8",
           "Cyclophosphamide",
           10
          ],
          [
           "220608_152238_Plate_1",
           "C8",
           "Cyclophosphamide",
           10
          ],
          [
           "220617_090443_Plate_1",
           "C8",
           "Cyclophosphamide",
           10
          ],
          [
           "220617_090443_Plate_1",
           "B8",
           "Cyclophosphamide",
           10
          ],
          [
           "220608_152238_Plate_1",
           "D8",
           "Cyclophosphamide",
           10
          ],
          [
           "231006_132517_Plate_1",
           "D11",
           "Cyclophosphamide",
           10
          ],
          [
           "231006_132517_Plate_1",
           "C11",
           "Cyclophosphamide",
           10
          ],
          [
           "231006_132517_Plate_1",
           "B11",
           "Cyclophosphamide",
           10
          ],
          [
           "220608_152238_Plate_1",
           "B8",
           "Cyclophosphamide",
           10
          ]
         ],
         "hovertemplate": "colors_plot_col=Cyclophosphamide<br>0=%{x}<br>1=%{y}<br>2=%{z}<br>Metadata_size=%{marker.size}<br>Metadata_Plate=%{customdata[0]}<br>Metadata_Well=%{customdata[1]}<br>Metadata_compound=%{customdata[2]}<br>Metadata_concentration_uM=%{customdata[3]}<extra></extra>",
         "legendgroup": "Cyclophosphamide",
         "marker": {
          "color": "#e31a1c",
          "size": [
           1,
           1,
           1,
           1,
           1,
           1,
           1,
           1,
           1,
           1,
           1,
           1,
           1,
           1,
           1,
           1,
           1,
           10,
           10,
           10,
           10,
           10,
           10,
           10,
           10,
           10,
           10,
           10,
           10,
           10,
           10,
           10,
           10,
           10
          ],
          "sizemode": "area",
          "sizeref": 0.025,
          "symbol": "circle"
         },
         "mode": "markers",
         "name": "Cyclophosphamide",
         "scene": "scene",
         "showlegend": true,
         "type": "scatter3d",
         "x": [
          -5.570118427276611,
          -6.094820976257324,
          -8.469596862792969,
          -8.56545352935791,
          -7.179068565368652,
          -7.445383071899414,
          -5.871368885040283,
          -7.100708484649658,
          -5.629855155944824,
          -8.183810234069824,
          -7.161562442779541,
          -9.401649475097656,
          -8.408994674682617,
          -8.832205772399902,
          -8.860817909240723,
          -7.048961162567139,
          -7.894561767578125,
          -8.503905296325684,
          -8.470163345336914,
          -5.867886543273926,
          -9.007538795471191,
          -5.926543712615967,
          -6.590109348297119,
          -5.885478496551514,
          -6.371960639953613,
          -8.216763496398926,
          -9.136680603027344,
          -8.801607131958008,
          -7.715116024017334,
          -7.842132091522217,
          -6.434640884399414,
          -6.607097148895264,
          -5.8691511154174805,
          -8.591285705566406
         ],
         "y": [
          12.290489196777344,
          12.404199600219727,
          9.148902893066406,
          9.875085830688477,
          12.376977920532227,
          10.426026344299316,
          13.301714897155762,
          11.4608793258667,
          13.670794486999512,
          9.599973678588867,
          10.260165214538574,
          10.839363098144531,
          9.292548179626465,
          10.822043418884277,
          9.473564147949219,
          9.053223609924316,
          11.056879043579102,
          9.002938270568848,
          10.826896667480469,
          11.04992961883545,
          10.855679512023926,
          13.650511741638184,
          12.983281135559082,
          13.297218322753906,
          12.6943941116333,
          9.285889625549316,
          10.033391952514648,
          9.637694358825684,
          11.477193832397461,
          9.183876037597656,
          9.734800338745117,
          13.153769493103027,
          11.745597839355469,
          10.99753189086914
         ],
         "z": [
          13.578752517700195,
          12.643511772155762,
          11.613564491271973,
          10.69009780883789,
          13.715699195861816,
          12.472472190856934,
          12.912779808044434,
          13.169781684875488,
          12.400537490844727,
          12.428874969482422,
          11.022377967834473,
          11.26941204071045,
          10.759971618652344,
          12.884217262268066,
          11.2897310256958,
          11.905116081237793,
          13.102195739746094,
          12.209924697875977,
          13.444941520690918,
          12.091192245483398,
          11.220113754272461,
          12.921955108642578,
          13.277220726013184,
          13.519366264343262,
          13.889466285705566,
          11.823115348815918,
          11.381566047668457,
          11.704141616821289,
          12.967365264892578,
          12.035455703735352,
          12.084436416625977,
          11.689229965209961,
          12.954978942871094,
          12.438804626464844
         ]
        },
        {
         "customdata": [
          [
           "231006_132517_Plate_1",
           "C5",
           "Lovastatin",
           1
          ],
          [
           "231006_132517_Plate_1",
           "C4",
           "Lovastatin",
           1
          ],
          [
           "231006_132517_Plate_1",
           "C3",
           "Lovastatin",
           1
          ],
          [
           "231006_132517_Plate_1",
           "C2",
           "Lovastatin",
           1
          ],
          [
           "220617_090443_Plate_1",
           "G3",
           "Lovastatin",
           1
          ],
          [
           "231011_183822_Plate_1",
           "G10",
           "Lovastatin",
           1
          ],
          [
           "220617_090443_Plate_1",
           "E3",
           "Lovastatin",
           1
          ],
          [
           "220608_152238_Plate_1",
           "G3",
           "Lovastatin",
           1
          ],
          [
           "231011_183822_Plate_1",
           "F10",
           "Lovastatin",
           1
          ],
          [
           "231011_183822_Plate_1",
           "E10",
           "Lovastatin",
           1
          ],
          [
           "231011_183822_Plate_1",
           "D10",
           "Lovastatin",
           1
          ],
          [
           "220608_152238_Plate_1",
           "F3",
           "Lovastatin",
           1
          ],
          [
           "220617_090443_Plate_1",
           "F3",
           "Lovastatin",
           1
          ],
          [
           "220607_092050_Plate_1",
           "F3",
           "Lovastatin",
           1
          ],
          [
           "220607_092050_Plate_1",
           "G3",
           "Lovastatin",
           1
          ],
          [
           "220608_152238_Plate_1",
           "E3",
           "Lovastatin",
           1
          ],
          [
           "220607_092050_Plate_1",
           "E3",
           "Lovastatin",
           1
          ],
          [
           "231011_183822_Plate_1",
           "D11",
           "Lovastatin",
           10
          ],
          [
           "231011_183822_Plate_1",
           "E11",
           "Lovastatin",
           10
          ],
          [
           "231011_183822_Plate_1",
           "F11",
           "Lovastatin",
           10
          ],
          [
           "220608_152238_Plate_1",
           "E4",
           "Lovastatin",
           10
          ],
          [
           "220608_152238_Plate_1",
           "G4",
           "Lovastatin",
           10
          ],
          [
           "220608_152238_Plate_1",
           "F4",
           "Lovastatin",
           10
          ],
          [
           "220617_090443_Plate_1",
           "E4",
           "Lovastatin",
           10
          ],
          [
           "220607_092050_Plate_1",
           "E4",
           "Lovastatin",
           10
          ],
          [
           "220607_092050_Plate_1",
           "F4",
           "Lovastatin",
           10
          ],
          [
           "231006_132517_Plate_1",
           "C9",
           "Lovastatin",
           10
          ],
          [
           "231006_132517_Plate_1",
           "C8",
           "Lovastatin",
           10
          ],
          [
           "231006_132517_Plate_1",
           "C7",
           "Lovastatin",
           10
          ],
          [
           "231006_132517_Plate_1",
           "C6",
           "Lovastatin",
           10
          ],
          [
           "220607_092050_Plate_1",
           "G4",
           "Lovastatin",
           10
          ],
          [
           "220617_090443_Plate_1",
           "G4",
           "Lovastatin",
           10
          ],
          [
           "220617_090443_Plate_1",
           "F4",
           "Lovastatin",
           10
          ],
          [
           "231011_183822_Plate_1",
           "G11",
           "Lovastatin",
           10
          ]
         ],
         "hovertemplate": "colors_plot_col=Lovastatin<br>0=%{x}<br>1=%{y}<br>2=%{z}<br>Metadata_size=%{marker.size}<br>Metadata_Plate=%{customdata[0]}<br>Metadata_Well=%{customdata[1]}<br>Metadata_compound=%{customdata[2]}<br>Metadata_concentration_uM=%{customdata[3]}<extra></extra>",
         "legendgroup": "Lovastatin",
         "marker": {
          "color": "#6a3d9a",
          "size": [
           1,
           1,
           1,
           1,
           1,
           1,
           1,
           1,
           1,
           1,
           1,
           1,
           1,
           1,
           1,
           1,
           1,
           10,
           10,
           10,
           10,
           10,
           10,
           10,
           10,
           10,
           10,
           10,
           10,
           10,
           10,
           10,
           10,
           10
          ],
          "sizemode": "area",
          "sizeref": 0.025,
          "symbol": "circle"
         },
         "mode": "markers",
         "name": "Lovastatin",
         "scene": "scene",
         "showlegend": true,
         "type": "scatter3d",
         "x": [
          -6.833718776702881,
          -7.675802230834961,
          -7.1265153884887695,
          -6.7762556076049805,
          -6.875823497772217,
          -7.671792984008789,
          -5.844082832336426,
          -6.319253921508789,
          -7.720825672149658,
          -7.160217761993408,
          -6.006046295166016,
          -9.052519798278809,
          -5.999402046203613,
          -6.043361663818359,
          -6.467528820037842,
          -5.145493030548096,
          -5.8173089027404785,
          -7.065604209899902,
          -7.1883745193481445,
          -7.367154598236084,
          -4.980319976806641,
          -5.994183540344238,
          -5.300235748291016,
          -6.099396228790283,
          -5.989868640899658,
          -5.003383636474609,
          -7.2177934646606445,
          -6.044443130493164,
          -7.102721691131592,
          -4.968642711639404,
          -7.340573787689209,
          -6.511688232421875,
          -6.116626739501953,
          -7.493622303009033
         ],
         "y": [
          12.350198745727539,
          12.224407196044922,
          10.131874084472656,
          11.648233413696289,
          11.779454231262207,
          9.455475807189941,
          12.438501358032227,
          9.550179481506348,
          10.103117942810059,
          9.951658248901367,
          11.49612045288086,
          11.61962604522705,
          12.031678199768066,
          11.780735969543457,
          11.929925918579102,
          11.7781343460083,
          12.358135223388672,
          9.722084045410156,
          10.425169944763184,
          9.43648624420166,
          13.878722190856934,
          10.428625106811523,
          11.723109245300293,
          12.278141975402832,
          11.629951477050781,
          10.862237930297852,
          12.146668434143066,
          11.429483413696289,
          11.960901260375977,
          10.387474060058594,
          11.105461120605469,
          11.047674179077148,
          11.645208358764648,
          10.124792098999023
         ],
         "z": [
          10.89309310913086,
          12.446588516235352,
          10.522299766540527,
          11.4422025680542,
          9.843049049377441,
          9.782012939453125,
          10.261475563049316,
          11.444737434387207,
          9.758573532104492,
          9.796660423278809,
          9.974495887756348,
          11.40237045288086,
          9.68005657196045,
          9.537040710449219,
          9.343390464782715,
          10.263647079467773,
          9.740331649780273,
          9.931092262268066,
          9.653722763061523,
          10.048392295837402,
          12.018379211425781,
          12.133197784423828,
          9.674287796020508,
          10.167821884155273,
          10.8796968460083,
          10.4589204788208,
          12.846502304077148,
          12.678749084472656,
          12.472955703735352,
          10.872984886169434,
          9.596916198730469,
          9.772004127502441,
          10.158018112182617,
          9.563569068908691
         ]
        },
        {
         "customdata": [
          [
           "231006_132517_Plate_1",
           "B5",
           "Amiodarone",
           1
          ],
          [
           "231006_132517_Plate_1",
           "B4",
           "Amiodarone",
           1
          ],
          [
           "231006_132517_Plate_1",
           "B3",
           "Amiodarone",
           1
          ],
          [
           "231006_132517_Plate_1",
           "B2",
           "Amiodarone",
           1
          ],
          [
           "220617_090443_Plate_1",
           "D5",
           "Amiodarone",
           1
          ],
          [
           "220617_090443_Plate_1",
           "C5",
           "Amiodarone",
           1
          ],
          [
           "220617_090443_Plate_1",
           "B5",
           "Amiodarone",
           1
          ],
          [
           "231011_183822_Plate_1",
           "E9",
           "Amiodarone",
           1
          ],
          [
           "231011_183822_Plate_1",
           "E8",
           "Amiodarone",
           1
          ],
          [
           "231011_183822_Plate_1",
           "E7",
           "Amiodarone",
           1
          ],
          [
           "231011_183822_Plate_1",
           "E6",
           "Amiodarone",
           1
          ],
          [
           "220608_152238_Plate_1",
           "C5",
           "Amiodarone",
           1
          ],
          [
           "220607_092050_Plate_1",
           "D5",
           "Amiodarone",
           1
          ],
          [
           "220608_152238_Plate_1",
           "B5",
           "Amiodarone",
           1
          ],
          [
           "220607_092050_Plate_1",
           "C5",
           "Amiodarone",
           1
          ],
          [
           "220608_152238_Plate_1",
           "D5",
           "Amiodarone",
           1
          ],
          [
           "220607_092050_Plate_1",
           "B5",
           "Amiodarone",
           1
          ],
          [
           "220607_092050_Plate_1",
           "D6",
           "Amiodarone",
           10
          ],
          [
           "220607_092050_Plate_1",
           "B6",
           "Amiodarone",
           10
          ],
          [
           "231011_183822_Plate_1",
           "E5",
           "Amiodarone",
           10
          ],
          [
           "231011_183822_Plate_1",
           "E4",
           "Amiodarone",
           10
          ],
          [
           "231011_183822_Plate_1",
           "E3",
           "Amiodarone",
           10
          ],
          [
           "231011_183822_Plate_1",
           "E2",
           "Amiodarone",
           10
          ],
          [
           "220607_092050_Plate_1",
           "C6",
           "Amiodarone",
           10
          ],
          [
           "220608_152238_Plate_1",
           "C6",
           "Amiodarone",
           10
          ],
          [
           "220617_090443_Plate_1",
           "D6",
           "Amiodarone",
           10
          ],
          [
           "220617_090443_Plate_1",
           "C6",
           "Amiodarone",
           10
          ],
          [
           "220608_152238_Plate_1",
           "D6",
           "Amiodarone",
           10
          ],
          [
           "220617_090443_Plate_1",
           "B6",
           "Amiodarone",
           10
          ],
          [
           "231006_132517_Plate_1",
           "B9",
           "Amiodarone",
           10
          ],
          [
           "231006_132517_Plate_1",
           "B8",
           "Amiodarone",
           10
          ],
          [
           "231006_132517_Plate_1",
           "B7",
           "Amiodarone",
           10
          ],
          [
           "231006_132517_Plate_1",
           "B6",
           "Amiodarone",
           10
          ],
          [
           "220608_152238_Plate_1",
           "B6",
           "Amiodarone",
           10
          ]
         ],
         "hovertemplate": "colors_plot_col=Amiodarone<br>0=%{x}<br>1=%{y}<br>2=%{z}<br>Metadata_size=%{marker.size}<br>Metadata_Plate=%{customdata[0]}<br>Metadata_Well=%{customdata[1]}<br>Metadata_compound=%{customdata[2]}<br>Metadata_concentration_uM=%{customdata[3]}<extra></extra>",
         "legendgroup": "Amiodarone",
         "marker": {
          "color": "#33a02c",
          "size": [
           1,
           1,
           1,
           1,
           1,
           1,
           1,
           1,
           1,
           1,
           1,
           1,
           1,
           1,
           1,
           1,
           1,
           10,
           10,
           10,
           10,
           10,
           10,
           10,
           10,
           10,
           10,
           10,
           10,
           10,
           10,
           10,
           10,
           10
          ],
          "sizemode": "area",
          "sizeref": 0.025,
          "symbol": "circle"
         },
         "mode": "markers",
         "name": "Amiodarone",
         "scene": "scene",
         "showlegend": true,
         "type": "scatter3d",
         "x": [
          -6.139466762542725,
          -5.221851348876953,
          -8.342552185058594,
          -8.184111595153809,
          -7.150023937225342,
          -8.372976303100586,
          -8.006410598754883,
          -4.728817462921143,
          -5.074450492858887,
          -7.591147422790527,
          -6.131176948547363,
          -8.240806579589844,
          -7.915158748626709,
          -8.957853317260742,
          -8.446744918823242,
          -7.863189220428467,
          -9.234428405761719,
          -8.728569030761719,
          -6.835235118865967,
          -5.096938133239746,
          -8.605202674865723,
          -8.155862808227539,
          -8.476197242736816,
          -8.70971965789795,
          -8.668242454528809,
          -7.432982921600342,
          -8.236898422241211,
          -8.064493179321289,
          -5.458268642425537,
          -8.487245559692383,
          -8.163453102111816,
          -7.878481388092041,
          -8.159483909606934,
          -9.022738456726074
         ],
         "y": [
          12.619562149047852,
          10.955506324768066,
          11.6013822555542,
          11.493890762329102,
          9.140227317810059,
          9.540129661560059,
          11.131767272949219,
          13.042845726013184,
          12.752233505249023,
          9.161370277404785,
          10.132148742675781,
          10.228019714355469,
          10.106965065002441,
          10.460415840148926,
          9.945213317871094,
          9.726753234863281,
          11.11230182647705,
          9.492668151855469,
          9.931632995605469,
          10.236089706420898,
          9.756172180175781,
          10.346839904785156,
          10.133308410644531,
          9.972017288208008,
          10.648648262023926,
          9.744292259216309,
          10.467001914978027,
          10.235321998596191,
          13.603925704956055,
          10.466469764709473,
          10.312039375305176,
          10.88464641571045,
          11.02713394165039,
          10.6334810256958
         ],
         "z": [
          11.778132438659668,
          11.232198715209961,
          12.405584335327148,
          12.200719833374023,
          12.331584930419922,
          10.822198867797852,
          13.565346717834473,
          10.080619812011719,
          10.283103942871094,
          11.1996431350708,
          10.705105781555176,
          11.031059265136719,
          11.259664535522461,
          12.190003395080566,
          11.845132827758789,
          11.050117492675781,
          12.273456573486328,
          10.580924987792969,
          12.853394508361816,
          10.544883728027344,
          9.747124671936035,
          9.987089157104492,
          9.626401901245117,
          10.285002708435059,
          10.369897842407227,
          10.778042793273926,
          10.183326721191406,
          10.631843566894531,
          13.048460960388184,
          11.805120468139648,
          12.227967262268066,
          11.253288269042969,
          11.331202507019043,
          10.95883560180664
         ]
        },
        {
         "customdata": [
          [
           "220617_090443_Plate_1",
           "D9",
           "Etoposide",
           1
          ],
          [
           "220617_090443_Plate_1",
           "C9",
           "Etoposide",
           1
          ],
          [
           "220617_090443_Plate_1",
           "B9",
           "Etoposide",
           1
          ],
          [
           "231006_132517_Plate_1",
           "E2",
           "Etoposide",
           1
          ],
          [
           "231006_132517_Plate_1",
           "E4",
           "Etoposide",
           1
          ],
          [
           "231011_183822_Plate_1",
           "G9",
           "Etoposide",
           1
          ],
          [
           "231011_183822_Plate_1",
           "G8",
           "Etoposide",
           1
          ],
          [
           "231011_183822_Plate_1",
           "G7",
           "Etoposide",
           1
          ],
          [
           "231011_183822_Plate_1",
           "G6",
           "Etoposide",
           1
          ],
          [
           "231006_132517_Plate_1",
           "E5",
           "Etoposide",
           1
          ],
          [
           "231006_132517_Plate_1",
           "E3",
           "Etoposide",
           1
          ],
          [
           "220608_152238_Plate_1",
           "C9",
           "Etoposide",
           1
          ],
          [
           "220607_092050_Plate_1",
           "C9",
           "Etoposide",
           1
          ],
          [
           "220608_152238_Plate_1",
           "B9",
           "Etoposide",
           1
          ],
          [
           "220607_092050_Plate_1",
           "D9",
           "Etoposide",
           1
          ],
          [
           "220607_092050_Plate_1",
           "B9",
           "Etoposide",
           1
          ],
          [
           "220608_152238_Plate_1",
           "D9",
           "Etoposide",
           1
          ],
          [
           "231011_183822_Plate_1",
           "G5",
           "Etoposide",
           10
          ],
          [
           "220607_092050_Plate_1",
           "D10",
           "Etoposide",
           10
          ],
          [
           "231011_183822_Plate_1",
           "G4",
           "Etoposide",
           10
          ],
          [
           "231011_183822_Plate_1",
           "G3",
           "Etoposide",
           10
          ],
          [
           "220607_092050_Plate_1",
           "B10",
           "Etoposide",
           10
          ],
          [
           "220607_092050_Plate_1",
           "C10",
           "Etoposide",
           10
          ],
          [
           "231011_183822_Plate_1",
           "G2",
           "Etoposide",
           10
          ],
          [
           "231006_132517_Plate_1",
           "E8",
           "Etoposide",
           10
          ],
          [
           "220617_090443_Plate_1",
           "D10",
           "Etoposide",
           10
          ],
          [
           "220617_090443_Plate_1",
           "C10",
           "Etoposide",
           10
          ],
          [
           "220608_152238_Plate_1",
           "C10",
           "Etoposide",
           10
          ],
          [
           "220617_090443_Plate_1",
           "B10",
           "Etoposide",
           10
          ],
          [
           "220608_152238_Plate_1",
           "D10",
           "Etoposide",
           10
          ],
          [
           "231006_132517_Plate_1",
           "E9",
           "Etoposide",
           10
          ],
          [
           "231006_132517_Plate_1",
           "E7",
           "Etoposide",
           10
          ],
          [
           "231006_132517_Plate_1",
           "E6",
           "Etoposide",
           10
          ],
          [
           "220608_152238_Plate_1",
           "B10",
           "Etoposide",
           10
          ]
         ],
         "hovertemplate": "colors_plot_col=Etoposide<br>0=%{x}<br>1=%{y}<br>2=%{z}<br>Metadata_size=%{marker.size}<br>Metadata_Plate=%{customdata[0]}<br>Metadata_Well=%{customdata[1]}<br>Metadata_compound=%{customdata[2]}<br>Metadata_concentration_uM=%{customdata[3]}<extra></extra>",
         "legendgroup": "Etoposide",
         "marker": {
          "color": "#ff7f00",
          "size": [
           1,
           1,
           1,
           1,
           1,
           1,
           1,
           1,
           1,
           1,
           1,
           1,
           1,
           1,
           1,
           1,
           1,
           10,
           10,
           10,
           10,
           10,
           10,
           10,
           10,
           10,
           10,
           10,
           10,
           10,
           10,
           10,
           10,
           10
          ],
          "sizemode": "area",
          "sizeref": 0.025,
          "symbol": "circle"
         },
         "mode": "markers",
         "name": "Etoposide",
         "scene": "scene",
         "showlegend": true,
         "type": "scatter3d",
         "x": [
          -4.604813098907471,
          -4.612453460693359,
          -5.534590244293213,
          -4.360523223876953,
          -4.52669095993042,
          -4.363132953643799,
          -4.631435394287109,
          -5.340793609619141,
          -6.447895526885986,
          -5.232606410980225,
          -4.408970355987549,
          -4.905735015869141,
          -4.513246059417725,
          -6.745483875274658,
          -5.138263702392578,
          -5.750546455383301,
          -4.425780773162842,
          -5.097094535827637,
          -4.629077911376953,
          -4.714736461639404,
          -4.7148118019104,
          -4.901156902313232,
          -4.849620819091797,
          -5.069502830505371,
          -4.811844825744629,
          -5.162517547607422,
          -5.431209564208984,
          -4.974471569061279,
          -5.314316272735596,
          -4.730953216552734,
          -4.691176891326904,
          -5.9314398765563965,
          -4.871246337890625,
          -6.051358222961426
         ],
         "y": [
          10.615043640136719,
          11.312169075012207,
          11.98962688446045,
          10.74700927734375,
          10.525548934936523,
          10.659512519836426,
          10.423273086547852,
          10.468070983886719,
          10.838194847106934,
          11.12557601928711,
          10.625038146972656,
          11.584037780761719,
          11.482705116271973,
          10.94021987915039,
          10.7438383102417,
          11.225768089294434,
          10.705146789550781,
          10.761963844299316,
          11.251823425292969,
          10.988410949707031,
          11.674154281616211,
          12.082642555236816,
          12.221639633178711,
          11.096434593200684,
          11.066344261169434,
          11.13698959350586,
          11.399557113647461,
          11.828343391418457,
          11.696202278137207,
          10.967781066894531,
          11.745949745178223,
          11.503730773925781,
          11.419468879699707,
          10.6850004196167
         ],
         "z": [
          13.465435981750488,
          13.938681602478027,
          14.244624137878418,
          13.962525367736816,
          10.938987731933594,
          13.212823867797852,
          12.880732536315918,
          12.852211952209473,
          11.608189582824707,
          14.801392555236816,
          11.144266128540039,
          14.606318473815918,
          13.808104515075684,
          13.719221115112305,
          14.192278861999512,
          14.309713363647461,
          13.97216510772705,
          12.719518661499023,
          14.341862678527832,
          12.877093315124512,
          13.223077774047852,
          13.649579048156738,
          14.088933944702148,
          13.131634712219238,
          14.807659149169922,
          13.569497108459473,
          14.007203102111816,
          13.747519493103027,
          14.344377517700195,
          14.320805549621582,
          14.702271461486816,
          13.996459007263184,
          14.963261604309082,
          13.607133865356445
         ]
        },
        {
         "customdata": [
          [
           "231006_132517_Plate_1",
           "F9",
           "Orphenadrine",
           10
          ],
          [
           "231006_132517_Plate_1",
           "F8",
           "Orphenadrine",
           10
          ],
          [
           "231006_132517_Plate_1",
           "F7",
           "Orphenadrine",
           10
          ],
          [
           "231006_132517_Plate_1",
           "F6",
           "Orphenadrine",
           10
          ],
          [
           "231011_183822_Plate_1",
           "D5",
           "Orphenadrine",
           10
          ],
          [
           "231011_183822_Plate_1",
           "D4",
           "Orphenadrine",
           10
          ],
          [
           "231011_183822_Plate_1",
           "D3",
           "Orphenadrine",
           10
          ],
          [
           "231011_183822_Plate_1",
           "D2",
           "Orphenadrine",
           10
          ],
          [
           "220608_152238_Plate_1",
           "G6",
           "Orphenadrine",
           10
          ],
          [
           "220608_152238_Plate_1",
           "F6",
           "Orphenadrine",
           10
          ],
          [
           "220608_152238_Plate_1",
           "E6",
           "Orphenadrine",
           10
          ],
          [
           "220617_090443_Plate_1",
           "E6",
           "Orphenadrine",
           10
          ],
          [
           "220617_090443_Plate_1",
           "F6",
           "Orphenadrine",
           10
          ],
          [
           "220607_092050_Plate_1",
           "E6",
           "Orphenadrine",
           10
          ],
          [
           "220607_092050_Plate_1",
           "F6",
           "Orphenadrine",
           10
          ],
          [
           "220607_092050_Plate_1",
           "G6",
           "Orphenadrine",
           10
          ],
          [
           "220617_090443_Plate_1",
           "G6",
           "Orphenadrine",
           10
          ]
         ],
         "hovertemplate": "colors_plot_col=Orphenadrine<br>0=%{x}<br>1=%{y}<br>2=%{z}<br>Metadata_size=%{marker.size}<br>Metadata_Plate=%{customdata[0]}<br>Metadata_Well=%{customdata[1]}<br>Metadata_compound=%{customdata[2]}<br>Metadata_concentration_uM=%{customdata[3]}<extra></extra>",
         "legendgroup": "Orphenadrine",
         "marker": {
          "color": "#a6cee3",
          "size": [
           10,
           10,
           10,
           10,
           10,
           10,
           10,
           10,
           10,
           10,
           10,
           10,
           10,
           10,
           10,
           10,
           10
          ],
          "sizemode": "area",
          "sizeref": 0.025,
          "symbol": "circle"
         },
         "mode": "markers",
         "name": "Orphenadrine",
         "scene": "scene",
         "showlegend": true,
         "type": "scatter3d",
         "x": [
          -4.079036712646484,
          -4.027113437652588,
          -4.046666145324707,
          -4.357346057891846,
          -3.8533670902252197,
          -3.8857996463775635,
          -3.8653881549835205,
          -4.315003871917725,
          -4.448009967803955,
          -4.023697376251221,
          -4.419052600860596,
          -4.203384876251221,
          -4.139129161834717,
          -4.406604766845703,
          -3.9225873947143555,
          -3.8984057903289795,
          -4.0080156326293945
         ],
         "y": [
          11.50222396850586,
          11.787435531616211,
          11.483270645141602,
          11.565428733825684,
          13.098387718200684,
          13.452552795410156,
          13.133099555969238,
          12.986595153808594,
          12.500890731811523,
          12.709983825683594,
          13.432150840759277,
          13.412981986999512,
          12.369955062866211,
          13.622906684875488,
          12.167196273803711,
          12.231971740722656,
          12.65344524383545
         ],
         "z": [
          9.677579879760742,
          9.478180885314941,
          10.050468444824219,
          10.062126159667969,
          10.106293678283691,
          10.551115989685059,
          10.176427841186523,
          9.995637893676758,
          9.47684383392334,
          10.297706604003906,
          10.8750638961792,
          10.700019836425781,
          10.015449523925781,
          11.1363525390625,
          9.821680068969727,
          9.569250106811523,
          9.744972229003906
         ]
        }
       ],
       "layout": {
        "autosize": false,
        "font": {
         "size": 18
        },
        "height": 700,
        "legend": {
         "itemsizing": "constant",
         "title": {
          "text": "Metadata_compound"
         },
         "tracegroupgap": 0
        },
        "margin": {
         "b": 20,
         "l": 50,
         "pad": 4,
         "r": 50,
         "t": 50
        },
        "scene": {
         "domain": {
          "x": [
           0,
           1
          ],
          "y": [
           0,
           1
          ]
         },
         "xaxis": {
          "title": {
           "text": "0"
          }
         },
         "yaxis": {
          "title": {
           "text": "1"
          }
         },
         "zaxis": {
          "title": {
           "text": "2"
          }
         }
        },
        "template": {
         "data": {
          "bar": [
           {
            "error_x": {
             "color": "#2a3f5f"
            },
            "error_y": {
             "color": "#2a3f5f"
            },
            "marker": {
             "line": {
              "color": "#E5ECF6",
              "width": 0.5
             },
             "pattern": {
              "fillmode": "overlay",
              "size": 10,
              "solidity": 0.2
             }
            },
            "type": "bar"
           }
          ],
          "barpolar": [
           {
            "marker": {
             "line": {
              "color": "#E5ECF6",
              "width": 0.5
             },
             "pattern": {
              "fillmode": "overlay",
              "size": 10,
              "solidity": 0.2
             }
            },
            "type": "barpolar"
           }
          ],
          "carpet": [
           {
            "aaxis": {
             "endlinecolor": "#2a3f5f",
             "gridcolor": "white",
             "linecolor": "white",
             "minorgridcolor": "white",
             "startlinecolor": "#2a3f5f"
            },
            "baxis": {
             "endlinecolor": "#2a3f5f",
             "gridcolor": "white",
             "linecolor": "white",
             "minorgridcolor": "white",
             "startlinecolor": "#2a3f5f"
            },
            "type": "carpet"
           }
          ],
          "choropleth": [
           {
            "colorbar": {
             "outlinewidth": 0,
             "ticks": ""
            },
            "type": "choropleth"
           }
          ],
          "contour": [
           {
            "colorbar": {
             "outlinewidth": 0,
             "ticks": ""
            },
            "colorscale": [
             [
              0,
              "#0d0887"
             ],
             [
              0.1111111111111111,
              "#46039f"
             ],
             [
              0.2222222222222222,
              "#7201a8"
             ],
             [
              0.3333333333333333,
              "#9c179e"
             ],
             [
              0.4444444444444444,
              "#bd3786"
             ],
             [
              0.5555555555555556,
              "#d8576b"
             ],
             [
              0.6666666666666666,
              "#ed7953"
             ],
             [
              0.7777777777777778,
              "#fb9f3a"
             ],
             [
              0.8888888888888888,
              "#fdca26"
             ],
             [
              1,
              "#f0f921"
             ]
            ],
            "type": "contour"
           }
          ],
          "contourcarpet": [
           {
            "colorbar": {
             "outlinewidth": 0,
             "ticks": ""
            },
            "type": "contourcarpet"
           }
          ],
          "heatmap": [
           {
            "colorbar": {
             "outlinewidth": 0,
             "ticks": ""
            },
            "colorscale": [
             [
              0,
              "#0d0887"
             ],
             [
              0.1111111111111111,
              "#46039f"
             ],
             [
              0.2222222222222222,
              "#7201a8"
             ],
             [
              0.3333333333333333,
              "#9c179e"
             ],
             [
              0.4444444444444444,
              "#bd3786"
             ],
             [
              0.5555555555555556,
              "#d8576b"
             ],
             [
              0.6666666666666666,
              "#ed7953"
             ],
             [
              0.7777777777777778,
              "#fb9f3a"
             ],
             [
              0.8888888888888888,
              "#fdca26"
             ],
             [
              1,
              "#f0f921"
             ]
            ],
            "type": "heatmap"
           }
          ],
          "heatmapgl": [
           {
            "colorbar": {
             "outlinewidth": 0,
             "ticks": ""
            },
            "colorscale": [
             [
              0,
              "#0d0887"
             ],
             [
              0.1111111111111111,
              "#46039f"
             ],
             [
              0.2222222222222222,
              "#7201a8"
             ],
             [
              0.3333333333333333,
              "#9c179e"
             ],
             [
              0.4444444444444444,
              "#bd3786"
             ],
             [
              0.5555555555555556,
              "#d8576b"
             ],
             [
              0.6666666666666666,
              "#ed7953"
             ],
             [
              0.7777777777777778,
              "#fb9f3a"
             ],
             [
              0.8888888888888888,
              "#fdca26"
             ],
             [
              1,
              "#f0f921"
             ]
            ],
            "type": "heatmapgl"
           }
          ],
          "histogram": [
           {
            "marker": {
             "pattern": {
              "fillmode": "overlay",
              "size": 10,
              "solidity": 0.2
             }
            },
            "type": "histogram"
           }
          ],
          "histogram2d": [
           {
            "colorbar": {
             "outlinewidth": 0,
             "ticks": ""
            },
            "colorscale": [
             [
              0,
              "#0d0887"
             ],
             [
              0.1111111111111111,
              "#46039f"
             ],
             [
              0.2222222222222222,
              "#7201a8"
             ],
             [
              0.3333333333333333,
              "#9c179e"
             ],
             [
              0.4444444444444444,
              "#bd3786"
             ],
             [
              0.5555555555555556,
              "#d8576b"
             ],
             [
              0.6666666666666666,
              "#ed7953"
             ],
             [
              0.7777777777777778,
              "#fb9f3a"
             ],
             [
              0.8888888888888888,
              "#fdca26"
             ],
             [
              1,
              "#f0f921"
             ]
            ],
            "type": "histogram2d"
           }
          ],
          "histogram2dcontour": [
           {
            "colorbar": {
             "outlinewidth": 0,
             "ticks": ""
            },
            "colorscale": [
             [
              0,
              "#0d0887"
             ],
             [
              0.1111111111111111,
              "#46039f"
             ],
             [
              0.2222222222222222,
              "#7201a8"
             ],
             [
              0.3333333333333333,
              "#9c179e"
             ],
             [
              0.4444444444444444,
              "#bd3786"
             ],
             [
              0.5555555555555556,
              "#d8576b"
             ],
             [
              0.6666666666666666,
              "#ed7953"
             ],
             [
              0.7777777777777778,
              "#fb9f3a"
             ],
             [
              0.8888888888888888,
              "#fdca26"
             ],
             [
              1,
              "#f0f921"
             ]
            ],
            "type": "histogram2dcontour"
           }
          ],
          "mesh3d": [
           {
            "colorbar": {
             "outlinewidth": 0,
             "ticks": ""
            },
            "type": "mesh3d"
           }
          ],
          "parcoords": [
           {
            "line": {
             "colorbar": {
              "outlinewidth": 0,
              "ticks": ""
             }
            },
            "type": "parcoords"
           }
          ],
          "pie": [
           {
            "automargin": true,
            "type": "pie"
           }
          ],
          "scatter": [
           {
            "fillpattern": {
             "fillmode": "overlay",
             "size": 10,
             "solidity": 0.2
            },
            "type": "scatter"
           }
          ],
          "scatter3d": [
           {
            "line": {
             "colorbar": {
              "outlinewidth": 0,
              "ticks": ""
             }
            },
            "marker": {
             "colorbar": {
              "outlinewidth": 0,
              "ticks": ""
             }
            },
            "type": "scatter3d"
           }
          ],
          "scattercarpet": [
           {
            "marker": {
             "colorbar": {
              "outlinewidth": 0,
              "ticks": ""
             }
            },
            "type": "scattercarpet"
           }
          ],
          "scattergeo": [
           {
            "marker": {
             "colorbar": {
              "outlinewidth": 0,
              "ticks": ""
             }
            },
            "type": "scattergeo"
           }
          ],
          "scattergl": [
           {
            "marker": {
             "colorbar": {
              "outlinewidth": 0,
              "ticks": ""
             }
            },
            "type": "scattergl"
           }
          ],
          "scattermapbox": [
           {
            "marker": {
             "colorbar": {
              "outlinewidth": 0,
              "ticks": ""
             }
            },
            "type": "scattermapbox"
           }
          ],
          "scatterpolar": [
           {
            "marker": {
             "colorbar": {
              "outlinewidth": 0,
              "ticks": ""
             }
            },
            "type": "scatterpolar"
           }
          ],
          "scatterpolargl": [
           {
            "marker": {
             "colorbar": {
              "outlinewidth": 0,
              "ticks": ""
             }
            },
            "type": "scatterpolargl"
           }
          ],
          "scatterternary": [
           {
            "marker": {
             "colorbar": {
              "outlinewidth": 0,
              "ticks": ""
             }
            },
            "type": "scatterternary"
           }
          ],
          "surface": [
           {
            "colorbar": {
             "outlinewidth": 0,
             "ticks": ""
            },
            "colorscale": [
             [
              0,
              "#0d0887"
             ],
             [
              0.1111111111111111,
              "#46039f"
             ],
             [
              0.2222222222222222,
              "#7201a8"
             ],
             [
              0.3333333333333333,
              "#9c179e"
             ],
             [
              0.4444444444444444,
              "#bd3786"
             ],
             [
              0.5555555555555556,
              "#d8576b"
             ],
             [
              0.6666666666666666,
              "#ed7953"
             ],
             [
              0.7777777777777778,
              "#fb9f3a"
             ],
             [
              0.8888888888888888,
              "#fdca26"
             ],
             [
              1,
              "#f0f921"
             ]
            ],
            "type": "surface"
           }
          ],
          "table": [
           {
            "cells": {
             "fill": {
              "color": "#EBF0F8"
             },
             "line": {
              "color": "white"
             }
            },
            "header": {
             "fill": {
              "color": "#C8D4E3"
             },
             "line": {
              "color": "white"
             }
            },
            "type": "table"
           }
          ]
         },
         "layout": {
          "annotationdefaults": {
           "arrowcolor": "#2a3f5f",
           "arrowhead": 0,
           "arrowwidth": 1
          },
          "autotypenumbers": "strict",
          "coloraxis": {
           "colorbar": {
            "outlinewidth": 0,
            "ticks": ""
           }
          },
          "colorscale": {
           "diverging": [
            [
             0,
             "#8e0152"
            ],
            [
             0.1,
             "#c51b7d"
            ],
            [
             0.2,
             "#de77ae"
            ],
            [
             0.3,
             "#f1b6da"
            ],
            [
             0.4,
             "#fde0ef"
            ],
            [
             0.5,
             "#f7f7f7"
            ],
            [
             0.6,
             "#e6f5d0"
            ],
            [
             0.7,
             "#b8e186"
            ],
            [
             0.8,
             "#7fbc41"
            ],
            [
             0.9,
             "#4d9221"
            ],
            [
             1,
             "#276419"
            ]
           ],
           "sequential": [
            [
             0,
             "#0d0887"
            ],
            [
             0.1111111111111111,
             "#46039f"
            ],
            [
             0.2222222222222222,
             "#7201a8"
            ],
            [
             0.3333333333333333,
             "#9c179e"
            ],
            [
             0.4444444444444444,
             "#bd3786"
            ],
            [
             0.5555555555555556,
             "#d8576b"
            ],
            [
             0.6666666666666666,
             "#ed7953"
            ],
            [
             0.7777777777777778,
             "#fb9f3a"
            ],
            [
             0.8888888888888888,
             "#fdca26"
            ],
            [
             1,
             "#f0f921"
            ]
           ],
           "sequentialminus": [
            [
             0,
             "#0d0887"
            ],
            [
             0.1111111111111111,
             "#46039f"
            ],
            [
             0.2222222222222222,
             "#7201a8"
            ],
            [
             0.3333333333333333,
             "#9c179e"
            ],
            [
             0.4444444444444444,
             "#bd3786"
            ],
            [
             0.5555555555555556,
             "#d8576b"
            ],
            [
             0.6666666666666666,
             "#ed7953"
            ],
            [
             0.7777777777777778,
             "#fb9f3a"
            ],
            [
             0.8888888888888888,
             "#fdca26"
            ],
            [
             1,
             "#f0f921"
            ]
           ]
          },
          "colorway": [
           "#636efa",
           "#EF553B",
           "#00cc96",
           "#ab63fa",
           "#FFA15A",
           "#19d3f3",
           "#FF6692",
           "#B6E880",
           "#FF97FF",
           "#FECB52"
          ],
          "font": {
           "color": "#2a3f5f"
          },
          "geo": {
           "bgcolor": "white",
           "lakecolor": "white",
           "landcolor": "#E5ECF6",
           "showlakes": true,
           "showland": true,
           "subunitcolor": "white"
          },
          "hoverlabel": {
           "align": "left"
          },
          "hovermode": "closest",
          "mapbox": {
           "style": "light"
          },
          "paper_bgcolor": "white",
          "plot_bgcolor": "#E5ECF6",
          "polar": {
           "angularaxis": {
            "gridcolor": "white",
            "linecolor": "white",
            "ticks": ""
           },
           "bgcolor": "#E5ECF6",
           "radialaxis": {
            "gridcolor": "white",
            "linecolor": "white",
            "ticks": ""
           }
          },
          "scene": {
           "xaxis": {
            "backgroundcolor": "#E5ECF6",
            "gridcolor": "white",
            "gridwidth": 2,
            "linecolor": "white",
            "showbackground": true,
            "ticks": "",
            "zerolinecolor": "white"
           },
           "yaxis": {
            "backgroundcolor": "#E5ECF6",
            "gridcolor": "white",
            "gridwidth": 2,
            "linecolor": "white",
            "showbackground": true,
            "ticks": "",
            "zerolinecolor": "white"
           },
           "zaxis": {
            "backgroundcolor": "#E5ECF6",
            "gridcolor": "white",
            "gridwidth": 2,
            "linecolor": "white",
            "showbackground": true,
            "ticks": "",
            "zerolinecolor": "white"
           }
          },
          "shapedefaults": {
           "line": {
            "color": "#2a3f5f"
           }
          },
          "ternary": {
           "aaxis": {
            "gridcolor": "white",
            "linecolor": "white",
            "ticks": ""
           },
           "baxis": {
            "gridcolor": "white",
            "linecolor": "white",
            "ticks": ""
           },
           "bgcolor": "#E5ECF6",
           "caxis": {
            "gridcolor": "white",
            "linecolor": "white",
            "ticks": ""
           }
          },
          "title": {
           "x": 0.05
          },
          "xaxis": {
           "automargin": true,
           "gridcolor": "white",
           "linecolor": "white",
           "ticks": "",
           "title": {
            "standoff": 15
           },
           "zerolinecolor": "white",
           "zerolinewidth": 2
          },
          "yaxis": {
           "automargin": true,
           "gridcolor": "white",
           "linecolor": "white",
           "ticks": "",
           "title": {
            "standoff": 15
           },
           "zerolinecolor": "white",
           "zerolinewidth": 2
          }
         }
        },
        "title": {
         "text": "Size defined by Metadata_concentration_uM"
        },
        "updatemenus": [
         {
          "buttons": [
           {
            "args": [
             "visible",
             "legendonly"
            ],
            "label": "Deselect All",
            "method": "restyle"
           },
           {
            "args": [
             "visible",
             true
            ],
            "label": "Select All",
            "method": "restyle"
           }
          ],
          "direction": "left",
          "pad": {
           "r": 5,
           "t": 5
          },
          "showactive": true,
          "type": "buttons",
          "x": 1,
          "xanchor": "left",
          "y": 1.1,
          "yanchor": "top"
         }
        ],
        "width": 900
       }
      }
     },
     "metadata": {},
     "output_type": "display_data"
    },
    {
     "data": {
      "application/vnd.plotly.v1+json": {
       "config": {
        "plotlyServerURL": "https://plot.ly",
        "toImageButtonOptions": {
         "filename": "custom_image",
         "format": "svg",
         "height": 500,
         "scale": 6,
         "width": 700
        }
       },
       "data": [
        {
         "customdata": [
          [
           "220608_152238_Plate_1",
           "C3",
           "Aspirin",
           1
          ],
          [
           "231011_183822_Plate_1",
           "B8",
           "Aspirin",
           1
          ],
          [
           "231011_183822_Plate_1",
           "C7",
           "Cyclophosphamide",
           1
          ],
          [
           "231006_132517_Plate_1",
           "B5",
           "Amiodarone",
           1
          ],
          [
           "220607_092050_Plate_1",
           "C3",
           "Aspirin",
           1
          ],
          [
           "231011_183822_Plate_1",
           "B6",
           "Aspirin",
           1
          ],
          [
           "231011_183822_Plate_1",
           "B7",
           "Aspirin",
           1
          ],
          [
           "231006_132517_Plate_1",
           "B10",
           "Cyclophosphamide",
           1
          ],
          [
           "231011_183822_Plate_1",
           "C9",
           "Cyclophosphamide",
           1
          ],
          [
           "231006_132517_Plate_1",
           "C5",
           "Lovastatin",
           1
          ],
          [
           "220617_090443_Plate_1",
           "B6",
           "Amiodarone",
           10
          ],
          [
           "220608_152238_Plate_1",
           "E4",
           "Lovastatin",
           10
          ],
          [
           "231011_183822_Plate_1",
           "C5",
           "Cyclophosphamide",
           10
          ],
          [
           "231011_183822_Plate_1",
           "C4",
           "Cyclophosphamide",
           10
          ],
          [
           "220607_092050_Plate_1",
           "E6",
           "Orphenadrine",
           10
          ],
          [
           "231006_132517_Plate_1",
           "C11",
           "Cyclophosphamide",
           10
          ],
          [
           "231011_183822_Plate_1",
           "C3",
           "Cyclophosphamide",
           10
          ],
          [
           "231011_183822_Plate_1",
           "C2",
           "Cyclophosphamide",
           10
          ],
          [
           "231011_183822_Plate_1",
           "B5",
           "Aspirin",
           10
          ],
          [
           "231011_183822_Plate_1",
           "B4",
           "Aspirin",
           10
          ],
          [
           "231011_183822_Plate_1",
           "B3",
           "Aspirin",
           10
          ],
          [
           "231011_183822_Plate_1",
           "B2",
           "Aspirin",
           10
          ]
         ],
         "hovertemplate": "colors_plot_col=0<br>0=%{x}<br>1=%{y}<br>2=%{z}<br>Metadata_size=%{marker.size}<br>Metadata_Plate=%{customdata[0]}<br>Metadata_Well=%{customdata[1]}<br>Metadata_compound=%{customdata[2]}<br>Metadata_concentration_uM=%{customdata[3]}<extra></extra>",
         "legendgroup": "0",
         "marker": {
          "color": "rgb(12,51,131)",
          "size": [
           1,
           1,
           1,
           1,
           1,
           1,
           1,
           1,
           1,
           1,
           10,
           10,
           10,
           10,
           10,
           10,
           10,
           10,
           10,
           10,
           10,
           10
          ],
          "sizemode": "area",
          "sizeref": 0.025,
          "symbol": "circle"
         },
         "mode": "markers",
         "name": "0",
         "scene": "scene",
         "showlegend": true,
         "type": "scatter3d",
         "x": [
          -6.881530284881592,
          -6.373748302459717,
          -5.629855155944824,
          -6.139466762542725,
          -7.1114091873168945,
          -5.353710174560547,
          -5.850466251373291,
          -6.094820976257324,
          -5.871368885040283,
          -6.833718776702881,
          -5.458268642425537,
          -4.980319976806641,
          -5.926543712615967,
          -6.590109348297119,
          -4.406604766845703,
          -6.607097148895264,
          -5.885478496551514,
          -6.371960639953613,
          -6.038998603820801,
          -5.686520576477051,
          -5.494953155517578,
          -5.442949295043945
         ],
         "y": [
          12.519145965576172,
          13.501442909240723,
          13.670794486999512,
          12.619562149047852,
          12.384272575378418,
          13.750876426696777,
          12.961064338684082,
          12.404199600219727,
          13.301714897155762,
          12.350198745727539,
          13.603925704956055,
          13.878722190856934,
          13.650511741638184,
          12.983281135559082,
          13.622906684875488,
          13.153769493103027,
          13.297218322753906,
          12.6943941116333,
          13.477949142456055,
          13.153264045715332,
          13.298521995544434,
          13.619202613830566
         ],
         "z": [
          11.569938659667969,
          12.565776824951172,
          12.400537490844727,
          11.778132438659668,
          12.114344596862793,
          11.873861312866211,
          12.730895042419434,
          12.643511772155762,
          12.912779808044434,
          10.89309310913086,
          13.048460960388184,
          12.018379211425781,
          12.921955108642578,
          13.277220726013184,
          11.1363525390625,
          11.689229965209961,
          13.519366264343262,
          13.889466285705566,
          11.934368133544922,
          11.831053733825684,
          11.4086332321167,
          11.482884407043457
         ]
        },
        {
         "customdata": [
          [
           "231011_183822_Plate_1",
           "G8",
           "Etoposide",
           1
          ],
          [
           "231011_183822_Plate_1",
           "G9",
           "Etoposide",
           1
          ],
          [
           "220608_152238_Plate_1",
           "C9",
           "Etoposide",
           1
          ],
          [
           "220607_092050_Plate_1",
           "C9",
           "Etoposide",
           1
          ],
          [
           "220607_092050_Plate_1",
           "D9",
           "Etoposide",
           1
          ],
          [
           "220607_092050_Plate_1",
           "B9",
           "Etoposide",
           1
          ],
          [
           "231011_183822_Plate_1",
           "G7",
           "Etoposide",
           1
          ],
          [
           "231006_132517_Plate_1",
           "E5",
           "Etoposide",
           1
          ],
          [
           "231006_132517_Plate_1",
           "E2",
           "Etoposide",
           1
          ],
          [
           "220617_090443_Plate_1",
           "D9",
           "Etoposide",
           1
          ],
          [
           "231006_132517_Plate_1",
           "C10",
           "Cyclophosphamide",
           1
          ],
          [
           "220617_090443_Plate_1",
           "B9",
           "Etoposide",
           1
          ],
          [
           "220608_152238_Plate_1",
           "D9",
           "Etoposide",
           1
          ],
          [
           "220617_090443_Plate_1",
           "C9",
           "Etoposide",
           1
          ],
          [
           "231006_132517_Plate_1",
           "E11",
           "Cyclophosphamide",
           10
          ],
          [
           "220617_090443_Plate_1",
           "D10",
           "Etoposide",
           10
          ],
          [
           "231006_132517_Plate_1",
           "E8",
           "Etoposide",
           10
          ],
          [
           "220617_090443_Plate_1",
           "B10",
           "Etoposide",
           10
          ],
          [
           "231006_132517_Plate_1",
           "E7",
           "Etoposide",
           10
          ],
          [
           "231006_132517_Plate_1",
           "E6",
           "Etoposide",
           10
          ],
          [
           "220608_152238_Plate_1",
           "D10",
           "Etoposide",
           10
          ],
          [
           "231006_132517_Plate_1",
           "B11",
           "Cyclophosphamide",
           10
          ],
          [
           "231006_132517_Plate_1",
           "C8",
           "Lovastatin",
           10
          ],
          [
           "231006_132517_Plate_1",
           "E9",
           "Etoposide",
           10
          ],
          [
           "220607_092050_Plate_1",
           "D10",
           "Etoposide",
           10
          ],
          [
           "231011_183822_Plate_1",
           "G2",
           "Etoposide",
           10
          ],
          [
           "231011_183822_Plate_1",
           "G3",
           "Etoposide",
           10
          ],
          [
           "231011_183822_Plate_1",
           "G4",
           "Etoposide",
           10
          ],
          [
           "220608_152238_Plate_1",
           "B10",
           "Etoposide",
           10
          ],
          [
           "231006_132517_Plate_1",
           "G8",
           "Aspirin",
           10
          ],
          [
           "220608_152238_Plate_1",
           "C10",
           "Etoposide",
           10
          ],
          [
           "220617_090443_Plate_1",
           "C10",
           "Etoposide",
           10
          ],
          [
           "220607_092050_Plate_1",
           "C10",
           "Etoposide",
           10
          ],
          [
           "220607_092050_Plate_1",
           "B10",
           "Etoposide",
           10
          ],
          [
           "231011_183822_Plate_1",
           "G5",
           "Etoposide",
           10
          ]
         ],
         "hovertemplate": "colors_plot_col=3<br>0=%{x}<br>1=%{y}<br>2=%{z}<br>Metadata_size=%{marker.size}<br>Metadata_Plate=%{customdata[0]}<br>Metadata_Well=%{customdata[1]}<br>Metadata_compound=%{customdata[2]}<br>Metadata_concentration_uM=%{customdata[3]}<extra></extra>",
         "legendgroup": "3",
         "marker": {
          "color": "rgb(10,136,186)",
          "size": [
           1,
           1,
           1,
           1,
           1,
           1,
           1,
           1,
           1,
           1,
           1,
           1,
           1,
           1,
           10,
           10,
           10,
           10,
           10,
           10,
           10,
           10,
           10,
           10,
           10,
           10,
           10,
           10,
           10,
           10,
           10,
           10,
           10,
           10,
           10
          ],
          "sizemode": "area",
          "sizeref": 0.025,
          "symbol": "circle"
         },
         "mode": "markers",
         "name": "3",
         "scene": "scene",
         "showlegend": true,
         "type": "scatter3d",
         "x": [
          -4.631435394287109,
          -4.363132953643799,
          -4.905735015869141,
          -4.513246059417725,
          -5.138263702392578,
          -5.750546455383301,
          -5.340793609619141,
          -5.232606410980225,
          -4.360523223876953,
          -4.604813098907471,
          -5.570118427276611,
          -5.534590244293213,
          -4.425780773162842,
          -4.612453460693359,
          -5.867886543273926,
          -5.162517547607422,
          -4.811844825744629,
          -5.314316272735596,
          -5.9314398765563965,
          -4.871246337890625,
          -4.730953216552734,
          -5.8691511154174805,
          -6.044443130493164,
          -4.691176891326904,
          -4.629077911376953,
          -5.069502830505371,
          -4.7148118019104,
          -4.714736461639404,
          -6.051358222961426,
          -6.35549783706665,
          -4.974471569061279,
          -5.431209564208984,
          -4.849620819091797,
          -4.901156902313232,
          -5.097094535827637
         ],
         "y": [
          10.423273086547852,
          10.659512519836426,
          11.584037780761719,
          11.482705116271973,
          10.7438383102417,
          11.225768089294434,
          10.468070983886719,
          11.12557601928711,
          10.74700927734375,
          10.615043640136719,
          12.290489196777344,
          11.98962688446045,
          10.705146789550781,
          11.312169075012207,
          11.04992961883545,
          11.13698959350586,
          11.066344261169434,
          11.696202278137207,
          11.503730773925781,
          11.419468879699707,
          10.967781066894531,
          11.745597839355469,
          11.429483413696289,
          11.745949745178223,
          11.251823425292969,
          11.096434593200684,
          11.674154281616211,
          10.988410949707031,
          10.6850004196167,
          11.271910667419434,
          11.828343391418457,
          11.399557113647461,
          12.221639633178711,
          12.082642555236816,
          10.761963844299316
         ],
         "z": [
          12.880732536315918,
          13.212823867797852,
          14.606318473815918,
          13.808104515075684,
          14.192278861999512,
          14.309713363647461,
          12.852211952209473,
          14.801392555236816,
          13.962525367736816,
          13.465435981750488,
          13.578752517700195,
          14.244624137878418,
          13.97216510772705,
          13.938681602478027,
          12.091192245483398,
          13.569497108459473,
          14.807659149169922,
          14.344377517700195,
          13.996459007263184,
          14.963261604309082,
          14.320805549621582,
          12.954978942871094,
          12.678749084472656,
          14.702271461486816,
          14.341862678527832,
          13.131634712219238,
          13.223077774047852,
          12.877093315124512,
          13.607133865356445,
          13.149291038513184,
          13.747519493103027,
          14.007203102111816,
          14.088933944702148,
          13.649579048156738,
          12.719518661499023
         ]
        },
        {
         "customdata": [
          [
           "220607_092050_Plate_1",
           "C5",
           "Amiodarone",
           1
          ],
          [
           "220607_092050_Plate_1",
           "C7",
           "Cyclophosphamide",
           1
          ],
          [
           "220608_152238_Plate_1",
           "D3",
           "Aspirin",
           1
          ],
          [
           "220617_090443_Plate_1",
           "C5",
           "Amiodarone",
           1
          ],
          [
           "220617_090443_Plate_1",
           "C7",
           "Cyclophosphamide",
           1
          ],
          [
           "220608_152238_Plate_1",
           "G3",
           "Lovastatin",
           1
          ],
          [
           "220607_092050_Plate_1",
           "D3",
           "Aspirin",
           1
          ],
          [
           "220608_152238_Plate_1",
           "C7",
           "Cyclophosphamide",
           1
          ],
          [
           "220608_152238_Plate_1",
           "D5",
           "Amiodarone",
           1
          ],
          [
           "220608_152238_Plate_1",
           "C5",
           "Amiodarone",
           1
          ],
          [
           "220608_152238_Plate_1",
           "D7",
           "Cyclophosphamide",
           1
          ],
          [
           "220607_092050_Plate_1",
           "D7",
           "Cyclophosphamide",
           1
          ],
          [
           "220607_092050_Plate_1",
           "D5",
           "Amiodarone",
           1
          ],
          [
           "231011_183822_Plate_1",
           "E7",
           "Amiodarone",
           1
          ],
          [
           "231006_132517_Plate_1",
           "E10",
           "Cyclophosphamide",
           1
          ],
          [
           "231006_132517_Plate_1",
           "C3",
           "Lovastatin",
           1
          ],
          [
           "231011_183822_Plate_1",
           "E6",
           "Amiodarone",
           1
          ],
          [
           "231006_132517_Plate_1",
           "G5",
           "Aspirin",
           1
          ],
          [
           "231011_183822_Plate_1",
           "E10",
           "Lovastatin",
           1
          ],
          [
           "220617_090443_Plate_1",
           "D5",
           "Amiodarone",
           1
          ],
          [
           "231011_183822_Plate_1",
           "G10",
           "Lovastatin",
           1
          ],
          [
           "231011_183822_Plate_1",
           "F10",
           "Lovastatin",
           1
          ],
          [
           "220617_090443_Plate_1",
           "D7",
           "Cyclophosphamide",
           1
          ],
          [
           "220607_092050_Plate_1",
           "G4",
           "Lovastatin",
           10
          ],
          [
           "220608_152238_Plate_1",
           "D8",
           "Cyclophosphamide",
           10
          ],
          [
           "220607_092050_Plate_1",
           "D8",
           "Cyclophosphamide",
           10
          ],
          [
           "220607_092050_Plate_1",
           "D6",
           "Amiodarone",
           10
          ],
          [
           "220608_152238_Plate_1",
           "C6",
           "Amiodarone",
           10
          ],
          [
           "231011_183822_Plate_1",
           "G11",
           "Lovastatin",
           10
          ],
          [
           "231006_132517_Plate_1",
           "B6",
           "Amiodarone",
           10
          ],
          [
           "220617_090443_Plate_1",
           "D4",
           "Aspirin",
           10
          ],
          [
           "220608_152238_Plate_1",
           "B6",
           "Amiodarone",
           10
          ],
          [
           "231006_132517_Plate_1",
           "B7",
           "Amiodarone",
           10
          ],
          [
           "231011_183822_Plate_1",
           "E2",
           "Amiodarone",
           10
          ],
          [
           "231011_183822_Plate_1",
           "E3",
           "Amiodarone",
           10
          ],
          [
           "231011_183822_Plate_1",
           "E4",
           "Amiodarone",
           10
          ],
          [
           "231011_183822_Plate_1",
           "E11",
           "Lovastatin",
           10
          ],
          [
           "231011_183822_Plate_1",
           "F11",
           "Lovastatin",
           10
          ],
          [
           "220617_090443_Plate_1",
           "D8",
           "Cyclophosphamide",
           10
          ],
          [
           "220617_090443_Plate_1",
           "D6",
           "Amiodarone",
           10
          ],
          [
           "231011_183822_Plate_1",
           "D11",
           "Lovastatin",
           10
          ],
          [
           "220608_152238_Plate_1",
           "C4",
           "Aspirin",
           10
          ],
          [
           "220608_152238_Plate_1",
           "D4",
           "Aspirin",
           10
          ],
          [
           "220607_092050_Plate_1",
           "C6",
           "Amiodarone",
           10
          ],
          [
           "220617_090443_Plate_1",
           "C6",
           "Amiodarone",
           10
          ],
          [
           "220617_090443_Plate_1",
           "C8",
           "Cyclophosphamide",
           10
          ],
          [
           "220607_092050_Plate_1",
           "C8",
           "Cyclophosphamide",
           10
          ],
          [
           "220607_092050_Plate_1",
           "D4",
           "Aspirin",
           10
          ],
          [
           "220608_152238_Plate_1",
           "C8",
           "Cyclophosphamide",
           10
          ],
          [
           "220608_152238_Plate_1",
           "D6",
           "Amiodarone",
           10
          ]
         ],
         "hovertemplate": "colors_plot_col=2<br>0=%{x}<br>1=%{y}<br>2=%{z}<br>Metadata_size=%{marker.size}<br>Metadata_Plate=%{customdata[0]}<br>Metadata_Well=%{customdata[1]}<br>Metadata_compound=%{customdata[2]}<br>Metadata_concentration_uM=%{customdata[3]}<extra></extra>",
         "legendgroup": "2",
         "marker": {
          "color": "rgb(242,211,56)",
          "size": [
           1,
           1,
           1,
           1,
           1,
           1,
           1,
           1,
           1,
           1,
           1,
           1,
           1,
           1,
           1,
           1,
           1,
           1,
           1,
           1,
           1,
           1,
           1,
           10,
           10,
           10,
           10,
           10,
           10,
           10,
           10,
           10,
           10,
           10,
           10,
           10,
           10,
           10,
           10,
           10,
           10,
           10,
           10,
           10,
           10,
           10,
           10,
           10,
           10,
           10
          ],
          "sizemode": "area",
          "sizeref": 0.025,
          "symbol": "circle"
         },
         "mode": "markers",
         "name": "2",
         "scene": "scene",
         "showlegend": true,
         "type": "scatter3d",
         "x": [
          -8.446744918823242,
          -8.408994674682617,
          -7.855020046234131,
          -8.372976303100586,
          -8.56545352935791,
          -6.319253921508789,
          -7.658571720123291,
          -9.401649475097656,
          -7.863189220428467,
          -8.240806579589844,
          -7.048961162567139,
          -8.860817909240723,
          -7.915158748626709,
          -7.591147422790527,
          -7.161562442779541,
          -7.1265153884887695,
          -6.131176948547363,
          -9.177544593811035,
          -7.160217761993408,
          -7.150023937225342,
          -7.671792984008789,
          -7.720825672149658,
          -8.469596862792969,
          -7.340573787689209,
          -7.842132091522217,
          -8.503905296325684,
          -8.728569030761719,
          -8.668242454528809,
          -7.493622303009033,
          -8.159483909606934,
          -8.096364974975586,
          -9.022738456726074,
          -7.878481388092041,
          -8.476197242736816,
          -8.155862808227539,
          -8.605202674865723,
          -7.1883745193481445,
          -7.367154598236084,
          -8.216763496398926,
          -7.432982921600342,
          -7.065604209899902,
          -7.897002696990967,
          -7.6866679191589355,
          -8.70971965789795,
          -8.236898422241211,
          -8.801607131958008,
          -9.007538795471191,
          -7.855255603790283,
          -9.136680603027344,
          -8.064493179321289
         ],
         "y": [
          9.945213317871094,
          9.292548179626465,
          8.90451717376709,
          9.540129661560059,
          9.875085830688477,
          9.550179481506348,
          8.916022300720215,
          10.839363098144531,
          9.726753234863281,
          10.228019714355469,
          9.053223609924316,
          9.473564147949219,
          10.106965065002441,
          9.161370277404785,
          10.260165214538574,
          10.131874084472656,
          10.132148742675781,
          10.327057838439941,
          9.951658248901367,
          9.140227317810059,
          9.455475807189941,
          10.103117942810059,
          9.148902893066406,
          11.105461120605469,
          9.183876037597656,
          9.002938270568848,
          9.492668151855469,
          10.648648262023926,
          10.124792098999023,
          11.02713394165039,
          9.02687931060791,
          10.6334810256958,
          10.88464641571045,
          10.133308410644531,
          10.346839904785156,
          9.756172180175781,
          10.425169944763184,
          9.43648624420166,
          9.285889625549316,
          9.744292259216309,
          9.722084045410156,
          9.581085205078125,
          9.672310829162598,
          9.972017288208008,
          10.467001914978027,
          9.637694358825684,
          10.855679512023926,
          8.995055198669434,
          10.033391952514648,
          10.235321998596191
         ],
         "z": [
          11.845132827758789,
          10.759971618652344,
          10.881996154785156,
          10.822198867797852,
          10.69009780883789,
          11.444737434387207,
          10.3125638961792,
          11.26941204071045,
          11.050117492675781,
          11.031059265136719,
          11.905116081237793,
          11.2897310256958,
          11.259664535522461,
          11.1996431350708,
          11.022377967834473,
          10.522299766540527,
          10.705105781555176,
          11.079780578613281,
          9.796660423278809,
          12.331584930419922,
          9.782012939453125,
          9.758573532104492,
          11.613564491271973,
          9.596916198730469,
          12.035455703735352,
          12.209924697875977,
          10.580924987792969,
          10.369897842407227,
          9.563569068908691,
          11.331202507019043,
          12.264776229858398,
          10.95883560180664,
          11.253288269042969,
          9.626401901245117,
          9.987089157104492,
          9.747124671936035,
          9.653722763061523,
          10.048392295837402,
          11.823115348815918,
          10.778042793273926,
          9.931092262268066,
          10.232154846191406,
          11.593072891235352,
          10.285002708435059,
          10.183326721191406,
          11.704141616821289,
          11.220113754272461,
          10.70678424835205,
          11.381566047668457,
          10.631843566894531
         ]
        },
        {
         "customdata": [
          [
           "220608_152238_Plate_1",
           "F3",
           "Lovastatin",
           1
          ],
          [
           "231011_183822_Plate_1",
           "C8",
           "Cyclophosphamide",
           1
          ],
          [
           "231011_183822_Plate_1",
           "C6",
           "Cyclophosphamide",
           1
          ],
          [
           "231006_132517_Plate_1",
           "C4",
           "Lovastatin",
           1
          ],
          [
           "220608_152238_Plate_1",
           "B3",
           "Aspirin",
           1
          ],
          [
           "231011_183822_Plate_1",
           "B9",
           "Aspirin",
           1
          ],
          [
           "220608_152238_Plate_1",
           "B5",
           "Amiodarone",
           1
          ],
          [
           "220608_152238_Plate_1",
           "B7",
           "Cyclophosphamide",
           1
          ],
          [
           "220608_152238_Plate_1",
           "B9",
           "Etoposide",
           1
          ],
          [
           "231006_132517_Plate_1",
           "D10",
           "Cyclophosphamide",
           1
          ],
          [
           "231006_132517_Plate_1",
           "G4",
           "Aspirin",
           1
          ],
          [
           "231006_132517_Plate_1",
           "C2",
           "Lovastatin",
           1
          ],
          [
           "220617_090443_Plate_1",
           "B7",
           "Cyclophosphamide",
           1
          ],
          [
           "231011_183822_Plate_1",
           "G6",
           "Etoposide",
           1
          ],
          [
           "220617_090443_Plate_1",
           "C3",
           "Aspirin",
           1
          ],
          [
           "220617_090443_Plate_1",
           "B3",
           "Aspirin",
           1
          ],
          [
           "220607_092050_Plate_1",
           "B7",
           "Cyclophosphamide",
           1
          ],
          [
           "220607_092050_Plate_1",
           "B5",
           "Amiodarone",
           1
          ],
          [
           "231006_132517_Plate_1",
           "B2",
           "Amiodarone",
           1
          ],
          [
           "220617_090443_Plate_1",
           "B5",
           "Amiodarone",
           1
          ],
          [
           "231006_132517_Plate_1",
           "B3",
           "Amiodarone",
           1
          ],
          [
           "220607_092050_Plate_1",
           "B3",
           "Aspirin",
           1
          ],
          [
           "220607_092050_Plate_1",
           "C4",
           "Aspirin",
           10
          ],
          [
           "220617_090443_Plate_1",
           "B4",
           "Aspirin",
           10
          ],
          [
           "220607_092050_Plate_1",
           "B8",
           "Cyclophosphamide",
           10
          ],
          [
           "220607_092050_Plate_1",
           "B4",
           "Aspirin",
           10
          ],
          [
           "231006_132517_Plate_1",
           "B9",
           "Amiodarone",
           10
          ],
          [
           "231006_132517_Plate_1",
           "C7",
           "Lovastatin",
           10
          ],
          [
           "220608_152238_Plate_1",
           "B4",
           "Aspirin",
           10
          ],
          [
           "231006_132517_Plate_1",
           "C9",
           "Lovastatin",
           10
          ],
          [
           "220608_152238_Plate_1",
           "B8",
           "Cyclophosphamide",
           10
          ],
          [
           "220607_092050_Plate_1",
           "B6",
           "Amiodarone",
           10
          ],
          [
           "231006_132517_Plate_1",
           "G9",
           "Aspirin",
           10
          ],
          [
           "231006_132517_Plate_1",
           "G6",
           "Aspirin",
           10
          ],
          [
           "231006_132517_Plate_1",
           "D11",
           "Cyclophosphamide",
           10
          ],
          [
           "231006_132517_Plate_1",
           "B8",
           "Amiodarone",
           10
          ],
          [
           "220608_152238_Plate_1",
           "G4",
           "Lovastatin",
           10
          ],
          [
           "220617_090443_Plate_1",
           "C4",
           "Aspirin",
           10
          ],
          [
           "220617_090443_Plate_1",
           "B8",
           "Cyclophosphamide",
           10
          ],
          [
           "231006_132517_Plate_1",
           "G7",
           "Aspirin",
           10
          ]
         ],
         "hovertemplate": "colors_plot_col=4<br>0=%{x}<br>1=%{y}<br>2=%{z}<br>Metadata_size=%{marker.size}<br>Metadata_Plate=%{customdata[0]}<br>Metadata_Well=%{customdata[1]}<br>Metadata_compound=%{customdata[2]}<br>Metadata_concentration_uM=%{customdata[3]}<extra></extra>",
         "legendgroup": "4",
         "marker": {
          "color": "rgb(242,143,56)",
          "size": [
           1,
           1,
           1,
           1,
           1,
           1,
           1,
           1,
           1,
           1,
           1,
           1,
           1,
           1,
           1,
           1,
           1,
           1,
           1,
           1,
           1,
           1,
           10,
           10,
           10,
           10,
           10,
           10,
           10,
           10,
           10,
           10,
           10,
           10,
           10,
           10,
           10,
           10,
           10,
           10
          ],
          "sizemode": "area",
          "sizeref": 0.025,
          "symbol": "circle"
         },
         "mode": "markers",
         "name": "4",
         "scene": "scene",
         "showlegend": true,
         "type": "scatter3d",
         "x": [
          -9.052519798278809,
          -7.100708484649658,
          -8.183810234069824,
          -7.675802230834961,
          -8.898588180541992,
          -7.924680233001709,
          -8.957853317260742,
          -8.832205772399902,
          -6.745483875274658,
          -7.445383071899414,
          -7.1618852615356445,
          -6.7762556076049805,
          -7.179068565368652,
          -6.447895526885986,
          -9.2076997756958,
          -7.506039619445801,
          -7.894561767578125,
          -9.234428405761719,
          -8.184111595153809,
          -8.006410598754883,
          -8.342552185058594,
          -8.305229187011719,
          -7.8471903800964355,
          -7.879251480102539,
          -8.470163345336914,
          -8.384702682495117,
          -8.487245559692383,
          -7.102721691131592,
          -8.518716812133789,
          -7.2177934646606445,
          -8.591285705566406,
          -6.835235118865967,
          -7.294435977935791,
          -7.4929890632629395,
          -6.434640884399414,
          -8.163453102111816,
          -5.994183540344238,
          -6.941853046417236,
          -7.715116024017334,
          -6.865506649017334
         ],
         "y": [
          11.61962604522705,
          11.4608793258667,
          9.599973678588867,
          12.224407196044922,
          11.245870590209961,
          10.624966621398926,
          10.460415840148926,
          10.822043418884277,
          10.94021987915039,
          10.426026344299316,
          11.30154800415039,
          11.648233413696289,
          12.376977920532227,
          10.838194847106934,
          11.228677749633789,
          11.36163330078125,
          11.056879043579102,
          11.11230182647705,
          11.493890762329102,
          11.131767272949219,
          11.6013822555542,
          10.515686988830566,
          11.019098281860352,
          11.738343238830566,
          10.826896667480469,
          10.221710205078125,
          10.466469764709473,
          11.960901260375977,
          11.40884017944336,
          12.146668434143066,
          10.99753189086914,
          9.931632995605469,
          9.462615013122559,
          11.607137680053711,
          9.734800338745117,
          10.312039375305176,
          10.428625106811523,
          9.35111141204834,
          11.477193832397461,
          11.317327499389648
         ],
         "z": [
          11.40237045288086,
          13.169781684875488,
          12.428874969482422,
          12.446588516235352,
          13.047789573669434,
          12.411314964294434,
          12.190003395080566,
          12.884217262268066,
          13.719221115112305,
          12.472472190856934,
          12.292540550231934,
          11.4422025680542,
          13.715699195861816,
          11.608189582824707,
          11.707159042358398,
          13.703425407409668,
          13.102195739746094,
          12.273456573486328,
          12.200719833374023,
          13.565346717834473,
          12.405584335327148,
          13.448060035705566,
          12.084290504455566,
          13.703913688659668,
          13.444941520690918,
          12.903631210327148,
          11.805120468139648,
          12.472955703735352,
          13.210577011108398,
          12.846502304077148,
          12.438804626464844,
          12.853394508361816,
          12.812005996704102,
          12.058019638061523,
          12.084436416625977,
          12.227967262268066,
          12.133197784423828,
          12.510741233825684,
          12.967365264892578,
          12.421446800231934
         ]
        },
        {
         "customdata": [
          [
           "231011_183822_Plate_1",
           "E8",
           "Amiodarone",
           1
          ],
          [
           "220617_090443_Plate_1",
           "F3",
           "Lovastatin",
           1
          ],
          [
           "231006_132517_Plate_1",
           "G2",
           "Aspirin",
           1
          ],
          [
           "220617_090443_Plate_1",
           "D3",
           "Aspirin",
           1
          ],
          [
           "231006_132517_Plate_1",
           "B4",
           "Amiodarone",
           1
          ],
          [
           "231006_132517_Plate_1",
           "G3",
           "Aspirin",
           1
          ],
          [
           "231011_183822_Plate_1",
           "D10",
           "Lovastatin",
           1
          ],
          [
           "220608_152238_Plate_1",
           "E3",
           "Lovastatin",
           1
          ],
          [
           "231011_183822_Plate_1",
           "E9",
           "Amiodarone",
           1
          ],
          [
           "231006_132517_Plate_1",
           "E3",
           "Etoposide",
           1
          ],
          [
           "220607_092050_Plate_1",
           "G3",
           "Lovastatin",
           1
          ],
          [
           "220617_090443_Plate_1",
           "G3",
           "Lovastatin",
           1
          ],
          [
           "220607_092050_Plate_1",
           "E3",
           "Lovastatin",
           1
          ],
          [
           "220607_092050_Plate_1",
           "F3",
           "Lovastatin",
           1
          ],
          [
           "220617_090443_Plate_1",
           "E3",
           "Lovastatin",
           1
          ],
          [
           "231006_132517_Plate_1",
           "E4",
           "Etoposide",
           1
          ],
          [
           "220617_090443_Plate_1",
           "E6",
           "Orphenadrine",
           10
          ],
          [
           "220617_090443_Plate_1",
           "E4",
           "Lovastatin",
           10
          ],
          [
           "231006_132517_Plate_1",
           "F8",
           "Orphenadrine",
           10
          ],
          [
           "220607_092050_Plate_1",
           "G6",
           "Orphenadrine",
           10
          ],
          [
           "220617_090443_Plate_1",
           "F4",
           "Lovastatin",
           10
          ],
          [
           "220617_090443_Plate_1",
           "F6",
           "Orphenadrine",
           10
          ],
          [
           "231011_183822_Plate_1",
           "E5",
           "Amiodarone",
           10
          ],
          [
           "231011_183822_Plate_1",
           "D5",
           "Orphenadrine",
           10
          ],
          [
           "231011_183822_Plate_1",
           "D4",
           "Orphenadrine",
           10
          ],
          [
           "231011_183822_Plate_1",
           "D2",
           "Orphenadrine",
           10
          ],
          [
           "231011_183822_Plate_1",
           "D3",
           "Orphenadrine",
           10
          ],
          [
           "220607_092050_Plate_1",
           "F4",
           "Lovastatin",
           10
          ],
          [
           "220607_092050_Plate_1",
           "F6",
           "Orphenadrine",
           10
          ],
          [
           "220617_090443_Plate_1",
           "G4",
           "Lovastatin",
           10
          ],
          [
           "231006_132517_Plate_1",
           "F7",
           "Orphenadrine",
           10
          ],
          [
           "220607_092050_Plate_1",
           "E4",
           "Lovastatin",
           10
          ],
          [
           "231006_132517_Plate_1",
           "F6",
           "Orphenadrine",
           10
          ],
          [
           "220617_090443_Plate_1",
           "G6",
           "Orphenadrine",
           10
          ],
          [
           "231006_132517_Plate_1",
           "C6",
           "Lovastatin",
           10
          ],
          [
           "220608_152238_Plate_1",
           "G6",
           "Orphenadrine",
           10
          ],
          [
           "220608_152238_Plate_1",
           "F6",
           "Orphenadrine",
           10
          ],
          [
           "231006_132517_Plate_1",
           "F9",
           "Orphenadrine",
           10
          ],
          [
           "220608_152238_Plate_1",
           "F4",
           "Lovastatin",
           10
          ],
          [
           "220608_152238_Plate_1",
           "E6",
           "Orphenadrine",
           10
          ]
         ],
         "hovertemplate": "colors_plot_col=1<br>0=%{x}<br>1=%{y}<br>2=%{z}<br>Metadata_size=%{marker.size}<br>Metadata_Plate=%{customdata[0]}<br>Metadata_Well=%{customdata[1]}<br>Metadata_compound=%{customdata[2]}<br>Metadata_concentration_uM=%{customdata[3]}<extra></extra>",
         "legendgroup": "1",
         "marker": {
          "color": "rgb(217,30,30)",
          "size": [
           1,
           1,
           1,
           1,
           1,
           1,
           1,
           1,
           1,
           1,
           1,
           1,
           1,
           1,
           1,
           1,
           10,
           10,
           10,
           10,
           10,
           10,
           10,
           10,
           10,
           10,
           10,
           10,
           10,
           10,
           10,
           10,
           10,
           10,
           10,
           10,
           10,
           10,
           10,
           10
          ],
          "sizemode": "area",
          "sizeref": 0.025,
          "symbol": "circle"
         },
         "mode": "markers",
         "name": "1",
         "scene": "scene",
         "showlegend": true,
         "type": "scatter3d",
         "x": [
          -5.074450492858887,
          -5.999402046203613,
          -6.044436454772949,
          -5.392139911651611,
          -5.221851348876953,
          -6.141969203948975,
          -6.006046295166016,
          -5.145493030548096,
          -4.728817462921143,
          -4.408970355987549,
          -6.467528820037842,
          -6.875823497772217,
          -5.8173089027404785,
          -6.043361663818359,
          -5.844082832336426,
          -4.52669095993042,
          -4.203384876251221,
          -6.099396228790283,
          -4.027113437652588,
          -3.8984057903289795,
          -6.116626739501953,
          -4.139129161834717,
          -5.096938133239746,
          -3.8533670902252197,
          -3.8857996463775635,
          -4.315003871917725,
          -3.8653881549835205,
          -5.003383636474609,
          -3.9225873947143555,
          -6.511688232421875,
          -4.046666145324707,
          -5.989868640899658,
          -4.357346057891846,
          -4.0080156326293945,
          -4.968642711639404,
          -4.448009967803955,
          -4.023697376251221,
          -4.079036712646484,
          -5.300235748291016,
          -4.419052600860596
         ],
         "y": [
          12.752233505249023,
          12.031678199768066,
          11.02487564086914,
          10.035767555236816,
          10.955506324768066,
          10.900169372558594,
          11.49612045288086,
          11.7781343460083,
          13.042845726013184,
          10.625038146972656,
          11.929925918579102,
          11.779454231262207,
          12.358135223388672,
          11.780735969543457,
          12.438501358032227,
          10.525548934936523,
          13.412981986999512,
          12.278141975402832,
          11.787435531616211,
          12.231971740722656,
          11.645208358764648,
          12.369955062866211,
          10.236089706420898,
          13.098387718200684,
          13.452552795410156,
          12.986595153808594,
          13.133099555969238,
          10.862237930297852,
          12.167196273803711,
          11.047674179077148,
          11.483270645141602,
          11.629951477050781,
          11.565428733825684,
          12.65344524383545,
          10.387474060058594,
          12.500890731811523,
          12.709983825683594,
          11.50222396850586,
          11.723109245300293,
          13.432150840759277
         ],
         "z": [
          10.283103942871094,
          9.68005657196045,
          11.1786470413208,
          10.70764446258545,
          11.232198715209961,
          11.297816276550293,
          9.974495887756348,
          10.263647079467773,
          10.080619812011719,
          11.144266128540039,
          9.343390464782715,
          9.843049049377441,
          9.740331649780273,
          9.537040710449219,
          10.261475563049316,
          10.938987731933594,
          10.700019836425781,
          10.167821884155273,
          9.478180885314941,
          9.569250106811523,
          10.158018112182617,
          10.015449523925781,
          10.544883728027344,
          10.106293678283691,
          10.551115989685059,
          9.995637893676758,
          10.176427841186523,
          10.4589204788208,
          9.821680068969727,
          9.772004127502441,
          10.050468444824219,
          10.8796968460083,
          10.062126159667969,
          9.744972229003906,
          10.872984886169434,
          9.47684383392334,
          10.297706604003906,
          9.677579879760742,
          9.674287796020508,
          10.8750638961792
         ]
        }
       ],
       "layout": {
        "autosize": false,
        "font": {
         "size": 18
        },
        "height": 700,
        "legend": {
         "itemsizing": "constant",
         "title": {
          "text": "Metadata_kmeans_label"
         },
         "tracegroupgap": 0
        },
        "margin": {
         "b": 20,
         "l": 50,
         "pad": 4,
         "r": 50,
         "t": 50
        },
        "scene": {
         "domain": {
          "x": [
           0,
           1
          ],
          "y": [
           0,
           1
          ]
         },
         "xaxis": {
          "title": {
           "text": "0"
          }
         },
         "yaxis": {
          "title": {
           "text": "1"
          }
         },
         "zaxis": {
          "title": {
           "text": "2"
          }
         }
        },
        "template": {
         "data": {
          "bar": [
           {
            "error_x": {
             "color": "#2a3f5f"
            },
            "error_y": {
             "color": "#2a3f5f"
            },
            "marker": {
             "line": {
              "color": "#E5ECF6",
              "width": 0.5
             },
             "pattern": {
              "fillmode": "overlay",
              "size": 10,
              "solidity": 0.2
             }
            },
            "type": "bar"
           }
          ],
          "barpolar": [
           {
            "marker": {
             "line": {
              "color": "#E5ECF6",
              "width": 0.5
             },
             "pattern": {
              "fillmode": "overlay",
              "size": 10,
              "solidity": 0.2
             }
            },
            "type": "barpolar"
           }
          ],
          "carpet": [
           {
            "aaxis": {
             "endlinecolor": "#2a3f5f",
             "gridcolor": "white",
             "linecolor": "white",
             "minorgridcolor": "white",
             "startlinecolor": "#2a3f5f"
            },
            "baxis": {
             "endlinecolor": "#2a3f5f",
             "gridcolor": "white",
             "linecolor": "white",
             "minorgridcolor": "white",
             "startlinecolor": "#2a3f5f"
            },
            "type": "carpet"
           }
          ],
          "choropleth": [
           {
            "colorbar": {
             "outlinewidth": 0,
             "ticks": ""
            },
            "type": "choropleth"
           }
          ],
          "contour": [
           {
            "colorbar": {
             "outlinewidth": 0,
             "ticks": ""
            },
            "colorscale": [
             [
              0,
              "#0d0887"
             ],
             [
              0.1111111111111111,
              "#46039f"
             ],
             [
              0.2222222222222222,
              "#7201a8"
             ],
             [
              0.3333333333333333,
              "#9c179e"
             ],
             [
              0.4444444444444444,
              "#bd3786"
             ],
             [
              0.5555555555555556,
              "#d8576b"
             ],
             [
              0.6666666666666666,
              "#ed7953"
             ],
             [
              0.7777777777777778,
              "#fb9f3a"
             ],
             [
              0.8888888888888888,
              "#fdca26"
             ],
             [
              1,
              "#f0f921"
             ]
            ],
            "type": "contour"
           }
          ],
          "contourcarpet": [
           {
            "colorbar": {
             "outlinewidth": 0,
             "ticks": ""
            },
            "type": "contourcarpet"
           }
          ],
          "heatmap": [
           {
            "colorbar": {
             "outlinewidth": 0,
             "ticks": ""
            },
            "colorscale": [
             [
              0,
              "#0d0887"
             ],
             [
              0.1111111111111111,
              "#46039f"
             ],
             [
              0.2222222222222222,
              "#7201a8"
             ],
             [
              0.3333333333333333,
              "#9c179e"
             ],
             [
              0.4444444444444444,
              "#bd3786"
             ],
             [
              0.5555555555555556,
              "#d8576b"
             ],
             [
              0.6666666666666666,
              "#ed7953"
             ],
             [
              0.7777777777777778,
              "#fb9f3a"
             ],
             [
              0.8888888888888888,
              "#fdca26"
             ],
             [
              1,
              "#f0f921"
             ]
            ],
            "type": "heatmap"
           }
          ],
          "heatmapgl": [
           {
            "colorbar": {
             "outlinewidth": 0,
             "ticks": ""
            },
            "colorscale": [
             [
              0,
              "#0d0887"
             ],
             [
              0.1111111111111111,
              "#46039f"
             ],
             [
              0.2222222222222222,
              "#7201a8"
             ],
             [
              0.3333333333333333,
              "#9c179e"
             ],
             [
              0.4444444444444444,
              "#bd3786"
             ],
             [
              0.5555555555555556,
              "#d8576b"
             ],
             [
              0.6666666666666666,
              "#ed7953"
             ],
             [
              0.7777777777777778,
              "#fb9f3a"
             ],
             [
              0.8888888888888888,
              "#fdca26"
             ],
             [
              1,
              "#f0f921"
             ]
            ],
            "type": "heatmapgl"
           }
          ],
          "histogram": [
           {
            "marker": {
             "pattern": {
              "fillmode": "overlay",
              "size": 10,
              "solidity": 0.2
             }
            },
            "type": "histogram"
           }
          ],
          "histogram2d": [
           {
            "colorbar": {
             "outlinewidth": 0,
             "ticks": ""
            },
            "colorscale": [
             [
              0,
              "#0d0887"
             ],
             [
              0.1111111111111111,
              "#46039f"
             ],
             [
              0.2222222222222222,
              "#7201a8"
             ],
             [
              0.3333333333333333,
              "#9c179e"
             ],
             [
              0.4444444444444444,
              "#bd3786"
             ],
             [
              0.5555555555555556,
              "#d8576b"
             ],
             [
              0.6666666666666666,
              "#ed7953"
             ],
             [
              0.7777777777777778,
              "#fb9f3a"
             ],
             [
              0.8888888888888888,
              "#fdca26"
             ],
             [
              1,
              "#f0f921"
             ]
            ],
            "type": "histogram2d"
           }
          ],
          "histogram2dcontour": [
           {
            "colorbar": {
             "outlinewidth": 0,
             "ticks": ""
            },
            "colorscale": [
             [
              0,
              "#0d0887"
             ],
             [
              0.1111111111111111,
              "#46039f"
             ],
             [
              0.2222222222222222,
              "#7201a8"
             ],
             [
              0.3333333333333333,
              "#9c179e"
             ],
             [
              0.4444444444444444,
              "#bd3786"
             ],
             [
              0.5555555555555556,
              "#d8576b"
             ],
             [
              0.6666666666666666,
              "#ed7953"
             ],
             [
              0.7777777777777778,
              "#fb9f3a"
             ],
             [
              0.8888888888888888,
              "#fdca26"
             ],
             [
              1,
              "#f0f921"
             ]
            ],
            "type": "histogram2dcontour"
           }
          ],
          "mesh3d": [
           {
            "colorbar": {
             "outlinewidth": 0,
             "ticks": ""
            },
            "type": "mesh3d"
           }
          ],
          "parcoords": [
           {
            "line": {
             "colorbar": {
              "outlinewidth": 0,
              "ticks": ""
             }
            },
            "type": "parcoords"
           }
          ],
          "pie": [
           {
            "automargin": true,
            "type": "pie"
           }
          ],
          "scatter": [
           {
            "fillpattern": {
             "fillmode": "overlay",
             "size": 10,
             "solidity": 0.2
            },
            "type": "scatter"
           }
          ],
          "scatter3d": [
           {
            "line": {
             "colorbar": {
              "outlinewidth": 0,
              "ticks": ""
             }
            },
            "marker": {
             "colorbar": {
              "outlinewidth": 0,
              "ticks": ""
             }
            },
            "type": "scatter3d"
           }
          ],
          "scattercarpet": [
           {
            "marker": {
             "colorbar": {
              "outlinewidth": 0,
              "ticks": ""
             }
            },
            "type": "scattercarpet"
           }
          ],
          "scattergeo": [
           {
            "marker": {
             "colorbar": {
              "outlinewidth": 0,
              "ticks": ""
             }
            },
            "type": "scattergeo"
           }
          ],
          "scattergl": [
           {
            "marker": {
             "colorbar": {
              "outlinewidth": 0,
              "ticks": ""
             }
            },
            "type": "scattergl"
           }
          ],
          "scattermapbox": [
           {
            "marker": {
             "colorbar": {
              "outlinewidth": 0,
              "ticks": ""
             }
            },
            "type": "scattermapbox"
           }
          ],
          "scatterpolar": [
           {
            "marker": {
             "colorbar": {
              "outlinewidth": 0,
              "ticks": ""
             }
            },
            "type": "scatterpolar"
           }
          ],
          "scatterpolargl": [
           {
            "marker": {
             "colorbar": {
              "outlinewidth": 0,
              "ticks": ""
             }
            },
            "type": "scatterpolargl"
           }
          ],
          "scatterternary": [
           {
            "marker": {
             "colorbar": {
              "outlinewidth": 0,
              "ticks": ""
             }
            },
            "type": "scatterternary"
           }
          ],
          "surface": [
           {
            "colorbar": {
             "outlinewidth": 0,
             "ticks": ""
            },
            "colorscale": [
             [
              0,
              "#0d0887"
             ],
             [
              0.1111111111111111,
              "#46039f"
             ],
             [
              0.2222222222222222,
              "#7201a8"
             ],
             [
              0.3333333333333333,
              "#9c179e"
             ],
             [
              0.4444444444444444,
              "#bd3786"
             ],
             [
              0.5555555555555556,
              "#d8576b"
             ],
             [
              0.6666666666666666,
              "#ed7953"
             ],
             [
              0.7777777777777778,
              "#fb9f3a"
             ],
             [
              0.8888888888888888,
              "#fdca26"
             ],
             [
              1,
              "#f0f921"
             ]
            ],
            "type": "surface"
           }
          ],
          "table": [
           {
            "cells": {
             "fill": {
              "color": "#EBF0F8"
             },
             "line": {
              "color": "white"
             }
            },
            "header": {
             "fill": {
              "color": "#C8D4E3"
             },
             "line": {
              "color": "white"
             }
            },
            "type": "table"
           }
          ]
         },
         "layout": {
          "annotationdefaults": {
           "arrowcolor": "#2a3f5f",
           "arrowhead": 0,
           "arrowwidth": 1
          },
          "autotypenumbers": "strict",
          "coloraxis": {
           "colorbar": {
            "outlinewidth": 0,
            "ticks": ""
           }
          },
          "colorscale": {
           "diverging": [
            [
             0,
             "#8e0152"
            ],
            [
             0.1,
             "#c51b7d"
            ],
            [
             0.2,
             "#de77ae"
            ],
            [
             0.3,
             "#f1b6da"
            ],
            [
             0.4,
             "#fde0ef"
            ],
            [
             0.5,
             "#f7f7f7"
            ],
            [
             0.6,
             "#e6f5d0"
            ],
            [
             0.7,
             "#b8e186"
            ],
            [
             0.8,
             "#7fbc41"
            ],
            [
             0.9,
             "#4d9221"
            ],
            [
             1,
             "#276419"
            ]
           ],
           "sequential": [
            [
             0,
             "#0d0887"
            ],
            [
             0.1111111111111111,
             "#46039f"
            ],
            [
             0.2222222222222222,
             "#7201a8"
            ],
            [
             0.3333333333333333,
             "#9c179e"
            ],
            [
             0.4444444444444444,
             "#bd3786"
            ],
            [
             0.5555555555555556,
             "#d8576b"
            ],
            [
             0.6666666666666666,
             "#ed7953"
            ],
            [
             0.7777777777777778,
             "#fb9f3a"
            ],
            [
             0.8888888888888888,
             "#fdca26"
            ],
            [
             1,
             "#f0f921"
            ]
           ],
           "sequentialminus": [
            [
             0,
             "#0d0887"
            ],
            [
             0.1111111111111111,
             "#46039f"
            ],
            [
             0.2222222222222222,
             "#7201a8"
            ],
            [
             0.3333333333333333,
             "#9c179e"
            ],
            [
             0.4444444444444444,
             "#bd3786"
            ],
            [
             0.5555555555555556,
             "#d8576b"
            ],
            [
             0.6666666666666666,
             "#ed7953"
            ],
            [
             0.7777777777777778,
             "#fb9f3a"
            ],
            [
             0.8888888888888888,
             "#fdca26"
            ],
            [
             1,
             "#f0f921"
            ]
           ]
          },
          "colorway": [
           "#636efa",
           "#EF553B",
           "#00cc96",
           "#ab63fa",
           "#FFA15A",
           "#19d3f3",
           "#FF6692",
           "#B6E880",
           "#FF97FF",
           "#FECB52"
          ],
          "font": {
           "color": "#2a3f5f"
          },
          "geo": {
           "bgcolor": "white",
           "lakecolor": "white",
           "landcolor": "#E5ECF6",
           "showlakes": true,
           "showland": true,
           "subunitcolor": "white"
          },
          "hoverlabel": {
           "align": "left"
          },
          "hovermode": "closest",
          "mapbox": {
           "style": "light"
          },
          "paper_bgcolor": "white",
          "plot_bgcolor": "#E5ECF6",
          "polar": {
           "angularaxis": {
            "gridcolor": "white",
            "linecolor": "white",
            "ticks": ""
           },
           "bgcolor": "#E5ECF6",
           "radialaxis": {
            "gridcolor": "white",
            "linecolor": "white",
            "ticks": ""
           }
          },
          "scene": {
           "xaxis": {
            "backgroundcolor": "#E5ECF6",
            "gridcolor": "white",
            "gridwidth": 2,
            "linecolor": "white",
            "showbackground": true,
            "ticks": "",
            "zerolinecolor": "white"
           },
           "yaxis": {
            "backgroundcolor": "#E5ECF6",
            "gridcolor": "white",
            "gridwidth": 2,
            "linecolor": "white",
            "showbackground": true,
            "ticks": "",
            "zerolinecolor": "white"
           },
           "zaxis": {
            "backgroundcolor": "#E5ECF6",
            "gridcolor": "white",
            "gridwidth": 2,
            "linecolor": "white",
            "showbackground": true,
            "ticks": "",
            "zerolinecolor": "white"
           }
          },
          "shapedefaults": {
           "line": {
            "color": "#2a3f5f"
           }
          },
          "ternary": {
           "aaxis": {
            "gridcolor": "white",
            "linecolor": "white",
            "ticks": ""
           },
           "baxis": {
            "gridcolor": "white",
            "linecolor": "white",
            "ticks": ""
           },
           "bgcolor": "#E5ECF6",
           "caxis": {
            "gridcolor": "white",
            "linecolor": "white",
            "ticks": ""
           }
          },
          "title": {
           "x": 0.05
          },
          "xaxis": {
           "automargin": true,
           "gridcolor": "white",
           "linecolor": "white",
           "ticks": "",
           "title": {
            "standoff": 15
           },
           "zerolinecolor": "white",
           "zerolinewidth": 2
          },
          "yaxis": {
           "automargin": true,
           "gridcolor": "white",
           "linecolor": "white",
           "ticks": "",
           "title": {
            "standoff": 15
           },
           "zerolinecolor": "white",
           "zerolinewidth": 2
          }
         }
        },
        "title": {
         "text": "Size defined by Metadata_concentration_uM"
        },
        "updatemenus": [
         {
          "buttons": [
           {
            "args": [
             "visible",
             "legendonly"
            ],
            "label": "Deselect All",
            "method": "restyle"
           },
           {
            "args": [
             "visible",
             true
            ],
            "label": "Select All",
            "method": "restyle"
           }
          ],
          "direction": "left",
          "pad": {
           "r": 5,
           "t": 5
          },
          "showactive": true,
          "type": "buttons",
          "x": 1,
          "xanchor": "left",
          "y": 1.1,
          "yanchor": "top"
         }
        ],
        "width": 900
       }
      }
     },
     "metadata": {},
     "output_type": "display_data"
    }
   ],
   "source": [
    "df_3d[\"Metadata_kmeans_label\"] = kmeans_labels\n",
    "\n",
    "combat_util.plot_umap_3d(df_3d, color_col='Metadata_compound', \n",
    "                    #   split_df = False, split_column = None, np = None,\n",
    "                      hover_cols=hover_list,\n",
    "                      size=True, size_col = \"Metadata_concentration_uM\",\n",
    "                      # x=\"0\", y=\"1\",\n",
    "                      # error_x=\"x_err\", error_y=\"y_err\",\n",
    "                       dili_color=True\n",
    "                      )\n",
    "combat_util.plot_umap_3d(df_3d, color_col='Metadata_kmeans_label', \n",
    "                    #   split_df = False, split_column = None, np = None,\n",
    "                      hover_cols=hover_list,\n",
    "                      size=True, size_col = \"Metadata_concentration_uM\",\n",
    "                      # x=\"0\", y=\"1\",\n",
    "                      # error_x=\"x_err\", error_y=\"y_err\",\n",
    "                       discrete=True\n",
    "                      )"
   ]
  },
  {
   "cell_type": "code",
   "execution_count": 54,
   "metadata": {},
   "outputs": [
    {
     "name": "stdout",
     "output_type": "stream",
     "text": [
      "Adjusted Rand Index: 0.24099800304036645\n",
      "Normalized Mutual Information: 0.3382005423405503\n"
     ]
    }
   ],
   "source": [
    "from sklearn.metrics import adjusted_rand_score, normalized_mutual_info_score\n",
    "\n",
    "# Assuming y_true is the true cluster assignments and kmeans_labels is the predicted labels from K-means\n",
    "ari = adjusted_rand_score(y['Metadata_compound'], kmeans_labels)\n",
    "nmi = normalized_mutual_info_score(y['Metadata_compound'], kmeans_labels)\n",
    "\n",
    "print(\"Adjusted Rand Index:\", ari)\n",
    "print(\"Normalized Mutual Information:\", nmi)"
   ]
  }
 ],
 "metadata": {
  "kernelspec": {
   "display_name": "pycytominer",
   "language": "python",
   "name": "python3"
  },
  "language_info": {
   "codemirror_mode": {
    "name": "ipython",
    "version": 3
   },
   "file_extension": ".py",
   "mimetype": "text/x-python",
   "name": "python",
   "nbconvert_exporter": "python",
   "pygments_lexer": "ipython3",
   "version": "3.9.12"
  },
  "orig_nbformat": 4
 },
 "nbformat": 4,
 "nbformat_minor": 2
}
